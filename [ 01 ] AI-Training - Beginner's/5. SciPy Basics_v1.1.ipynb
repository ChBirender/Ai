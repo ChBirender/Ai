{
 "cells": [
  {
   "cell_type": "markdown",
   "id": "284da568-1e09-451a-9fe6-2c6b648eb170",
   "metadata": {},
   "source": [
    "# SciPy Introduction"
   ]
  },
  {
   "cell_type": "markdown",
   "id": "1771cd44-b28a-4327-8029-47faa0c85904",
   "metadata": {},
   "source": [
    "**What is SciPy?**  \n",
    "SciPy is a scientific computation library that uses NumPy underneath.\n",
    "\n",
    "SciPy stands for Scientific Python.\n",
    "\n",
    "It provides more utility functions for optimization, stats and signal processing.\n",
    "\n",
    "Like NumPy, SciPy is open source so we can use it freely.\n",
    "\n",
    "SciPy was created by NumPy's creator Travis Olliphant.\n",
    "\n",
    "**Why Use SciPy?**  \n",
    "If SciPy uses NumPy underneath, why can we not just use NumPy?\n",
    "\n",
    "SciPy has optimized and added functions that are frequently used in NumPy and Data Science.\n",
    "\n",
    "**Which Language is SciPy Written in?**  \n",
    "SciPy is predominantly written in Python, but a few segments are written in C.\n",
    "\n",
    "**Where is the SciPy Codebase?**  \n",
    "The source code for SciPy is located at this github repository https://github.com/scipy/scipy\n",
    "\n",
    "github: enables many people to work on the same codebase."
   ]
  },
  {
   "cell_type": "markdown",
   "id": "7f0b33b3-b856-4dd2-9a1c-dd0e3563576f",
   "metadata": {},
   "source": [
    "# Getting Started"
   ]
  },
  {
   "cell_type": "markdown",
   "id": "37574ae7-e2c3-4fb7-b05f-d2304c173d10",
   "metadata": {},
   "source": [
    "**Installation of SciPy**  \n",
    "If you have Python and PIP already installed on a system, then installation of SciPy is very easy.\n",
    "\n",
    "**Install it using this command:**  \n",
    "\n",
    "**pip install scipy**  \n",
    "If this command fails, then use a Python distribution that already has SciPy installed like, Anaconda, Spyder etc.\n",
    "\n",
    "**Import SciPy**  \n",
    "Once SciPy is installed, import the SciPy module(s) you want to use in your applications by adding the from scipy import module statement:\n",
    "\n",
    "**from scipy import constants**  \n",
    "Now we have imported the constants module from SciPy, and the application is ready to use it:\n",
    "\n",
    "**Example**  \n",
    "How many cubic meters are in one liter:"
   ]
  },
  {
   "cell_type": "code",
   "execution_count": 30,
   "id": "7fcfefa7-dede-4a58-96bd-3150148c1814",
   "metadata": {},
   "outputs": [
    {
     "name": "stdout",
     "output_type": "stream",
     "text": [
      "0.001\n"
     ]
    }
   ],
   "source": [
    "from scipy import constants\n",
    "\n",
    "print(constants.liter)"
   ]
  },
  {
   "cell_type": "markdown",
   "id": "6b11db53-0b01-4e39-9a0d-57a6f7f73c84",
   "metadata": {},
   "source": [
    ">constants: SciPy offers a set of mathematical constants, one of them is liter which returns 1 liter as cubic meters.  \n",
    "You will learn more about constants in the next chapter.\n",
    "\n",
    "**Checking SciPy Version**  \n",
    "The version string is stored under the __version__ attribute.\n",
    "\n",
    "**Example**  "
   ]
  },
  {
   "cell_type": "code",
   "execution_count": 31,
   "id": "1e17089d-4ff0-4cfb-9450-4bfdc281ab81",
   "metadata": {},
   "outputs": [
    {
     "name": "stdout",
     "output_type": "stream",
     "text": [
      "1.14.0\n"
     ]
    }
   ],
   "source": [
    "import scipy\n",
    "\n",
    "print(scipy.__version__)"
   ]
  },
  {
   "cell_type": "markdown",
   "id": "94f31ad5-8e1b-47f6-b201-d7819b082699",
   "metadata": {},
   "source": [
    ">Note: two underscore characters are used in __version__."
   ]
  },
  {
   "cell_type": "markdown",
   "id": "eca80547-c569-4be1-b292-2dab6831c8f2",
   "metadata": {},
   "source": [
    "# Constants"
   ]
  },
  {
   "cell_type": "markdown",
   "id": "6b20b355-e2d0-4d69-a033-3a5c2be51393",
   "metadata": {},
   "source": [
    "**Constants in SciPy**  \n",
    "As SciPy is more focused on scientific implementations, it provides many built-in scientific constants.\n",
    "\n",
    "These constants can be helpful when you are working with Data Science.\n",
    "\n",
    "PI is an example of a scientific constant.\n",
    "\n",
    "**Example**  \n",
    "Print the constant value of PI:"
   ]
  },
  {
   "cell_type": "code",
   "execution_count": 32,
   "id": "f6749263-696e-4938-b4e3-fceb59348e1e",
   "metadata": {},
   "outputs": [
    {
     "name": "stdout",
     "output_type": "stream",
     "text": [
      "3.141592653589793\n"
     ]
    }
   ],
   "source": [
    "from scipy import constants\n",
    "\n",
    "print(constants.pi)"
   ]
  },
  {
   "cell_type": "markdown",
   "id": "7f48a728-7bf3-4b95-a664-3c70f29ea692",
   "metadata": {},
   "source": [
    "**Constant Units**  \n",
    "A list of all units under the constants module can be seen using the dir() function.\n",
    "\n",
    "**Example**  \n",
    "List all constants:"
   ]
  },
  {
   "cell_type": "code",
   "execution_count": 33,
   "id": "1e7e1397-3f19-47ed-a40e-f6a70873e2f1",
   "metadata": {},
   "outputs": [
    {
     "name": "stdout",
     "output_type": "stream",
     "text": [
      "['Avogadro', 'Boltzmann', 'Btu', 'Btu_IT', 'Btu_th', 'ConstantWarning', 'G', 'Julian_year', 'N_A', 'Planck', 'R', 'Rydberg', 'Stefan_Boltzmann', 'Wien', '__all__', '__builtins__', '__cached__', '__doc__', '__file__', '__loader__', '__name__', '__package__', '__path__', '__spec__', '_codata', '_constants', '_obsolete_constants', 'acre', 'alpha', 'angstrom', 'arcmin', 'arcminute', 'arcsec', 'arcsecond', 'astronomical_unit', 'atm', 'atmosphere', 'atomic_mass', 'atto', 'au', 'bar', 'barrel', 'bbl', 'blob', 'c', 'calorie', 'calorie_IT', 'calorie_th', 'carat', 'centi', 'codata', 'constants', 'convert_temperature', 'day', 'deci', 'degree', 'degree_Fahrenheit', 'deka', 'dyn', 'dyne', 'e', 'eV', 'electron_mass', 'electron_volt', 'elementary_charge', 'epsilon_0', 'erg', 'exa', 'exbi', 'femto', 'fermi', 'find', 'fine_structure', 'fluid_ounce', 'fluid_ounce_US', 'fluid_ounce_imp', 'foot', 'g', 'gallon', 'gallon_US', 'gallon_imp', 'gas_constant', 'gibi', 'giga', 'golden', 'golden_ratio', 'grain', 'gram', 'gravitational_constant', 'h', 'hbar', 'hectare', 'hecto', 'horsepower', 'hour', 'hp', 'inch', 'k', 'kgf', 'kibi', 'kilo', 'kilogram_force', 'kmh', 'knot', 'lambda2nu', 'lb', 'lbf', 'light_year', 'liter', 'litre', 'long_ton', 'm_e', 'm_n', 'm_p', 'm_u', 'mach', 'mebi', 'mega', 'metric_ton', 'micro', 'micron', 'mil', 'mile', 'milli', 'minute', 'mmHg', 'mph', 'mu_0', 'nano', 'nautical_mile', 'neutron_mass', 'nu2lambda', 'ounce', 'oz', 'parsec', 'pebi', 'peta', 'physical_constants', 'pi', 'pico', 'point', 'pound', 'pound_force', 'precision', 'proton_mass', 'psi', 'pt', 'quecto', 'quetta', 'ronna', 'ronto', 'short_ton', 'sigma', 'slinch', 'slug', 'speed_of_light', 'speed_of_sound', 'stone', 'survey_foot', 'survey_mile', 'tebi', 'tera', 'test', 'ton_TNT', 'torr', 'troy_ounce', 'troy_pound', 'u', 'unit', 'value', 'week', 'yard', 'year', 'yobi', 'yocto', 'yotta', 'zebi', 'zepto', 'zero_Celsius', 'zetta']\n"
     ]
    }
   ],
   "source": [
    "from scipy import constants\n",
    "\n",
    "print(dir(constants))"
   ]
  },
  {
   "cell_type": "markdown",
   "id": "add0bc4b-87e5-4142-bf6b-b031f7bcc075",
   "metadata": {},
   "source": [
    "**Unit Categories**  \n",
    "The units are placed under these categories:\n",
    ">•\tMetric  \n",
    "•\tBinary  \n",
    "•\tMass  \n",
    "•\tAngle  \n",
    "•\tTime  \n",
    "•\tLength  \n",
    "•\tPressure  \n",
    "•\tVolume  \n",
    "•\tSpeed  \n",
    "•\tTemperature  \n",
    "•\tEnergy  \n",
    "•\tPower  \n",
    "•\tForce  \n",
    "\n",
    "**Metric (SI) Prefixes:**  \n",
    "Return the specified unit in meter (e.g. centi returns 0.01)\n",
    "\n",
    "**Example**  "
   ]
  },
  {
   "cell_type": "code",
   "execution_count": 34,
   "id": "482bd628-8d64-4bde-ba9e-95ea59093299",
   "metadata": {},
   "outputs": [
    {
     "name": "stdout",
     "output_type": "stream",
     "text": [
      "1e+24\n",
      "1e+21\n",
      "1e+18\n",
      "1000000000000000.0\n",
      "1000000000000.0\n",
      "1000000000.0\n",
      "1000000.0\n",
      "1000.0\n",
      "100.0\n",
      "10.0\n",
      "0.1\n",
      "0.01\n",
      "0.001\n",
      "1e-06\n",
      "1e-09\n",
      "1e-12\n",
      "1e-15\n",
      "1e-18\n",
      "1e-21\n"
     ]
    }
   ],
   "source": [
    "from scipy import constants\n",
    "\n",
    "print(constants.yotta)    #1e+24\n",
    "print(constants.zetta)    #1e+21\n",
    "print(constants.exa)      #1e+18\n",
    "print(constants.peta)     #1000000000000000.0\n",
    "print(constants.tera)     #1000000000000.0\n",
    "print(constants.giga)     #1000000000.0\n",
    "print(constants.mega)     #1000000.0\n",
    "print(constants.kilo)     #1000.0\n",
    "print(constants.hecto)    #100.0\n",
    "print(constants.deka)     #10.0\n",
    "print(constants.deci)     #0.1\n",
    "print(constants.centi)    #0.01\n",
    "print(constants.milli)    #0.001\n",
    "print(constants.micro)    #1e-06\n",
    "print(constants.nano)     #1e-09\n",
    "print(constants.pico)     #1e-12\n",
    "print(constants.femto)    #1e-15\n",
    "print(constants.atto)     #1e-18\n",
    "print(constants.zepto)    #1e-21"
   ]
  },
  {
   "cell_type": "markdown",
   "id": "aec9e029-782e-442b-8721-282cd547e8d0",
   "metadata": {},
   "source": [
    "**Binary Prefixes:**  \n",
    "Return the specified unit in bytes (e.g. kibi returns 1024)\n",
    "\n",
    "**Example**  "
   ]
  },
  {
   "cell_type": "code",
   "execution_count": 35,
   "id": "95476783-a8e7-488e-b3db-9a2641d75b28",
   "metadata": {},
   "outputs": [
    {
     "name": "stdout",
     "output_type": "stream",
     "text": [
      "1024\n",
      "1048576\n",
      "1073741824\n",
      "1099511627776\n",
      "1125899906842624\n",
      "1152921504606846976\n",
      "1180591620717411303424\n",
      "1208925819614629174706176\n"
     ]
    }
   ],
   "source": [
    "from scipy import constants\n",
    "\n",
    "print(constants.kibi)    #1024\n",
    "print(constants.mebi)    #1048576\n",
    "print(constants.gibi)    #1073741824\n",
    "print(constants.tebi)    #1099511627776\n",
    "print(constants.pebi)    #1125899906842624\n",
    "print(constants.exbi)    #1152921504606846976\n",
    "print(constants.zebi)    #1180591620717411303424\n",
    "print(constants.yobi)    #1208925819614629174706176"
   ]
  },
  {
   "cell_type": "markdown",
   "id": "88c61205-de1f-432e-89bf-cea83016717f",
   "metadata": {},
   "source": [
    "**Mass:**  \n",
    "Return the specified unit in kg (e.g. gram returns 0.001)\n",
    "\n",
    "**Example**  "
   ]
  },
  {
   "cell_type": "code",
   "execution_count": 36,
   "id": "166d00cf-2881-40e0-8500-6cbfba136649",
   "metadata": {},
   "outputs": [
    {
     "name": "stdout",
     "output_type": "stream",
     "text": [
      "0.001\n",
      "1000.0\n",
      "6.479891e-05\n",
      "0.45359236999999997\n",
      "0.45359236999999997\n",
      "0.028349523124999998\n",
      "0.028349523124999998\n",
      "6.3502931799999995\n",
      "1016.0469088\n",
      "907.1847399999999\n",
      "0.031103476799999998\n",
      "0.37324172159999996\n",
      "0.0002\n",
      "1.6605390666e-27\n",
      "1.6605390666e-27\n",
      "1.6605390666e-27\n"
     ]
    }
   ],
   "source": [
    "from scipy import constants\n",
    "\n",
    "print(constants.gram)        #0.001\n",
    "print(constants.metric_ton)  #1000.0\n",
    "print(constants.grain)       #6.479891e-05\n",
    "print(constants.lb)          #0.45359236999999997\n",
    "print(constants.pound)       #0.45359236999999997\n",
    "print(constants.oz)          #0.028349523124999998\n",
    "print(constants.ounce)       #0.028349523124999998\n",
    "print(constants.stone)       #6.3502931799999995\n",
    "print(constants.long_ton)    #1016.0469088\n",
    "print(constants.short_ton)   #907.1847399999999\n",
    "print(constants.troy_ounce)  #0.031103476799999998\n",
    "print(constants.troy_pound)  #0.37324172159999996\n",
    "print(constants.carat)       #0.0002\n",
    "print(constants.atomic_mass) #1.66053904e-27\n",
    "print(constants.m_u)         #1.66053904e-27\n",
    "print(constants.u)           #1.66053904e-27"
   ]
  },
  {
   "cell_type": "markdown",
   "id": "d5d1d4e8-f9d2-4c3a-997f-3ad600e39e42",
   "metadata": {},
   "source": [
    "**Angle:**  \n",
    "Return the specified unit in radians (e.g. degree returns 0.017453292519943295)\n",
    "\n",
    "**Example**  "
   ]
  },
  {
   "cell_type": "code",
   "execution_count": 37,
   "id": "ac04bc83-a6c3-4f6d-80f7-28318d4ef60b",
   "metadata": {},
   "outputs": [
    {
     "name": "stdout",
     "output_type": "stream",
     "text": [
      "0.017453292519943295\n",
      "0.0002908882086657216\n",
      "0.0002908882086657216\n",
      "4.84813681109536e-06\n",
      "4.84813681109536e-06\n"
     ]
    }
   ],
   "source": [
    "from scipy import constants\n",
    "\n",
    "print(constants.degree)     #0.017453292519943295\n",
    "print(constants.arcmin)     #0.0002908882086657216\n",
    "print(constants.arcminute)  #0.0002908882086657216\n",
    "print(constants.arcsec)     #4.84813681109536e-06\n",
    "print(constants.arcsecond)  #4.84813681109536e-06"
   ]
  },
  {
   "cell_type": "markdown",
   "id": "2423d403-87e7-44be-92a7-25d253eb725f",
   "metadata": {},
   "source": [
    "**Time:**  \n",
    "Return the specified unit in seconds (e.g. hour returns 3600.0)\n",
    "\n",
    "**Example**  "
   ]
  },
  {
   "cell_type": "code",
   "execution_count": 38,
   "id": "bf71f3a2-5bcc-406f-9369-7a85fa70d248",
   "metadata": {},
   "outputs": [
    {
     "name": "stdout",
     "output_type": "stream",
     "text": [
      "60.0\n",
      "3600.0\n",
      "86400.0\n",
      "604800.0\n",
      "31536000.0\n",
      "31557600.0\n"
     ]
    }
   ],
   "source": [
    "from scipy import constants\n",
    "\n",
    "print(constants.minute)      #60.0\n",
    "print(constants.hour)        #3600.0\n",
    "print(constants.day)         #86400.0\n",
    "print(constants.week)        #604800.0\n",
    "print(constants.year)        #31536000.0\n",
    "print(constants.Julian_year) #31557600.0"
   ]
  },
  {
   "cell_type": "markdown",
   "id": "4499735a-1412-486f-a3e8-4460a881b4ac",
   "metadata": {},
   "source": [
    "**Length:**  \n",
    "Return the specified unit in meters (e.g. nautical_mile returns 1852.0)\n",
    "\n",
    "**Example**  "
   ]
  },
  {
   "cell_type": "code",
   "execution_count": 39,
   "id": "463a9317-7832-447c-9521-1f35c0b05754",
   "metadata": {},
   "outputs": [
    {
     "name": "stdout",
     "output_type": "stream",
     "text": [
      "0.0254\n",
      "0.30479999999999996\n",
      "0.9143999999999999\n",
      "1609.3439999999998\n",
      "2.5399999999999997e-05\n",
      "0.00035277777777777776\n",
      "0.00035277777777777776\n",
      "0.3048006096012192\n",
      "1609.3472186944373\n",
      "1852.0\n",
      "1e-15\n",
      "1e-10\n",
      "1e-06\n",
      "149597870700.0\n",
      "149597870700.0\n",
      "9460730472580800.0\n",
      "3.085677581491367e+16\n"
     ]
    }
   ],
   "source": [
    "from scipy import constants\n",
    "\n",
    "print(constants.inch)              #0.0254\n",
    "print(constants.foot)              #0.30479999999999996\n",
    "print(constants.yard)              #0.9143999999999999\n",
    "print(constants.mile)              #1609.3439999999998\n",
    "print(constants.mil)               #2.5399999999999997e-05\n",
    "print(constants.pt)                #0.00035277777777777776\n",
    "print(constants.point)             #0.00035277777777777776\n",
    "print(constants.survey_foot)       #0.3048006096012192\n",
    "print(constants.survey_mile)       #1609.3472186944373\n",
    "print(constants.nautical_mile)     #1852.0\n",
    "print(constants.fermi)             #1e-15\n",
    "print(constants.angstrom)          #1e-10\n",
    "print(constants.micron)            #1e-06\n",
    "print(constants.au)                #149597870691.0\n",
    "print(constants.astronomical_unit) #149597870691.0\n",
    "print(constants.light_year)        #9460730472580800.0\n",
    "print(constants.parsec)            #3.0856775813057292e+16"
   ]
  },
  {
   "cell_type": "markdown",
   "id": "9d8032cf-4eba-4428-b9c9-d13a30582358",
   "metadata": {},
   "source": [
    "**Pressure:**  \n",
    "Return the specified unit in pascals (e.g. psi returns 6894.757293168361)\n",
    "\n",
    "**Example**  "
   ]
  },
  {
   "cell_type": "code",
   "execution_count": 40,
   "id": "45dd7ebe-e356-4c51-a71e-17ac5d67ef1e",
   "metadata": {},
   "outputs": [
    {
     "name": "stdout",
     "output_type": "stream",
     "text": [
      "101325.0\n",
      "101325.0\n",
      "100000.0\n",
      "133.32236842105263\n",
      "133.32236842105263\n",
      "6894.757293168361\n"
     ]
    }
   ],
   "source": [
    "from scipy import constants\n",
    "\n",
    "print(constants.atm)         #101325.0\n",
    "print(constants.atmosphere)  #101325.0\n",
    "print(constants.bar)         #100000.0\n",
    "print(constants.torr)        #133.32236842105263\n",
    "print(constants.mmHg)        #133.32236842105263\n",
    "print(constants.psi)         #6894.757293168361"
   ]
  },
  {
   "cell_type": "markdown",
   "id": "f076defb-0476-4b6b-bb1d-d183b655f8fb",
   "metadata": {},
   "source": [
    "**Area:**  \n",
    "Return the specified unit in square meters(e.g. hectare returns 10000.0)\n",
    "\n",
    "**Example**  "
   ]
  },
  {
   "cell_type": "code",
   "execution_count": 41,
   "id": "7630c168-9d4b-484d-ac22-8e7cc2863431",
   "metadata": {},
   "outputs": [
    {
     "name": "stdout",
     "output_type": "stream",
     "text": [
      "10000.0\n",
      "4046.8564223999992\n"
     ]
    }
   ],
   "source": [
    "from scipy import constants\n",
    "\n",
    "print(constants.hectare) #10000.0\n",
    "print(constants.acre)    #4046.8564223999992"
   ]
  },
  {
   "cell_type": "markdown",
   "id": "cab80d9d-9191-48e0-aa28-b2b072398dba",
   "metadata": {},
   "source": [
    "**Volume:**  \n",
    "Return the specified unit in cubic meters (e.g. liter returns 0.001)\n",
    "\n",
    "**Example**  "
   ]
  },
  {
   "cell_type": "code",
   "execution_count": 42,
   "id": "052aff76-95c6-4d33-b7f3-07fc0dfe646e",
   "metadata": {},
   "outputs": [
    {
     "name": "stdout",
     "output_type": "stream",
     "text": [
      "0.001\n",
      "0.001\n",
      "0.0037854117839999997\n",
      "0.0037854117839999997\n",
      "0.00454609\n",
      "2.9573529562499998e-05\n",
      "2.9573529562499998e-05\n",
      "2.84130625e-05\n",
      "0.15898729492799998\n",
      "0.15898729492799998\n"
     ]
    }
   ],
   "source": [
    "from scipy import constants\n",
    "\n",
    "print(constants.liter)            #0.001\n",
    "print(constants.litre)            #0.001\n",
    "print(constants.gallon)           #0.0037854117839999997\n",
    "print(constants.gallon_US)        #0.0037854117839999997\n",
    "print(constants.gallon_imp)       #0.00454609\n",
    "print(constants.fluid_ounce)      #2.9573529562499998e-05\n",
    "print(constants.fluid_ounce_US)   #2.9573529562499998e-05\n",
    "print(constants.fluid_ounce_imp)  #2.84130625e-05\n",
    "print(constants.barrel)           #0.15898729492799998\n",
    "print(constants.bbl)              #0.15898729492799998"
   ]
  },
  {
   "cell_type": "markdown",
   "id": "3879b117-6ae9-42e9-bd2e-96c67f4716b5",
   "metadata": {},
   "source": [
    "**Speed:**  \n",
    "Return the specified unit in meters per second (e.g. speed_of_sound returns 340.5)\n",
    "\n",
    "**Example**  "
   ]
  },
  {
   "cell_type": "code",
   "execution_count": 43,
   "id": "7097526c-7b6b-4e26-b9c7-548d170bd127",
   "metadata": {},
   "outputs": [
    {
     "name": "stdout",
     "output_type": "stream",
     "text": [
      "0.2777777777777778\n",
      "0.44703999999999994\n",
      "340.5\n",
      "340.5\n",
      "0.5144444444444445\n"
     ]
    }
   ],
   "source": [
    "from scipy import constants\n",
    "\n",
    "print(constants.kmh)            #0.2777777777777778\n",
    "print(constants.mph)            #0.44703999999999994\n",
    "print(constants.mach)           #340.5\n",
    "print(constants.speed_of_sound) #340.5\n",
    "print(constants.knot)           #0.5144444444444445"
   ]
  },
  {
   "cell_type": "markdown",
   "id": "d97763eb-2529-4c03-9ffc-be1a8c4acfee",
   "metadata": {},
   "source": [
    "**Temperature:**  \n",
    "Return the specified unit in Kelvin (e.g. zero_Celsius returns 273.15)\n",
    "\n",
    "**Example**  "
   ]
  },
  {
   "cell_type": "code",
   "execution_count": 44,
   "id": "6debec21-6223-4247-8968-c9bdcc07b1f9",
   "metadata": {},
   "outputs": [
    {
     "name": "stdout",
     "output_type": "stream",
     "text": [
      "273.15\n",
      "0.5555555555555556\n"
     ]
    }
   ],
   "source": [
    "from scipy import constants\n",
    "\n",
    "print(constants.zero_Celsius)      #273.15\n",
    "print(constants.degree_Fahrenheit) #0.5555555555555556"
   ]
  },
  {
   "cell_type": "markdown",
   "id": "0f53d5c8-b52f-4360-899d-08107a64098f",
   "metadata": {},
   "source": [
    "**Energy:**  \n",
    "Return the specified unit in joules (e.g. calorie returns 4.184)\n",
    "\n",
    "**Example**  "
   ]
  },
  {
   "cell_type": "code",
   "execution_count": 45,
   "id": "2eaefc40-ccf8-444a-98fb-cd6ea3bd339f",
   "metadata": {},
   "outputs": [
    {
     "name": "stdout",
     "output_type": "stream",
     "text": [
      "1.602176634e-19\n",
      "1.602176634e-19\n",
      "4.184\n",
      "4.184\n",
      "4.1868\n",
      "1e-07\n",
      "1055.05585262\n",
      "1055.05585262\n",
      "1054.3502644888888\n",
      "4184000000.0\n"
     ]
    }
   ],
   "source": [
    "from scipy import constants\n",
    "\n",
    "print(constants.eV)            #1.6021766208e-19\n",
    "print(constants.electron_volt) #1.6021766208e-19\n",
    "print(constants.calorie)       #4.184\n",
    "print(constants.calorie_th)    #4.184\n",
    "print(constants.calorie_IT)    #4.1868\n",
    "print(constants.erg)           #1e-07\n",
    "print(constants.Btu)           #1055.05585262\n",
    "print(constants.Btu_IT)        #1055.05585262\n",
    "print(constants.Btu_th)        #1054.3502644888888\n",
    "print(constants.ton_TNT)       #4184000000.0"
   ]
  },
  {
   "cell_type": "markdown",
   "id": "32f3c34d-fafd-4d9f-a7f4-84bd278a8ffe",
   "metadata": {},
   "source": [
    "**Power:**  \n",
    "Return the specified unit in watts (e.g. horsepower returns 745.6998715822701)\n",
    "\n",
    "**Example**  "
   ]
  },
  {
   "cell_type": "code",
   "execution_count": 46,
   "id": "14fae7f5-164c-41b2-823f-94e3fb46c56c",
   "metadata": {},
   "outputs": [
    {
     "name": "stdout",
     "output_type": "stream",
     "text": [
      "745.6998715822701\n",
      "745.6998715822701\n"
     ]
    }
   ],
   "source": [
    "from scipy import constants\n",
    "\n",
    "print(constants.hp)         #745.6998715822701\n",
    "print(constants.horsepower) #745.6998715822701"
   ]
  },
  {
   "cell_type": "markdown",
   "id": "e2e644d6-cf1c-42e7-9544-f78d61632154",
   "metadata": {},
   "source": [
    "**Force:**  \n",
    "Return the specified unit in newton (e.g. kilogram_force returns 9.80665)\n",
    "\n",
    "**Example**  "
   ]
  },
  {
   "cell_type": "code",
   "execution_count": 47,
   "id": "15d05939-2cc0-4f39-8c66-c771c676995e",
   "metadata": {},
   "outputs": [
    {
     "name": "stdout",
     "output_type": "stream",
     "text": [
      "1e-05\n",
      "1e-05\n",
      "4.4482216152605\n",
      "4.4482216152605\n",
      "9.80665\n",
      "9.80665\n"
     ]
    }
   ],
   "source": [
    "from scipy import constants\n",
    "\n",
    "print(constants.dyn)             #1e-05\n",
    "print(constants.dyne)            #1e-05\n",
    "print(constants.lbf)             #4.4482216152605\n",
    "print(constants.pound_force)     #4.4482216152605\n",
    "print(constants.kgf)             #9.80665\n",
    "print(constants.kilogram_force)  #9.80665"
   ]
  },
  {
   "cell_type": "markdown",
   "id": "55db7321-ffad-4d63-a9c7-248f88d30333",
   "metadata": {},
   "source": [
    "# Optimizers"
   ]
  },
  {
   "cell_type": "markdown",
   "id": "5f6df602-48c5-41cb-95fb-3a2d0098338d",
   "metadata": {},
   "source": [
    "**Optimizers in SciPy**  \n",
    "Optimizers are a set of procedures defined in SciPy that either find the minimum value of a function, or the root of an equation.\n",
    "\n",
    "**Optimizing Functions**  \n",
    "Essentially, all of the algorithms in Machine Learning are nothing more than a complex equation that needs to be minimized with the help of given data.\n",
    "\n",
    "**Roots of an Equation**  \n",
    "NumPy is capable of finding roots for polynomials and linear equations, but it can not find roots for non linear equations, like this one:\n",
    "\n",
    "x + cos(x)\n",
    "\n",
    "For that you can use SciPy's optimize.root function.\n",
    "\n",
    "This function takes two required arguments:\n",
    "\n",
    "fun - a function representing an equation.\n",
    "\n",
    "x0 - an initial guess for the root.\n",
    "\n",
    "The function returns an object with information regarding the solution.\n",
    "\n",
    "The actual solution is given under attribute x of the returned object:\n",
    "\n",
    "**Example**  \n",
    "Find root of the equation x + cos(x):"
   ]
  },
  {
   "cell_type": "code",
   "execution_count": 48,
   "id": "17692dad-ab7c-4b5f-9de7-0bd500758aa7",
   "metadata": {},
   "outputs": [
    {
     "name": "stdout",
     "output_type": "stream",
     "text": [
      "[-0.73908513]\n"
     ]
    },
    {
     "name": "stderr",
     "output_type": "stream",
     "text": [
      "C:\\Users\\birender.s\\AppData\\Local\\Temp\\ipykernel_27052\\2438134566.py:5: DeprecationWarning: Conversion of an array with ndim > 0 to a scalar is deprecated, and will error in future. Ensure you extract a single element from your array before performing this operation. (Deprecated NumPy 1.25.)\n",
      "  return x + cos(x)\n"
     ]
    }
   ],
   "source": [
    "from scipy.optimize import root  \n",
    "from math import cos\n",
    "\n",
    "def eqn(x):\n",
    "  return x + cos(x)\n",
    "\n",
    "myroot = root(eqn, 0)\n",
    "\n",
    "print(myroot.x)"
   ]
  },
  {
   "cell_type": "markdown",
   "id": "541bbab8-6f64-4a66-a63d-f49255097ad5",
   "metadata": {},
   "source": [
    ">Note: The returned object has much more information about the solution.\n",
    "\n",
    "**Example**  \n",
    "Print all information about the solution (not just x which is the root)"
   ]
  },
  {
   "cell_type": "code",
   "execution_count": 49,
   "id": "bb16b9b7-c28c-4d98-898d-6439d3bab5e6",
   "metadata": {},
   "outputs": [
    {
     "name": "stdout",
     "output_type": "stream",
     "text": [
      " message: The solution converged.\n",
      " success: True\n",
      "  status: 1\n",
      "     fun: [ 0.000e+00]\n",
      "       x: [-7.391e-01]\n",
      "  method: hybr\n",
      "    nfev: 11\n",
      "    fjac: [[-1.000e+00]]\n",
      "       r: [-1.674e+00]\n",
      "     qtf: [-2.668e-13]\n"
     ]
    }
   ],
   "source": [
    "print(myroot)"
   ]
  },
  {
   "cell_type": "markdown",
   "id": "cd0b5922-4d62-4a64-aed6-e5f9e7669fa1",
   "metadata": {},
   "source": [
    "**Minimizing a Function**  \n",
    "A function, in this context, represents a curve, curves have high points and low points.\n",
    "\n",
    "High points are called maxima.\n",
    "\n",
    "Low points are called minima.\n",
    "\n",
    "The highest point in the whole curve is called global maxima, whereas the rest of them are called local maxima.\n",
    "\n",
    "The lowest point in whole curve is called global minima, whereas the rest of them are called local minima.\n",
    "\n",
    "**Finding Minima**  \n",
    "We can use scipy.optimize.minimize() function to minimize the function.\n",
    "\n",
    "The minimize() function takes the following arguments:\n",
    "\n",
    "fun - a function representing an equation.\n",
    "\n",
    "x0 - an initial guess for the root.\n",
    "\n",
    "method - name of the method to use. Legal values:\n",
    ">**'CG'**  (Conjugate Gradient Algorithm)  \n",
    "    **'BFGS'**  (Broyden–Fletcher–Goldfarb–Shanno)  \n",
    "    **'Newton-CG'**  (Newton Conjugate Gradient)  \n",
    "    **'L-BFGS-B'**  (Limited-memory BFGS)  \n",
    "    **'TNC'**  ( Truncated Newton)  \n",
    "    **'COBYLA'**  (Constrained Optimization BY Linear Approximation)  \n",
    "    **'SLSQP'**  (Sequential Least Squares Programming)  \n",
    "\n",
    "callback - function called after each iteration of optimization.\n",
    "\n",
    "options - a dictionary defining extra params:  \n",
    "{  \n",
    "     \"disp\": boolean - print detailed description  \n",
    "     \"gtol\": number - the tolerance of the error  \n",
    "  }  \n",
    "  \n",
    "**Example**  \n",
    "Minimize the function x^2 + x + 2 with BFGS:"
   ]
  },
  {
   "cell_type": "code",
   "execution_count": 50,
   "id": "4eb367c2-2372-4ad4-927b-b31a9566b96c",
   "metadata": {},
   "outputs": [
    {
     "name": "stdout",
     "output_type": "stream",
     "text": [
      "[-0.50000001]\n"
     ]
    }
   ],
   "source": [
    "from scipy.optimize import minimize\n",
    "\n",
    "def eqn(x):\n",
    "  return x**2 + x + 2\n",
    "\n",
    "mymin = minimize(eqn, 0, method='BFGS')\n",
    "\n",
    "print(mymin.x)"
   ]
  },
  {
   "cell_type": "markdown",
   "id": "bcb84dbe-4458-47bb-bfe3-d73cb5dc2a4e",
   "metadata": {},
   "source": [
    "**Solve Equations:**  \n",
    "min 𝑥1𝑥4(𝑥1+𝑥2+𝑥3)+𝑥3  \n",
    "𝑥1𝑥2𝑥3𝑥4≥25  \n",
    "𝑥1^2+𝑥2^2+𝑥3^2+𝑥4^2=40  \n",
    "1≤𝑥1,𝑥2,𝑥3,𝑥4≤5  \n",
    "x0=(1,5,5,1)  "
   ]
  },
  {
   "cell_type": "code",
   "execution_count": 51,
   "id": "ba7222ad-ae7b-4c19-82b5-3cffcad08c6b",
   "metadata": {},
   "outputs": [
    {
     "name": "stdout",
     "output_type": "stream",
     "text": [
      "[1.         5.         3.60555128 1.        ]\n"
     ]
    }
   ],
   "source": [
    "from scipy.optimize import minimize\n",
    "\n",
    "#Objecive\n",
    "def objective(x):\n",
    "    x1=x[0]\n",
    "    x2=x[1]\n",
    "    x3=x[2]\n",
    "    x4=x[3]\n",
    "    return x1*x4*(x1+x2+x3)+x3\n",
    "\n",
    "#constraint1 𝑥1𝑥2𝑥3𝑥4≥25\n",
    "def constraint1(x):\n",
    "    return x[0]*x[1]*x[2]*x[2]-25.0\n",
    " \n",
    "#constraint2 𝑥1^2+𝑥2^2+𝑥3^2+𝑥4^2=40\n",
    "def constraint2(x):\n",
    "    sum_sq = 40\n",
    "    for i in range(4):\n",
    "        sum_sq = sum_sq - x[i]**2\n",
    "    return sum_sq\n",
    "\n",
    "#initial value x0=(1,5,5,1)\n",
    "x0 = [1,5,5,1]\n",
    "\n",
    "# boundary valiue 1≤𝑥1,𝑥2,𝑥3,𝑥4≤5\n",
    "bnd = (1.0, 5.0)\n",
    "bnds = (bnd,bnd,bnd,bnd)\n",
    "\n",
    "# constrains array\n",
    "constnt1 = {'type':'ineq','fun':constraint1}\n",
    "constnt2 = {'type':'eq','fun':constraint2}\n",
    "cons = [constnt1,constnt2]\n",
    "\n",
    "#output\n",
    "solution = minimize(objective, x0, method = 'SLSQP', bounds=bnds, constraints=cons)\n",
    "print(solution.x)"
   ]
  },
  {
   "cell_type": "markdown",
   "id": "022e9ed2-4afb-4fbb-9c71-12381833c432",
   "metadata": {},
   "source": [
    "# Sparse Data"
   ]
  },
  {
   "cell_type": "markdown",
   "id": "33b846ce-7773-45d2-9119-bdb05925eb0d",
   "metadata": {},
   "source": [
    "**What is Sparse Data**  \n",
    "Sparse data is data that has mostly unused elements (elements that don't carry any information ).\n",
    "\n",
    "It can be an array like this one:\n",
    "\n",
    "[1, 0, 2, 0, 0, 3, 0, 0, 0, 0, 0, 0]\n",
    "\n",
    ">Sparse Data: is a data set where most of the item values are zero.\n",
    "\n",
    ">Dense Array: is the opposite of a sparse array: most of the values are not zero.\n",
    "\n",
    "In scientific computing, when we are dealing with partial derivatives in linear algebra we will come across sparse data.\n",
    "\n",
    "**How to Work With Sparse Data**  \n",
    "SciPy has a module, scipy.sparse that provides functions to deal with sparse data.\n",
    "\n",
    "There are primarily two types of sparse matrices that we use:\n",
    "\n",
    "CSC - Compressed Sparse Column. For efficient arithmetic, fast column slicing.\n",
    "\n",
    "CSR - Compressed Sparse Row. For fast row slicing, faster matrix vector products\n",
    "\n",
    "We will use the CSR matrix in this tutorial.\n",
    "\n",
    "**CSR Matrix**  \n",
    "We can create CSR matrix by passing an arrray into function scipy.sparse.csr_matrix().\n",
    "\n",
    "**Example**  \n",
    "Create a CSR matrix from an array:"
   ]
  },
  {
   "cell_type": "code",
   "execution_count": 52,
   "id": "a4705f38-8e5e-46db-9789-1cffe766df71",
   "metadata": {},
   "outputs": [
    {
     "name": "stdout",
     "output_type": "stream",
     "text": [
      "<Compressed Sparse Row sparse matrix of dtype 'int32'\n",
      "\twith 3 stored elements and shape (1, 9)>\n",
      "  Coords\tValues\n",
      "  (0, 5)\t1\n",
      "  (0, 6)\t1\n",
      "  (0, 8)\t2\n"
     ]
    }
   ],
   "source": [
    "import numpy as np\n",
    "from scipy.sparse import csr_matrix\n",
    "\n",
    "arr = np.array([0, 0, 0, 0, 0, 1, 1, 0, 2])\n",
    "\n",
    "print(csr_matrix(arr))"
   ]
  },
  {
   "cell_type": "markdown",
   "id": "1dddec63-29f7-40a5-8be6-2cdf08d81ca5",
   "metadata": {},
   "source": [
    "From the result we can see that there are 3 items with value.\n",
    "\n",
    "The 1. item is in row 0 position 5 and has the value 1.  \n",
    "The 2. item is in row 0 position 6 and has the value 1.  \n",
    "The 3. item is in row 0 position 8 and has the value 2."
   ]
  },
  {
   "cell_type": "markdown",
   "id": "d771f0f4-bf6d-406b-927a-d3395ddba66a",
   "metadata": {},
   "source": [
    "**Sparse Matrix Methods**  \n",
    "Viewing stored data (not the zero items) with the data property:\n",
    "\n",
    "**Example**  "
   ]
  },
  {
   "cell_type": "code",
   "execution_count": 53,
   "id": "5d9534bb-5de8-4c33-9a92-702afe74161e",
   "metadata": {},
   "outputs": [
    {
     "name": "stdout",
     "output_type": "stream",
     "text": [
      "[1 2 3]\n"
     ]
    }
   ],
   "source": [
    "import numpy as np\n",
    "from scipy.sparse import csr_matrix\n",
    "\n",
    "arr = np.array([[0, 0, 0], [0, 0, 1], [2, 0, 3]])\n",
    "\n",
    "print(csr_matrix(arr).data)"
   ]
  },
  {
   "cell_type": "code",
   "execution_count": 54,
   "id": "18fb2dcb-658b-4ad0-b027-daa636436f9d",
   "metadata": {},
   "outputs": [
    {
     "name": "stdout",
     "output_type": "stream",
     "text": [
      "[2 1 3]\n"
     ]
    }
   ],
   "source": [
    "from scipy.sparse import csc_matrix\n",
    "\n",
    "print(csc_matrix(arr).data)"
   ]
  },
  {
   "cell_type": "markdown",
   "id": "d0b5e6c0-bb04-45e9-bf7e-5e0382d22ee7",
   "metadata": {},
   "source": [
    "Counting nonzeros with the count_nonzero() method:\n",
    "\n",
    "**Example**  "
   ]
  },
  {
   "cell_type": "code",
   "execution_count": 55,
   "id": "05560b28-2a86-4341-bb93-abbb644b52d3",
   "metadata": {},
   "outputs": [
    {
     "name": "stdout",
     "output_type": "stream",
     "text": [
      "3\n"
     ]
    }
   ],
   "source": [
    "import numpy as np\n",
    "from scipy.sparse import csr_matrix\n",
    "\n",
    "arr = np.array([[0, 0, 0], [0, 0, 1], [1, 0, 2]])\n",
    "\n",
    "print(csr_matrix(arr).count_nonzero())"
   ]
  },
  {
   "cell_type": "markdown",
   "id": "699a89b5-39a7-44cd-97d0-f16f8106f56d",
   "metadata": {},
   "source": [
    "Removing zero-entries from the matrix with the eliminate_zeros() method:\n",
    "\n",
    "**Example**  "
   ]
  },
  {
   "cell_type": "code",
   "execution_count": 56,
   "id": "b2e6679c-9509-4b19-b7a9-e447aa393b88",
   "metadata": {},
   "outputs": [
    {
     "name": "stdout",
     "output_type": "stream",
     "text": [
      "<Compressed Sparse Row sparse matrix of dtype 'int32'\n",
      "\twith 3 stored elements and shape (3, 3)>\n",
      "  Coords\tValues\n",
      "  (1, 2)\t1\n",
      "  (2, 0)\t1\n",
      "  (2, 2)\t2\n"
     ]
    }
   ],
   "source": [
    "import numpy as np\n",
    "from scipy.sparse import csr_matrix\n",
    "\n",
    "arr = np.array([[0, 0, 0], [0, 0, 1], [1, 0, 2]])\n",
    "\n",
    "mat = csr_matrix(arr)\n",
    "\n",
    "mat.eliminate_zeros()\n",
    "\n",
    "print(mat)"
   ]
  },
  {
   "cell_type": "markdown",
   "id": "aeb8a3bf-335d-477c-b2a7-4fc9c284da92",
   "metadata": {},
   "source": [
    "Converting from csr to csc with the tocsc() method:\n",
    "\n",
    "**Example**  "
   ]
  },
  {
   "cell_type": "code",
   "execution_count": 57,
   "id": "2d27eef5-1bd3-40d3-ae54-9424fc84b452",
   "metadata": {},
   "outputs": [
    {
     "name": "stdout",
     "output_type": "stream",
     "text": [
      "<Compressed Sparse Column sparse matrix of dtype 'int32'\n",
      "\twith 3 stored elements and shape (3, 3)>\n",
      "  Coords\tValues\n",
      "  (2, 0)\t1\n",
      "  (1, 2)\t1\n",
      "  (2, 2)\t2\n"
     ]
    }
   ],
   "source": [
    "import numpy as np\n",
    "from scipy.sparse import csr_matrix\n",
    "\n",
    "arr = np.array([[0, 0, 0], [0, 0, 1], [1, 0, 2]])\n",
    "\n",
    "newarr = csr_matrix(arr).tocsc()\n",
    "\n",
    "print(newarr)"
   ]
  },
  {
   "cell_type": "markdown",
   "id": "861822ff-3af8-4f4b-9312-c80ce32db8b8",
   "metadata": {},
   "source": [
    ">Note: Apart from the mentioned sparse specific operations, sparse matrices support all of the operations that normal matrices support e.g. reshaping, summing, arithemetic, broadcasting etc."
   ]
  },
  {
   "cell_type": "markdown",
   "id": "42eddb70-103a-4688-b15e-c19e7ba20ae4",
   "metadata": {},
   "source": [
    "Graph Plot Methods"
   ]
  },
  {
   "cell_type": "code",
   "execution_count": 58,
   "id": "02492dc0-bc90-437b-9607-c852f112d340",
   "metadata": {},
   "outputs": [],
   "source": [
    "!pip install networkx\n",
    "import networkx as nx\n",
    "import matplotlib.pyplot as plt\n",
    "\n",
    "def showgraph(tarr):\n",
    "    G = nx.from_numpy_array(tarr, edge_attr='None')\n",
    "    pos=nx.spring_layout(G)\n",
    "    nx.draw_networkx_nodes(G,pos)\n",
    "    edge_labels=dict([((u,v,),d['None'])\n",
    "                   for u,v,d in G.edges(data=True)])\n",
    "    nx.draw_networkx_edges(G,pos)\n",
    "    plt.axis('off')\n",
    "    nx.draw_networkx_labels(G, pos, font_size=20, font_family='sans-serif')\n",
    "    nx.draw_networkx_edge_labels(G,pos,edge_labels=edge_labels)\n",
    "    nx.draw(G,pos, edge_cmap=plt.cm.Reds)\n",
    "    plt.show()"
   ]
  },
  {
   "cell_type": "markdown",
   "id": "47effa9d-e87c-48ec-8640-abd5dd427d4c",
   "metadata": {},
   "source": [
    "# Graphs"
   ]
  },
  {
   "cell_type": "markdown",
   "id": "2d57e5c5-07bb-4829-866b-2b6680fcd173",
   "metadata": {},
   "source": [
    "**Working with Graphs**  \n",
    "Graphs are an essential data structure.\n",
    "\n",
    "SciPy provides us with the module scipy.sparse.csgraph for working with such data structures.\n",
    "\n",
    "**Adjacency Matrix**  \n",
    "Adjacency matrix is a n*n matrix where n is the number of elements in a graph.\n",
    "\n",
    "And the values represents the connection between the elements.\n",
    "\n",
    "**Example:**  "
   ]
  },
  {
   "cell_type": "code",
   "execution_count": 59,
   "id": "b8b225a5-45e4-41ae-94bd-a4ac89e0f4ed",
   "metadata": {},
   "outputs": [
    {
     "data": {
      "image/png": "[encoded data removed]",
      "text/plain": [
       "<IPython.core.display.Image object>"
      ]
     },
     "execution_count": 59,
     "metadata": {},
     "output_type": "execute_result"
    }
   ],
   "source": [
    "#Dummy Code to show tree.\n",
    "from IPython.display import Image\n",
    "Image(\"img/scipy_graph.png\")"
   ]
  },
  {
   "cell_type": "markdown",
   "id": "77a73913-39f2-4458-a0e2-bf40f1d04461",
   "metadata": {},
   "source": [
    "For a graph like this, with elements A, B and C, the connections are:\n",
    "\n",
    "A & B are connected with weight 1.  \n",
    "A & C are connected with weight 2.  \n",
    "C & B is not connected.\n",
    "\n",
    "The Adjency Matrix would look like this:"
   ]
  },
  {
   "cell_type": "markdown",
   "id": "0def5849-7605-4fdb-b5b6-dfda9886c8f0",
   "metadata": {},
   "source": [
    "&nbsp;&ensp; A B C  \n",
    "   A:[0 1 2]  \n",
    "   B:[1 0 0]  \n",
    "   C:[2 0 0]  "
   ]
  },
  {
   "cell_type": "markdown",
   "id": "2a74b6a8-30ba-4f7a-8afa-ecf4d5dac046",
   "metadata": {},
   "source": [
    "Below follows some of the most used methods for working with adjacency matrices.\n",
    "\n",
    "**Connected Components**  \n",
    "Find all of the connected components with the connected_components() method.  \n",
    "**Example**  "
   ]
  },
  {
   "cell_type": "code",
   "execution_count": 60,
   "id": "2f5e1ee2-9e24-493a-be30-7f8d54a86b52",
   "metadata": {},
   "outputs": [
    {
     "name": "stdout",
     "output_type": "stream",
     "text": [
      "1\n"
     ]
    }
   ],
   "source": [
    "import numpy as np\n",
    "from scipy.sparse.csgraph import connected_components\n",
    "from scipy.sparse import csr_matrix\n",
    "\n",
    "arr = np.array([\n",
    "  [0, 1, 2],\n",
    "  [1, 0, 0],\n",
    "  [2, 0, 0]\n",
    "])\n",
    "\n",
    "newarr = csr_matrix(arr)\n",
    "n_components, labels = connected_components(newarr)\n",
    "\n",
    "print(n_components)"
   ]
  },
  {
   "cell_type": "markdown",
   "id": "33ad9c63-d4a4-4567-b3d2-7cced54c66c6",
   "metadata": {},
   "source": [
    "****Dijkstra****  \n",
    "Use the dijkstra method to find the shortest path in a graph from one element to another.\n",
    "\n",
    "It takes following arguments:\n",
    "\n",
    ">return_predecessors: boolean (True to return whole path of traversal otherwise False).  \n",
    "indices: index of the element to return all paths from that element only.  \n",
    "limit: max weight of path.  \n",
    "\n",
    "**Example**  \n",
    "Find the shortest path from element 1 to 2:"
   ]
  },
  {
   "cell_type": "code",
   "execution_count": 61,
   "id": "8170e908-c224-429a-9b0c-fa30b1b3eea5",
   "metadata": {},
   "outputs": [
    {
     "name": "stdout",
     "output_type": "stream",
     "text": [
      "[0. 1. 2.]\n"
     ]
    }
   ],
   "source": [
    "import numpy as np\n",
    "from scipy.sparse.csgraph import dijkstra\n",
    "from scipy.sparse import csr_matrix\n",
    "\n",
    "arr1 = np.array([\n",
    "  [0, 1, 2],\n",
    "  [1, 0, 0],\n",
    "  [2, 0, 0]\n",
    "])\n",
    "\n",
    "newarr = csr_matrix(arr1)\n",
    "\n",
    "n_components, labels = dijkstra(newarr, return_predecessors=True, indices=0)\n",
    "print(n_components)"
   ]
  },
  {
   "cell_type": "code",
   "execution_count": 62,
   "id": "588f634b-b989-4a75-adcb-359c13bb769c",
   "metadata": {},
   "outputs": [
    {
     "data": {
      "image/png": "[encoded data removed]",
      "text/plain": [
       "<Figure size 640x480 with 1 Axes>"
      ]
     },
     "metadata": {},
     "output_type": "display_data"
    }
   ],
   "source": [
    "showgraph(arr1)"
   ]
  },
  {
   "cell_type": "code",
   "execution_count": 63,
   "id": "6d37c066-c90e-4d34-a1e5-6b66877e4ff3",
   "metadata": {},
   "outputs": [
    {
     "name": "stdout",
     "output_type": "stream",
     "text": [
      "[ 0.  7.  9. 20. 20. 11.]\n"
     ]
    }
   ],
   "source": [
    "import numpy as np\n",
    "from scipy.sparse.csgraph import shortest_path\n",
    "\n",
    "arr2 = np.array([[ 0,  7,  9,  0, 0, 14],\n",
    "                [ 7,  0, 10, 15, 0,  0],\n",
    "                [ 9, 10,  0, 11, 0,  2],\n",
    "                [ 0, 15, 11,  0, 6,  0],\n",
    "                [ 0,  0,  0,  6, 0,  9],\n",
    "                [14,  0,  2,  0, 9,  0]])\n",
    "\n",
    "newarr = csr_matrix(arr2)\n",
    "\n",
    "n_components, labels = dijkstra(newarr, return_predecessors=True, indices=0)\n",
    "print(n_components)"
   ]
  },
  {
   "cell_type": "code",
   "execution_count": 64,
   "id": "37fec2ec-612a-48f5-94d2-fc250080bf7a",
   "metadata": {},
   "outputs": [
    {
     "data": {
      "image/png": "[encoded data removed]",
      "text/plain": [
       "<Figure size 640x480 with 1 Axes>"
      ]
     },
     "metadata": {},
     "output_type": "display_data"
    }
   ],
   "source": [
    "showgraph(arr2)"
   ]
  },
  {
   "cell_type": "markdown",
   "id": "f683aef7-a728-455c-ae09-470b579d328f",
   "metadata": {},
   "source": [
    "**Floyd Warshall**  \n",
    "Use the floyd_warshall() method to find shortest path between all pairs of elements.\n",
    "\n",
    "**Example**  \n",
    "Find the shortest path between all pairs of elements:"
   ]
  },
  {
   "cell_type": "code",
   "execution_count": 65,
   "id": "42406086-ded8-4c2d-b3c9-bf1bed699e25",
   "metadata": {},
   "outputs": [
    {
     "name": "stdout",
     "output_type": "stream",
     "text": [
      "[[ 0.  7.  9. 20. 20. 11.]\n",
      " [ 7.  0. 10. 15. 21. 12.]\n",
      " [ 9. 10.  0. 11. 11.  2.]\n",
      " [20. 15. 11.  0.  6. 13.]\n",
      " [20. 21. 11.  6.  0.  9.]\n",
      " [11. 12.  2. 13.  9.  0.]]\n"
     ]
    }
   ],
   "source": [
    "import numpy as np\n",
    "from scipy.sparse.csgraph import floyd_warshall\n",
    "from scipy.sparse import csr_matrix\n",
    "\n",
    "arr3 = np.array([[ 0,  7,  9,  0, 0, 14],\n",
    "                [ 7,  0, 10, 15, 0,  0],\n",
    "                [ 9, 10,  0, 11, 0,  2],\n",
    "                [ 0, 15, 11,  0, 6,  0],\n",
    "                [ 0,  0,  0,  6, 0,  9],\n",
    "                [14,  0,  2,  0, 9,  0]])\n",
    "\n",
    "newarr = csr_matrix(arr3)\n",
    "n_components, labels = floyd_warshall(newarr, return_predecessors=True)\n",
    "print(n_components)"
   ]
  },
  {
   "cell_type": "code",
   "execution_count": 66,
   "id": "b87cc0aa-ac18-49d7-833b-b081701ded00",
   "metadata": {},
   "outputs": [
    {
     "data": {
      "image/png": "[encoded data removed]",
      "text/plain": [
       "<Figure size 640x480 with 1 Axes>"
      ]
     },
     "metadata": {},
     "output_type": "display_data"
    }
   ],
   "source": [
    "showgraph(arr3)"
   ]
  },
  {
   "cell_type": "markdown",
   "id": "7fa13849-9236-4843-8511-4d7c9be8c842",
   "metadata": {},
   "source": [
    "**Bellman Ford**  \n",
    "The bellman_ford() method can also find the shortest path between all pairs of elements, but this method can handle negative weights as well.\n",
    "\n",
    "**Example**  \n",
    "Find shortest path from element 1 to 2 with given graph with a negative weight:"
   ]
  },
  {
   "cell_type": "code",
   "execution_count": 67,
   "id": "77593eff-f5ae-4521-ad70-639664681328",
   "metadata": {},
   "outputs": [
    {
     "name": "stdout",
     "output_type": "stream",
     "text": [
      "[ 0.  7.  9. 20. 20. 11.]\n"
     ]
    }
   ],
   "source": [
    "import numpy as np\n",
    "from scipy.sparse.csgraph import bellman_ford\n",
    "from scipy.sparse import csr_matrix\n",
    "\n",
    "arr4 = np.array([[ 0,  7,  9,  0, 0, 14],\n",
    "                [ 7,  0, 10, 15, 0,  0],\n",
    "                [ 9, 10,  0, 11, 0,  2],\n",
    "                [ 0, 15, 11,  0, 6,  0],\n",
    "                [ 0,  0,  0,  6, 0,  9],\n",
    "                [14,  0,  2,  0, 9,  0]])\n",
    "\n",
    "newarr = csr_matrix(arr4)\n",
    "\n",
    "n_components, labels = bellman_ford(newarr, return_predecessors=True, indices=0)\n",
    "print(n_components)"
   ]
  },
  {
   "cell_type": "code",
   "execution_count": 68,
   "id": "03f18bf5-2e08-42bb-95ea-d2333ad6248f",
   "metadata": {},
   "outputs": [
    {
     "data": {
      "image/png": "[encoded data removed]",
      "text/plain": [
       "<Figure size 640x480 with 1 Axes>"
      ]
     },
     "metadata": {},
     "output_type": "display_data"
    }
   ],
   "source": [
    "showgraph(arr4)"
   ]
  },
  {
   "cell_type": "markdown",
   "id": "368bc926-adeb-4ad1-bd9c-9e161be00945",
   "metadata": {},
   "source": [
    "**Depth First Order**  \n",
    "The depth_first_order() method returns a depth first traversal from a node.\n",
    "\n",
    "This function takes following arguments:\n",
    "\n",
    "**the graph.**  \n",
    "the starting element to traverse graph from.\n",
    "**Example**  \n",
    "Traverse the graph depth first for given adjacency matrix:"
   ]
  },
  {
   "cell_type": "code",
   "execution_count": 69,
   "id": "9178e5fd-8740-4486-81a4-821edbba5d59",
   "metadata": {},
   "outputs": [
    {
     "name": "stdout",
     "output_type": "stream",
     "text": [
      "[1 0 3 2]\n"
     ]
    }
   ],
   "source": [
    "import numpy as np\n",
    "from scipy.sparse.csgraph import depth_first_order\n",
    "from scipy.sparse import csr_matrix\n",
    "\n",
    "arr5 = np.array([\n",
    "  [0, 1, 0, 1],\n",
    "  [1, 1, 1, 1],\n",
    "  [2, 1, 1, 0],\n",
    "  [0, 1, 0, 1]\n",
    "])\n",
    "\n",
    "newarr = csr_matrix(arr5)\n",
    "\n",
    "n_components, labels = depth_first_order(newarr, 1)\n",
    "print(n_components)"
   ]
  },
  {
   "cell_type": "markdown",
   "id": "c1b409d9-d88a-4a40-9b30-cc76db4dca85",
   "metadata": {},
   "source": [
    "**Breadth First Order**  \n",
    "The breadth_first_order() method returns a breadth first traversal from a node.\n",
    "\n",
    "This function takes following arguments:\n",
    "\n",
    "**the graph.**  \n",
    "the starting element to traverse graph from.\n",
    "**Example**  \n",
    "Traverse the graph breadth first for given adjacency matrix:"
   ]
  },
  {
   "cell_type": "code",
   "execution_count": 70,
   "id": "63a71fbb-4f21-48be-b11b-a336e7fd4725",
   "metadata": {},
   "outputs": [
    {
     "name": "stdout",
     "output_type": "stream",
     "text": [
      "[1 0 2 3]\n"
     ]
    }
   ],
   "source": [
    "import numpy as np\n",
    "from scipy.sparse.csgraph import breadth_first_order\n",
    "from scipy.sparse import csr_matrix\n",
    "\n",
    "arr6 = np.array([\n",
    "  [0, 1, 0, 1],\n",
    "  [1, 1, 1, 1],\n",
    "  [2, 1, 1, 0],\n",
    "  [0, 1, 0, 1]\n",
    "])\n",
    "\n",
    "newarr = csr_matrix(arr6)\n",
    "\n",
    "n_components, labels = breadth_first_order(newarr, 1)\n",
    "print(n_components)"
   ]
  },
  {
   "cell_type": "markdown",
   "id": "e0db54a5-b1b8-41ab-9a08-979b0998a9c5",
   "metadata": {},
   "source": [
    "# Spatial Data"
   ]
  },
  {
   "cell_type": "markdown",
   "id": "4ddb644f-0185-4880-9d92-d608f969b7c9",
   "metadata": {},
   "source": [
    "**Working with Spatial Data**  \n",
    "Spatial data refers to data that is represented in a geometric space.\n",
    "\n",
    "E.g. points on a coordinate system.\n",
    "\n",
    "We deal with spatial data problems on many tasks.\n",
    "\n",
    "E.g. finding if a point is inside a boundary or not.\n",
    "\n",
    "SciPy provides us with the module scipy.spatial, which has functions for working with spatial data.\n",
    "\n",
    "**Triangulation**  \n",
    "A Triangulation of a polygon is to divide the polygon into multiple triangles with which we can compute an area of the polygon.\n",
    "\n",
    "A Triangulation with points means creating surface composed triangles in which all of the given points are on at least one vertex of any triangle in the surface.\n",
    "\n",
    "One method to generate these triangulations through points is the Delaunay() Triangulation.\n",
    "\n",
    "**Example**  \n",
    "Create a triangulation from following points:"
   ]
  },
  {
   "cell_type": "code",
   "execution_count": 71,
   "id": "fc401f61-382e-4a48-931c-b03a9a59c867",
   "metadata": {},
   "outputs": [
    {
     "data": {
      "image/png": "[encoded data removed]",
      "text/plain": [
       "<Figure size 640x480 with 1 Axes>"
      ]
     },
     "metadata": {},
     "output_type": "display_data"
    }
   ],
   "source": [
    "import numpy as np\n",
    "from scipy.spatial import Delaunay\n",
    "import matplotlib.pyplot as plt\n",
    "\n",
    "points = np.array([\n",
    "  [2, 4],\n",
    "  [3, 4],\n",
    "  [3, 0],\n",
    "  [2, 2],\n",
    "  [4, 1]\n",
    "])\n",
    "\n",
    "indicies = Delaunay(points)\n",
    "simplices = indicies.simplices\n",
    "\n",
    "plt.triplot(points[:, 0], points[:, 1], simplices)\n",
    "plt.scatter(points[:, 0], points[:, 1], color='r')\n",
    "\n",
    "plt.show()"
   ]
  },
  {
   "cell_type": "markdown",
   "id": "d29e95d3-89ea-4969-990e-346972a900da",
   "metadata": {},
   "source": [
    ">Note: The simplices property creates a generalization of the triangle notation.\n",
    "\n",
    "**Convex Hull**  \n",
    "A convex hull is the smallest polygon that covers all of the given points.\n",
    "\n",
    "Use the ConvexHull() method to create a Convex Hull.\n",
    "\n",
    "**Example**  \n",
    "Create a convex hull for following points:"
   ]
  },
  {
   "cell_type": "code",
   "execution_count": 72,
   "id": "bea5d331-0fa2-466d-9b8e-22035f9828a4",
   "metadata": {},
   "outputs": [
    {
     "data": {
      "image/png": "[encoded data removed]",
      "text/plain": [
       "<Figure size 640x480 with 1 Axes>"
      ]
     },
     "metadata": {},
     "output_type": "display_data"
    }
   ],
   "source": [
    "import numpy as np\n",
    "from scipy.spatial import ConvexHull\n",
    "import matplotlib.pyplot as plt\n",
    "\n",
    "points = np.array([\n",
    "  [2, 4],\n",
    "  [3, 4],\n",
    "  [3, 0],\n",
    "  [2, 2],\n",
    "  [4, 1],\n",
    "  [1, 2],\n",
    "  [5, 0],\n",
    "  [3, 1],\n",
    "  [1, 2],\n",
    "  [0, 2]\n",
    "])\n",
    "\n",
    "hull = ConvexHull(points)\n",
    "hull_points = hull.simplices\n",
    "\n",
    "plt.scatter(points[:,0], points[:,1])\n",
    "for simplex in hull_points:\n",
    "  plt.plot(points[simplex,0], points[simplex,1], 'k-')\n",
    "\n",
    "plt.show()"
   ]
  },
  {
   "cell_type": "markdown",
   "id": "a7b01151-409c-49ac-bd48-252301db5a6c",
   "metadata": {},
   "source": [
    "**KDTrees**  \n",
    "KDTrees are a datastructure optimized for nearest neighbor queries.\n",
    "\n",
    "E.g. in a set of points using KDTrees we can efficiently ask which points are nearest to a certain given point.\n",
    "\n",
    "The KDTree() method returns a KDTree object.\n",
    "\n",
    "The query() method returns the distance to the nearest neighbor and the location of the neighbors.\n",
    "\n",
    "**Example**  \n",
    "Find the nearest neighbor to point (1,1):"
   ]
  },
  {
   "cell_type": "code",
   "execution_count": 73,
   "id": "e5ae6fea-2025-49bb-8cf6-4db2762e5ad3",
   "metadata": {},
   "outputs": [
    {
     "name": "stdout",
     "output_type": "stream",
     "text": [
      "(2.0, 0)\n"
     ]
    }
   ],
   "source": [
    "from scipy.spatial import KDTree\n",
    "import matplotlib.pyplot as plt\n",
    "import numpy as np\n",
    "\n",
    "points = [(1, -1), (2, 3), (-2, 3), (2, -3)]\n",
    "\n",
    "kdtree = KDTree(points)\n",
    "\n",
    "xinput = 1\n",
    "yinput = 1\n",
    "\n",
    "res = kdtree.query((xinput, yinput))\n",
    "\n",
    "print(res)"
   ]
  },
  {
   "cell_type": "code",
   "execution_count": 74,
   "id": "dcfe9a5c-97a2-4063-ac99-42c94c8db271",
   "metadata": {},
   "outputs": [
    {
     "data": {
      "image/png": "[encoded data removed]",
      "text/plain": [
       "<Figure size 640x480 with 1 Axes>"
      ]
     },
     "metadata": {},
     "output_type": "display_data"
    }
   ],
   "source": [
    "ptarray = np.array(points)\n",
    "plt.scatter(ptarray[:, 0], ptarray[:, 1])\n",
    "\n",
    "plt.scatter(xinput, yinput, color = 'red')\n",
    "xpoints = np.array([xinput, ptarray[res[1]][0]])\n",
    "ypoints = np.array([yinput, ptarray[res[1]][1]])\n",
    "plt.plot(xpoints, ypoints)\n",
    "\n",
    "plt.show()"
   ]
  },
  {
   "cell_type": "markdown",
   "id": "35a57034-a48f-48ee-9911-6bfdc5ca826a",
   "metadata": {},
   "source": [
    "## Distance Matrix"
   ]
  },
  {
   "cell_type": "markdown",
   "id": "71494e48-035d-4e24-98b8-83f42e80d1f0",
   "metadata": {},
   "source": [
    "There are many Distance Metrics used to find various types of distances between two points in data science, Euclidean distsance, cosine distsance etc.\n",
    "\n",
    "The distance between two vectors may not only be the length of straight line between them, it can also be the angle between them from origin, or number of unit steps required etc.\n",
    "\n",
    "Many of the Machine Learning algorithm's performance depends greatly on distance metrices. E.g. \"K Nearest Neighbors\", or \"K Means\" etc.\n",
    "\n",
    "Let us look at some of the Distance Metrices:\n",
    "\n",
    "**Euclidean Distance**  \n",
    "Find the euclidean distance between given points.  \n",
    "https://en.wikipedia.org/wiki/Euclidean_distance  \n",
    "**Example**  "
   ]
  },
  {
   "cell_type": "code",
   "execution_count": 75,
   "id": "35a65792-f228-43ff-b28c-904acc1687fe",
   "metadata": {},
   "outputs": [
    {
     "name": "stdout",
     "output_type": "stream",
     "text": [
      "9.219544457292887\n"
     ]
    }
   ],
   "source": [
    "from scipy.spatial.distance import euclidean\n",
    "\n",
    "p1 = (1, 0)\n",
    "p2 = (10, 2)\n",
    "\n",
    "res = euclidean(p1, p2)\n",
    "\n",
    "print(res)"
   ]
  },
  {
   "cell_type": "markdown",
   "id": "df5d5157-75bf-4c8f-a0b1-fd6a8846a929",
   "metadata": {},
   "source": [
    "**Cityblock Distance (Manhattan Distance)**  \n",
    "Is the distance computed using 4 degrees of movement.\n",
    "\n",
    "E.g. we can only move: up, down, right, or left, not diagonally.\n",
    "\n",
    "**Example**  \n",
    "Find the cityblock distance between given points:"
   ]
  },
  {
   "cell_type": "code",
   "execution_count": 76,
   "id": "cc82855a-5bec-4cee-bdb0-e36079ba7846",
   "metadata": {},
   "outputs": [
    {
     "name": "stdout",
     "output_type": "stream",
     "text": [
      "11\n"
     ]
    }
   ],
   "source": [
    "from scipy.spatial.distance import cityblock\n",
    "\n",
    "p1 = (1, 0)\n",
    "p2 = (10, 2)\n",
    "\n",
    "res = cityblock(p1, p2)\n",
    "\n",
    "print(res)"
   ]
  },
  {
   "cell_type": "markdown",
   "id": "51a82db1-10bf-4f1d-b5ef-7dc0f93cfefc",
   "metadata": {},
   "source": [
    "**Cosine Distance**  \n",
    "Is the value of cosine angle between the two points A and B.\n",
    "\n",
    "**Example**  \n",
    "Find the cosine distsance between given points:"
   ]
  },
  {
   "cell_type": "code",
   "execution_count": 77,
   "id": "da621faf-09ec-4497-841e-cbcd73824bcb",
   "metadata": {},
   "outputs": [
    {
     "name": "stdout",
     "output_type": "stream",
     "text": [
      "0.019419324309079777\n"
     ]
    }
   ],
   "source": [
    "from scipy.spatial.distance import cosine\n",
    "\n",
    "p1 = (1, 0)\n",
    "p2 = (10, 2)\n",
    "\n",
    "res = cosine(p1, p2)\n",
    "\n",
    "print(res)"
   ]
  },
  {
   "cell_type": "markdown",
   "id": "4cf06435-d162-4cda-bde2-aac5bb7c327a",
   "metadata": {},
   "source": [
    "**Hamming Distance**  \n",
    "Is the proportion of bits where two bits are different.\n",
    "\n",
    "It's a way to measure distance for binary sequences.  \n",
    "https://en.wikipedia.org/wiki/Hamming_distance\n",
    "\n",
    "**Example**  \n",
    "Find the hamming distance between given points:"
   ]
  },
  {
   "cell_type": "code",
   "execution_count": 78,
   "id": "8bb45596-9678-4a1f-b4c1-30dd06cac104",
   "metadata": {},
   "outputs": [
    {
     "name": "stdout",
     "output_type": "stream",
     "text": [
      "0.3333333333333333\n"
     ]
    }
   ],
   "source": [
    "from scipy.spatial.distance import hamming\n",
    "\n",
    "p1 = (1, 1, 1)\n",
    "p2 = (1, 1, 0)\n",
    "\n",
    "res = hamming(p1, p2)\n",
    "\n",
    "print(res)"
   ]
  },
  {
   "cell_type": "markdown",
   "id": "ef2fa439-fc15-4a91-a36e-45506e51acdc",
   "metadata": {},
   "source": [
    "# Matlab Arrays"
   ]
  },
  {
   "cell_type": "markdown",
   "id": "165f15de-7711-4202-926a-331e1bc6195b",
   "metadata": {},
   "source": [
    "**Working With Matlab Arrays**  \n",
    "We know that NumPy provides us with methods to persist the data in readable formats for Python. But SciPy provides us with interoperability with Matlab as well.\n",
    "\n",
    "SciPy provides us with the module scipy.io, which has functions for working with Matlab arrays.\n",
    "\n",
    "**Exporting Data in Matlab Format**  \n",
    "The savemat() function allows us to export data in Matlab format.\n",
    "\n",
    "The method takes the following parameters:\n",
    "\n",
    ">1.\tfilename - the file name for saving data.  \n",
    "2.\tmdict - a dictionary containing the data.  \n",
    "3.\tdo_compression - a boolean value that specifies whether to compress the result or not. Default False.  \n",
    "\n",
    "**Example**  \n",
    "Export the following array as variable name \"vec\" to a mat file:"
   ]
  },
  {
   "cell_type": "code",
   "execution_count": 79,
   "id": "955e2f93-170a-4690-a682-18de12a06368",
   "metadata": {},
   "outputs": [
    {
     "name": "stdout",
     "output_type": "stream",
     "text": [
      "[0 1 2 3 4 5 6 7 8 9]\n"
     ]
    }
   ],
   "source": [
    "from scipy import io\n",
    "import numpy as np\n",
    "\n",
    "arr = np.arange(10)\n",
    "print(arr)\n",
    "io.savemat('data/arr.mat', {\"vec\": arr})"
   ]
  },
  {
   "cell_type": "markdown",
   "id": "e66bda0e-b053-426d-ab25-0e50565e15ec",
   "metadata": {},
   "source": [
    ">Note: The example above saves a file name \"arr.mat\" on your computer.  \n",
    "To open the file, check out the \"Import Data from Matlab Format\" example below:  \n",
    "\n",
    "**Import Data from Matlab Format**  \n",
    "The loadmat() function allows us to import data from a Matlab file.\n",
    "\n",
    "The function takes one required parameter:\n",
    "\n",
    "filename - the file name of the saved data.\n",
    "\n",
    "It will return a structured array whose keys are the variable names, and the corresponding values are the variable values.\n",
    "\n",
    "**Example**  \n",
    "Import the array from following mat file.:"
   ]
  },
  {
   "cell_type": "code",
   "execution_count": 80,
   "id": "346ed9b9-be2a-4146-997f-0f62714dca28",
   "metadata": {},
   "outputs": [
    {
     "name": "stdout",
     "output_type": "stream",
     "text": [
      "{'__header__': b'MATLAB 5.0 MAT-file Platform: nt, Created on: Thu Aug  1 11:00:29 2024', '__version__': '1.0', '__globals__': [], 'vec': array([[0, 1, 2, 3, 4, 5, 6, 7, 8, 9]])}\n"
     ]
    }
   ],
   "source": [
    "from scipy import io\n",
    "import numpy as np\n",
    "\n",
    "# Import:\n",
    "mydata = io.loadmat('data/arr.mat')\n",
    "\n",
    "print(mydata)"
   ]
  },
  {
   "cell_type": "markdown",
   "id": "784c6954-bd8b-48be-821a-71260c1a538d",
   "metadata": {},
   "source": [
    "Use the variable name \"vec\" to display only the array from the matlab data:\n",
    "\n",
    "**Example**  "
   ]
  },
  {
   "cell_type": "code",
   "execution_count": 81,
   "id": "63d83edc-0cd4-48df-a270-e711f0f6347e",
   "metadata": {},
   "outputs": [
    {
     "name": "stdout",
     "output_type": "stream",
     "text": [
      "[[0 1 2 3 4 5 6 7 8 9]]\n"
     ]
    }
   ],
   "source": [
    "...\n",
    "\n",
    "print(mydata['vec'])"
   ]
  },
  {
   "cell_type": "markdown",
   "id": "10cb9f02-ac13-4fa2-8b24-d2050ca64fd8",
   "metadata": {},
   "source": [
    "Note: We can see that the array originally was 1D, but on extraction it has increased one dimension.\n",
    "\n",
    "In order to resolve this we can pass an additional argument squeeze_me=True:\n",
    "\n",
    "**Example**  "
   ]
  },
  {
   "cell_type": "code",
   "execution_count": 82,
   "id": "e2bf5c66-64b3-430e-8267-dbae097325da",
   "metadata": {},
   "outputs": [
    {
     "name": "stdout",
     "output_type": "stream",
     "text": [
      "[0 1 2 3 4 5 6 7 8 9]\n"
     ]
    }
   ],
   "source": [
    "# Import:\n",
    "mydata = io.loadmat('data/arr.mat', squeeze_me=True)\n",
    "\n",
    "print(mydata['vec'])"
   ]
  },
  {
   "cell_type": "markdown",
   "id": "3186a746-563f-473f-a8a2-8f9211286b1f",
   "metadata": {},
   "source": [
    "# Interpolation"
   ]
  },
  {
   "cell_type": "markdown",
   "id": "5ddd0e8e-f710-419b-85bc-244ff07ac9a2",
   "metadata": {},
   "source": [
    "**What is Interpolation?**  \n",
    "Interpolation is a method for generating points between given points.\n",
    "\n",
    "For example: for points 1 and 2, we may interpolate and find points 1.33 and 1.66.\n",
    "\n",
    "Interpolation has many usage, in Machine Learning we often deal with missing data in a dataset, interpolation is often used to substitute those values.\n",
    "\n",
    "This method of filling values is called imputation.\n",
    "\n",
    "Apart from imputation, interpolation is often used where we need to smooth the discrete points in a dataset.\n",
    "\n",
    "**How to Implement it in SciPy?**  \n",
    "SciPy provides us with a module called scipy.interpolate which has many functions to deal with interpolation:\n",
    "\n",
    "**1D Interpolation**  \n",
    "The function interp1d() is used to interpolate a distribution with 1 variable.\n",
    "\n",
    "It takes x and y points and returns a callable function that can be called with new x and returns corresponding y.\n",
    "\n",
    "**Example**  \n",
    "For given xs and ys interpolate values from 2.1, 2.2... to 2.9:"
   ]
  },
  {
   "cell_type": "code",
   "execution_count": 83,
   "id": "7615a946-1cdd-4201-a846-6468bd32eb36",
   "metadata": {},
   "outputs": [
    {
     "name": "stdout",
     "output_type": "stream",
     "text": [
      "[0 1 2 3 4 5 6 7 8 9]\n",
      "[ 1  3  5  7  9 11 13 15 17 19]\n",
      "[2.1 2.2 2.3 2.4 2.5 2.6 2.7 2.8 2.9]\n",
      "[5.2 5.4 5.6 5.8 6.  6.2 6.4 6.6 6.8]\n"
     ]
    }
   ],
   "source": [
    "from scipy.interpolate import interp1d\n",
    "import numpy as np\n",
    "\n",
    "xs = np.arange(10)\n",
    "ys = 2*xs + 1\n",
    "\n",
    "print(xs)\n",
    "print(ys)\n",
    "\n",
    "interp_func = interp1d(xs, ys)\n",
    "\n",
    "inputval = np.arange(2.1, 3, 0.1)\n",
    "print(inputval)\n",
    "\n",
    "newarr = interp_func(inputval)\n",
    "\n",
    "print(newarr)"
   ]
  },
  {
   "cell_type": "markdown",
   "id": "d1042378-fcb0-4cb6-843a-65c1d27cbaff",
   "metadata": {},
   "source": [
    ">Note: that new xs should be in same range as of the old xs, meaning that we can't call interp_func() with values higher than 10, or less than 0."
   ]
  },
  {
   "cell_type": "markdown",
   "id": "c8ce9488-bfb2-4952-94aa-fa49ab4458f4",
   "metadata": {},
   "source": [
    "**Spline Interpolation**  \n",
    "In 1D interpolation the points are fitted for a single curve whereas in Spline interpolation the points are fitted against a piecewise function defined with polynomials called splines.\n",
    "\n",
    "The UnivariateSpline() function takes xs and ys and produce a callable funciton that can be called with new xs.\n",
    "\n",
    ">Piecewise function: A function that has different definition for different ranges.\n",
    "\n",
    "**Example**  \n",
    "Find univariate spline interpolation for 2.1, 2.2... 2.9 for the following non linear points:"
   ]
  },
  {
   "cell_type": "code",
   "execution_count": 84,
   "id": "35885d57-0b79-4198-99ba-45f09a13cf02",
   "metadata": {},
   "outputs": [
    {
     "name": "stdout",
     "output_type": "stream",
     "text": [
      "[0 1 2 3 4 5 6 7 8 9]\n",
      "[ 1.          2.84147098  5.90929743 10.14112001 16.2431975  25.04107573\n",
      " 36.7205845  50.6569866  65.98935825 82.41211849]\n",
      "[2.1 2.4 2.7 3.  3.3 3.6 3.9]\n",
      "[ 5.62826474  6.92265019  8.39640439 10.05077134 11.88699504 13.90631948\n",
      " 16.10998866]\n"
     ]
    }
   ],
   "source": [
    "from scipy.interpolate import UnivariateSpline\n",
    "import numpy as np\n",
    "\n",
    "xs = np.arange(10)\n",
    "ys = xs**2 + np.sin(xs) + 1\n",
    "\n",
    "print(xs)\n",
    "print(ys)\n",
    "\n",
    "interp_func = UnivariateSpline(xs, ys)\n",
    "\n",
    "inputval = np.arange(2.1, 4, 0.3)\n",
    "print(inputval)\n",
    "\n",
    "newarr = interp_func(inputval)\n",
    "\n",
    "print(newarr)"
   ]
  },
  {
   "cell_type": "markdown",
   "id": "b522d542-ffa7-446f-b293-25dbbac2683d",
   "metadata": {},
   "source": [
    "**Interpolation with Radial Basis Function**  \n",
    "Radial basis function is a function that is defined corresponding to a fixed reference point.\n",
    "\n",
    "The Rbf() function also takes xs and ys as arguments and produces a callable function that can be called with new xs.\n",
    "\n",
    "**Example**  \n",
    "Interpolate following xs and ys using rbf and find values for 2.1, 2.2 ... 2.9:"
   ]
  },
  {
   "cell_type": "code",
   "execution_count": 85,
   "id": "487d8e76-b33c-407d-8952-3a56b645b409",
   "metadata": {},
   "outputs": [
    {
     "name": "stdout",
     "output_type": "stream",
     "text": [
      "[0 1 2 3 4 5 6 7 8 9]\n",
      "[ 1.          2.84147098  5.90929743 10.14112001 16.2431975  25.04107573\n",
      " 36.7205845  50.6569866  65.98935825 82.41211849]\n",
      "[2.1 2.4 2.7 3.  3.3 3.6 3.9]\n",
      "[ 6.25748981  7.40121814  8.69590519 10.14112001 11.74526552 13.52780741\n",
      " 15.52359053]\n"
     ]
    }
   ],
   "source": [
    "from scipy.interpolate import Rbf\n",
    "import numpy as np\n",
    "\n",
    "xs = np.arange(10)\n",
    "ys = xs**2 + np.sin(xs) + 1\n",
    "\n",
    "print(xs)\n",
    "print(ys)\n",
    "\n",
    "interp_func = Rbf(xs, ys)\n",
    "\n",
    "inputval = np.arange(2.1, 4, 0.3)\n",
    "print(inputval)\n",
    "\n",
    "newarr = interp_func(inputval)\n",
    "\n",
    "print(newarr)"
   ]
  },
  {
   "cell_type": "markdown",
   "id": "75ff178a-3265-4130-9019-0fe83a5d2526",
   "metadata": {},
   "source": [
    "# Statistical Significance Tests"
   ]
  },
  {
   "cell_type": "markdown",
   "id": "be56a71e-9ae8-4b4b-9cb4-06c295da8347",
   "metadata": {},
   "source": [
    "**What is Statistical Significance Test?**  \n",
    "In statistics, statistical significance means that the result that was produced has a reason behind it, it was not produced randomly, or by chance.\n",
    "\n",
    "SciPy provides us with a module called scipy.stats, which has functions for performing statistical significance tests.\n",
    "\n",
    "Here are some techniques and keywords that are important when performing such tests:\n",
    "\n",
    "**Hypothesis in Statistics**  \n",
    "Hypothesis is an assumption about a parameter in population.\n",
    "\n",
    "**Null Hypothesis**  \n",
    "It assumes that the observation is not statistically significant.\n",
    "\n",
    "**Alternate Hypothesis**  \n",
    "It assumes that the observations are due to some reason.\n",
    "\n",
    "It's alternate to Null Hypothesis.\n",
    "\n",
    "**Example:**  \n",
    "\n",
    "For an assessment of a student we would take:\n",
    "\n",
    "\"student is worse than average\" - as a null hypothesis, and:\n",
    "\n",
    "\"student is better than average\" - as an alternate hypothesis.\n",
    "\n",
    "**One tailed test**  \n",
    "When our hypothesis is testing for one side of the value only, it is called \"one tailed test\".\n",
    "\n",
    "**Example:**  \n",
    "\n",
    "For the null hypothesis:\n",
    "\n",
    "\"the mean is equal to k\", we can have alternate hypothesis:\n",
    "\n",
    "\"the mean is less than k\", or:\n",
    "\n",
    "\"the mean is greater than k\"\n",
    "\n",
    "**Two tailed test**  \n",
    "When our hypothesis is testing for both side of the values.\n",
    "\n",
    "**Example:**  \n",
    "\n",
    "For the null hypothesis:\n",
    "\n",
    "\"the mean is equal to k\", we can have alternate hypothesis:\n",
    "\n",
    "\"the mean is not equal to k\"\n",
    "\n",
    "In this case the mean is less than, or greater than k, and both sides are to be checked.\n",
    "\n",
    "**Alpha value**  \n",
    "Alpha value is the level of significance.\n",
    "\n",
    "**Example:**  \n",
    "\n",
    "How close to extremes the data must be for null hypothesis to be rejected.\n",
    "\n",
    "It is usually taken as 0.01, 0.05, or 0.1.\n",
    "\n",
    "**P value**  \n",
    "P value tells how close to extreme the data actually is.\n",
    "\n",
    "P value and alpha values are compared to establish the statistical significance.\n",
    "\n",
    "If p value <= alpha we reject the null hypothesis and say that the data is statistically significant. otherwise we accept the null hypothesis.\n",
    "\n",
    "**T-Test**  \n",
    "T-tests are used to determine if there is significant deference between means of two variables and lets us know if they belong to the same distribution.\n",
    "\n",
    "It is a two tailed test.\n",
    "\n",
    "The function ttest_ind() takes two samples of same size and produces a tuple of t-statistic and p-value.\n",
    "\n",
    "**Example**  \n",
    "Find if the given values v1 and v2 are from same distribution:"
   ]
  },
  {
   "cell_type": "code",
   "execution_count": 86,
   "id": "1e3e87a8-cf27-4e62-9d2d-c449a71905fe",
   "metadata": {},
   "outputs": [
    {
     "name": "stdout",
     "output_type": "stream",
     "text": [
      "TtestResult(statistic=0.5068182666917657, pvalue=0.6128462812989093, df=198.0)\n"
     ]
    }
   ],
   "source": [
    "import numpy as np\n",
    "from scipy.stats import ttest_ind\n",
    "\n",
    "v1 = np.random.normal(size=100)\n",
    "v2 = np.random.normal(size=100)\n",
    "\n",
    "res = ttest_ind(v1, v2)\n",
    "\n",
    "print(res)"
   ]
  },
  {
   "cell_type": "markdown",
   "id": "cd03ce64-0dd1-4ea6-82eb-ba9a7222401b",
   "metadata": {},
   "source": [
    "If you want to return only the p-value, use the pvalue property:\n",
    "\n",
    "**Example**  "
   ]
  },
  {
   "cell_type": "code",
   "execution_count": 87,
   "id": "a8cb0263-5be7-403b-9fde-d9525ee857fc",
   "metadata": {},
   "outputs": [
    {
     "name": "stdout",
     "output_type": "stream",
     "text": [
      "0.6128462812989093\n"
     ]
    }
   ],
   "source": [
    "...\n",
    "res = ttest_ind(v1, v2).pvalue\n",
    "\n",
    "print(res)"
   ]
  },
  {
   "cell_type": "markdown",
   "id": "cfe1f9b1-f75a-40fc-ba0c-49afa6106fbb",
   "metadata": {},
   "source": [
    "**KS-Test**  \n",
    "KS test is used to check if given values follow a distribution.\n",
    "\n",
    "The function takes the value to be tested, and the CDF as two parameters.\n",
    "\n",
    "A CDF can be either a string or a callable function that returns the probability.\n",
    "\n",
    "It can be used as a one tailed or two tailed test.\n",
    "\n",
    "By default it is two tailed. We can pass parameter alternative as a string of one of two-sided, less, or greater.\n",
    "\n",
    "**Example**  \n",
    "Find if the given value follows the normal distribution:"
   ]
  },
  {
   "cell_type": "code",
   "execution_count": 88,
   "id": "84dda8dc-a0e0-4d6f-8680-d9eca0f9f907",
   "metadata": {},
   "outputs": [
    {
     "name": "stdout",
     "output_type": "stream",
     "text": [
      "KstestResult(statistic=0.04590263995908461, pvalue=0.9780420123157221, statistic_location=-1.2486167583276098, statistic_sign=-1)\n"
     ]
    }
   ],
   "source": [
    "import numpy as np\n",
    "from scipy.stats import kstest\n",
    "\n",
    "v = np.random.normal(size=100)\n",
    "\n",
    "res = kstest(v, 'norm')\n",
    "\n",
    "print(res)"
   ]
  },
  {
   "cell_type": "markdown",
   "id": "cb46e161-30cd-441e-8b8d-44a390f94c8c",
   "metadata": {},
   "source": [
    "**Statistical Description of Data**  \n",
    "In order to see a summary of values in an array, we can use the describe() function.\n",
    "\n",
    "It returns the following description:\n",
    ">1.\tnumber of observations (nobs)\n",
    "2.\tminimum and maximum values = minmax\n",
    "3.\tmean\n",
    "4.\tvariance\n",
    "5.\tskewness\n",
    "6.\tkurtosis\n",
    "\n",
    "**Example**  \n",
    "Show statistical description of the values in an array:"
   ]
  },
  {
   "cell_type": "code",
   "execution_count": 89,
   "id": "5eabba00-f1de-49c1-a237-69e343e03844",
   "metadata": {},
   "outputs": [
    {
     "name": "stdout",
     "output_type": "stream",
     "text": [
      "DescribeResult(nobs=100, minmax=(-2.564079383698033, 2.2423594573102665), mean=0.007837015445297035, variance=1.0177149895070372, skewness=-0.245619597997892, kurtosis=-0.1704923383701309)\n"
     ]
    }
   ],
   "source": [
    "import numpy as np\n",
    "from scipy.stats import describe\n",
    "\n",
    "v = np.random.normal(size=100)\n",
    "res = describe(v)\n",
    "\n",
    "print(res)"
   ]
  },
  {
   "cell_type": "markdown",
   "id": "67964d3f-49ce-42f8-8ea2-5f7974003695",
   "metadata": {},
   "source": [
    "**Normality Tests (Skewness and Kurtosis)**  \n",
    "Normality tests are based on the skewness and kurtosis.\n",
    "\n",
    "The normaltest() function returns p value for the null hypothesis:\n",
    "\n",
    "\"x comes from a normal distribution\".\n",
    "\n",
    "**Skewness:**  \n",
    "A measure of symmetry in data.\n",
    "\n",
    "For normal distributions it is 0.\n",
    "\n",
    "If it is negative, it means the data is skewed left.\n",
    "\n",
    "If it is positive it means the data is skewed right.\n",
    "\n",
    "**Kurtosis:**  \n",
    "A measure of whether the data is heavy or lightly tailed to a normal distribution.\n",
    "\n",
    "Positive kurtosis means heavy tailed.\n",
    "\n",
    "Negative kurtosis means lightly tailed.\n",
    "\n",
    "**Example**  \n",
    "Find skewness and kurtosis of values in an array:"
   ]
  },
  {
   "cell_type": "code",
   "execution_count": 90,
   "id": "573fae23-902d-49c7-9171-4d5343ba0780",
   "metadata": {},
   "outputs": [
    {
     "name": "stdout",
     "output_type": "stream",
     "text": [
      "-0.17928564775315436\n",
      "-0.556960812707501\n"
     ]
    }
   ],
   "source": [
    "import numpy as np\n",
    "from scipy.stats import skew, kurtosis\n",
    "\n",
    "v = np.random.normal(size=100)\n",
    "\n",
    "print(skew(v))\n",
    "print(kurtosis(v))"
   ]
  },
  {
   "cell_type": "markdown",
   "id": "d2092135-f6c5-42d6-80f2-ed949513410e",
   "metadata": {},
   "source": [
    "**Example**  \n",
    "Find if the data comes from a normal distribution:"
   ]
  },
  {
   "cell_type": "code",
   "execution_count": 91,
   "id": "66f59a2f-b07c-4f86-bc34-8969b2ab20a4",
   "metadata": {},
   "outputs": [
    {
     "name": "stdout",
     "output_type": "stream",
     "text": [
      "NormaltestResult(statistic=1.647603290309297, pvalue=0.4387604682819335)\n"
     ]
    }
   ],
   "source": [
    "import numpy as np\n",
    "from scipy.stats import normaltest\n",
    "\n",
    "v = np.random.normal(size=100)\n",
    "\n",
    "print(normaltest(v))"
   ]
  }
 ],
 "metadata": {
  "kernelspec": {
   "display_name": "Python 3 (ipykernel)",
   "language": "python",
   "name": "python3"
  },
  "language_info": {
   "codemirror_mode": {
    "name": "ipython",
    "version": 3
   },
   "file_extension": ".py",
   "mimetype": "text/x-python",
   "name": "python",
   "nbconvert_exporter": "python",
   "pygments_lexer": "ipython3",
   "version": "3.12.4"
  }
 },
 "nbformat": 4,
 "nbformat_minor": 5
}
