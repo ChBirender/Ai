{
 "cells": [
  {
   "cell_type": "markdown",
   "id": "fa80fdc7-1a4d-4e33-a7fd-9b31214b0c25",
   "metadata": {},
   "source": [
    "# Pandas Introduction"
   ]
  },
  {
   "cell_type": "markdown",
   "id": "e64392d3-f1eb-47dd-9027-e69832be15de",
   "metadata": {},
   "source": [
    "**What is Pandas?**  \n",
    "Pandas is a Python library used for working with data sets.\n",
    "\n",
    "It has functions for analyzing, cleaning, exploring, and manipulating data.\n",
    "\n",
    "The name \"Pandas\" has a reference to both \"Panel Data\", and \"Python Data Analysis\" and was created by Wes McKinney in 2008.\n",
    "\n",
    "**Why Use Pandas?**  \n",
    "Pandas allows us to analyze big data and make conclusions based on statistical theories.\n",
    "\n",
    "Pandas can clean messy data sets, and make them readable and relevant.\n",
    "\n",
    "Relevant data is very important in data science.\n",
    "\n",
    ">Data Science: is a branch of computer science where we study how to store, use and analyze data for deriving information from it.\n",
    "\n",
    "**What Can Pandas Do?**  \n",
    "Pandas gives you answers about the data. Like:  \n",
    ">•\tIs there a correlation between two or more columns?  \n",
    "•\tWhat is average value?  \n",
    "•\tMax value?  \n",
    "•\tMin value?  \n",
    "\n",
    "Pandas are also able to delete rows that are not relevant, or contains wrong values, like empty or NULL values. This is called cleaning the data.\n",
    "\n",
    "**Where is the Pandas Codebase?**  \n",
    "The source code for Pandas is located at this github repository https://github.com/pandas-dev/pandas\n",
    "\n",
    ">github: enables many people to work on the same codebase."
   ]
  },
  {
   "cell_type": "markdown",
   "id": "9dbb4cf6-4ff4-4dd7-9348-0f8a90d420d2",
   "metadata": {},
   "source": [
    "# Installation of Pandas"
   ]
  },
  {
   "cell_type": "markdown",
   "id": "046f9e02-16db-4373-a6f6-f2cf568c3d29",
   "metadata": {},
   "source": [
    "If you have Python and PIP already installed on a system, then installation of Pandas is very easy.\n",
    "\n",
    "Install it using this command:  \n",
    "pip install pandas\n",
    "\n",
    "**Import Pandas**  \n",
    "Once Pandas is installed, import it in your applications by adding the import keyword:\n",
    "\n",
    "import pandas\n",
    "Now Pandas is imported and ready to use.\n",
    "\n",
    "**Example**"
   ]
  },
  {
   "cell_type": "code",
   "execution_count": 46,
   "id": "80a5575c-9a85-417a-81e4-0f07e5c52620",
   "metadata": {},
   "outputs": [
    {
     "name": "stdout",
     "output_type": "stream",
     "text": [
      "<class 'dict'>\n",
      "{'cars': ['BMW', 'Volvo', 'Ford'], 'passings': [3, 7, 2]}\n",
      "<class 'pandas.core.frame.DataFrame'>\n",
      "    cars  passings\n",
      "0    BMW         3\n",
      "1  Volvo         7\n",
      "2   Ford         2\n"
     ]
    }
   ],
   "source": [
    "import pandas\n",
    "mydataset = {\n",
    "  'cars': [\"BMW\", \"Volvo\", \"Ford\"],\n",
    "  'passings': [3, 7, 2]\n",
    "}\n",
    "print(type(mydataset))\n",
    "print(mydataset)\n",
    "myvar = pandas.DataFrame(mydataset)\n",
    "print(type(myvar))\n",
    "print(myvar)"
   ]
  },
  {
   "cell_type": "markdown",
   "id": "a785fcc7-db92-4cd0-b78f-633b9c8ad65d",
   "metadata": {},
   "source": [
    "# Series"
   ]
  },
  {
   "cell_type": "markdown",
   "id": "5a542c50-d3a1-4dc7-9c03-5e5cc1bd56f7",
   "metadata": {},
   "source": [
    "**What is a Series?**  \n",
    "A Pandas Series is like a column in a table.\n",
    "\n",
    "It is a one-dimensional array holding data of any type.\n",
    "\n",
    "Example\n",
    "Create a simple Pandas Series from a list:"
   ]
  },
  {
   "cell_type": "code",
   "execution_count": 47,
   "id": "eef058be-ecbd-482c-a51d-23ab7a52e1db",
   "metadata": {},
   "outputs": [
    {
     "name": "stdout",
     "output_type": "stream",
     "text": [
      "0    1\n",
      "1    7\n",
      "2    2\n",
      "dtype: int64\n"
     ]
    }
   ],
   "source": [
    "import pandas as pd\n",
    "a = [1, 7, 2]\n",
    "myvar = pd.Series(a)\n",
    "print(myvar)"
   ]
  },
  {
   "cell_type": "markdown",
   "id": "7ba1d4ba-0440-4190-8688-8f3a0473e717",
   "metadata": {},
   "source": [
    "**Labels**  \n",
    "If nothing else is specified, the values are labeled with their index number. First value has index 0, second value has index 1 etc.\n",
    "\n",
    "This label can be used to access a specified value.\n",
    "\n",
    "**Example**  \n",
    "Return the first value of the Series:"
   ]
  },
  {
   "cell_type": "code",
   "execution_count": 48,
   "id": "08ff7ec8-28a7-4ccd-a3ab-8621a0fd22ae",
   "metadata": {},
   "outputs": [
    {
     "name": "stdout",
     "output_type": "stream",
     "text": [
      "1\n"
     ]
    }
   ],
   "source": [
    "print(myvar[0])"
   ]
  },
  {
   "cell_type": "markdown",
   "id": "b6aee60e-7e18-48d3-a9e1-4a671c21ba15",
   "metadata": {},
   "source": [
    "**Create Labels**  \n",
    "With the index argument, you can name your own labels.\n",
    "\n",
    "**Example**  \n",
    "Create your own labels:"
   ]
  },
  {
   "cell_type": "code",
   "execution_count": 49,
   "id": "b6e86428-9295-4eed-bd3d-d0866c3f0546",
   "metadata": {},
   "outputs": [
    {
     "name": "stdout",
     "output_type": "stream",
     "text": [
      "x    1\n",
      "y    7\n",
      "z    2\n",
      "dtype: int64\n",
      "<class 'pandas.core.series.Series'>\n"
     ]
    }
   ],
   "source": [
    "import pandas as pd\n",
    "\n",
    "a = [1, 7, 2]\n",
    "\n",
    "myvar = pd.Series(a, index = [\"x\", \"y\", \"z\"])\n",
    "\n",
    "print(myvar)\n",
    "print(type(myvar))"
   ]
  },
  {
   "cell_type": "markdown",
   "id": "68449264-671a-4853-ad4d-34707927022b",
   "metadata": {},
   "source": [
    "When you have created labels, you can access an item by referring to the label.\n",
    "\n",
    "**Example**  \n",
    "Return the value of \"y\":"
   ]
  },
  {
   "cell_type": "code",
   "execution_count": 50,
   "id": "edd181a5-2f04-4bff-b122-3eab995fae3c",
   "metadata": {},
   "outputs": [
    {
     "name": "stdout",
     "output_type": "stream",
     "text": [
      "7\n"
     ]
    }
   ],
   "source": [
    "print(myvar[\"y\"])"
   ]
  },
  {
   "cell_type": "markdown",
   "id": "b417c871-bebb-4860-9bc8-db91d40f6205",
   "metadata": {},
   "source": [
    "**Key/Value Objects as Series**  \n",
    "You can also use a key/value object, like a dictionary, when creating a Series.\n",
    "\n",
    "**Example**  \n",
    "Create a simple Pandas Series from a dictionary:"
   ]
  },
  {
   "cell_type": "code",
   "execution_count": 51,
   "id": "7ab3b064-619d-42f2-a578-a56d12f9eec0",
   "metadata": {},
   "outputs": [
    {
     "name": "stdout",
     "output_type": "stream",
     "text": [
      "day1    420\n",
      "day2    380\n",
      "day3    390\n",
      "dtype: int64\n",
      "<class 'pandas.core.series.Series'>\n"
     ]
    }
   ],
   "source": [
    "import pandas as pd\n",
    "calories = {\"day1\": 420, \"day2\": 380, \"day3\": 390}\n",
    "myvar = pd.Series(calories)\n",
    "print(myvar)\n",
    "print(type(myvar))"
   ]
  },
  {
   "cell_type": "markdown",
   "id": "957feb08-4830-4c8d-9e5b-8910c9910a59",
   "metadata": {},
   "source": [
    ">Note: The keys of the dictionary become the labels.\n",
    "\n",
    "To select only some of the items in the dictionary, use the index argument and specify only the items you want to include in the Series.\n",
    "\n",
    "**Example**  \n",
    "Create a Series using only data from \"day1\" and \"day2\":"
   ]
  },
  {
   "cell_type": "code",
   "execution_count": 52,
   "id": "ac2bcb9f-1a02-4391-87df-bfb4c69ea115",
   "metadata": {},
   "outputs": [
    {
     "name": "stdout",
     "output_type": "stream",
     "text": [
      "day1    420\n",
      "day2    380\n",
      "dtype: int64\n",
      "<class 'pandas.core.series.Series'>\n"
     ]
    }
   ],
   "source": [
    "import pandas as pd\n",
    "calories = {\"day1\": 420, \"day2\": 380, \"day3\": 390}\n",
    "myvar = pd.Series(calories, index = [\"day1\", \"day2\"])\n",
    "print(myvar)\n",
    "print(type(myvar))"
   ]
  },
  {
   "cell_type": "markdown",
   "id": "feb5325e-18fd-4013-9886-2867708de7c1",
   "metadata": {},
   "source": [
    "# DataFrames"
   ]
  },
  {
   "cell_type": "markdown",
   "id": "cd567f1f-d3b4-4de7-b3a8-62bc1fc4bf57",
   "metadata": {},
   "source": [
    "**What is a DataFrame?**  \n",
    "A Pandas DataFrame is a 2 dimensional data structure, like a 2 dimensional array, or a table with rows and columns.\n",
    "\n",
    "**Example**  \n",
    "Create a simple Pandas DataFrame:"
   ]
  },
  {
   "cell_type": "code",
   "execution_count": 53,
   "id": "f71f7c3f-2e71-4abf-b5a8-8446de5e5e29",
   "metadata": {},
   "outputs": [
    {
     "name": "stdout",
     "output_type": "stream",
     "text": [
      "<class 'dict'>\n",
      "   calories  duration\n",
      "0       420        50\n",
      "1       380        40\n",
      "2       390        45\n",
      "<class 'pandas.core.frame.DataFrame'>\n"
     ]
    }
   ],
   "source": [
    "import pandas as pd\n",
    "data = {\n",
    "  \"calories\": [420, 380, 390],\n",
    "  \"duration\": [50, 40, 45]\n",
    "}\n",
    "print(type(data))\n",
    "#load data into a DataFrame object:\n",
    "df = pd.DataFrame(data)\n",
    "print(df)\n",
    "print(type(df))"
   ]
  },
  {
   "cell_type": "markdown",
   "id": "a2826b5a-df95-46d0-8973-187ed600cb22",
   "metadata": {},
   "source": [
    "**Locate Row**  \n",
    "As you can see from the result above, the DataFrame is like a table with rows and columns.\n",
    "\n",
    "Pandas use the loc attribute to return one or more specified row(s)\n",
    "\n",
    "**Example**  \n",
    "Return row 0:"
   ]
  },
  {
   "cell_type": "code",
   "execution_count": 54,
   "id": "47c4b683-d331-4d26-a46d-000a9021723d",
   "metadata": {},
   "outputs": [
    {
     "name": "stdout",
     "output_type": "stream",
     "text": [
      "calories    420\n",
      "duration     50\n",
      "Name: 0, dtype: int64\n"
     ]
    }
   ],
   "source": [
    "#refer to the row index:\n",
    "print(df.loc[0])"
   ]
  },
  {
   "cell_type": "markdown",
   "id": "b5f2f6ac-f7e4-40a2-a1ce-813d8dbf3446",
   "metadata": {},
   "source": [
    ">Note: This example returns a Pandas Series.\n",
    "\n",
    "**Example**  \n",
    "Return row 0 and 1:"
   ]
  },
  {
   "cell_type": "code",
   "execution_count": 55,
   "id": "10d6c7fa-f4c5-43b8-9f4b-f96b225a58b4",
   "metadata": {},
   "outputs": [
    {
     "name": "stdout",
     "output_type": "stream",
     "text": [
      "   calories  duration\n",
      "0       420        50\n",
      "1       380        40\n"
     ]
    }
   ],
   "source": [
    "#use a list of indexes:\n",
    "print(df.loc[[0, 1]])"
   ]
  },
  {
   "cell_type": "markdown",
   "id": "2304df19-6ca0-441a-b6bb-95bd73c1b898",
   "metadata": {},
   "source": [
    ">Note: When using [], the result is a Pandas DataFrame.\n",
    "\n",
    "**Named Indexes**  \n",
    "With the index argument, you can name your own indexes.\n",
    "\n",
    "**Example**  \n",
    "Add a list of names to give each row a name:"
   ]
  },
  {
   "cell_type": "code",
   "execution_count": 56,
   "id": "851cc13c-a083-447e-914b-5ed3212f57af",
   "metadata": {},
   "outputs": [
    {
     "name": "stdout",
     "output_type": "stream",
     "text": [
      "      calories  duration\n",
      "day1       420        50\n",
      "day2       380        40\n",
      "day3       390        45\n"
     ]
    }
   ],
   "source": [
    "import pandas as pd\n",
    "data = {\n",
    "  \"calories\": [420, 380, 390],\n",
    "  \"duration\": [50, 40, 45]\n",
    "}\n",
    "df = pd.DataFrame(data, index = [\"day1\", \"day2\", \"day3\"])\n",
    "print(df)"
   ]
  },
  {
   "cell_type": "markdown",
   "id": "b727a6c1-bce8-4a91-8326-d33d9312826b",
   "metadata": {},
   "source": [
    "**Locate Named Indexes**  \n",
    "Use the named index in the loc attribute to return the specified row(s).\n",
    "\n",
    "**Example**  \n",
    "Return \"day2\":"
   ]
  },
  {
   "cell_type": "code",
   "execution_count": 57,
   "id": "0b00cfec-f077-498d-bfd4-f6a7bac5d4c5",
   "metadata": {},
   "outputs": [
    {
     "name": "stdout",
     "output_type": "stream",
     "text": [
      "calories    380\n",
      "duration     40\n",
      "Name: day2, dtype: int64\n"
     ]
    }
   ],
   "source": [
    "#refer to the named index:\n",
    "print(df.loc[\"day2\"])"
   ]
  },
  {
   "cell_type": "markdown",
   "id": "d2daddd3-a6c4-48ef-8530-ec8689991ea7",
   "metadata": {},
   "source": [
    "**Load Files Into a DataFrame**  \n",
    "If your data sets are stored in a file, Pandas can load them into a DataFrame.\n",
    "\n",
    "**Example**  \n",
    "Load a comma separated file (CSV file) into a DataFrame:"
   ]
  },
  {
   "cell_type": "code",
   "execution_count": 58,
   "id": "42590e89-cb29-4007-8078-7f7dcfadf436",
   "metadata": {},
   "outputs": [],
   "source": [
    "# Create original File\n",
    "import pandas as pd \n",
    "dataframe1 = pd.read_csv(\"data/PandaData.txt\")\n",
    "dataframe1.to_csv('data/PandaData.csv',index = None)"
   ]
  },
  {
   "cell_type": "code",
   "execution_count": 59,
   "id": "4444b253-4bca-4a82-b67a-bec547e911d7",
   "metadata": {},
   "outputs": [
    {
     "name": "stdout",
     "output_type": "stream",
     "text": [
      "    Duration          Date  Pulse  Maxpulse  Calories\n",
      "0         60  '2020/12/01'    110       130     409.1\n",
      "1         60  '2020/12/02'    117       145     479.0\n",
      "2         60  '2020/12/03'    103       135     340.0\n",
      "3         45  '2020/12/04'    109       175     282.4\n",
      "4         45  '2020/12/05'    117       148     406.0\n",
      "5         60  '2020/12/06'    102       127     300.0\n",
      "6         60  '2020/12/07'    110       136     374.0\n",
      "7        450  '2020/12/08'    104       134     253.3\n",
      "8         30  '2020/12/09'    109       133     195.1\n",
      "9         60  '2020/12/10'     98       124     269.0\n",
      "10        60  '2020/12/11'    103       147     329.3\n",
      "11        60  '2020/12/12'    100       120     250.7\n",
      "12        60  '2020/12/12'    100       120     250.7\n",
      "13        60  '2020/12/13'    106       128     345.3\n",
      "14        60  '2020/12/14'    104       132     379.3\n",
      "15        60  '2020/12/15'     98       123     275.0\n",
      "16        60  '2020/12/16'     98       120     215.2\n",
      "17        60  '2020/12/17'    100       120     300.0\n",
      "18        45  '2020/12/18'     90       112       NaN\n",
      "19        60  '2020/12/19'    103       123     323.0\n",
      "20        45  '2020/12/20'     97       125     243.0\n",
      "21        60  '2020/12/21'    108       131     364.2\n",
      "22        45           NaN    100       119       NaN\n",
      "23        60  '2020/12/23'    130       101     300.0\n",
      "24        45  '2020/12/24'    105       132     246.0\n",
      "25        60  '2020/12/25'    102       126     334.5\n",
      "26        60    2020/12/26    100       120     250.0\n",
      "27        60  '2020/12/27'     92       118     241.0\n",
      "28        60  '2020/12/28'    103       132       NaN\n",
      "29        60  '2020/12/29'    100       132     280.0\n",
      "30        60  '2020/12/30'    102       129     380.3\n",
      "31        60  '2020/12/31'     92       115     243.0\n"
     ]
    }
   ],
   "source": [
    "import pandas as pd\n",
    "df = pd.read_csv('data/PandaData.csv')\n",
    "print(df) "
   ]
  },
  {
   "cell_type": "markdown",
   "id": "645708d8-43cb-4f9e-bacc-d58ad566ad19",
   "metadata": {
    "jp-MarkdownHeadingCollapsed": true
   },
   "source": [
    "# DataFrame Reference"
   ]
  },
  {
   "cell_type": "markdown",
   "id": "31d42f7b-a532-4a13-a7f1-a1946378eea1",
   "metadata": {},
   "source": [
    "All properties and methods of the DataFrame object, with explanations and examples:\n",
    "| Property/Method   | Description                                                                                                                                |\n",
    "| ----------------- | ------------------------------------------------------------------------------------------------------------------------------------------ |\n",
    "| abs()             | Return a DataFrame with the absolute value of each value                                                                                   |\n",
    "| add()             | Adds the values of a DataFrame with the specified value(s)                                                                                 |\n",
    "| add_prefix()      | Prefix all labels                                                                                                                          |\n",
    "| add_suffix()      | Suffix all labels                                                                                                                          |\n",
    "| agg()             | Apply a function or a function name to one of the axis of the DataFrame                                                                    |\n",
    "| aggregate()       | Apply a function or a function name to one of the axis of the DataFrame                                                                    |\n",
    "| align()           | Aligns two DataFrames with a specified join method                                                                                         |\n",
    "| all()             | Return True if all values in the DataFrame are True, otherwise False                                                                       |\n",
    "| any()             | Returns True if any of the values in the DataFrame are True, otherwise False                                                               |\n",
    "| append()          | Append new columns                                                                                                                         |\n",
    "| applymap()        | Execute a function for each element in the DataFrame                                                                                       |\n",
    "| apply()           | Apply a function to one of the axis of the DataFrame                                                                                       |\n",
    "| assign()          | Assign new columns                                                                                                                         |\n",
    "| astype()          | Convert the DataFrame into a specified dtype                                                                                               |\n",
    "| at                | Get or set the value of the item with the specified label                                                                                  |\n",
    "| axes              | Returns the labels of the rows and the columns of the DataFrame                                                                            |\n",
    "| bfill()           | Replaces NULL values with the value from the next row                                                                                      |\n",
    "| bool()            | Returns the Boolean value of the DataFrame                                                                                                 |\n",
    "| columns           | Returns the column labels of the DataFrame                                                                                                 |\n",
    "| combine()         | Compare the values in two DataFrames, and let a function decide which values to keep                                                       |\n",
    "| combine_first()   | Compare two DataFrames, and if the first DataFrame has a NULL value, it will be filled with the respective value from the second DataFrame |\n",
    "| compare()         | Compare two DataFrames and return the differences                                                                                          |\n",
    "| convert_dtypes()  | Converts the columns in the DataFrame into new dtypes                                                                                      |\n",
    "| corr()            | Find the correlation (relationship) between each column                                                                                    |\n",
    "| count()           | Returns the number of not empty cells for each column/row                                                                                  |\n",
    "| cov()             | Find the covariance of the columns                                                                                                         |\n",
    "| copy()            | Returns a copy of the DataFrame                                                                                                            |\n",
    "| cummax()          | Calculate the cumulative maximum values of the DataFrame                                                                                   |\n",
    "| cummin()          | Calculate the cumulative minmum values of the DataFrame                                                                                    |\n",
    "| cumprod()         | Calculate the cumulative product over the DataFrame                                                                                        |\n",
    "| cumsum()          | Calculate the cumulative sum over the DataFrame                                                                                            |\n",
    "| describe()        | Returns a description summary for each column in the DataFrame                                                                             |\n",
    "| diff()            | Calculate the difference between a value and the value of the same column in the previous row                                              |\n",
    "| div()             | Divides the values of a DataFrame with the specified value(s)                                                                              |\n",
    "| dot()             | Multiplies the values of a DataFrame with values from another array-like object, and add the result                                        |\n",
    "| drop()            | Drops the specified rows/columns from the DataFrame                                                                                        |\n",
    "| drop_duplicates() | Drops duplicate values from the DataFrame                                                                                                  |\n",
    "| droplevel()       | Drops the specified index/column(s)                                                                                                        |\n",
    "| dropna()          | Drops all rows that contains NULL values                                                                                                   |\n",
    "| dtypes            | Returns the dtypes of the columns of the DataFrame                                                                                         |\n",
    "| duplicated()      | Returns True for duplicated rows, otherwise False                                                                                          |\n",
    "| empty             | Returns True if the DataFrame is empty, otherwise False                                                                                    |\n",
    "| eq()              | Returns True for values that are equal to the specified value(s), otherwise False                                                          |\n",
    "| equals()          | Returns True if two DataFrames are equal, otherwise False                                                                                  |\n",
    "| eval              | Evaluate a specified string                                                                                                                |\n",
    "| explode()         | Converts each element into a row                                                                                                           |\n",
    "| ffill()           | Replaces NULL values with the value from the previous row                                                                                  |\n",
    "| fillna()          | Replaces NULL values with the specified value                                                                                              |\n",
    "| filter()          | Filter the DataFrame according to the specified filter                                                                                     |\n",
    "| first()           | Returns the first rows of a specified date selection                                                                                       |\n",
    "| floordiv()        | Divides the values of a DataFrame with the specified value(s), and floor the values                                                        |\n",
    "| ge()              | Returns True for values greater than, or equal to the specified value(s), otherwise False                                                  |\n",
    "| get()             | Returns the item of the specified key                                                                                                      |\n",
    "| groupby()         | Groups the rows/columns into specified groups                                                                                              |\n",
    "| gt()              | Returns True for values greater than the specified value(s), otherwise False                                                               |\n",
    "| head()            | Returns the header row and the first 10 rows, or the specified number of rows                                                              |\n",
    "| iat               | Get or set the value of the item in the specified position                                                                                 |\n",
    "| idxmax()          | Returns the label of the max value in the specified axis                                                                                   |\n",
    "| idxmin()          | Returns the label of the min value in the specified axis                                                                                   |\n",
    "| iloc              | Get or set the values of a group of elements in the specified positions                                                                    |\n",
    "| index             | Returns the row labels of the DataFrame                                                                                                    |\n",
    "| infer_objects()   | Change the dtype of the columns in the DataFrame                                                                                           |\n",
    "| info()            | Prints information about the DataFrame                                                                                                     |\n",
    "| insert()          | Insert a column in the DataFrame                                                                                                           |\n",
    "| interpolate()     | Replaces not-a-number values with the interpolated method                                                                                  |\n",
    "| isin()            | Returns True if each elements in the DataFrame is in the specified value                                                                   |\n",
    "| isna()            | Finds not-a-number values                                                                                                                  |\n",
    "| isnull()          | Finds NULL values                                                                                                                          |\n",
    "| items()           | Iterate over the columns of the DataFrame                                                                                                  |\n",
    "| iteritems()       | Iterate over the columns of the DataFrame                                                                                                  |\n",
    "| iterrows()        | Iterate over the rows of the DataFrame                                                                                                     |\n",
    "| itertuples()      | Iterate over the rows as named tuples                                                                                                      |\n",
    "| join()            | Join columns of another DataFrame                                                                                                          |\n",
    "| last()            | Returns the last rows of a specified date selection                                                                                        |\n",
    "| le()              | Returns True for values less than, or equal to the specified value(s), otherwise False                                                     |\n",
    "| loc               | Get or set the value of a group of elements specified using their labels                                                                   |\n",
    "| lt()              | Returns True for values less than the specified value(s), otherwise False                                                                  |\n",
    "| keys()            | Returns the keys of the info axis                                                                                                          |\n",
    "| kurtosis()        | Returns the kurtosis of the values in the specified axis                                                                                   |\n",
    "| mask()            | Replace all values where the specified condition is True                                                                                   |\n",
    "| max()             | Return the max of the values in the specified axis                                                                                         |\n",
    "| mean()            | Return the mean of the values in the specified axis                                                                                        |\n",
    "| median()          | Return the median of the values in the specified axis                                                                                      |\n",
    "| melt()            | Reshape the DataFrame from a wide table to a long table                                                                                    |\n",
    "| memory_usage()    | Returns the memory usage of each column                                                                                                    |\n",
    "| merge()           | Merge DataFrame objects                                                                                                                    |\n",
    "| min()             | Returns the min of the values in the specified axis                                                                                        |\n",
    "| mod()             | Modules (find the remainder) of the values of a DataFrame                                                                                  |\n",
    "| mode()            | Returns the mode of the values in the specified axis                                                                                       |\n",
    "| mul()             | Multiplies the values of a DataFrame with the specified value(s)                                                                           |\n",
    "| ndim              | Returns the number of dimensions of the DataFrame                                                                                          |\n",
    "| ne()              | Returns True for values that are not equal to the specified value(s), otherwise False                                                      |\n",
    "| nlargest()        | Sort the DataFrame by the specified columns, descending, and return the specified number of rows                                           |\n",
    "| notna()           | Finds values that are not not-a-number                                                                                                     |\n",
    "| notnull()         | Finds values that are not NULL                                                                                                             |\n",
    "| nsmallest()       | Sort the DataFrame by the specified columns, ascending, and return the specified number of rows                                            |\n",
    "| nunique()         | Returns the number of unique values in the specified axis                                                                                  |\n",
    "| pct_change()      | Returns the percentage change between the previous and the current value                                                                   |\n",
    "| pipe()            | Apply a function to the DataFrame                                                                                                          |\n",
    "| pivot()           | Re-shape the DataFrame                                                                                                                     |\n",
    "| pivot_table()     | Create a spreadsheet pivot table as a DataFrame                                                                                            |\n",
    "| pop()             | Removes an element from the DataFrame                                                                                                      |\n",
    "| pow()             | Raise the values of one DataFrame to the values of another DataFrame                                                                       |\n",
    "| prod()            | Returns the product of all values in the specified axis                                                                                    |\n",
    "| product()         | Returns the product of the values in the specified axis                                                                                    |\n",
    "| quantile()        | Returns the values at the specified quantile of the specified axis                                                                         |\n",
    "| query()           | Query the DataFrame                                                                                                                        |\n",
    "| radd()            | Reverse-adds the values of one DataFrame with the values of another DataFrame                                                              |\n",
    "| rdiv()            | Reverse-divides the values of one DataFrame with the values of another DataFrame                                                           |\n",
    "| reindex()         | Change the labels of the DataFrame                                                                                                         |\n",
    "| reindex_like()    | ??                                                                                                                                         |\n",
    "| rename()          | Change the labels of the axes                                                                                                              |\n",
    "| rename_axis()     | Change the name of the axis                                                                                                                |\n",
    "| reorder_levels()  | Re-order the index levels                                                                                                                  |\n",
    "| replace()         | Replace the specified values                                                                                                               |\n",
    "| reset_index()     | Reset the index                                                                                                                            |\n",
    "| rfloordiv()       | Reverse-divides the values of one DataFrame with the values of another DataFrame                                                           |\n",
    "| rmod()            | Reverse-modules the values of one DataFrame to the values of another DataFrame                                                             |\n",
    "| rmul()            | Reverse-multiplies the values of one DataFrame with the values of another DataFrame                                                        |\n",
    "| round()           | Returns a DataFrame with all values rounded into the specified format                                                                      |\n",
    "| rpow()            | Reverse-raises the values of one DataFrame up to the values of another DataFrame                                                           |\n",
    "| rsub()            | Reverse-subtracts the values of one DataFrame to the values of another DataFrame                                                           |\n",
    "| rtruediv()        | Reverse-divides the values of one DataFrame with the values of another DataFrame                                                           |\n",
    "| sample()          | Returns a random selection elements                                                                                                        |\n",
    "| sem()             | Returns the standard error of the mean in the specified axis                                                                               |\n",
    "| select_dtypes()   | Returns a DataFrame with columns of selected data types                                                                                    |\n",
    "| shape             | Returns the number of rows and columns of the DataFrame                                                                                    |\n",
    "| set_axis()        | Sets the index of the specified axis                                                                                                       |\n",
    "| set_flags()       | Returns a new DataFrame with the specified flags                                                                                           |\n",
    "| set_index()       | Set the Index of the DataFrame                                                                                                             |\n",
    "| size              | Returns the number of elements in the DataFrame                                                                                            |\n",
    "| skew()            | Returns the skew of the values in the specified axis                                                                                       |\n",
    "| sort_index()      | Sorts the DataFrame according to the labels                                                                                                |\n",
    "| sort_values()     | Sorts the DataFrame according to the values                                                                                                |\n",
    "| squeeze()         | Converts a single column DataFrame into a Series                                                                                           |\n",
    "| stack()           | Reshape the DataFrame from a wide table to a long table                                                                                    |\n",
    "| std()             | Returns the standard deviation of the values in the specified axis                                                                         |\n",
    "| sum()             | Returns the sum of the values in the specified axis                                                                                        |\n",
    "| sub()             | Subtracts the values of a DataFrame with the specified value(s)                                                                            |\n",
    "| swaplevel()       | Swaps the two specified levels                                                                                                             |\n",
    "| T                 | Turns rows into columns and columns into rows                                                                                              |\n",
    "| tail()            | Returns the headers and the last rows                                                                                                      |\n",
    "| take()            | Returns the specified elements                                                                                                             |\n",
    "| to_xarray()       | Returns an xarray object                                                                                                                   |\n",
    "| transform()       | Execute a function for each value in the DataFrame                                                                                         |\n",
    "| transpose()       | Turns rows into columns and columns into rows                                                                                              |\n",
    "| truediv()         | Divides the values of a DataFrame with the specified value(s)                                                                              |\n",
    "| truncate()        | Removes elements outside of a specified set of values                                                                                      |\n",
    "| update()          | Update one DataFrame with the values from another DataFrame                                                                                |\n",
    "| value_counts()    | Returns the number of unique rows                                                                                                          |\n",
    "| values            | Returns the DataFrame as a NumPy array                                                                                                     |\n",
    "| var()             | Returns the variance of the values in the specified axis                                                                                   |\n",
    "| where()           | Replace all values where the specified condition is False                                                                                  |\n",
    "| xs()              | Returns the cross-section of the DataFrame                                                                                                 |\n",
    "| __iter__()        | Returns an iterator of the info axes                                                                                                       |"
   ]
  },
  {
   "cell_type": "markdown",
   "id": "fc16e1cb-14cb-48e8-8a10-cc4895af1aa7",
   "metadata": {},
   "source": [
    "# Read CSV"
   ]
  },
  {
   "cell_type": "markdown",
   "id": "dd997975-3b4d-47cf-a4fa-8ef3463d0609",
   "metadata": {},
   "source": [
    "**Read CSV Files**  \n",
    "A simple way to store big data sets is to use CSV files (comma separated files).\n",
    "\n",
    "CSV files contains plain text and is a well know format that can be read by everyone including Pandas.\n",
    "\n",
    "In our examples we will be using a CSV file called 'data.csv'.\n",
    "\n",
    "**Example**  \n",
    "Load the CSV into a DataFrame:"
   ]
  },
  {
   "cell_type": "code",
   "execution_count": 60,
   "id": "c49bfe52-01c0-4312-9daf-d6fbbe7c8e31",
   "metadata": {},
   "outputs": [],
   "source": [
    "import pandas as pd\n",
    "df = pd.read_csv('data/PandaData.csv')"
   ]
  },
  {
   "cell_type": "markdown",
   "id": "1da4c2d8-50f5-4c9b-9e6b-e6bc0247fc33",
   "metadata": {},
   "source": [
    ">Tip: use to_string() to print the entire DataFrame.\n",
    "If you have a large DataFrame with many rows, Pandas will only return the first 5 rows, and the last 5 rows:\n",
    "\n",
    "**Example**  \n",
    "Print the DataFrame without the to_string() method:"
   ]
  },
  {
   "cell_type": "code",
   "execution_count": 61,
   "id": "68ae4b64-3372-4efd-a7ef-84af1d4b1b46",
   "metadata": {},
   "outputs": [
    {
     "name": "stdout",
     "output_type": "stream",
     "text": [
      "    Duration          Date  Pulse  Maxpulse  Calories\n",
      "0         60  '2020/12/01'    110       130     409.1\n",
      "1         60  '2020/12/02'    117       145     479.0\n",
      "2         60  '2020/12/03'    103       135     340.0\n",
      "3         45  '2020/12/04'    109       175     282.4\n",
      "4         45  '2020/12/05'    117       148     406.0\n",
      "5         60  '2020/12/06'    102       127     300.0\n",
      "6         60  '2020/12/07'    110       136     374.0\n",
      "7        450  '2020/12/08'    104       134     253.3\n",
      "8         30  '2020/12/09'    109       133     195.1\n",
      "9         60  '2020/12/10'     98       124     269.0\n",
      "10        60  '2020/12/11'    103       147     329.3\n",
      "11        60  '2020/12/12'    100       120     250.7\n",
      "12        60  '2020/12/12'    100       120     250.7\n",
      "13        60  '2020/12/13'    106       128     345.3\n",
      "14        60  '2020/12/14'    104       132     379.3\n",
      "15        60  '2020/12/15'     98       123     275.0\n",
      "16        60  '2020/12/16'     98       120     215.2\n",
      "17        60  '2020/12/17'    100       120     300.0\n",
      "18        45  '2020/12/18'     90       112       NaN\n",
      "19        60  '2020/12/19'    103       123     323.0\n",
      "20        45  '2020/12/20'     97       125     243.0\n",
      "21        60  '2020/12/21'    108       131     364.2\n",
      "22        45           NaN    100       119       NaN\n",
      "23        60  '2020/12/23'    130       101     300.0\n",
      "24        45  '2020/12/24'    105       132     246.0\n",
      "25        60  '2020/12/25'    102       126     334.5\n",
      "26        60    2020/12/26    100       120     250.0\n",
      "27        60  '2020/12/27'     92       118     241.0\n",
      "28        60  '2020/12/28'    103       132       NaN\n",
      "29        60  '2020/12/29'    100       132     280.0\n",
      "30        60  '2020/12/30'    102       129     380.3\n",
      "31        60  '2020/12/31'     92       115     243.0\n"
     ]
    }
   ],
   "source": [
    "import pandas as pd\n",
    "df = pd.read_csv('data/PandaData.csv')\n",
    "print(df)"
   ]
  },
  {
   "cell_type": "markdown",
   "id": "0003d3ad-9080-4d2f-8c32-798d5526a721",
   "metadata": {},
   "source": [
    "**max_rows**  \n",
    "The number of rows returned is defined in Pandas option settings.\n",
    "\n",
    "You can check your system's maximum rows with the pd.options.display.max_rows statement.\n",
    "\n",
    "**Example**  \n",
    "Check the number of maximum returned rows:"
   ]
  },
  {
   "cell_type": "code",
   "execution_count": 62,
   "id": "947a219a-710d-473c-a93c-0e01c5ac141c",
   "metadata": {},
   "outputs": [
    {
     "name": "stdout",
     "output_type": "stream",
     "text": [
      "9999\n"
     ]
    }
   ],
   "source": [
    "import pandas as pd\n",
    "print(pd.options.display.max_rows)"
   ]
  },
  {
   "cell_type": "markdown",
   "id": "c1405d4c-e11b-40bc-8432-ad95f6d12f7c",
   "metadata": {},
   "source": [
    "In this system the number is 60, which means that if the DataFrame contains more than 60 rows, the print(df) statement will return only the headers and the first and last 5 rows.\n",
    "\n",
    "You can change the maximum rows number with the same statement.\n",
    "\n",
    "**Example**  \n",
    "Increase the maximum number of rows to display the entire DataFrame:"
   ]
  },
  {
   "cell_type": "code",
   "execution_count": 63,
   "id": "d5210ce7-6fcc-4e0f-bcd6-93f257d5a95c",
   "metadata": {},
   "outputs": [
    {
     "name": "stdout",
     "output_type": "stream",
     "text": [
      "    Duration          Date  Pulse  Maxpulse  Calories\n",
      "0         60  '2020/12/01'    110       130     409.1\n",
      "1         60  '2020/12/02'    117       145     479.0\n",
      "2         60  '2020/12/03'    103       135     340.0\n",
      "3         45  '2020/12/04'    109       175     282.4\n",
      "4         45  '2020/12/05'    117       148     406.0\n",
      "5         60  '2020/12/06'    102       127     300.0\n",
      "6         60  '2020/12/07'    110       136     374.0\n",
      "7        450  '2020/12/08'    104       134     253.3\n",
      "8         30  '2020/12/09'    109       133     195.1\n",
      "9         60  '2020/12/10'     98       124     269.0\n",
      "10        60  '2020/12/11'    103       147     329.3\n",
      "11        60  '2020/12/12'    100       120     250.7\n",
      "12        60  '2020/12/12'    100       120     250.7\n",
      "13        60  '2020/12/13'    106       128     345.3\n",
      "14        60  '2020/12/14'    104       132     379.3\n",
      "15        60  '2020/12/15'     98       123     275.0\n",
      "16        60  '2020/12/16'     98       120     215.2\n",
      "17        60  '2020/12/17'    100       120     300.0\n",
      "18        45  '2020/12/18'     90       112       NaN\n",
      "19        60  '2020/12/19'    103       123     323.0\n",
      "20        45  '2020/12/20'     97       125     243.0\n",
      "21        60  '2020/12/21'    108       131     364.2\n",
      "22        45           NaN    100       119       NaN\n",
      "23        60  '2020/12/23'    130       101     300.0\n",
      "24        45  '2020/12/24'    105       132     246.0\n",
      "25        60  '2020/12/25'    102       126     334.5\n",
      "26        60    2020/12/26    100       120     250.0\n",
      "27        60  '2020/12/27'     92       118     241.0\n",
      "28        60  '2020/12/28'    103       132       NaN\n",
      "29        60  '2020/12/29'    100       132     280.0\n",
      "30        60  '2020/12/30'    102       129     380.3\n",
      "31        60  '2020/12/31'     92       115     243.0\n"
     ]
    }
   ],
   "source": [
    "import pandas as pd\n",
    "\n",
    "pd.options.display.max_rows = 9999\n",
    "df = pd.read_csv('data/PandaData.csv')\n",
    "print(df) "
   ]
  },
  {
   "cell_type": "markdown",
   "id": "adf5ec7a-f40e-4cc4-8d08-25ad3c910dea",
   "metadata": {},
   "source": [
    "# Read JSON"
   ]
  },
  {
   "cell_type": "markdown",
   "id": "b4142e1e-efec-4c36-b27c-11b91824ffbf",
   "metadata": {},
   "source": [
    "**Read JSON**  \n",
    "Big data sets are often stored, or extracted as JSON.\n",
    "\n",
    "JSON is plain text, but has the format of an object, and is well known in the world of programming, including Pandas.\n",
    "\n",
    "In our examples we will be using a JSON file called 'data.json'.\n",
    "\n",
    "**Example**  \n",
    "Load the JSON file into a DataFrame:"
   ]
  },
  {
   "cell_type": "code",
   "execution_count": 64,
   "id": "66eb4674-3a4d-49fb-93d0-cbfada133a70",
   "metadata": {},
   "outputs": [
    {
     "name": "stdout",
     "output_type": "stream",
     "text": [
      "     Duration  Pulse  Maxpulse  Calories\n",
      "0          60    110       130     409.1\n",
      "1          60    117       145     479.0\n",
      "2          60    103       135     340.0\n",
      "3          45    109       175     282.4\n",
      "4          45    117       148     406.0\n",
      "5          60    102       127     300.5\n",
      "6          60    110       136     374.0\n",
      "7          45    104       134     253.3\n",
      "8          30    109       133     195.1\n",
      "9          60     98       124     269.0\n",
      "10         60    103       147     329.3\n",
      "11         60    100       120     250.7\n",
      "12         60    106       128     345.3\n",
      "13         60    104       132     379.3\n",
      "14         60     98       123     275.0\n",
      "15         60     98       120     215.2\n",
      "16         60    100       120     300.0\n",
      "17         45     90       112       NaN\n",
      "18         60    103       123     323.0\n",
      "19         45     97       125     243.0\n",
      "20         60    108       131     364.2\n",
      "21         45    100       119     282.0\n",
      "22         60    130       101     300.0\n",
      "23         45    105       132     246.0\n",
      "24         60    102       126     334.5\n",
      "25         60    100       120     250.0\n",
      "26         60     92       118     241.0\n",
      "27         60    103       132       NaN\n",
      "28         60    100       132     280.0\n",
      "29         60    102       129     380.3\n",
      "30         60     92       115     243.0\n",
      "31         45     90       112     180.1\n",
      "32         60    101       124     299.0\n",
      "33         60     93       113     223.0\n",
      "34         60    107       136     361.0\n",
      "35         60    114       140     415.0\n",
      "36         60    102       127     300.5\n",
      "37         60    100       120     300.1\n",
      "38         60    100       120     300.0\n",
      "39         45    104       129     266.0\n",
      "40         45     90       112     180.1\n",
      "41         60     98       126     286.0\n",
      "42         60    100       122     329.4\n",
      "43         60    111       138     400.0\n",
      "44         60    111       131     397.0\n",
      "45         60     99       119     273.0\n",
      "46         60    109       153     387.6\n",
      "47         45    111       136     300.0\n",
      "48         45    108       129     298.0\n",
      "49         60    111       139     397.6\n",
      "50         60    107       136     380.2\n",
      "51         80    123       146     643.1\n",
      "52         60    106       130     263.0\n",
      "53         60    118       151     486.0\n",
      "54         30    136       175     238.0\n",
      "55         60    121       146     450.7\n",
      "56         60    118       121     413.0\n",
      "57         45    115       144     305.0\n",
      "58         20    153       172     226.4\n",
      "59         45    123       152     321.0\n",
      "60        210    108       160    1376.0\n",
      "61        160    110       137    1034.4\n",
      "62        160    109       135     853.0\n",
      "63         45    118       141     341.0\n",
      "64         20    110       130     131.4\n",
      "65        180     90       130     800.4\n",
      "66        150    105       135     873.4\n",
      "67        150    107       130     816.0\n",
      "68         20    106       136     110.4\n",
      "69        300    108       143    1500.2\n",
      "70        150     97       129    1115.0\n",
      "71         60    109       153     387.6\n",
      "72         90    100       127     700.0\n",
      "73        150     97       127     953.2\n",
      "74         45    114       146     304.0\n",
      "75         90     98       125     563.2\n",
      "76         45    105       134     251.0\n",
      "77         45    110       141     300.0\n",
      "78        120    100       130     500.4\n",
      "79        270    100       131    1729.0\n",
      "80         30    159       182     319.2\n",
      "81         45    149       169     344.0\n",
      "82         30    103       139     151.1\n",
      "83        120    100       130     500.0\n",
      "84         45    100       120     225.3\n",
      "85         30    151       170     300.1\n",
      "86         45    102       136     234.0\n",
      "87        120    100       157    1000.1\n",
      "88         45    129       103     242.0\n",
      "89         20     83       107      50.3\n",
      "90        180    101       127     600.1\n",
      "91         45    107       137       NaN\n",
      "92         30     90       107     105.3\n",
      "93         15     80       100      50.5\n",
      "94         20    150       171     127.4\n",
      "95         20    151       168     229.4\n",
      "96         30     95       128     128.2\n",
      "97         25    152       168     244.2\n",
      "98         30    109       131     188.2\n",
      "99         90     93       124     604.1\n",
      "100        20     95       112      77.7\n",
      "101        90     90       110     500.0\n",
      "102        90     90       100     500.0\n",
      "103        90     90       100     500.4\n",
      "104        30     92       108      92.7\n",
      "105        30     93       128     124.0\n",
      "106       180     90       120     800.3\n",
      "107        30     90       120      86.2\n",
      "108        90     90       120     500.3\n",
      "109       210    137       184    1860.4\n",
      "110        60    102       124     325.2\n",
      "111        45    107       124     275.0\n",
      "112        15    124       139     124.2\n",
      "113        45    100       120     225.3\n",
      "114        60    108       131     367.6\n",
      "115        60    108       151     351.7\n",
      "116        60    116       141     443.0\n",
      "117        60     97       122     277.4\n",
      "118        60    105       125       NaN\n",
      "119        60    103       124     332.7\n",
      "120        30    112       137     193.9\n",
      "121        45    100       120     100.7\n",
      "122        60    119       169     336.7\n",
      "123        60    107       127     344.9\n",
      "124        60    111       151     368.5\n",
      "125        60     98       122     271.0\n",
      "126        60     97       124     275.3\n",
      "127        60    109       127     382.0\n",
      "128        90     99       125     466.4\n",
      "129        60    114       151     384.0\n",
      "130        60    104       134     342.5\n",
      "131        60    107       138     357.5\n",
      "132        60    103       133     335.0\n",
      "133        60    106       132     327.5\n",
      "134        60    103       136     339.0\n",
      "135        20    136       156     189.0\n",
      "136        45    117       143     317.7\n",
      "137        45    115       137     318.0\n",
      "138        45    113       138     308.0\n",
      "139        20    141       162     222.4\n",
      "140        60    108       135     390.0\n",
      "141        60     97       127       NaN\n",
      "142        45    100       120     250.4\n",
      "143        45    122       149     335.4\n",
      "144        60    136       170     470.2\n",
      "145        45    106       126     270.8\n",
      "146        60    107       136     400.0\n",
      "147        60    112       146     361.9\n",
      "148        30    103       127     185.0\n",
      "149        60    110       150     409.4\n",
      "150        60    106       134     343.0\n",
      "151        60    109       129     353.2\n",
      "152        60    109       138     374.0\n",
      "153        30    150       167     275.8\n",
      "154        60    105       128     328.0\n",
      "155        60    111       151     368.5\n",
      "156        60     97       131     270.4\n",
      "157        60    100       120     270.4\n",
      "158        60    114       150     382.8\n",
      "159        30     80       120     240.9\n",
      "160        30     85       120     250.4\n",
      "161        45     90       130     260.4\n",
      "162        45     95       130     270.0\n",
      "163        45    100       140     280.9\n",
      "164        60    105       140     290.8\n",
      "165        60    110       145     300.4\n",
      "166        60    115       145     310.2\n",
      "167        75    120       150     320.4\n",
      "168        75    125       150     330.4\n"
     ]
    }
   ],
   "source": [
    "import pandas as pd\n",
    "df = pd.read_json('data/data.json')\n",
    "print(df.to_string()) "
   ]
  },
  {
   "cell_type": "markdown",
   "id": "7c58208c-9820-4829-b5f4-ae2508a3282b",
   "metadata": {},
   "source": [
    ">Tip: use to_string() to print the entire DataFrame.\n",
    "\n",
    "**Dictionary as JSON**  \n",
    "JSON = Python Dictionary\n",
    "\n",
    "JSON objects have the same format as Python dictionaries.\n",
    "\n",
    "If your JSON code is not in a file, but in a Python Dictionary, you can load it into a DataFrame directly:\n",
    "\n",
    "**Example**  \n",
    "Load a Python Dictionary into a DataFrame:"
   ]
  },
  {
   "cell_type": "code",
   "execution_count": 65,
   "id": "7da1a1a6-6892-4455-8ab6-c87f7c7633e3",
   "metadata": {},
   "outputs": [
    {
     "name": "stdout",
     "output_type": "stream",
     "text": [
      "   Duration  Pulse  Maxpulse  Calories\n",
      "0        60    110       130       409\n",
      "1        60    117       145       479\n",
      "2        60    103       135       340\n",
      "3        45    109       175       282\n",
      "4        45    117       148       406\n",
      "5        60    102       127       300\n"
     ]
    }
   ],
   "source": [
    "import pandas as pd\n",
    "\n",
    "data = {\n",
    "  \"Duration\":{\n",
    "    \"0\":60,\n",
    "    \"1\":60,\n",
    "    \"2\":60,\n",
    "    \"3\":45,\n",
    "    \"4\":45,\n",
    "    \"5\":60\n",
    "  },\n",
    "  \"Pulse\":{\n",
    "    \"0\":110,\n",
    "    \"1\":117,\n",
    "    \"2\":103,\n",
    "    \"3\":109,\n",
    "    \"4\":117,\n",
    "    \"5\":102\n",
    "  },\n",
    "  \"Maxpulse\":{\n",
    "    \"0\":130,\n",
    "    \"1\":145,\n",
    "    \"2\":135,\n",
    "    \"3\":175,\n",
    "    \"4\":148,\n",
    "    \"5\":127\n",
    "  },\n",
    "  \"Calories\":{\n",
    "    \"0\":409,\n",
    "    \"1\":479,\n",
    "    \"2\":340,\n",
    "    \"3\":282,\n",
    "    \"4\":406,\n",
    "    \"5\":300\n",
    "  }\n",
    "}\n",
    "\n",
    "df = pd.DataFrame(data)\n",
    "\n",
    "print(df) "
   ]
  },
  {
   "cell_type": "markdown",
   "id": "585e7a9e-63ce-4b3f-9496-81473e08fc95",
   "metadata": {},
   "source": [
    "# Analyzing DataFrames"
   ]
  },
  {
   "cell_type": "markdown",
   "id": "48b3fe4d-2e28-4516-ab7c-516550579ecb",
   "metadata": {},
   "source": [
    "**Viewing the Data**  \n",
    "One of the most used method for getting a quick overview of the DataFrame, is the head() method.\n",
    "\n",
    "The head() method returns the headers and a specified number of rows, starting from the top.\n",
    "\n",
    "**Example**  \n",
    "Get a quick overview by printing the first 10 rows of the DataFrame"
   ]
  },
  {
   "cell_type": "code",
   "execution_count": 66,
   "id": "dbfd1260-91ab-4d49-a7d4-9e523a7138dd",
   "metadata": {},
   "outputs": [
    {
     "name": "stdout",
     "output_type": "stream",
     "text": [
      "   Duration          Date  Pulse  Maxpulse  Calories\n",
      "0        60  '2020/12/01'    110       130     409.1\n",
      "1        60  '2020/12/02'    117       145     479.0\n",
      "2        60  '2020/12/03'    103       135     340.0\n",
      "3        45  '2020/12/04'    109       175     282.4\n",
      "4        45  '2020/12/05'    117       148     406.0\n",
      "5        60  '2020/12/06'    102       127     300.0\n",
      "6        60  '2020/12/07'    110       136     374.0\n",
      "7       450  '2020/12/08'    104       134     253.3\n",
      "8        30  '2020/12/09'    109       133     195.1\n",
      "9        60  '2020/12/10'     98       124     269.0\n"
     ]
    }
   ],
   "source": [
    "import pandas as pd\n",
    "df = pd.read_csv('data/PandaData.csv')\n",
    "print(df.head(10))"
   ]
  },
  {
   "cell_type": "markdown",
   "id": "66d91d88-0e9f-4644-8b27-b224eee44a3c",
   "metadata": {},
   "source": [
    ">Note: if the number of rows is not specified, the head() method will return the top 5 rows.\n",
    "\n",
    "**Example**  \n",
    "Print the first 5 rows of the DataFrame:"
   ]
  },
  {
   "cell_type": "code",
   "execution_count": 67,
   "id": "0d342c93-677f-4b5e-934b-89fd13c809e2",
   "metadata": {},
   "outputs": [
    {
     "name": "stdout",
     "output_type": "stream",
     "text": [
      "   Duration          Date  Pulse  Maxpulse  Calories\n",
      "0        60  '2020/12/01'    110       130     409.1\n",
      "1        60  '2020/12/02'    117       145     479.0\n",
      "2        60  '2020/12/03'    103       135     340.0\n",
      "3        45  '2020/12/04'    109       175     282.4\n",
      "4        45  '2020/12/05'    117       148     406.0\n"
     ]
    }
   ],
   "source": [
    "import pandas as pd\n",
    "df = pd.read_csv('data/PandaData.csv')\n",
    "print(df.head())"
   ]
  },
  {
   "cell_type": "markdown",
   "id": "a25b0313-7775-4c71-b5c8-ad09b0fcbc87",
   "metadata": {},
   "source": [
    "There is also a tail() method for viewing the last rows of the DataFrame.\n",
    "\n",
    "The tail() method returns the headers and a specified number of rows, starting from the bottom.\n",
    "\n",
    "**Example**  \n",
    "Print the last 5 rows of the DataFrame:"
   ]
  },
  {
   "cell_type": "code",
   "execution_count": 68,
   "id": "b3646c20-43fa-4ab5-b2fd-f8d4d5a29f4a",
   "metadata": {},
   "outputs": [
    {
     "name": "stdout",
     "output_type": "stream",
     "text": [
      "    Duration          Date  Pulse  Maxpulse  Calories\n",
      "27        60  '2020/12/27'     92       118     241.0\n",
      "28        60  '2020/12/28'    103       132       NaN\n",
      "29        60  '2020/12/29'    100       132     280.0\n",
      "30        60  '2020/12/30'    102       129     380.3\n",
      "31        60  '2020/12/31'     92       115     243.0\n"
     ]
    }
   ],
   "source": [
    "print(df.tail()) "
   ]
  },
  {
   "cell_type": "markdown",
   "id": "8d650171-4c73-4578-a51b-99c25b36c2ac",
   "metadata": {},
   "source": [
    "**Info About the Data**  \n",
    "The DataFrames object has a method called info(), that gives you more information about the data set.\n",
    "\n",
    "**Example**  \n",
    "Print information about the data:"
   ]
  },
  {
   "cell_type": "code",
   "execution_count": 69,
   "id": "0ae9fa0a-1a5a-4484-837b-736ba6131cd3",
   "metadata": {},
   "outputs": [
    {
     "name": "stdout",
     "output_type": "stream",
     "text": [
      "<class 'pandas.core.frame.DataFrame'>\n",
      "RangeIndex: 32 entries, 0 to 31\n",
      "Data columns (total 5 columns):\n",
      " #   Column    Non-Null Count  Dtype  \n",
      "---  ------    --------------  -----  \n",
      " 0   Duration  32 non-null     int64  \n",
      " 1   Date      31 non-null     object \n",
      " 2   Pulse     32 non-null     int64  \n",
      " 3   Maxpulse  32 non-null     int64  \n",
      " 4   Calories  29 non-null     float64\n",
      "dtypes: float64(1), int64(3), object(1)\n",
      "memory usage: 1.4+ KB\n",
      "None\n"
     ]
    }
   ],
   "source": [
    "print(df.info())"
   ]
  },
  {
   "cell_type": "markdown",
   "id": "c5a6c732-357b-4cd5-9035-6da0b4c74ceb",
   "metadata": {},
   "source": [
    "Result Explained\n",
    "The result tells us there are 169 rows and 4 columns:\n",
    "\n",
    "  RangeIndex: 169 entries, 0 to 168\n",
    "  Data columns (total 4 columns):\n",
    "\n",
    "And the name of each column, with the data type:\n",
    "\n",
    "|    # | Column   |     Non-Null Count | Dtype   |\n",
    "| ---- | -------- | ------------------ | ------- |\n",
    "| 0    | Duration |  169 non-null      |   int64 |\n",
    "| 1    |  Pulse   |  169 non-null      |  int64  |\n",
    "| 2    | Maxpulse |  169 non-null      |  int64  |\n",
    "| 3    | Calories |  164 non-null      | float64 |"
   ]
  },
  {
   "cell_type": "markdown",
   "id": "19400e06-96ca-4857-a969-163f131d64a7",
   "metadata": {},
   "source": [
    "**Null Values**  \n",
    "The info() method also tells us how many Non-Null values there are present in each column, and in our data set it seems like there are 164 of 169 Non-Null values in the \"Calories\" column.\n",
    "\n",
    "Which means that there are 5 rows with no value at all, in the \"Calories\" column, for whatever reason.\n",
    "\n",
    "Empty values, or Null values, can be bad when analyzing data, and you should consider removing rows with empty values. This is a step towards what is called cleaning data, and you will learn more about that in the next chapters."
   ]
  },
  {
   "cell_type": "markdown",
   "id": "bf9ff1fc-ec7b-476f-ae48-db4b5f7b1ab9",
   "metadata": {},
   "source": [
    "# Cleaning Data"
   ]
  },
  {
   "cell_type": "markdown",
   "id": "57f3fb85-289e-4eec-8248-5e74ecbfa281",
   "metadata": {},
   "source": [
    "**Data Cleaning**  \n",
    "Data cleaning means fixing bad data in your data set.  \n",
    "Bad data could be:  \n",
    ">•\tEmpty cells  \n",
    "•\tData in wrong format  \n",
    "•\tWrong data  \n",
    "•\tDuplicates  \n",
    "\n",
    "In this tutorial you will learn how to deal with all of them.\n",
    "\n",
    "**Our Data Set**  "
   ]
  },
  {
   "cell_type": "markdown",
   "id": "984d861b-cec5-4175-ad8e-5a544d10d40b",
   "metadata": {},
   "source": [
    "| #  | Duration | Date         | Pulse | Maxpulse | Calories |\n",
    "| -- | -------- | ------------ | ----- | -------- | -------- |\n",
    "| 0  | 60       | '2020/12/01' | 110   | 130      | 409.1    |\n",
    "| 1  | 60       | '2020/12/02' | 117   | 145      | 479      |\n",
    "| 2  | 60       | '2020/12/03' | 103   | 135      | 340      |\n",
    "| 3  | 45       | '2020/12/04' | 109   | 175      | 282.4    |\n",
    "| 4  | 45       | '2020/12/05' | 117   | 148      | 406      |\n",
    "| 5  | 60       | '2020/12/06' | 102   | 127      | 300      |\n",
    "| 6  | 60       | '2020/12/07' | 110   | 136      | 374      |\n",
    "| 7  | 450      | '2020/12/08' | 104   | 134      | 253.3    |\n",
    "| 8  | 30       | '2020/12/09' | 109   | 133      | 195.1    |\n",
    "| 9  | 60       | '2020/12/10' | 98    | 124      | 269      |\n",
    "| 10 | 60       | '2020/12/11' | 103   | 147      | 329.3    |\n",
    "| 11 | 60       | '2020/12/12' | 100   | 120      | 250.7    |\n",
    "| 12 | 60       | '2020/12/12' | 100   | 120      | 250.7    |\n",
    "| 13 | 60       | '2020/12/13' | 106   | 128      | 345.3    |\n",
    "| 14 | 60       | '2020/12/14' | 104   | 132      | 379.3    |\n",
    "| 15 | 60       | '2020/12/15' | 98    | 123      | 275      |\n",
    "| 16 | 60       | '2020/12/16' | 98    | 120      | 215.2    |\n",
    "| 17 | 60       | '2020/12/17' | 100   | 120      | 300      |\n",
    "| 18 | 45       | '2020/12/18' | 90    | 112      | NaN      |\n",
    "| 19 | 60       | '2020/12/19' | 103   | 123      | 323      |\n",
    "| 20 | 45       | '2020/12/20' | 97    | 125      | 243      |\n",
    "| 21 | 60       | '2020/12/21' | 108   | 131      | 364.2    |\n",
    "| 22 | 45       | NaN          | 100   | 119      | 282      |\n",
    "| 23 | 60       | '2020/12/23' | 130   | 101      | 300      |\n",
    "| 24 | 45       | '2020/12/24' | 105   | 132      | 246      |\n",
    "| 25 | 60       | '2020/12/25' | 102   | 126      | 334.5    |\n",
    "| 26 | 60       | 2020/12/26  | 100   | 120      | 250      |\n",
    "| 27 | 60       | '2020/12/27' | 92    | 118      | 241      |\n",
    "| 28 | 60       | '2020/12/28' | 103   | 132      | NaN      |\n",
    "| 29 | 60       | '2020/12/29' | 100   | 132      | 280      |\n",
    "| 30 | 60       | '2020/12/30' | 102   | 129      | 380.3    |\n",
    "| 31 | 60       | '2020/12/31' | 92    | 115      | 243      |"
   ]
  },
  {
   "cell_type": "markdown",
   "id": "f8e7e741-26df-40a3-9948-5ba1ee403541",
   "metadata": {},
   "source": [
    "The data set contains some empty cells (\"Date\" in row 22, and \"Calories\" in row 18 and 28).  \n",
    "The data set contains wrong format (\"Date\" in row 26).  \n",
    "The data set contains wrong data (\"Duration\" in row 7).  \n",
    "The data set contains duplicates (row 11 and 12).  "
   ]
  },
  {
   "cell_type": "markdown",
   "id": "cc0ec78b-da11-4b9c-90c0-9f06cc86504a",
   "metadata": {},
   "source": [
    "# Cleaning Empty Cells"
   ]
  },
  {
   "cell_type": "markdown",
   "id": "a87a5c5c-da97-4ba4-861d-5c05d6f5da07",
   "metadata": {},
   "source": [
    "**Empty Cells**  \n",
    "Empty cells can potentially give you a wrong result when you analyze data.\n",
    "\n",
    "**Remove Rows**  \n",
    "One way to deal with empty cells is to remove rows that contain empty cells.\n",
    "\n",
    "This is usually OK, since data sets can be very big, and removing a few rows will not have a big impact on the result.\n",
    "\n",
    "**Example**  \n",
    "Return a new Data Frame with no empty cells:"
   ]
  },
  {
   "cell_type": "code",
   "execution_count": 70,
   "id": "fd665a08-3029-4f55-91f9-3d0193e45694",
   "metadata": {},
   "outputs": [
    {
     "name": "stdout",
     "output_type": "stream",
     "text": [
      "    Duration          Date  Pulse  Maxpulse  Calories\n",
      "0         60  '2020/12/01'    110       130     409.1\n",
      "1         60  '2020/12/02'    117       145     479.0\n",
      "2         60  '2020/12/03'    103       135     340.0\n",
      "3         45  '2020/12/04'    109       175     282.4\n",
      "4         45  '2020/12/05'    117       148     406.0\n",
      "5         60  '2020/12/06'    102       127     300.0\n",
      "6         60  '2020/12/07'    110       136     374.0\n",
      "7        450  '2020/12/08'    104       134     253.3\n",
      "8         30  '2020/12/09'    109       133     195.1\n",
      "9         60  '2020/12/10'     98       124     269.0\n",
      "10        60  '2020/12/11'    103       147     329.3\n",
      "11        60  '2020/12/12'    100       120     250.7\n",
      "12        60  '2020/12/12'    100       120     250.7\n",
      "13        60  '2020/12/13'    106       128     345.3\n",
      "14        60  '2020/12/14'    104       132     379.3\n",
      "15        60  '2020/12/15'     98       123     275.0\n",
      "16        60  '2020/12/16'     98       120     215.2\n",
      "17        60  '2020/12/17'    100       120     300.0\n",
      "19        60  '2020/12/19'    103       123     323.0\n",
      "20        45  '2020/12/20'     97       125     243.0\n",
      "21        60  '2020/12/21'    108       131     364.2\n",
      "23        60  '2020/12/23'    130       101     300.0\n",
      "24        45  '2020/12/24'    105       132     246.0\n",
      "25        60  '2020/12/25'    102       126     334.5\n",
      "26        60    2020/12/26    100       120     250.0\n",
      "27        60  '2020/12/27'     92       118     241.0\n",
      "29        60  '2020/12/29'    100       132     280.0\n",
      "30        60  '2020/12/30'    102       129     380.3\n",
      "31        60  '2020/12/31'     92       115     243.0\n"
     ]
    }
   ],
   "source": [
    "import pandas as pd\n",
    "df = pd.read_csv('data/PandaData.csv')\n",
    "new_df = df.dropna()\n",
    "print(new_df.to_string())"
   ]
  },
  {
   "cell_type": "markdown",
   "id": "f856c9c0-1d51-4298-85ad-272927c47ed5",
   "metadata": {},
   "source": [
    ">Note: By default, the dropna() method returns a new DataFrame, and will not change the original.\n",
    "\n",
    "If you want to change the original DataFrame, use the inplace = True argument:\n",
    "\n",
    "**Example**  \n",
    "Remove all rows with NULL values:"
   ]
  },
  {
   "cell_type": "code",
   "execution_count": 71,
   "id": "8396bf85-187e-4fab-a860-3b6abd3e1a2b",
   "metadata": {},
   "outputs": [
    {
     "name": "stdout",
     "output_type": "stream",
     "text": [
      "    Duration          Date  Pulse  Maxpulse  Calories\n",
      "0         60  '2020/12/01'    110       130     409.1\n",
      "1         60  '2020/12/02'    117       145     479.0\n",
      "2         60  '2020/12/03'    103       135     340.0\n",
      "3         45  '2020/12/04'    109       175     282.4\n",
      "4         45  '2020/12/05'    117       148     406.0\n",
      "5         60  '2020/12/06'    102       127     300.0\n",
      "6         60  '2020/12/07'    110       136     374.0\n",
      "7        450  '2020/12/08'    104       134     253.3\n",
      "8         30  '2020/12/09'    109       133     195.1\n",
      "9         60  '2020/12/10'     98       124     269.0\n",
      "10        60  '2020/12/11'    103       147     329.3\n",
      "11        60  '2020/12/12'    100       120     250.7\n",
      "12        60  '2020/12/12'    100       120     250.7\n",
      "13        60  '2020/12/13'    106       128     345.3\n",
      "14        60  '2020/12/14'    104       132     379.3\n",
      "15        60  '2020/12/15'     98       123     275.0\n",
      "16        60  '2020/12/16'     98       120     215.2\n",
      "17        60  '2020/12/17'    100       120     300.0\n",
      "19        60  '2020/12/19'    103       123     323.0\n",
      "20        45  '2020/12/20'     97       125     243.0\n",
      "21        60  '2020/12/21'    108       131     364.2\n",
      "23        60  '2020/12/23'    130       101     300.0\n",
      "24        45  '2020/12/24'    105       132     246.0\n",
      "25        60  '2020/12/25'    102       126     334.5\n",
      "26        60    2020/12/26    100       120     250.0\n",
      "27        60  '2020/12/27'     92       118     241.0\n",
      "29        60  '2020/12/29'    100       132     280.0\n",
      "30        60  '2020/12/30'    102       129     380.3\n",
      "31        60  '2020/12/31'     92       115     243.0\n"
     ]
    }
   ],
   "source": [
    "import pandas as pd\n",
    "df = pd.read_csv('data/PandaData.csv')\n",
    "df.dropna(inplace = True)\n",
    "print(df.to_string())"
   ]
  },
  {
   "cell_type": "markdown",
   "id": "86f46198-08fe-43b8-8be5-b63826ed7bb3",
   "metadata": {},
   "source": [
    ">Note: Now, the dropna(inplace = True) will NOT return a new DataFrame, but it will remove all rows containing NULL values from the original DataFrame.\n",
    "\n",
    "**Replace Empty Values**  \n",
    "Another way of dealing with empty cells is to insert a new value instead.\n",
    "\n",
    "This way you do not have to delete entire rows just because of some empty cells.\n",
    "\n",
    "The fillna() method allows us to replace empty cells with a value:\n",
    "\n",
    "**Example**  \n",
    "Replace NULL values with the number 130:"
   ]
  },
  {
   "cell_type": "code",
   "execution_count": 72,
   "id": "26ccab70-984c-490e-9ea2-5571168ea3a8",
   "metadata": {},
   "outputs": [
    {
     "name": "stdout",
     "output_type": "stream",
     "text": [
      "    Duration          Date  Pulse  Maxpulse  Calories\n",
      "0         60  '2020/12/01'    110       130     409.1\n",
      "1         60  '2020/12/02'    117       145     479.0\n",
      "2         60  '2020/12/03'    103       135     340.0\n",
      "3         45  '2020/12/04'    109       175     282.4\n",
      "4         45  '2020/12/05'    117       148     406.0\n",
      "5         60  '2020/12/06'    102       127     300.0\n",
      "6         60  '2020/12/07'    110       136     374.0\n",
      "7        450  '2020/12/08'    104       134     253.3\n",
      "8         30  '2020/12/09'    109       133     195.1\n",
      "9         60  '2020/12/10'     98       124     269.0\n",
      "10        60  '2020/12/11'    103       147     329.3\n",
      "11        60  '2020/12/12'    100       120     250.7\n",
      "12        60  '2020/12/12'    100       120     250.7\n",
      "13        60  '2020/12/13'    106       128     345.3\n",
      "14        60  '2020/12/14'    104       132     379.3\n",
      "15        60  '2020/12/15'     98       123     275.0\n",
      "16        60  '2020/12/16'     98       120     215.2\n",
      "17        60  '2020/12/17'    100       120     300.0\n",
      "18        45  '2020/12/18'     90       112     135.0\n",
      "19        60  '2020/12/19'    103       123     323.0\n",
      "20        45  '2020/12/20'     97       125     243.0\n",
      "21        60  '2020/12/21'    108       131     364.2\n",
      "22        45           135    100       119     135.0\n",
      "23        60  '2020/12/23'    130       101     300.0\n",
      "24        45  '2020/12/24'    105       132     246.0\n",
      "25        60  '2020/12/25'    102       126     334.5\n",
      "26        60    2020/12/26    100       120     250.0\n",
      "27        60  '2020/12/27'     92       118     241.0\n",
      "28        60  '2020/12/28'    103       132     135.0\n",
      "29        60  '2020/12/29'    100       132     280.0\n",
      "30        60  '2020/12/30'    102       129     380.3\n",
      "31        60  '2020/12/31'     92       115     243.0\n"
     ]
    }
   ],
   "source": [
    "import pandas as pd\n",
    "df = pd.read_csv('data/PandaData.csv')\n",
    "df.fillna(135, inplace = True)\n",
    "print(df.to_string())"
   ]
  },
  {
   "cell_type": "markdown",
   "id": "25fdec85-bb7d-48e6-bc2e-da5a4b79f541",
   "metadata": {},
   "source": [
    "**Replace Only For Specified Columns**  \n",
    "The example above replaces all empty cells in the whole Data Frame.\n",
    "\n",
    "To only replace empty values for one column, specify the column name for the DataFrame:\n",
    "\n",
    "**Example**  \n",
    "Replace NULL values in the \"Calories\" columns with the number 130:"
   ]
  },
  {
   "cell_type": "code",
   "execution_count": 73,
   "id": "2f96c324-b3ae-40ca-b6c0-fe5ce4f6968c",
   "metadata": {},
   "outputs": [
    {
     "name": "stdout",
     "output_type": "stream",
     "text": [
      "    Duration          Date  Pulse  Maxpulse  Calories\n",
      "0         60  '2020/12/01'    110       130     409.1\n",
      "1         60  '2020/12/02'    117       145     479.0\n",
      "2         60  '2020/12/03'    103       135     340.0\n",
      "3         45  '2020/12/04'    109       175     282.4\n",
      "4         45  '2020/12/05'    117       148     406.0\n",
      "5         60  '2020/12/06'    102       127     300.0\n",
      "6         60  '2020/12/07'    110       136     374.0\n",
      "7        450  '2020/12/08'    104       134     253.3\n",
      "8         30  '2020/12/09'    109       133     195.1\n",
      "9         60  '2020/12/10'     98       124     269.0\n",
      "10        60  '2020/12/11'    103       147     329.3\n",
      "11        60  '2020/12/12'    100       120     250.7\n",
      "12        60  '2020/12/12'    100       120     250.7\n",
      "13        60  '2020/12/13'    106       128     345.3\n",
      "14        60  '2020/12/14'    104       132     379.3\n",
      "15        60  '2020/12/15'     98       123     275.0\n",
      "16        60  '2020/12/16'     98       120     215.2\n",
      "17        60  '2020/12/17'    100       120     300.0\n",
      "18        45  '2020/12/18'     90       112     135.0\n",
      "19        60  '2020/12/19'    103       123     323.0\n",
      "20        45  '2020/12/20'     97       125     243.0\n",
      "21        60  '2020/12/21'    108       131     364.2\n",
      "22        45           NaN    100       119     135.0\n",
      "23        60  '2020/12/23'    130       101     300.0\n",
      "24        45  '2020/12/24'    105       132     246.0\n",
      "25        60  '2020/12/25'    102       126     334.5\n",
      "26        60    2020/12/26    100       120     250.0\n",
      "27        60  '2020/12/27'     92       118     241.0\n",
      "28        60  '2020/12/28'    103       132     135.0\n",
      "29        60  '2020/12/29'    100       132     280.0\n",
      "30        60  '2020/12/30'    102       129     380.3\n",
      "31        60  '2020/12/31'     92       115     243.0\n"
     ]
    }
   ],
   "source": [
    "import pandas as pd\n",
    "df = pd.read_csv('data/PandaData.csv')\n",
    "df[\"Calories\"]=df[\"Calories\"].fillna(135)\n",
    "print(df.to_string())"
   ]
  },
  {
   "cell_type": "markdown",
   "id": "1a40692f-e99b-4184-b9c6-99394f531a7b",
   "metadata": {},
   "source": [
    "**Replace Using Mean, Median, or Mode**  \n",
    "A common way to replace empty cells, is to calculate the mean, median or mode value of the column.\n",
    "\n",
    "Pandas uses the mean() median() and mode() methods to calculate the respective values for a specified column:\n",
    "\n",
    "**Example**  \n",
    "Calculate the MEAN, and replace any empty values with it:"
   ]
  },
  {
   "cell_type": "code",
   "execution_count": 74,
   "id": "72ea9376-8477-4f05-85ad-e1c068e8ee98",
   "metadata": {},
   "outputs": [
    {
     "name": "stdout",
     "output_type": "stream",
     "text": [
      "    Duration          Date  Pulse  Maxpulse    Calories\n",
      "0         60  '2020/12/01'    110       130  409.100000\n",
      "1         60  '2020/12/02'    117       145  479.000000\n",
      "2         60  '2020/12/03'    103       135  340.000000\n",
      "3         45  '2020/12/04'    109       175  282.400000\n",
      "4         45  '2020/12/05'    117       148  406.000000\n",
      "5         60  '2020/12/06'    102       127  300.000000\n",
      "6         60  '2020/12/07'    110       136  374.000000\n",
      "7        450  '2020/12/08'    104       134  253.300000\n",
      "8         30  '2020/12/09'    109       133  195.100000\n",
      "9         60  '2020/12/10'     98       124  269.000000\n",
      "10        60  '2020/12/11'    103       147  329.300000\n",
      "11        60  '2020/12/12'    100       120  250.700000\n",
      "12        60  '2020/12/12'    100       120  250.700000\n",
      "13        60  '2020/12/13'    106       128  345.300000\n",
      "14        60  '2020/12/14'    104       132  379.300000\n",
      "15        60  '2020/12/15'     98       123  275.000000\n",
      "16        60  '2020/12/16'     98       120  215.200000\n",
      "17        60  '2020/12/17'    100       120  300.000000\n",
      "18        45  '2020/12/18'     90       112  305.462069\n",
      "19        60  '2020/12/19'    103       123  323.000000\n",
      "20        45  '2020/12/20'     97       125  243.000000\n",
      "21        60  '2020/12/21'    108       131  364.200000\n",
      "22        45           NaN    100       119  305.462069\n",
      "23        60  '2020/12/23'    130       101  300.000000\n",
      "24        45  '2020/12/24'    105       132  246.000000\n",
      "25        60  '2020/12/25'    102       126  334.500000\n",
      "26        60    2020/12/26    100       120  250.000000\n",
      "27        60  '2020/12/27'     92       118  241.000000\n",
      "28        60  '2020/12/28'    103       132  305.462069\n",
      "29        60  '2020/12/29'    100       132  280.000000\n",
      "30        60  '2020/12/30'    102       129  380.300000\n",
      "31        60  '2020/12/31'     92       115  243.000000\n"
     ]
    }
   ],
   "source": [
    "import pandas as pd\n",
    "df = pd.read_csv('data/PandaData.csv')\n",
    "x = df[\"Calories\"].mean()\n",
    "df[\"Calories\"]=df[\"Calories\"].fillna(x)\n",
    "print(df.to_string())"
   ]
  },
  {
   "cell_type": "markdown",
   "id": "3056c2e2-623b-4d6b-aa02-68fe0eac2a48",
   "metadata": {},
   "source": [
    ">Mean = the average value (the sum of all values divided by number of values).\n",
    "\n",
    "**Example**  \n",
    "Calculate the MEDIAN, and replace any empty values with it:"
   ]
  },
  {
   "cell_type": "code",
   "execution_count": 75,
   "id": "ece64391-5309-4d8f-977c-9cea49fe604c",
   "metadata": {},
   "outputs": [
    {
     "name": "stdout",
     "output_type": "stream",
     "text": [
      "    Duration          Date  Pulse  Maxpulse  Calories\n",
      "0         60  '2020/12/01'    110       130     409.1\n",
      "1         60  '2020/12/02'    117       145     479.0\n",
      "2         60  '2020/12/03'    103       135     340.0\n",
      "3         45  '2020/12/04'    109       175     282.4\n",
      "4         45  '2020/12/05'    117       148     406.0\n",
      "5         60  '2020/12/06'    102       127     300.0\n",
      "6         60  '2020/12/07'    110       136     374.0\n",
      "7        450  '2020/12/08'    104       134     253.3\n",
      "8         30  '2020/12/09'    109       133     195.1\n",
      "9         60  '2020/12/10'     98       124     269.0\n",
      "10        60  '2020/12/11'    103       147     329.3\n",
      "11        60  '2020/12/12'    100       120     250.7\n",
      "12        60  '2020/12/12'    100       120     250.7\n",
      "13        60  '2020/12/13'    106       128     345.3\n",
      "14        60  '2020/12/14'    104       132     379.3\n",
      "15        60  '2020/12/15'     98       123     275.0\n",
      "16        60  '2020/12/16'     98       120     215.2\n",
      "17        60  '2020/12/17'    100       120     300.0\n",
      "18        45  '2020/12/18'     90       112     300.0\n",
      "19        60  '2020/12/19'    103       123     323.0\n",
      "20        45  '2020/12/20'     97       125     243.0\n",
      "21        60  '2020/12/21'    108       131     364.2\n",
      "22        45           NaN    100       119     300.0\n",
      "23        60  '2020/12/23'    130       101     300.0\n",
      "24        45  '2020/12/24'    105       132     246.0\n",
      "25        60  '2020/12/25'    102       126     334.5\n",
      "26        60    2020/12/26    100       120     250.0\n",
      "27        60  '2020/12/27'     92       118     241.0\n",
      "28        60  '2020/12/28'    103       132     300.0\n",
      "29        60  '2020/12/29'    100       132     280.0\n",
      "30        60  '2020/12/30'    102       129     380.3\n",
      "31        60  '2020/12/31'     92       115     243.0\n"
     ]
    }
   ],
   "source": [
    "import pandas as pd\n",
    "df = pd.read_csv('data/PandaData.csv')\n",
    "x = df[\"Calories\"].median()\n",
    "df[\"Calories\"]=df[\"Calories\"].fillna(x)\n",
    "print(df.to_string())"
   ]
  },
  {
   "cell_type": "markdown",
   "id": "f4955773-10e2-435b-9966-5d2eac24b33e",
   "metadata": {},
   "source": [
    ">Median = the value in the middle, after you have sorted all values ascending.\n",
    "\n",
    "**Example**  \n",
    "Calculate the MODE, and replace any empty values with it:"
   ]
  },
  {
   "cell_type": "code",
   "execution_count": 76,
   "id": "20dcda71-1684-410c-9dac-39de6635514d",
   "metadata": {},
   "outputs": [
    {
     "name": "stdout",
     "output_type": "stream",
     "text": [
      "    Duration          Date  Pulse  Maxpulse  Calories\n",
      "0         60  '2020/12/01'    110       130     409.1\n",
      "1         60  '2020/12/02'    117       145     479.0\n",
      "2         60  '2020/12/03'    103       135     340.0\n",
      "3         45  '2020/12/04'    109       175     282.4\n",
      "4         45  '2020/12/05'    117       148     406.0\n",
      "5         60  '2020/12/06'    102       127     300.0\n",
      "6         60  '2020/12/07'    110       136     374.0\n",
      "7        450  '2020/12/08'    104       134     253.3\n",
      "8         30  '2020/12/09'    109       133     195.1\n",
      "9         60  '2020/12/10'     98       124     269.0\n",
      "10        60  '2020/12/11'    103       147     329.3\n",
      "11        60  '2020/12/12'    100       120     250.7\n",
      "12        60  '2020/12/12'    100       120     250.7\n",
      "13        60  '2020/12/13'    106       128     345.3\n",
      "14        60  '2020/12/14'    104       132     379.3\n",
      "15        60  '2020/12/15'     98       123     275.0\n",
      "16        60  '2020/12/16'     98       120     215.2\n",
      "17        60  '2020/12/17'    100       120     300.0\n",
      "18        45  '2020/12/18'     90       112     300.0\n",
      "19        60  '2020/12/19'    103       123     323.0\n",
      "20        45  '2020/12/20'     97       125     243.0\n",
      "21        60  '2020/12/21'    108       131     364.2\n",
      "22        45           NaN    100       119     300.0\n",
      "23        60  '2020/12/23'    130       101     300.0\n",
      "24        45  '2020/12/24'    105       132     246.0\n",
      "25        60  '2020/12/25'    102       126     334.5\n",
      "26        60    2020/12/26    100       120     250.0\n",
      "27        60  '2020/12/27'     92       118     241.0\n",
      "28        60  '2020/12/28'    103       132     300.0\n",
      "29        60  '2020/12/29'    100       132     280.0\n",
      "30        60  '2020/12/30'    102       129     380.3\n",
      "31        60  '2020/12/31'     92       115     243.0\n"
     ]
    }
   ],
   "source": [
    "import pandas as pd\n",
    "df = pd.read_csv('data/PandaData.csv')\n",
    "x = df[\"Calories\"].mode()[0]\n",
    "df[\"Calories\"]=df[\"Calories\"].fillna(x)\n",
    "print(df.to_string())"
   ]
  },
  {
   "cell_type": "markdown",
   "id": "cab51bf7-bb49-4db8-831f-6e9b47a5b4a6",
   "metadata": {},
   "source": [
    ">Mode = the value that appears most frequently."
   ]
  },
  {
   "cell_type": "markdown",
   "id": "c365a8b7-a161-40db-a473-6c339aa0f121",
   "metadata": {},
   "source": [
    "# Cleaning Wrong Format"
   ]
  },
  {
   "cell_type": "markdown",
   "id": "5f922150-ab96-41eb-a8fe-7ec1fd560341",
   "metadata": {},
   "source": [
    "**Data of Wrong Format**  \n",
    "Cells with data of wrong format can make it difficult, or even impossible, to analyze data.\n",
    "\n",
    "To fix it, you have two options: remove the rows, or convert all cells in the columns into the same format.\n",
    "\n",
    "**Convert Into a Correct Format**  \n",
    "In our Data Frame, we have two cells with the wrong format. Check out row 22 and 26, the 'Date' column should be a string that represents a date:"
   ]
  },
  {
   "cell_type": "markdown",
   "id": "365bc5ed-44a5-4c58-bc9d-8c040543da2e",
   "metadata": {},
   "source": [
    "| #  | Duration | Date         | Pulse | Maxpulse | Calories |\n",
    "| -- | -------- | ------------ | ----- | -------- | -------- |\n",
    "| 0  | 60       | '2020/12/01' | 110   | 130      | 409.1    |\n",
    "| 1  | 60       | '2020/12/02' | 117   | 145      | 479      |\n",
    "| 2  | 60       | '2020/12/03' | 103   | 135      | 340      |\n",
    "| 3  | 45       | '2020/12/04' | 109   | 175      | 282.4    |\n",
    "| 4  | 45       | '2020/12/05' | 117   | 148      | 406      |\n",
    "| 5  | 60       | '2020/12/06' | 102   | 127      | 300      |\n",
    "| 6  | 60       | '2020/12/07' | 110   | 136      | 374      |\n",
    "| 7  | 450      | '2020/12/08' | 104   | 134      | 253.3    |\n",
    "| 8  | 30       | '2020/12/09' | 109   | 133      | 195.1    |\n",
    "| 9  | 60       | '2020/12/10' | 98    | 124      | 269      |\n",
    "| 10 | 60       | '2020/12/11' | 103   | 147      | 329.3    |\n",
    "| 11 | 60       | '2020/12/12' | 100   | 120      | 250.7    |\n",
    "| 12 | 60       | '2020/12/12' | 100   | 120      | 250.7    |\n",
    "| 13 | 60       | '2020/12/13' | 106   | 128      | 345.3    |\n",
    "| 14 | 60       | '2020/12/14' | 104   | 132      | 379.3    |\n",
    "| 15 | 60       | '2020/12/15' | 98    | 123      | 275      |\n",
    "| 16 | 60       | '2020/12/16' | 98    | 120      | 215.2    |\n",
    "| 17 | 60       | '2020/12/17' | 100   | 120      | 300      |\n",
    "| 18 | 45       | '2020/12/18' | 90    | 112      | NaN      |\n",
    "| 19 | 60       | '2020/12/19' | 103   | 123      | 323      |\n",
    "| 20 | 45       | '2020/12/20' | 97    | 125      | 243      |\n",
    "| 21 | 60       | '2020/12/21' | 108   | 131      | 364.2    |\n",
    "| 22 | 45       | **NaN**      | 100   | 119      | 282      |\n",
    "| 23 | 60       | '2020/12/23' | 130   | 101      | 300      |\n",
    "| 24 | 45       | '2020/12/24' | 105   | 132      | 246      |\n",
    "| 25 | 60       | '2020/12/25' | 102   | 126      | 334.5    |\n",
    "| 26 | 60       | **20201226** | 100   | 120      | 250      |\n",
    "| 27 | 60       | '2020/12/27' | 92    | 118      | 241      |\n",
    "| 28 | 60       | '2020/12/28' | 103   | 132      | NaN      |\n",
    "| 29 | 60       | '2020/12/29' | 100   | 132      | 280      |\n",
    "| 30 | 60       | '2020/12/30' | 102   | 129      | 380.3    |\n",
    "| 31 | 60       | '2020/12/31' | 92    | 115      | 243      |"
   ]
  },
  {
   "cell_type": "markdown",
   "id": "0a010541-2450-406b-8d1e-f5b6b2d12089",
   "metadata": {},
   "source": [
    "Let's try to convert all cells in the 'Date' column into dates.\n",
    "\n",
    "Pandas has a to_datetime() method for this:\n",
    "\n",
    "**Example**  \n",
    "Convert to date:"
   ]
  },
  {
   "cell_type": "code",
   "execution_count": 77,
   "id": "14725ced-ad39-49b7-be24-13f5a969e566",
   "metadata": {},
   "outputs": [
    {
     "name": "stdout",
     "output_type": "stream",
     "text": [
      "    Duration       Date  Pulse  Maxpulse  Calories\n",
      "0         60 2020-12-01    110       130     409.1\n",
      "1         60 2020-12-02    117       145     479.0\n",
      "2         60 2020-12-03    103       135     340.0\n",
      "3         45 2020-12-04    109       175     282.4\n",
      "4         45 2020-12-05    117       148     406.0\n",
      "5         60 2020-12-06    102       127     300.0\n",
      "6         60 2020-12-07    110       136     374.0\n",
      "7        450 2020-12-08    104       134     253.3\n",
      "8         30 2020-12-09    109       133     195.1\n",
      "9         60 2020-12-10     98       124     269.0\n",
      "10        60 2020-12-11    103       147     329.3\n",
      "11        60 2020-12-12    100       120     250.7\n",
      "12        60 2020-12-12    100       120     250.7\n",
      "13        60 2020-12-13    106       128     345.3\n",
      "14        60 2020-12-14    104       132     379.3\n",
      "15        60 2020-12-15     98       123     275.0\n",
      "16        60 2020-12-16     98       120     215.2\n",
      "17        60 2020-12-17    100       120     300.0\n",
      "18        45 2020-12-18     90       112       NaN\n",
      "19        60 2020-12-19    103       123     323.0\n",
      "20        45 2020-12-20     97       125     243.0\n",
      "21        60 2020-12-21    108       131     364.2\n",
      "22        45        NaT    100       119       NaN\n",
      "23        60 2020-12-23    130       101     300.0\n",
      "24        45 2020-12-24    105       132     246.0\n",
      "25        60 2020-12-25    102       126     334.5\n",
      "26        60 2020-12-26    100       120     250.0\n",
      "27        60 2020-12-27     92       118     241.0\n",
      "28        60 2020-12-28    103       132       NaN\n",
      "29        60 2020-12-29    100       132     280.0\n",
      "30        60 2020-12-30    102       129     380.3\n",
      "31        60 2020-12-31     92       115     243.0\n"
     ]
    }
   ],
   "source": [
    "import pandas as pd\n",
    "\n",
    "df = pd.read_csv('data/PandaData.csv')\n",
    "df['Date'] = pd.to_datetime(df['Date'], format='mixed')\n",
    "print(df.to_string())"
   ]
  },
  {
   "cell_type": "code",
   "execution_count": 78,
   "id": "6acd6153-c483-48b7-95c7-5dfcd88d1757",
   "metadata": {},
   "outputs": [
    {
     "name": "stdout",
     "output_type": "stream",
     "text": [
      "    Duration       Date  Pulse  Maxpulse  Calories\n",
      "0         60 2020-12-01    110       130     409.1\n",
      "1         60 2020-12-02    117       145     479.0\n",
      "2         60 2020-12-03    103       135     340.0\n",
      "3         45 2020-12-04    109       175     282.4\n",
      "4         45 2020-12-05    117       148     406.0\n",
      "5         60 2020-12-06    102       127     300.0\n",
      "6         60 2020-12-07    110       136     374.0\n",
      "7        450 2020-12-08    104       134     253.3\n",
      "8         30 2020-12-09    109       133     195.1\n",
      "9         60 2020-12-10     98       124     269.0\n",
      "10        60 2020-12-11    103       147     329.3\n",
      "11        60 2020-12-12    100       120     250.7\n",
      "12        60 2020-12-12    100       120     250.7\n",
      "13        60 2020-12-13    106       128     345.3\n",
      "14        60 2020-12-14    104       132     379.3\n",
      "15        60 2020-12-15     98       123     275.0\n",
      "16        60 2020-12-16     98       120     215.2\n",
      "17        60 2020-12-17    100       120     300.0\n",
      "18        45 2020-12-18     90       112       NaN\n",
      "19        60 2020-12-19    103       123     323.0\n",
      "20        45 2020-12-20     97       125     243.0\n",
      "21        60 2020-12-21    108       131     364.2\n",
      "23        60 2020-12-23    130       101     300.0\n",
      "24        45 2020-12-24    105       132     246.0\n",
      "25        60 2020-12-25    102       126     334.5\n",
      "26        60 2020-12-26    100       120     250.0\n",
      "27        60 2020-12-27     92       118     241.0\n",
      "28        60 2020-12-28    103       132       NaN\n",
      "29        60 2020-12-29    100       132     280.0\n",
      "30        60 2020-12-30    102       129     380.3\n",
      "31        60 2020-12-31     92       115     243.0\n"
     ]
    }
   ],
   "source": [
    "df.dropna(subset=['Date'], inplace = True)\n",
    "print(df.to_string())"
   ]
  },
  {
   "cell_type": "markdown",
   "id": "95ebbab4-beea-482e-92d5-feae24cdb6f9",
   "metadata": {},
   "source": [
    "# Fixing Wrong Data"
   ]
  },
  {
   "cell_type": "markdown",
   "id": "38ecb897-e8d7-423b-bd58-0ce3a3b97bd0",
   "metadata": {},
   "source": [
    "**Wrong Data**  \n",
    "\"Wrong data\" does not have to be \"empty cells\" or \"wrong format\", it can just be wrong, like if someone registered \"199\" instead of \"1.99\".\n",
    "\n",
    "Sometimes you can spot wrong data by looking at the data set, because you have an expectation of what it should be.\n",
    "\n",
    "If you take a look at our data set, you can see that in row 7, the duration is 450, but for all the other rows the duration is between 30 and 60.\n",
    "\n",
    "It doesn't have to be wrong, but taking in consideration that this is the data set of someone's workout sessions, we conclude with the fact that this person did not work out in 450 minutes."
   ]
  },
  {
   "cell_type": "markdown",
   "id": "b7f2bd90-4a78-47dc-a788-8a69e1b13096",
   "metadata": {},
   "source": [
    "| #  | Duration | Date         | Pulse | Maxpulse | Calories |\n",
    "| -- | -------- | ------------ | ----- | -------- | -------- |\n",
    "| 0  | 60       | '2020/12/01' | 110   | 130      | 409.1    |\n",
    "| 1  | 60       | '2020/12/02' | 117   | 145      | 479      |\n",
    "| 2  | 60       | '2020/12/03' | 103   | 135      | 340      |\n",
    "| 3  | 45       | '2020/12/04' | 109   | 175      | 282.4    |\n",
    "| 4  | 45       | '2020/12/05' | 117   | 148      | 406      |\n",
    "| 5  | 60       | '2020/12/06' | 102   | 127      | 300      |\n",
    "| 6  | 60       | '2020/12/07' | 110   | 136      | 374      |\n",
    "| 7  |**450**   | '2020/12/08' | 104   | 134      | 253.3    |\n",
    "| 8  | 30       | '2020/12/09' | 109   | 133      | 195.1    |\n",
    "| 9  | 60       | '2020/12/10' | 98    | 124      | 269      |\n",
    "| 10 | 60       | '2020/12/11' | 103   | 147      | 329.3    |\n",
    "| 11 | 60       | '2020/12/12' | 100   | 120      | 250.7    |\n",
    "| 12 | 60       | '2020/12/12' | 100   | 120      | 250.7    |\n",
    "| 13 | 60       | '2020/12/13' | 106   | 128      | 345.3    |\n",
    "| 14 | 60       | '2020/12/14' | 104   | 132      | 379.3    |\n",
    "| 15 | 60       | '2020/12/15' | 98    | 123      | 275      |\n",
    "| 16 | 60       | '2020/12/16' | 98    | 120      | 215.2    |\n",
    "| 17 | 60       | '2020/12/17' | 100   | 120      | 300      |\n",
    "| 18 | 45       | '2020/12/18' | 90    | 112      | NaN      |\n",
    "| 19 | 60       | '2020/12/19' | 103   | 123      | 323      |\n",
    "| 20 | 45       | '2020/12/20' | 97    | 125      | 243      |\n",
    "| 21 | 60       | '2020/12/21' | 108   | 131      | 364.2    |\n",
    "| 22 | 45       | **NaN**      | 100   | 119      | 282      |\n",
    "| 23 | 60       | '2020/12/23' | 130   | 101      | 300      |\n",
    "| 24 | 45       | '2020/12/24' | 105   | 132      | 246      |\n",
    "| 25 | 60       | '2020/12/25' | 102   | 126      | 334.5    |\n",
    "| 26 | 60       | **20201226** | 100   | 120      | 250      |\n",
    "| 27 | 60       | '2020/12/27' | 92    | 118      | 241      |\n",
    "| 28 | 60       | '2020/12/28' | 103   | 132      | NaN      |\n",
    "| 29 | 60       | '2020/12/29' | 100   | 132      | 280      |\n",
    "| 30 | 60       | '2020/12/30' | 102   | 129      | 380.3    |\n",
    "| 31 | 60       | '2020/12/31' | 92    | 115      | 243      |"
   ]
  },
  {
   "cell_type": "markdown",
   "id": "fd1c01e2-1bc8-4f1c-ab2e-f6c2db6091f5",
   "metadata": {},
   "source": [
    "How can we fix wrong values, like the one for \"Duration\" in row 7?\n",
    "\n",
    "**Replacing Values**  \n",
    "One way to fix wrong values is to replace them with something else.\n",
    "\n",
    "In our example, it is most likely a typo, and the value should be \"45\" instead of \"450\", and we could just insert \"45\" in row 7:\n",
    "\n",
    "**Example**  \n",
    "Set \"Duration\" = 45 in row 7:"
   ]
  },
  {
   "cell_type": "code",
   "execution_count": 79,
   "id": "9c522809-d7b8-489c-96af-b9358c748564",
   "metadata": {},
   "outputs": [],
   "source": [
    "df.loc[7, 'Duration'] = 45"
   ]
  },
  {
   "cell_type": "markdown",
   "id": "bb951b53-a970-42e5-9ae1-b20feef2c6df",
   "metadata": {},
   "source": [
    "For small data sets you might be able to replace the wrong data one by one, but not for big data sets.\n",
    "\n",
    "To replace wrong data for larger data sets you can create some rules, e.g. set some boundaries for legal values, and replace any values that are outside of the boundaries.\n",
    "\n",
    "**Example**  \n",
    "Loop through all values in the \"Duration\" column.\n",
    "\n",
    "If the value is higher than 120, set it to 120:"
   ]
  },
  {
   "cell_type": "code",
   "execution_count": 80,
   "id": "8a5b5821-e8e5-4962-b106-b09e1d2355e4",
   "metadata": {},
   "outputs": [],
   "source": [
    "for x in df.index:\n",
    "  if df.loc[x, \"Duration\"] > 120:\n",
    "    df.loc[x, \"Duration\"] = 120"
   ]
  },
  {
   "cell_type": "markdown",
   "id": "e53b6bfc-c63d-4bc4-a853-ff7edcc7649c",
   "metadata": {},
   "source": [
    "**Removing Rows**  \n",
    "Another way of handling wrong data is to remove the rows that contains wrong data.\n",
    "\n",
    "This way you do not have to find out what to replace them with, and there is a good chance you do not need them to do your analyses.\n",
    "\n",
    "**Example**  \n",
    "Delete rows where \"Duration\" is higher than 120:"
   ]
  },
  {
   "cell_type": "code",
   "execution_count": 81,
   "id": "30f64f8d-a0b3-41be-9ee3-ee82d1481c3a",
   "metadata": {},
   "outputs": [],
   "source": [
    "for x in df.index:\n",
    "  if df.loc[x, \"Duration\"] > 120:\n",
    "    df.drop(x, inplace = True)"
   ]
  },
  {
   "cell_type": "markdown",
   "id": "08f7d2cf-799e-4bcf-95f5-61b070cc4070",
   "metadata": {},
   "source": [
    "# Removing Duplicates"
   ]
  },
  {
   "cell_type": "markdown",
   "id": "b5b6abfd-8646-4a58-8cd6-8ed124a87321",
   "metadata": {},
   "source": [
    "**Discovering Duplicates**\n",
    "Duplicate rows are rows that have been registered more than one time."
   ]
  },
  {
   "cell_type": "markdown",
   "id": "507adab8-534a-43f7-b237-79994e7701ea",
   "metadata": {},
   "source": [
    "| #  | Duration | Date         | Pulse | Maxpulse | Calories |\n",
    "| -- | -------- | ------------ | ----- | -------- | -------- |\n",
    "| 0  | 60       | '2020/12/01' | 110   | 130      | 409.1    |\n",
    "| 1  | 60       | '2020/12/02' | 117   | 145      | 479      |\n",
    "| 2  | 60       | '2020/12/03' | 103   | 135      | 340      |\n",
    "| 3  | 45       | '2020/12/04' | 109   | 175      | 282.4    |\n",
    "| 4  | 45       | '2020/12/05' | 117   | 148      | 406      |\n",
    "| 5  | 60       | '2020/12/06' | 102   | 127      | 300      |\n",
    "| 6  | 60       | '2020/12/07' | 110   | 136      | 374      |\n",
    "| 7  | 450      | '2020/12/08' | 104   | 134      | 253.3    |\n",
    "| 8  | 30       | '2020/12/09' | 109   | 133      | 195.1    |\n",
    "| 9  | 60       | '2020/12/10' | 98    | 124      | 269      |\n",
    "| 10 | 60       | '2020/12/11' | 103   | 147      | 329.3    |\n",
    "| 11 | 60       | **'2020/12/12'** | 100   | 120      | 250.7    |\n",
    "| 12 | 60       | **'2020/12/12'** | 100   | 120      | 250.7    |\n",
    "| 13 | 60       | '2020/12/13' | 106   | 128      | 345.3    |\n",
    "| 14 | 60       | '2020/12/14' | 104   | 132      | 379.3    |\n",
    "| 15 | 60       | '2020/12/15' | 98    | 123      | 275      |\n",
    "| 16 | 60       | '2020/12/16' | 98    | 120      | 215.2    |\n",
    "| 17 | 60       | '2020/12/17' | 100   | 120      | 300      |\n",
    "| 18 | 45       | '2020/12/18' | 90    | 112      | NaN      |\n",
    "| 19 | 60       | '2020/12/19' | 103   | 123      | 323      |\n",
    "| 20 | 45       | '2020/12/20' | 97    | 125      | 243      |\n",
    "| 21 | 60       | '2020/12/21' | 108   | 131      | 364.2    |\n",
    "| 22 | 45       |  NaN         | 100   | 119      | 282      |\n",
    "| 23 | 60       | '2020/12/23' | 130   | 101      | 300      |\n",
    "| 24 | 45       | '2020/12/24' | 105   | 132      | 246      |\n",
    "| 25 | 60       | '2020/12/25' | 102   | 126      | 334.5    |\n",
    "| 26 | 60       |   20201226   | 100   | 120      | 250      |\n",
    "| 27 | 60       | '2020/12/27' | 92    | 118      | 241      |\n",
    "| 28 | 60       | '2020/12/28' | 103   | 132      | NaN      |\n",
    "| 29 | 60       | '2020/12/29' | 100   | 132      | 280      |\n",
    "| 30 | 60       | '2020/12/30' | 102   | 129      | 380.3    |\n",
    "| 31 | 60       | '2020/12/31' | 92    | 115      | 243      |"
   ]
  },
  {
   "cell_type": "markdown",
   "id": "b0081762-8761-4527-877c-9bc4a260bac8",
   "metadata": {},
   "source": [
    "By taking a look at our test data set, we can assume that row 11 and 12 are duplicates.\n",
    "\n",
    "To discover duplicates, we can use the duplicated() method.\n",
    "\n",
    "The duplicated() method returns a Boolean values for each row:\n",
    "\n",
    "**Example**\n",
    "Returns True for every row that is a duplicate, otherwise False:"
   ]
  },
  {
   "cell_type": "code",
   "execution_count": 82,
   "id": "b339399e-3447-4d21-8a19-99bed85f2418",
   "metadata": {},
   "outputs": [
    {
     "name": "stdout",
     "output_type": "stream",
     "text": [
      "0     False\n",
      "1     False\n",
      "2     False\n",
      "3     False\n",
      "4     False\n",
      "5     False\n",
      "6     False\n",
      "7     False\n",
      "8     False\n",
      "9     False\n",
      "10    False\n",
      "11    False\n",
      "12     True\n",
      "13    False\n",
      "14    False\n",
      "15    False\n",
      "16    False\n",
      "17    False\n",
      "18    False\n",
      "19    False\n",
      "20    False\n",
      "21    False\n",
      "23    False\n",
      "24    False\n",
      "25    False\n",
      "26    False\n",
      "27    False\n",
      "28    False\n",
      "29    False\n",
      "30    False\n",
      "31    False\n",
      "dtype: bool\n"
     ]
    }
   ],
   "source": [
    "print(df.duplicated())"
   ]
  },
  {
   "cell_type": "markdown",
   "id": "1eea884c-6343-45c6-afc3-23d097390f27",
   "metadata": {},
   "source": [
    "**Removing Duplicates**  \n",
    "To remove duplicates, use the drop_duplicates() method.\n",
    "\n",
    "**Example**  \n",
    "Remove all duplicates:"
   ]
  },
  {
   "cell_type": "code",
   "execution_count": 83,
   "id": "4e992d3b-9e41-414b-b8cc-0d5b1a6a0cc8",
   "metadata": {},
   "outputs": [
    {
     "name": "stdout",
     "output_type": "stream",
     "text": [
      "    Duration       Date  Pulse  Maxpulse  Calories\n",
      "0         60 2020-12-01    110       130     409.1\n",
      "1         60 2020-12-02    117       145     479.0\n",
      "2         60 2020-12-03    103       135     340.0\n",
      "3         45 2020-12-04    109       175     282.4\n",
      "4         45 2020-12-05    117       148     406.0\n",
      "5         60 2020-12-06    102       127     300.0\n",
      "6         60 2020-12-07    110       136     374.0\n",
      "7         45 2020-12-08    104       134     253.3\n",
      "8         30 2020-12-09    109       133     195.1\n",
      "9         60 2020-12-10     98       124     269.0\n",
      "10        60 2020-12-11    103       147     329.3\n",
      "11        60 2020-12-12    100       120     250.7\n",
      "13        60 2020-12-13    106       128     345.3\n",
      "14        60 2020-12-14    104       132     379.3\n",
      "15        60 2020-12-15     98       123     275.0\n",
      "16        60 2020-12-16     98       120     215.2\n",
      "17        60 2020-12-17    100       120     300.0\n",
      "18        45 2020-12-18     90       112       NaN\n",
      "19        60 2020-12-19    103       123     323.0\n",
      "20        45 2020-12-20     97       125     243.0\n",
      "21        60 2020-12-21    108       131     364.2\n",
      "23        60 2020-12-23    130       101     300.0\n",
      "24        45 2020-12-24    105       132     246.0\n",
      "25        60 2020-12-25    102       126     334.5\n",
      "26        60 2020-12-26    100       120     250.0\n",
      "27        60 2020-12-27     92       118     241.0\n",
      "28        60 2020-12-28    103       132       NaN\n",
      "29        60 2020-12-29    100       132     280.0\n",
      "30        60 2020-12-30    102       129     380.3\n",
      "31        60 2020-12-31     92       115     243.0\n"
     ]
    }
   ],
   "source": [
    "df.drop_duplicates(inplace = True)\n",
    "print(df.to_string())"
   ]
  },
  {
   "cell_type": "markdown",
   "id": "7dfa071e-32aa-4dd9-9987-506d6a9c47ea",
   "metadata": {},
   "source": [
    ">Remember: The (inplace = True) will make sure that the method does NOT return a new DataFrame, but it will remove all duplicates from the original DataFrame."
   ]
  },
  {
   "cell_type": "markdown",
   "id": "a814d55a-4fcb-4f4a-aa99-3f19448e6033",
   "metadata": {},
   "source": [
    "# Data Correlations"
   ]
  },
  {
   "cell_type": "markdown",
   "id": "95f90c6a-543c-4337-a670-1d2a578473a5",
   "metadata": {},
   "source": [
    "**Finding Relationships**  \n",
    "A great aspect of the Pandas module is the corr() method.\n",
    "\n",
    "The corr() method calculates the relationship between each column in your data set.\n",
    "\n",
    "The examples in this page uses a CSV file called: 'data.csv'.  \n",
    "**Example**  \n",
    "Show the relationship between the columns:"
   ]
  },
  {
   "cell_type": "code",
   "execution_count": 84,
   "id": "2193f979-6c81-41c2-b399-79cc27fff626",
   "metadata": {},
   "outputs": [
    {
     "data": {
      "text/html": [
       "<div>\n",
       "<style scoped>\n",
       "    .dataframe tbody tr th:only-of-type {\n",
       "        vertical-align: middle;\n",
       "    }\n",
       "\n",
       "    .dataframe tbody tr th {\n",
       "        vertical-align: top;\n",
       "    }\n",
       "\n",
       "    .dataframe thead th {\n",
       "        text-align: right;\n",
       "    }\n",
       "</style>\n",
       "<table border=\"1\" class=\"dataframe\">\n",
       "  <thead>\n",
       "    <tr style=\"text-align: right;\">\n",
       "      <th></th>\n",
       "      <th>Duration</th>\n",
       "      <th>Date</th>\n",
       "      <th>Pulse</th>\n",
       "      <th>Maxpulse</th>\n",
       "      <th>Calories</th>\n",
       "    </tr>\n",
       "  </thead>\n",
       "  <tbody>\n",
       "    <tr>\n",
       "      <th>Duration</th>\n",
       "      <td>1.000000</td>\n",
       "      <td>0.212084</td>\n",
       "      <td>-0.083417</td>\n",
       "      <td>-0.296585</td>\n",
       "      <td>0.350969</td>\n",
       "    </tr>\n",
       "    <tr>\n",
       "      <th>Date</th>\n",
       "      <td>0.212084</td>\n",
       "      <td>1.000000</td>\n",
       "      <td>-0.369328</td>\n",
       "      <td>-0.517827</td>\n",
       "      <td>-0.368101</td>\n",
       "    </tr>\n",
       "    <tr>\n",
       "      <th>Pulse</th>\n",
       "      <td>-0.083417</td>\n",
       "      <td>-0.369328</td>\n",
       "      <td>1.000000</td>\n",
       "      <td>0.261426</td>\n",
       "      <td>0.503243</td>\n",
       "    </tr>\n",
       "    <tr>\n",
       "      <th>Maxpulse</th>\n",
       "      <td>-0.296585</td>\n",
       "      <td>-0.517827</td>\n",
       "      <td>0.261426</td>\n",
       "      <td>1.000000</td>\n",
       "      <td>0.338515</td>\n",
       "    </tr>\n",
       "    <tr>\n",
       "      <th>Calories</th>\n",
       "      <td>0.350969</td>\n",
       "      <td>-0.368101</td>\n",
       "      <td>0.503243</td>\n",
       "      <td>0.338515</td>\n",
       "      <td>1.000000</td>\n",
       "    </tr>\n",
       "  </tbody>\n",
       "</table>\n",
       "</div>"
      ],
      "text/plain": [
       "          Duration      Date     Pulse  Maxpulse  Calories\n",
       "Duration  1.000000  0.212084 -0.083417 -0.296585  0.350969\n",
       "Date      0.212084  1.000000 -0.369328 -0.517827 -0.368101\n",
       "Pulse    -0.083417 -0.369328  1.000000  0.261426  0.503243\n",
       "Maxpulse -0.296585 -0.517827  0.261426  1.000000  0.338515\n",
       "Calories  0.350969 -0.368101  0.503243  0.338515  1.000000"
      ]
     },
     "execution_count": 84,
     "metadata": {},
     "output_type": "execute_result"
    }
   ],
   "source": [
    "df.corr()"
   ]
  },
  {
   "cell_type": "markdown",
   "id": "c050f94b-99e3-46bb-9bfe-de24cf3fc6aa",
   "metadata": {},
   "source": [
    ">Note: The corr() method ignores \"not numeric\" columns."
   ]
  },
  {
   "cell_type": "markdown",
   "id": "65274dca-7199-497e-9e4a-0ad934bf0c7f",
   "metadata": {},
   "source": [
    "**Result Explained**  \n",
    "The Result of the corr() method is a table with a lot of numbers that represents how well the relationship is between two columns.\n",
    "\n",
    "The number varies from -1 to 1.\n",
    "\n",
    "1 means that there is a 1 to 1 relationship (a perfect correlation), and for this data set, each time a value went up in the first column, the other one went up as well.\n",
    "\n",
    "0.9 is also a good relationship, and if you increase one value, the other will probably increase as well.\n",
    "\n",
    "-0.9 would be just as good relationship as 0.9, but if you increase one value, the other will probably go down.\n",
    "\n",
    "0.2 means NOT a good relationship, meaning that if one value goes up does not mean that the other will.\n",
    "\n",
    ">What is a good correlation? It depends on the use, but I think it is safe to say you have to have at least 0.6 (or -0.6) to call it a good correlation.\n",
    "\n",
    "**Perfect Correlation:**  \n",
    "We can see that \"Duration\" and \"Duration\" got the number 1.000000, which makes sense, each column always has a perfect relationship with itself.\n",
    "\n",
    "**Good Correlation:**  \n",
    "\"Duration\" and \"Calories\" got a 0.922721 correlation, which is a very good correlation, and we can predict that the longer you work out, the more calories you burn, and the other way around: if you burned a lot of calories, you probably had a long work out.\n",
    "\n",
    "**Bad Correlation:**  \n",
    "\"Duration\" and \"Maxpulse\" got a 0.009403 correlation, which is a very bad correlation, meaning that we can not predict the max pulse by just looking at the duration of the work out, and vice versa.\n",
    "\n"
   ]
  },
  {
   "cell_type": "markdown",
   "id": "4de0b004-eeee-4fb3-b10a-138281a5c781",
   "metadata": {},
   "source": [
    "# Plotting"
   ]
  },
  {
   "cell_type": "markdown",
   "id": "f809e614-518b-4b16-b376-2c630bc49653",
   "metadata": {},
   "source": [
    "Pandas uses the plot() method to create diagrams.\n",
    "\n",
    "We can use Pyplot, a submodule of the Matplotlib library to visualize the diagram on the screen.\n",
    "\n",
    "**Example**  \n",
    "Import pyplot from Matplotlib and visualize our DataFrame:"
   ]
  },
  {
   "cell_type": "code",
   "execution_count": 85,
   "id": "e68cf33f-6571-4c0c-a46a-b972e8617127",
   "metadata": {},
   "outputs": [
    {
     "data": {
      "image/png": "[encoded data removed]",
      "text/plain": [
       "<Figure size 640x480 with 1 Axes>"
      ]
     },
     "metadata": {},
     "output_type": "display_data"
    }
   ],
   "source": [
    "import pandas as pd\n",
    "import matplotlib.pyplot as plt\n",
    "df = pd.read_csv('data/PandaData.csv')\n",
    "df.plot()\n",
    "plt.show()"
   ]
  },
  {
   "cell_type": "markdown",
   "id": "f49aa305-bf28-4d50-9440-076679e8ebbe",
   "metadata": {},
   "source": [
    "**Scatter Plot**  \n",
    "Specify that you want a scatter plot with the kind argument:\n",
    "\n",
    "kind = 'scatter'\n",
    "\n",
    "A scatter plot needs an x- and a y-axis.\n",
    "\n",
    "In the example below we will use \"Duration\" for the x-axis and \"Calories\" for the y-axis.\n",
    "\n",
    "Include the x and y arguments like this:\n",
    "\n",
    "x = 'Duration', y = 'Calories'\n",
    "\n",
    "**Example**  "
   ]
  },
  {
   "cell_type": "code",
   "execution_count": 86,
   "id": "a5c3dde3-8e27-4b46-ba8e-9b2f7ce8aee2",
   "metadata": {},
   "outputs": [
    {
     "data": {
      "image/png": "[encoded data removed]",
      "text/plain": [
       "<Figure size 640x480 with 1 Axes>"
      ]
     },
     "metadata": {},
     "output_type": "display_data"
    }
   ],
   "source": [
    "import pandas as pd\n",
    "import matplotlib.pyplot as plt\n",
    "df = pd.read_csv('data/PandaData.csv')\n",
    "df.plot(kind = 'scatter', x = 'Duration', y = 'Calories')\n",
    "plt.show()"
   ]
  },
  {
   "cell_type": "markdown",
   "id": "93b91254-d9e4-4ee2-aaa1-462114542b46",
   "metadata": {},
   "source": [
    ">Remember: In the previous example, we learned that the correlation between \"Duration\" and \"Calories\" was 0.922721, and we concluded with the fact that higher duration means more calories burned.  \n",
    "By looking at the scatterplot, I will agree.  \n",
    "Let's create another scatterplot, where there is a bad relationship between the columns, like \"Duration\" and \"Maxpulse\", with the correlation 0.009403:  \n",
    "\n",
    "**Example**  \n",
    "A scatterplot where there are no relationship between the columns:"
   ]
  },
  {
   "cell_type": "code",
   "execution_count": 87,
   "id": "62eb25d8-b169-4bac-a8c3-d556aaeba63d",
   "metadata": {},
   "outputs": [
    {
     "data": {
      "image/png": "[encoded data removed]",
      "text/plain": [
       "<Figure size 640x480 with 1 Axes>"
      ]
     },
     "metadata": {},
     "output_type": "display_data"
    }
   ],
   "source": [
    "import pandas as pd\n",
    "import matplotlib.pyplot as plt\n",
    "df = pd.read_csv('data/PandaData.csv')\n",
    "df.plot(kind = 'scatter', x = 'Duration', y = 'Maxpulse')\n",
    "plt.show()"
   ]
  },
  {
   "cell_type": "markdown",
   "id": "44d0c261-9a35-4422-900c-493d82fa6580",
   "metadata": {},
   "source": [
    "**Histogram**\n",
    "Use the kind argument to specify that you want a histogram:\n",
    "\n",
    "kind = 'hist'\n",
    "\n",
    "A histogram needs only one column.\n",
    "\n",
    "A histogram shows us the frequency of each interval, e.g. how many workouts lasted between 50 and 60 minutes?\n",
    "\n",
    "In the example below we will use the \"Pulse\" column to create the histogram:\n",
    "\n",
    "**Example**"
   ]
  },
  {
   "cell_type": "code",
   "execution_count": 88,
   "id": "2d50e04b-902e-4f50-b80e-f366cb47e9d0",
   "metadata": {},
   "outputs": [
    {
     "data": {
      "text/plain": [
       "<Axes: ylabel='Frequency'>"
      ]
     },
     "execution_count": 88,
     "metadata": {},
     "output_type": "execute_result"
    },
    {
     "data": {
      "image/png": "[encoded data removed]",
      "text/plain": [
       "<Figure size 640x480 with 1 Axes>"
      ]
     },
     "metadata": {},
     "output_type": "display_data"
    }
   ],
   "source": [
    "df[\"Pulse\"].plot(kind = 'hist')"
   ]
  },
  {
   "cell_type": "markdown",
   "id": "987d60ed-432e-40a6-ab42-5a9b2ee2fac5",
   "metadata": {},
   "source": [
    ">Note: The histogram tells us that there were over 100 workouts that lasted between 50 and 60 minutes."
   ]
  },
  {
   "cell_type": "code",
   "execution_count": 89,
   "id": "9e4fcf7c-5b8c-4e19-bc1b-af7d8f7ebe70",
   "metadata": {},
   "outputs": [
    {
     "data": {
      "text/plain": [
       "<Axes: ylabel='Density'>"
      ]
     },
     "execution_count": 89,
     "metadata": {},
     "output_type": "execute_result"
    },
    {
     "data": {
      "image/png": "[encoded data removed]",
      "text/plain": [
       "<Figure size 640x480 with 1 Axes>"
      ]
     },
     "metadata": {},
     "output_type": "display_data"
    }
   ],
   "source": [
    "df[\"Pulse\"].plot(kind = 'kde')"
   ]
  },
  {
   "cell_type": "code",
   "execution_count": null,
   "id": "8b35743b-e5f8-43bd-858b-e5d63d16d2cd",
   "metadata": {},
   "outputs": [],
   "source": []
  }
 ],
 "metadata": {
  "kernelspec": {
   "display_name": "Python 3 (ipykernel)",
   "language": "python",
   "name": "python3"
  },
  "language_info": {
   "codemirror_mode": {
    "name": "ipython",
    "version": 3
   },
   "file_extension": ".py",
   "mimetype": "text/x-python",
   "name": "python",
   "nbconvert_exporter": "python",
   "pygments_lexer": "ipython3",
   "version": "3.12.4"
  }
 },
 "nbformat": 4,
 "nbformat_minor": 5
}
