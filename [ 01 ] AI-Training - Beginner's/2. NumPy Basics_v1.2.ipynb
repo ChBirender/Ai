{
 "cells": [
  {
   "cell_type": "markdown",
   "id": "8ed50905-3ac1-4d24-a04e-80448952c239",
   "metadata": {},
   "source": [
    "# Introduction"
   ]
  },
  {
   "cell_type": "markdown",
   "id": "a6437658-34a1-485d-80be-9108c381f5e6",
   "metadata": {},
   "source": [
    "NumPy is a Python library.\n",
    "\n",
    "NumPy is used for working with arrays.\n",
    "\n",
    "NumPy is short for \"Numerical Python\".\n",
    "\n",
    "**What is NumPy?**  \n",
    "NumPy is a Python library used for working with arrays.\n",
    "\n",
    "It also has functions for working in domain of linear algebra, fourier transform, and matrices.\n",
    "\n",
    "NumPy was created in 2005 by Travis Oliphant. It is an open source project and you can use it freely.\n",
    "\n",
    "NumPy stands for Numerical Python.\n",
    "\n",
    "**Why Use NumPy?**  \n",
    "In Python we have lists that serve the purpose of arrays, but they are slow to process.\n",
    "\n",
    "NumPy aims to provide an array object that is up to 50x faster than traditional Python lists.\n",
    "\n",
    "The array object in NumPy is called ndarray, it provides a lot of supporting functions that make working with ndarray very easy.\n",
    "\n",
    "Arrays are very frequently used in data science, where speed and resources are very important.\n",
    "\n",
    ">Data Science: is a branch of computer science where we study how to store, use and analyze data for deriving information from it.\n",
    "\n",
    "**Why is NumPy Faster Than Lists?**  \n",
    "NumPy arrays are stored at one continuous place in memory unlike lists, so processes can access and manipulate them very efficiently.\n",
    "\n",
    "This behavior is called locality of reference in computer science.\n",
    "\n",
    "This is the main reason why NumPy is faster than lists. Also it is optimized to work with latest CPU architectures.\n",
    "\n",
    "**Which Language is NumPy written in?**  \n",
    "NumPy is a Python library and is written partially in Python, but most of the parts that require fast computation are written in C or C++.\n",
    "\n",
    "**Where is the NumPy Codebase?**  \n",
    "The source code for NumPy is located at this github repository https://github.com/numpy/numpy\n",
    "\n",
    ">github: enables many people to work on the same codebase."
   ]
  },
  {
   "cell_type": "markdown",
   "id": "1b804849-6a74-4572-b023-99cae0509bbc",
   "metadata": {},
   "source": [
    "# Installation of NumPy"
   ]
  },
  {
   "cell_type": "markdown",
   "id": "634cee63-8049-4c27-968a-bcb2a479708c",
   "metadata": {},
   "source": [
    "If you have Python and PIP already installed on a system, then installation of NumPy is very easy.\n",
    "\n",
    "Install it using this command:\n",
    "\n",
    "**pip install numpy**  \n",
    "If this command fails, then use a python distribution that already has NumPy installed like, Anaconda, Spyder etc.\n",
    "\n",
    "**Import NumPy**  \n",
    "Once NumPy is installed, import it in your applications by adding the import keyword:"
   ]
  },
  {
   "cell_type": "code",
   "execution_count": 1,
   "id": "5c34ecbe-53e4-4e7e-b916-00da9a6b4c78",
   "metadata": {},
   "outputs": [],
   "source": [
    "import numpy"
   ]
  },
  {
   "cell_type": "markdown",
   "id": "578e00c5-a4f2-4093-87db-321e655f1e8f",
   "metadata": {},
   "source": [
    "Now NumPy is imported and ready to use.\n",
    "\n",
    "**Example**  "
   ]
  },
  {
   "cell_type": "code",
   "execution_count": 2,
   "id": "f93a127a-c999-418b-9113-883482b5c639",
   "metadata": {},
   "outputs": [
    {
     "name": "stdout",
     "output_type": "stream",
     "text": [
      "[1 2 3 4 5]\n"
     ]
    }
   ],
   "source": [
    "import numpy\n",
    "arr = numpy.array([1, 2, 3, 4, 5])\n",
    "print(arr)"
   ]
  },
  {
   "cell_type": "markdown",
   "id": "543db667-638e-4c55-8adb-c99ae7b8e23d",
   "metadata": {},
   "source": [
    "**NumPy as np**  \n",
    "NumPy is usually imported under the np alias.\n",
    "\n",
    ">alias: In Python alias are an alternate name for referring to the same thing.\n",
    "\n",
    "Create an alias with the as keyword while importing:"
   ]
  },
  {
   "cell_type": "code",
   "execution_count": 3,
   "id": "252dc419-0569-4a40-b9e8-5abba6ae2ca3",
   "metadata": {},
   "outputs": [],
   "source": [
    "import numpy as np"
   ]
  },
  {
   "cell_type": "markdown",
   "id": "dc70c2e9-ff1a-4d29-b937-6b854a1e5159",
   "metadata": {},
   "source": [
    "Now the NumPy package can be referred to as np instead of numpy.\n",
    "\n",
    "**Example**  "
   ]
  },
  {
   "cell_type": "code",
   "execution_count": 4,
   "id": "d2fba3db-a340-4a92-9805-407ff0c50176",
   "metadata": {},
   "outputs": [
    {
     "name": "stdout",
     "output_type": "stream",
     "text": [
      "[1 2 3 4 5]\n"
     ]
    }
   ],
   "source": [
    "import numpy as np\n",
    "arr = np.array([1, 2, 3, 4, 5])\n",
    "print(arr)"
   ]
  },
  {
   "cell_type": "markdown",
   "id": "46465d54-00c4-4b03-8eeb-d167918c39f3",
   "metadata": {},
   "source": [
    "**Checking NumPy Version**  \n",
    "The version string is stored under __version__ attribute.\n",
    "\n",
    "**Example**  "
   ]
  },
  {
   "cell_type": "code",
   "execution_count": 5,
   "id": "27552e77-37ce-4ffd-8d98-c86a07506c15",
   "metadata": {},
   "outputs": [
    {
     "name": "stdout",
     "output_type": "stream",
     "text": [
      "1.26.4\n"
     ]
    }
   ],
   "source": [
    "import numpy as np\n",
    "print(np.__version__)"
   ]
  },
  {
   "cell_type": "markdown",
   "id": "133c0715-a403-409a-beb0-0a61a392343a",
   "metadata": {},
   "source": [
    "# Creating Arrays"
   ]
  },
  {
   "cell_type": "markdown",
   "id": "d4e800df-1d03-4a7f-b27f-e210782188e7",
   "metadata": {},
   "source": [
    "**Create a NumPy ndarray Object**  \n",
    "NumPy is used to work with arrays. The array object in NumPy is called ndarray.\n",
    "\n",
    "We can create a NumPy ndarray object by using the array() function.\n",
    "\n",
    "**Example**  "
   ]
  },
  {
   "cell_type": "code",
   "execution_count": 6,
   "id": "aa4d194f-8d9d-4665-ae40-bf363c58f159",
   "metadata": {},
   "outputs": [
    {
     "name": "stdout",
     "output_type": "stream",
     "text": [
      "[1 2 3 4 5]\n",
      "<class 'numpy.ndarray'>\n"
     ]
    }
   ],
   "source": [
    "import numpy as np\n",
    "arr = np.array([1, 2, 3, 4, 5])\n",
    "print(arr)\n",
    "print(type(arr))"
   ]
  },
  {
   "cell_type": "markdown",
   "id": "6c353d49-edc6-4a28-b789-cb14516118f0",
   "metadata": {},
   "source": [
    ">type(): This built-in Python function tells us the type of the object passed to it. Like in above code it shows that arr is numpy.ndarray type.\n",
    "\n",
    "To create an ndarray, we can pass a list, tuple or any array-like object into the array() method, and it will be converted into an ndarray:\n",
    "\n",
    "**Example**  \n",
    "Use a tuple to create a NumPy array:"
   ]
  },
  {
   "cell_type": "code",
   "execution_count": 7,
   "id": "54756ef2-0e4e-4321-b7e7-7cfff3eb09be",
   "metadata": {},
   "outputs": [
    {
     "name": "stdout",
     "output_type": "stream",
     "text": [
      "[1 2 3 4 5]\n"
     ]
    }
   ],
   "source": [
    "import numpy as np\n",
    "arr = np.array((1, 2, 3, 4, 5))\n",
    "print(arr)"
   ]
  },
  {
   "cell_type": "markdown",
   "id": "531c3bd6-de4f-47ce-b16b-6be6909a9992",
   "metadata": {},
   "source": [
    "**Dimensions in Arrays**  \n",
    "A dimension in arrays is one level of array depth (nested arrays).\n",
    "\n",
    "nested array: are arrays that have arrays as their elements.\n",
    "**0-D Arrays**  \n",
    "0-D arrays, or Scalars, are the elements in an array. Each value in an array is a 0-D array.\n",
    "\n",
    "**Example**  \n",
    "Create a 0-D array with value 42"
   ]
  },
  {
   "cell_type": "code",
   "execution_count": 8,
   "id": "166ba8cc-9c40-4683-b31b-2412d45dbdf0",
   "metadata": {},
   "outputs": [
    {
     "name": "stdout",
     "output_type": "stream",
     "text": [
      "42\n"
     ]
    }
   ],
   "source": [
    "import numpy as np\n",
    "arr = np.array(42)\n",
    "print(arr)"
   ]
  },
  {
   "cell_type": "markdown",
   "id": "bd8ff594-f682-4061-956a-d0154629f96f",
   "metadata": {},
   "source": [
    "**1-D Arrays**  \n",
    "An array that has 0-D arrays as its elements is called uni-dimensional or 1-D array.\n",
    "\n",
    "These are the most common and basic arrays.\n",
    "\n",
    "**Example**  \n",
    "Create a 1-D array containing the values 1,2,3,4,5:"
   ]
  },
  {
   "cell_type": "code",
   "execution_count": 9,
   "id": "4c0c0768-2512-4fd2-88ca-a4c610f33177",
   "metadata": {},
   "outputs": [
    {
     "name": "stdout",
     "output_type": "stream",
     "text": [
      "[1 2 3 4 5]\n"
     ]
    }
   ],
   "source": [
    "import numpy as np\n",
    "arr = np.array([1, 2, 3, 4, 5])\n",
    "print(arr)"
   ]
  },
  {
   "cell_type": "markdown",
   "id": "669a6566-f96e-4abb-bd2f-1b6a25d9e472",
   "metadata": {},
   "source": [
    "**2-D Arrays**  \n",
    "An array that has 1-D arrays as its elements is called a 2-D array.\n",
    "\n",
    "These are often used to represent matrix or 2nd order tensors.\n",
    "\n",
    "NumPy has a whole sub module dedicated towards matrix operations called numpy.mat\n",
    "\n",
    "**Example**  \n",
    "Create a 2-D array containing two arrays with the values 1,2,3 and 4,5,6:"
   ]
  },
  {
   "cell_type": "code",
   "execution_count": 10,
   "id": "a14a1697-25c9-4682-9572-e1a21eae0b6b",
   "metadata": {},
   "outputs": [
    {
     "name": "stdout",
     "output_type": "stream",
     "text": [
      "[[1 2 3 4]\n",
      " [5 6 7 8]\n",
      " [5 6 7 8]]\n"
     ]
    }
   ],
   "source": [
    "import numpy as np\n",
    "arr = np.array([[1, 2, 3, 4], [5, 6, 7, 8], [5, 6, 7, 8]])\n",
    "print(arr)"
   ]
  },
  {
   "cell_type": "markdown",
   "id": "962e31bc-d5a4-45a8-92cd-5ad2f7f3da65",
   "metadata": {},
   "source": [
    "**3-D arrays**  \n",
    "An array that has 2-D arrays (matrices) as its elements is called 3-D array.\n",
    "\n",
    "These are often used to represent a 3rd order tensor.\n",
    "\n",
    "**Example**  \n",
    "Create a 3-D array with two 2-D arrays, both containing two arrays with the values 1,2,3 and 4,5,6:"
   ]
  },
  {
   "cell_type": "code",
   "execution_count": 11,
   "id": "18a12ad3-73d8-4513-ab26-37ff9455dec4",
   "metadata": {},
   "outputs": [
    {
     "name": "stdout",
     "output_type": "stream",
     "text": [
      "[[[1 2 3]\n",
      "  [4 5 6]]\n",
      "\n",
      " [[1 2 3]\n",
      "  [4 5 6]]]\n"
     ]
    }
   ],
   "source": [
    "import numpy as np\n",
    "arr = np.array([[[1, 2, 3], [4, 5, 6]], [[1, 2, 3], [4, 5, 6]]])\n",
    "print(arr)"
   ]
  },
  {
   "cell_type": "markdown",
   "id": "dbb63cb6-f2e0-4933-b6f0-e56011bb89c0",
   "metadata": {},
   "source": [
    "**Check Number of Dimensions?**  \n",
    "NumPy Arrays provides the ndim attribute that returns an integer that tells us how many dimensions the array have.\n",
    "\n",
    "**Example**  \n",
    "Check how many dimensions the arrays have:"
   ]
  },
  {
   "cell_type": "code",
   "execution_count": 12,
   "id": "dad8cf1d-e60d-4b9b-ae2f-cd7b29aec2f9",
   "metadata": {},
   "outputs": [
    {
     "name": "stdout",
     "output_type": "stream",
     "text": [
      "0\n",
      "1\n",
      "2\n",
      "3\n"
     ]
    }
   ],
   "source": [
    "import numpy as np\n",
    "\n",
    "a = np.array(42)\n",
    "b = np.array([1, 2, 3, 4, 5])\n",
    "c = np.array([[1, 2, 3], [4, 5, 6]])\n",
    "d = np.array([[[1, 2, 3], [4, 5, 6]], [[1, 2, 3], [4, 5, 6]]])\n",
    "\n",
    "print(a.ndim)\n",
    "print(b.ndim)\n",
    "print(c.ndim)\n",
    "print(d.ndim)"
   ]
  },
  {
   "cell_type": "markdown",
   "id": "6d16e9f2-3ed4-4ceb-93e8-c029923ca7be",
   "metadata": {},
   "source": [
    "**Higher Dimensional Arrays**  \n",
    "An array can have any number of dimensions.\n",
    "\n",
    "When the array is created, you can define the number of dimensions by using the ndmin argument.\n",
    "\n",
    "**Example**  \n",
    "Create an array with 5 dimensions and verify that it has 5 dimensions:"
   ]
  },
  {
   "cell_type": "code",
   "execution_count": 13,
   "id": "962d06fe-ab13-49b2-8f28-783485f948e9",
   "metadata": {},
   "outputs": [
    {
     "name": "stdout",
     "output_type": "stream",
     "text": [
      "[[[[[1 2 3 4]]]]]\n",
      "number of dimensions : 5\n"
     ]
    }
   ],
   "source": [
    "import numpy as np\n",
    "arr = np.array([1, 2, 3, 4], ndmin=5)\n",
    "print(arr)\n",
    "print('number of dimensions :', arr.ndim)"
   ]
  },
  {
   "cell_type": "markdown",
   "id": "52bfc805-0b81-479b-a198-e8bfb3ff0d6a",
   "metadata": {},
   "source": [
    "In this array the innermost dimension (5th dim) has 4 elements, the 4th dim has 1 element that is the vector, the 3rd dim has 1 element that is the matrix with the vector, the 2nd dim has 1 element that is 3D array and 1st dim has 1 element that is a 4D array."
   ]
  },
  {
   "cell_type": "markdown",
   "id": "43c7b811-a047-4626-978d-5ff8c954fd38",
   "metadata": {},
   "source": [
    "# Array Indexing"
   ]
  },
  {
   "cell_type": "markdown",
   "id": "5c686f35-6cf7-49b8-a59e-c90e4f483350",
   "metadata": {},
   "source": [
    "**Access Array Elements**  \n",
    "Array indexing is the same as accessing an array element.\n",
    "\n",
    "You can access an array element by referring to its index number.\n",
    "\n",
    "The indexes in NumPy arrays start with 0, meaning that the first element has index 0, and the second has index 1 etc.\n",
    "\n",
    "**Example**  \n",
    "Get the first element from the following array:"
   ]
  },
  {
   "cell_type": "code",
   "execution_count": 14,
   "id": "da051fbf-6139-4c48-8b1b-dd24338b8137",
   "metadata": {},
   "outputs": [
    {
     "name": "stdout",
     "output_type": "stream",
     "text": [
      "1\n"
     ]
    }
   ],
   "source": [
    "import numpy as np\n",
    "arr = np.array([1, 2, 3, 4])\n",
    "print(arr[0])"
   ]
  },
  {
   "cell_type": "markdown",
   "id": "e550031d-2f7b-4139-934c-be6a77e28276",
   "metadata": {},
   "source": [
    "**Example**  \n",
    "Get the second element from the following array."
   ]
  },
  {
   "cell_type": "code",
   "execution_count": 15,
   "id": "95b823dd-cc9d-4e04-9300-0bbbaa198b07",
   "metadata": {},
   "outputs": [
    {
     "name": "stdout",
     "output_type": "stream",
     "text": [
      "2\n"
     ]
    }
   ],
   "source": [
    "import numpy as np\n",
    "arr = np.array([1, 2, 3, 4])\n",
    "print(arr[1])"
   ]
  },
  {
   "cell_type": "markdown",
   "id": "5f41145b-81ce-4592-9b33-d8600b7615c9",
   "metadata": {},
   "source": [
    "**Example**  \n",
    "Get third and fourth elements from the following array and add them."
   ]
  },
  {
   "cell_type": "code",
   "execution_count": 16,
   "id": "cd40886c-1669-460e-9484-0b02e903c551",
   "metadata": {},
   "outputs": [
    {
     "name": "stdout",
     "output_type": "stream",
     "text": [
      "7\n"
     ]
    }
   ],
   "source": [
    "import numpy as np\n",
    "arr = np.array([1, 2, 3, 4])\n",
    "print(arr[2] + arr[3])"
   ]
  },
  {
   "cell_type": "markdown",
   "id": "a259f05a-750b-41c3-a571-0e4d49083ef0",
   "metadata": {},
   "source": [
    "**Access 2-D Arrays**  \n",
    "To access elements from 2-D arrays we can use comma separated integers representing the dimension and the index of the element.\n",
    "\n",
    "Think of 2-D arrays like a table with rows and columns, where the dimension represents the row and the index represents the column.\n",
    "\n",
    "**Example**  \n",
    "Access the element on the first row, second column:"
   ]
  },
  {
   "cell_type": "code",
   "execution_count": 17,
   "id": "a1c6bd68-99b7-43f3-bd58-2a7cb04804d0",
   "metadata": {},
   "outputs": [
    {
     "name": "stdout",
     "output_type": "stream",
     "text": [
      "2nd element on 1st row:  2\n"
     ]
    }
   ],
   "source": [
    "import numpy as np\n",
    "arr = np.array([[1,2,3,4,5], [6,7,8,9,10]])\n",
    "print('2nd element on 1st row: ', arr[0, 1])"
   ]
  },
  {
   "cell_type": "markdown",
   "id": "d9f7d329-b00f-4ce0-a9a4-f58048f03a74",
   "metadata": {},
   "source": [
    "**Example**  \n",
    "Access the element on the 2nd row, 5th column:"
   ]
  },
  {
   "cell_type": "code",
   "execution_count": 18,
   "id": "d223f3d0-38e5-44cc-a825-0e073410b552",
   "metadata": {},
   "outputs": [
    {
     "name": "stdout",
     "output_type": "stream",
     "text": [
      "5th element on 2nd row:  10\n"
     ]
    }
   ],
   "source": [
    "import numpy as np\n",
    "arr = np.array([[1,2,3,4,5], [6,7,8,9,10]])\n",
    "print('5th element on 2nd row: ', arr[1, 4])"
   ]
  },
  {
   "cell_type": "markdown",
   "id": "c56ac70a-955f-49d3-a4e6-502e19aade0f",
   "metadata": {},
   "source": [
    "**Access 3-D Arrays**  \n",
    "To access elements from 3-D arrays we can use comma separated integers representing the dimensions and the index of the element.\n",
    "\n",
    "**Example**  \n",
    "Access the third element of the second array of the first array:"
   ]
  },
  {
   "cell_type": "code",
   "execution_count": 19,
   "id": "a9a9e492-c0a1-41e0-b2b6-58b70077049d",
   "metadata": {},
   "outputs": [
    {
     "name": "stdout",
     "output_type": "stream",
     "text": [
      "6\n"
     ]
    }
   ],
   "source": [
    "import numpy as np\n",
    "arr = np.array([[[1, 2, 3], [4, 5, 6]], [[7, 8, 9], [10, 11, 12]]])\n",
    "print(arr[0, 1, 2])"
   ]
  },
  {
   "cell_type": "markdown",
   "id": "85a9b744-3d36-400d-82b3-d19e52623e29",
   "metadata": {},
   "source": [
    "**Example Explained**  \n",
    "arr[0, 1, 2] prints the value 6.\n",
    "\n",
    "And this is why:\n",
    "\n",
    "The first number represents the first dimension, which contains two arrays:  \n",
    "[[1, 2, 3], [4, 5, 6]]  \n",
    "and:  \n",
    "[[7, 8, 9], [10, 11, 12]]  \n",
    "Since we selected 0, we are left with the first array:  \n",
    "[[1, 2, 3], [4, 5, 6]]  \n",
    "\n",
    "The second number represents the second dimension, which also contains two arrays:  \n",
    "[1, 2, 3]  \n",
    "and:  \n",
    "[4, 5, 6]  \n",
    "Since we selected 1, we are left with the second array:  \n",
    "[4, 5, 6]  \n",
    "\n",
    "The third number represents the third dimension, which contains three values:  \n",
    "4  \n",
    "5  \n",
    "6  \n",
    "Since we selected 2, we end up with the third value:  \n",
    "6  \n",
    "\n",
    "**Negative Indexing**  \n",
    "Use negative indexing to access an array from the end.\n",
    "\n",
    "**Example**  \n",
    "Print the last element from the 2nd dim:"
   ]
  },
  {
   "cell_type": "code",
   "execution_count": 20,
   "id": "f581099d-4100-421f-b7bf-7babaaafae65",
   "metadata": {},
   "outputs": [
    {
     "name": "stdout",
     "output_type": "stream",
     "text": [
      "Last element from 2nd dim:  10\n"
     ]
    }
   ],
   "source": [
    "import numpy as np\n",
    "arr = np.array([[1,2,3,4,5], [6,7,8,9,10]])\n",
    "print('Last element from 2nd dim: ', arr[1, -1])"
   ]
  },
  {
   "cell_type": "markdown",
   "id": "5ce4d59c-b0b5-4694-a39e-40331e1f95f7",
   "metadata": {},
   "source": [
    "# Array Slicing"
   ]
  },
  {
   "cell_type": "markdown",
   "id": "b4926507-eee4-4ed3-beb7-0c3b6e121e67",
   "metadata": {},
   "source": [
    "Slicing in python means taking elements from one given index to another given index.\n",
    "\n",
    "We pass slice instead of index like this: [start:end].\n",
    "\n",
    "We can also define the step, like this: [start:end:step].\n",
    "\n",
    "If we don't pass start its considered 0\n",
    "\n",
    "If we don't pass end its considered length of array in that dimension\n",
    "\n",
    "If we don't pass step its considered 1  \n",
    "**Example**  \n",
    "Slice elements from index 1 to index 5 from the following array:"
   ]
  },
  {
   "cell_type": "code",
   "execution_count": 21,
   "id": "007b51b9-4ea3-48b5-b4c6-473a83bb9249",
   "metadata": {},
   "outputs": [
    {
     "name": "stdout",
     "output_type": "stream",
     "text": [
      "[2 3 4 5]\n"
     ]
    }
   ],
   "source": [
    "import numpy as np\n",
    "arr = np.array([1, 2, 3, 4, 5, 6, 7])\n",
    "print(arr[1:5])"
   ]
  },
  {
   "cell_type": "markdown",
   "id": "b81902c7-f054-4a2e-bb1e-7042998c1993",
   "metadata": {},
   "source": [
    ">Note: The result includes the start index, but excludes the end index.\n",
    "\n",
    "**Example**  \n",
    "Slice elements from index 4 to the end of the array:"
   ]
  },
  {
   "cell_type": "code",
   "execution_count": 22,
   "id": "2752d71f-7eaa-416a-becf-822805673722",
   "metadata": {},
   "outputs": [
    {
     "name": "stdout",
     "output_type": "stream",
     "text": [
      "[5 6 7]\n"
     ]
    }
   ],
   "source": [
    "import numpy as np\n",
    "arr = np.array([1, 2, 3, 4, 5, 6, 7])\n",
    "print(arr[4:])"
   ]
  },
  {
   "cell_type": "markdown",
   "id": "ce31f8b8-89f6-455b-8dd0-72ae468b565a",
   "metadata": {},
   "source": [
    "**Example**  \n",
    "Slice elements from the beginning to index 4 (not included):"
   ]
  },
  {
   "cell_type": "code",
   "execution_count": 23,
   "id": "c8988ebf-0be4-45aa-9349-ffbd815c95d4",
   "metadata": {},
   "outputs": [
    {
     "name": "stdout",
     "output_type": "stream",
     "text": [
      "[1 2 3 4]\n"
     ]
    }
   ],
   "source": [
    "import numpy as np\n",
    "arr = np.array([1, 2, 3, 4, 5, 6, 7])\n",
    "print(arr[:4])"
   ]
  },
  {
   "cell_type": "markdown",
   "id": "6d6e8e0d-0f9c-4e79-85bc-a2960adf8714",
   "metadata": {},
   "source": [
    "**Negative Slicing**  \n",
    "Use the minus operator to refer to an index from the end:\n",
    "\n",
    "**Example**  \n",
    "Slice from the index 3 from the end to index 1 from the end:"
   ]
  },
  {
   "cell_type": "code",
   "execution_count": 24,
   "id": "bab76d83-2e1c-496b-bc06-4447adb71edb",
   "metadata": {},
   "outputs": [
    {
     "name": "stdout",
     "output_type": "stream",
     "text": [
      "[5 6]\n"
     ]
    }
   ],
   "source": [
    "import numpy as np\n",
    "arr = np.array([1, 2, 3, 4, 5, 6, 7])\n",
    "print(arr[-3:-1])"
   ]
  },
  {
   "cell_type": "markdown",
   "id": "e1c4900a-4062-47d3-91c1-fff9590f76f7",
   "metadata": {},
   "source": [
    "**STEP**  \n",
    "Use the step value to determine the step of the slicing:\n",
    "\n",
    "**Example**  \n",
    "Return every other element from index 1 to index 5:"
   ]
  },
  {
   "cell_type": "code",
   "execution_count": 25,
   "id": "86896e8f-1cf6-4996-9e26-dda5fc646c59",
   "metadata": {},
   "outputs": [
    {
     "name": "stdout",
     "output_type": "stream",
     "text": [
      "[2 4]\n"
     ]
    }
   ],
   "source": [
    "import numpy as np\n",
    "arr = np.array([1, 2, 3, 4, 5, 6, 7])\n",
    "print(arr[1:5:2])"
   ]
  },
  {
   "cell_type": "markdown",
   "id": "91e3d907-1ab0-420a-a0c8-2c3110130bd4",
   "metadata": {},
   "source": [
    "**Example**  \n",
    "Return every other element from the entire array:"
   ]
  },
  {
   "cell_type": "code",
   "execution_count": 26,
   "id": "d3563063-0a40-4c14-a41d-5e6ee382e029",
   "metadata": {},
   "outputs": [
    {
     "name": "stdout",
     "output_type": "stream",
     "text": [
      "[1 3 5 7]\n"
     ]
    }
   ],
   "source": [
    "import numpy as np\n",
    "arr = np.array([1, 2, 3, 4, 5, 6, 7])\n",
    "print(arr[::2])"
   ]
  },
  {
   "cell_type": "markdown",
   "id": "6b3d2832-91fe-4a33-a815-593eab833347",
   "metadata": {},
   "source": [
    "**Slicing 2-D Arrays**  \n",
    "**Example**  \n",
    "From the second element, slice elements from index 1 to index 4 (not included):"
   ]
  },
  {
   "cell_type": "code",
   "execution_count": 27,
   "id": "e9439895-24a9-4e04-94e9-04ba5a7b796c",
   "metadata": {},
   "outputs": [
    {
     "name": "stdout",
     "output_type": "stream",
     "text": [
      "[7 8 9]\n"
     ]
    }
   ],
   "source": [
    "import numpy as np\n",
    "arr = np.array([[1, 2, 3, 4, 5], [6, 7, 8, 9, 10]])\n",
    "print(arr[1, 1:4])"
   ]
  },
  {
   "cell_type": "markdown",
   "id": "fb9cc18f-b641-4284-a40c-12b4e1874fbb",
   "metadata": {},
   "source": [
    ">Note: Remember that second element has index 1.\n",
    "\n",
    "**Example**  \n",
    "From both elements, return index 2:"
   ]
  },
  {
   "cell_type": "code",
   "execution_count": 28,
   "id": "c1570ee6-dc4b-4bb3-a9c8-010efd3f6de7",
   "metadata": {},
   "outputs": [
    {
     "name": "stdout",
     "output_type": "stream",
     "text": [
      "[3 8]\n"
     ]
    }
   ],
   "source": [
    "import numpy as np\n",
    "arr = np.array([[1, 2, 3, 4, 5], \n",
    "                [6, 7, 8, 9, 10], \n",
    "                [11, 12, 13, 14, 15]])\n",
    "print(arr[0:2, 2])"
   ]
  },
  {
   "cell_type": "markdown",
   "id": "29b34c1e-8417-4ba7-9b89-38f951d75870",
   "metadata": {},
   "source": [
    "**Example**  \n",
    "From both elements, slice index 1 to index 4 (not included), this will return a 2-D array:"
   ]
  },
  {
   "cell_type": "code",
   "execution_count": 29,
   "id": "40c4e598-f8b0-48e7-ab96-afae0e42536a",
   "metadata": {},
   "outputs": [
    {
     "name": "stdout",
     "output_type": "stream",
     "text": [
      "[[2 3 4]\n",
      " [7 8 9]]\n"
     ]
    }
   ],
   "source": [
    "import numpy as np\n",
    "arr = np.array([[1, 2, 3, 4, 5], \n",
    "                [6, 7, 8, 9, 10], \n",
    "                [11, 12, 13, 14, 15]])\n",
    "print(arr[0:2, 1:4])"
   ]
  },
  {
   "cell_type": "markdown",
   "id": "e3ddafad-962d-490a-98ca-2aecc2232ded",
   "metadata": {},
   "source": [
    "# Data Types"
   ]
  },
  {
   "cell_type": "markdown",
   "id": "1b3bee93-9145-4b32-a7b2-27581b7e7c04",
   "metadata": {},
   "source": [
    "**Data Types in Python**  \n",
    "By default Python have these data types:  \n",
    ">• strings - used to represent text data, the text is given under quote marks. e.g. \"ABCD\"  \n",
    "    • integer - used to represent integer numbers. e.g. -1, -2, -3  \n",
    "    • float - used to represent real numbers. e.g. 1.2, 42.42  \n",
    "    • boolean - used to represent True or False.  \n",
    "    • complex - used to represent complex numbers. e.g. 1.0 + 2.0j, 1.5 + 2.5j  "
   ]
  },
  {
   "cell_type": "markdown",
   "id": "a123b460-403a-411b-adf7-481d5682d08b",
   "metadata": {},
   "source": [
    "**Data Types in NumPy**  \n",
    "NumPy has some extra data types, and refer to data types with one character, like i for integers, u for unsigned integers etc.  \n",
    "Below is a list of all data types in NumPy and the characters used to represent them.  \n",
    ">• i - integer  \n",
    "    • b - boolean  \n",
    "    • u - unsigned integer  \n",
    "    • f - float  \n",
    "    • c - complex float  \n",
    "    • m - timedelta  \n",
    "    • M - datetime  \n",
    "    • O - object  \n",
    "    • S - string  \n",
    "    • U - unicode string  \n",
    "    • V - fixed chunk of memory for other type ( void )  "
   ]
  },
  {
   "cell_type": "markdown",
   "id": "29c52cbf-447c-4ff9-ac28-b207ebf0d5c7",
   "metadata": {},
   "source": [
    "| Data Type name                      | Description                                                                                      |\n",
    "| ------------------------------------ | ------------------------------------------------------------------------------------------------ |\n",
    "| numpy.bool or numpy.bool_            | Boolean (True or False) stored as a byte.                                                        |\n",
    "| numpy.int8                           | Platform-defined integer type with 8 bits.                                                       |\n",
    "| numpy.uint8                          | Platform-defined integer type with 8 bits without sign.                                          |\n",
    "| numpy.int16                          | Platform-defined integer type with 16 bits.                                                      |\n",
    "| numpy.uint16                         | Platform-defined integer type with 16 bits without sign.                                         |\n",
    "| numpy.int32                          | Platform-defined integer type with 32 bits.                                                      |\n",
    "| numpy.uint32                         | Platform-defined integer type with 32 bits without sign.                                         |\n",
    "| numpy.intp                           | Platform-defined integer of size size_t; used e.g. for sizes.                                    |\n",
    "| numpy.uintp                          | Platform-defined integer type capable of storing the maximum allocation size.                    |\n",
    "| numpy.int32 or numpy.int64           | Platform-defined integer type with at least 32 bits.                                             |\n",
    "| numpy.uint32 or numpy.uint64         | Platform-defined integer type with at least 32 bits without sign.                                |\n",
    "| numpy.float16                        | Half precision float: sign bit, 5 bits exponent, 10 bits mantissa.                               |\n",
    "| numpy.float32                        | Platform-defined single precision float: typically sign bit, 8 bits exponent, 23 bits mantissa.  |\n",
    "| numpy.float64                        | Platform-defined double precision float: typically sign bit, 11 bits exponent, 52 bits mantissa. |\n",
    "| numpy.float96 or numpy.float128      | Platform-defined extended-precision float.                                                       |\n",
    "| numpy.complex64                      | Complex number, represented by two single-precision floats (real and imaginary components).      |\n",
    "| numpy.complex128                     | Complex number, represented by two double-precision floats (real and imaginary components).      |\n",
    "| numpy.complex192 or numpy.complex256 | Complex number, represented by two extended-precision floats (real and                           |"
   ]
  },
  {
   "cell_type": "markdown",
   "id": "fe91cc82-31a2-4f02-9789-2043aa7a00de",
   "metadata": {},
   "source": [
    "**Checking the Data Type of an Array**  \n",
    "The NumPy array object has a property called dtype that returns the data type of the array:\n",
    "\n",
    "**Example**  \n",
    "Get the data type of an array object:"
   ]
  },
  {
   "cell_type": "code",
   "execution_count": 30,
   "id": "86b16ddb-4b8f-428c-b742-dc8b9f8b064a",
   "metadata": {},
   "outputs": [
    {
     "name": "stdout",
     "output_type": "stream",
     "text": [
      "int32\n"
     ]
    }
   ],
   "source": [
    "import numpy as np\n",
    "arr = np.array([1, 2, 3, 4])\n",
    "print(arr.dtype)"
   ]
  },
  {
   "cell_type": "markdown",
   "id": "36389417-7b8a-49e7-9cbe-cc38bc124bb1",
   "metadata": {},
   "source": [
    "**Example**  \n",
    "Get the data type of an array containing strings:"
   ]
  },
  {
   "cell_type": "code",
   "execution_count": 31,
   "id": "189ba8f1-deba-4d14-8e10-039142510e39",
   "metadata": {},
   "outputs": [
    {
     "name": "stdout",
     "output_type": "stream",
     "text": [
      "<U9\n"
     ]
    }
   ],
   "source": [
    "import numpy as np\n",
    "arr = np.array(['apple', 'banana', 'cherry','telephone'])\n",
    "print(arr.dtype)"
   ]
  },
  {
   "cell_type": "markdown",
   "id": "a279d7ae-f471-4d79-8e6a-15fb08b3cf66",
   "metadata": {},
   "source": [
    "Here U => unicode string and 9 => maximum length of any string"
   ]
  },
  {
   "cell_type": "markdown",
   "id": "00ddef5c-c59e-42d6-a856-b604b1a0bbe4",
   "metadata": {},
   "source": [
    "**Creating Arrays With a Defined Data Type**  \n",
    "We use the array() function to create arrays, this function can take an optional argument: dtype that allows us to define the expected data type of the array elements:\n",
    "\n",
    "**Example**  \n",
    "Create an array with data type string:"
   ]
  },
  {
   "cell_type": "code",
   "execution_count": 32,
   "id": "2d27de07-dde7-482e-908c-4491d0bbb921",
   "metadata": {},
   "outputs": [
    {
     "name": "stdout",
     "output_type": "stream",
     "text": [
      "[b'1' b'2' b'3' b'3']\n",
      "|S1\n"
     ]
    }
   ],
   "source": [
    "import numpy as np\n",
    "\n",
    "arr = np.array([1, 2, 3, 3], dtype='S')\n",
    "print(arr)\n",
    "print(arr.dtype)"
   ]
  },
  {
   "cell_type": "markdown",
   "id": "eb364ab9-8aae-459c-9177-4996581c8aca",
   "metadata": {},
   "source": [
    "For i, u, f, S and U we can define size as well.\n",
    "\n",
    "**Example**  \n",
    "Create an array with data type 4 bytes integer:"
   ]
  },
  {
   "cell_type": "code",
   "execution_count": 33,
   "id": "37012e3e-3172-4811-9dc6-58a9ad817834",
   "metadata": {},
   "outputs": [
    {
     "name": "stdout",
     "output_type": "stream",
     "text": [
      "[1 2 3 4]\n",
      "int8\n",
      "int16\n",
      "int32\n",
      "int64\n"
     ]
    }
   ],
   "source": [
    "import numpy as np\n",
    "\n",
    "arr1 = np.array([1, 2, 3, 4], dtype='i1')\n",
    "arr2 = np.array([1, 2, 3, 4], dtype='i2')\n",
    "arr3 = np.array([1, 2, 3, 4], dtype='i4')\n",
    "arr4 = np.array([1, 2, 3, 4], dtype='i8')\n",
    "print(arr1)\n",
    "print(arr1.dtype)\n",
    "print(arr2.dtype)\n",
    "print(arr3.dtype)\n",
    "print(arr4.dtype)"
   ]
  },
  {
   "cell_type": "markdown",
   "id": "a9a5fdf0-041e-4c4c-aa8f-a280d00a423f",
   "metadata": {},
   "source": [
    "**What if a Value Can Not Be Converted?**  \n",
    "If a type is given in which elements can't be casted then NumPy will raise a ValueError.\n",
    "\n",
    ">ValueError: In Python ValueError is raised when the type of passed argument to a function is unexpected/incorrect.\n",
    "\n",
    "**Example**  \n",
    "A non integer string like 'a' can not be converted to integer (will raise an error):"
   ]
  },
  {
   "cell_type": "code",
   "execution_count": 34,
   "id": "b303004b-bb6a-432f-bcd3-c1108bba62a2",
   "metadata": {},
   "outputs": [
    {
     "name": "stdout",
     "output_type": "stream",
     "text": [
      "Can't typecast\n"
     ]
    }
   ],
   "source": [
    "import numpy as np\n",
    "try:\n",
    "    arr = np.array(['a', '2', '3'], dtype='i')\n",
    "except:\n",
    "    print(\"Can't typecast\")"
   ]
  },
  {
   "cell_type": "markdown",
   "id": "31ffbd56-883c-4e2a-a3d6-48fcba91538e",
   "metadata": {},
   "source": [
    "**Converting Data Type on Existing Arrays**  \n",
    "The best way to change the data type of an existing array, is to make a copy of the array with the astype() method.\n",
    "\n",
    "The astype() function creates a copy of the array, and allows you to specify the data type as a parameter.\n",
    "\n",
    "The data type can be specified using a string, like 'f' for float, 'i' for integer etc. or you can use the data type directly like float for float and int for integer.\n",
    "\n",
    "**Example**  \n",
    "Change data type from float to integer by using 'i' as parameter value:"
   ]
  },
  {
   "cell_type": "code",
   "execution_count": 35,
   "id": "b1a69212-e480-46fb-9622-eb9e348c7f70",
   "metadata": {},
   "outputs": [
    {
     "name": "stdout",
     "output_type": "stream",
     "text": [
      "[1 2 3]\n",
      "int32\n"
     ]
    }
   ],
   "source": [
    "import numpy as np\n",
    "arr = np.array([1.1, 2.1, 3.1])\n",
    "newarr = arr.astype('i')\n",
    "print(newarr)\n",
    "print(newarr.dtype)"
   ]
  },
  {
   "cell_type": "markdown",
   "id": "f04fef7b-7b91-45ea-989a-8ee603f70c8e",
   "metadata": {},
   "source": [
    "**Example**  \n",
    "Change data type from float to integer by using int as parameter value:"
   ]
  },
  {
   "cell_type": "code",
   "execution_count": 36,
   "id": "854dcc78-2c06-4a45-89e2-a49f3cb5fab9",
   "metadata": {},
   "outputs": [
    {
     "name": "stdout",
     "output_type": "stream",
     "text": [
      "[1 2 3]\n",
      "int32\n"
     ]
    }
   ],
   "source": [
    "import numpy as np\n",
    "\n",
    "arr = np.array([1.1, 2.1, 3.1])\n",
    "newarr = arr.astype(int)\n",
    "print(newarr)\n",
    "print(newarr.dtype)"
   ]
  },
  {
   "cell_type": "markdown",
   "id": "85e8627e-7983-4377-85d6-424d271f216e",
   "metadata": {},
   "source": [
    "**Example**  \n",
    "Change data type from integer to boolean:"
   ]
  },
  {
   "cell_type": "code",
   "execution_count": 37,
   "id": "9152fc8a-49e3-42d0-b61f-c2c454043737",
   "metadata": {},
   "outputs": [
    {
     "name": "stdout",
     "output_type": "stream",
     "text": [
      "[ True False  True]\n",
      "bool\n"
     ]
    }
   ],
   "source": [
    "import numpy as np\n",
    "arr = np.array([1, 0, 3])\n",
    "newarr = arr.astype(bool)\n",
    "print(newarr)\n",
    "print(newarr.dtype)"
   ]
  },
  {
   "cell_type": "markdown",
   "id": "c35a8fd8-1fbf-4a9b-9453-0ccb708d85d3",
   "metadata": {},
   "source": [
    "# Array Copy vs View"
   ]
  },
  {
   "cell_type": "markdown",
   "id": "276de993-179e-4bc3-be46-ec02d51133d2",
   "metadata": {},
   "source": [
    "**The Difference Between Copy and View**  \n",
    "The main difference between a copy and a view of an array is that the copy is a new array, and the view is just a view of the original array.\n",
    "\n",
    "The copy owns the data and any changes made to the copy will not affect original array, and any changes made to the original array will not affect the copy.\n",
    "\n",
    "The view does not own the data and any changes made to the view will affect the original array, and any changes made to the original array will affect the view.\n",
    "\n",
    "**COPY:**  \n",
    "**Example**  \n",
    "Make a copy, change the original array, and display both arrays:"
   ]
  },
  {
   "cell_type": "code",
   "execution_count": 38,
   "id": "2caf6c71-35e9-4847-b877-0f13951b9dc9",
   "metadata": {},
   "outputs": [
    {
     "name": "stdout",
     "output_type": "stream",
     "text": [
      "[1 2 3 4 5]\n",
      "[42  2  3  4  5]\n"
     ]
    }
   ],
   "source": [
    "import numpy as np\n",
    "\n",
    "arr = np.array([1, 2, 3, 4, 5])\n",
    "x = arr.copy()\n",
    "x[0] = 42\n",
    "print(arr)\n",
    "print(x)"
   ]
  },
  {
   "cell_type": "markdown",
   "id": "fcec1421-f4a7-4494-8353-0c3c3c0cec0f",
   "metadata": {},
   "source": [
    ">The copy SHOULD NOT be affected by the changes made to the original array."
   ]
  },
  {
   "cell_type": "markdown",
   "id": "def84f54-8880-4b72-9557-21fd8cd9027d",
   "metadata": {},
   "source": [
    "**VIEW:**  \n",
    "**Example**  \n",
    "Make a view, change the original array, and display both arrays:"
   ]
  },
  {
   "cell_type": "code",
   "execution_count": 39,
   "id": "e2be74e7-02e9-439f-b632-e0fc1c8cfe91",
   "metadata": {},
   "outputs": [
    {
     "name": "stdout",
     "output_type": "stream",
     "text": [
      "[42  2  3  4  5]\n",
      "[42  2  3  4  5]\n"
     ]
    }
   ],
   "source": [
    "import numpy as np\n",
    "\n",
    "arr = np.array([1, 2, 3, 4, 5])\n",
    "x = arr.view()\n",
    "arr[0] = 42\n",
    "print(arr)\n",
    "print(x)"
   ]
  },
  {
   "cell_type": "markdown",
   "id": "32ebf84f-1871-4be0-bc73-0a13dca9e272",
   "metadata": {},
   "source": [
    ">The view SHOULD be affected by the changes made to the original array.\n",
    "\n",
    "**Make Changes in the VIEW:**  \n",
    "**Example**  \n",
    "Make a view, change the view, and display both arrays:"
   ]
  },
  {
   "cell_type": "code",
   "execution_count": 40,
   "id": "e686d343-c3ed-4be2-aeb3-e61c29146052",
   "metadata": {},
   "outputs": [
    {
     "name": "stdout",
     "output_type": "stream",
     "text": [
      "[31  2  3  4  5]\n",
      "[31  2  3  4  5]\n"
     ]
    }
   ],
   "source": [
    "import numpy as np\n",
    "\n",
    "arr = np.array([1, 2, 3, 4, 5])\n",
    "x = arr.view()\n",
    "x[0] = 31\n",
    "print(arr)\n",
    "print(x)"
   ]
  },
  {
   "cell_type": "markdown",
   "id": "6065a616-1f4e-45c2-99cf-d81bd7c00efc",
   "metadata": {},
   "source": [
    ">The original array SHOULD be affected by the changes made to the view."
   ]
  },
  {
   "cell_type": "markdown",
   "id": "30bd775a-91bf-483b-8aa8-4e6763cc64d6",
   "metadata": {},
   "source": [
    "**Check if Array Owns its Data**  \n",
    "As mentioned above, copies owns the data, and views does not own the data, but how can we check this?\n",
    "\n",
    "Every NumPy array has the attribute base that returns None if the array owns the data.\n",
    "\n",
    "Otherwise, the base  attribute refers to the original object.\n",
    "\n",
    "**Example**  \n",
    "Print the value of the base attribute to check if an array owns it's data or not:"
   ]
  },
  {
   "cell_type": "code",
   "execution_count": 41,
   "id": "7efa45e3-ad02-4809-97ed-0be5f1aedcd2",
   "metadata": {},
   "outputs": [
    {
     "name": "stdout",
     "output_type": "stream",
     "text": [
      "None\n",
      "[1 2 3 4 5]\n"
     ]
    }
   ],
   "source": [
    "import numpy as np\n",
    "\n",
    "arr = np.array([1, 2, 3, 4, 5])\n",
    "x = arr.copy()\n",
    "y = arr.view()\n",
    "print(x.base)\n",
    "print(y.base)"
   ]
  },
  {
   "cell_type": "markdown",
   "id": "3d13bce2-0187-4043-a28c-863c4e93d4a0",
   "metadata": {},
   "source": [
    ">The copy returns None.  \n",
    "The view returns the original array."
   ]
  },
  {
   "cell_type": "markdown",
   "id": "f8151b54-494b-4250-ad6e-54e0da32c868",
   "metadata": {},
   "source": [
    "# Array Shape"
   ]
  },
  {
   "cell_type": "markdown",
   "id": "17d5cb8b-e026-4d6a-9343-5138e3d1cb27",
   "metadata": {},
   "source": [
    "**Shape of an Array**  \n",
    "The shape of an array is the number of elements in each dimension.\n",
    "\n",
    "**Get the Shape of an Array**  \n",
    "NumPy arrays have an attribute called shape that returns a tuple with each index having the number of corresponding elements.\n",
    "\n",
    "**Example** \n",
    "Print the shape of a 2-D array:"
   ]
  },
  {
   "cell_type": "code",
   "execution_count": 42,
   "id": "141015c6-92c4-414a-a8f5-8bedb9adfcde",
   "metadata": {},
   "outputs": [
    {
     "name": "stdout",
     "output_type": "stream",
     "text": [
      "(2, 4)\n"
     ]
    }
   ],
   "source": [
    "import numpy as np\n",
    "\n",
    "arr = np.array([[1, 2, 3, 4], [5, 6, 7, 8]])\n",
    "print(arr.shape)"
   ]
  },
  {
   "cell_type": "markdown",
   "id": "03f22b90-c699-4978-950b-a24f1eafec96",
   "metadata": {},
   "source": [
    "The example above returns (2, 4), which means that the array has 2 dimensions, where the first dimension has 2 elements and the second has 4.\n",
    "\n",
    "**Example**  \n",
    "Create an array with 5 dimensions using ndmin using a vector with values 1,2,3,4 and verify that last dimension has value 4:"
   ]
  },
  {
   "cell_type": "code",
   "execution_count": 43,
   "id": "463e7065-2241-47cc-9344-27ab12e06174",
   "metadata": {},
   "outputs": [
    {
     "name": "stdout",
     "output_type": "stream",
     "text": [
      "[[[[[1 2 3 4]]]]]\n",
      "shape of array : (1, 1, 1, 1, 4)\n"
     ]
    }
   ],
   "source": [
    "import numpy as np\n",
    "\n",
    "arr = np.array([1, 2, 3, 4], ndmin=5)\n",
    "print(arr)\n",
    "print('shape of array :', arr.shape)"
   ]
  },
  {
   "cell_type": "markdown",
   "id": "dde013ba-57fc-47bc-b5ae-0c6ce1a36758",
   "metadata": {},
   "source": [
    "**What does the shape tuple represent?**  \n",
    "Integers at every index tells about the number of elements the corresponding dimension has.\n",
    "\n",
    "In the example above at index-4 we have value 4, so we can say that 5th ( 4 + 1 th) dimension has 4 elements."
   ]
  },
  {
   "cell_type": "markdown",
   "id": "9d49a85c-7224-4d53-86af-ea69662bf4c4",
   "metadata": {},
   "source": [
    "# Array Reshaping"
   ]
  },
  {
   "cell_type": "markdown",
   "id": "d20e78bb-e710-4b92-ad37-03fb5947c0bc",
   "metadata": {},
   "source": [
    "**Reshaping arrays**\n",
    "Reshaping means changing the shape of an array.\n",
    "\n",
    "The shape of an array is the number of elements in each dimension.\n",
    "\n",
    "By reshaping we can add or remove dimensions or change number of elements in each dimension.\n",
    "\n",
    "**Reshape From 1-D to 2-D**  \n",
    "**Example**  \n",
    "Convert the following 1-D array with 12 elements into a 2-D array.\n",
    "\n",
    "The outermost dimension will have 4 arrays, each with 3 elements:"
   ]
  },
  {
   "cell_type": "code",
   "execution_count": 44,
   "id": "7e91fa22-42fb-460e-b338-ef98777bd027",
   "metadata": {},
   "outputs": [
    {
     "name": "stdout",
     "output_type": "stream",
     "text": [
      "[[ 1  2  3  4]\n",
      " [ 5  6  7  8]\n",
      " [ 9 10 11 12]]\n"
     ]
    }
   ],
   "source": [
    "import numpy as np\n",
    "\n",
    "arr = np.array([1, 2, 3, 4, 5, 6, 7, 8, 9, 10, 11, 12])\n",
    "newarr = arr.reshape(3, 4)\n",
    "print(newarr)"
   ]
  },
  {
   "cell_type": "markdown",
   "id": "0ec8ec45-ddf7-41a8-bdff-3def2f7ec14e",
   "metadata": {},
   "source": [
    "**Reshape From 1-D to 3-D**  \n",
    "**Example**  \n",
    "Convert the following 1-D array with 12 elements into a 3-D array.\n",
    "\n",
    "The outermost dimension will have 2 arrays that contains 3 arrays, each with 2 elements:"
   ]
  },
  {
   "cell_type": "code",
   "execution_count": 45,
   "id": "ff8671d0-2b25-46ed-92d3-4fc17b19980a",
   "metadata": {},
   "outputs": [
    {
     "name": "stdout",
     "output_type": "stream",
     "text": [
      "[[[ 1  2  3  4]\n",
      "  [ 5  6  7  8]\n",
      "  [ 9 10 11 12]]\n",
      "\n",
      " [[13 14 15 16]\n",
      "  [17 18 19 20]\n",
      "  [21 22 23 24]]]\n"
     ]
    }
   ],
   "source": [
    "import numpy as np\n",
    "\n",
    "arr = np.array([1, 2, 3, 4, 5, 6, 7, 8, 9, 10, 11, 12, 13, 14, 15, 16, 17, 18, 19, 20, 21, 22, 23, 24])\n",
    "newarr = arr.reshape(2, 3, 4)\n",
    "print(newarr)"
   ]
  },
  {
   "cell_type": "markdown",
   "id": "2e417650-bacf-4d12-90a3-ac590341a6fa",
   "metadata": {},
   "source": [
    "# Array Iterating"
   ]
  },
  {
   "cell_type": "markdown",
   "id": "ec9a06bf-e1ec-436a-82f5-e377ad9f1982",
   "metadata": {},
   "source": [
    "**Iterating Arrays**  \n",
    "Iterating means going through elements one by one.\n",
    "\n",
    "As we deal with multi-dimensional arrays in numpy, we can do this using basic for loop of python.\n",
    "\n",
    "If we iterate on a 1-D array it will go through each element one by one.\n",
    "\n",
    "**Example**  \n",
    "Iterate on the elements of the following 1-D array:"
   ]
  },
  {
   "cell_type": "code",
   "execution_count": 46,
   "id": "04ddf1d8-5bb8-4dbe-9967-f4ed655a179b",
   "metadata": {
    "scrolled": true
   },
   "outputs": [
    {
     "name": "stdout",
     "output_type": "stream",
     "text": [
      "1\n",
      "2\n",
      "3\n"
     ]
    }
   ],
   "source": [
    "import numpy as np\n",
    "\n",
    "arr = np.array([1, 2, 3])\n",
    "for x in arr:\n",
    "  print(x)"
   ]
  },
  {
   "cell_type": "markdown",
   "id": "8fc063eb-6052-4a2e-93a3-575f7dc67a5b",
   "metadata": {},
   "source": [
    "Print output in same line"
   ]
  },
  {
   "cell_type": "code",
   "execution_count": 47,
   "id": "64c9061f-dab7-4413-8dfc-fd3e9a76bbc3",
   "metadata": {},
   "outputs": [
    {
     "name": "stdout",
     "output_type": "stream",
     "text": [
      "1 2 3 "
     ]
    }
   ],
   "source": [
    "import numpy as np\n",
    "\n",
    "arr = np.array([1, 2, 3])\n",
    "for x in arr:\n",
    "  print(x, end=\" \")"
   ]
  },
  {
   "cell_type": "markdown",
   "id": "beed926a-4b8d-4c9c-a3c5-596088ed487d",
   "metadata": {},
   "source": [
    "**Iterating 2-D Arrays**  \n",
    "In a 2-D array it will go through all the rows.\n",
    "\n",
    "**Example**  \n",
    "Iterate on the elements of the following 2-D array:"
   ]
  },
  {
   "cell_type": "code",
   "execution_count": 48,
   "id": "d93483e1-e3c8-468a-8f36-48066200608f",
   "metadata": {},
   "outputs": [
    {
     "name": "stdout",
     "output_type": "stream",
     "text": [
      "[1 2 3]\n",
      "[4 5 6]\n"
     ]
    }
   ],
   "source": [
    "import numpy as np\n",
    "\n",
    "arr = np.array([[1, 2, 3], [4, 5, 6]])\n",
    "\n",
    "for x in arr:\n",
    "  print(x)"
   ]
  },
  {
   "cell_type": "markdown",
   "id": "81c3d497-d156-4472-af19-3ec2d4360ab2",
   "metadata": {},
   "source": [
    "If we iterate on a n-D array it will go through n-1th dimension one by one.\n",
    "\n",
    "To return the actual values, the scalars, we have to iterate the arrays in each dimension.\n",
    "\n",
    "**Example**  \n",
    "Iterate on each scalar element of the 2-D array:"
   ]
  },
  {
   "cell_type": "code",
   "execution_count": 49,
   "id": "5449c474-4272-4cfc-bc04-a68be91bb202",
   "metadata": {},
   "outputs": [
    {
     "name": "stdout",
     "output_type": "stream",
     "text": [
      "1\n",
      "2\n",
      "3\n",
      "4\n",
      "5\n",
      "6\n"
     ]
    }
   ],
   "source": [
    "import numpy as np\n",
    "\n",
    "arr = np.array([[1, 2, 3], [4, 5, 6]])\n",
    "\n",
    "for x in arr:\n",
    "  for y in x:\n",
    "    print(y)"
   ]
  },
  {
   "cell_type": "markdown",
   "id": "df76623a-dab1-44b0-9369-216c8c078409",
   "metadata": {},
   "source": [
    "**Iterating 3-D Arrays**  \n",
    "In a 3-D array it will go through all the 2-D arrays.\n",
    "\n",
    "**Example**  \n",
    "Iterate on the elements of the following 3-D array:"
   ]
  },
  {
   "cell_type": "code",
   "execution_count": 50,
   "id": "7b84dec8-cb02-4d21-aaea-088afdd40d65",
   "metadata": {},
   "outputs": [
    {
     "name": "stdout",
     "output_type": "stream",
     "text": [
      "[[1 2 3]\n",
      " [4 5 6]]\n",
      "[[ 7  8  9]\n",
      " [10 11 12]]\n"
     ]
    }
   ],
   "source": [
    "import numpy as np\n",
    "\n",
    "arr = np.array([[[1, 2, 3], [4, 5, 6]], [[7, 8, 9], [10, 11, 12]]])\n",
    "\n",
    "for x in arr:\n",
    "  print(x)"
   ]
  },
  {
   "cell_type": "markdown",
   "id": "ca46301d-b3c4-472a-9b8e-68560a368a4e",
   "metadata": {},
   "source": [
    "To return the actual values, the scalars, we have to iterate the arrays in each dimension.\n",
    "\n",
    "**Example**  \n",
    "Iterate down to the scalars:"
   ]
  },
  {
   "cell_type": "code",
   "execution_count": 51,
   "id": "296537cc-cbf8-4803-95c8-5b565a7a638f",
   "metadata": {},
   "outputs": [
    {
     "name": "stdout",
     "output_type": "stream",
     "text": [
      "1\n",
      "2\n",
      "3\n",
      "4\n",
      "5\n",
      "6\n",
      "7\n",
      "8\n",
      "9\n",
      "10\n",
      "11\n",
      "12\n"
     ]
    }
   ],
   "source": [
    "import numpy as np\n",
    "\n",
    "arr = np.array([[[1, 2, 3], [4, 5, 6]], [[7, 8, 9], [10, 11, 12]]])\n",
    "\n",
    "for x in arr:\n",
    "  for y in x:\n",
    "    for z in y:\n",
    "      print(z)"
   ]
  },
  {
   "cell_type": "markdown",
   "id": "096881bd-3093-4b8e-bd0a-fbba5ff77f16",
   "metadata": {},
   "source": [
    "**Iterating Arrays Using nditer()**  \n",
    "The function nditer() is a helping function that can be used from very basic to very advanced iterations. It solves some basic issues which we face in iteration, lets go through it with examples.\n",
    "\n",
    "**Iterating on Each Scalar Element**  \n",
    "In basic for loops, iterating through each scalar of an array we need to use n for loops which can be difficult to write for arrays with very high dimensionality.\n",
    "\n",
    "**Example**  \n",
    "Iterate through the following 3-D array:"
   ]
  },
  {
   "cell_type": "code",
   "execution_count": 52,
   "id": "bb2936eb-41bb-4a21-8f4c-b911e7e2d1c7",
   "metadata": {},
   "outputs": [
    {
     "name": "stdout",
     "output_type": "stream",
     "text": [
      "1\n",
      "2\n",
      "3\n",
      "4\n",
      "5\n",
      "6\n",
      "7\n",
      "8\n"
     ]
    }
   ],
   "source": [
    "import numpy as np\n",
    "\n",
    "arr = np.array([[[1, 2], [3, 4]], [[5, 6], [7, 8]]])\n",
    "\n",
    "for x in np.nditer(arr):\n",
    "  print(x)"
   ]
  },
  {
   "cell_type": "markdown",
   "id": "17848fa6-edff-4161-afaa-6de55ad4f55b",
   "metadata": {},
   "source": [
    "**Iterating Array With Different Data Types**  \n",
    "We can use op_dtypes argument and pass it the expected datatype to change the datatype of elements while iterating.\n",
    "\n",
    "NumPy does not change the data type of the element in-place (where the element is in array) so it needs some other space to perform this action, that extra space is called buffer, and in order to enable it in nditer() we pass flags=['buffered'].\n",
    "\n",
    "**Example**  \n",
    "Iterate through the array as a string:"
   ]
  },
  {
   "cell_type": "code",
   "execution_count": 53,
   "id": "dabbfede-175e-4a36-ac29-b556f65fa559",
   "metadata": {},
   "outputs": [
    {
     "name": "stdout",
     "output_type": "stream",
     "text": [
      "b'1'\n",
      "b'2'\n",
      "b'3'\n"
     ]
    }
   ],
   "source": [
    "import numpy as np\n",
    "\n",
    "arr = np.array([1, 2, 3])\n",
    "\n",
    "for x in np.nditer(arr, flags=['buffered'], op_dtypes=['S']):\n",
    "  print(x)"
   ]
  },
  {
   "cell_type": "markdown",
   "id": "a7131485-e56a-4054-9177-438037ea888e",
   "metadata": {},
   "source": [
    "**Iterating With Different Step Size**  \n",
    "We can use filtering and followed by iteration.\n",
    "\n",
    "**Example**  \n",
    "Iterate through every scalar element of the 2D array skipping 1 element:"
   ]
  },
  {
   "cell_type": "code",
   "execution_count": 54,
   "id": "5b05fcd2-867a-4d46-92fe-ef6bdf5548b4",
   "metadata": {},
   "outputs": [
    {
     "name": "stdout",
     "output_type": "stream",
     "text": [
      "1\n",
      "3\n",
      "5\n",
      "7\n"
     ]
    }
   ],
   "source": [
    "import numpy as np\n",
    "\n",
    "arr = np.array([[1, 2, 3, 4], [5, 6, 7, 8]])\n",
    "\n",
    "for x in np.nditer(arr[:, ::2]):\n",
    "  print(x)"
   ]
  },
  {
   "cell_type": "markdown",
   "id": "3b6c1ebc-9389-47ca-8eb9-68b3c153b088",
   "metadata": {},
   "source": [
    "**Enumerated Iteration Using ndenumerate()**  \n",
    "Enumeration means mentioning sequence number of somethings one by one.\n",
    "\n",
    "Sometimes we require corresponding index of the element while iterating, the ndenumerate() method can be used for those usecases.\n",
    "\n",
    "**Example**  \n",
    "Enumerate on following 1D arrays elements:"
   ]
  },
  {
   "cell_type": "code",
   "execution_count": 55,
   "id": "143313c6-b5b1-4500-b041-896e1c2a46e7",
   "metadata": {},
   "outputs": [
    {
     "name": "stdout",
     "output_type": "stream",
     "text": [
      "(0,) 5\n",
      "(1,) 6\n",
      "(2,) 7\n"
     ]
    }
   ],
   "source": [
    "import numpy as np\n",
    "\n",
    "arr = np.array([5, 6, 7])\n",
    "\n",
    "for idx, x in np.ndenumerate(arr):\n",
    "  print(idx, x)"
   ]
  },
  {
   "cell_type": "markdown",
   "id": "0a75e989-b3ab-48ea-a0d6-de0400eead16",
   "metadata": {},
   "source": [
    "**Example**  \n",
    "Enumerate on following 2D array's elements:"
   ]
  },
  {
   "cell_type": "code",
   "execution_count": 56,
   "id": "6d491afa-0181-418d-bf08-4b970d072942",
   "metadata": {},
   "outputs": [
    {
     "name": "stdout",
     "output_type": "stream",
     "text": [
      "(0, 0) 1\n",
      "(0, 1) 2\n",
      "(0, 2) 3\n",
      "(0, 3) 4\n",
      "(1, 0) 5\n",
      "(1, 1) 6\n",
      "(1, 2) 7\n",
      "(1, 3) 8\n"
     ]
    }
   ],
   "source": [
    "import numpy as np\n",
    "\n",
    "arr = np.array([[1, 2, 3, 4], [5, 6, 7, 8]])\n",
    "\n",
    "for idx, x in np.ndenumerate(arr):\n",
    "  print(idx, x)"
   ]
  },
  {
   "cell_type": "markdown",
   "id": "c9bffb5c-ef93-48f1-9995-8b8889d52324",
   "metadata": {},
   "source": [
    "# Joining Array"
   ]
  },
  {
   "cell_type": "markdown",
   "id": "102eebcf-c668-4766-aacf-87c50e9674ed",
   "metadata": {},
   "source": [
    "**Joining NumPy Arrays**  \n",
    "Joining means putting contents of two or more arrays in a single array.\n",
    "\n",
    "In SQL we join tables based on a key, whereas in NumPy we join arrays by axes.\n",
    "\n",
    "We pass a sequence of arrays that we want to join to the concatenate() function, along with the axis. If axis is not explicitly passed, it is taken as 0.\n",
    "\n",
    "**Example**  \n",
    "Join two arrays"
   ]
  },
  {
   "cell_type": "code",
   "execution_count": 57,
   "id": "7a370bb3-4340-44df-aad5-62b9dd638569",
   "metadata": {},
   "outputs": [
    {
     "name": "stdout",
     "output_type": "stream",
     "text": [
      "[1 2 3 4 5 6]\n"
     ]
    }
   ],
   "source": [
    "import numpy as np\n",
    "arr1 = np.array([1, 2, 3])\n",
    "arr2 = np.array([4, 5, 6])\n",
    "arr = np.concatenate((arr1, arr2))\n",
    "print(arr)"
   ]
  },
  {
   "cell_type": "markdown",
   "id": "e7a7f2c0-61bb-4fca-88e9-12304b6581c9",
   "metadata": {},
   "source": [
    "**Example**  \n",
    "Join two 2-D arrays along rows (axis=1):"
   ]
  },
  {
   "cell_type": "code",
   "execution_count": 58,
   "id": "025c1624-845c-4642-bc99-3b613215ba3d",
   "metadata": {},
   "outputs": [
    {
     "name": "stdout",
     "output_type": "stream",
     "text": [
      "[[1 2]\n",
      " [3 4]\n",
      " [5 6]\n",
      " [7 8]]\n",
      "[[1 2 5 6]\n",
      " [3 4 7 8]]\n"
     ]
    }
   ],
   "source": [
    "import numpy as np\n",
    "\n",
    "arr1 = np.array([[1, 2], [3, 4]])\n",
    "arr2 = np.array([[5, 6], [7, 8]])\n",
    "arr3 = np.concatenate((arr1, arr2), axis=0)\n",
    "print(arr3)\n",
    "\n",
    "arr4 = np.concatenate((arr1, arr2), axis=1)\n",
    "print(arr4)"
   ]
  },
  {
   "cell_type": "markdown",
   "id": "1458d4bd-c268-4a4a-b9e1-67bd4acdc7c1",
   "metadata": {},
   "source": [
    "**Joining Arrays Using Stack Functions**  \n",
    "Stacking is same as concatenation, the only difference is that stacking is done along a new axis.\n",
    "\n",
    "We can concatenate two 1-D arrays along the second axis which would result in putting them one over the other, ie. stacking.\n",
    "\n",
    "We pass a sequence of arrays that we want to join to the stack() method along with the axis. If axis is not explicitly passed it is taken as 0.\n",
    "\n",
    "**Example**  "
   ]
  },
  {
   "cell_type": "code",
   "execution_count": 59,
   "id": "7b7fecae-1bcc-4f12-97cb-611baede9f9d",
   "metadata": {},
   "outputs": [
    {
     "name": "stdout",
     "output_type": "stream",
     "text": [
      "[[1 4]\n",
      " [2 5]\n",
      " [3 6]]\n"
     ]
    }
   ],
   "source": [
    "import numpy as np\n",
    "\n",
    "arr1 = np.array([1, 2, 3])\n",
    "arr2 = np.array([4, 5, 6])\n",
    "arr3 = np.stack((arr1, arr2), axis=1)\n",
    "print(arr3)"
   ]
  },
  {
   "cell_type": "markdown",
   "id": "91f0a030-0793-40ad-8d37-1c5177d924c1",
   "metadata": {},
   "source": [
    "**Stacking Along Rows**\n",
    "NumPy provides a helper function: hstack() to stack along rows.\n",
    "\n",
    "**Example**"
   ]
  },
  {
   "cell_type": "code",
   "execution_count": 60,
   "id": "4bd3eedc-e852-44c9-8091-584e5c54cd70",
   "metadata": {},
   "outputs": [
    {
     "name": "stdout",
     "output_type": "stream",
     "text": [
      "[1 2 3 4 5 6]\n"
     ]
    }
   ],
   "source": [
    "import numpy as np\n",
    "\n",
    "arr1 = np.array([1, 2, 3])\n",
    "arr2 = np.array([4, 5, 6])\n",
    "arr = np.hstack((arr1, arr2))\n",
    "print(arr)"
   ]
  },
  {
   "cell_type": "markdown",
   "id": "a506f9b5-d67f-4799-ba2a-9f2143833798",
   "metadata": {},
   "source": [
    "**Stacking Along Columns**  \n",
    "NumPy provides a helper function: vstack()  to stack along columns.\n",
    "\n",
    "**Example**  "
   ]
  },
  {
   "cell_type": "code",
   "execution_count": 61,
   "id": "14c9065f-35e8-4657-9257-1270deb29756",
   "metadata": {},
   "outputs": [
    {
     "name": "stdout",
     "output_type": "stream",
     "text": [
      "[[1 2 3]\n",
      " [4 5 6]]\n"
     ]
    }
   ],
   "source": [
    "import numpy as np\n",
    "\n",
    "arr1 = np.array([1, 2, 3])\n",
    "arr2 = np.array([4, 5, 6])\n",
    "arr = np.vstack((arr1, arr2))\n",
    "print(arr)"
   ]
  },
  {
   "cell_type": "markdown",
   "id": "08b146f6-2669-4289-b0e5-4e6f8618d544",
   "metadata": {},
   "source": [
    "**Stacking Along Height (depth)**  \n",
    "NumPy provides a helper function: dstack() to stack along height, which is the same as depth.\n",
    "\n",
    "**Example**  "
   ]
  },
  {
   "cell_type": "code",
   "execution_count": 62,
   "id": "233fed95-f32d-439f-a404-130f5c9009cb",
   "metadata": {},
   "outputs": [
    {
     "name": "stdout",
     "output_type": "stream",
     "text": [
      "[[[1 4]\n",
      "  [2 5]\n",
      "  [3 6]]]\n",
      "3\n"
     ]
    }
   ],
   "source": [
    "import numpy as np\n",
    "\n",
    "arr1 = np.array([1, 2, 3])\n",
    "arr2 = np.array([4, 5, 6])\n",
    "arr = np.dstack((arr1, arr2))\n",
    "print(arr)\n",
    "print(arr.ndim)"
   ]
  },
  {
   "cell_type": "markdown",
   "id": "35618844-addb-4581-88ae-9d3c05dd5c44",
   "metadata": {
    "jp-MarkdownHeadingCollapsed": true
   },
   "source": [
    "## Definations of Joining Array Methods"
   ]
  },
  {
   "cell_type": "markdown",
   "id": "6b2155ba-8974-4992-9113-5e38b873409f",
   "metadata": {},
   "source": [
    "**numpy.concatenate**  \n",
    "numpy.concatenate((a1, a2, ...), axis=0, out=None, dtype=None, casting=\"same_kind\")  \n",
    "Join a sequence of arrays along an existing axis.\n",
    "\n",
    "**Parameters:**  \n",
    "a1, a2, …sequence of array_like  \n",
    "The arrays must have the same shape, except in the dimension corresponding to axis (the first, by default).\n",
    "\n",
    "axisint, optional  \n",
    "The axis along which the arrays will be joined. If axis is None, arrays are flattened before use. Default is 0.\n",
    "\n",
    "outndarray, optional  \n",
    "If provided, the destination to place the result. The shape must be correct, matching that of what concatenate would have returned if no out argument were specified.\n",
    "\n",
    "dtypestr or dtype  \n",
    "If provided, the destination array will have this dtype. Cannot be provided together with out.\n",
    "\n",
    "casting{‘no’, ‘equiv’, ‘safe’, ‘same_kind’, ‘unsafe’}, optional  \n",
    "Controls what kind of data casting may occur. Defaults to ‘same_kind’. For a description of the options, please see casting.\n",
    "\n",
    "Returns:  \n",
    "res : ndarray  \n",
    "The concatenated array."
   ]
  },
  {
   "cell_type": "markdown",
   "id": "340fca57-02dd-4820-a50a-37497518ff87",
   "metadata": {},
   "source": [
    "**numpy.stack**  \n",
    "numpy.stack(arrays, axis=0, out=None, *, dtype=None, casting='same_kind')  \n",
    "Join a sequence of arrays along a new axis.\n",
    "\n",
    "The axis parameter specifies the index of the new axis in the dimensions of the result. For example, if axis=0 it will be the first dimension and if axis=-1 it will be the last dimension.\n",
    "\n",
    "Parameters:  \n",
    "arrayssequence of array_like  \n",
    "Each array must have the same shape.  \n",
    "\n",
    "axisint, optional  \n",
    "The axis in the result array along which the input arrays are stacked.\n",
    "\n",
    "outndarray, optional  \n",
    "If provided, the destination to place the result. The shape must be correct, matching that of what stack would have returned if no out argument were specified.\n",
    "\n",
    "dtypestr or dtype  \n",
    "If provided, the destination array will have this dtype. Cannot be provided together with out.\n",
    "\n",
    "casting{‘no’, ‘equiv’, ‘safe’, ‘same_kind’, ‘unsafe’}, optional  \n",
    "Controls what kind of data casting may occur. Defaults to ‘same_kind’.\n",
    "\n",
    "Returns:  \n",
    "stacked : ndarray  \n",
    "The stacked array has one more dimension than the input arrays."
   ]
  },
  {
   "cell_type": "markdown",
   "id": "330d95b6-f285-4b35-8007-057efe30fbd1",
   "metadata": {},
   "source": [
    "**numpy.vstack**  \n",
    "numpy.vstack(tup, *, dtype=None, casting='same_kind')  \n",
    "Stack arrays in sequence vertically (row wise).\n",
    "\n",
    "This is equivalent to concatenation along the first axis after 1-D arrays of shape (N,) have been reshaped to (1,N). Rebuilds arrays divided by vsplit.\n",
    "\n",
    "This function makes most sense for arrays with up to 3 dimensions. For instance, for pixel-data with a height (first axis), width (second axis), and r/g/b channels (third axis). The functions concatenate, stack and block provide more general stacking and concatenation operations.\n",
    "\n",
    "Parameters:  \n",
    "tupsequence of ndarrays  \n",
    "The arrays must have the same shape along all but the first axis. 1-D arrays must have the same length.\n",
    "\n",
    "dtypestr or dtype  \n",
    "If provided, the destination array will have this dtype. Cannot be provided together with out.\n",
    "\n",
    "casting{‘no’, ‘equiv’, ‘safe’, ‘same_kind’, ‘unsafe’}, optional  \n",
    "Controls what kind of data casting may occur. Defaults to ‘same_kind’.\n",
    "\n",
    "Returns:  \n",
    "stacked : ndarray  \n",
    "The array formed by stacking the given arrays, will be at least 2-D."
   ]
  },
  {
   "cell_type": "markdown",
   "id": "c14721ff-3072-4495-b57c-b924f2ef347f",
   "metadata": {},
   "source": [
    "**numpy.hstack**  \n",
    "numpy.hstack(tup, *, dtype=None, casting='same_kind')  \n",
    "Stack arrays in sequence horizontally (column wise).\n",
    "\n",
    "This is equivalent to concatenation along the second axis, except for 1-D arrays where it concatenates along the first axis. Rebuilds arrays divided by hsplit.\n",
    "\n",
    "This function makes most sense for arrays with up to 3 dimensions. For instance, for pixel-data with a height (first axis), width (second axis), and r/g/b channels (third axis). The functions concatenate, stack and block provide more general stacking and concatenation operations.\n",
    "\n",
    "Parameters:  \n",
    "tupsequence of ndarrays  \n",
    "The arrays must have the same shape along all but the second axis, except 1-D arrays which can be any length.\n",
    "\n",
    "dtypestr or dtype  \n",
    "If provided, the destination array will have this dtype. Cannot be provided together with out.\n",
    "\n",
    "casting{‘no’, ‘equiv’, ‘safe’, ‘same_kind’, ‘unsafe’}, optional  \n",
    "Controls what kind of data casting may occur. Defaults to ‘same_kind’.\n",
    "\n",
    "Returns:  \n",
    "stacked : ndarray  \n",
    "The array formed by stacking the given arrays."
   ]
  },
  {
   "cell_type": "markdown",
   "id": "794e51bc-157d-49fb-8dad-74c3149e5e23",
   "metadata": {},
   "source": [
    "**numpy.dstack**  \n",
    "numpy.dstack(tup)  \n",
    "Stack arrays in sequence depth wise (along third axis).\n",
    "\n",
    "This is equivalent to concatenation along the third axis after 2-D arrays of shape (M,N) have been reshaped to (M,N,1) and 1-D arrays of shape (N,) have been reshaped to (1,N,1). Rebuilds arrays divided by dsplit.\n",
    "\n",
    "This function makes most sense for arrays with up to 3 dimensions. For instance, for pixel-data with a height (first axis), width (second axis), and r/g/b channels (third axis). The functions concatenate, stack and block provide more general stacking and concatenation operations.\n",
    "\n",
    "Parameters:  \n",
    "tup : sequence of arrays  \n",
    "The arrays must have the same shape along all but the third axis. 1-D or 2-D arrays must have the same shape.\n",
    "\n",
    "Returns:  \n",
    "stacked : ndarray  \n",
    "The array formed by stacking the given arrays, will be at least 3-D."
   ]
  },
  {
   "cell_type": "markdown",
   "id": "636713c0-87c0-4275-b4d8-bd6b1ee290af",
   "metadata": {},
   "source": [
    "# Splitting Array"
   ]
  },
  {
   "cell_type": "markdown",
   "id": "d73b7060-eabf-49ff-b450-ea7f625d597b",
   "metadata": {},
   "source": [
    "**Splitting NumPy Arrays**  \n",
    "Splitting is reverse operation of Joining.\n",
    "\n",
    "Joining merges multiple arrays into one and Splitting breaks one array into multiple.\n",
    "\n",
    "We use array_split() for splitting arrays, we pass it the array we want to split and the number of splits.\n",
    "\n",
    "**Example**  \n",
    "Split the array in 3 parts:"
   ]
  },
  {
   "cell_type": "code",
   "execution_count": 63,
   "id": "dd948d90-7476-4570-b0a9-be673d290bba",
   "metadata": {},
   "outputs": [
    {
     "name": "stdout",
     "output_type": "stream",
     "text": [
      "[array([1, 2]), array([3, 4]), array([5, 6])]\n"
     ]
    }
   ],
   "source": [
    "import numpy as np\n",
    "\n",
    "arr = np.array([1, 2, 3, 4, 5, 6])\n",
    "newarr = np.array_split(arr, 3)\n",
    "print(newarr)"
   ]
  },
  {
   "cell_type": "markdown",
   "id": "4e100d29-a9e3-4d1f-a0a1-520bd985072e",
   "metadata": {},
   "source": [
    ">Note: The return value is a list containing three arrays.\n",
    "\n",
    "If the array has less elements than required, it will adjust from the end accordingly.\n",
    "\n",
    "**Example**\n",
    "Split the array in 4 parts:"
   ]
  },
  {
   "cell_type": "code",
   "execution_count": 64,
   "id": "79b794f9-038c-4544-9af1-c87f2177e8c3",
   "metadata": {},
   "outputs": [
    {
     "name": "stdout",
     "output_type": "stream",
     "text": [
      "[array([1, 2]), array([3, 4]), array([5]), array([6])]\n"
     ]
    }
   ],
   "source": [
    "import numpy as np\n",
    "\n",
    "arr = np.array([1, 2, 3, 4, 5, 6])\n",
    "newarr = np.array_split(arr, 4)\n",
    "print(newarr)"
   ]
  },
  {
   "cell_type": "markdown",
   "id": "c612f193-e571-4154-a7bd-a45bbb9f64b9",
   "metadata": {},
   "source": [
    ">Note: We also have the method split() available but it will not adjust the elements when elements are less in source array for splitting like in example above, array_split() worked properly but split() would fail."
   ]
  },
  {
   "cell_type": "markdown",
   "id": "6613bf22-fcca-47b0-927c-8639b42d3b48",
   "metadata": {},
   "source": [
    "**Split Into Arrays**  \n",
    "The return value of the array_split() method is an array containing each of the split as an array.\n",
    "\n",
    "If you split an array into 3 arrays, you can access them from the result just like any array element:\n",
    "\n",
    "**Example**  \n",
    "Access the splitted arrays:"
   ]
  },
  {
   "cell_type": "code",
   "execution_count": 65,
   "id": "bd5f02f2-da67-4fb1-ac4e-ded84bfff852",
   "metadata": {},
   "outputs": [
    {
     "name": "stdout",
     "output_type": "stream",
     "text": [
      "[1 2]\n",
      "[3 4]\n",
      "[5 6]\n"
     ]
    }
   ],
   "source": [
    "import numpy as np\n",
    "\n",
    "arr = np.array([1, 2, 3, 4, 5, 6])\n",
    "newarr = np.array_split(arr, 3)\n",
    "print(newarr[0])\n",
    "print(newarr[1])\n",
    "print(newarr[2])"
   ]
  },
  {
   "cell_type": "markdown",
   "id": "536f3fa6-ec77-429a-bf0f-cdf775737025",
   "metadata": {},
   "source": [
    "**Splitting 2-D Arrays**  \n",
    "Use the same syntax when splitting 2-D arrays.\n",
    "\n",
    "Use the array_split() method, pass in the array you want to split and the number of splits you want to do.\n",
    "\n",
    "**Example**  \n",
    "Split the 2-D array into three 2-D arrays."
   ]
  },
  {
   "cell_type": "code",
   "execution_count": 66,
   "id": "a2f0de5f-5b96-4afb-b77c-8285c66b6687",
   "metadata": {},
   "outputs": [
    {
     "name": "stdout",
     "output_type": "stream",
     "text": [
      "[array([[1, 2],\n",
      "       [3, 4]]), array([[5, 6],\n",
      "       [7, 8]]), array([[ 9, 10],\n",
      "       [11, 12]])]\n"
     ]
    }
   ],
   "source": [
    "import numpy as np\n",
    "\n",
    "arr = np.array([[1, 2], [3, 4], [5, 6], [7, 8], [9, 10], [11, 12]])\n",
    "newarr = np.array_split(arr, 3)\n",
    "print(newarr)"
   ]
  },
  {
   "cell_type": "markdown",
   "id": "d8714b97-467e-41de-a224-de019b69eae8",
   "metadata": {},
   "source": [
    "The example above returns three 2-D arrays.\n",
    "\n",
    "Let's look at another example, this time each element in the 2-D arrays contains 3 elements.\n",
    "\n",
    "**Example**  \n",
    "Split the 2-D array into three 2-D arrays."
   ]
  },
  {
   "cell_type": "code",
   "execution_count": 67,
   "id": "e58a51d0-d907-45fd-a615-308f16f7cbd0",
   "metadata": {},
   "outputs": [
    {
     "name": "stdout",
     "output_type": "stream",
     "text": [
      "[array([[1, 2, 3],\n",
      "       [4, 5, 6]]), array([[ 7,  8,  9],\n",
      "       [10, 11, 12]]), array([[13, 14, 15],\n",
      "       [16, 17, 18]])]\n"
     ]
    }
   ],
   "source": [
    "import numpy as np\n",
    "\n",
    "arr = np.array([[1, 2, 3], [4, 5, 6], [7, 8, 9], [10, 11, 12], [13, 14, 15], [16, 17, 18]])\n",
    "\n",
    "newarr = np.array_split(arr, 3)\n",
    "\n",
    "print(newarr)"
   ]
  },
  {
   "cell_type": "markdown",
   "id": "fe1531dd-f747-4a13-9069-dc144856f6ed",
   "metadata": {},
   "source": [
    "The example above returns three 2-D arrays.\n",
    "\n",
    "In addition, you can specify which axis you want to do the split around.\n",
    "\n",
    "The example below also returns three 2-D arrays, but they are split along the row (axis=1).\n",
    "\n",
    "**Example**  \n",
    "Split the 2-D array into three 2-D arrays along rows."
   ]
  },
  {
   "cell_type": "code",
   "execution_count": 68,
   "id": "6591c67a-243c-4e1a-93f7-deec7f4ebf7d",
   "metadata": {},
   "outputs": [
    {
     "name": "stdout",
     "output_type": "stream",
     "text": [
      "[array([[ 1],\n",
      "       [ 4],\n",
      "       [ 7],\n",
      "       [10],\n",
      "       [13],\n",
      "       [16]]), array([[ 2],\n",
      "       [ 5],\n",
      "       [ 8],\n",
      "       [11],\n",
      "       [14],\n",
      "       [17]]), array([[ 3],\n",
      "       [ 6],\n",
      "       [ 9],\n",
      "       [12],\n",
      "       [15],\n",
      "       [18]])]\n"
     ]
    }
   ],
   "source": [
    "import numpy as np\n",
    "\n",
    "arr = np.array([[1, 2, 3], [4, 5, 6], [7, 8, 9], [10, 11, 12], [13, 14, 15], [16, 17, 18]])\n",
    "newarr = np.array_split(arr, 3, axis=1)\n",
    "\n",
    "print(newarr)"
   ]
  },
  {
   "cell_type": "markdown",
   "id": "b4c10ad8-c239-465a-aa62-fbf67453d110",
   "metadata": {},
   "source": [
    "An alternate solution is using hsplit() opposite of hstack()\n",
    "\n",
    "**Example**  \n",
    "Use the hsplit() method to split the 2-D array into three 2-D arrays along rows."
   ]
  },
  {
   "cell_type": "code",
   "execution_count": 69,
   "id": "8933b3cf-3a70-46b1-a4be-69a2a4e13e69",
   "metadata": {},
   "outputs": [
    {
     "name": "stdout",
     "output_type": "stream",
     "text": [
      "[[ 1]\n",
      " [ 4]\n",
      " [ 7]\n",
      " [10]\n",
      " [13]\n",
      " [16]]\n",
      "[[ 2]\n",
      " [ 5]\n",
      " [ 8]\n",
      " [11]\n",
      " [14]\n",
      " [17]]\n",
      "[[ 3]\n",
      " [ 6]\n",
      " [ 9]\n",
      " [12]\n",
      " [15]\n",
      " [18]]\n"
     ]
    }
   ],
   "source": [
    "import numpy as np\n",
    "\n",
    "arr = np.array([[1, 2, 3], [4, 5, 6], [7, 8, 9], [10, 11, 12], [13, 14, 15], [16, 17, 18]])\n",
    "newarr = np.hsplit(arr, 3)\n",
    "\n",
    "print(newarr[0])\n",
    "print(newarr[1])\n",
    "print(newarr[2])"
   ]
  },
  {
   "cell_type": "markdown",
   "id": "a4e92d9d-95a9-440c-8dbb-d9302627250e",
   "metadata": {},
   "source": [
    ">Note: Similar alternates to vstack() and dstack() are available as vsplit() and dsplit()."
   ]
  },
  {
   "cell_type": "markdown",
   "id": "d2eb7efb-3e5a-4c1a-8a23-56855e28caa2",
   "metadata": {},
   "source": [
    "# Searching Arrays"
   ]
  },
  {
   "cell_type": "markdown",
   "id": "2cd6e53f-3368-462a-a101-a523bd0845f0",
   "metadata": {},
   "source": [
    "**Searching Arrays**  \n",
    "You can search an array for a certain value, and return the indexes that get a match.\n",
    "\n",
    "To search an array, use the where() method.\n",
    "\n",
    "**Example**  \n",
    "Find the indexes where the value is 4:"
   ]
  },
  {
   "cell_type": "code",
   "execution_count": 70,
   "id": "66293218-98ce-4890-bba1-9a562a063d89",
   "metadata": {},
   "outputs": [
    {
     "name": "stdout",
     "output_type": "stream",
     "text": [
      "(array([3, 5, 6], dtype=int64),)\n"
     ]
    }
   ],
   "source": [
    "import numpy as np\n",
    "\n",
    "arr = np.array([1, 2, 3, 4, 5, 4, 4])\n",
    "x = np.where(arr == 4)\n",
    "print(x)"
   ]
  },
  {
   "cell_type": "markdown",
   "id": "21dcb29f-d2dc-4bee-93f5-62ec5b6e7ef5",
   "metadata": {},
   "source": [
    "The example above will return a tuple: (array([3, 5, 6],)\n",
    "\n",
    "Which means that the value 4 is present at index 3, 5, and 6.\n",
    "\n",
    "**Example**\n",
    "Find the indexes where the values are even:"
   ]
  },
  {
   "cell_type": "code",
   "execution_count": 71,
   "id": "38012432-8535-4593-b1d5-c58a98695f17",
   "metadata": {},
   "outputs": [
    {
     "name": "stdout",
     "output_type": "stream",
     "text": [
      "(array([1, 3, 5, 7], dtype=int64),)\n"
     ]
    }
   ],
   "source": [
    "import numpy as np\n",
    "\n",
    "arr = np.array([1, 2, 3, 4, 5, 6, 7, 8])\n",
    "x = np.where(arr%2 == 0)\n",
    "print(x)"
   ]
  },
  {
   "cell_type": "markdown",
   "id": "a0fe495d-eede-4ecc-bc36-746aa1a6217f",
   "metadata": {},
   "source": [
    "**Example**  \n",
    "Find the indexes where the values are odd:"
   ]
  },
  {
   "cell_type": "code",
   "execution_count": 72,
   "id": "87cd4379-f617-4595-96b7-ded3e9018e43",
   "metadata": {},
   "outputs": [
    {
     "name": "stdout",
     "output_type": "stream",
     "text": [
      "(array([0, 2, 4, 6], dtype=int64),)\n"
     ]
    }
   ],
   "source": [
    "import numpy as np\n",
    "arr = np.array([1, 2, 3, 4, 5, 6, 7, 8])\n",
    "x = np.where(arr%2 == 1)\n",
    "print(x)"
   ]
  },
  {
   "cell_type": "markdown",
   "id": "5e26846e-1c08-4e51-a4a1-a5080cb188e0",
   "metadata": {},
   "source": [
    "# Sorting Arrays"
   ]
  },
  {
   "cell_type": "markdown",
   "id": "ee30ff6c-7d32-442e-9456-695c0bc52206",
   "metadata": {},
   "source": [
    "**Sorting Arrays**  \n",
    "Sorting means putting elements in an ordered sequence.\n",
    "\n",
    "Ordered sequence is any sequence that has an order corresponding to elements, like numeric or alphabetical, ascending or descending.\n",
    "\n",
    "The NumPy ndarray object has a function called sort(), that will sort a specified array.\n",
    "**Example**  \n",
    "Sort the array:"
   ]
  },
  {
   "cell_type": "code",
   "execution_count": 73,
   "id": "d38f968f-104e-4419-ad6e-97721561f23f",
   "metadata": {},
   "outputs": [
    {
     "name": "stdout",
     "output_type": "stream",
     "text": [
      "[0 1 2 3]\n"
     ]
    }
   ],
   "source": [
    "import numpy as np\n",
    "arr = np.array([3, 2, 0, 1])\n",
    "print(np.sort(arr))"
   ]
  },
  {
   "cell_type": "markdown",
   "id": "c5f8feb9-f65b-4fd8-9d1b-e1dc6e315775",
   "metadata": {},
   "source": [
    ">Note: This method returns a copy of the array, leaving the original array unchanged.\n",
    "\n",
    "You can also sort arrays of strings, or any other data type:\n",
    "\n",
    "**Example**  \n",
    "Sort the array alphabetically:"
   ]
  },
  {
   "cell_type": "code",
   "execution_count": 74,
   "id": "81a56e2e-2964-4508-864a-217f0f56bc65",
   "metadata": {},
   "outputs": [
    {
     "name": "stdout",
     "output_type": "stream",
     "text": [
      "['apple' 'banana' 'cherry']\n"
     ]
    }
   ],
   "source": [
    "import numpy as np\n",
    "arr = np.array(['banana', 'cherry', 'apple'])\n",
    "print(np.sort(arr))"
   ]
  },
  {
   "cell_type": "markdown",
   "id": "4ce23b29-0318-4c1e-97ca-3a78eaaa3c59",
   "metadata": {},
   "source": [
    "**Example**  \n",
    "Sort a boolean array:"
   ]
  },
  {
   "cell_type": "code",
   "execution_count": 75,
   "id": "886a8f18-45c9-4e32-a023-cbb67fbffb60",
   "metadata": {},
   "outputs": [
    {
     "name": "stdout",
     "output_type": "stream",
     "text": [
      "[False  True  True]\n"
     ]
    }
   ],
   "source": [
    "import numpy as np\n",
    "arr = np.array([True, False, True])\n",
    "print(np.sort(arr))"
   ]
  },
  {
   "cell_type": "markdown",
   "id": "79a91750-88c3-44b1-9a9e-5ada289d7716",
   "metadata": {},
   "source": [
    "**Sorting a 2-D Array**  \n",
    "If you use the sort() method on a 2-D array, both arrays will be sorted:\n",
    "\n",
    "**Example**  \n",
    "Sort a 2-D array:"
   ]
  },
  {
   "cell_type": "code",
   "execution_count": 76,
   "id": "91e29ffc-f3ab-40db-86ff-a01287e70926",
   "metadata": {},
   "outputs": [
    {
     "name": "stdout",
     "output_type": "stream",
     "text": [
      "[[2 3 4]\n",
      " [0 1 5]]\n"
     ]
    }
   ],
   "source": [
    "import numpy as np\n",
    "arr = np.array([[3, 2, 4], [5, 0, 1]])\n",
    "print(np.sort(arr))"
   ]
  },
  {
   "cell_type": "markdown",
   "id": "dcf22bb6-d932-4f2c-b63d-ff0eaea72050",
   "metadata": {},
   "source": [
    "# Filter Array"
   ]
  },
  {
   "cell_type": "markdown",
   "id": "d1efefb4-476c-4122-b54c-fd9937a9543a",
   "metadata": {},
   "source": [
    "**Filtering Arrays**  \n",
    "Getting some elements out of an existing array and creating a new array out of them is called filtering.\n",
    "\n",
    "In NumPy, you filter an array using a boolean index list.\n",
    "\n",
    "A boolean index list is a list of booleans corresponding to indexes in the array.\n",
    "\n",
    "If the value at an index is True that element is contained in the filtered array, if the value at that index is False that element is excluded from the filtered array.\n",
    "\n",
    "**Example**  \n",
    "Create an array from the elements on index 0 and 2:"
   ]
  },
  {
   "cell_type": "code",
   "execution_count": 77,
   "id": "1f5f0c3b-36a6-4295-905b-885c5c5ba946",
   "metadata": {},
   "outputs": [
    {
     "name": "stdout",
     "output_type": "stream",
     "text": [
      "[41 43]\n"
     ]
    }
   ],
   "source": [
    "import numpy as np\n",
    "arr = np.array([41, 42, 43, 44])\n",
    "x = [True, False, True, False]\n",
    "newarr = arr[x]\n",
    "print(newarr)"
   ]
  },
  {
   "cell_type": "markdown",
   "id": "5c05eece-e74d-4469-a37d-7c9ac0b31a21",
   "metadata": {},
   "source": [
    "The example above will return [41, 43], why?\n",
    "\n",
    "Because the new array contains only the values where the filter array had the value True, in this case, index 0 and 2.\n",
    "\n",
    "**Creating the Filter Array**  \n",
    "In the example above we hard-coded the True and False values, but the common use is to create a filter array based on conditions.\n",
    "\n",
    "**Example**  \n",
    "Create a filter array that will return only values higher than 42:"
   ]
  },
  {
   "cell_type": "code",
   "execution_count": 78,
   "id": "d69b8469-f1a6-4154-9ff6-898adde2a85b",
   "metadata": {},
   "outputs": [
    {
     "name": "stdout",
     "output_type": "stream",
     "text": [
      "[False, False, True, True]\n",
      "[43 44]\n"
     ]
    }
   ],
   "source": [
    "import numpy as np\n",
    "\n",
    "arr = np.array([41, 42, 43, 44])\n",
    "# Create an empty list\n",
    "filter_arr = []\n",
    "# go through each element in arr\n",
    "for element in arr:\n",
    "  # if the element is higher than 42, set the value to True, otherwise False:\n",
    "  if element > 42:\n",
    "    filter_arr.append(True)\n",
    "  else:\n",
    "    filter_arr.append(False)\n",
    "newarr = arr[filter_arr]\n",
    "print(filter_arr)\n",
    "print(newarr)"
   ]
  },
  {
   "cell_type": "markdown",
   "id": "c0fcdec6-2995-439e-8bb7-4d777dd6e8b8",
   "metadata": {},
   "source": [
    "**Example**  \n",
    "Create a filter array that will return only even elements from the original array:"
   ]
  },
  {
   "cell_type": "code",
   "execution_count": 79,
   "id": "17d32f50-dcf9-435b-85e9-811b432d30e5",
   "metadata": {},
   "outputs": [
    {
     "name": "stdout",
     "output_type": "stream",
     "text": [
      "[False, True, False, True, False, True, False]\n",
      "[2 4 6]\n"
     ]
    }
   ],
   "source": [
    "import numpy as np\n",
    "arr = np.array([1, 2, 3, 4, 5, 6, 7])\n",
    "# Create an empty list\n",
    "filter_arr = []\n",
    "# go through each element in arr\n",
    "for element in arr:\n",
    "  # if the element is completely divisble by 2, set the value to True, otherwise False\n",
    "  if element % 2 == 0:\n",
    "    filter_arr.append(True)\n",
    "  else:\n",
    "    filter_arr.append(False)\n",
    "newarr = arr[filter_arr]\n",
    "print(filter_arr)\n",
    "print(newarr)"
   ]
  },
  {
   "cell_type": "markdown",
   "id": "7fc37740-a468-4ee1-9557-f627ac2385ac",
   "metadata": {},
   "source": [
    "Creating Filter Directly From Array\n",
    "The above example is quite a common task in NumPy and NumPy provides a nice way to tackle it.\n",
    "\n",
    "We can directly substitute the array instead of the iterable variable in our condition and it will work just as we expect it to.\n",
    "\n",
    "Example\n",
    "Create a filter array that will return only values higher than 42:"
   ]
  },
  {
   "cell_type": "code",
   "execution_count": 80,
   "id": "cb752ba6-38de-4f79-bc2c-432d5fa7070d",
   "metadata": {},
   "outputs": [
    {
     "name": "stdout",
     "output_type": "stream",
     "text": [
      "[False False  True  True]\n",
      "[43 44]\n"
     ]
    }
   ],
   "source": [
    "import numpy as np\n",
    "arr = np.array([41, 42, 43, 44])\n",
    "filter_arr = arr > 42\n",
    "newarr = arr[filter_arr]\n",
    "print(filter_arr)\n",
    "print(newarr)"
   ]
  },
  {
   "cell_type": "markdown",
   "id": "ff34c78e-a7b0-46d8-91a4-a9b7d78790ab",
   "metadata": {},
   "source": [
    "Example\n",
    "Create a filter array that will return only even elements from the original array:"
   ]
  },
  {
   "cell_type": "code",
   "execution_count": 81,
   "id": "6714c503-058d-4a5f-85a9-8b958de8687f",
   "metadata": {},
   "outputs": [
    {
     "name": "stdout",
     "output_type": "stream",
     "text": [
      "[False  True False  True False  True False]\n",
      "[2 4 6]\n"
     ]
    }
   ],
   "source": [
    "import numpy as np\n",
    "arr = np.array([1, 2, 3, 4, 5, 6, 7])\n",
    "filter_arr = arr % 2 == 0\n",
    "newarr = arr[filter_arr]\n",
    "print(filter_arr)\n",
    "print(newarr)"
   ]
  },
  {
   "cell_type": "markdown",
   "id": "87d787e1-45d4-435f-bd27-47bb64c71148",
   "metadata": {},
   "source": [
    "# NumPy ufuncs"
   ]
  },
  {
   "cell_type": "markdown",
   "id": "bcd8271c-0bce-40d5-ac0a-209bb63be4df",
   "metadata": {},
   "source": [
    "**What are ufuncs?**  \n",
    "ufuncs stands for \"Universal Functions\" and they are NumPy functions that operate on the ndarray object.\n",
    "\n",
    "**Why use ufuncs?**  \n",
    "ufuncs are used to implement vectorization in NumPy which is way faster than iterating over elements.\n",
    "\n",
    "They also provide broadcasting and additional methods like reduce, accumulate etc. that are very helpful for computation.\n",
    "\n",
    "ufuncs also take additional arguments, like:\n",
    "\n",
    "where boolean array or condition defining where the operations should take place.\n",
    "\n",
    "dtype defining the return type of elements.\n",
    "\n",
    "out output array where the return value should be copied.\n",
    "\n",
    "**What is Vectorization?**  \n",
    "Converting iterative statements into a vector based operation is called vectorization.\n",
    "\n",
    "It is faster as modern CPUs are optimized for such operations.\n",
    "\n",
    "**Add the Elements of Two Lists**  \n",
    "list 1: [1, 2, 3, 4]\n",
    "\n",
    "list 2: [4, 5, 6, 7]\n",
    "\n",
    "One way of doing it is to iterate over both of the lists and then sum each elements.\n",
    "\n",
    "**Example**  \n",
    "Without ufunc, we can use Python's built-in zip() method:"
   ]
  },
  {
   "cell_type": "code",
   "execution_count": 82,
   "id": "0eb275a7-5d6f-45b2-8fd6-149f99289bcb",
   "metadata": {},
   "outputs": [
    {
     "name": "stdout",
     "output_type": "stream",
     "text": [
      "[5, 7, 9, 11]\n"
     ]
    }
   ],
   "source": [
    "x = [1, 2, 3, 4]\n",
    "y = [4, 5, 6, 7]\n",
    "z = []\n",
    "\n",
    "for i, j in zip(x, y):\n",
    "  z.append(i + j)\n",
    "print(z)"
   ]
  },
  {
   "cell_type": "markdown",
   "id": "932cc1bf-3af3-43c3-b08e-df33fc2008f5",
   "metadata": {},
   "source": [
    "NumPy has a ufunc for this, called add(x, y) that will produce the same result.\n",
    "\n",
    "**Example**  \n",
    "With ufunc, we can use the add() function:"
   ]
  },
  {
   "cell_type": "code",
   "execution_count": 83,
   "id": "98af04d6-1f97-4c1e-a792-496ead9bb9c2",
   "metadata": {},
   "outputs": [
    {
     "name": "stdout",
     "output_type": "stream",
     "text": [
      "[ 5  7  9 11]\n"
     ]
    }
   ],
   "source": [
    "import numpy as np\n",
    "\n",
    "x = [1, 2, 3, 4]\n",
    "y = [4, 5, 6, 7]\n",
    "z = np.add(x, y)\n",
    "\n",
    "print(z)"
   ]
  },
  {
   "cell_type": "markdown",
   "id": "ea08970f-ff52-4e15-891e-570d738ad7cf",
   "metadata": {},
   "source": [
    "## Check if ufunc"
   ]
  },
  {
   "cell_type": "markdown",
   "id": "5d2b403a-67b4-43e0-a9bc-0a4bf965b60a",
   "metadata": {},
   "source": [
    "Check the type of a function to check if it is a ufunc or not.\n",
    "\n",
    "A ufunc should return <class 'numpy.ufunc'>."
   ]
  },
  {
   "cell_type": "code",
   "execution_count": 84,
   "id": "c43a3351-7ed8-4931-be74-2ff13385c2e5",
   "metadata": {},
   "outputs": [
    {
     "name": "stdout",
     "output_type": "stream",
     "text": [
      "<class 'numpy._ArrayFunctionDispatcher'>\n"
     ]
    }
   ],
   "source": [
    "import numpy as np\n",
    "\n",
    "print(type(np.concatenate))"
   ]
  },
  {
   "cell_type": "code",
   "execution_count": 85,
   "id": "0a7a6edd-e1dc-4181-8e74-148e56dc25c7",
   "metadata": {},
   "outputs": [
    {
     "name": "stdout",
     "output_type": "stream",
     "text": [
      "concatenate is ufunc of inbuild type:  <class 'numpy._ArrayFunctionDispatcher'>\n"
     ]
    }
   ],
   "source": [
    "import numpy as np\n",
    "try:\n",
    "    typeoffunc = type(np.concatenate)\n",
    "    print('concatenate is ufunc of inbuild type: ', typeoffunc)\n",
    "except:\n",
    "    print('concatenate is not ufunc')"
   ]
  },
  {
   "cell_type": "code",
   "execution_count": 86,
   "id": "63afd8f4-bb1c-4af7-a611-9efc5d1ad5e3",
   "metadata": {},
   "outputs": [
    {
     "name": "stdout",
     "output_type": "stream",
     "text": [
      "blahblah is not ufunc\n"
     ]
    }
   ],
   "source": [
    "try:\n",
    "    typeoffunc = type(np.blahblah)\n",
    "    print('blahblah is ufunc of inbuild type: ', typeoffunc)\n",
    "except:\n",
    "    print('blahblah is not ufunc')"
   ]
  },
  {
   "cell_type": "markdown",
   "id": "cd6fa600-4cfd-4f31-a895-2411ab086533",
   "metadata": {},
   "source": [
    "## Create Your Own ufunc"
   ]
  },
  {
   "cell_type": "markdown",
   "id": "6697a6f9-20f6-4682-ae70-ce08e6a64f99",
   "metadata": {},
   "source": [
    "**How To Create Your Own ufunc**  \n",
    "To create your own ufunc, you have to define a function, like you do with normal functions in Python, then you add it to your NumPy ufunc library with the frompyfunc() method.\n",
    "\n",
    "The frompyfunc() method takes the following arguments:\n",
    ">1.\tfunction - the name of the function.  \n",
    "2.\tinputs - the number of input arguments (arrays).  \n",
    "3.\toutputs - the number of output arrays.  \n",
    "\n",
    "**Example**  "
   ]
  },
  {
   "cell_type": "code",
   "execution_count": 87,
   "id": "71dea7b4-513b-4f35-bcee-ffad3e0b9bad",
   "metadata": {},
   "outputs": [
    {
     "name": "stdout",
     "output_type": "stream",
     "text": [
      "[6 8 10 12]\n"
     ]
    }
   ],
   "source": [
    "import numpy as np\n",
    "\n",
    "def myadd(x, y):\n",
    "  return x+y\n",
    "\n",
    "myadd = np.frompyfunc(myadd, 2, 1)\n",
    "\n",
    "print(myadd([1, 2, 3, 4], [5, 6, 7, 8]))"
   ]
  },
  {
   "cell_type": "code",
   "execution_count": 88,
   "id": "33e4f55e-2826-4763-aa3a-ccdd75be21e7",
   "metadata": {},
   "outputs": [],
   "source": [
    "#print(type(np.myadd))"
   ]
  },
  {
   "cell_type": "code",
   "execution_count": 89,
   "id": "1b8f1528-8fad-4579-87ec-4973cb6a77ab",
   "metadata": {},
   "outputs": [
    {
     "name": "stdout",
     "output_type": "stream",
     "text": [
      "concatenate is not ufunc\n"
     ]
    }
   ],
   "source": [
    "try:\n",
    "    typeoffunc = type(np.myadd)\n",
    "    if typeoffunc == np.ufunc:\n",
    "        print('concatenate is ufunc : ', typeoffunc)\n",
    "except:\n",
    "    print('concatenate is not ufunc')"
   ]
  },
  {
   "cell_type": "markdown",
   "id": "7a3f91bd-3860-42f6-b5b8-e40f2a77a5a3",
   "metadata": {},
   "source": [
    "## ufunc inbuilt functions list"
   ]
  },
  {
   "cell_type": "markdown",
   "id": "b3f220cb-603e-487e-9b06-b0b8fb60ac0e",
   "metadata": {},
   "source": [
    "**numpy.add(x1, x2)**  "
   ]
  },
  {
   "cell_type": "code",
   "execution_count": 90,
   "id": "a228a3bc-0206-430e-bbe4-fb1f8c6dc181",
   "metadata": {},
   "outputs": [
    {
     "name": "stdout",
     "output_type": "stream",
     "text": [
      "[30 32 34 36 38 40]\n"
     ]
    }
   ],
   "source": [
    "import numpy as np\n",
    "\n",
    "arr1 = np.array([10, 11, 12, 13, 14, 15])\n",
    "arr2 = np.array([20, 21, 22, 23, 24, 25])\n",
    "\n",
    "newarr = np.add(arr1, arr2)\n",
    "\n",
    "print(newarr)"
   ]
  },
  {
   "cell_type": "markdown",
   "id": "f85af815-09b3-43c3-b25d-6b14dbbdbef8",
   "metadata": {},
   "source": [
    "**numpy.subtract(x1, x2)**  "
   ]
  },
  {
   "cell_type": "code",
   "execution_count": 91,
   "id": "3e4c823a-c63f-46f9-9257-5d755eafd22b",
   "metadata": {},
   "outputs": [
    {
     "name": "stdout",
     "output_type": "stream",
     "text": [
      "[-10  -1   8  17  26  35]\n"
     ]
    }
   ],
   "source": [
    "import numpy as np\n",
    "\n",
    "arr1 = np.array([10, 20, 30, 40, 50, 60])\n",
    "arr2 = np.array([20, 21, 22, 23, 24, 25])\n",
    "\n",
    "newarr = np.subtract(arr1, arr2)\n",
    "\n",
    "print(newarr)"
   ]
  },
  {
   "cell_type": "markdown",
   "id": "5fd24023-fd8b-4a39-85ad-8c18bcb9c3f0",
   "metadata": {},
   "source": [
    "**numpy.multiply(x1, x2)**  "
   ]
  },
  {
   "cell_type": "code",
   "execution_count": 92,
   "id": "5d8595e6-e6c6-496e-abc3-ee2670b1d57e",
   "metadata": {},
   "outputs": [
    {
     "name": "stdout",
     "output_type": "stream",
     "text": [
      "[ 200  420  660  920 1200 1500]\n"
     ]
    }
   ],
   "source": [
    "import numpy as np\n",
    "\n",
    "arr1 = np.array([10, 20, 30, 40, 50, 60])\n",
    "arr2 = np.array([20, 21, 22, 23, 24, 25])\n",
    "\n",
    "newarr = np.multiply(arr1, arr2)\n",
    "\n",
    "print(newarr)"
   ]
  },
  {
   "cell_type": "markdown",
   "id": "35cedcff-44ae-4f5f-a817-88cc2865e7ca",
   "metadata": {},
   "source": [
    "**numpy.divide(x1, x2)**  "
   ]
  },
  {
   "cell_type": "code",
   "execution_count": 93,
   "id": "eeb7112f-be7d-480d-b834-4edce1a8ff44",
   "metadata": {},
   "outputs": [
    {
     "name": "stdout",
     "output_type": "stream",
     "text": [
      "[ 3.33333333  4.          3.          5.         25.          1.81818182]\n"
     ]
    }
   ],
   "source": [
    "import numpy as np\n",
    "\n",
    "arr1 = np.array([10, 20, 30, 40, 50, 60])\n",
    "arr2 = np.array([3, 5, 10, 8, 2, 33])\n",
    "\n",
    "newarr = np.divide(arr1, arr2)\n",
    "\n",
    "print(newarr)"
   ]
  },
  {
   "cell_type": "markdown",
   "id": "9e69e108-8b2a-49d8-984f-2fa1312d423e",
   "metadata": {},
   "source": [
    "**numpy.power(x1, x2)**  "
   ]
  },
  {
   "cell_type": "code",
   "execution_count": 94,
   "id": "864156a0-0201-4666-96f3-c0f4fc55a2f1",
   "metadata": {},
   "outputs": [
    {
     "name": "stdout",
     "output_type": "stream",
     "text": [
      "[      1000    3200000  729000000 -520093696       2500          0]\n"
     ]
    }
   ],
   "source": [
    "import numpy as np\n",
    "\n",
    "arr1 = np.array([10, 20, 30, 40, 50, 60])\n",
    "arr2 = np.array([3, 5, 6, 8, 2, 33])\n",
    "\n",
    "newarr = np.power(arr1, arr2)\n",
    "\n",
    "print(newarr)"
   ]
  },
  {
   "cell_type": "markdown",
   "id": "09006fad-b360-45e4-b208-8811e9fee06a",
   "metadata": {},
   "source": [
    "**numpy.mod(x1, x2)**  "
   ]
  },
  {
   "cell_type": "code",
   "execution_count": 95,
   "id": "2d968f2f-32a4-46b7-8dda-46b87b66d951",
   "metadata": {},
   "outputs": [
    {
     "name": "stdout",
     "output_type": "stream",
     "text": [
      "[ 1  6  3  0  0 27]\n"
     ]
    }
   ],
   "source": [
    "import numpy as np\n",
    "\n",
    "arr1 = np.array([10, 20, 30, 40, 50, 60])\n",
    "arr2 = np.array([3, 7, 9, 8, 2, 33])\n",
    "\n",
    "newarr = np.mod(arr1, arr2)\n",
    "\n",
    "print(newarr)"
   ]
  },
  {
   "cell_type": "markdown",
   "id": "c2c20546-62af-4899-8c08-0c4c651d32dc",
   "metadata": {},
   "source": [
    "**numpy.remainder(x1, x2)**  "
   ]
  },
  {
   "cell_type": "code",
   "execution_count": 96,
   "id": "0b851938-bfc7-4ade-9b7d-959acf91fed1",
   "metadata": {},
   "outputs": [
    {
     "name": "stdout",
     "output_type": "stream",
     "text": [
      "[ 1  6  3  0  0 27]\n"
     ]
    }
   ],
   "source": [
    "import numpy as np\n",
    "\n",
    "arr1 = np.array([10, 20, 30, 40, 50, 60])\n",
    "arr2 = np.array([3, 7, 9, 8, 2, 33])\n",
    "\n",
    "newarr = np.remainder(arr1, arr2)\n",
    "\n",
    "print(newarr)"
   ]
  },
  {
   "cell_type": "markdown",
   "id": "fa85c867-5bcb-4a95-bf6b-3bd098044ca4",
   "metadata": {},
   "source": [
    "**numpy.divmod(x1, x2)**  "
   ]
  },
  {
   "cell_type": "code",
   "execution_count": 97,
   "id": "bad7f1a7-a201-4e7c-af6e-a57137b05a53",
   "metadata": {},
   "outputs": [
    {
     "name": "stdout",
     "output_type": "stream",
     "text": [
      "(array([ 3,  2,  3,  5, 25,  1]), array([ 1,  6,  3,  0,  0, 27]))\n"
     ]
    }
   ],
   "source": [
    "import numpy as np\n",
    "\n",
    "arr1 = np.array([10, 20, 30, 40, 50, 60])\n",
    "arr2 = np.array([3, 7, 9, 8, 2, 33])\n",
    "\n",
    "newarr = np.divmod(arr1, arr2)\n",
    "\n",
    "print(newarr)"
   ]
  },
  {
   "cell_type": "markdown",
   "id": "203f4384-3aa2-4d78-8169-96f83cbfe14c",
   "metadata": {},
   "source": [
    "**numpy.absolute(x1, x2)**  "
   ]
  },
  {
   "cell_type": "code",
   "execution_count": 98,
   "id": "1cf4e4b8-e254-4d43-b95f-270916c3b992",
   "metadata": {},
   "outputs": [
    {
     "name": "stdout",
     "output_type": "stream",
     "text": [
      "[1 2 1 2 3 4]\n"
     ]
    }
   ],
   "source": [
    "import numpy as np\n",
    "\n",
    "arr = np.array([-1, -2, 1, 2, 3, -4])\n",
    "\n",
    "newarr = np.absolute(arr)\n",
    "\n",
    "print(newarr)"
   ]
  },
  {
   "cell_type": "markdown",
   "id": "93b8f517-5843-415d-8c1d-22da5e5c1979",
   "metadata": {},
   "source": [
    "**numpy.trunc(x1)**  "
   ]
  },
  {
   "cell_type": "code",
   "execution_count": 99,
   "id": "4b99340b-7015-4197-b9e1-4a6a15f16df3",
   "metadata": {},
   "outputs": [
    {
     "name": "stdout",
     "output_type": "stream",
     "text": [
      "[-3.  3.]\n"
     ]
    }
   ],
   "source": [
    "import numpy as np\n",
    "\n",
    "arr = np.trunc([-3.1666, 3.6667])\n",
    "\n",
    "print(arr)"
   ]
  },
  {
   "cell_type": "markdown",
   "id": "ea0d883d-8f0b-4ca4-93b2-ca5724fda0b6",
   "metadata": {},
   "source": [
    "**numpy.fix(x1)**  "
   ]
  },
  {
   "cell_type": "code",
   "execution_count": 100,
   "id": "5afeaded-f3f9-4b5a-b883-b59182fbb1f5",
   "metadata": {},
   "outputs": [
    {
     "name": "stdout",
     "output_type": "stream",
     "text": [
      "[-3.  3.]\n"
     ]
    }
   ],
   "source": [
    "import numpy as np\n",
    "\n",
    "arr = np.fix([-3.1666, 3.6667])\n",
    "\n",
    "print(arr)"
   ]
  },
  {
   "cell_type": "markdown",
   "id": "b5d61351-8388-4a40-bfd8-a6edaf8ac3c0",
   "metadata": {},
   "source": [
    "**numpy.around(x1)**  "
   ]
  },
  {
   "cell_type": "code",
   "execution_count": 101,
   "id": "27c049c6-44a4-4dff-b9cc-9032b78c6d8e",
   "metadata": {},
   "outputs": [
    {
     "name": "stdout",
     "output_type": "stream",
     "text": [
      "3.167\n"
     ]
    }
   ],
   "source": [
    "import numpy as np\n",
    "\n",
    "arr = np.around(3.1666, 3)\n",
    "\n",
    "print(arr)"
   ]
  },
  {
   "cell_type": "markdown",
   "id": "915c1341-d128-48d3-b8b4-7e6d87303a74",
   "metadata": {},
   "source": [
    "**numpy.floor(x1)**  "
   ]
  },
  {
   "cell_type": "code",
   "execution_count": 102,
   "id": "8d98ffd6-7fd4-485e-943e-5ff2db5f11a9",
   "metadata": {},
   "outputs": [
    {
     "name": "stdout",
     "output_type": "stream",
     "text": [
      "[-4.  3.]\n"
     ]
    }
   ],
   "source": [
    "import numpy as np\n",
    "\n",
    "arr = np.floor([-3.1666, 3.6667])\n",
    "\n",
    "print(arr)"
   ]
  },
  {
   "cell_type": "markdown",
   "id": "1aa83f72-97dd-4307-ad98-a952bccafe13",
   "metadata": {},
   "source": [
    "**numpy.ceil(x1)**  "
   ]
  },
  {
   "cell_type": "code",
   "execution_count": 103,
   "id": "5764240c-d177-4164-beea-7b1d12cfe535",
   "metadata": {},
   "outputs": [
    {
     "name": "stdout",
     "output_type": "stream",
     "text": [
      "[-3.  4.]\n"
     ]
    }
   ],
   "source": [
    "import numpy as np\n",
    "\n",
    "arr = np.ceil([-3.1666, 3.6667])\n",
    "\n",
    "print(arr)"
   ]
  },
  {
   "cell_type": "markdown",
   "id": "a30190e0-f468-41d6-8bdf-b575f2fb8b80",
   "metadata": {},
   "source": [
    "**numpy.log2(x1)**  "
   ]
  },
  {
   "cell_type": "code",
   "execution_count": 104,
   "id": "1bf1398b-de5b-45a3-99f0-7246c9911fd1",
   "metadata": {},
   "outputs": [
    {
     "name": "stdout",
     "output_type": "stream",
     "text": [
      "[0.         1.         1.5849625  2.         2.32192809 2.5849625\n",
      " 2.80735492 3.         3.169925  ]\n"
     ]
    }
   ],
   "source": [
    "import numpy as np\n",
    "\n",
    "arr = np.arange(1, 10)\n",
    "\n",
    "print(np.log2(arr))"
   ]
  },
  {
   "cell_type": "markdown",
   "id": "59f24e3e-bbe0-400f-8560-270bbdf30464",
   "metadata": {},
   "source": [
    "**numpy.log10(x1)**  "
   ]
  },
  {
   "cell_type": "code",
   "execution_count": 105,
   "id": "5de767e6-293c-485f-9076-c3ef71f03e57",
   "metadata": {},
   "outputs": [
    {
     "name": "stdout",
     "output_type": "stream",
     "text": [
      "[0.         0.30103    0.47712125 0.60205999 0.69897    0.77815125\n",
      " 0.84509804 0.90308999 0.95424251]\n"
     ]
    }
   ],
   "source": [
    "import numpy as np\n",
    "\n",
    "arr = np.arange(1, 10)\n",
    "\n",
    "print(np.log10(arr))"
   ]
  },
  {
   "cell_type": "markdown",
   "id": "23b1cc70-f8cb-4564-a20c-ede41be6afe1",
   "metadata": {},
   "source": [
    "**numpy.loge(x1)**  "
   ]
  },
  {
   "cell_type": "code",
   "execution_count": 106,
   "id": "55b0a7e8-d4fc-480d-a8ff-dc54c55ab732",
   "metadata": {},
   "outputs": [
    {
     "name": "stdout",
     "output_type": "stream",
     "text": [
      "[0.         0.69314718 1.09861229 1.38629436 1.60943791 1.79175947\n",
      " 1.94591015 2.07944154 2.19722458]\n"
     ]
    }
   ],
   "source": [
    "import numpy as np\n",
    "\n",
    "arr = np.arange(1, 10)\n",
    "\n",
    "print(np.log(arr))"
   ]
  },
  {
   "cell_type": "markdown",
   "id": "f21e4545-fef7-4d22-8e8e-fb6e30e4d491",
   "metadata": {},
   "source": [
    "**numpy.sum(x1, x2, ..)**  "
   ]
  },
  {
   "cell_type": "code",
   "execution_count": 107,
   "id": "217d0e6e-fdce-4b65-af3e-6cf65ee77477",
   "metadata": {},
   "outputs": [
    {
     "name": "stdout",
     "output_type": "stream",
     "text": [
      "18\n"
     ]
    }
   ],
   "source": [
    "import numpy as np\n",
    "\n",
    "arr1 = np.array([1, 2, 3])\n",
    "arr2 = np.array([1, 2, 3])\n",
    "arr3 = np.array([1, 2, 3])\n",
    "\n",
    "newarr = np.sum([arr1, arr2, arr3])\n",
    "\n",
    "print(newarr)"
   ]
  },
  {
   "cell_type": "code",
   "execution_count": 108,
   "id": "b6319a33-bb96-4a28-b6e8-bfe9bc9bef3c",
   "metadata": {},
   "outputs": [
    {
     "name": "stdout",
     "output_type": "stream",
     "text": [
      "[6 6 6]\n"
     ]
    }
   ],
   "source": [
    "import numpy as np\n",
    "\n",
    "arr1 = np.array([1, 2, 3])\n",
    "arr2 = np.array([1, 2, 3])\n",
    "arr3 = np.array([1, 2, 3])\n",
    "\n",
    "newarr = np.sum([arr1, arr2, arr3], axis=1)\n",
    "\n",
    "print(newarr)"
   ]
  },
  {
   "cell_type": "code",
   "execution_count": 109,
   "id": "652d04db-c82c-40a8-bfad-a43bb33cba23",
   "metadata": {},
   "outputs": [
    {
     "name": "stdout",
     "output_type": "stream",
     "text": [
      "[3 6 9]\n"
     ]
    }
   ],
   "source": [
    "import numpy as np\n",
    "\n",
    "arr1 = np.array([1, 2, 3])\n",
    "arr2 = np.array([1, 2, 3])\n",
    "arr3 = np.array([1, 2, 3])\n",
    "\n",
    "newarr = np.sum([arr1, arr2, arr3], axis=0)\n",
    "\n",
    "print(newarr)"
   ]
  },
  {
   "cell_type": "markdown",
   "id": "36ed7f47-d1eb-47a2-98e2-65542617395d",
   "metadata": {},
   "source": [
    "**Cummulative Sum**  "
   ]
  },
  {
   "cell_type": "code",
   "execution_count": 110,
   "id": "23d5ea56-10ea-435e-86af-eb1b82283c3a",
   "metadata": {},
   "outputs": [
    {
     "name": "stdout",
     "output_type": "stream",
     "text": [
      "[1 3 6]\n"
     ]
    }
   ],
   "source": [
    "import numpy as np\n",
    "\n",
    "# The partial sum of [1, 2, 3] would be [1, 1+2, 1+2+3] = [1, 3, 6].\n",
    "arr = np.array([1, 2, 3])\n",
    "\n",
    "newarr = np.cumsum(arr)\n",
    "\n",
    "print(newarr)"
   ]
  },
  {
   "cell_type": "markdown",
   "id": "23bc5d38-e3a6-46f2-bbc5-28dd4714d4e4",
   "metadata": {},
   "source": [
    "**Products**  "
   ]
  },
  {
   "cell_type": "code",
   "execution_count": 111,
   "id": "358b30de-82de-4ede-ad67-22dca292af51",
   "metadata": {},
   "outputs": [
    {
     "name": "stdout",
     "output_type": "stream",
     "text": [
      "24\n"
     ]
    }
   ],
   "source": [
    "import numpy as np\n",
    "\n",
    "arr = np.array([1, 2, 3, 4])\n",
    "\n",
    "x = np.prod(arr)\n",
    "# 1*2*3*4 = 24\n",
    "print(x)"
   ]
  },
  {
   "cell_type": "code",
   "execution_count": 112,
   "id": "702f01f0-792b-4285-adf1-7983bfd24cd9",
   "metadata": {},
   "outputs": [
    {
     "name": "stdout",
     "output_type": "stream",
     "text": [
      "40320\n"
     ]
    }
   ],
   "source": [
    "import numpy as np\n",
    "\n",
    "arr1 = np.array([1, 2, 3, 4])\n",
    "arr2 = np.array([5, 6, 7, 8])\n",
    "\n",
    "x = np.prod([arr1, arr2])\n",
    "\n",
    "print(x)"
   ]
  },
  {
   "cell_type": "code",
   "execution_count": 113,
   "id": "bf831c11-14cd-40b3-bf55-b70fcfb6b202",
   "metadata": {},
   "outputs": [
    {
     "name": "stdout",
     "output_type": "stream",
     "text": [
      "[  24 1680]\n"
     ]
    }
   ],
   "source": [
    "import numpy as np\n",
    "\n",
    "arr1 = np.array([1, 2, 3, 4])\n",
    "arr2 = np.array([5, 6, 7, 8])\n",
    "\n",
    "newarr = np.prod([arr1, arr2], axis=1)\n",
    "# 1*2*3*4  5*6*7*8\n",
    "print(newarr)"
   ]
  },
  {
   "cell_type": "code",
   "execution_count": 114,
   "id": "42d8e225-0a9c-4631-88e6-6999f8239302",
   "metadata": {},
   "outputs": [
    {
     "name": "stdout",
     "output_type": "stream",
     "text": [
      "[ 5 12 21 32]\n"
     ]
    }
   ],
   "source": [
    "import numpy as np\n",
    "\n",
    "arr1 = np.array([1, 2, 3, 4])\n",
    "arr2 = np.array([5, 6, 7, 8])\n",
    "\n",
    "newarr = np.prod([arr1, arr2], axis=0)\n",
    "# 1*5 2*6 3*7 4*8\n",
    "print(newarr)"
   ]
  },
  {
   "cell_type": "markdown",
   "id": "c91d33b4-cb22-41c9-ad73-45fd81fe16ea",
   "metadata": {},
   "source": [
    "**Cummulative Product**  "
   ]
  },
  {
   "cell_type": "code",
   "execution_count": 115,
   "id": "080143f9-27a4-42cc-ba3b-80a194ef348a",
   "metadata": {},
   "outputs": [
    {
     "name": "stdout",
     "output_type": "stream",
     "text": [
      "[   5   30  210 1680]\n"
     ]
    }
   ],
   "source": [
    "import numpy as np\n",
    "\n",
    "arr = np.array([5, 6, 7, 8])\n",
    "\n",
    "newarr = np.cumprod(arr)\n",
    "# 5 5*6 5*6*7 5*6*7*8\n",
    "print(newarr)"
   ]
  },
  {
   "cell_type": "markdown",
   "id": "831dcc6c-1b77-48ae-b44e-60cd3965d1cf",
   "metadata": {},
   "source": [
    "**Differences**  "
   ]
  },
  {
   "cell_type": "code",
   "execution_count": 116,
   "id": "570c0328-416f-4304-b418-308768b0aa71",
   "metadata": {},
   "outputs": [
    {
     "name": "stdout",
     "output_type": "stream",
     "text": [
      "[  5  10 -20]\n"
     ]
    }
   ],
   "source": [
    "import numpy as np\n",
    "\n",
    "arr = np.array([10, 15, 25, 5])\n",
    "\n",
    "newarr = np.diff(arr)\n",
    "# 15-10=5, 25-15=10, and 5-25=-20\n",
    "print(newarr)"
   ]
  },
  {
   "cell_type": "code",
   "execution_count": 117,
   "id": "bfe55c17-34fb-48d8-801a-efbccf0a4b24",
   "metadata": {},
   "outputs": [
    {
     "name": "stdout",
     "output_type": "stream",
     "text": [
      "[  5 -30]\n"
     ]
    }
   ],
   "source": [
    "import numpy as np\n",
    "\n",
    "arr = np.array([10, 15, 25, 5])\n",
    "\n",
    "newarr = np.diff(arr, n=2)\n",
    "\n",
    "# 15-10=5, 25-15=10, and 5-25=-20\n",
    "# than 10-5=5 and -20-10=-30\n",
    "print(newarr)"
   ]
  },
  {
   "cell_type": "markdown",
   "id": "b5a8027e-0c69-4375-9c66-5d5fd3750d9f",
   "metadata": {},
   "source": [
    "**LCM (Lowest Common Multiple)**  "
   ]
  },
  {
   "cell_type": "code",
   "execution_count": 118,
   "id": "6ffc78c1-f785-43d2-92fa-921aa511ae51",
   "metadata": {},
   "outputs": [
    {
     "name": "stdout",
     "output_type": "stream",
     "text": [
      "12\n"
     ]
    }
   ],
   "source": [
    "import numpy as np\n",
    "\n",
    "num1 = 4\n",
    "num2 = 6\n",
    "\n",
    "x = np.lcm(num1, num2)\n",
    "\n",
    "print(x)"
   ]
  },
  {
   "cell_type": "code",
   "execution_count": 119,
   "id": "411373fb-4de3-486f-843d-0c48170850ed",
   "metadata": {},
   "outputs": [
    {
     "name": "stdout",
     "output_type": "stream",
     "text": [
      "18\n"
     ]
    }
   ],
   "source": [
    "import numpy as np\n",
    "\n",
    "arr = np.array([3, 6, 9])\n",
    "\n",
    "x = np.lcm.reduce(arr)\n",
    "\n",
    "print(x)"
   ]
  },
  {
   "cell_type": "code",
   "execution_count": 120,
   "id": "be98b98a-22b0-4b9f-a894-0b1b947b9f8e",
   "metadata": {},
   "outputs": [
    {
     "name": "stdout",
     "output_type": "stream",
     "text": [
      "[ 1  2  3  4  5  6  7  8  9 10]\n",
      "2520\n"
     ]
    }
   ],
   "source": [
    "import numpy as np\n",
    "\n",
    "# LCM of all values of an array where the array contains all integers from 1 to 10:\n",
    "arr = np.arange(1, 11)\n",
    "\n",
    "print(arr)\n",
    "x = np.lcm.reduce(arr)\n",
    "\n",
    "print(x)"
   ]
  },
  {
   "cell_type": "markdown",
   "id": "f4236efa-d58a-417c-a123-81b821c46b52",
   "metadata": {},
   "source": [
    "**GCD (Greatest Common Denominator)**  "
   ]
  },
  {
   "cell_type": "code",
   "execution_count": 121,
   "id": "5b9b88c4-c2dc-4196-8974-d2b60cfa72d7",
   "metadata": {},
   "outputs": [
    {
     "name": "stdout",
     "output_type": "stream",
     "text": [
      "3\n"
     ]
    }
   ],
   "source": [
    "import numpy as np\n",
    "\n",
    "num1 = 6\n",
    "num2 = 9\n",
    "\n",
    "x = np.gcd(num1, num2)\n",
    "\n",
    "print(x)"
   ]
  },
  {
   "cell_type": "code",
   "execution_count": 122,
   "id": "e71a58a8-791f-4ddc-a0ff-e692abfb5b79",
   "metadata": {},
   "outputs": [
    {
     "name": "stdout",
     "output_type": "stream",
     "text": [
      "4\n"
     ]
    }
   ],
   "source": [
    "import numpy as np\n",
    "\n",
    "arr = np.array([20, 8, 32, 36, 16])\n",
    "\n",
    "x = np.gcd.reduce(arr)\n",
    "\n",
    "print(x)"
   ]
  },
  {
   "cell_type": "markdown",
   "id": "81dad0f8-415f-451d-a24c-f9beefbe8d24",
   "metadata": {},
   "source": [
    "**Trigonometric Functions**  \n",
    "NumPy provides the ufuncs sin(), cos() and tan() that take values in radians and produce the corresponding sin, cos and tan values."
   ]
  },
  {
   "cell_type": "code",
   "execution_count": 123,
   "id": "cc03f6c7-0903-47a1-8213-9f3ff53fd075",
   "metadata": {},
   "outputs": [
    {
     "name": "stdout",
     "output_type": "stream",
     "text": [
      "1.0\n"
     ]
    }
   ],
   "source": [
    "import numpy as np\n",
    "\n",
    "x = np.sin(np.pi/2)\n",
    "\n",
    "print(x)"
   ]
  },
  {
   "cell_type": "code",
   "execution_count": 124,
   "id": "e48ed9ad-f4bd-4dca-ae12-bb95e889c394",
   "metadata": {},
   "outputs": [
    {
     "name": "stdout",
     "output_type": "stream",
     "text": [
      "[1.         0.8660254  0.70710678 0.58778525]\n"
     ]
    }
   ],
   "source": [
    "import numpy as np\n",
    "\n",
    "arr = np.array([np.pi/2, np.pi/3, np.pi/4, np.pi/5])\n",
    "\n",
    "x = np.sin(arr)\n",
    "\n",
    "print(x)"
   ]
  },
  {
   "cell_type": "markdown",
   "id": "cf473310-c769-4e45-9476-84347940b58a",
   "metadata": {},
   "source": [
    "**Convert Degrees Into Radians**  \n",
    "By default all of the trigonometric functions take radians as parameters but we can convert radians to degrees and vice versa as well in NumPy."
   ]
  },
  {
   "cell_type": "code",
   "execution_count": 125,
   "id": "69de9be8-0bee-4ac4-ace3-646544734918",
   "metadata": {},
   "outputs": [
    {
     "name": "stdout",
     "output_type": "stream",
     "text": [
      "[1.         0.8660254  0.70710678 0.58778525]\n",
      "[ 1.0000000e+00  1.2246468e-16 -1.0000000e+00 -2.4492936e-16]\n"
     ]
    }
   ],
   "source": [
    "import numpy as np\n",
    "\n",
    "arr = np.array([90, 180, 270, 360])\n",
    "\n",
    "radian = np.deg2rad(arr)\n",
    "sinx = np.sin(radian)\n",
    "print(x)\n",
    "print(sinx)"
   ]
  },
  {
   "cell_type": "code",
   "execution_count": 126,
   "id": "b2dcb5dd-7481-4bd0-a966-a0a742db9a73",
   "metadata": {},
   "outputs": [
    {
     "name": "stdout",
     "output_type": "stream",
     "text": [
      "[ 90. 180. 270. 360.]\n"
     ]
    }
   ],
   "source": [
    "import numpy as np\n",
    "\n",
    "arr = np.array([np.pi/2, np.pi, 1.5*np.pi, 2*np.pi])\n",
    "\n",
    "x = np.rad2deg(arr)\n",
    "\n",
    "print(x)"
   ]
  },
  {
   "cell_type": "markdown",
   "id": "59f2cf5d-d4ea-45ba-9ad0-2e67a19d5442",
   "metadata": {},
   "source": [
    "**Finding Angles**  \n",
    "Finding angles from values of sine, cos, tan. E.g. sin, cos and tan inverse (arcsin, arccos, arctan).\n",
    "\n",
    "NumPy provides ufuncs arcsin(), arccos() and arctan() that produce radian values for corresponding sin, cos and tan values given."
   ]
  },
  {
   "cell_type": "code",
   "execution_count": 127,
   "id": "3efe714e-9758-40f8-8911-305d90f50de0",
   "metadata": {},
   "outputs": [
    {
     "name": "stdout",
     "output_type": "stream",
     "text": [
      "1.5707963267948966\n"
     ]
    }
   ],
   "source": [
    "import numpy as np\n",
    "\n",
    "x = np.arcsin(1.0)\n",
    "\n",
    "print(x)"
   ]
  },
  {
   "cell_type": "code",
   "execution_count": 128,
   "id": "47f5a210-30dd-444d-89cb-3c59c989da74",
   "metadata": {},
   "outputs": [
    {
     "name": "stdout",
     "output_type": "stream",
     "text": [
      "[ 1.57079633 -1.57079633  0.10016742]\n"
     ]
    }
   ],
   "source": [
    "import numpy as np\n",
    "\n",
    "arr = np.array([1, -1, 0.1])\n",
    "\n",
    "x = np.arcsin(arr)\n",
    "\n",
    "print(x)"
   ]
  },
  {
   "cell_type": "markdown",
   "id": "a8706ec3-7f62-412d-ba5e-63c351388f50",
   "metadata": {},
   "source": [
    "**Hypotenues**  "
   ]
  },
  {
   "cell_type": "code",
   "execution_count": 129,
   "id": "1d4f26cd-3218-4b65-85ea-68ec3711da94",
   "metadata": {},
   "outputs": [
    {
     "name": "stdout",
     "output_type": "stream",
     "text": [
      "5.0\n"
     ]
    }
   ],
   "source": [
    "import numpy as np\n",
    "\n",
    "base = 3\n",
    "perp = 4\n",
    "\n",
    "x = np.hypot(base, perp)\n",
    "\n",
    "print(x)"
   ]
  },
  {
   "cell_type": "markdown",
   "id": "12253135-ce95-41ca-a554-8df0d5c0eee3",
   "metadata": {},
   "source": [
    "**Hyperbolic Functions**  \n",
    "NumPy provides the ufuncs sinh(), cosh() and tanh() that take values in radians and produce the corresponding sinh, cosh and tanh values."
   ]
  },
  {
   "cell_type": "code",
   "execution_count": 130,
   "id": "f339cca6-1dbd-43f3-8ba6-7a38530e0336",
   "metadata": {},
   "outputs": [
    {
     "name": "stdout",
     "output_type": "stream",
     "text": [
      "2.3012989023072947\n"
     ]
    }
   ],
   "source": [
    "import numpy as np\n",
    "\n",
    "x = np.sinh(np.pi/2)\n",
    "\n",
    "print(x)"
   ]
  },
  {
   "cell_type": "code",
   "execution_count": 131,
   "id": "9cc95311-9558-4e94-99fd-57f6628ce8b6",
   "metadata": {},
   "outputs": [
    {
     "name": "stdout",
     "output_type": "stream",
     "text": [
      "[2.50917848 1.60028686 1.32460909 1.20397209]\n"
     ]
    }
   ],
   "source": [
    "import numpy as np\n",
    "\n",
    "arr = np.array([np.pi/2, np.pi/3, np.pi/4, np.pi/5])\n",
    "\n",
    "x = np.cosh(arr)\n",
    "\n",
    "print(x)"
   ]
  },
  {
   "cell_type": "markdown",
   "id": "8d97a7b0-577d-47bd-9fc3-3a82ad36265d",
   "metadata": {},
   "source": [
    "**Finding Angles from Hyperbolic**  \n",
    "Finding angles from values of hyperbolic sine, cos, tan. E.g. sinh, cosh and tanh inverse (arcsinh, arccosh, arctanh).\n",
    "\n",
    "Numpy provides ufuncs arcsinh(), arccosh() and arctanh() that produce radian values for corresponding sinh, cosh and tanh values given."
   ]
  },
  {
   "cell_type": "code",
   "execution_count": 132,
   "id": "fa0b4ecc-668d-4297-b990-8f00d2f4c3c9",
   "metadata": {},
   "outputs": [
    {
     "name": "stdout",
     "output_type": "stream",
     "text": [
      "0.881373587019543\n"
     ]
    }
   ],
   "source": [
    "import numpy as np\n",
    "\n",
    "x = np.arcsinh(1.0)\n",
    "\n",
    "print(x)"
   ]
  },
  {
   "cell_type": "code",
   "execution_count": 133,
   "id": "e9793dee-cd03-4e92-b421-256d52c8b5ae",
   "metadata": {},
   "outputs": [
    {
     "name": "stdout",
     "output_type": "stream",
     "text": [
      "[0.10033535 0.20273255 0.54930614]\n"
     ]
    }
   ],
   "source": [
    "import numpy as np\n",
    "\n",
    "arr = np.array([0.1, 0.2, 0.5])\n",
    "\n",
    "x = np.arctanh(arr)\n",
    "\n",
    "print(x)"
   ]
  },
  {
   "cell_type": "markdown",
   "id": "1e8b1592-154c-4603-a231-e18b2f90b59b",
   "metadata": {},
   "source": [
    "# NumPy Set Operations"
   ]
  },
  {
   "cell_type": "markdown",
   "id": "10c63b48-8f70-4a4a-b34a-c3edb930d852",
   "metadata": {},
   "source": [
    "**Create Sets in NumPy**  \n",
    "We can use NumPy's unique() method to find unique elements from any array. E.g. create a set array, but remember that the set arrays should only be 1-D arrays.\n",
    "\n",
    "**Example**  \n",
    "Convert following array with repeated elements to a set:"
   ]
  },
  {
   "cell_type": "code",
   "execution_count": 134,
   "id": "b1ca4801-8ea6-412f-990f-ed568c84d7f8",
   "metadata": {},
   "outputs": [
    {
     "name": "stdout",
     "output_type": "stream",
     "text": [
      "[1 2 3 4 5 6 7]\n"
     ]
    }
   ],
   "source": [
    "# Convert following array with repeated elements to a set:\n",
    "\n",
    "import numpy as np\n",
    "\n",
    "arr = np.array([1, 1, 1, 2, 3, 4, 5, 5, 6, 7])\n",
    "\n",
    "x = np.unique(arr)\n",
    "\n",
    "print(x)"
   ]
  },
  {
   "cell_type": "markdown",
   "id": "e453c369-dac5-4a19-a68f-b4701a27eae1",
   "metadata": {},
   "source": [
    "**Finding Union**  \n",
    "To find the unique values of two arrays, use the union1d() method."
   ]
  },
  {
   "cell_type": "code",
   "execution_count": 135,
   "id": "71208e78-3691-4d75-97a3-b5880be86e19",
   "metadata": {},
   "outputs": [
    {
     "name": "stdout",
     "output_type": "stream",
     "text": [
      "[1 2 3 4 5 6]\n"
     ]
    }
   ],
   "source": [
    "# Find union of the following two set arrays:\n",
    "\n",
    "import numpy as np\n",
    "\n",
    "arr1 = np.array([1, 2, 3, 4])\n",
    "arr2 = np.array([3, 4, 5, 6])\n",
    "\n",
    "newarr = np.union1d(arr1, arr2)\n",
    "\n",
    "print(newarr)"
   ]
  },
  {
   "cell_type": "markdown",
   "id": "2c4fbdf9-8377-49e5-b0db-069e3a1722f7",
   "metadata": {},
   "source": [
    "**Finding Intersection**  \n",
    "To find only the values that are present in both arrays, use the intersect1d() method."
   ]
  },
  {
   "cell_type": "code",
   "execution_count": 136,
   "id": "4c479f53-5045-4839-a2a9-a10498b844f7",
   "metadata": {},
   "outputs": [
    {
     "name": "stdout",
     "output_type": "stream",
     "text": [
      "[3 4]\n"
     ]
    }
   ],
   "source": [
    "# Find intersection of the following two set arrays:\n",
    "\n",
    "import numpy as np\n",
    "\n",
    "arr1 = np.array([1, 2, 3, 4])\n",
    "arr2 = np.array([3, 4, 5, 6])\n",
    "\n",
    "newarr = np.intersect1d(arr1, arr2, assume_unique=True)\n",
    "\n",
    "print(newarr)"
   ]
  },
  {
   "cell_type": "markdown",
   "id": "357c010a-04e4-4e88-9d93-b72dbc19fabc",
   "metadata": {},
   "source": [
    ">Note: the intersect1d() method takes an optional argument assume_unique, which if set to True can speed up computation. It should always be set to True when dealing with sets.\n",
    "\n",
    "**Finding Difference**  \n",
    "To find only the values in the first set that is NOT present in the seconds set, use the setdiff1d() method."
   ]
  },
  {
   "cell_type": "code",
   "execution_count": 137,
   "id": "aa771c9d-9e27-480e-8fda-5fe491b54a31",
   "metadata": {},
   "outputs": [
    {
     "name": "stdout",
     "output_type": "stream",
     "text": [
      "[1 2]\n"
     ]
    }
   ],
   "source": [
    "# Find the difference of the set1 from set2:\n",
    "\n",
    "import numpy as np\n",
    "\n",
    "set1 = np.array([1, 2, 3, 4])\n",
    "set2 = np.array([3, 4, 5, 6])\n",
    "\n",
    "newarr = np.setdiff1d(set1, set2, assume_unique=True)\n",
    "\n",
    "print(newarr)"
   ]
  },
  {
   "cell_type": "markdown",
   "id": "8a7679aa-9fcb-40e1-bf16-55a23f8df744",
   "metadata": {},
   "source": [
    ">Note: the setdiff1d() method takes an optional argument assume_unique, which if set to True can speed up computation. It should always be set to True when dealing with sets.\n",
    "\n",
    "**Finding Symmetric Difference**  \n",
    "To find only the values that are NOT present in BOTH sets, use the setxor1d() method."
   ]
  },
  {
   "cell_type": "code",
   "execution_count": 138,
   "id": "ca6f491f-97f3-4532-84ee-26b9cb54f480",
   "metadata": {},
   "outputs": [
    {
     "name": "stdout",
     "output_type": "stream",
     "text": [
      "[1 2 5 6]\n"
     ]
    }
   ],
   "source": [
    "# Find the symmetric difference of the set1 and set2:\n",
    "\n",
    "import numpy as np\n",
    "\n",
    "set1 = np.array([1, 2, 3, 4])\n",
    "set2 = np.array([3, 4, 5, 6])\n",
    "\n",
    "newarr = np.setxor1d(set1, set2, assume_unique=True)\n",
    "\n",
    "print(newarr)"
   ]
  },
  {
   "cell_type": "markdown",
   "id": "2245e57a-64bd-4b24-907c-fea69a39b441",
   "metadata": {},
   "source": [
    ">Note: the setxor1d() method takes an optional argument assume_unique, which if set to True can speed up computation. It should always be set to True when dealing with sets."
   ]
  },
  {
   "cell_type": "markdown",
   "id": "3c705789-7753-47f7-b856-c38a0bbd1caf",
   "metadata": {},
   "source": [
    "# Random Numbers in NumPy"
   ]
  },
  {
   "cell_type": "markdown",
   "id": "7ac7d3a9-a83b-450d-994c-adcddf211877",
   "metadata": {},
   "source": [
    "**What is a Random Number?**  \n",
    "Random number does NOT mean a different number every time. Random means something that can not be predicted logically.\n",
    "\n",
    "**Pseudo Random and True Random.**  \n",
    "Computers work on programs, and programs are definitive set of instructions. So it means there must be some algorithm to generate a random number as well.\n",
    "\n",
    "If there is a program to generate random number it can be predicted, thus it is not truly random.\n",
    "\n",
    "Random numbers generated through a generation algorithm are called pseudo random.\n",
    "\n",
    "Can we make truly random numbers?\n",
    "\n",
    "Yes. In order to generate a truly random number on our computers we need to get the random data from some outside source. This outside source is generally our keystrokes, mouse movements, data on network etc.\n",
    "\n",
    "We do not need truly random numbers, unless it is related to security (e.g. encryption keys) or the basis of application is the randomness (e.g. Digital roulette wheels).\n",
    "\n",
    "In this tutorial we will be using pseudo random numbers.\n",
    "\n",
    "**Generate Random Number**  \n",
    "NumPy offers the random module to work with random numbers.\n",
    "\n",
    "**Example**  \n",
    "Generate a random integer from 0 to 100:"
   ]
  },
  {
   "cell_type": "code",
   "execution_count": 139,
   "id": "6062c694-3ebc-4f60-9643-59e28ced6d54",
   "metadata": {},
   "outputs": [
    {
     "name": "stdout",
     "output_type": "stream",
     "text": [
      "65\n"
     ]
    }
   ],
   "source": [
    "from numpy import random\n",
    "x = random.randint(100)\n",
    "print(x)"
   ]
  },
  {
   "cell_type": "markdown",
   "id": "330e624b-8178-4d66-a722-5e63d1b77874",
   "metadata": {},
   "source": [
    "**Generate Random Float**  \n",
    "The random module's rand() method returns a random float between 0 and 1.\n",
    "\n",
    "**Example**  \n",
    "Generate a random float from 0 to 1:"
   ]
  },
  {
   "cell_type": "code",
   "execution_count": 140,
   "id": "e299c12e-8f86-4abc-86a5-6508ef2d307e",
   "metadata": {},
   "outputs": [
    {
     "name": "stdout",
     "output_type": "stream",
     "text": [
      "0.5224037730376464\n"
     ]
    }
   ],
   "source": [
    "from numpy import random\n",
    "x = random.rand()\n",
    "print(x)"
   ]
  },
  {
   "cell_type": "markdown",
   "id": "44d0306c-14f9-4764-a063-502bc2514671",
   "metadata": {},
   "source": [
    "**Generate Random Array**  \n",
    "In NumPy we work with arrays, and you can use the two methods from the above examples to make random arrays.\n",
    "\n",
    "**Integers**  \n",
    "The randint() method takes a size parameter where you can specify the shape of an array.\n",
    "\n",
    "**Example**  \n",
    "Generate a 1-D array containing 5 random integers from 0 to 100:"
   ]
  },
  {
   "cell_type": "code",
   "execution_count": 141,
   "id": "5f577f03-9a21-4cd7-9f21-72d434caff8f",
   "metadata": {},
   "outputs": [
    {
     "name": "stdout",
     "output_type": "stream",
     "text": [
      "[43 96 50 77 33]\n"
     ]
    }
   ],
   "source": [
    "from numpy import random\n",
    "x=random.randint(100, size=(5))\n",
    "print(x)"
   ]
  },
  {
   "cell_type": "markdown",
   "id": "b2d69b73-4235-47c1-9ca3-fd961f80af4e",
   "metadata": {},
   "source": [
    "**Example**  \n",
    "Generate a 2-D array with 3 rows, each row containing 5 random integers from 20 to 100:"
   ]
  },
  {
   "cell_type": "code",
   "execution_count": 142,
   "id": "879de9c8-fcaa-457c-b2d6-4289337ee8ba",
   "metadata": {},
   "outputs": [
    {
     "name": "stdout",
     "output_type": "stream",
     "text": [
      "[[79 88 83 81 66]\n",
      " [96 20 40 25 87]\n",
      " [30 29 77 93 92]]\n"
     ]
    }
   ],
   "source": [
    "from numpy import random\n",
    "x = random.randint(20, 100, size=(3, 5))\n",
    "print(x)"
   ]
  },
  {
   "cell_type": "markdown",
   "id": "f2170e91-295e-413b-ad6c-fd8d03cb6e3a",
   "metadata": {},
   "source": [
    "**Example**  \n",
    "Generate a 2-D array with 3 rows, each row containing 5 random numbers bewteen 20 to 100, datatype secified:"
   ]
  },
  {
   "cell_type": "code",
   "execution_count": 143,
   "id": "8ef6ff11-a1d1-4fd8-b827-53a834ffa9d0",
   "metadata": {},
   "outputs": [
    {
     "name": "stdout",
     "output_type": "stream",
     "text": [
      "[[31 77 99 35 60]\n",
      " [31 33 34 25 29]\n",
      " [85 72 71 82 58]]\n"
     ]
    }
   ],
   "source": [
    "from numpy import random\n",
    "x = random.randint(20, 100, size=(3,5), dtype=int)\n",
    "print(x)"
   ]
  },
  {
   "cell_type": "markdown",
   "id": "0d20ce89-0e5f-4060-b5cc-4d6c1228feae",
   "metadata": {},
   "source": [
    "**Floats**  \n",
    "The rand() method also allows you to specify the shape of the array.\n",
    "\n",
    "**Example**  \n",
    "Generate a 1-D array containing 5 random floats:"
   ]
  },
  {
   "cell_type": "code",
   "execution_count": 144,
   "id": "aa9313c7-44c0-4d13-9b75-605d16238feb",
   "metadata": {},
   "outputs": [
    {
     "name": "stdout",
     "output_type": "stream",
     "text": [
      "[0.92364061 0.65249206 0.55934884 0.18718157 0.78386144]\n"
     ]
    }
   ],
   "source": [
    "from numpy import random\n",
    "x = random.rand(5)\n",
    "print(x)"
   ]
  },
  {
   "cell_type": "markdown",
   "id": "2e68daf2-dafd-4d35-9005-95ca7cd92131",
   "metadata": {},
   "source": [
    "**Example**  \n",
    "Generate a 2-D array with 3 rows, each row containing 5 random numbers:"
   ]
  },
  {
   "cell_type": "code",
   "execution_count": 145,
   "id": "023e0c40-7872-44e5-898c-1bb5f7538fd8",
   "metadata": {},
   "outputs": [
    {
     "name": "stdout",
     "output_type": "stream",
     "text": [
      "[[0.72710641 0.37469921 0.66721734 0.04412079 0.7266291 ]\n",
      " [0.62238363 0.80082464 0.80889458 0.21972433 0.0208863 ]\n",
      " [0.5848709  0.11833331 0.86796367 0.56210421 0.99357744]]\n"
     ]
    }
   ],
   "source": [
    "from numpy import random\n",
    "x = random.rand(3, 5)\n",
    "print(x)"
   ]
  },
  {
   "cell_type": "markdown",
   "id": "c56013bb-7f40-4fac-b23a-03e45adbda67",
   "metadata": {},
   "source": [
    "**Generate Random Number From Array**  \n",
    "The choice() method allows you to generate a random value based on an array of values.\n",
    "\n",
    "The choice() method takes an array as a parameter and randomly returns one of the values.\n",
    "\n",
    "**Example**  \n",
    "Return one of the values in an array:"
   ]
  },
  {
   "cell_type": "code",
   "execution_count": 146,
   "id": "2b034116-c640-46de-9c11-154ddefe2647",
   "metadata": {},
   "outputs": [
    {
     "name": "stdout",
     "output_type": "stream",
     "text": [
      "9\n"
     ]
    }
   ],
   "source": [
    "from numpy import random\n",
    "x = random.choice([3, 5, 7, 9])\n",
    "print(x)"
   ]
  },
  {
   "cell_type": "markdown",
   "id": "e40c23bf-81fe-42f7-a547-fb294ae536a7",
   "metadata": {},
   "source": [
    "The choice() method also allows you to return an array of values.\n",
    "\n",
    "Add a size parameter to specify the shape of the array.\n",
    "\n",
    "**Example**  \n",
    "Generate a 2-D array that consists of the values in the array parameter (3, 5, 7, and 9):"
   ]
  },
  {
   "cell_type": "code",
   "execution_count": 147,
   "id": "e3fd92d0-bb6e-4213-83fe-3dd602a0d277",
   "metadata": {},
   "outputs": [
    {
     "name": "stdout",
     "output_type": "stream",
     "text": [
      "[[3 5 9 7 5]\n",
      " [5 3 5 5 9]\n",
      " [3 5 5 7 9]]\n"
     ]
    }
   ],
   "source": [
    "from numpy import random\n",
    "x = random.choice([3, 5, 7, 9], size=(3, 5))\n",
    "print(x)"
   ]
  },
  {
   "cell_type": "markdown",
   "id": "08b42ac1-7685-4441-bfb5-9c4542837bd9",
   "metadata": {},
   "source": [
    "# Data Distribution"
   ]
  },
  {
   "cell_type": "markdown",
   "id": "e99c8259-3981-453e-8cff-0c8095031b9e",
   "metadata": {},
   "source": [
    "**What is Data Distribution?**  \n",
    "Data Distribution is a list of all possible values, and how often each value occurs.\n",
    "\n",
    "Such lists are important when working with statistics and data science.\n",
    "\n",
    "The random module offer methods that returns randomly generated data distributions.\n",
    "\n",
    "**Random Distribution**  \n",
    "A random distribution is a set of random numbers that follow a certain probability density function.\n",
    "\n",
    ">Probability Density Function: A function that describes a continuous probability. i.e. probability of all values in an array.\n",
    "\n",
    "We can generate random numbers based on defined probabilities using the choice() method of the random module.\n",
    "\n",
    "The choice() method allows us to specify the probability for each value.\n",
    "\n",
    "The probability is set by a number between 0 and 1, where 0 means that the value will never occur and 1 means that the value will always occur.\n",
    "\n",
    "**Example**  \n",
    "Generate a 1-D array containing 100 values, where each value has to be 3, 5, 7 or 9.\n",
    "\n",
    "The probability for the value to be 3 is set to be 0.1  \n",
    "The probability for the value to be 5 is set to be 0.3  \n",
    "The probability for the value to be 7 is set to be 0.6  \n",
    "The probability for the value to be 9 is set to be 0"
   ]
  },
  {
   "cell_type": "code",
   "execution_count": 148,
   "id": "afb4d400-efcf-45ec-9ea1-3e3161ed0d6a",
   "metadata": {},
   "outputs": [
    {
     "name": "stdout",
     "output_type": "stream",
     "text": [
      "[7 7 7 7 7 7 3 5 7 5]\n"
     ]
    }
   ],
   "source": [
    "from numpy import random\n",
    "\n",
    "x = random.choice([3, 5, 7, 9], p=[0.1, 0.3, 0.6, 0.0], size=(10))\n",
    "\n",
    "print(x)"
   ]
  },
  {
   "cell_type": "markdown",
   "id": "0204a44c-c905-48ec-b2ae-0f48871a1dd1",
   "metadata": {},
   "source": [
    ">The sum of all probability numbers should be 1.\n",
    "\n",
    "Even if you run the example above 100 times, the value 9 will never occur.\n",
    "\n",
    "You can return arrays of any shape and size by specifying the shape in the size parameter.\n",
    "\n",
    "**Example**  \n",
    "Same example as above, but return a 2-D array with 3 rows, each containing 5 values."
   ]
  },
  {
   "cell_type": "code",
   "execution_count": 149,
   "id": "faec2662-01d3-4de7-9986-d0b2d22b3b7b",
   "metadata": {},
   "outputs": [
    {
     "name": "stdout",
     "output_type": "stream",
     "text": [
      "[[7 5 3 5 7]\n",
      " [5 5 7 7 7]\n",
      " [7 7 5 3 7]]\n"
     ]
    }
   ],
   "source": [
    "from numpy import random\n",
    "\n",
    "x = random.choice([3, 5, 7, 9], p=[0.1, 0.3, 0.6, 0.0], size=(3, 5))\n",
    "\n",
    "print(x)"
   ]
  },
  {
   "cell_type": "markdown",
   "id": "7cdfb587-7d2c-4858-ad97-52aae7856b6d",
   "metadata": {},
   "source": [
    "## Permutations"
   ]
  },
  {
   "cell_type": "markdown",
   "id": "ce0444ca-7ca3-4f8c-8313-d1c31512cb2e",
   "metadata": {},
   "source": [
    "**Random Permutations of Elements**  \n",
    "A permutation refers to an arrangement of elements. e.g. [3, 2, 1] is a permutation of [1, 2, 3] and vice-versa.\n",
    "\n",
    "The NumPy Random module provides two methods for this: shuffle() and permutation().\n",
    "\n",
    "**Shuffling Arrays**  \n",
    "Shuffle means changing arrangement of elements in-place. i.e. in the array itself.\n",
    "\n",
    "**Example**  \n",
    "Randomly shuffle elements of following array:"
   ]
  },
  {
   "cell_type": "code",
   "execution_count": 150,
   "id": "696a5dc8-8c6e-4c66-bca4-2c746ab4f5fc",
   "metadata": {},
   "outputs": [
    {
     "name": "stdout",
     "output_type": "stream",
     "text": [
      "[3 2 1 5 4]\n"
     ]
    }
   ],
   "source": [
    "from numpy import random\n",
    "import numpy as np\n",
    "\n",
    "arr = np.array([1, 2, 3, 4, 5])\n",
    "\n",
    "random.shuffle(arr)\n",
    "\n",
    "print(arr)"
   ]
  },
  {
   "cell_type": "markdown",
   "id": "d74e0ec7-8ee5-429d-9600-25110f23d273",
   "metadata": {},
   "source": [
    ">The shuffle() method makes changes to the original array.\n",
    "\n",
    "**Generating Permutation of Arrays**  \n",
    "**Example**  \n",
    "Generate a random permutation of elements of following array:"
   ]
  },
  {
   "cell_type": "code",
   "execution_count": 151,
   "id": "fc7e20e4-8db5-4450-95e0-5f9e4dab6a1d",
   "metadata": {},
   "outputs": [
    {
     "name": "stdout",
     "output_type": "stream",
     "text": [
      "[2 5 1 3 4]\n"
     ]
    }
   ],
   "source": [
    "from numpy import random\n",
    "import numpy as np\n",
    "\n",
    "arr = np.array([1, 2, 3, 4, 5])\n",
    "\n",
    "print(random.permutation(arr))"
   ]
  },
  {
   "cell_type": "markdown",
   "id": "61669c04-461f-4be5-ac05-4fcdce4b53c1",
   "metadata": {},
   "source": [
    ">The permutation() method returns a re-arranged array (and leaves the original array un-changed)."
   ]
  },
  {
   "cell_type": "markdown",
   "id": "5d30f44a-72fc-4ab0-b96a-d935c658cbe4",
   "metadata": {},
   "source": [
    "## Seaborn Library"
   ]
  },
  {
   "cell_type": "markdown",
   "id": "934a6ff9-d159-4934-aff3-cc5475e862d1",
   "metadata": {},
   "source": [
    "**Visualize Distributions With Seaborn**  \n",
    "Seaborn is a library that uses Matplotlib underneath to plot graphs. It will be used to visualize random distributions."
   ]
  },
  {
   "cell_type": "markdown",
   "id": "e28427da-4e0e-4dee-aa52-93be47b6c19d",
   "metadata": {},
   "source": [
    "**Install Seaborn**  \n",
    "If you have Python and PIP already installed on a system, install it using this command:\n",
    "\n",
    "pip install seaborn  \n",
    "If you use Jupyter, install Seaborn using this command:\n",
    "\n",
    "!pip install seaborn\n",
    "\n",
    "**Distplots**  \n",
    "Distplot stands for distribution plot, it takes as input an array and plots a curve corresponding to the distribution of points in the array.\n",
    "\n",
    "**Import Matplotlib**  \n",
    "Import the pyplot object of the Matplotlib module in your code using the following statement:"
   ]
  },
  {
   "cell_type": "code",
   "execution_count": 152,
   "id": "719f9d00-6ccb-452e-bde9-0f9760bda3b9",
   "metadata": {},
   "outputs": [],
   "source": [
    "import matplotlib.pyplot as plt"
   ]
  },
  {
   "cell_type": "markdown",
   "id": "8f6859c1-13f1-4a24-b470-51e1c4b2395c",
   "metadata": {},
   "source": [
    "**Import Seaborn**  \n",
    "Import the Seaborn module in your code using the following statement:"
   ]
  },
  {
   "cell_type": "code",
   "execution_count": 153,
   "id": "4e398e6b-8260-45d5-9d21-f1781a1e8364",
   "metadata": {},
   "outputs": [],
   "source": [
    "import seaborn as sns"
   ]
  },
  {
   "cell_type": "markdown",
   "id": "8d593ab0-8113-4094-bd2f-e565a4f423ed",
   "metadata": {},
   "source": [
    "**Plotting a Displot**  "
   ]
  },
  {
   "cell_type": "code",
   "execution_count": 154,
   "id": "2d8a09ab-7849-41ee-8ca1-85616c5ed950",
   "metadata": {},
   "outputs": [
    {
     "data": {
      "image/png": "[encoded data removed]",
      "text/plain": [
       "<Figure size 500x500 with 1 Axes>"
      ]
     },
     "metadata": {},
     "output_type": "display_data"
    }
   ],
   "source": [
    "import matplotlib.pyplot as plt\n",
    "import seaborn as sns\n",
    "\n",
    "sns.displot([0, 1, 1, 2, 2, 2, 3, 4, 5])\n",
    "\n",
    "plt.show()"
   ]
  },
  {
   "cell_type": "markdown",
   "id": "bfe554e4-834c-450c-accd-253cd8b5c61e",
   "metadata": {},
   "source": [
    "**Plotting a Displot Without the Histogram**  \n",
    "**Example**  "
   ]
  },
  {
   "cell_type": "code",
   "execution_count": 155,
   "id": "33eefbd9-3116-489b-8589-b525a5323b34",
   "metadata": {},
   "outputs": [
    {
     "data": {
      "image/png": "[encoded data removed]",
      "text/plain": [
       "<Figure size 500x500 with 1 Axes>"
      ]
     },
     "metadata": {},
     "output_type": "display_data"
    }
   ],
   "source": [
    "import matplotlib.pyplot as plt\n",
    "import seaborn as sns\n",
    "\n",
    "sns.displot([0, 1, 2, 30, 40, 50], kind=\"kde\")\n",
    "\n",
    "plt.show()"
   ]
  },
  {
   "cell_type": "markdown",
   "id": "dfc9c383-9e97-4d0a-bccd-4e33113dd779",
   "metadata": {},
   "source": [
    "**Plotting a Histplot**  "
   ]
  },
  {
   "cell_type": "code",
   "execution_count": 156,
   "id": "cd2dcb1b-7813-457c-a4c6-b1b321dbf852",
   "metadata": {},
   "outputs": [
    {
     "data": {
      "text/plain": [
       "<Axes: xlabel='flipper_length_mm', ylabel='Count'>"
      ]
     },
     "execution_count": 156,
     "metadata": {},
     "output_type": "execute_result"
    },
    {
     "data": {
      "image/png": "[encoded data removed]",
      "text/plain": [
       "<Figure size 640x480 with 1 Axes>"
      ]
     },
     "metadata": {},
     "output_type": "display_data"
    }
   ],
   "source": [
    "import seaborn as sns\n",
    "sns.set_theme()\n",
    "df = sns.load_dataset(\"penguins\")\n",
    "\n",
    "sns.histplot(df[\"flipper_length_mm\"])"
   ]
  },
  {
   "cell_type": "code",
   "execution_count": 157,
   "id": "2e150d5b-fcb5-4f3c-80d8-928db524f4cc",
   "metadata": {},
   "outputs": [
    {
     "data": {
      "text/html": [
       "<div>\n",
       "<style scoped>\n",
       "    .dataframe tbody tr th:only-of-type {\n",
       "        vertical-align: middle;\n",
       "    }\n",
       "\n",
       "    .dataframe tbody tr th {\n",
       "        vertical-align: top;\n",
       "    }\n",
       "\n",
       "    .dataframe thead th {\n",
       "        text-align: right;\n",
       "    }\n",
       "</style>\n",
       "<table border=\"1\" class=\"dataframe\">\n",
       "  <thead>\n",
       "    <tr style=\"text-align: right;\">\n",
       "      <th></th>\n",
       "      <th>species</th>\n",
       "      <th>island</th>\n",
       "      <th>bill_length_mm</th>\n",
       "      <th>bill_depth_mm</th>\n",
       "      <th>flipper_length_mm</th>\n",
       "      <th>body_mass_g</th>\n",
       "      <th>sex</th>\n",
       "    </tr>\n",
       "  </thead>\n",
       "  <tbody>\n",
       "    <tr>\n",
       "      <th>0</th>\n",
       "      <td>Adelie</td>\n",
       "      <td>Torgersen</td>\n",
       "      <td>39.1</td>\n",
       "      <td>18.7</td>\n",
       "      <td>181.0</td>\n",
       "      <td>3750.0</td>\n",
       "      <td>Male</td>\n",
       "    </tr>\n",
       "    <tr>\n",
       "      <th>1</th>\n",
       "      <td>Adelie</td>\n",
       "      <td>Torgersen</td>\n",
       "      <td>39.5</td>\n",
       "      <td>17.4</td>\n",
       "      <td>186.0</td>\n",
       "      <td>3800.0</td>\n",
       "      <td>Female</td>\n",
       "    </tr>\n",
       "    <tr>\n",
       "      <th>2</th>\n",
       "      <td>Adelie</td>\n",
       "      <td>Torgersen</td>\n",
       "      <td>40.3</td>\n",
       "      <td>18.0</td>\n",
       "      <td>195.0</td>\n",
       "      <td>3250.0</td>\n",
       "      <td>Female</td>\n",
       "    </tr>\n",
       "    <tr>\n",
       "      <th>3</th>\n",
       "      <td>Adelie</td>\n",
       "      <td>Torgersen</td>\n",
       "      <td>NaN</td>\n",
       "      <td>NaN</td>\n",
       "      <td>NaN</td>\n",
       "      <td>NaN</td>\n",
       "      <td>NaN</td>\n",
       "    </tr>\n",
       "    <tr>\n",
       "      <th>4</th>\n",
       "      <td>Adelie</td>\n",
       "      <td>Torgersen</td>\n",
       "      <td>36.7</td>\n",
       "      <td>19.3</td>\n",
       "      <td>193.0</td>\n",
       "      <td>3450.0</td>\n",
       "      <td>Female</td>\n",
       "    </tr>\n",
       "    <tr>\n",
       "      <th>...</th>\n",
       "      <td>...</td>\n",
       "      <td>...</td>\n",
       "      <td>...</td>\n",
       "      <td>...</td>\n",
       "      <td>...</td>\n",
       "      <td>...</td>\n",
       "      <td>...</td>\n",
       "    </tr>\n",
       "    <tr>\n",
       "      <th>339</th>\n",
       "      <td>Gentoo</td>\n",
       "      <td>Biscoe</td>\n",
       "      <td>NaN</td>\n",
       "      <td>NaN</td>\n",
       "      <td>NaN</td>\n",
       "      <td>NaN</td>\n",
       "      <td>NaN</td>\n",
       "    </tr>\n",
       "    <tr>\n",
       "      <th>340</th>\n",
       "      <td>Gentoo</td>\n",
       "      <td>Biscoe</td>\n",
       "      <td>46.8</td>\n",
       "      <td>14.3</td>\n",
       "      <td>215.0</td>\n",
       "      <td>4850.0</td>\n",
       "      <td>Female</td>\n",
       "    </tr>\n",
       "    <tr>\n",
       "      <th>341</th>\n",
       "      <td>Gentoo</td>\n",
       "      <td>Biscoe</td>\n",
       "      <td>50.4</td>\n",
       "      <td>15.7</td>\n",
       "      <td>222.0</td>\n",
       "      <td>5750.0</td>\n",
       "      <td>Male</td>\n",
       "    </tr>\n",
       "    <tr>\n",
       "      <th>342</th>\n",
       "      <td>Gentoo</td>\n",
       "      <td>Biscoe</td>\n",
       "      <td>45.2</td>\n",
       "      <td>14.8</td>\n",
       "      <td>212.0</td>\n",
       "      <td>5200.0</td>\n",
       "      <td>Female</td>\n",
       "    </tr>\n",
       "    <tr>\n",
       "      <th>343</th>\n",
       "      <td>Gentoo</td>\n",
       "      <td>Biscoe</td>\n",
       "      <td>49.9</td>\n",
       "      <td>16.1</td>\n",
       "      <td>213.0</td>\n",
       "      <td>5400.0</td>\n",
       "      <td>Male</td>\n",
       "    </tr>\n",
       "  </tbody>\n",
       "</table>\n",
       "<p>344 rows × 7 columns</p>\n",
       "</div>"
      ],
      "text/plain": [
       "    species     island  bill_length_mm  bill_depth_mm  flipper_length_mm  \\\n",
       "0    Adelie  Torgersen            39.1           18.7              181.0   \n",
       "1    Adelie  Torgersen            39.5           17.4              186.0   \n",
       "2    Adelie  Torgersen            40.3           18.0              195.0   \n",
       "3    Adelie  Torgersen             NaN            NaN                NaN   \n",
       "4    Adelie  Torgersen            36.7           19.3              193.0   \n",
       "..      ...        ...             ...            ...                ...   \n",
       "339  Gentoo     Biscoe             NaN            NaN                NaN   \n",
       "340  Gentoo     Biscoe            46.8           14.3              215.0   \n",
       "341  Gentoo     Biscoe            50.4           15.7              222.0   \n",
       "342  Gentoo     Biscoe            45.2           14.8              212.0   \n",
       "343  Gentoo     Biscoe            49.9           16.1              213.0   \n",
       "\n",
       "     body_mass_g     sex  \n",
       "0         3750.0    Male  \n",
       "1         3800.0  Female  \n",
       "2         3250.0  Female  \n",
       "3            NaN     NaN  \n",
       "4         3450.0  Female  \n",
       "..           ...     ...  \n",
       "339          NaN     NaN  \n",
       "340       4850.0  Female  \n",
       "341       5750.0    Male  \n",
       "342       5200.0  Female  \n",
       "343       5400.0    Male  \n",
       "\n",
       "[344 rows x 7 columns]"
      ]
     },
     "execution_count": 157,
     "metadata": {},
     "output_type": "execute_result"
    }
   ],
   "source": [
    "df"
   ]
  },
  {
   "cell_type": "code",
   "execution_count": 158,
   "id": "57a4f603-edd4-431d-9675-75e35381290c",
   "metadata": {},
   "outputs": [
    {
     "data": {
      "text/plain": [
       "<Axes: xlabel='flipper_length_mm', ylabel='Density'>"
      ]
     },
     "execution_count": 158,
     "metadata": {},
     "output_type": "execute_result"
    },
    {
     "data": {
      "image/png": "[encoded data removed]",
      "text/plain": [
       "<Figure size 640x480 with 1 Axes>"
      ]
     },
     "metadata": {},
     "output_type": "display_data"
    }
   ],
   "source": [
    "sns.histplot(df[\"flipper_length_mm\"], kde=True, stat=\"density\")"
   ]
  },
  {
   "cell_type": "code",
   "execution_count": 159,
   "id": "81b40e7e-4a81-4e1f-b612-3a750eb480f9",
   "metadata": {},
   "outputs": [
    {
     "data": {
      "text/plain": [
       "['anagrams',\n",
       " 'anscombe',\n",
       " 'attention',\n",
       " 'brain_networks',\n",
       " 'car_crashes',\n",
       " 'diamonds',\n",
       " 'dots',\n",
       " 'dowjones',\n",
       " 'exercise',\n",
       " 'flights',\n",
       " 'fmri',\n",
       " 'geyser',\n",
       " 'glue',\n",
       " 'healthexp',\n",
       " 'iris',\n",
       " 'mpg',\n",
       " 'penguins',\n",
       " 'planets',\n",
       " 'seaice',\n",
       " 'taxis',\n",
       " 'tips',\n",
       " 'titanic']"
      ]
     },
     "execution_count": 159,
     "metadata": {},
     "output_type": "execute_result"
    }
   ],
   "source": [
    "sns.get_dataset_names()"
   ]
  },
  {
   "cell_type": "markdown",
   "id": "3305cf6a-fbbe-424e-a835-5a5d5f6e6fdb",
   "metadata": {},
   "source": [
    "## Normal Distribution"
   ]
  },
  {
   "cell_type": "markdown",
   "id": "23250775-ef1f-448b-89ab-886b3f113639",
   "metadata": {},
   "source": [
    "**Normal (Gaussian) Distribution**  \n",
    "The Normal Distribution is one of the most important distributions.\n",
    "\n",
    "It is also called the Gaussian Distribution after the German mathematician Carl Friedrich Gauss.\n",
    "\n",
    "It fits the probability distribution of many events, eg. IQ Scores, Heartbeat etc.\n",
    "\n",
    "Use the random.normal() method to get a Normal Data Distribution.\n",
    "\n",
    "It has three parameters:\n",
    "\n",
    "loc - (Mean) where the peak of the bell exists.\n",
    "\n",
    "scale - (Standard Deviation) how flat the graph distribution should be.\n",
    "\n",
    "size - The shape of the returned array.\n",
    "\n",
    "More Details: https://en.wikipedia.org/wiki/Normal_distribution\n",
    "\n",
    "**Example**  \n",
    "Generate a random normal distribution of size 2x3:"
   ]
  },
  {
   "cell_type": "code",
   "execution_count": 160,
   "id": "2b4ebec4-eb85-4b81-ab74-9ac6c62ed93c",
   "metadata": {},
   "outputs": [
    {
     "name": "stdout",
     "output_type": "stream",
     "text": [
      "[[-1.02859361  0.15319813  0.67911899]\n",
      " [-0.60671102  0.29933107 -0.53257046]]\n"
     ]
    }
   ],
   "source": [
    "from numpy import random\n",
    "\n",
    "x = random.normal(size=(2, 3))\n",
    "\n",
    "print(x)"
   ]
  },
  {
   "cell_type": "markdown",
   "id": "563e2ce2-52ca-4a5e-9973-99bcff15140e",
   "metadata": {},
   "source": [
    "**Example**  \n",
    "Generate a random normal distribution of size 2x3 with mean at 1 and standard deviation of 2:"
   ]
  },
  {
   "cell_type": "code",
   "execution_count": 161,
   "id": "5cb52404-88ae-455b-937c-b3147f65c1ac",
   "metadata": {},
   "outputs": [
    {
     "name": "stdout",
     "output_type": "stream",
     "text": [
      "[[ 2.693052    1.15454207  1.28228986]\n",
      " [ 2.12871678  1.39468972 -1.34645905]]\n"
     ]
    }
   ],
   "source": [
    "from numpy import random\n",
    "\n",
    "x = random.normal(loc=1, scale=1, size=(2, 3))\n",
    "\n",
    "print(x)"
   ]
  },
  {
   "cell_type": "markdown",
   "id": "5b59f09e-b2d6-4e1a-9ca4-e110ee053b0e",
   "metadata": {},
   "source": [
    "**Visualization of Normal Distribution**  \n",
    "Example"
   ]
  },
  {
   "cell_type": "code",
   "execution_count": 162,
   "id": "289e7a72-b673-4ecb-814e-13f694cdd103",
   "metadata": {},
   "outputs": [
    {
     "data": {
      "image/png": "[encoded data removed]",
      "text/plain": [
       "<Figure size 500x500 with 1 Axes>"
      ]
     },
     "metadata": {},
     "output_type": "display_data"
    }
   ],
   "source": [
    "from numpy import random\n",
    "import matplotlib.pyplot as plt\n",
    "import seaborn as sns\n",
    "\n",
    "normalDist = random.normal(loc=50, scale=5, size=1000)\n",
    "\n",
    "sns.displot(normalDist)\n",
    "\n",
    "plt.show()"
   ]
  },
  {
   "cell_type": "code",
   "execution_count": 163,
   "id": "5c8d8d83-62e4-444b-9393-63acf0cc300e",
   "metadata": {},
   "outputs": [
    {
     "data": {
      "text/plain": [
       "<Axes: ylabel='Count'>"
      ]
     },
     "execution_count": 163,
     "metadata": {},
     "output_type": "execute_result"
    },
    {
     "data": {
      "image/png": "[encoded data removed]",
      "text/plain": [
       "<Figure size 640x480 with 1 Axes>"
      ]
     },
     "metadata": {},
     "output_type": "display_data"
    }
   ],
   "source": [
    "sns.histplot(normalDist, kde=True)"
   ]
  },
  {
   "cell_type": "code",
   "execution_count": 164,
   "id": "7940b181-2410-4690-9029-4c90885f9844",
   "metadata": {},
   "outputs": [
    {
     "data": {
      "text/plain": [
       "<Axes: ylabel='Density'>"
      ]
     },
     "execution_count": 164,
     "metadata": {},
     "output_type": "execute_result"
    },
    {
     "data": {
      "image/png": "[encoded data removed]",
      "text/plain": [
       "<Figure size 640x480 with 1 Axes>"
      ]
     },
     "metadata": {},
     "output_type": "display_data"
    }
   ],
   "source": [
    "sns.kdeplot(normalDist)"
   ]
  },
  {
   "cell_type": "markdown",
   "id": "8c95b8ea-0795-4db9-bb7b-01f2ab41d460",
   "metadata": {},
   "source": [
    ">Note: The curve of a Normal Distribution is also known as the Bell Curve because of the bell-shaped curve."
   ]
  },
  {
   "cell_type": "markdown",
   "id": "5afb443c-d43a-4c5c-b174-8376b2a5cfac",
   "metadata": {},
   "source": [
    "## Binomial Distribution"
   ]
  },
  {
   "cell_type": "markdown",
   "id": "d7dbdfb6-0cb7-4dcc-9a15-c84fde4ffe6b",
   "metadata": {},
   "source": [
    "**Binomial Distribution is a Discrete Distribution.**  \n",
    "\n",
    "It describes the outcome of binary scenarios, e.g. toss of a coin, it will either be head or tails.\n",
    "\n",
    "It has three parameters:\n",
    "\n",
    "n - number of trials.\n",
    "\n",
    "p - probability of occurence of each trial (e.g. for toss of a coin 0.5 each).\n",
    "\n",
    "size - The shape of the returned array.\n",
    "\n",
    ">Discrete Distribution:The distribution is defined at separate set of events, e.g. a coin toss's result is discrete as it can be only head or tails whereas height of people is continuous as it can be 170, 170.1, 170.11 and so on.\n",
    "\n",
    "More Details: https://en.wikipedia.org/wiki/Binomial_distribution\n",
    "\n",
    "**Example**  \n",
    "Given 10 trials for coin toss generate 10 data points:"
   ]
  },
  {
   "cell_type": "code",
   "execution_count": 165,
   "id": "f08c5f82-de37-484f-bd77-c90d9405af3d",
   "metadata": {},
   "outputs": [
    {
     "name": "stdout",
     "output_type": "stream",
     "text": [
      "[6 4 4 6 3 7 8 8 4 3 4 5 8 5 7 7 5 5 5 9]\n"
     ]
    }
   ],
   "source": [
    "from numpy import random\n",
    "\n",
    "binomialDist = random.binomial(n=10, p=0.5, size=20)\n",
    "\n",
    "print(binomialDist)"
   ]
  },
  {
   "cell_type": "markdown",
   "id": "1a31339f-ee3c-4c66-abc5-f4808f0f9713",
   "metadata": {},
   "source": [
    "**Visualization of Binomial Distribution**  \n",
    "Example"
   ]
  },
  {
   "cell_type": "code",
   "execution_count": 166,
   "id": "eba7b6ef-8f2d-449c-8abc-519e2cdb3bb0",
   "metadata": {},
   "outputs": [
    {
     "data": {
      "image/png": "[encoded data removed]",
      "text/plain": [
       "<Figure size 640x480 with 1 Axes>"
      ]
     },
     "metadata": {},
     "output_type": "display_data"
    }
   ],
   "source": [
    "from numpy import random\n",
    "import matplotlib.pyplot as plt\n",
    "import seaborn as sns\n",
    "\n",
    "binomialDist = random.binomial(n=100, p=0.5, size=1000)\n",
    "\n",
    "sns.kdeplot(binomialDist)\n",
    "plt.show()"
   ]
  },
  {
   "cell_type": "markdown",
   "id": "a63db71b-06dc-4661-9a7b-38342846ad1b",
   "metadata": {},
   "source": [
    "**Difference Between Normal and Binomial Distribution**  \n",
    "The main difference is that normal distribution is continous whereas binomial is discrete, but if there are enough data points it will be quite similar to normal distribution with certain loc and scale.\n",
    "\n",
    "**Example**  "
   ]
  },
  {
   "cell_type": "code",
   "execution_count": 167,
   "id": "25225b9e-3492-409d-a6b4-3bc64c1b2a88",
   "metadata": {},
   "outputs": [
    {
     "data": {
      "text/plain": [
       "<matplotlib.legend.Legend at 0x1d49f639cd0>"
      ]
     },
     "execution_count": 167,
     "metadata": {},
     "output_type": "execute_result"
    },
    {
     "data": {
      "image/png": "[encoded data removed]",
      "text/plain": [
       "<Figure size 640x480 with 1 Axes>"
      ]
     },
     "metadata": {},
     "output_type": "display_data"
    }
   ],
   "source": [
    "from numpy import random\n",
    "import matplotlib.pyplot as plt\n",
    "import seaborn as sns\n",
    "\n",
    "sns.kdeplot(normalDist, label='normal')\n",
    "sns.kdeplot(binomialDist, label='binomial')\n",
    "\n",
    "plt.legend()"
   ]
  },
  {
   "cell_type": "markdown",
   "id": "cce8bf20-d5e4-45d6-8114-515ee95df4b4",
   "metadata": {},
   "source": [
    "## Poisson Distribution"
   ]
  },
  {
   "cell_type": "markdown",
   "id": "810b89d7-1a3f-4bdd-9685-6a1f8be120e1",
   "metadata": {},
   "source": [
    "Poisson Distribution is a Discrete Distribution.\n",
    "\n",
    "It estimates how many times an event can happen in a specified time. e.g. If someone eats twice a day what is the probability he will eat thrice?\n",
    "\n",
    "It has two parameters:\n",
    "\n",
    "lam - rate or known number of occurrences e.g. 2 for above problem.\n",
    "\n",
    "size - The shape of the returned array.\n",
    "\n",
    "More Info: https://en.wikipedia.org/wiki/Poisson_distribution\n",
    "\n",
    "**Example**  \n",
    "Generate a random 1x10 distribution for occurrence 2:"
   ]
  },
  {
   "cell_type": "code",
   "execution_count": 168,
   "id": "879b61d9-f35e-43c5-9f4d-cd33d7c9d26e",
   "metadata": {},
   "outputs": [
    {
     "name": "stdout",
     "output_type": "stream",
     "text": [
      "[0 1 2 3 1 2 3 3 3 2]\n"
     ]
    }
   ],
   "source": [
    "from numpy import random\n",
    "\n",
    "x = random.poisson(lam=2, size=10)\n",
    "\n",
    "print(x)"
   ]
  },
  {
   "cell_type": "markdown",
   "id": "9e8b1773-b80b-4cfa-aa06-de51cfae14ac",
   "metadata": {},
   "source": [
    "**Visualization of Poisson Distribution**  "
   ]
  },
  {
   "cell_type": "code",
   "execution_count": 169,
   "id": "a7d44cc3-e41d-486f-8bf1-e30745572966",
   "metadata": {},
   "outputs": [
    {
     "data": {
      "image/png": "[encoded data removed]",
      "text/plain": [
       "<Figure size 640x480 with 1 Axes>"
      ]
     },
     "metadata": {},
     "output_type": "display_data"
    }
   ],
   "source": [
    "from numpy import random\n",
    "import matplotlib.pyplot as plt\n",
    "import seaborn as sns\n",
    "\n",
    "poissonDist = random.poisson(lam=50, size=1000)\n",
    "sns.kdeplot(poissonDist)\n",
    "\n",
    "plt.show()"
   ]
  },
  {
   "cell_type": "markdown",
   "id": "1d8f85d2-007a-4a29-b13b-ec3b3541ec3b",
   "metadata": {},
   "source": [
    "**Difference Between Normal and Poisson Distribution**  \n",
    "Normal distribution is continuous whereas poisson is discrete.\n",
    "\n",
    "But we can see that similar to binomial for a large enough poisson distribution it will become similar to normal distribution with certain std dev and mean."
   ]
  },
  {
   "cell_type": "code",
   "execution_count": 170,
   "id": "01520e37-d29f-403a-8e54-9afead651a3b",
   "metadata": {},
   "outputs": [
    {
     "data": {
      "text/plain": [
       "<matplotlib.legend.Legend at 0x1d4a07dc560>"
      ]
     },
     "execution_count": 170,
     "metadata": {},
     "output_type": "execute_result"
    },
    {
     "data": {
      "image/png": "[encoded data removed]",
      "text/plain": [
       "<Figure size 640x480 with 1 Axes>"
      ]
     },
     "metadata": {},
     "output_type": "display_data"
    }
   ],
   "source": [
    "from numpy import random\n",
    "import matplotlib.pyplot as plt\n",
    "import seaborn as sns\n",
    "\n",
    "sns.kdeplot(random.normal(loc=50, scale=7, size=1000), label='normal')\n",
    "sns.kdeplot(random.poisson(lam=50, size=1000), label='poisson')\n",
    "\n",
    "plt.legend()"
   ]
  },
  {
   "cell_type": "markdown",
   "id": "5d466c63-1f22-4aed-8767-39b532321243",
   "metadata": {},
   "source": [
    "**Difference Between Binomial and Poisson Distribution**  \n",
    "Binomial distribution only has two possible outcomes, whereas poisson distribution can have unlimited possible outcomes.\n",
    "\n",
    "But for very large n and near-zero p binomial distribution is near identical to poisson distribution such that n * p is nearly equal to lam."
   ]
  },
  {
   "cell_type": "code",
   "execution_count": 171,
   "id": "83f615e1-c5b5-45f0-b16e-4ae4202126cb",
   "metadata": {},
   "outputs": [
    {
     "data": {
      "text/plain": [
       "<matplotlib.legend.Legend at 0x1d49f60e780>"
      ]
     },
     "execution_count": 171,
     "metadata": {},
     "output_type": "execute_result"
    },
    {
     "data": {
      "image/png": "[encoded data removed]",
      "text/plain": [
       "<Figure size 640x480 with 1 Axes>"
      ]
     },
     "metadata": {},
     "output_type": "display_data"
    }
   ],
   "source": [
    "from numpy import random\n",
    "import matplotlib.pyplot as plt\n",
    "import seaborn as sns\n",
    "\n",
    "sns.kdeplot(random.binomial(n=10000, p=0.01, size=1000), label='binomial')\n",
    "sns.kdeplot(random.poisson(lam=100, size=1000), label='poisson')\n",
    "\n",
    "plt.legend()"
   ]
  },
  {
   "cell_type": "markdown",
   "id": "26c602da-b821-4fd4-b642-c10839273f7f",
   "metadata": {},
   "source": [
    "## Uniform Distribution"
   ]
  },
  {
   "cell_type": "markdown",
   "id": "c118b7ac-e932-4b4b-aae4-3fe3ab69c8b4",
   "metadata": {},
   "source": [
    "Used to describe probability where every event has equal chances of occuring.\n",
    "\n",
    "E.g. Generation of random numbers.\n",
    "\n",
    "It has three parameters:\n",
    "\n",
    "a - lower bound - default 0 .0.\n",
    "\n",
    "b - upper bound - default 1.0.\n",
    "\n",
    "size - The shape of the returned array.\n",
    "\n",
    "More Info: https://en.wikipedia.org/wiki/Continuous_uniform_distribution\n",
    "\n",
    "**Example**  \n",
    "Create a 2x3 uniform distribution sample:"
   ]
  },
  {
   "cell_type": "code",
   "execution_count": 172,
   "id": "639141ac-dfa2-4b49-8954-3413073c4de4",
   "metadata": {},
   "outputs": [
    {
     "name": "stdout",
     "output_type": "stream",
     "text": [
      "[[0.12138691 0.88368185 0.6793634 ]\n",
      " [0.68006593 0.34249608 0.07948033]]\n"
     ]
    }
   ],
   "source": [
    "from numpy import random\n",
    "\n",
    "x = random.uniform(size=(2, 3))\n",
    "\n",
    "print(x)"
   ]
  },
  {
   "cell_type": "markdown",
   "id": "88d8f268-f9c1-4548-b53b-19ad058fd791",
   "metadata": {},
   "source": [
    "**Visualization of Uniform Distribution**  "
   ]
  },
  {
   "cell_type": "code",
   "execution_count": 173,
   "id": "26bb19ee-c4c7-4c3d-8371-98e6f150785b",
   "metadata": {},
   "outputs": [
    {
     "data": {
      "image/png": "[encoded data removed]",
      "text/plain": [
       "<Figure size 640x480 with 1 Axes>"
      ]
     },
     "metadata": {},
     "output_type": "display_data"
    }
   ],
   "source": [
    "from numpy import random\n",
    "import matplotlib.pyplot as plt\n",
    "import seaborn as sns\n",
    "\n",
    "sns.kdeplot(random.uniform(size=1000))\n",
    "\n",
    "plt.show()"
   ]
  },
  {
   "cell_type": "markdown",
   "id": "0f710088-2be8-4dd1-818e-39fab29c6df1",
   "metadata": {},
   "source": [
    "## Logistic Distribution"
   ]
  },
  {
   "cell_type": "markdown",
   "id": "d45e923d-5366-423d-ac17-138c5a0a9b07",
   "metadata": {},
   "source": [
    "Logistic Distribution is used to describe growth.\n",
    "\n",
    "Used extensively in machine learning in logistic regression, neural networks etc.\n",
    "\n",
    "It has three parameters:\n",
    "\n",
    "loc - mean, where the peak is. Default 0.\n",
    "\n",
    "scale - standard deviation, the flatness of distribution. Default 1.\n",
    "\n",
    "size - The shape of the returned array.\n",
    "\n",
    "**Example**  \n",
    "Draw 2x3 samples from a logistic distribution with mean at 1 and stddev 2.0:"
   ]
  },
  {
   "cell_type": "code",
   "execution_count": 174,
   "id": "e8c1bea4-8619-4af6-a75e-26d45efac744",
   "metadata": {},
   "outputs": [
    {
     "name": "stdout",
     "output_type": "stream",
     "text": [
      "[[ 1.84958905 -0.20625599  1.09171089]\n",
      " [-0.22975293  3.00207781  4.84424391]]\n"
     ]
    }
   ],
   "source": [
    "from numpy import random\n",
    "\n",
    "x = random.logistic(loc=1, scale=2, size=(2, 3))\n",
    "\n",
    "print(x)"
   ]
  },
  {
   "cell_type": "markdown",
   "id": "0a68238f-426d-4c5b-8732-88b67e996179",
   "metadata": {},
   "source": [
    "**Visualization of Logistic Distribution**"
   ]
  },
  {
   "cell_type": "code",
   "execution_count": 175,
   "id": "6e7b6670-eecb-455c-99b7-59f0a534516e",
   "metadata": {},
   "outputs": [
    {
     "data": {
      "image/png": "[encoded data removed]",
      "text/plain": [
       "<Figure size 640x480 with 1 Axes>"
      ]
     },
     "metadata": {},
     "output_type": "display_data"
    }
   ],
   "source": [
    "from numpy import random\n",
    "import matplotlib.pyplot as plt\n",
    "import seaborn as sns\n",
    "\n",
    "sns.kdeplot(random.logistic(size=1000))\n",
    "\n",
    "plt.show()"
   ]
  },
  {
   "cell_type": "markdown",
   "id": "d72a8f0d-2699-4b74-b524-1f2f1f0d1496",
   "metadata": {},
   "source": [
    "**Difference Between Logistic and Normal Distribution**  \n",
    "Both distributions are near identical, but logistic distribution has more area under the tails, meaning it represents more possibility of occurrence of an event further away from mean.\n",
    "\n",
    "For higher value of scale (standard deviation) the normal and logistic distributions are near identical apart from the peak."
   ]
  },
  {
   "cell_type": "code",
   "execution_count": 176,
   "id": "2d0a3597-2cc2-4403-b430-10c51efd7d45",
   "metadata": {},
   "outputs": [
    {
     "data": {
      "text/plain": [
       "<matplotlib.legend.Legend at 0x1d49f5f6c90>"
      ]
     },
     "execution_count": 176,
     "metadata": {},
     "output_type": "execute_result"
    },
    {
     "data": {
      "image/png": "[encoded data removed]",
      "text/plain": [
       "<Figure size 640x480 with 1 Axes>"
      ]
     },
     "metadata": {},
     "output_type": "display_data"
    }
   ],
   "source": [
    "from numpy import random\n",
    "import matplotlib.pyplot as plt\n",
    "import seaborn as sns\n",
    "\n",
    "sns.kdeplot(random.normal(scale=2, size=1000), label='normal')\n",
    "sns.kdeplot(random.logistic(size=1000), label='logistic')\n",
    "\n",
    "plt.legend()"
   ]
  },
  {
   "cell_type": "markdown",
   "id": "b0eadda1-6225-4202-abcd-b96bf88822fb",
   "metadata": {},
   "source": [
    "**Multinomial Distribution**  \n",
    "Multinomial distribution is a generalization of binomial distribution.\n",
    "\n",
    "It describes outcomes of multi-nomial scenarios unlike binomial where scenarios must be only one of two. e.g. Blood type of a population, dice roll outcome.\n",
    "\n",
    "It has three parameters:\n",
    "\n",
    "n - number of possible outcomes (e.g. 6 for dice roll).\n",
    "\n",
    "pvals - list of probabilties of outcomes (e.g. [1/6, 1/6, 1/6, 1/6, 1/6, 1/6] for dice roll).\n",
    "\n",
    "size - The shape of the returned array.\n",
    "\n",
    "**Example**  \n",
    "Draw out a sample for dice roll:"
   ]
  },
  {
   "cell_type": "code",
   "execution_count": 177,
   "id": "eaaaab76-fea9-4732-9131-9f3d45848b4a",
   "metadata": {},
   "outputs": [
    {
     "name": "stdout",
     "output_type": "stream",
     "text": [
      "[0 0 1 2 2 1]\n"
     ]
    },
    {
     "data": {
      "text/plain": [
       "<matplotlib.legend.Legend at 0x1d4a08fe090>"
      ]
     },
     "execution_count": 177,
     "metadata": {},
     "output_type": "execute_result"
    },
    {
     "data": {
      "image/png": "[encoded data removed]",
      "text/plain": [
       "<Figure size 640x480 with 1 Axes>"
      ]
     },
     "metadata": {},
     "output_type": "display_data"
    }
   ],
   "source": [
    "from numpy import random\n",
    "\n",
    "x = random.multinomial(n=6, pvals=[1/6, 1/6, 1/6, 1/6, 1/6, 1/6])\n",
    "\n",
    "print(x)\n",
    "\n",
    "sns.kdeplot(x, label='logistic')\n",
    "\n",
    "plt.legend()"
   ]
  },
  {
   "cell_type": "markdown",
   "id": "27e0b90b-0970-49b9-b91f-105587fcefc6",
   "metadata": {},
   "source": [
    ">Note: Multinomial samples will NOT produce a single value! They will produce one value for each pval.  \n",
    "As they are generalization of binomial distribution their visual representation and similarity of normal distribution is same as that of multiple binomial distributions.                                                                                   "
   ]
  },
  {
   "cell_type": "markdown",
   "id": "29eba693-953c-47c4-86e2-7ee64a6781fd",
   "metadata": {},
   "source": [
    "## Exponential Distribution"
   ]
  },
  {
   "cell_type": "markdown",
   "id": "6b9fdc33-6904-404e-a1bb-e3a332e95a98",
   "metadata": {},
   "source": [
    "Exponential distribution is used for describing time till next event e.g. failure/success etc.\n",
    "\n",
    "It has two parameters:\n",
    "\n",
    "scale - inverse of rate ( see lam in poisson distribution ) defaults to 1.0.\n",
    "\n",
    "size - The shape of the returned array.\n",
    "\n",
    "**Example**  \n",
    "Draw out a sample for exponential distribution with 2.0 scale with 2x3 size:"
   ]
  },
  {
   "cell_type": "code",
   "execution_count": 178,
   "id": "2a12f699-d471-4b37-9faf-20fd3cd15830",
   "metadata": {},
   "outputs": [
    {
     "name": "stdout",
     "output_type": "stream",
     "text": [
      "[[0.00370971 0.36701008 0.49395345]\n",
      " [0.12277773 0.09942853 2.29454247]]\n"
     ]
    }
   ],
   "source": [
    "from numpy import random\n",
    "\n",
    "x = random.exponential(scale=2, size=(2, 3))\n",
    "\n",
    "print(x)"
   ]
  },
  {
   "cell_type": "markdown",
   "id": "22d085f2-4f1d-4316-90bf-85066eed5186",
   "metadata": {},
   "source": [
    "**Visualization of Exponential Distribution**  "
   ]
  },
  {
   "cell_type": "code",
   "execution_count": 179,
   "id": "a08c534d-c712-45b0-aa53-f7c71a6aa29a",
   "metadata": {},
   "outputs": [
    {
     "data": {
      "image/png": "[encoded data removed]",
      "text/plain": [
       "<Figure size 640x480 with 1 Axes>"
      ]
     },
     "metadata": {},
     "output_type": "display_data"
    }
   ],
   "source": [
    "from numpy import random\n",
    "import matplotlib.pyplot as plt\n",
    "import seaborn as sns\n",
    "\n",
    "sns.kdeplot(random.exponential(size=1000))\n",
    "\n",
    "plt.show()"
   ]
  },
  {
   "cell_type": "markdown",
   "id": "6c4ecca5-ca1c-44ee-a339-1863e5fab5ca",
   "metadata": {},
   "source": [
    "**Relation Between Poisson and Exponential Distribution**  \n",
    "Poisson distribution deals with number of occurences of an event in a time period whereas exponential distribution deals with the time between these events."
   ]
  },
  {
   "cell_type": "markdown",
   "id": "53e02a0a-7f09-47b5-abb7-1a40fa476d9c",
   "metadata": {},
   "source": [
    "## Chi Square Distribution"
   ]
  },
  {
   "cell_type": "markdown",
   "id": "d3ef3c4f-5a49-4b1d-8b22-a19b83672fef",
   "metadata": {},
   "source": [
    "Chi Square distribution is used as a basis to verify the hypothesis.\n",
    "\n",
    "It has two parameters:\n",
    "\n",
    "df - (degree of freedom).\n",
    "\n",
    "size - The shape of the returned array.\n",
    "\n",
    "**Example**  \n",
    "Draw out a sample for chi squared distribution with degree of freedom 2 with size 2x3:"
   ]
  },
  {
   "cell_type": "code",
   "execution_count": 180,
   "id": "16a560d4-052a-476b-b0f0-e6d065e85247",
   "metadata": {},
   "outputs": [
    {
     "name": "stdout",
     "output_type": "stream",
     "text": [
      "[[2.2302804  0.73766493 1.37214831]\n",
      " [3.38220495 0.65625423 1.80235473]]\n"
     ]
    }
   ],
   "source": [
    "from numpy import random\n",
    "\n",
    "x = random.chisquare(df=2, size=(2, 3))\n",
    "\n",
    "print(x)"
   ]
  },
  {
   "cell_type": "markdown",
   "id": "2736affe-20c7-4ff9-ac9d-3bb83acb9fb4",
   "metadata": {},
   "source": [
    "**Visualization of Chi Square Distribution**  "
   ]
  },
  {
   "cell_type": "code",
   "execution_count": 181,
   "id": "35298bff-bc85-4f3e-b9af-49a61bcde399",
   "metadata": {},
   "outputs": [
    {
     "data": {
      "image/png": "[encoded data removed]",
      "text/plain": [
       "<Figure size 640x480 with 1 Axes>"
      ]
     },
     "metadata": {},
     "output_type": "display_data"
    }
   ],
   "source": [
    "from numpy import random\n",
    "import matplotlib.pyplot as plt\n",
    "import seaborn as sns\n",
    "\n",
    "sns.kdeplot(random.chisquare(df=1, size=1000))\n",
    "\n",
    "plt.show()"
   ]
  },
  {
   "cell_type": "markdown",
   "id": "a816fcf6-7ba0-4584-b7f2-1acdfbe80a83",
   "metadata": {},
   "source": [
    "## Rayleigh Distribution"
   ]
  },
  {
   "cell_type": "markdown",
   "id": "7cb52e9a-1838-431f-a6dd-785d03bce05a",
   "metadata": {},
   "source": [
    "Rayleigh distribution is used in signal processing.\n",
    "\n",
    "It has two parameters:\n",
    "\n",
    "scale - (standard deviation) decides how flat the distribution will be default 1.0).\n",
    "\n",
    "size - The shape of the returned array.\n",
    "\n",
    "**Example**  \n",
    "Draw out a sample for rayleigh distribution with scale of 2 with size 2x3:"
   ]
  },
  {
   "cell_type": "code",
   "execution_count": 182,
   "id": "e04802e9-a9d5-4317-b749-5b8e04d2efb1",
   "metadata": {},
   "outputs": [
    {
     "name": "stdout",
     "output_type": "stream",
     "text": [
      "[[1.69448101 1.58784174 0.47791597]\n",
      " [1.33418969 2.22739109 3.59063571]]\n"
     ]
    }
   ],
   "source": [
    "from numpy import random\n",
    "\n",
    "x = random.rayleigh(scale=2, size=(2, 3))\n",
    "\n",
    "print(x)"
   ]
  },
  {
   "cell_type": "markdown",
   "id": "04915dae-24cd-452b-bc88-7e39061855a7",
   "metadata": {},
   "source": [
    "**Visualization of Rayleigh Distribution**  "
   ]
  },
  {
   "cell_type": "code",
   "execution_count": 183,
   "id": "a2595ce0-1c5b-4df1-8f95-20d783c921a4",
   "metadata": {},
   "outputs": [
    {
     "data": {
      "image/png": "[encoded data removed]",
      "text/plain": [
       "<Figure size 640x480 with 1 Axes>"
      ]
     },
     "metadata": {},
     "output_type": "display_data"
    }
   ],
   "source": [
    "from numpy import random\n",
    "import matplotlib.pyplot as plt\n",
    "import seaborn as sns\n",
    "\n",
    "sns.kdeplot(random.rayleigh(size=1000))\n",
    "\n",
    "plt.show()"
   ]
  },
  {
   "cell_type": "markdown",
   "id": "cc0daa53-c52f-4220-9e32-f88a31f7f813",
   "metadata": {},
   "source": [
    "**Similarity Between Rayleigh and Chi Square Distribution**   \n",
    "At unit stddev and 2 degrees of freedom rayleigh and chi square represent the same distributions."
   ]
  },
  {
   "cell_type": "markdown",
   "id": "3317324b-7814-4121-a82f-ef735655b5ca",
   "metadata": {},
   "source": [
    "## Pareto Distribution"
   ]
  },
  {
   "cell_type": "markdown",
   "id": "916b7069-6557-4fa8-a5ba-9056e2494e02",
   "metadata": {},
   "source": [
    "A distribution following Pareto's law i.e. 80-20 distribution (20% factors cause 80% outcome).\n",
    "\n",
    "It has two parameter:\n",
    "\n",
    "a - shape parameter.\n",
    "\n",
    "size - The shape of the returned array.\n",
    "\n",
    "**Example**  \n",
    "Draw out a sample for pareto distribution with shape of 2 with size 2x3:"
   ]
  },
  {
   "cell_type": "code",
   "execution_count": 184,
   "id": "2f65b578-8141-488e-b103-a1b4a0ce9887",
   "metadata": {},
   "outputs": [
    {
     "name": "stdout",
     "output_type": "stream",
     "text": [
      "[[0.06774913 0.50221356 4.91055952]\n",
      " [0.47378791 2.16114971 0.45154308]]\n"
     ]
    }
   ],
   "source": [
    "from numpy import random\n",
    "\n",
    "x = random.pareto(a=2, size=(2, 3))\n",
    "\n",
    "print(x)"
   ]
  },
  {
   "cell_type": "markdown",
   "id": "60590bea-e980-4a36-8728-6c631abc7f3c",
   "metadata": {},
   "source": [
    "**Visualization of Pareto Distribution**  "
   ]
  },
  {
   "cell_type": "code",
   "execution_count": 185,
   "id": "c99b258d-1f6a-4f8a-bbd4-fbb984bdee7f",
   "metadata": {},
   "outputs": [
    {
     "data": {
      "image/png": "[encoded data removed]",
      "text/plain": [
       "<Figure size 640x480 with 1 Axes>"
      ]
     },
     "metadata": {},
     "output_type": "display_data"
    }
   ],
   "source": [
    "from numpy import random\n",
    "import matplotlib.pyplot as plt\n",
    "import seaborn as sns\n",
    "\n",
    "sns.kdeplot(random.pareto(a=2, size=1000))\n",
    "\n",
    "plt.show()"
   ]
  },
  {
   "cell_type": "markdown",
   "id": "ba9a8324-eb31-4d04-90e4-1f5a4736923a",
   "metadata": {},
   "source": [
    "## Zipf Distribution"
   ]
  },
  {
   "cell_type": "markdown",
   "id": "de941922-167f-4093-b885-44ec1d5d9772",
   "metadata": {},
   "source": [
    "Zipf distributions are used to sample data based on zipf's law.\n",
    "\n",
    ">Zipf's Law: In a collection, the nth common term is 1/n times of the most common term. E.g. the 5th most common word in English occurs nearly 1/5 times as often as the most common word.\n",
    "\n",
    "It has two parameters:\n",
    "\n",
    "a - distribution parameter.\n",
    "\n",
    "size - The shape of the returned array.\n",
    "\n",
    "**Example**  \n",
    "Draw out a sample for zipf distribution with distribution parameter 2 with size 2x3:"
   ]
  },
  {
   "cell_type": "code",
   "execution_count": 186,
   "id": "6d4b6cb8-6605-4507-86e1-0993ed708f65",
   "metadata": {},
   "outputs": [
    {
     "name": "stdout",
     "output_type": "stream",
     "text": [
      "[[3 1 1]\n",
      " [3 1 1]]\n"
     ]
    }
   ],
   "source": [
    "from numpy import random\n",
    "\n",
    "x = random.zipf(a=2, size=(2, 3))\n",
    "\n",
    "print(x)"
   ]
  },
  {
   "cell_type": "markdown",
   "id": "bb9f81f9-1d26-452b-894b-6cb1e0ee2b6f",
   "metadata": {},
   "source": [
    "**Visualization of Zipf Distribution**  \n",
    "Sample 1000 points but plotting only ones with value < 10 for more meaningful chart."
   ]
  },
  {
   "cell_type": "code",
   "execution_count": 187,
   "id": "cf842fd8-36cc-43ac-8cb8-223556c65633",
   "metadata": {},
   "outputs": [
    {
     "data": {
      "image/png": "[encoded data removed]",
      "text/plain": [
       "<Figure size 640x480 with 1 Axes>"
      ]
     },
     "metadata": {},
     "output_type": "display_data"
    }
   ],
   "source": [
    "from numpy import random\n",
    "import matplotlib.pyplot as plt\n",
    "import seaborn as sns\n",
    "\n",
    "x = random.zipf(a=2, size=1000)\n",
    "sns.histplot(x[x<10], kde=False)\n",
    "\n",
    "plt.show()"
   ]
  }
 ],
 "metadata": {
  "kernelspec": {
   "display_name": "Python 3 (ipykernel)",
   "language": "python",
   "name": "python3"
  },
  "language_info": {
   "codemirror_mode": {
    "name": "ipython",
    "version": 3
   },
   "file_extension": ".py",
   "mimetype": "text/x-python",
   "name": "python",
   "nbconvert_exporter": "python",
   "pygments_lexer": "ipython3",
   "version": "3.12.4"
  }
 },
 "nbformat": 4,
 "nbformat_minor": 5
}
