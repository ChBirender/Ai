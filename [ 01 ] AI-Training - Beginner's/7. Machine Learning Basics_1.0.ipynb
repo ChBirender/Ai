{
 "cells": [
  {
   "cell_type": "markdown",
   "id": "f55828be-3460-4a05-bfe2-dc293fbab406",
   "metadata": {},
   "source": [
    "# Machine Learning"
   ]
  },
  {
   "cell_type": "markdown",
   "id": "a7241245-0644-4292-a645-abc457419ec3",
   "metadata": {},
   "source": [
    ">Machine Learning is making the computer learn from studying data and statistics.  \n",
    "Machine Learning is a step into the direction of artificial intelligence (AI).  \n",
    "Machine Learning is a program that analyses data and learns to predict the outcome."
   ]
  },
  {
   "cell_type": "markdown",
   "id": "b309064b-9f35-449f-a408-ed76e0bc3b31",
   "metadata": {},
   "source": [
    "**Where To Start?**  \n",
    "In this tutorial we will go back to mathematics and study statistics, and how to calculate important numbers based on data sets.\n",
    "\n",
    "We will also learn how to use various Python modules to get the answers we need.\n",
    "\n",
    "And we will learn how to make functions that are able to predict the outcome based on what we have learned.\n",
    "\n",
    "**Data Set**  \n",
    "In the mind of a computer, a data set is any collection of data. It can be anything from an array to a complete database.\n",
    "\n",
    "Example of an array:\n",
    "\n",
    "[99,86,87,88,111,86,103,87,94,78,77,85,86]\n",
    "\n",
    "Example of a database:\n",
    "| Carname | Color | Age | Speed | AutoPass |\n",
    "| ------- | ----- | --- | ----- | -------- |\n",
    "| BMW     | red   | 5   | 99    | Y        |\n",
    "| Volvo   | black | 7   | 86    | Y        |\n",
    "| VW      | gray  | 8   | 87    | N        |\n",
    "| VW      | white | 7   | 88    | Y        |\n",
    "| Ford    | white | 2   | 111   | Y        |\n",
    "| VW      | white | 17  | 86    | Y        |\n",
    "| Tesla   | red   | 2   | 103   | Y        |\n",
    "| BMW     | black | 9   | 87    | Y        |\n",
    "| Volvo   | gray  | 4   | 94    | N        |\n",
    "| Ford    | white | 11  | 78    | N        |\n",
    "| Toyota  | gray  | 12  | 77    | N        |\n",
    "| VW      | white | 9   | 85    | N        |\n",
    "| Toyota  | blue  | 6   | 86    | Y        |"
   ]
  },
  {
   "cell_type": "markdown",
   "id": "9f9123dc-01c1-4105-bd0e-71ae5714e380",
   "metadata": {},
   "source": [
    "By looking at the array, we can guess that the average value is probably around 80 or 90, and we are also able to determine the highest value and the lowest value, but what else can we do?\n",
    "\n",
    "And by looking at the database we can see that the most popular color is white, and the oldest car is 17 years, but what if we could predict if a car had an AutoPass, just by looking at the other values?\n",
    "\n",
    "That is what Machine Learning is for! Analyzing data and predicting the outcome!\n",
    "\n",
    ">In Machine Learning it is common to work with very large data sets. In this tutorial we will try to make it as easy as possible to understand the different concepts of machine learning, and we will work with small easy-to-understand data sets.\n",
    "\n",
    "**Data Types**  \n",
    "To analyze data, it is important to know what type of data we are dealing with.\n",
    "\n",
    "We can split the data types into three main categories:  \n",
    ">•\tNumerical  \n",
    "•\tCategorical  \n",
    "•\tOrdinal  \n"
   ]
  },
  {
   "cell_type": "markdown",
   "id": "b88aae29-5ef2-4fd2-825f-26258c254b36",
   "metadata": {},
   "source": [
    "**Numerical** data are numbers, and can be split into two numerical categories:\n",
    ">•\tDiscrete Data - counted data that are limited to integers. Example: The number of cars passing by.  \n",
    "•\tContinuous Data - measured data that can be any number. Example: The price of an item, or the size of an item  \n",
    "\n",
    "**Categorical** data are values that cannot be measured up against each other. Example: a color value, or any yes/no values.  \n",
    "**Ordinal** data are like categorical data, but can be measured up against each other. Example: school grades where A is better than B and so on.\n",
    "By knowing the data type of your data source, you will be able to know what technique to use when analysing them.  \n",
    "You will learn more about statistics and analysing data in the next chapters.  "
   ]
  },
  {
   "cell_type": "markdown",
   "id": "79b06fe0-5fbe-4fb8-9391-a29f6d874c8b",
   "metadata": {},
   "source": [
    "# Mean Median Mode"
   ]
  },
  {
   "cell_type": "markdown",
   "id": "16e39a16-57cc-4425-8a70-a1a2179dc1bd",
   "metadata": {},
   "source": [
    "Mean, Median, and Mode  \n",
    "What can we learn from looking at a group of numbers?  \n",
    "In Machine Learning (and in mathematics) there are often three values that interests us:  \n",
    ">•\tMean - The average value  \n",
    "•\tMedian - The mid point value  \n",
    "•\tMode - The most common value  \n",
    "\n",
    "**Example:** We have registered the speed of 13 cars:  \n",
    "speed = [99,86,87,88,111,86,103,87,94,78,77,85,86]  \n",
    "What is the average, the middle, or the most common speed value?  \n",
    "\n",
    "**Mean**  \n",
    "The mean value is the average value.  \n",
    "To calculate the mean, find the sum of all values, and divide the sum by the number of values:  \n",
    "(99+86+87+88+111+86+103+87+94+78+77+85+86) / 13 = 89.77  \n",
    "The NumPy module has a method for this. Learn about the NumPy module in our NumPy Tutorial.  \n",
    "**Example**  \n",
    "Use the NumPy mean() method to find the average speed:\n"
   ]
  },
  {
   "cell_type": "code",
   "execution_count": 1,
   "id": "e7492683-af81-430e-b0db-87472483fa3e",
   "metadata": {},
   "outputs": [
    {
     "name": "stdout",
     "output_type": "stream",
     "text": [
      "89.76923076923077\n"
     ]
    }
   ],
   "source": [
    "import numpy as np\n",
    "speed = [99,86,87,88,111,86,103,87,94,78,77,85,86]\n",
    "x = np.mean(speed)\n",
    "print(x)"
   ]
  },
  {
   "cell_type": "markdown",
   "id": "278a0647-1918-4450-8a21-0ce649bbc200",
   "metadata": {},
   "source": [
    "**Median**  \n",
    "The median value is the value in the middle, after you have sorted all the values:\n",
    "\n",
    "77, 78, 85, 86, 86, 86, 87, 87, 88, 94, 99, 103, 111\n",
    "\n",
    "It is important that the numbers are sorted before you can find the median.\n",
    "\n",
    "The NumPy module has a method for this:\n",
    "\n",
    "**Example**  \n",
    "Use the NumPy median() method to find the middle value:"
   ]
  },
  {
   "cell_type": "code",
   "execution_count": 2,
   "id": "51de603c-384e-4274-8d8f-c2f033107603",
   "metadata": {},
   "outputs": [
    {
     "name": "stdout",
     "output_type": "stream",
     "text": [
      "87.0\n"
     ]
    }
   ],
   "source": [
    "import numpy as np\n",
    "speed = [99,86,87,88,111,86,103,87,94,78,77,85,86,112,113]\n",
    "x = np.median(speed)\n",
    "print(x)"
   ]
  },
  {
   "cell_type": "markdown",
   "id": "86df110d-adf5-4c80-ac03-b033e8a94930",
   "metadata": {},
   "source": [
    ">If there are two numbers in the middle, divide the sum of those numbers by two.\n",
    "\n",
    "77, 78, 85, 86, 86, 86, 87, 87, 94, 98, 99, 103  \n",
    "(86 + 87) / 2 = 86.5\n",
    "\n",
    "Example\n",
    "Using the NumPy module:"
   ]
  },
  {
   "cell_type": "code",
   "execution_count": 3,
   "id": "21a08a76-1256-4584-b5f7-9b2125b847d2",
   "metadata": {},
   "outputs": [
    {
     "name": "stdout",
     "output_type": "stream",
     "text": [
      "86.5\n"
     ]
    }
   ],
   "source": [
    "import numpy\n",
    "speed = [99,86,87,88,86,103,87,94,78,77,85,86]\n",
    "x = numpy.median(speed)\n",
    "print(x)"
   ]
  },
  {
   "cell_type": "markdown",
   "id": "64705a34-53f7-4b08-a5c0-c2fd307e394e",
   "metadata": {},
   "source": [
    "**Mode**  \n",
    "The Mode value is the value that appears the most number of times:  \n",
    "99, 86, 87, 88, 111, 86, 103, 87, 94, 78, 77, 85, 86 = 86  \n",
    "\n",
    "The SciPy module has a method for this. Learn about the SciPy module in our SciPy Tutorial.\n",
    "\n",
    "**Example**  \n",
    "Use the SciPy mode() method to find the number that appears the most:"
   ]
  },
  {
   "cell_type": "code",
   "execution_count": 4,
   "id": "1a2aa6c7-9145-444d-afd9-7a1486dbab36",
   "metadata": {},
   "outputs": [
    {
     "name": "stdout",
     "output_type": "stream",
     "text": [
      "ModeResult(mode=86, count=3)\n"
     ]
    }
   ],
   "source": [
    "from scipy import stats\n",
    "speed = [99,86,87,88,111,86,103,87,94,78,77,85,86]\n",
    "x = stats.mode(speed)\n",
    "print(x)"
   ]
  },
  {
   "cell_type": "markdown",
   "id": "b4371021-3054-476a-b9c4-8da41d52d405",
   "metadata": {},
   "source": [
    "# Standard Deviation"
   ]
  },
  {
   "cell_type": "markdown",
   "id": "67e5af65-8744-4df6-a766-a3ae0fc79b62",
   "metadata": {},
   "source": [
    "**What is Standard Deviation?**  \n",
    "Standard deviation is a number that describes how spread out the values are.\n",
    "\n",
    "A low standard deviation means that most of the numbers are close to the mean (average) value.\n",
    "\n",
    "A high standard deviation means that the values are spread out over a wider range.\n",
    "\n",
    "Example:  \n",
    "This time we have registered the speed of 7 cars:\n",
    "\n",
    "speed = [86,87,88,86,87,85,86]\n",
    "\n",
    "The standard deviation is:\n",
    "\n",
    "0.9\n",
    "\n",
    "Meaning that most of the values are within the range of 0.9 from the mean value, which is 86.4.\n",
    "\n",
    "Let us do the same with a selection of numbers with a wider range:\n",
    "\n",
    "speed = [32,111,138,28,59,77,97]\n",
    "\n",
    "The standard deviation is:\n",
    "\n",
    "37.85\n",
    "\n",
    "Meaning that most of the values are within the range of 37.85 from the mean value, which is 77.4.\n",
    "\n",
    "As you can see, a higher standard deviation indicates that the values are spread out over a wider range.\n",
    "\n",
    "The NumPy module has a method to calculate the standard deviation:\n",
    "\n",
    "**Example**  \n",
    "Use the NumPy std() method to find the standard deviation:"
   ]
  },
  {
   "cell_type": "code",
   "execution_count": 5,
   "id": "de6be67c-5fba-482f-b26a-bbdc26603406",
   "metadata": {},
   "outputs": [
    {
     "name": "stdout",
     "output_type": "stream",
     "text": [
      "0.9035079029052513\n"
     ]
    }
   ],
   "source": [
    "import numpy as np\n",
    "speed = [86,87,88,86,87,85,86]\n",
    "x = np.std(speed)\n",
    "print(x)"
   ]
  },
  {
   "cell_type": "code",
   "execution_count": 6,
   "id": "85af2e0d-76a8-48ea-8eec-aef614c379a9",
   "metadata": {},
   "outputs": [
    {
     "name": "stdout",
     "output_type": "stream",
     "text": [
      "0.9035079029052513\n"
     ]
    }
   ],
   "source": [
    "# How Standard Deviation Calculated?:\n",
    "import numpy as np\n",
    "import math\n",
    "speed = [86,87,88,86,87,85,86]\n",
    "#Step 1: Find the mean\n",
    "mean = np.mean(speed)\n",
    "totalDiffSquare = 0\n",
    "for x in speed:\n",
    "    #Step 2: Find each score’s deviation from the mean\n",
    "    diff = x - mean\n",
    "    #Step 3: Square each deviation from the mean\n",
    "    diffsqr = diff * diff\n",
    "    #Step 4: Find the sum of squares\n",
    "    totalDiffSquare += diffsqr\n",
    "#Step 5: Find the variance : Divide the sum of the squares by\n",
    "variance = totalDiffSquare/np.size(speed)\n",
    "#Step 6: Find the square root of the variance\n",
    "standardDevaiation = math.sqrt(variance)\n",
    "print(standardDevaiation)"
   ]
  },
  {
   "cell_type": "code",
   "execution_count": 7,
   "id": "82dca6b0-2880-4aab-b651-3db4d8f89a6c",
   "metadata": {},
   "outputs": [
    {
     "name": "stdout",
     "output_type": "stream",
     "text": [
      "37.84501153334721\n"
     ]
    }
   ],
   "source": [
    "import numpy\n",
    "speed = [32,111,138,28,59,77,97]\n",
    "x = numpy.std(speed)\n",
    "print(x)"
   ]
  },
  {
   "cell_type": "markdown",
   "id": "ed1e8f91-e1da-47cb-ac16-db3a2d72b519",
   "metadata": {},
   "source": [
    "**Variance**  \n",
    "Variance is another number that indicates how spread out the values are.\n",
    "\n",
    "In fact, if you take the square root of the variance, you get the standard deviation!\n",
    "\n",
    "Or the other way around, if you multiply the standard deviation by itself, you get the variance!\n",
    "\n",
    "To calculate the variance you have to do as follows:\n",
    "\n",
    "1. Find the mean:\n",
    "\n",
    "(32+111+138+28+59+77+97) / 7 = 77.4\n",
    "\n",
    "2. For each value: find the difference from the mean:\n",
    "\n",
    " 32 - 77.4 = -45.4  \n",
    "111 - 77.4 =  33.6  \n",
    "138 - 77.4 =  60.6  \n",
    " 28 - 77.4 = -49.4  \n",
    " 59 - 77.4 = -18.4  \n",
    " 77 - 77.4 = - 0.4  \n",
    " 97 - 77.4 =  19.6  \n",
    "\n",
    "3. For each difference: find the square value:\n",
    "\n",
    "(-45.4)2 = 2061.16  \n",
    " (33.6)2 = 1128.96  \n",
    " (60.6)2 = 3672.36  \n",
    "(-49.4)2 = 2440.36  \n",
    "(-18.4)2 =  338.56  \n",
    "(- 0.4)2 =    0.16  \n",
    " (19.6)2 =  384.16  \n",
    "4. The variance is the average number of these squared differences:\n",
    "\n",
    "(2061.16+1128.96+3672.36+2440.36+338.56+0.16+384.16) / 7 = 1432.2  \n",
    "Luckily, NumPy has a method to calculate the variance:\n",
    "\n",
    "**Example**  \n",
    "Use the NumPy var() method to find the variance:"
   ]
  },
  {
   "cell_type": "code",
   "execution_count": 8,
   "id": "5d62960a-83d9-4e6e-a56e-d0b6f56c37ad",
   "metadata": {},
   "outputs": [
    {
     "name": "stdout",
     "output_type": "stream",
     "text": [
      "1432.2448979591834\n"
     ]
    }
   ],
   "source": [
    "import numpy\n",
    "speed = [32,111,138,28,59,77,97]\n",
    "x = numpy.var(speed)\n",
    "print(x)"
   ]
  },
  {
   "cell_type": "markdown",
   "id": "b24b2aad-e96b-4634-b500-c6d9bd944263",
   "metadata": {},
   "source": [
    "**Standard Deviation**  \n",
    "As we have learned, the formula to find the standard deviation is the square root of the variance:\n",
    "\n",
    "√1432.25 = 37.85\n",
    "Or, as in the example from before, use the NumPy to calculate the standard deviation:\n",
    "\n",
    "**Example**  \n",
    "Use the NumPy std() method to find the standard deviation:"
   ]
  },
  {
   "cell_type": "code",
   "execution_count": 9,
   "id": "fa55623c-cdcd-43f6-b600-cc98e3ed2025",
   "metadata": {},
   "outputs": [
    {
     "name": "stdout",
     "output_type": "stream",
     "text": [
      "variance : 1432.2448979591834\n",
      "StandardDeviation : 37.84501153334721\n"
     ]
    }
   ],
   "source": [
    "import numpy\n",
    "import math\n",
    "speed = [32,111,138,28,59,77,97]\n",
    "variance = numpy.var(speed)\n",
    "StandardDeviation = math.sqrt(variance)\n",
    "print(\"variance : \" + str(variance))\n",
    "print(\"StandardDeviation : \" + str(StandardDeviation))"
   ]
  },
  {
   "cell_type": "markdown",
   "id": "6672883a-6df7-40be-9d2d-22e9fafa9172",
   "metadata": {},
   "source": [
    "**Symbols**  \n",
    "Standard Deviation is often represented by the symbol Sigma: **σ**  \n",
    "Variance is often represented by the symbol Sigma Squared: **σ2**"
   ]
  },
  {
   "cell_type": "markdown",
   "id": "bf4564c8-a8b5-495c-a2c6-4ca4e29ec300",
   "metadata": {},
   "source": [
    "# Percentiles"
   ]
  },
  {
   "cell_type": "markdown",
   "id": "67259318-093a-4cab-a65c-e5d2016994ee",
   "metadata": {},
   "source": [
    "**What are Percentiles?**  \n",
    "Percentiles are used in statistics to give you a number that describes the value that a given percent of the values are lower than.\n",
    "\n",
    "Example:  \n",
    "Let's say we have an array of the ages of all the people that live in a street.\n",
    "\n",
    "ages = [5,31,43,48,50,41,7,11,15,39,80,82,32,2,8,6,25,36,27,61,31]\n",
    "\n",
    "What is the 75. percentile? The answer is 43, meaning that 75% of the people are 43 or younger.\n",
    "\n",
    "The NumPy module has a method for finding the specified percentile:\n",
    "\n",
    "**Example**  \n",
    "Use the NumPy percentile() method to find the percentiles:"
   ]
  },
  {
   "cell_type": "code",
   "execution_count": 10,
   "id": "1cf4b3b1-045e-4a7b-a8b1-fb09aa66be5f",
   "metadata": {},
   "outputs": [
    {
     "name": "stdout",
     "output_type": "stream",
     "text": [
      "43.0\n"
     ]
    }
   ],
   "source": [
    "import numpy\n",
    "ages = [5,31,43,48,50,41,7,11,15,39,80,82,32,2,8,6,25,36,27,61,31]\n",
    "x = numpy.percentile(ages, 75)\n",
    "print(x)"
   ]
  },
  {
   "cell_type": "markdown",
   "id": "80a2607b-e57f-4cee-ae43-671f6a0ad75e",
   "metadata": {},
   "source": [
    "**Example**  \n",
    "What is the age that 90% of the people are younger than?"
   ]
  },
  {
   "cell_type": "code",
   "execution_count": 11,
   "id": "63e7fafc-7d5f-4901-94b6-ead4c36c81df",
   "metadata": {},
   "outputs": [
    {
     "name": "stdout",
     "output_type": "stream",
     "text": [
      "61.0\n"
     ]
    }
   ],
   "source": [
    "import numpy\n",
    "ages = [5,31,43,48,50,41,7,11,15,39,80,82,32,2,8,6,25,36,27,61,31]\n",
    "x = numpy.percentile(ages, 90)\n",
    "print(x)"
   ]
  },
  {
   "cell_type": "markdown",
   "id": "7e74992f-1a93-4943-8e27-72550c9775ab",
   "metadata": {},
   "source": [
    ">•\tStep 1: Collect the data set  \n",
    "•\tStep 2: Arrange the data set in ascending order  \n",
    "•\tStep 3: Determine the total number of observations  \n",
    "•\tStep 4: Identify the data value for which you are interested to find the percentile  \n",
    "•\tStep 5: Count the number of data values that are less than the above value  \n",
    "•\tStep 6: Divide the number from Step 5 by the number from Step 3 to find the percentile of the given data value  "
   ]
  },
  {
   "cell_type": "markdown",
   "id": "d5a1da82-385d-4905-ab9d-98f5dc17afb3",
   "metadata": {},
   "source": [
    "# Data Distribution"
   ]
  },
  {
   "cell_type": "markdown",
   "id": "4eef5843-2d9d-4a44-8e2b-1538d7a2fb47",
   "metadata": {},
   "source": [
    "**Data Distribution**  \n",
    "Earlier in this tutorial we have worked with very small amounts of data in our examples, just to understand the different concepts.\n",
    "\n",
    "In the real world, the data sets are much bigger, but it can be difficult to gather real world data, at least at an early stage of a project.\n",
    "\n",
    "**How Can we Get Big Data Sets?**  \n",
    "To create big data sets for testing, we use the Python module NumPy, which comes with a number of methods to create random data sets, of any size.\n",
    "\n",
    "**Example**  \n",
    "Create an array containing 250 random floats between 0 and 5:"
   ]
  },
  {
   "cell_type": "code",
   "execution_count": 12,
   "id": "0ec11dad-fcdd-40e0-976a-486203e5ff43",
   "metadata": {},
   "outputs": [
    {
     "name": "stdout",
     "output_type": "stream",
     "text": [
      "[0.26147305 4.40171359 0.73593753 1.88467952 0.39461102 3.35106437\n",
      " 0.39242266 4.33097585 4.79137002 3.45725711 4.15983029 4.97162612\n",
      " 1.82053774 2.00016908 4.43883869 3.19723594 4.75906854 2.60024871\n",
      " 0.32848734 3.88896926 3.58994614 3.40871436 3.98380135 0.37586261\n",
      " 3.12175659 4.40425302 4.66572146 0.73035899 4.90523939 2.53582403\n",
      " 2.17203505 0.78277673 3.18912344 3.79535696 4.83961778 1.77404223\n",
      " 0.47937744 2.31010757 1.55799481 3.00519118 0.19361715 2.24760979\n",
      " 3.24997157 0.4011816  0.00503959 4.8802802  3.19696401 3.94094647\n",
      " 3.48980186 2.57241597 4.34429827 1.3491941  4.81027989 4.98469856\n",
      " 3.66366568 2.15056856 2.14091899 4.32525702 0.37965015 1.86768438\n",
      " 0.21100716 0.2923534  4.1717836  0.20117833 3.7108751  3.64284169\n",
      " 1.64445663 4.59326851 2.63879944 2.87738157 0.08335331 4.61698891\n",
      " 3.27098807 4.52455298 3.32199786 0.90046185 3.88094944 1.8825868\n",
      " 3.22513146 1.753214   2.13448289 2.00990546 4.60519435 3.65795594\n",
      " 3.18689506 1.60689167 0.12907838 1.05932749 4.71437375 0.69635184\n",
      " 4.35556197 0.18148767 2.03972889 4.02875447 3.40378274 3.08368572\n",
      " 4.05126973 3.66929802 4.96288294 1.99992102 3.20004447 4.7545698\n",
      " 3.80484452 4.70558787 3.63806255 0.05832839 4.21113459 3.71346188\n",
      " 3.39527214 1.94467308 3.7928226  3.30471983 4.86417272 3.83899578\n",
      " 1.38890175 4.10687003 4.401413   4.22826149 4.73734006 1.27649638\n",
      " 4.36845968 3.36437382 0.91894711 1.98527742 1.40927494 2.37035506\n",
      " 4.58649208 3.485384   0.86909606 0.8755586  4.7376653  1.72155813\n",
      " 3.46577399 2.14732067 2.32044058 4.6065908  2.74623725 4.03990402\n",
      " 3.31132738 4.95184779 3.54574391 2.94303492 4.56107834 4.44425205\n",
      " 1.96392027 4.37065821 1.09294483 3.95801772 3.32232783 2.36501384\n",
      " 2.39018711 4.89746531 1.50331695 3.54970647 4.20708347 0.52844254\n",
      " 3.5890842  1.75098308 0.09854675 2.1835741  0.90545029 0.06037819\n",
      " 4.6854363  1.09867055 2.50807471 3.13633359 0.22051198 4.27824635\n",
      " 2.98102998 4.90251893 3.37954813 3.30828364 3.07464036 0.67910925\n",
      " 3.0731957  2.5938618  1.63188542 3.03899111 4.2623953  4.64011006\n",
      " 4.86523229 1.10327205 4.73249595 1.63944776 2.4881283  2.95311037\n",
      " 0.44582083 0.85768508 0.62532558 1.41211749 4.74854466 4.03172827\n",
      " 2.09541595 1.0411755  1.82128819 4.92714309 2.95803466 2.43493538\n",
      " 1.27637009 0.92709496 2.01511059 1.42754346 4.79313385 0.20202547\n",
      " 4.84062753 0.21823426 1.62376006 2.09277159 0.86967628 1.69513966\n",
      " 0.80910211 0.38055519 3.40402071 3.28469641 2.41542462 3.75920167\n",
      " 4.88424888 1.63794327 4.67222876 2.95181289 1.65215236 1.01487775\n",
      " 2.34085364 0.25781247 2.3834911  2.17019439 2.84304562 3.0819788\n",
      " 3.23510609 3.30168061 3.78407386 2.14706671 2.90002029 3.74385055\n",
      " 0.73553786 4.5957308  4.86972277 1.3169616  2.55717812 0.38919358\n",
      " 1.53199104 0.04535787 4.35774572 1.35630219 0.50880172 1.21322039\n",
      " 0.73343897 1.79853756 4.42013744 1.90982287]\n"
     ]
    }
   ],
   "source": [
    "import numpy\n",
    "x = numpy.random.uniform(0.0, 5.0, 250)\n",
    "print(x)"
   ]
  },
  {
   "cell_type": "markdown",
   "id": "b844bc62-9f28-4d58-8c66-b0337359a868",
   "metadata": {},
   "source": [
    "**Histogram**  \n",
    "To visualize the data set we can draw a histogram with the data we collected.\n",
    "\n",
    "We will use the Python module Matplotlib to draw a histogram.\n",
    "\n",
    "**Example**  \n",
    "Draw a histogram:"
   ]
  },
  {
   "cell_type": "code",
   "execution_count": 13,
   "id": "ff9fcc10-3832-49b8-bf57-d19afedeaf60",
   "metadata": {},
   "outputs": [
    {
     "data": {
      "image/png": "[encoded data removed]",
      "text/plain": [
       "<Figure size 640x480 with 1 Axes>"
      ]
     },
     "metadata": {},
     "output_type": "display_data"
    }
   ],
   "source": [
    "import numpy\n",
    "import matplotlib.pyplot as plt\n",
    "\n",
    "x = numpy.random.uniform(0.0, 5.0, 250)\n",
    "\n",
    "plt.hist(x, 5)\n",
    "plt.show()"
   ]
  },
  {
   "cell_type": "markdown",
   "id": "e9ca41a1-acdd-4590-8c07-2ef7801265f4",
   "metadata": {},
   "source": [
    "**Histogram Explained**  \n",
    "We use the array from the example above to draw a histogram with 5 bars.\n",
    "\n",
    "The first bar represents how many values in the array are between 0 and 1.\n",
    "\n",
    "The second bar represents how many values are between 1 and 2.\n",
    "\n",
    "Etc.\n",
    "\n",
    "Which gives us this result:\n",
    "\n",
    "52 values are between 0 and 1  \n",
    "48 values are between 1 and 2  \n",
    "49 values are between 2 and 3  \n",
    "51 values are between 3 and 4  \n",
    "50 values are between 4 and 5  \n",
    "Note: The array values are random numbers and will not show the exact same result on your computer.\n",
    "\n",
    "**Big Data Distributions**  \n",
    "An array containing 250 values is not considered very big, but now you know how to create a random set of values, and by changing the parameters, you can create the data set as big as you want.\n",
    "\n",
    "**Example**  \n",
    "Create an array with 100000 random numbers, and display them using a histogram with 1000 bars:"
   ]
  },
  {
   "cell_type": "code",
   "execution_count": 14,
   "id": "78a464c3-524a-46d8-94d0-10a70959ef11",
   "metadata": {},
   "outputs": [
    {
     "data": {
      "image/png": "[encoded data removed]",
      "text/plain": [
       "<Figure size 640x480 with 1 Axes>"
      ]
     },
     "metadata": {},
     "output_type": "display_data"
    }
   ],
   "source": [
    "import numpy\n",
    "import matplotlib.pyplot as plt\n",
    "\n",
    "x = numpy.random.uniform(0.0, 5.0, 100000)\n",
    "\n",
    "plt.hist(x, 1000)\n",
    "plt.show()"
   ]
  },
  {
   "cell_type": "markdown",
   "id": "c9133106-53d2-41d8-8f05-aed74a54585a",
   "metadata": {},
   "source": [
    "# Normal Data Distribution"
   ]
  },
  {
   "cell_type": "markdown",
   "id": "743f240c-4b56-4120-b321-fb19556776fc",
   "metadata": {},
   "source": [
    "In the previous chapter we learned how to create a completely random array, of a given size, and between two given values.\n",
    "\n",
    "In this chapter we will learn how to create an array where the values are concentrated around a given value.\n",
    "\n",
    "In probability theory this kind of data distribution is known as the normal data distribution, or the Gaussian data distribution, after the mathematician Carl Friedrich Gauss who came up with the formula of this data distribution.\n",
    "\n",
    "**Example**  \n",
    "A typical normal data distribution:"
   ]
  },
  {
   "cell_type": "code",
   "execution_count": 15,
   "id": "57e699c1-1748-4991-b0f6-bb5ec829c260",
   "metadata": {},
   "outputs": [
    {
     "data": {
      "image/png": "[encoded data removed]",
      "text/plain": [
       "<Figure size 640x480 with 1 Axes>"
      ]
     },
     "metadata": {},
     "output_type": "display_data"
    }
   ],
   "source": [
    "import numpy\n",
    "import matplotlib.pyplot as plt\n",
    "\n",
    "x = numpy.random.normal(5.0, 1.0, 100000)\n",
    "\n",
    "plt.hist(x, 1000)\n",
    "plt.show()"
   ]
  },
  {
   "cell_type": "markdown",
   "id": "a6faafef-1428-41c8-ba77-fea1cf97e3bb",
   "metadata": {},
   "source": [
    ">Note: A normal distribution graph is also known as the bell curve because of it's characteristic shape of a bell.\n",
    "\n",
    "**Histogram Explained**  \n",
    "We use the array from the numpy.random.normal() method, with 100000 values,  to draw a histogram with 1000 bars.\n",
    "\n",
    "We specify that the mean value is 5.0, and the standard deviation is 1.0.\n",
    "\n",
    "Meaning that the values should be concentrated around 5.0, and rarely further away than 1.0 from the mean.\n",
    "\n",
    "And as you can see from the histogram, most values are between 4.0 and 6.0, with a top at approximately 5.0."
   ]
  },
  {
   "cell_type": "markdown",
   "id": "2914a833-6496-44e0-b97e-4d33079e55e3",
   "metadata": {},
   "source": [
    "# Scatter Plot"
   ]
  },
  {
   "cell_type": "markdown",
   "id": "353f89c8-2a29-48b8-8517-0b5296286ec0",
   "metadata": {},
   "source": [
    "A scatter plot is a diagram where each value in the data set is represented by a dot.\n",
    "\n",
    "\n",
    "The Matplotlib module has a method for drawing scatter plots, it needs two arrays of the same length, one for the values of the x-axis, and one for the values of the y-axis:\n",
    "\n",
    "x = [5,7,8,7,2,17,2,9,4,11,12,9,6]\n",
    "\n",
    "y = [99,86,87,88,111,86,103,87,94,78,77,85,86]\n",
    "\n",
    "The x array represents the age of each car.\n",
    "\n",
    "The y array represents the speed of each car.\n",
    "\n",
    "**Example**  \n",
    "Use the scatter() method to draw a scatter plot diagram:"
   ]
  },
  {
   "cell_type": "code",
   "execution_count": 16,
   "id": "202fa186-450a-4fa7-b34e-fe10a864992e",
   "metadata": {},
   "outputs": [
    {
     "data": {
      "image/png": "[encoded data removed]",
      "text/plain": [
       "<Figure size 640x480 with 1 Axes>"
      ]
     },
     "metadata": {},
     "output_type": "display_data"
    }
   ],
   "source": [
    "import matplotlib.pyplot as plt\n",
    "\n",
    "x = [5,7,8,7,2,17,2,9,4,11,12,9,6]\n",
    "y = [99,86,87,88,111,86,103,87,94,78,77,85,86]\n",
    "\n",
    "plt.scatter(x, y)\n",
    "plt.show()"
   ]
  },
  {
   "cell_type": "markdown",
   "id": "9738901b-c960-4d73-a66d-d838e05b152b",
   "metadata": {},
   "source": [
    "**Scatter Plot Explained**  \n",
    "The x-axis represents ages, and the y-axis represents speeds.\n",
    "\n",
    "What we can read from the diagram is that the two fastest cars were both 2 years old, and the slowest car was 12 years old.\n",
    "\n",
    ">Note: It seems that the newer the car, the faster it drives, but that could be a coincidence, after all we only registered 13 cars.\n",
    "\n",
    "**Random Data Distributions**  \n",
    "In Machine Learning the data sets can contain thousands-, or even millions, of values.\n",
    "\n",
    "You might not have real world data when you are testing an algorithm, you might have to use randomly generated values.\n",
    "\n",
    "As we have learned in the previous chapter, the NumPy module can help us with that!\n",
    "\n",
    "Let us create two arrays that are both filled with 1000 random numbers from a normal data distribution.\n",
    "\n",
    "The first array will have the mean set to 5.0 with a standard deviation of 1.0.\n",
    "\n",
    "The second array will have the mean set to 10.0 with a standard deviation of 2.0:\n",
    "\n",
    "**Example**  \n",
    "A scatter plot with 1000 dots:"
   ]
  },
  {
   "cell_type": "code",
   "execution_count": 17,
   "id": "7b4e6a2e-9e7d-41b7-b065-07200dae17ff",
   "metadata": {},
   "outputs": [
    {
     "data": {
      "image/png": "[encoded data removed]",
      "text/plain": [
       "<Figure size 640x480 with 1 Axes>"
      ]
     },
     "metadata": {},
     "output_type": "display_data"
    }
   ],
   "source": [
    "import numpy\n",
    "import matplotlib.pyplot as plt\n",
    "\n",
    "x = numpy.random.normal(5.0, 1.0, 1000)\n",
    "y = numpy.random.normal(10.0, 2.0, 1000)\n",
    "\n",
    "plt.scatter(x, y)\n",
    "plt.show()"
   ]
  },
  {
   "cell_type": "markdown",
   "id": "8933f5bc-7071-421b-bf0e-a2c9b4da091d",
   "metadata": {},
   "source": [
    "**Scatter Plot Explained**  \n",
    "We can see that the dots are concentrated around the value 5 on the x-axis, and 10 on the y-axis.\n",
    "\n",
    "We can also see that the spread is wider on the y-axis than on the x-axis."
   ]
  },
  {
   "cell_type": "markdown",
   "id": "ea573ce1-e156-4671-9084-fca0dcf003aa",
   "metadata": {},
   "source": [
    "# Linear Regression"
   ]
  },
  {
   "cell_type": "markdown",
   "id": "7511d512-ce94-41d0-b4cd-059fdcb54e6d",
   "metadata": {},
   "source": [
    "**Regression**  \n",
    "The term regression is used when you try to find the relationship between variables.\n",
    "\n",
    "In Machine Learning, and in statistical modeling, that relationship is used to predict the outcome of future events.\n",
    "\n",
    "**Linear Regression**  \n",
    "Linear regression uses the relationship between the data-points to draw a straight line through all them.\n",
    "\n",
    "This line can be used to predict future values.\n",
    "\n",
    "\n",
    "In Machine Learning, predicting the future is very important.\n",
    "\n",
    "**How Does it Work?**  \n",
    "Python has methods for finding a relationship between data-points and to draw a line of linear regression. We will show you how to use these methods instead of going through the mathematic formula.\n",
    "\n",
    "In the example below, the x-axis represents age, and the y-axis represents speed. We have registered the age and speed of 13 cars as they were passing a tollbooth. Let us see if the data we collected could be used in a linear regression:\n",
    "\n",
    "**Example**  \n",
    "Start by drawing a scatter plot:"
   ]
  },
  {
   "cell_type": "code",
   "execution_count": 18,
   "id": "089c59ae-c798-42b7-a73c-dc5e6de50dd3",
   "metadata": {},
   "outputs": [
    {
     "data": {
      "image/png": "[encoded data removed]",
      "text/plain": [
       "<Figure size 640x480 with 1 Axes>"
      ]
     },
     "metadata": {},
     "output_type": "display_data"
    }
   ],
   "source": [
    "import matplotlib.pyplot as plt\n",
    "\n",
    "x = [5,7,8,7,2,17,2,9,4,11,12,9,6]\n",
    "y = [99,86,87,88,111,86,103,87,94,78,77,85,86]\n",
    "\n",
    "plt.scatter(x, y)\n",
    "plt.show()"
   ]
  },
  {
   "cell_type": "markdown",
   "id": "9ba4b989-29fd-40b9-a948-d111b8dd7b80",
   "metadata": {},
   "source": [
    "**Example**  \n",
    "Import scipy and draw the line of Linear Regression:"
   ]
  },
  {
   "cell_type": "code",
   "execution_count": 19,
   "id": "58556525-19cf-4d1c-8724-367f1333c86c",
   "metadata": {},
   "outputs": [
    {
     "name": "stdout",
     "output_type": "stream",
     "text": [
      "slope :  -1.7512877115526118 , intercept :  103.10596026490066 , r :  -0.758591524376155 , p :  0.002646873922456106 , std_err :  0.453536157607742\n"
     ]
    },
    {
     "data": {
      "image/png": "[encoded data removed]",
      "text/plain": [
       "<Figure size 640x480 with 1 Axes>"
      ]
     },
     "metadata": {},
     "output_type": "display_data"
    }
   ],
   "source": [
    "import matplotlib.pyplot as plt\n",
    "from scipy import stats\n",
    "\n",
    "x = [5,7,8,7,2,17,2,9,4,11,12,9,6]\n",
    "y = [99,86,87,88,111,86,103,87,94,78,77,85,86]\n",
    "\n",
    "slope, intercept, r, p, std_err = stats.linregress(x, y)\n",
    "print(\"slope : \", str(slope), \", intercept : \", str(intercept), \", r : \", str(r), \", p : \", str(p), \", std_err : \", str(std_err))\n",
    "\n",
    "def myfunc(i):\n",
    "  return slope * i + intercept\n",
    "    \n",
    "#Run each value of the x array through the function.\n",
    "mymodel = list(map(myfunc, x))\n",
    "\n",
    "plt.scatter(x, y)\n",
    "plt.plot(x, mymodel)\n",
    "plt.show()"
   ]
  },
  {
   "cell_type": "markdown",
   "id": "265abe9d-972b-42b7-ad88-96817343324b",
   "metadata": {},
   "source": [
    "**Example Explained**  \n",
    "Import the modules you need.\n",
    "\n",
    "import matplotlib.pyplot as plt  \n",
    "from scipy import stats\n",
    "\n",
    "Create the arrays that represent the values of the x and y axis:\n",
    "\n",
    "x = [5,7,8,7,2,17,2,9,4,11,12,9,6]  \n",
    "y = [99,86,87,88,111,86,103,87,94,78,77,85,86]\n",
    "\n",
    "Execute a method that returns some important key values of Linear Regression:\n",
    "\n",
    "slope, intercept, r, p, std_err = stats.linregress(x, y)\n",
    "\n",
    "Create a function that uses the slope and intercept values to return a new value.  \n",
    "This new value represents where on the y-axis the corresponding x value will be placed:\n",
    "\n",
    "def myfunc(x):  \n",
    "&nbsp;return slope * x + intercept\n",
    "\n",
    "Run each value of the x array through the function. This will result in a new array with new values for the y-axis:\n",
    "\n",
    "mymodel = list(map(myfunc, x))\n",
    "\n",
    "Draw the original scatter plot:\n",
    "\n",
    "plt.scatter(x, y)\n",
    "\n",
    "Draw the line of linear regression:\n",
    "\n",
    "plt.plot(x, mymodel)\n",
    "\n",
    "Display the diagram:\n",
    "\n",
    "plt.show()"
   ]
  },
  {
   "cell_type": "markdown",
   "id": "b5b385e8-ba07-467c-bed7-9a992d326c20",
   "metadata": {},
   "source": [
    "**R for Relationship**  \n",
    "It is important to know how the relationship between the values of the x-axis and the values of the y-axis is, if there are no relationship the linear regression can not be used to predict anything.\n",
    "\n",
    "This relationship - the coefficient of correlation - is called r.\n",
    "\n",
    "The r value ranges from -1 to 1, where 0 means no relationship, and 1 (and -1) means 100% related.\n",
    "\n",
    "Python and the Scipy module will compute this value for you, all you have to do is feed it with the x and y values.\n",
    "\n",
    "Example\n",
    "How well does my data fit in a linear regression?"
   ]
  },
  {
   "cell_type": "code",
   "execution_count": 20,
   "id": "d37cac83-e8c9-4fdc-8f71-14b66e7d5bf3",
   "metadata": {},
   "outputs": [
    {
     "name": "stdout",
     "output_type": "stream",
     "text": [
      "-0.758591524376155\n"
     ]
    }
   ],
   "source": [
    "from scipy import stats\n",
    "\n",
    "x = [5,7,8,7,2,17,2,9,4,11,12,9,6]\n",
    "y = [99,86,87,88,111,86,103,87,94,78,77,85,86]\n",
    "\n",
    "slope, intercept, r, p, std_err = stats.linregress(x, y)\n",
    "\n",
    "print(r)"
   ]
  },
  {
   "cell_type": "markdown",
   "id": "682eb6e5-7b90-4c56-9ce3-55b4ae190fe7",
   "metadata": {},
   "source": [
    ">Note: The result -0.76 shows that there is a relationship, not perfect, but it indicates that we could use linear regression in future predictions.\n",
    "\n",
    "**Predict Future Values**  \n",
    "Now we can use the information we have gathered to predict future values.\n",
    "\n",
    "Example: Let us try to predict the speed of a 10 years old car.\n",
    "\n",
    "To do so, we need the same myfunc() function from the example above:\n",
    "def myfunc(x):  \n",
    "&nbsp;  return slope * x + intercept\n",
    "\n",
    "**Example**  \n",
    "Predict the speed of a 10 years old car:"
   ]
  },
  {
   "cell_type": "code",
   "execution_count": 21,
   "id": "3db85d80-ab66-446a-8b32-9036ed0c573f",
   "metadata": {},
   "outputs": [
    {
     "name": "stdout",
     "output_type": "stream",
     "text": [
      "85.59308314937454\n"
     ]
    }
   ],
   "source": [
    "from scipy import stats\n",
    "\n",
    "x = [5,7,8,7,2,17,2,9,4,11,12,9,6]\n",
    "y = [99,86,87,88,111,86,103,87,94,78,77,85,86]\n",
    "\n",
    "slope, intercept, r, p, std_err = stats.linregress(x, y)\n",
    "\n",
    "def myfunc(x):\n",
    "  return slope * x + intercept\n",
    "\n",
    "speed = myfunc(10)\n",
    "\n",
    "print(speed)"
   ]
  },
  {
   "cell_type": "markdown",
   "id": "0ee02962-fa2b-43ed-b71d-96af2bbe276b",
   "metadata": {},
   "source": [
    "The example predicted a speed at 85.6, which we also could read from the diagram:  \n",
    "**Bad Fit?**  \n",
    "Let us create an example where linear regression would not be the best method to predict future values.\n",
    "\n",
    "**Example**  \n",
    "These values for the x- and y-axis should result in a very bad fit for linear regression:"
   ]
  },
  {
   "cell_type": "code",
   "execution_count": 22,
   "id": "29aaba09-6a3b-4be3-871e-3d9d3bc6db4f",
   "metadata": {},
   "outputs": [
    {
     "data": {
      "image/png": "[encoded data removed]",
      "text/plain": [
       "<Figure size 640x480 with 1 Axes>"
      ]
     },
     "metadata": {},
     "output_type": "display_data"
    }
   ],
   "source": [
    "import matplotlib.pyplot as plt\n",
    "from scipy import stats\n",
    "\n",
    "x = [89,43,36,36,95,10,66,34,38,20,26,29,48,64,6,5,36,66,72,40]\n",
    "y = [21,46,3,35,67,95,53,72,58,10,26,34,90,33,38,20,56,2,47,15]\n",
    "\n",
    "slope, intercept, r, p, std_err = stats.linregress(x, y)\n",
    "\n",
    "def myfunc(x):\n",
    "  return slope * x + intercept\n",
    "\n",
    "mymodel = list(map(myfunc, x))\n",
    "\n",
    "plt.scatter(x, y)\n",
    "plt.plot(x, mymodel)\n",
    "plt.show()"
   ]
  },
  {
   "cell_type": "markdown",
   "id": "a8cc6d21-f003-471f-b654-915acd21d7b8",
   "metadata": {},
   "source": [
    "And the r for relationship?\n",
    "\n",
    "**Example**  \n",
    "You should get a very low r value."
   ]
  },
  {
   "cell_type": "code",
   "execution_count": 31,
   "id": "d78ea77c-bd24-454d-b67d-eedd1e60cea3",
   "metadata": {},
   "outputs": [
    {
     "name": "stdout",
     "output_type": "stream",
     "text": [
      "0.01331814154297491\n"
     ]
    }
   ],
   "source": [
    "import numpy\n",
    "from scipy import stats\n",
    "\n",
    "x = [89,43,36,36,95,10,66,34,38,20,26,29,48,64,6,5,36,66,72,40]\n",
    "y = [21,46,3,35,67,95,53,72,58,10,26,34,90,33,38,20,56,2,47,15]\n",
    "\n",
    "slope, intercept, r, p, std_err = stats.linregress(x, y)\n",
    "\n",
    "print(r)"
   ]
  },
  {
   "cell_type": "markdown",
   "id": "ea047701-49fa-4ff1-833a-9c7a9f028baf",
   "metadata": {},
   "source": [
    ">The result: 0.013 indicates a very bad relationship, and tells us that this data set is not suitable for linear regression."
   ]
  },
  {
   "cell_type": "markdown",
   "id": "111646c5-3642-46e3-a68b-1905c10e2887",
   "metadata": {},
   "source": [
    "# Polynomial Regression"
   ]
  },
  {
   "cell_type": "markdown",
   "id": "93da9dc4-46f6-41e1-991f-f24a1a0b7a01",
   "metadata": {},
   "source": [
    "If your data points clearly will not fit a linear regression (a straight line through all data points), it might be ideal for polynomial regression.\n",
    "\n",
    "Polynomial regression, like linear regression, uses the relationship between the variables x and y to find the best way to draw a line through the data points.\n",
    "\n",
    "\n",
    "**How Does it Work?**  \n",
    "Python has methods for finding a relationship between data-points and to draw a line of polynomial regression. We will show you how to use these methods instead of going through the mathematic formula.\n",
    "\n",
    "In the example below, we have registered 18 cars as they were passing a certain tollbooth.\n",
    "\n",
    "We have registered the car's speed, and the time of day (hour) the passing occurred.\n",
    "\n",
    "The x-axis represents the hours of the day and the y-axis represents the speed:\n",
    "\n",
    "**Example**  \n",
    "Start by drawing a scatter plot:"
   ]
  },
  {
   "cell_type": "code",
   "execution_count": 32,
   "id": "617e972d-574c-4d0b-983f-391c42dbb77c",
   "metadata": {},
   "outputs": [
    {
     "data": {
      "image/png": "[encoded data removed]",
      "text/plain": [
       "<Figure size 640x480 with 1 Axes>"
      ]
     },
     "metadata": {},
     "output_type": "display_data"
    }
   ],
   "source": [
    "import matplotlib.pyplot as plt\n",
    "\n",
    "x = [1,2,3,5,6,7,8,9,10,12,13,14,15,16,18,19,21,22]\n",
    "y = [100,90,80,60,60,55,60,65,70,70,75,76,78,79,90,99,99,100]\n",
    "\n",
    "plt.scatter(x, y)\n",
    "plt.show()"
   ]
  },
  {
   "cell_type": "markdown",
   "id": "1c70872f-1774-4398-9b30-e231dabd9298",
   "metadata": {},
   "source": [
    "**Example**  \n",
    "Import numpy and matplotlib then draw the line of Polynomial Regression:"
   ]
  },
  {
   "cell_type": "code",
   "execution_count": 25,
   "id": "5b417260-1b0d-4a8c-a574-e4f1dd1dfe0b",
   "metadata": {},
   "outputs": [
    {
     "data": {
      "image/png": "[encoded data removed]",
      "text/plain": [
       "<Figure size 640x480 with 1 Axes>"
      ]
     },
     "metadata": {},
     "output_type": "display_data"
    }
   ],
   "source": [
    "import numpy\n",
    "import matplotlib.pyplot as plt\n",
    "\n",
    "x = [1,2,3,5,6,7,8,9,10,12,13,14,15,16,18,19,21,22]\n",
    "y = [100,90,80,60,60,55,60,65,70,70,75,76,78,79,90,99,99,100]\n",
    "\n",
    "mymodel = numpy.poly1d(numpy.polyfit(x, y, 3))\n",
    "\n",
    "myline = numpy.linspace(1, 22, 100)\n",
    "\n",
    "plt.scatter(x, y)\n",
    "plt.plot(myline, mymodel(myline))\n",
    "plt.show()"
   ]
  },
  {
   "cell_type": "markdown",
   "id": "c062b74d-ebd2-463f-9636-8d9b9e18187c",
   "metadata": {},
   "source": [
    "**Example Explained**  \n",
    "Import the modules you need.\n",
    "\n",
    "import numpy\n",
    "import matplotlib.pyplot as plt\n",
    "\n",
    "Create the arrays that represent the values of the x and y axis:\n",
    "\n",
    "x = [1,2,3,5,6,7,8,9,10,12,13,14,15,16,18,19,21,22]  \n",
    "y = [100,90,80,60,60,55,60,65,70,70,75,76,78,79,90,99,99,100]\n",
    "\n",
    "NumPy has a method that lets us make a polynomial model:\n",
    "\n",
    "mymodel = numpy.poly1d(numpy.polyfit(x, y, 3))\n",
    "\n",
    "Then specify how the line will display, we start at position 1, and end at position 22:\n",
    "\n",
    "myline = numpy.linspace(1, 22, 100)\n",
    "\n",
    "Draw the original scatter plot:\n",
    "\n",
    "plt.scatter(x, y)\n",
    "\n",
    "Draw the line of polynomial regression:\n",
    "\n",
    "plt.plot(myline, mymodel(myline))\n",
    "\n",
    "Display the diagram:\n",
    "\n",
    "plt.show()"
   ]
  },
  {
   "cell_type": "markdown",
   "id": "136e04b5-4f69-4dc6-836b-85c67efd7dba",
   "metadata": {},
   "source": [
    "**R-Squared**  \n",
    "It is important to know how well the relationship between the values of the x- and y-axis is, if there are no relationship the polynomial regression can not be used to predict anything.\n",
    "\n",
    "The relationship is measured with a value called the r-squared.\n",
    "\n",
    "The r-squared value ranges from 0 to 1, where 0 means no relationship, and 1 means 100% related.\n",
    "\n",
    "Python and the Sklearn module will compute this value for you, all you have to do is feed it with the x and y arrays:\n",
    "\n",
    "**Example**  \n",
    "How well does my data fit in a polynomial regression?"
   ]
  },
  {
   "cell_type": "code",
   "execution_count": 26,
   "id": "3fadc326-1cfc-47b0-9d38-272fbe729a89",
   "metadata": {},
   "outputs": [
    {
     "name": "stdout",
     "output_type": "stream",
     "text": [
      "0.9432150416451026\n"
     ]
    }
   ],
   "source": [
    "import numpy\n",
    "from sklearn.metrics import r2_score\n",
    "\n",
    "x = [1,2,3,5,6,7,8,9,10,12,13,14,15,16,18,19,21,22]\n",
    "y = [100,90,80,60,60,55,60,65,70,70,75,76,78,79,90,99,99,100]\n",
    "\n",
    "mymodel = numpy.poly1d(numpy.polyfit(x, y, 3))\n",
    "\n",
    "print(r2_score(y, mymodel(x)))"
   ]
  },
  {
   "cell_type": "markdown",
   "id": "98686b8f-655d-477c-97f0-2ec896504c70",
   "metadata": {},
   "source": [
    ">Note: The result 0.94 shows that there is a very good relationship, and we can use polynomial regression in future predictions.\n",
    "\n",
    "**Predict Future Values**  \n",
    "Now we can use the information we have gathered to predict future values.\n",
    "\n",
    "Example: Let us try to predict the speed of a car that passes the tollbooth at around the time 17:00:\n",
    "\n",
    "To do so, we need the same mymodel array from the example above:\n",
    "\n",
    "mymodel = numpy.poly1d(numpy.polyfit(x, y, 3))\n",
    "\n",
    "**Example**  \n",
    "Predict the speed of a car passing at 17:00:"
   ]
  },
  {
   "cell_type": "code",
   "execution_count": 27,
   "id": "9bdb2342-0519-4303-8940-24a72871d4da",
   "metadata": {},
   "outputs": [
    {
     "name": "stdout",
     "output_type": "stream",
     "text": [
      "88.87331269697978\n"
     ]
    }
   ],
   "source": [
    "import numpy\n",
    "from sklearn.metrics import r2_score\n",
    "\n",
    "x = [1,2,3,5,6,7,8,9,10,12,13,14,15,16,18,19,21,22]  \n",
    "y = [100,90,80,60,60,55,60,65,70,70,75,76,78,79,90,99,99,100]\n",
    "\n",
    "mymodel = numpy.poly1d(numpy.polyfit(x, y, 3))\n",
    "\n",
    "speed = mymodel(17)\n",
    "print(speed)"
   ]
  },
  {
   "cell_type": "markdown",
   "id": "eb17db8a-44b5-4363-8682-d69be777eac2",
   "metadata": {},
   "source": [
    "The example predicted a speed to be 88.87, which we also could read from the diagram:\n",
    "\n",
    "\n",
    "**Bad Fit?**  \n",
    "Let us create an example where polynomial regression would not be the best method to predict future values.\n",
    "\n",
    "**Example**  \n",
    "These values for the x- and y-axis should result in a very bad fit for polynomial regression:"
   ]
  },
  {
   "cell_type": "code",
   "execution_count": 28,
   "id": "3474dc81-73d2-4668-a822-1bd840ccd3b7",
   "metadata": {},
   "outputs": [
    {
     "data": {
      "image/png": "[encoded data removed]",
      "text/plain": [
       "<Figure size 640x480 with 1 Axes>"
      ]
     },
     "metadata": {},
     "output_type": "display_data"
    }
   ],
   "source": [
    "import numpy\n",
    "import matplotlib.pyplot as plt\n",
    "\n",
    "x = [89,43,36,36,95,10,66,34,38,20,26,29,48,64,6,5,36,66,72,40]\n",
    "y = [21,46,3,35,67,95,53,72,58,10,26,34,90,33,38,20,56,2,47,15]\n",
    "\n",
    "mymodel = numpy.poly1d(numpy.polyfit(x, y, 3))\n",
    "\n",
    "myline = numpy.linspace(2, 95, 100)\n",
    "\n",
    "plt.scatter(x, y)\n",
    "plt.plot(myline, mymodel(myline))\n",
    "plt.show()"
   ]
  },
  {
   "cell_type": "markdown",
   "id": "0d9ee9d2-9e1f-43c8-b3bf-7391f5a4f822",
   "metadata": {},
   "source": [
    "And the r-squared value?\n",
    "\n",
    "**Example**  \n",
    "You should get a very low r-squared value."
   ]
  },
  {
   "cell_type": "code",
   "execution_count": 29,
   "id": "f4a228c2-b97f-49ed-af29-a2a36532c44a",
   "metadata": {},
   "outputs": [
    {
     "name": "stdout",
     "output_type": "stream",
     "text": [
      "0.009952707566680652\n"
     ]
    }
   ],
   "source": [
    "import numpy\n",
    "from sklearn.metrics import r2_score\n",
    "\n",
    "x = [89,43,36,36,95,10,66,34,38,20,26,29,48,64,6,5,36,66,72,40]\n",
    "y = [21,46,3,35,67,95,53,72,58,10,26,34,90,33,38,20,56,2,47,15]\n",
    "\n",
    "mymodel = numpy.poly1d(numpy.polyfit(x, y, 3))\n",
    "\n",
    "print(r2_score(y, mymodel(x)))"
   ]
  },
  {
   "cell_type": "markdown",
   "id": "743f733c-3678-4e65-8534-80abcf4ee035",
   "metadata": {},
   "source": [
    ">The result: 0.00995 indicates a very bad relationship, and tells us that this data set is not suitable for polynomial regression."
   ]
  },
  {
   "cell_type": "markdown",
   "id": "a97e8ad1-0332-4b4f-a8e0-09137701f3f1",
   "metadata": {},
   "source": [
    "# Multiple Regression"
   ]
  },
  {
   "cell_type": "markdown",
   "id": "7cb2a0b3-f388-4384-ae50-be3a7e2f332d",
   "metadata": {},
   "source": [
    "Multiple regression is like linear regression, but with more than one independent value, meaning that we try to predict a value based on two or more variables.\n",
    "\n",
    "Take a look at the data set below, it contains some information about cars.\n",
    "\n",
    "| Car        | Model      | Volume | Weight | CO2 |\n",
    "| ---------- | ---------- | ------ | ------ | --- |\n",
    "| Toyota     | Aygo       | 1000   | 790    | 99  |\n",
    "| Mitsubishi | Space Star | 1200   | 1160   | 95  |\n",
    "| Skoda      | Citigo     | 1000   | 929    | 95  |\n",
    "| Fiat       | 500        | 900    | 865    | 90  |\n",
    "| Mini       | Cooper     | 1500   | 1140   | 105 |\n",
    "| VW         | Up!        | 1000   | 929    | 105 |\n",
    "| Skoda      | Fabia      | 1400   | 1109   | 90  |\n",
    "| Mercedes   | A-Class    | 1500   | 1365   | 92  |\n",
    "| Ford       | Fiesta     | 1500   | 1112   | 98  |\n",
    "| Audi       | A1         | 1600   | 1150   | 99  |\n",
    "| Hyundai    | I20        | 1100   | 980    | 99  |\n",
    "| Suzuki     | Swift      | 1300   | 990    | 101 |\n",
    "| Ford       | Fiesta     | 1000   | 1112   | 99  |\n",
    "| Honda      | Civic      | 1600   | 1252   | 94  |\n",
    "| Hundai     | I30        | 1600   | 1326   | 97  |\n",
    "| Opel       | Astra      | 1600   | 1330   | 97  |\n",
    "| BMW        | 1          | 1600   | 1365   | 99  |\n",
    "| Mazda      | 3          | 2200   | 1280   | 104 |\n",
    "| Skoda      | Rapid      | 1600   | 1119   | 104 |\n",
    "| Ford       | Focus      | 2000   | 1328   | 105 |\n",
    "| Ford       | Mondeo     | 1600   | 1584   | 94  |\n",
    "| Opel       | Insignia   | 2000   | 1428   | 99  |\n",
    "| Mercedes   | C-Class    | 2100   | 1365   | 99  |\n",
    "| Skoda      | Octavia    | 1600   | 1415   | 99  |\n",
    "| Volvo      | S60        | 2000   | 1415   | 99  |\n",
    "| Mercedes   | CLA        | 1500   | 1465   | 102 |\n",
    "| Audi       | A4         | 2000   | 1490   | 104 |\n",
    "| Audi       | A6         | 2000   | 1725   | 114 |\n",
    "| Volvo      | V70        | 1600   | 1523   | 109 |\n",
    "| BMW        | 5          | 2000   | 1705   | 114 |\n",
    "| Mercedes   | E-Class    | 2100   | 1605   | 115 |\n",
    "| Volvo      | XC70       | 2000   | 1746   | 117 |\n",
    "| Ford       | B-Max      | 1600   | 1235   | 104 |\n",
    "| BMW        | 2          | 1600   | 1390   | 108 |\n",
    "| Opel       | Zafira     | 1600   | 1405   | 109 |\n",
    "| Mercedes   | SLK        | 2500   | 1395   | 120 |"
   ]
  },
  {
   "cell_type": "markdown",
   "id": "982b4d58-2cdb-42f6-a128-16f153ae02ba",
   "metadata": {},
   "source": [
    "We can predict the CO2 emission of a car based on the size of the engine, but with multiple regression we can throw in more variables, like the weight of the car, to make the prediction more accurate."
   ]
  },
  {
   "cell_type": "markdown",
   "id": "fb7298c5-bac4-422f-96c4-147c11b44e4f",
   "metadata": {},
   "source": [
    "**How Does it Work?**  \n",
    "In Python we have modules that will do the work for us. Start by importing the Pandas module.\n",
    "\n",
    "import pandas\n",
    "\n",
    "Learn about the Pandas module in our Pandas Tutorial.\n",
    "\n",
    "The Pandas module allows us to read csv files and return a DataFrame object.\n",
    "\n",
    "The file is meant for testing purposes only, you can download it here: data.csv\n",
    "\n",
    "df = pandas.read_csv(\"RegressionData.csv\")\n",
    "\n",
    "Then make a list of the independent values and call this variable X.\n",
    "\n",
    "Put the dependent values in a variable called y.\n",
    "\n",
    "X = df[['Weight', 'Volume']]  \n",
    "y = df['CO2']\n",
    "\n",
    "Tip: It is common to name the list of independent values with a upper case X, and the list of dependent values with a lower case y.\n",
    "\n",
    "We will use some methods from the sklearn module, so we will have to import that module as well:\n",
    "\n",
    "from sklearn import linear_model\n",
    "\n",
    "From the sklearn module we will use the LinearRegression() method to create a linear regression object.\n",
    "\n",
    "This object has a method called fit() that takes the independent and dependent values as parameters and fills the regression object with data that describes the relationship:\n",
    "\n",
    "regr = linear_model.LinearRegression()  \n",
    "regr.fit(X, y)\n",
    "\n",
    "Now we have a regression object that are ready to predict CO2 values based on a car's weight and volume:\n",
    "\n",
    "#predict the CO2 emission of a car where the weight is 2300kg, and the volume is 1300cm3:  \n",
    "predictedCO2 = regr.predict([[2300, 1300]])\n",
    "\n",
    "**Example**  \n",
    "See the whole example in action:"
   ]
  },
  {
   "cell_type": "code",
   "execution_count": 36,
   "id": "b870ccf5-0344-4d2c-abb5-6a6f989ebe1c",
   "metadata": {},
   "outputs": [
    {
     "name": "stdout",
     "output_type": "stream",
     "text": [
      "[107.2087328]\n"
     ]
    },
    {
     "name": "stderr",
     "output_type": "stream",
     "text": [
      "C:\\ProgramData\\miniconda3\\envs\\AiEnv\\Lib\\site-packages\\sklearn\\base.py:493: UserWarning: X does not have valid feature names, but LinearRegression was fitted with feature names\n",
      "  warnings.warn(\n"
     ]
    }
   ],
   "source": [
    "import pandas\n",
    "from sklearn import linear_model\n",
    "\n",
    "df = pandas.read_csv(\"RegressionData.csv\")\n",
    "\n",
    "X = df[['Weight', 'Volume']]\n",
    "y = df['CO2']\n",
    "\n",
    "regr = linear_model.LinearRegression()\n",
    "regr.fit(X, y)\n",
    "\n",
    "#predict the CO2 emission of a car where the weight is 2300kg, and the volume is 1300cm3:\n",
    "predictedCO2 = regr.predict([[2300, 1300]])\n",
    "\n",
    "print(predictedCO2)"
   ]
  },
  {
   "cell_type": "markdown",
   "id": "da7315f0-b238-4509-9efa-0aabab9f701a",
   "metadata": {},
   "source": [
    "We have predicted that a car with 1.3 liter engine, and a weight of 2300 kg, will release approximately 107 grams of CO2 for every kilometer it drives."
   ]
  },
  {
   "cell_type": "markdown",
   "id": "d9a7d296-4af3-4de1-8d4f-278296b79266",
   "metadata": {},
   "source": [
    "**Coefficient**  \n",
    "The coefficient is a factor that describes the relationship with an unknown variable.\n",
    "\n",
    "Example: if x is a variable, then 2x is x two times. x is the unknown variable, and the number 2 is the coefficient.\n",
    "\n",
    "In this case, we can ask for the coefficient value of weight against CO2, and for volume against CO2. The answer(s) we get tells us what would happen if we increase, or decrease, one of the independent values.\n",
    "\n",
    "**Example**  \n",
    "Print the coefficient values of the regression object:"
   ]
  },
  {
   "cell_type": "code",
   "execution_count": 38,
   "id": "343382db-2500-4357-a8fe-a3c9af43b963",
   "metadata": {},
   "outputs": [
    {
     "name": "stdout",
     "output_type": "stream",
     "text": [
      "[0.00755095 0.00780526]\n"
     ]
    }
   ],
   "source": [
    "print(regr.coef_)"
   ]
  },
  {
   "cell_type": "markdown",
   "id": "a870375a-6801-4186-aa5a-01210a812599",
   "metadata": {},
   "source": [
    "**Result Explained**  \n",
    "The result array represents the coefficient values of weight and volume.\n",
    "\n",
    "Weight: 0.00755095  \n",
    "Volume: 0.00780526\n",
    "\n",
    "These values tell us that if the weight increase by 1kg, the CO2 emission increases by 0.00755095g.\n",
    "\n",
    "And if the engine size (Volume) increases by 1 cm3, the CO2 emission increases by 0.00780526 g.\n",
    "\n",
    "I think that is a fair guess, but let test it!\n",
    "\n",
    "We have already predicted that if a car with a 1300cm3 engine weighs 2300kg, the CO2 emission will be approximately 107g.\n",
    "\n",
    "What if we increase the weight with 1000kg?\n",
    "\n",
    "**Example**  \n",
    "Copy the example from before, but change the weight from 2300 to 3300:"
   ]
  },
  {
   "cell_type": "code",
   "execution_count": 42,
   "id": "d6cfaf82-1936-4e4d-a30c-5316d164b693",
   "metadata": {},
   "outputs": [
    {
     "name": "stdout",
     "output_type": "stream",
     "text": [
      "[114.75968007]\n",
      "[115.01399033]\n"
     ]
    },
    {
     "name": "stderr",
     "output_type": "stream",
     "text": [
      "C:\\ProgramData\\miniconda3\\envs\\AiEnv\\Lib\\site-packages\\sklearn\\base.py:493: UserWarning: X does not have valid feature names, but LinearRegression was fitted with feature names\n",
      "  warnings.warn(\n",
      "C:\\ProgramData\\miniconda3\\envs\\AiEnv\\Lib\\site-packages\\sklearn\\base.py:493: UserWarning: X does not have valid feature names, but LinearRegression was fitted with feature names\n",
      "  warnings.warn(\n"
     ]
    }
   ],
   "source": [
    "predictedCO2 = regr.predict([[3300, 1300]])\n",
    "print(predictedCO2)\n",
    "\n",
    "predictedCO2 = regr.predict([[2300, 2300]])\n",
    "print(predictedCO2)"
   ]
  },
  {
   "cell_type": "markdown",
   "id": "7f63b7a1-6f3d-4e7e-9d1a-bd06b2fa94a1",
   "metadata": {},
   "source": [
    "We have predicted that a car with 1.3 liter engine, and a weight of 3300 kg, will release approximately 115 grams of CO2 for every kilometer it drives.\n",
    "\n",
    "Which shows that the coefficient of 0.00755095 is correct:\n",
    "\n",
    "107.2087328 + (1000 * 0.00755095) = 114.7596828  \n",
    "107.2087328 + (1000 * 0.00780526) = 115.0139928"
   ]
  },
  {
   "cell_type": "markdown",
   "id": "9a937ded-8b8e-4ed0-828c-016854f87b67",
   "metadata": {},
   "source": [
    "# Scale"
   ]
  },
  {
   "cell_type": "markdown",
   "id": "b11766e7-3751-4b14-9159-a7b33925459b",
   "metadata": {},
   "source": [
    "**Scale Features**  \n",
    "When your data has different values, and even different measurement units, it can be difficult to compare them. What is kilograms compared to meters? Or altitude compared to time?\n",
    "\n",
    "The answer to this problem is scaling. We can scale data into new values that are easier to compare.\n",
    "\n",
    "Take a look at the table below, it is the same data set that we used in the multiple regression chapter, but this time the volume column contains values in liters instead of cm3 (1.0 instead of 1000)."
   ]
  },
  {
   "cell_type": "markdown",
   "id": "2adc13eb-dda4-4d51-95ad-c8cb3b14e2d3",
   "metadata": {},
   "source": [
    "It can be difficult to compare the volume 1.0 with the weight 790, but if we scale them both into comparable values, we can easily see how much one value is compared to the other.\n",
    "\n",
    "There are different methods for scaling data, in this tutorial we will use a method called standardization.\n",
    "\n",
    "The standardization method uses this formula:\n",
    "\n",
    "z = (x - u) / s\n",
    "\n",
    "Where z is the new value, x is the original value, u is the mean and s is the standard deviation.\n",
    "\n",
    "If you take the weight column from the data set above, the first value is 790, and the scaled value will be:\n",
    "\n",
    "(790 - 1292.23) / 238.74 = -2.1  \n",
    "If you take the volume column from the data set above, the first value is 1.0, and the scaled value will be:\n",
    "\n",
    "(1.0 - 1.61) / 0.38 = -1.59\n",
    "\n",
    "Now you can compare -2.1 with -1.59 instead of comparing 790 with 1.0.\n",
    "\n",
    "You do not have to do this manually, the Python sklearn module has a method called StandardScaler() which returns a Scaler object with methods for transforming data sets.\n",
    "\n",
    "**Example**  \n",
    "Scale all values in the Weight and Volume columns:  \n",
    "Note that the first two values are -2.1 and -1.59, which corresponds to our calculations:"
   ]
  },
  {
   "cell_type": "code",
   "execution_count": 43,
   "id": "ef620a59-87ca-4858-85b1-e5b264d322c4",
   "metadata": {},
   "outputs": [
    {
     "name": "stdout",
     "output_type": "stream",
     "text": [
      "[[-2.10389253 -1.59336644]\n",
      " [-0.55407235 -1.07190106]\n",
      " [-1.52166278 -1.59336644]\n",
      " [-1.78973979 -1.85409913]\n",
      " [-0.63784641 -0.28970299]\n",
      " [-1.52166278 -1.59336644]\n",
      " [-0.76769621 -0.55043568]\n",
      " [ 0.3046118  -0.28970299]\n",
      " [-0.7551301  -0.28970299]\n",
      " [-0.59595938 -0.0289703 ]\n",
      " [-1.30803892 -1.33263375]\n",
      " [-1.26615189 -0.81116837]\n",
      " [-0.7551301  -1.59336644]\n",
      " [-0.16871166 -0.0289703 ]\n",
      " [ 0.14125238 -0.0289703 ]\n",
      " [ 0.15800719 -0.0289703 ]\n",
      " [ 0.3046118  -0.0289703 ]\n",
      " [-0.05142797  1.53542584]\n",
      " [-0.72580918 -0.0289703 ]\n",
      " [ 0.14962979  1.01396046]\n",
      " [ 1.2219378  -0.0289703 ]\n",
      " [ 0.5685001   1.01396046]\n",
      " [ 0.3046118   1.27469315]\n",
      " [ 0.51404696 -0.0289703 ]\n",
      " [ 0.51404696  1.01396046]\n",
      " [ 0.72348212 -0.28970299]\n",
      " [ 0.8281997   1.01396046]\n",
      " [ 1.81254495  1.01396046]\n",
      " [ 0.96642691 -0.0289703 ]\n",
      " [ 1.72877089  1.01396046]\n",
      " [ 1.30990057  1.27469315]\n",
      " [ 1.90050772  1.01396046]\n",
      " [-0.23991961 -0.0289703 ]\n",
      " [ 0.40932938 -0.0289703 ]\n",
      " [ 0.47215993 -0.0289703 ]\n",
      " [ 0.4302729   2.31762392]]\n"
     ]
    }
   ],
   "source": [
    "import pandas\n",
    "from sklearn import linear_model\n",
    "from sklearn.preprocessing import StandardScaler\n",
    "scale = StandardScaler()\n",
    "\n",
    "df = pandas.read_csv(\"RegressionData.csv\")\n",
    "\n",
    "X = df[['Weight', 'Volume']]\n",
    "\n",
    "scaledX = scale.fit_transform(X)\n",
    "\n",
    "print(scaledX)"
   ]
  },
  {
   "cell_type": "markdown",
   "id": "2fa87813-5abe-4f68-80ea-ce3fa09dcc00",
   "metadata": {},
   "source": [
    "**Predict CO2 Values**  \n",
    "The task in the Multiple Regression chapter was to predict the CO2 emission from a car when you only knew its weight and volume.\n",
    "\n",
    "When the data set is scaled, you will have to use the scale when you predict values:\n",
    "\n",
    "**Example**  \n",
    "Predict the CO2 emission from a 1.3 liter car that weighs 2300 kilograms:"
   ]
  },
  {
   "cell_type": "code",
   "execution_count": 44,
   "id": "25bfac8e-cbfb-479e-939d-66fc2a5bc5cc",
   "metadata": {},
   "outputs": [
    {
     "name": "stdout",
     "output_type": "stream",
     "text": [
      "[97.07204485]\n"
     ]
    },
    {
     "name": "stderr",
     "output_type": "stream",
     "text": [
      "C:\\ProgramData\\miniconda3\\envs\\AiEnv\\Lib\\site-packages\\sklearn\\base.py:493: UserWarning: X does not have valid feature names, but StandardScaler was fitted with feature names\n",
      "  warnings.warn(\n"
     ]
    }
   ],
   "source": [
    "import pandas\n",
    "from sklearn import linear_model\n",
    "from sklearn.preprocessing import StandardScaler\n",
    "scale = StandardScaler()\n",
    "\n",
    "df = pandas.read_csv(\"RegressionData.csv\")\n",
    "\n",
    "X = df[['Weight', 'Volume']]\n",
    "y = df['CO2']\n",
    "\n",
    "scaledX = scale.fit_transform(X)\n",
    "\n",
    "regr = linear_model.LinearRegression()\n",
    "regr.fit(scaledX, y)\n",
    "\n",
    "scaled = scale.transform([[2300, 1.3]])\n",
    "\n",
    "predictedCO2 = regr.predict([scaled[0]])\n",
    "print(predictedCO2)"
   ]
  },
  {
   "cell_type": "markdown",
   "id": "11520e79-0a29-4626-84b9-78d49eb5791b",
   "metadata": {},
   "source": [
    "# Train/Test"
   ]
  },
  {
   "cell_type": "markdown",
   "id": "f973e86b-7a64-4210-8159-c748c6f441de",
   "metadata": {},
   "source": [
    "**Evaluate Your Model**  \n",
    "In Machine Learning we create models to predict the outcome of certain events, like in the previous chapter where we predicted the CO2 emission of a car when we knew the weight and engine size.\n",
    "\n",
    "To measure if the model is good enough, we can use a method called Train/Test.\n",
    "\n",
    "**What is Train/Test**  \n",
    "Train/Test is a method to measure the accuracy of your model.\n",
    "\n",
    "It is called Train/Test because you split the data set into two sets: a training set and a testing set.\n",
    "\n",
    ">80% for training, and 20% for testing.\n",
    "\n",
    "You train the model using the training set.\n",
    "\n",
    "You test the model using the testing set.\n",
    "\n",
    ">Train the model means create the model.  \n",
    "Test the model means test the accuracy of the model.\n",
    "\n",
    "**Start With a Data Set**  \n",
    "Start with a data set you want to test.\n",
    "\n",
    "Our data set illustrates 100 customers in a shop, and their shopping habits.\n",
    "\n",
    "**Example**  \n",
    "The x axis represents the number of minutes before making a purchase.  \n",
    "The y axis represents the amount of money spent on the purchase."
   ]
  },
  {
   "cell_type": "code",
   "execution_count": 45,
   "id": "a9fbd73e-0351-4d0a-bb33-96aaf2d25597",
   "metadata": {},
   "outputs": [
    {
     "data": {
      "image/png": "[encoded data removed]",
      "text/plain": [
       "<Figure size 640x480 with 1 Axes>"
      ]
     },
     "metadata": {},
     "output_type": "display_data"
    }
   ],
   "source": [
    "import numpy\n",
    "import matplotlib.pyplot as plt\n",
    "numpy.random.seed(2)\n",
    "\n",
    "x = numpy.random.normal(3, 1, 100)\n",
    "y = numpy.random.normal(150, 40, 100) / x\n",
    "\n",
    "plt.scatter(x, y)\n",
    "plt.show()"
   ]
  },
  {
   "cell_type": "markdown",
   "id": "ebb8b9e9-4af7-47bc-8902-e19e6f14d522",
   "metadata": {},
   "source": [
    "**Split Into Train/Test**  \n",
    "The training set should be a random selection of 80% of the original data.\n",
    "\n",
    "The testing set should be the remaining 20%."
   ]
  },
  {
   "cell_type": "code",
   "execution_count": 46,
   "id": "75e14a4b-2dd2-430c-8e4e-c98733d7b791",
   "metadata": {},
   "outputs": [],
   "source": [
    "train_x = x[:80]  \n",
    "train_y = y[:80]\n",
    "\n",
    "test_x = x[80:]  \n",
    "test_y = y[80:]"
   ]
  },
  {
   "cell_type": "markdown",
   "id": "9499c354-f4d0-458c-ac55-dbee81c40253",
   "metadata": {},
   "source": [
    "**Display the Training Set**  \n",
    "Display the same scatter plot with the training set:\n",
    "\n",
    "**Example**  \n",
    "It looks like the original data set, so it seems to be a fair selection:"
   ]
  },
  {
   "cell_type": "code",
   "execution_count": 47,
   "id": "a2f2b1c9-11f1-4892-88c7-30ac9f608ae9",
   "metadata": {},
   "outputs": [
    {
     "data": {
      "image/png": "[encoded data removed]",
      "text/plain": [
       "<Figure size 640x480 with 1 Axes>"
      ]
     },
     "metadata": {},
     "output_type": "display_data"
    }
   ],
   "source": [
    "plt.scatter(train_x, train_y)\n",
    "plt.show()"
   ]
  },
  {
   "cell_type": "markdown",
   "id": "b714bdfd-043e-452b-9102-5b84f980544b",
   "metadata": {},
   "source": [
    "**Display the Testing Set**  \n",
    "To make sure the testing set is not completely different, we will take a look at the testing set as well.\n",
    "\n",
    "**Example**  \n",
    "The testing set also looks like the original data set:"
   ]
  },
  {
   "cell_type": "code",
   "execution_count": 48,
   "id": "58becbdc-9d94-4568-a56e-414864126822",
   "metadata": {},
   "outputs": [
    {
     "data": {
      "image/png": "[encoded data removed]",
      "text/plain": [
       "<Figure size 640x480 with 1 Axes>"
      ]
     },
     "metadata": {},
     "output_type": "display_data"
    }
   ],
   "source": [
    "plt.scatter(test_x, test_y)\n",
    "plt.show()"
   ]
  },
  {
   "cell_type": "markdown",
   "id": "3b0ae025-2983-45a0-a82c-5ae2b0dbbc41",
   "metadata": {},
   "source": [
    "**Fit the Data Set**  \n",
    "What does the data set look like? In my opinion I think the best fit would be a polynomial regression, so let us draw a line of polynomial regression.\n",
    "\n",
    "To draw a line through the data points, we use the plot() method of the matplotlib module:\n",
    "\n",
    "**Example**  \n",
    "Draw a polynomial regression line through the data points:"
   ]
  },
  {
   "cell_type": "code",
   "execution_count": 51,
   "id": "c0c93c7b-89b5-4f4d-8f92-2ac1ba2b17f4",
   "metadata": {},
   "outputs": [
    {
     "data": {
      "image/png": "[encoded data removed]",
      "text/plain": [
       "<Figure size 640x480 with 1 Axes>"
      ]
     },
     "metadata": {},
     "output_type": "display_data"
    }
   ],
   "source": [
    "mymodel = numpy.poly1d(numpy.polyfit(train_x, train_y, 4))\n",
    "\n",
    "myline = numpy.linspace(0, 6, 100)\n",
    "\n",
    "plt.scatter(train_x, train_y)\n",
    "plt.plot(myline, mymodel(myline))\n",
    "plt.show()"
   ]
  },
  {
   "cell_type": "markdown",
   "id": "36c7d68a-503a-4928-9de1-c872ec2b3635",
   "metadata": {},
   "source": [
    "The result can back my suggestion of the data set fitting a polynomial regression, even though it would give us some weird results if we try to predict values outside of the data set. Example: the line indicates that a customer spending 6 minutes in the shop would make a purchase worth 200. That is probably a sign of overfitting.\n",
    "\n",
    "But what about the R-squared score? The R-squared score is a good indicator of how well my data set is fitting the model.\n",
    "\n",
    "**R2**  \n",
    "Remember R2, also known as R-squared?\n",
    "\n",
    "It measures the relationship between the x axis and the y axis, and the value ranges from 0 to 1, where 0 means no relationship, and 1 means totally related.\n",
    "\n",
    "The sklearn module has a method called r2_score() that will help us find this relationship.\n",
    "\n",
    "In this case we would like to measure the relationship between the minutes a customer stays in the shop and how much money they spend.\n",
    "\n",
    "**Example**  \n",
    "How well does my training data fit in a polynomial regression?"
   ]
  },
  {
   "cell_type": "code",
   "execution_count": 52,
   "id": "918634d2-ea4a-4712-9a22-c1da5dc38f72",
   "metadata": {},
   "outputs": [
    {
     "name": "stdout",
     "output_type": "stream",
     "text": [
      "0.7988645544629793\n"
     ]
    }
   ],
   "source": [
    "import numpy\n",
    "from sklearn.metrics import r2_score\n",
    "numpy.random.seed(2)\n",
    "\n",
    "x = numpy.random.normal(3, 1, 100)\n",
    "y = numpy.random.normal(150, 40, 100) / x\n",
    "\n",
    "train_x = x[:80]\n",
    "train_y = y[:80]\n",
    "\n",
    "test_x = x[80:]\n",
    "test_y = y[80:]\n",
    "\n",
    "mymodel = numpy.poly1d(numpy.polyfit(train_x, train_y, 4))\n",
    "\n",
    "r2 = r2_score(train_y, mymodel(train_x))\n",
    "\n",
    "print(r2)"
   ]
  },
  {
   "cell_type": "markdown",
   "id": "164ffb5c-9a06-42ce-a422-4ce0cac0ef1c",
   "metadata": {},
   "source": [
    ">Note: The result 0.799 shows that there is a OK relationship.\n",
    "\n",
    "**Bring in the Testing Set**  \n",
    "Now we have made a model that is OK, at least when it comes to training data.\n",
    "\n",
    "Now we want to test the model with the testing data as well, to see if gives us the same result.\n",
    "\n",
    "**Example**  \n",
    "Let us find the R2 score when using testing data:"
   ]
  },
  {
   "cell_type": "code",
   "execution_count": 53,
   "id": "cfe4e8f9-9033-4213-a45d-2035899b44d3",
   "metadata": {},
   "outputs": [
    {
     "name": "stdout",
     "output_type": "stream",
     "text": [
      "0.8086921460343643\n"
     ]
    }
   ],
   "source": [
    "import numpy\n",
    "from sklearn.metrics import r2_score\n",
    "numpy.random.seed(2)\n",
    "\n",
    "x = numpy.random.normal(3, 1, 100)\n",
    "y = numpy.random.normal(150, 40, 100) / x\n",
    "\n",
    "train_x = x[:80]\n",
    "train_y = y[:80]\n",
    "\n",
    "test_x = x[80:]\n",
    "test_y = y[80:]\n",
    "\n",
    "mymodel = numpy.poly1d(numpy.polyfit(train_x, train_y, 4))\n",
    "\n",
    "r2 = r2_score(test_y, mymodel(test_x))\n",
    "\n",
    "print(r2)"
   ]
  },
  {
   "cell_type": "markdown",
   "id": "3469bc81-238b-439c-811a-660caf845f5c",
   "metadata": {},
   "source": [
    ">Note: The result 0.809 shows that the model fits the testing set as well, and we are confident that we can use the model to predict future values.\n",
    "\n",
    "**Predict Values**  \n",
    "Now that we have established that our model is OK, we can start predicting new values.\n",
    "\n",
    "**Example**  \n",
    "How much money will a buying customer spend, if she or he stays in the shop for 5 minutes?"
   ]
  },
  {
   "cell_type": "code",
   "execution_count": 54,
   "id": "eda2a4eb-96a0-4e1f-86f1-d310eea2f54f",
   "metadata": {},
   "outputs": [
    {
     "name": "stdout",
     "output_type": "stream",
     "text": [
      "22.879625918121974\n"
     ]
    }
   ],
   "source": [
    "print(mymodel(5))"
   ]
  },
  {
   "cell_type": "markdown",
   "id": "efd69023-365f-4ff6-b715-df2f5aa14548",
   "metadata": {},
   "source": [
    "The example predicted the customer to spend 22.88 dollars, as seems to correspond to the diagram:"
   ]
  },
  {
   "cell_type": "markdown",
   "id": "b745adee-fbdd-4201-9eb0-5d35aac186cc",
   "metadata": {},
   "source": [
    "# Decision Tree"
   ]
  },
  {
   "cell_type": "code",
   "execution_count": 56,
   "id": "e2e71e8d-28f9-456c-82fd-966041c993a7",
   "metadata": {},
   "outputs": [
    {
     "data": {
      "image/png": "[encoded data removed]",
      "text/plain": [
       "<IPython.core.display.Image object>"
      ]
     },
     "execution_count": 56,
     "metadata": {},
     "output_type": "execute_result"
    }
   ],
   "source": [
    "from IPython.display import Image\n",
    "Image(\"img/decision_tree.png\")"
   ]
  },
  {
   "cell_type": "markdown",
   "id": "f3004213-01c9-4685-bea1-87cf064a3ca2",
   "metadata": {},
   "source": [
    "In this chapter we will show you how to make a \"Decision Tree\". A Decision Tree is a Flow Chart, and can help you make decisions based on previous experience.\n",
    "\n",
    "In the example, a person will try to decide if he/she should go to a comedy show or not.\n",
    "\n",
    "Luckily our example person has registered every time there was a comedy show in town, and registered some information about the comedian, and also registered if he/she went or not.\n",
    "\n",
    "| Age | Experience | Rank | Nationality | Go  |\n",
    "| --- | ---------- | ---- | ----------- | --- |\n",
    "| 36  | 10         | 9    | UK          | NO  |\n",
    "| 42  | 12         | 4    | USA         | NO  |\n",
    "| 23  | 4          | 6    | N           | NO  |\n",
    "| 52  | 4          | 4    | USA         | NO  |\n",
    "| 43  | 21         | 8    | USA         | YES |\n",
    "| 44  | 14         | 5    | UK          | NO  |\n",
    "| 66  | 3          | 7    | N           | YES |\n",
    "| 35  | 14         | 9    | UK          | YES |\n",
    "| 52  | 13         | 7    | N           | YES |\n",
    "| 35  | 5          | 9    | N           | YES |\n",
    "| 24  | 3          | 5    | USA         | NO  |\n",
    "| 18  | 3          | 7    | UK          | YES |\n",
    "| 45  | 9          | 9    | UK          | YES |\n",
    "\n",
    "Now, based on this data set, Python can create a decision tree that can be used to decide if any new shows are worth attending to.\n",
    "\n",
    "**How Does it Work?**  \n",
    "First, read the dataset with pandas:\n",
    "\n",
    "**Example**  \n",
    "Read and print the data set:"
   ]
  },
  {
   "cell_type": "code",
   "execution_count": 57,
   "id": "e9b5bd73-7f66-4dcd-b949-9bbb44d0876e",
   "metadata": {},
   "outputs": [
    {
     "name": "stdout",
     "output_type": "stream",
     "text": [
      "    Age  Experience  Rank Nationality   Go\n",
      "0    36          10     9          UK   NO\n",
      "1    42          12     4         USA   NO\n",
      "2    23           4     6           N   NO\n",
      "3    52           4     4         USA   NO\n",
      "4    43          21     8         USA  YES\n",
      "5    44          14     5          UK   NO\n",
      "6    66           3     7           N  YES\n",
      "7    35          14     9          UK  YES\n",
      "8    52          13     7           N  YES\n",
      "9    35           5     9           N  YES\n",
      "10   24           3     5         USA   NO\n",
      "11   18           3     7          UK  YES\n",
      "12   45           9     9          UK  YES\n"
     ]
    }
   ],
   "source": [
    "import pandas\n",
    "df = pandas.read_csv(\"DecisionTreeData.csv\")\n",
    "print(df)"
   ]
  },
  {
   "cell_type": "markdown",
   "id": "1b7f161e-9b14-4f69-a702-1bd37e6541b1",
   "metadata": {},
   "source": [
    "To make a decision tree, all data has to be numerical.\n",
    "\n",
    "We have to convert the non numerical columns 'Nationality' and 'Go' into numerical values.\n",
    "\n",
    "Pandas has a map() method that takes a dictionary with information on how to convert the values.\n",
    "\n",
    "{'UK': 0, 'USA': 1, 'N': 2}\n",
    "\n",
    "Means convert the values 'UK' to 0, 'USA' to 1, and 'N' to 2.\n",
    "\n",
    "**Example**  \n",
    "Change string values into numerical values:"
   ]
  },
  {
   "cell_type": "code",
   "execution_count": 58,
   "id": "c7ff2625-30ee-4d4e-9d5b-befe0e3820e9",
   "metadata": {},
   "outputs": [
    {
     "name": "stdout",
     "output_type": "stream",
     "text": [
      "    Age  Experience  Rank  Nationality  Go\n",
      "0    36          10     9            0   0\n",
      "1    42          12     4            1   0\n",
      "2    23           4     6            2   0\n",
      "3    52           4     4            1   0\n",
      "4    43          21     8            1   1\n",
      "5    44          14     5            0   0\n",
      "6    66           3     7            2   1\n",
      "7    35          14     9            0   1\n",
      "8    52          13     7            2   1\n",
      "9    35           5     9            2   1\n",
      "10   24           3     5            1   0\n",
      "11   18           3     7            0   1\n",
      "12   45           9     9            0   1\n"
     ]
    }
   ],
   "source": [
    "d = {'UK': 0, 'USA': 1, 'N': 2}\n",
    "df['Nationality'] = df['Nationality'].map(d)\n",
    "d = {'YES': 1, 'NO': 0}\n",
    "df['Go'] = df['Go'].map(d)\n",
    "\n",
    "print(df)"
   ]
  },
  {
   "cell_type": "markdown",
   "id": "84f38b9d-9334-40e1-87f2-92d33c8bf082",
   "metadata": {},
   "source": [
    "Then we have to separate the feature columns from the target column.\n",
    "\n",
    "The feature columns are the columns that we try to predict from, and the target column is the column with the values we try to predict.\n",
    "\n",
    "**Example**  \n",
    "X is the feature columns, y is the target column:"
   ]
  },
  {
   "cell_type": "code",
   "execution_count": 59,
   "id": "097add39-8402-4c55-8bda-1cb36f83effc",
   "metadata": {},
   "outputs": [
    {
     "name": "stdout",
     "output_type": "stream",
     "text": [
      "    Age  Experience  Rank  Nationality\n",
      "0    36          10     9            0\n",
      "1    42          12     4            1\n",
      "2    23           4     6            2\n",
      "3    52           4     4            1\n",
      "4    43          21     8            1\n",
      "5    44          14     5            0\n",
      "6    66           3     7            2\n",
      "7    35          14     9            0\n",
      "8    52          13     7            2\n",
      "9    35           5     9            2\n",
      "10   24           3     5            1\n",
      "11   18           3     7            0\n",
      "12   45           9     9            0\n",
      "0     0\n",
      "1     0\n",
      "2     0\n",
      "3     0\n",
      "4     1\n",
      "5     0\n",
      "6     1\n",
      "7     1\n",
      "8     1\n",
      "9     1\n",
      "10    0\n",
      "11    1\n",
      "12    1\n",
      "Name: Go, dtype: int64\n"
     ]
    }
   ],
   "source": [
    "features = ['Age', 'Experience', 'Rank', 'Nationality']\n",
    "\n",
    "X = df[features]\n",
    "y = df['Go']\n",
    "\n",
    "print(X)\n",
    "print(y)"
   ]
  },
  {
   "cell_type": "markdown",
   "id": "59fbb56b-3da1-4ca8-9113-763d12160a18",
   "metadata": {},
   "source": [
    "Now we can create the actual decision tree, fit it with our details. Start by importing the modules we need:\n",
    "\n",
    "**Example**  \n",
    "Create and display a Decision Tree:"
   ]
  },
  {
   "cell_type": "code",
   "execution_count": 61,
   "id": "89e9d2be-0dc4-4765-a7e9-a0c0583a45df",
   "metadata": {},
   "outputs": [
    {
     "data": {
      "text/plain": [
       "[Text(0.2857142857142857, 0.9, 'Rank <= 6.5\\ngini = 0.497\\nsamples = 13\\nvalue = [6, 7]'),\n",
       " Text(0.14285714285714285, 0.7, 'gini = 0.0\\nsamples = 5\\nvalue = [5, 0]'),\n",
       " Text(0.21428571428571427, 0.8, 'True  '),\n",
       " Text(0.42857142857142855, 0.7, 'Rank <= 8.5\\ngini = 0.219\\nsamples = 8\\nvalue = [1, 7]'),\n",
       " Text(0.3571428571428571, 0.8, '  False'),\n",
       " Text(0.2857142857142857, 0.5, 'gini = 0.0\\nsamples = 4\\nvalue = [0, 4]'),\n",
       " Text(0.5714285714285714, 0.5, 'Age <= 35.5\\ngini = 0.375\\nsamples = 4\\nvalue = [1, 3]'),\n",
       " Text(0.42857142857142855, 0.3, 'gini = 0.0\\nsamples = 2\\nvalue = [0, 2]'),\n",
       " Text(0.7142857142857143, 0.3, 'Experience <= 9.5\\ngini = 0.5\\nsamples = 2\\nvalue = [1, 1]'),\n",
       " Text(0.5714285714285714, 0.1, 'gini = 0.0\\nsamples = 1\\nvalue = [0, 1]'),\n",
       " Text(0.8571428571428571, 0.1, 'gini = 0.0\\nsamples = 1\\nvalue = [1, 0]')]"
      ]
     },
     "execution_count": 61,
     "metadata": {},
     "output_type": "execute_result"
    },
    {
     "data": {
      "image/png": "[encoded data removed]",
      "text/plain": [
       "<Figure size 640x480 with 1 Axes>"
      ]
     },
     "metadata": {},
     "output_type": "display_data"
    }
   ],
   "source": [
    "import pandas\n",
    "from sklearn import tree\n",
    "from sklearn.tree import DecisionTreeClassifier\n",
    "import matplotlib.pyplot as plt\n",
    "\n",
    "df = pandas.read_csv(\"DecisionTreeData.csv\")\n",
    "\n",
    "d = {'UK': 0, 'USA': 1, 'N': 2}\n",
    "df['Nationality'] = df['Nationality'].map(d)\n",
    "d = {'YES': 1, 'NO': 0}\n",
    "df['Go'] = df['Go'].map(d)\n",
    "\n",
    "features = ['Age', 'Experience', 'Rank', 'Nationality']\n",
    "\n",
    "x = df[features]\n",
    "y = df['Go']\n",
    "\n",
    "dtree = DecisionTreeClassifier()\n",
    "dtree = dtree.fit(x, y)\n",
    "\n",
    "tree.plot_tree(dtree, feature_names=features)"
   ]
  },
  {
   "cell_type": "markdown",
   "id": "ee64ca65-256d-4f14-97c6-5667137cbf54",
   "metadata": {},
   "source": [
    "**Result Explained**  \n",
    "The decision tree uses your earlier decisions to calculate the odds for you to wanting to go see a comedian or not.\n",
    "\n",
    "Let us read the different aspects of the decision tree:"
   ]
  },
  {
   "cell_type": "code",
   "execution_count": 62,
   "id": "23a9210a-fe7a-4453-a4e2-9180b3778137",
   "metadata": {},
   "outputs": [
    {
     "data": {
      "image/png": "[encoded data removed]",
      "text/plain": [
       "<IPython.core.display.Image object>"
      ]
     },
     "execution_count": 62,
     "metadata": {},
     "output_type": "execute_result"
    }
   ],
   "source": [
    "from IPython.display import Image\n",
    "Image(\"img/decisiontree1.png\")"
   ]
  },
  {
   "cell_type": "markdown",
   "id": "4ca0595e-0a9e-4549-8246-331cc8d43bbd",
   "metadata": {},
   "source": [
    "**Rank**  \n",
    "Rank <= 6.5 means that every comedian with a rank of 6.5 or lower will follow the True arrow (to the left), and the rest will follow the False arrow (to the right).\n",
    "\n",
    "gini = 0.497 refers to the quality of the split, and is always a number between 0.0 and 0.5, where 0.0 would mean all of the samples got the same result, and 0.5 would mean that the split is done exactly in the middle.\n",
    "\n",
    "samples = 13 means that there are 13 comedians left at this point in the decision, which is all of them since this is the first step.\n",
    "\n",
    "value = [6, 7] means that of these 13 comedians, 6 will get a \"NO\", and 7 will get a \"GO\".\n",
    "\n",
    ">**Gini**  \n",
    "There are many ways to split the samples, we use the GINI method in this tutorial.  \n",
    "The Gini method uses this formula:  \n",
    "Gini = 1 - (x/n)2 - (y/n)2  \n",
    "Where x is the number of positive answers(\"GO\"), n is the number of samples, and y is the number of negative answers (\"NO\"), which gives us this calculation:  \n",
    "1 - (7 / 13)2 - (6 / 13)2 = 0.497"
   ]
  },
  {
   "cell_type": "code",
   "execution_count": 63,
   "id": "c4073072-840d-4067-8eb1-0c8f60bfa2cd",
   "metadata": {},
   "outputs": [
    {
     "data": {
      "image/png": "[encoded data removed]",
      "text/plain": [
       "<IPython.core.display.Image object>"
      ]
     },
     "execution_count": 63,
     "metadata": {},
     "output_type": "execute_result"
    }
   ],
   "source": [
    "from IPython.display import Image\n",
    "Image(\"img/decisiontree2.png\")"
   ]
  },
  {
   "cell_type": "markdown",
   "id": "abff7b3c-c29a-4e3a-ad02-13024f6e9312",
   "metadata": {},
   "source": [
    "The next step contains two boxes, one box for the comedians with a 'Rank' of 6.5 or lower, and one box with the rest.\n",
    "\n",
    "**True - 5 Comedians End Here:**  \n",
    "gini = 0.0 means all of the samples got the same result.\n",
    "\n",
    "samples = 5 means that there are 5 comedians left in this branch (5 comedian with a Rank of 6.5 or lower).\n",
    "\n",
    "value = [5, 0] means that 5 will get a \"NO\" and 0 will get a \"GO\".\n",
    "\n",
    "**False - 8 Comedians Continue:**  \n",
    "Nationality\n",
    "Nationality <= 0.5 means that the comedians with a nationality value of less than 0.5 will follow the arrow to the left (which means everyone from the UK, ), and the rest will follow the arrow to the right.\n",
    "\n",
    "gini = 0.219 means that about 22% of the samples would go in one direction.\n",
    "\n",
    "samples = 8 means that there are 8 comedians left in this branch (8 comedian with a Rank higher than 6.5).\n",
    "\n",
    "value = [1, 7] means that of these 8 comedians, 1 will get a \"NO\" and 7 will get a \"GO\"."
   ]
  },
  {
   "cell_type": "code",
   "execution_count": 64,
   "id": "a8d9915b-6623-4692-8846-024844258b5d",
   "metadata": {},
   "outputs": [
    {
     "data": {
      "image/png": "[encoded data removed]",
      "text/plain": [
       "<IPython.core.display.Image object>"
      ]
     },
     "execution_count": 64,
     "metadata": {},
     "output_type": "execute_result"
    }
   ],
   "source": [
    "from IPython.display import Image\n",
    "Image(\"img/decisiontree3.png\")"
   ]
  },
  {
   "cell_type": "markdown",
   "id": "078d57b7-1d92-47bd-8474-f4045b265f16",
   "metadata": {},
   "source": [
    "**True - 4 Comedians Continue:**  \n",
    "Age\n",
    "Age <= 35.5 means that comedians at the age of 35.5 or younger will follow the arrow to the left, and the rest will follow the arrow to the right.\n",
    "\n",
    "gini = 0.375 means that about 37,5% of the samples would go in one direction.\n",
    "\n",
    "samples = 4 means that there are 4 comedians left in this branch (4 comedians from the UK).\n",
    "\n",
    "value = [1, 3] means that of these 4 comedians, 1 will get a \"NO\" and 3 will get a \"GO\".\n",
    "\n",
    "**False - 4 Comedians End Here:**  \n",
    "gini = 0.0 means all of the samples got the same result.\n",
    "\n",
    "samples = 4 means that there are 4 comedians left in this branch (4 comedians not from the UK).\n",
    "\n",
    "value = [0, 4] means that of these 4 comedians, 0 will get a \"NO\" and 4 will get a \"GO\"."
   ]
  },
  {
   "cell_type": "code",
   "execution_count": 66,
   "id": "909eb295-7601-4fd2-b13a-76cde2a81c37",
   "metadata": {},
   "outputs": [
    {
     "data": {
      "image/png": "[encoded data removed]",
      "text/plain": [
       "<IPython.core.display.Image object>"
      ]
     },
     "execution_count": 66,
     "metadata": {},
     "output_type": "execute_result"
    }
   ],
   "source": [
    "from IPython.display import Image\n",
    "Image(\"img/decisiontree4.png\")"
   ]
  },
  {
   "cell_type": "markdown",
   "id": "900822a1-9d5f-4c3d-9aca-dc17fdc57770",
   "metadata": {},
   "source": [
    "**True - 2 Comedians End Here:**  \n",
    "gini = 0.0 means all of the samples got the same result.\n",
    "\n",
    "samples = 2 means that there are 2 comedians left in this branch (2 comedians at the age 35.5 or younger).\n",
    "\n",
    "value = [0, 2] means that of these 2 comedians, 0 will get a \"NO\" and 2 will get a \"GO\".\n",
    "\n",
    "**False - 2 Comedians Continue:**  \n",
    "**Experience**  \n",
    "Experience <= 9.5 means that comedians with 9.5 years of experience, or less, will follow the arrow to the left, and the rest will follow the arrow to the right.\n",
    "\n",
    "gini = 0.5 means that 50% of the samples would go in one direction.\n",
    "\n",
    "samples = 2 means that there are 2 comedians left in this branch (2 comedians older than 35.5).\n",
    "\n",
    "value = [1, 1] means that of these 2 comedians, 1 will get a \"NO\" and 1 will get a \"GO\"."
   ]
  },
  {
   "cell_type": "code",
   "execution_count": 67,
   "id": "56c394b3-b6ba-4c9f-a4b6-219f2fe502b2",
   "metadata": {},
   "outputs": [
    {
     "data": {
      "image/png": "[encoded data removed]",
      "text/plain": [
       "<IPython.core.display.Image object>"
      ]
     },
     "execution_count": 67,
     "metadata": {},
     "output_type": "execute_result"
    }
   ],
   "source": [
    "from IPython.display import Image\n",
    "Image(\"img/decisiontree5.png\")"
   ]
  },
  {
   "cell_type": "markdown",
   "id": "805c565e-88dc-4e58-8b3b-0d09112a0de8",
   "metadata": {},
   "source": [
    "**True - 1 Comedian Ends Here:**  \n",
    "gini = 0.0 means all of the samples got the same result.\n",
    "\n",
    "samples = 1 means that there is 1 comedian left in this branch (1 comedian with 9.5 years of experience or less).\n",
    "\n",
    "value = [0, 1] means that 0 will get a \"NO\" and 1 will get a \"GO\".\n",
    "\n",
    "**False - 1 Comedian Ends Here:**  \n",
    "gini = 0.0 means all of the samples got the same result.\n",
    "\n",
    "samples = 1 means that there is 1 comedians left in this branch (1 comedian with more than 9.5 years of experience).\n",
    "\n",
    "value = [1, 0] means that 1 will get a \"NO\" and 0 will get a \"GO\".\n",
    "\n",
    "**Predict Values**  \n",
    "We can use the Decision Tree to predict new values.\n",
    "\n",
    "Example: Should I go see a show starring a 40 years old American comedian, with 10 years of experience, and a comedy ranking of 7?\n",
    "\n",
    "**Example**  \n",
    "Use predict() method to predict new values:"
   ]
  },
  {
   "cell_type": "code",
   "execution_count": null,
   "id": "64303822-67e6-4cd2-810b-8c858dde1a11",
   "metadata": {},
   "outputs": [],
   "source": [
    "print(dtree.predict([[40, 10, 7, 1]]))"
   ]
  },
  {
   "cell_type": "markdown",
   "id": "cec3fb1f-e60f-470a-8ff5-9ea07f5315a7",
   "metadata": {},
   "source": [
    "**Example**  \n",
    "What would the answer be if the comedy rank was 6?"
   ]
  },
  {
   "cell_type": "code",
   "execution_count": null,
   "id": "ef0e0c67-4e6b-4a4b-b7ca-919c48065444",
   "metadata": {},
   "outputs": [],
   "source": [
    "print(dtree.predict([[40, 10, 6, 1]]))"
   ]
  },
  {
   "cell_type": "markdown",
   "id": "1378ea94-8388-4305-97b0-57396643e06a",
   "metadata": {},
   "source": [
    ">**Different Results**  \n",
    "You will see that the Decision Tree gives you different results if you run it enough times, even if you feed it with the same data.  \n",
    "That is because the Decision Tree does not give us a 100% certain answer. It is based on the probability of an outcome, and the answer will vary."
   ]
  },
  {
   "cell_type": "markdown",
   "id": "c0f7322e-48cc-4249-a061-91e6967c4973",
   "metadata": {},
   "source": [
    "# Confusion Matrix"
   ]
  },
  {
   "cell_type": "markdown",
   "id": "50856842-98ee-4439-8912-1413c3087048",
   "metadata": {},
   "source": [
    "**What is a confusion matrix?**  \n",
    "It is a table that is used in classification problems to assess where errors in the model were made.\n",
    "\n",
    "The rows represent the actual classes the outcomes should have been. While the columns represent the predictions we have made. Using this table it is easy to see which predictions are wrong.\n",
    "\n",
    "**Creating a Confusion Matrix**  \n",
    "Confusion matrixes can be created by predictions made from a logistic regression.\n",
    "\n",
    "For now we will generate actual and predicted values by utilizing NumPy:\n",
    "\n",
    "import numpy\n",
    "\n",
    "Next we will need to generate the numbers for \"actual\" and \"predicted\" values.\n",
    "\n",
    "actual = numpy.random.binomial(1, 0.9, size = 1000)\n",
    "predicted = numpy.random.binomial(1, 0.9, size = 1000)\n",
    "\n",
    "In order to create the confusion matrix we need to import metrics from the sklearn module.\n",
    "\n",
    "from sklearn import metrics\n",
    "\n",
    "Once metrics is imported we can use the confusion matrix function on our actual and predicted values.\n",
    "\n",
    "confusion_matrix = metrics.confusion_matrix(actual, predicted)\n",
    "\n",
    "To create a more interpretable visual display we need to convert the table into a confusion matrix display.\n",
    "\n",
    "cm_display = metrics.ConfusionMatrixDisplay(confusion_matrix = confusion_matrix, display_labels = [0, 1])\n",
    "\n",
    "Vizualizing the display requires that we import pyplot from matplotlib.\n",
    "\n",
    "import matplotlib.pyplot as plt\n",
    "\n",
    "Finally to display the plot we can use the functions plot() and show() from pyplot.\n",
    "\n",
    "cm_display.plot()\n",
    "plt.show()\n",
    "\n",
    "See the whole example in action:\n",
    "\n",
    "**Example**"
   ]
  },
  {
   "cell_type": "code",
   "execution_count": null,
   "id": "8b58c0de-dd45-4038-a37c-84a9ec2780de",
   "metadata": {},
   "outputs": [],
   "source": [
    "import matplotlib.pyplot as plt\n",
    "import numpy\n",
    "from sklearn import metrics\n",
    "\n",
    "actual = numpy.random.binomial(1,.9,size = 1000)\n",
    "predicted = numpy.random.binomial(1,.9,size = 1000)\n",
    "\n",
    "confusion_matrix = metrics.confusion_matrix(actual, predicted)\n",
    "\n",
    "cm_display = metrics.ConfusionMatrixDisplay(confusion_matrix = confusion_matrix, display_labels = [0, 1])\n",
    "\n",
    "cm_display.plot()\n",
    "plt.show()"
   ]
  },
  {
   "cell_type": "markdown",
   "id": "22cb4d05-6e7b-44a1-830c-48801966aee3",
   "metadata": {},
   "source": [
    "**Results Explained**  \n",
    "The Confusion Matrix created has four different quadrants:\n",
    "\n",
    "True Negative (Top-Left Quadrant)  \n",
    "False Positive (Top-Right Quadrant)  \n",
    "False Negative (Bottom-Left Quadrant)  \n",
    "True Positive (Bottom-Right Quadrant)  \n",
    "\n",
    "True means that the values were accurately predicted, False means that there was an error or wrong prediction.\n",
    "\n",
    "Now that we have made a Confusion Matrix, we can calculate different measures to quantify the quality of the model. First, lets look at Accuracy."
   ]
  },
  {
   "cell_type": "markdown",
   "id": "f4a3c520-604c-431e-9000-62f0325ae606",
   "metadata": {},
   "source": [
    "**Created Metrics**  \n",
    "The matrix provides us with many useful metrics that help us to evaluate out classification model.\n",
    "\n",
    "The different measures include: Accuracy, Precision, Sensitivity (Recall), Specificity, and the F-score, explained below.\n",
    "\n",
    "**Accuracy**  \n",
    "Accuracy measures how often the model is correct.\n",
    "\n",
    "**How to Calculate**  \n",
    "(True Positive + True Negative) / Total Predictions\n",
    "\n",
    "**Example**  "
   ]
  },
  {
   "cell_type": "code",
   "execution_count": null,
   "id": "b987912f-efb8-44fa-bf39-713008038ec0",
   "metadata": {},
   "outputs": [],
   "source": [
    "Accuracy = metrics.accuracy_score(actual, predicted)"
   ]
  },
  {
   "cell_type": "markdown",
   "id": "32cfb10f-56fb-49f9-80de-fe1fc1cc25b2",
   "metadata": {},
   "source": [
    "**Precision**  \n",
    "Of the positives predicted, what percentage is truly positive?\n",
    "\n",
    "**How to Calculate**  \n",
    "True Positive / (True Positive + False Positive)\n",
    "\n",
    "Precision does not evaluate the correctly predicted negative cases:\n",
    "\n",
    "**Example**  "
   ]
  },
  {
   "cell_type": "code",
   "execution_count": null,
   "id": "284e21d7-77c6-4795-8a04-31c083427059",
   "metadata": {},
   "outputs": [],
   "source": [
    "Precision = metrics.precision_score(actual, predicted)"
   ]
  },
  {
   "cell_type": "markdown",
   "id": "931f65c2-ddf4-4cb9-9408-95d419bf0cfc",
   "metadata": {},
   "source": [
    "**Sensitivity (Recall)**  \n",
    "Of all the positive cases, what percentage are predicted positive?\n",
    "\n",
    "Sensitivity (sometimes called Recall) measures how good the model is at predicting positives.\n",
    "\n",
    "This means it looks at true positives and false negatives (which are positives that have been incorrectly predicted as negative).\n",
    "\n",
    "**How to Calculate**  \n",
    "True Positive / (True Positive + False Negative)\n",
    "\n",
    "Sensitivity is good at understanding how well the model predicts something is positive:\n",
    "\n",
    "**Example**  "
   ]
  },
  {
   "cell_type": "code",
   "execution_count": null,
   "id": "f4adf233-73a7-47d9-b22e-f8a7ff329d73",
   "metadata": {},
   "outputs": [],
   "source": [
    "Sensitivity_recall = metrics.recall_score(actual, predicted)"
   ]
  },
  {
   "cell_type": "markdown",
   "id": "67f553b1-98ab-44b2-9520-65cc9be037e1",
   "metadata": {},
   "source": [
    "**Specificity**  \n",
    "How well the model is at prediciting negative results?\n",
    "\n",
    "Specificity is similar to sensitivity, but looks at it from the persepctive of negative results.\n",
    "\n",
    "**How to Calculate**  \n",
    "True Negative / (True Negative + False Positive)\n",
    "\n",
    "Since it is just the opposite of Recall, we use the recall_score function, taking the opposite position label:\n",
    "\n",
    "**Example**  "
   ]
  },
  {
   "cell_type": "code",
   "execution_count": null,
   "id": "5b703241-362c-497d-ac26-80cf9383187e",
   "metadata": {},
   "outputs": [],
   "source": [
    "Specificity = metrics.recall_score(actual, predicted, pos_label=0)"
   ]
  },
  {
   "cell_type": "markdown",
   "id": "3ab61123-1bac-4c10-a17c-0c09c654f009",
   "metadata": {},
   "source": [
    "**F-score**  \n",
    "F-score is the \"harmonic mean\" of precision and sensitivity.\n",
    "\n",
    "It considers both false positive and false negative cases and is good for imbalanced datasets.\n",
    "\n",
    "**How to Calculate**  \n",
    "2 * ((Precision * Sensitivity) / (Precision + Sensitivity))\n",
    "\n",
    "This score does not take into consideration the True Negative values:\n",
    "\n",
    "**Example**  "
   ]
  },
  {
   "cell_type": "code",
   "execution_count": null,
   "id": "637050c9-ca16-491f-9ced-970367c22c99",
   "metadata": {},
   "outputs": [],
   "source": [
    "F1_score = metrics.f1_score(actual, predicted)"
   ]
  },
  {
   "cell_type": "markdown",
   "id": "f26e6001-ff8d-4265-a305-0b621113846a",
   "metadata": {},
   "source": [
    "All calulations in one:\n",
    "\n",
    "**Example**  "
   ]
  },
  {
   "cell_type": "code",
   "execution_count": null,
   "id": "8b11a23f-d72c-4736-a085-dcec3fc93238",
   "metadata": {},
   "outputs": [],
   "source": [
    "#metrics\n",
    "print({\"Accuracy\":Accuracy,\"Precision\":Precision,\"Sensitivity_recall\":Sensitivity_recall,\"Specificity\":Specificity,\"F1_score\":F1_score})"
   ]
  },
  {
   "cell_type": "markdown",
   "id": "71baf8a9-20aa-41ad-b8fa-b522773ec9c4",
   "metadata": {
    "jp-MarkdownHeadingCollapsed": true
   },
   "source": [
    "# Hierarchical Clustering"
   ]
  },
  {
   "cell_type": "markdown",
   "id": "713c1f26-ef1d-434c-b308-dffc1f475350",
   "metadata": {},
   "source": [
    "Hierarchical clustering is an unsupervised learning method for clustering data points. The algorithm builds clusters by measuring the dissimilarities between data. Unsupervised learning means that a model does not have to be trained, and we do not need a \"target\" variable. This method can be used on any data to visualize and interpret the relationship between individual data points.\n",
    "\n",
    "Here we will use hierarchical clustering to group data points and visualize the clusters using both a dendrogram and scatter plot.\n",
    "\n",
    "**How does it work?**  \n",
    "We will use Agglomerative Clustering, a type of hierarchical clustering that follows a bottom up approach. We begin by treating each data point as its own cluster. Then, we join clusters together that have the shortest distance between them to create larger clusters. This step is repeated until one large cluster is formed containing all of the data points.\n",
    "\n",
    "Hierarchical clustering requires us to decide on both a distance and linkage method. We will use euclidean distance and the Ward linkage method, which attempts to minimize the variance between clusters.\n",
    "\n",
    "**Example**  \n",
    "Start by visualizing some data points:"
   ]
  },
  {
   "cell_type": "code",
   "execution_count": null,
   "id": "0e6109b5-9895-455f-9eb4-f1e57cc5fc94",
   "metadata": {},
   "outputs": [],
   "source": [
    "import numpy as np\n",
    "import matplotlib.pyplot as plt\n",
    "\n",
    "x = [4, 5, 10, 4, 3, 11, 14 , 6, 10, 12]\n",
    "y = [21, 19, 24, 17, 16, 25, 24, 22, 21, 21]\n",
    "\n",
    "plt.scatter(x, y)\n",
    "plt.show()"
   ]
  },
  {
   "cell_type": "markdown",
   "id": "2536fe65-0f15-4e8f-9f8d-0f394dd70fc0",
   "metadata": {},
   "source": [
    "Now we compute the ward linkage using euclidean distance, and visualize it using a dendrogram:\n",
    "\n",
    "**Example**  "
   ]
  },
  {
   "cell_type": "code",
   "execution_count": null,
   "id": "4e375aa7-6e6c-4aa1-aeb4-e25287750641",
   "metadata": {},
   "outputs": [],
   "source": [
    "import numpy as np\n",
    "import matplotlib.pyplot as plt\n",
    "from scipy.cluster.hierarchy import dendrogram, linkage\n",
    "\n",
    "x = [4, 5, 10, 4, 3, 11, 14 , 6, 10, 12]\n",
    "y = [21, 19, 24, 17, 16, 25, 24, 22, 21, 21]\n",
    "\n",
    "data = list(zip(x, y))\n",
    "\n",
    "linkage_data = linkage(data, method='ward', metric='euclidean')\n",
    "dendrogram(linkage_data)\n",
    "\n",
    "plt.show()"
   ]
  },
  {
   "cell_type": "markdown",
   "id": "c6cfecba-a904-4617-9d79-7cc5cc1637c7",
   "metadata": {},
   "source": [
    "Here, we do the same thing with Python's scikit-learn library. Then, visualize on a 2-dimensional plot:  \n",
    "**Example:**  "
   ]
  },
  {
   "cell_type": "code",
   "execution_count": null,
   "id": "c38639d9-e511-454c-b61c-bde7c94e3caa",
   "metadata": {},
   "outputs": [],
   "source": [
    "import numpy as np\n",
    "import matplotlib.pyplot as plt\n",
    "from sklearn.cluster import AgglomerativeClustering\n",
    "\n",
    "x = [4, 5, 10, 4, 3, 11, 14 , 6, 10, 12]\n",
    "y = [21, 19, 24, 17, 16, 25, 24, 22, 21, 21]\n",
    "\n",
    "data = list(zip(x, y))\n",
    "\n",
    "hierarchical_cluster = AgglomerativeClustering(n_clusters=2, affinity='euclidean', linkage='ward')\n",
    "labels = hierarchical_cluster.fit_predict(data)\n",
    "\n",
    "plt.scatter(x, y, c=labels)\n",
    "plt.show()"
   ]
  },
  {
   "cell_type": "markdown",
   "id": "754495c9-c3b2-40c5-a0a4-8fa74c82e4dc",
   "metadata": {},
   "source": [
    "**Example Explained**  \n",
    "Import the modules you need."
   ]
  },
  {
   "cell_type": "markdown",
   "id": "f8d17109-c1c1-4bb4-b7a5-a0f35d7d95e1",
   "metadata": {},
   "source": [
    "import numpy as np  \n",
    "import matplotlib.pyplot as plt  \n",
    "from scipy.cluster.hierarchy import dendrogram, linkage  \n",
    "from sklearn.cluster import AgglomerativeClustering  \n",
    "\n",
    "You can learn about the Matplotlib module in our \"Matplotlib Tutorial.\n",
    "\n",
    "You can learn about the SciPy module in our SciPy Tutorial.\n",
    "\n",
    "NumPy is a library for working with arrays and matricies in Python, you can learn about the NumPy module in our NumPy Tutorial.\n",
    "\n",
    "scikit-learn is a popular library for machine learning.\n",
    "\n",
    "Create arrays that resemble two variables in a dataset. Note that while we only use two variables here, this method will work with any number of variables:\n",
    "\n",
    "x = [4, 5, 10, 4, 3, 11, 14 , 6, 10, 12]  \n",
    "y = [21, 19, 24, 17, 16, 25, 24, 22, 21, 21]\n",
    "\n",
    "Turn the data into a set of points:\n",
    "\n",
    "data = list(zip(x, y))\n",
    "print(data)\n",
    "\n",
    "Result:\n",
    "\n",
    "[(4, 21), (5, 19), (10, 24), (4, 17), (3, 16), (11, 25), (14, 24), (6, 22), (10, 21), (12, 21)]\n",
    "\n",
    "Compute the linkage between all of the different points. Here we use a simple euclidean distance measure and Ward's linkage, which seeks to minimize the variance between clusters.\n",
    "\n",
    "linkage_data = linkage(data, method='ward', metric='euclidean')\n",
    "\n",
    "Finally, plot the results in a dendrogram. This plot will show us the hierarchy of clusters from the bottom (individual points) to the top (a single cluster consisting of all data points).\n",
    "\n",
    "plt.show() lets us visualize the dendrogram instead of just the raw linkage data."
   ]
  },
  {
   "cell_type": "code",
   "execution_count": null,
   "id": "6834fb4b-9189-43be-bbe2-3f8f7d119498",
   "metadata": {},
   "outputs": [],
   "source": [
    "dendrogram(linkage_data)  \n",
    "plt.show()"
   ]
  },
  {
   "cell_type": "markdown",
   "id": "d4216bbf-b735-4ffd-9653-930d564bd20b",
   "metadata": {},
   "source": [
    "The scikit-learn library allows us to use hierarchichal clustering in a different manner. First, we initialize the AgglomerativeClustering class with 2 clusters, using the same euclidean distance and Ward linkage.\n",
    "\n",
    "hierarchical_cluster = AgglomerativeClustering(n_clusters=2, affinity='euclidean', linkage='ward')\n",
    "\n",
    "The .fit_predict method can be called on our data to compute the clusters using the defined parameters across our chosen number of clusters.\n",
    "\n",
    "labels = hierarchical_cluster.fit_predict(data) print(labels)\n",
    "\n",
    "Result:\n",
    "\n",
    "[0 0 1 0 0 1 1 0 1 1]\n",
    "\n",
    "Finally, if we plot the same data and color the points using the labels assigned to each index by the hierarchical clustering method, we can see the cluster each point was assigned to:"
   ]
  },
  {
   "cell_type": "code",
   "execution_count": null,
   "id": "4e99133a-19d9-4c43-ac3b-4db9734eea55",
   "metadata": {},
   "outputs": [],
   "source": [
    "plt.scatter(x, y, c=labels)\n",
    "plt.show()"
   ]
  },
  {
   "cell_type": "markdown",
   "id": "cf9652f4-d159-4590-b7e3-b813247d2c67",
   "metadata": {
    "jp-MarkdownHeadingCollapsed": true
   },
   "source": [
    "# Logistic Regression"
   ]
  },
  {
   "cell_type": "markdown",
   "id": "163e7f56-a0cb-4302-b97d-5e0a0a3ae0e1",
   "metadata": {},
   "source": [
    "Logistic regression aims to solve classification problems. It does this by predicting categorical outcomes, unlike linear regression that predicts a continuous outcome.\n",
    "\n",
    "In the simplest case there are two outcomes, which is called binomial, an example of which is predicting if a tumor is malignant or benign. Other cases have more than two outcomes to classify, in this case it is called multinomial. A common example for multinomial logistic regression would be predicting the class of an iris flower between 3 different species.\n",
    "\n",
    "Here we will be using basic logistic regression to predict a binomial variable. This means it has only two possible outcomes.\n",
    "\n",
    "**How does it work?**  \n",
    "In Python we have modules that will do the work for us. Start by importing the NumPy module.\n",
    "\n",
    "import numpy\n",
    "\n",
    "Store the independent variables in X.\n",
    "\n",
    "Store the dependent variable in y.\n",
    "\n",
    "Below is a sample dataset:\n",
    "\n",
    "#X represents the size of a tumor in centimeters.  \n",
    "X = numpy.array([3.78, 2.44, 2.09, 0.14, 1.72, 1.65, 4.92, 4.37, 4.96, 4.52, 3.69, 5.88]).reshape(-1,1)\n",
    "\n",
    "#Note: X has to be reshaped into a column from a row for the LogisticRegression() function to work.  \n",
    "#y represents whether or not the tumor is cancerous (0 for \"No\", 1 for \"Yes\").  \n",
    "y = numpy.array([0, 0, 0, 0, 0, 0, 1, 1, 1, 1, 1, 1])\n",
    "\n",
    "We will use a method from the sklearn module, so we will have to import that module as well:\n",
    "\n",
    "from sklearn import linear_model\n",
    "\n",
    "From the sklearn module we will use the LogisticRegression() method to create a logistic regression object.\n",
    "\n",
    "This object has a method called fit() that takes the independent and dependent values as parameters and fills the regression object with data that describes the relationship:\n",
    "\n",
    "logr = linear_model.LogisticRegression()  \n",
    "logr.fit(X,y)\n",
    "\n",
    "Now we have a logistic regression object that is ready to whether a tumor is cancerous based on the tumor size:\n",
    "\n",
    "#predict if tumor is cancerous where the size is 3.46mm:  \n",
    "predicted = logr.predict(numpy.array([3.46]).reshape(-1,1))\n",
    "\n",
    "**Example**  \n",
    "See the whole example in action:"
   ]
  },
  {
   "cell_type": "code",
   "execution_count": null,
   "id": "0234dd92-f1b5-4be0-b18c-fe98df582ce3",
   "metadata": {},
   "outputs": [],
   "source": [
    "import numpy\n",
    "from sklearn import linear_model\n",
    "\n",
    "#Reshaped for Logistic function.\n",
    "X = numpy.array([3.78, 2.44, 2.09, 0.14, 1.72, 1.65, 4.92, 4.37, 4.96, 4.52, 3.69, 5.88]).reshape(-1,1)\n",
    "y = numpy.array([0, 0, 0, 0, 0, 0, 1, 1, 1, 1, 1, 1])\n",
    "\n",
    "logr = linear_model.LogisticRegression()\n",
    "logr.fit(X,y)\n",
    "\n",
    "#predict if tumor is cancerous where the size is 3.46mm:\n",
    "predicted = logr.predict(numpy.array([3.46]).reshape(-1,1))\n",
    "print(predicted)"
   ]
  },
  {
   "cell_type": "markdown",
   "id": "05715f14-e23f-4b26-8f41-6c9cfa5b8ae4",
   "metadata": {},
   "source": [
    "We have predicted that a tumor with a size of 3.46mm will not be cancerous.\n",
    "\n",
    "**Coefficient**  \n",
    "In logistic regression the coefficient is the expected change in log-odds of having the outcome per unit change in X.\n",
    "\n",
    "This does not have the most intuitive understanding so let's use it to create something that makes more sense, odds.\n",
    "\n",
    "**Example**  \n",
    "See the whole example in action:"
   ]
  },
  {
   "cell_type": "code",
   "execution_count": null,
   "id": "27b325b9-7ce5-4570-ae82-df5cf8f47294",
   "metadata": {},
   "outputs": [],
   "source": [
    "import numpy\n",
    "from sklearn import linear_model\n",
    "\n",
    "#Reshaped for Logistic function.\n",
    "X = numpy.array([3.78, 2.44, 2.09, 0.14, 1.72, 1.65, 4.92, 4.37, 4.96, 4.52, 3.69, 5.88]).reshape(-1,1)\n",
    "y = numpy.array([0, 0, 0, 0, 0, 0, 1, 1, 1, 1, 1, 1])\n",
    "\n",
    "logr = linear_model.LogisticRegression()\n",
    "logr.fit(X,y)\n",
    "\n",
    "log_odds = logr.coef_\n",
    "odds = numpy.exp(log_odds)\n",
    "\n",
    "print(odds)"
   ]
  },
  {
   "cell_type": "markdown",
   "id": "c0635b1f-8de8-456e-886a-28dd47d7cfb8",
   "metadata": {},
   "source": [
    "This tells us that as the size of a tumor increases by 1mm the odds of it being a cancerous tumor increases by 4x.\n",
    "\n",
    "**Probability**  \n",
    "The coefficient and intercept values can be used to find the probability that each tumor is cancerous.\n",
    "\n",
    "Create a function that uses the model's coefficient and intercept values to return a new value. This new value represents probability that the given observation is a tumor:\n",
    "\n",
    "def logit2prob(logr,x):  \n",
    "  log_odds = logr.coef_ * x + logr.intercept_  \n",
    "  odds = numpy.exp(log_odds)  \n",
    "  probability = odds / (1 + odds)  \n",
    "  return(probability)  \n",
    "\n",
    "**Function Explained**  \n",
    "To find the log-odds for each observation, we must first create a formula that looks similar to the one from linear regression, extracting the coefficient and the intercept.\n",
    "\n",
    "log_odds = logr.coef_ * x + logr.intercept_  \n",
    "\n",
    "To then convert the log-odds to odds we must exponentiate the log-odds.\n",
    "\n",
    "odds = numpy.exp(log_odds)\n",
    "\n",
    "Now that we have the odds, we can convert it to probability by dividing it by 1 plus the odds.\n",
    "\n",
    "probability = odds / (1 + odds)\n",
    "\n",
    "Let us now use the function with what we have learned to find out the probability that each tumor is cancerous.\n",
    "\n",
    "**Example**  \n",
    "See the whole example in action:"
   ]
  },
  {
   "cell_type": "code",
   "execution_count": null,
   "id": "6d3ec41d-0819-47e2-aa47-13edb4d965cd",
   "metadata": {},
   "outputs": [],
   "source": [
    "import numpy\n",
    "from sklearn import linear_model\n",
    "\n",
    "X = numpy.array([3.78, 2.44, 2.09, 0.14, 1.72, 1.65, 4.92, 4.37, 4.96, 4.52, 3.69, 5.88]).reshape(-1,1)\n",
    "y = numpy.array([0, 0, 0, 0, 0, 0, 1, 1, 1, 1, 1, 1])\n",
    "\n",
    "logr = linear_model.LogisticRegression()\n",
    "logr.fit(X,y)\n",
    "\n",
    "def logit2prob(logr, X):\n",
    "  log_odds = logr.coef_ * X + logr.intercept_\n",
    "  odds = numpy.exp(log_odds)\n",
    "  probability = odds / (1 + odds)\n",
    "  return(probability)\n",
    "\n",
    "print(logit2prob(logr, X))"
   ]
  },
  {
   "cell_type": "markdown",
   "id": "2d8b7b0d-497b-4c45-9140-1c0e946b2c26",
   "metadata": {},
   "source": [
    "**Results Explained**  \n",
    "3.78 0.61 The probability that a tumor with the size 3.78cm is cancerous is 61%.  \n",
    "2.44 0.19 The probability that a tumor with the size 2.44cm is cancerous is 19%.  \n",
    "2.09 0.13 The probability that a tumor with the size 2.09cm is cancerous is 13%.  "
   ]
  },
  {
   "cell_type": "markdown",
   "id": "d17c381d-f16a-49ac-a931-0cdae6bb08f9",
   "metadata": {
    "jp-MarkdownHeadingCollapsed": true
   },
   "source": [
    "# Grid Search"
   ]
  },
  {
   "cell_type": "markdown",
   "id": "be0fb6dd-e38d-4e3e-8738-876e8bfddd69",
   "metadata": {},
   "source": [
    "The majority of machine learning models contain parameters that can be adjusted to vary how the model learns. For example, the logistic regression model, from sklearn, has a parameter C that controls regularization,which affects the complexity of the model.\n",
    "\n",
    "How do we pick the best value for C? The best value is dependent on the data used to train the model.\n",
    "\n",
    "**How does it work?**  \n",
    "One method is to try out different values and then pick the value that gives the best score. This technique is known as a grid search. If we had to select the values for two or more parameters, we would evaluate all combinations of the sets of values thus forming a grid of values.\n",
    "\n",
    "Before we get into the example it is good to know what the parameter we are changing does. Higher values of C tell the model, the training data resembles real world information, place a greater weight on the training data. While lower values of C do the opposite.\n",
    "\n",
    "**Using Default Parameters**  \n",
    "First let's see what kind of results we can generate without a grid search using only the base parameters.\n",
    "\n",
    "To get started we must first load in the dataset we will be working with.\n",
    "\n",
    "from sklearn import datasets  \n",
    "iris = datasets.load_iris()\n",
    "\n",
    "Next in order to create the model we must have a set of independent variables X and a dependant variable y.\n",
    "\n",
    "X = iris['data']  \n",
    "y = iris['target']\n",
    "\n",
    "Now we will load the logistic model for classifying the iris flowers.\n",
    "\n",
    "from sklearn.linear_model import LogisticRegression\n",
    "\n",
    "Creating the model, setting max_iter to a higher value to ensure that the model finds a result.\n",
    "\n",
    "Keep in mind the default value for C in a logistic regression model is 1, we will compare this later.\n",
    "\n",
    "In the example below, we look at the iris data set and try to train a model with varying values for C in logistic regression.\n",
    "\n",
    "logit = LogisticRegression(max_iter = 10000)\n",
    "\n",
    "After we create the model, we must fit the model to the data.\n",
    "\n",
    "print(logit.fit(X,y))\n",
    "\n",
    "To evaluate the model we run the score method.\n",
    "\n",
    "print(logit.score(X,y))\n",
    "\n",
    "Example"
   ]
  },
  {
   "cell_type": "code",
   "execution_count": null,
   "id": "095c8192-1898-4314-bea1-cce64450af97",
   "metadata": {},
   "outputs": [],
   "source": [
    "from sklearn import datasets\n",
    "from sklearn.linear_model import LogisticRegression\n",
    "\n",
    "iris = datasets.load_iris()\n",
    "\n",
    "X = iris['data']\n",
    "y = iris['target']\n",
    "\n",
    "logit = LogisticRegression(max_iter = 10000)\n",
    "\n",
    "print(logit.fit(X,y))\n",
    "\n",
    "print(logit.score(X,y))"
   ]
  },
  {
   "cell_type": "markdown",
   "id": "73bbfbdb-e80d-4e73-8873-124236ad56d2",
   "metadata": {},
   "source": [
    "With the default setting of C = 1, we achieved a score of 0.973.\n",
    "\n",
    "Let's see if we can do any better by implementing a grid search with difference values of 0.973.\n",
    "\n",
    "**Implementing Grid Search**  \n",
    "We will follow the same steps of before except this time we will set a range of values for C.\n",
    "\n",
    "Knowing which values to set for the searched parameters will take a combination of domain knowledge and practice.\n",
    "\n",
    "Since the default value for C is 1, we will set a range of values surrounding it.\n",
    "\n",
    "C = [0.25, 0.5, 0.75, 1, 1.25, 1.5, 1.75, 2]\n",
    "\n",
    "Next we will create a for loop to change out the values of C and evaluate the model with each change.\n",
    "\n",
    "First we will create an empty list to store the score within.\n",
    "\n",
    "scores = []\n",
    "\n",
    "To change the values of C we must loop over the range of values and update the parameter each time.\n",
    "\n",
    "for choice in C:  \n",
    "&nbsp;  logit.set_params(C=choice)  \n",
    "&nbsp;  logit.fit(X, y)  \n",
    "&nbsp;  scores.append(logit.score(X, y))\n",
    "\n",
    "With the scores stored in a list, we can evaluate what the best choice of C is.\n",
    "\n",
    "print(scores)\n",
    "\n",
    "**Example**  "
   ]
  },
  {
   "cell_type": "code",
   "execution_count": null,
   "id": "6fc0ab9a-13b2-445b-9e50-105ef83de54c",
   "metadata": {},
   "outputs": [],
   "source": [
    "from sklearn import datasets\n",
    "from sklearn.linear_model import LogisticRegression\n",
    "\n",
    "iris = datasets.load_iris()\n",
    "\n",
    "X = iris['data']\n",
    "y = iris['target']\n",
    "\n",
    "logit = LogisticRegression(max_iter = 10000)\n",
    "\n",
    "C = [0.25, 0.5, 0.75, 1, 1.25, 1.5, 1.75, 2]\n",
    "\n",
    "scores = []\n",
    "\n",
    "for choice in C:\n",
    "  logit.set_params(C=choice)\n",
    "  logit.fit(X, y)\n",
    "  scores.append(logit.score(X, y))\n",
    "\n",
    "print(scores)"
   ]
  },
  {
   "cell_type": "markdown",
   "id": "33b26baf-7242-4ceb-9cd4-6e921db26297",
   "metadata": {},
   "source": [
    "**Results Explained**  \n",
    "We can see that the lower values of C performed worse than the base parameter of 1. However, as we increased the value of C to 1.75 the model experienced increased accuracy.\n",
    "\n",
    "It seems that increasing C beyond this amount does not help increase model accuracy.\n",
    "\n",
    "**Note on Best Practices**  \n",
    "We scored our logistic regression model by using the same data that was used to train it. If the model corresponds too closely to that data, it may not be great at predicting unseen data. This statistical error is known as over fitting.\n",
    "\n",
    "To avoid being misled by the scores on the training data, we can put aside a portion of our data and use it specifically for the purpose of testing the model. Refer to the lecture on train/test splitting to avoid being misled and overfitting."
   ]
  },
  {
   "cell_type": "markdown",
   "id": "bd0646c0-3f9e-40db-bee9-09416189d717",
   "metadata": {
    "jp-MarkdownHeadingCollapsed": true
   },
   "source": [
    "# Categorical Data"
   ]
  },
  {
   "cell_type": "markdown",
   "id": "919a229a-eb9a-421d-b6ef-4c6846328737",
   "metadata": {},
   "source": [
    "When your data has categories represented by strings, it will be difficult to use them to train machine learning models which often only accepts numeric data.\n",
    "\n",
    "Instead of ignoring the categorical data and excluding the information from our model, you can tranform the data so it can be used in your models.\n",
    "\n",
    "Take a look at the table below, it is the same data set that we used in the multiple regression chapter.\n",
    "\n",
    "**Example**  "
   ]
  },
  {
   "cell_type": "code",
   "execution_count": null,
   "id": "0771e929-c665-4c4a-b05f-834e05777599",
   "metadata": {},
   "outputs": [],
   "source": [
    "import pandas as pd\n",
    "\n",
    "cars = pd.read_csv('RegressionData.csv')\n",
    "print(cars.to_string())"
   ]
  },
  {
   "cell_type": "markdown",
   "id": "dd8ce2ed-cf35-4098-af5f-d151fe78730e",
   "metadata": {},
   "source": [
    "In the multiple regression chapter, we tried to predict the CO2 emitted based on the volume of the engine and the weight of the car but we excluded information about the car brand and model.\n",
    "\n",
    "The information about the car brand or the car model might help us make a better prediction of the CO2 emitted."
   ]
  },
  {
   "cell_type": "markdown",
   "id": "f1a389ff-5f5a-48f8-9ee4-aa257387a269",
   "metadata": {},
   "source": [
    "**One Hot Encoding**  \n",
    "We cannot make use of the Car or Model column in our data since they are not numeric. A linear relationship between a categorical variable, Car or Model, and a numeric variable, CO2, cannot be determined.\n",
    "\n",
    "To fix this issue, we must have a numeric representation of the categorical variable. One way to do this is to have a column representing each group in the category.\n",
    "\n",
    "For each column, the values will be 1 or 0 where 1 represents the inclusion of the group and 0 represents the exclusion. This transformation is called one hot encoding.\n",
    "\n",
    "You do not have to do this manually, the Python Pandas module has a function that called get_dummies() which does one hot encoding.\n",
    "\n",
    "Learn about the Pandas module in our Pandas Tutorial.\n",
    "\n",
    "**Example**  \n",
    "One Hot Encode the Car column:"
   ]
  },
  {
   "cell_type": "code",
   "execution_count": null,
   "id": "2c374147-86fe-42fd-8ca0-2cef3fb4890a",
   "metadata": {},
   "outputs": [],
   "source": [
    "import pandas as pd\n",
    "\n",
    "cars = pd.read_csv('RegressionData.csv')\n",
    "ohe_cars = pd.get_dummies(cars[['Car']])\n",
    "\n",
    "print(ohe_cars.to_string())"
   ]
  },
  {
   "cell_type": "markdown",
   "id": "8e2901ed-1f94-4f90-b4c7-06330f4e3200",
   "metadata": {},
   "source": [
    "**Results**  \n",
    "A column was created for every car brand in the Car column.\n",
    "\n",
    "**Predict CO2**  \n",
    "We can use this additional information alongside the volume and weight to predict CO2\n",
    "\n",
    "To combine the information, we can use the concat() function from pandas.\n",
    "\n",
    "First we will need to import a couple modules.\n",
    "\n",
    "We will start with importing the Pandas.\n",
    "\n",
    "import pandas\n",
    "\n",
    "The pandas module allows us to read csv files and manipulate DataFrame objects:\n",
    "\n",
    "cars = pandas.read_csv(\"data.csv\")\n",
    "\n",
    "It also allows us to create the dummy variables:\n",
    "\n",
    "ohe_cars = pandas.get_dummies(cars[['Car']])\n",
    "\n",
    "Then we must select the independent variables (X) and add the dummy variables columnwise.\n",
    "\n",
    "Also store the dependent variable in y.\n",
    "\n",
    "X = pandas.concat([cars[['Volume', 'Weight']], ohe_cars], axis=1)  \n",
    "y = cars['CO2']\n",
    "\n",
    "We also need to import a method from sklearn to create a linear model\n",
    "\n",
    "Learn about linear regression.\n",
    "\n",
    "from sklearn import linear_model\n",
    "\n",
    "Now we can fit the data to a linear regression:\n",
    "\n",
    "regr = linear_model.LinearRegression()  \n",
    "regr.fit(X,y)\n",
    "\n",
    "Finally we can predict the CO2 emissions based on the car's weight, volume, and manufacturer.\n",
    "\n",
    "##predict the CO2 emission of a Volvo where the weight is 2300kg, and the volume is 1300cm3:  \n",
    "predictedCO2 = regr.predict([[2300, 1300,0,0,0,0,0,0,0,0,0,0,0,0,0,0,0,1,0]])\n",
    "\n",
    "**Example**  "
   ]
  },
  {
   "cell_type": "code",
   "execution_count": null,
   "id": "39c1b398-3a0b-4e7f-8e62-2c62670fdfd7",
   "metadata": {},
   "outputs": [],
   "source": [
    "import pandas\n",
    "from sklearn import linear_model\n",
    "\n",
    "cars = pandas.read_csv(\"RegressionData.csv\")\n",
    "ohe_cars = pandas.get_dummies(cars[['Car']])\n",
    "\n",
    "X = pandas.concat([cars[['Volume', 'Weight']], ohe_cars], axis=1)\n",
    "y = cars['CO2']\n",
    "\n",
    "regr = linear_model.LinearRegression()\n",
    "regr.fit(X,y)\n",
    "\n",
    "##predict the CO2 emission of a Volvo where the weight is 2300kg, and the volume is 1300cm3:\n",
    "predictedCO2 = regr.predict([[2300, 1300,0,0,0,0,0,0,0,0,0,0,0,0,0,0,0,1,0]])\n",
    "\n",
    "print(predictedCO2)"
   ]
  },
  {
   "cell_type": "markdown",
   "id": "61ff9768-cb38-4f1c-9405-a9a23bed17fc",
   "metadata": {},
   "source": [
    "We now have a coefficient for the volume, the weight, and each car brand in the data set\n",
    "\n",
    "**Dummifying**  \n",
    "It is not necessary to create one column for each group in your category. The information can be retained using 1 column less than the number of groups you have.\n",
    "\n",
    "For example, you have a column representing colors and in that column, you have two colors, red and blue.\n",
    "\n",
    "**Example**  "
   ]
  },
  {
   "cell_type": "code",
   "execution_count": null,
   "id": "33dd05b2-441f-4ad2-a047-d62b9abb0a05",
   "metadata": {},
   "outputs": [],
   "source": [
    "import pandas as pd\n",
    "\n",
    "colors = pd.DataFrame({'color': ['blue', 'red']})\n",
    "\n",
    "print(colors)"
   ]
  },
  {
   "cell_type": "markdown",
   "id": "72016c2b-b0f8-49d6-8266-22a82a5b1cef",
   "metadata": {},
   "source": [
    "You can create 1 column called red where 1 represents red and 0 represents not red, which means it is blue.\n",
    "\n",
    "To do this, we can use the same function that we used for one hot encoding, get_dummies, and then drop one of the columns. There is an argument, drop_first, which allows us to exclude the first column from the resulting table.\n",
    "\n",
    "**Example**  "
   ]
  },
  {
   "cell_type": "code",
   "execution_count": null,
   "id": "f90f60cc-23cf-477d-b28e-d4426efcc562",
   "metadata": {},
   "outputs": [],
   "source": [
    "import pandas as pd\n",
    "\n",
    "colors = pd.DataFrame({'color': ['blue', 'red']})\n",
    "dummies = pd.get_dummies(colors, drop_first=True)\n",
    "\n",
    "print(dummies)"
   ]
  },
  {
   "cell_type": "markdown",
   "id": "641f1a9c-0633-4018-8d6b-5a778246e7e9",
   "metadata": {},
   "source": [
    "What if you have more than 2 groups? How can the multiple groups be represented by 1 less column?\n",
    "\n",
    "Let's say we have three colors this time, red, blue and green. When we get_dummies while dropping the first column, we get the following table.\n",
    "\n",
    "**Example**  "
   ]
  },
  {
   "cell_type": "code",
   "execution_count": null,
   "id": "39f2f9f2-3d3e-4175-905a-4c14634750a4",
   "metadata": {},
   "outputs": [],
   "source": [
    "import pandas as pd\n",
    "\n",
    "colors = pd.DataFrame({'color': ['blue', 'red', 'green']})\n",
    "dummies = pd.get_dummies(colors, drop_first=True)\n",
    "dummies['color'] = colors['color']\n",
    "\n",
    "print(dummies)"
   ]
  },
  {
   "cell_type": "markdown",
   "id": "96057a10-8ca7-4585-9ea4-eab5dc5c1f77",
   "metadata": {
    "jp-MarkdownHeadingCollapsed": true
   },
   "source": [
    "# K-means"
   ]
  },
  {
   "cell_type": "markdown",
   "id": "eeee3925-52e8-4b6c-b2fb-a19d3d0003d1",
   "metadata": {},
   "source": [
    "K-means is an unsupervised learning method for clustering data points. The algorithm iteratively divides data points into K clusters by minimizing the variance in each cluster.\n",
    "\n",
    "Here, we will show you how to estimate the best value for K using the elbow method, then use K-means clustering to group the data points into clusters.\n",
    "\n",
    "**How does it work?**  \n",
    "First, each data point is randomly assigned to one of the K clusters. Then, we compute the centroid (functionally the center) of each cluster, and reassign each data point to the cluster with the closest centroid. We repeat this process until the cluster assignments for each data point are no longer changing.\n",
    "\n",
    "K-means clustering requires us to select K, the number of clusters we want to group the data into. The elbow method lets us graph the inertia (a distance-based metric) and visualize the point at which it starts decreasing linearly. This point is referred to as the \"eblow\" and is a good estimate for the best value for K based on our data.\n",
    "\n",
    "**Example**  \n",
    "Start by visualizing some data points:"
   ]
  },
  {
   "cell_type": "code",
   "execution_count": null,
   "id": "e0adb42b-e3c9-46e1-a06f-ed6c672f47bf",
   "metadata": {},
   "outputs": [],
   "source": [
    "import matplotlib.pyplot as plt\n",
    "\n",
    "x = [4, 5, 10, 4, 3, 11, 14 , 6, 10, 12]\n",
    "y = [21, 19, 24, 17, 16, 25, 24, 22, 21, 21]\n",
    "\n",
    "plt.scatter(x, y)\n",
    "plt.show()"
   ]
  },
  {
   "cell_type": "code",
   "execution_count": null,
   "id": "78222080-cd73-4ff3-9ddd-6e6993b98cea",
   "metadata": {},
   "outputs": [],
   "source": [
    "Now we utilize the elbow method to visualize the intertia for different values of K:\n",
    "\n",
    "**Example**  "
   ]
  },
  {
   "cell_type": "code",
   "execution_count": null,
   "id": "34213f59-9ee8-46ed-8b43-e06c89e6b77b",
   "metadata": {},
   "outputs": [],
   "source": [
    "from sklearn.cluster import KMeans\n",
    "\n",
    "data = list(zip(x, y))\n",
    "inertias = []\n",
    "\n",
    "for i in range(1,11):\n",
    "    kmeans = KMeans(n_clusters=i)\n",
    "    kmeans.fit(data)\n",
    "    inertias.append(kmeans.inertia_)\n",
    "\n",
    "plt.plot(range(1,11), inertias, marker='o')\n",
    "plt.title('Elbow method')\n",
    "plt.xlabel('Number of clusters')\n",
    "plt.ylabel('Inertia')\n",
    "plt.show()"
   ]
  },
  {
   "cell_type": "markdown",
   "id": "d09025e8-0850-489a-8946-7f319b315b1f",
   "metadata": {},
   "source": [
    "The elbow method shows that 2 is a good value for K, so we retrain and visualize the result:\n",
    "\n",
    "**Example**  "
   ]
  },
  {
   "cell_type": "code",
   "execution_count": null,
   "id": "aec77ad0-bc57-4aef-9dad-df27c859bec8",
   "metadata": {},
   "outputs": [],
   "source": [
    "kmeans = KMeans(n_clusters=2)\n",
    "kmeans.fit(data)\n",
    "\n",
    "plt.scatter(x, y, c=kmeans.labels_)\n",
    "plt.show()"
   ]
  },
  {
   "cell_type": "markdown",
   "id": "b701180c-2ac8-4d39-beab-2b415d186494",
   "metadata": {},
   "source": [
    "**Example Explained**  \n",
    "Import the modules you need.\n",
    "\n",
    "import matplotlib.pyplot as plt\n",
    "from sklearn.cluster import KMeans\n",
    "\n",
    "You can learn about the Matplotlib module in our \"Matplotlib Tutorial.\n",
    "\n",
    "scikit-learn is a popular library for machine learning.\n",
    "\n",
    "Create arrays that resemble two variables in a dataset. Note that while we only use two variables here, this method will work with any number of variables:\n",
    "\n",
    "x = [4, 5, 10, 4, 3, 11, 14 , 6, 10, 12]  \n",
    "y = [21, 19, 24, 17, 16, 25, 24, 22, 21, 21]\n",
    "\n",
    "Turn the data into a set of points:\n",
    "\n",
    "data = list(zip(x, y))  \n",
    "print(data)\n",
    "\n",
    "Result:\n",
    "\n",
    "[(4, 21), (5, 19), (10, 24), (4, 17), (3, 16), (11, 25), (14, 24), (6, 22), (10, 21), (12, 21)]\n",
    "\n",
    "In order to find the best value for K, we need to run K-means across our data for a range of possible values. We only have 10 data points, so the maximum number of clusters is 10. So for each value K in range(1,11), we train a K-means model and plot the intertia at that number of clusters:\n",
    "\n",
    "inertias = []\n",
    "\n",
    "for i in range(1,11):  \n",
    "&nbsp;    kmeans = KMeans(n_clusters=i)  \n",
    "&nbsp;    kmeans.fit(data)  \n",
    "&nbsp;    inertias.append(kmeans.inertia_)  "
   ]
  },
  {
   "cell_type": "code",
   "execution_count": null,
   "id": "ff386554-2d80-45a9-8827-5d549c317184",
   "metadata": {},
   "outputs": [],
   "source": [
    "plt.plot(range(1,11), inertias, marker='o')\n",
    "plt.title('Elbow method')\n",
    "plt.xlabel('Number of clusters')\n",
    "plt.ylabel('Inertia')\n",
    "plt.show()"
   ]
  },
  {
   "cell_type": "markdown",
   "id": "064c3663-d56b-4eb9-adbc-e745b04a7ce3",
   "metadata": {},
   "source": [
    "We can see that the \"elbow\" on the graph above (where the interia becomes more linear) is at K=2. We can then fit our K-means algorithm one more time and plot the different clusters assigned to the data:"
   ]
  },
  {
   "cell_type": "code",
   "execution_count": null,
   "id": "cdfdcd27-142e-47d3-95c2-263cd9547f76",
   "metadata": {},
   "outputs": [],
   "source": [
    "kmeans = KMeans(n_clusters=2)\n",
    "kmeans.fit(data)\n",
    "\n",
    "plt.scatter(x, y, c=kmeans.labels_)\n",
    "plt.show()"
   ]
  },
  {
   "cell_type": "markdown",
   "id": "835654e9-3194-4f0b-8f67-a0ef9ec09c79",
   "metadata": {
    "jp-MarkdownHeadingCollapsed": true
   },
   "source": [
    "# Bootstrap Aggregation"
   ]
  },
  {
   "cell_type": "markdown",
   "id": "c8948391-3662-4f95-b271-f73e9d43bf5f",
   "metadata": {},
   "source": [
    "**Bagging**  \n",
    "Methods such as Decision Trees, can be prone to overfitting on the training set which can lead to wrong predictions on new data.\n",
    "\n",
    "Bootstrap Aggregation (bagging) is a ensembling method that attempts to resolve overfitting for classification or regression problems. Bagging aims to improve the accuracy and performance of machine learning algorithms. It does this by taking random subsets of an original dataset, with replacement, and fits either a classifier (for classification) or regressor (for regression) to each subset. The predictions for each subset are then aggregated through majority vote for classification or averaging for regression, increasing prediction accuracy.\n",
    "\n",
    "**Evaluating a Base Classifier**  \n",
    "To see how bagging can improve model performance, we must start by evaluating how the base classifier performs on the dataset. If you do not know what decision trees are review the lesson on decision trees before moving forward, as bagging is an continuation of the concept.\n",
    "\n",
    "We will be looking to identify different classes of wines found in Sklearn's wine dataset.\n",
    "\n",
    "Let's start by importing the necessary modules.  \n",
    "\n",
    "from sklearn import datasets  \n",
    "from sklearn.model_selection import train_test_split  \n",
    "from sklearn.metrics import accuracy_score  \n",
    "from sklearn.tree import DecisionTreeClassifier  \n",
    "\n",
    "Next we need to load in the data and store it into X (input features) and y (target). The parameter as_frame is set equal to True so we do not lose the feature names when loading the data. (sklearn version older than 0.23 must skip the as_frame argument as it is not supported)\n",
    "\n",
    "data = datasets.load_wine(as_frame = True)\n",
    "\n",
    "X = data.data  \n",
    "y = data.target\n",
    "\n",
    "In order to properly evaluate our model on unseen data, we need to split X and y into train and test sets. For information on splitting data, see the Train/Test lesson.\n",
    "\n",
    "X_train, X_test, y_train, y_test = train_test_split(X, y, test_size = 0.25, random_state = 22)\n",
    "\n",
    "With our data prepared, we can now instantiate a base classifier and fit it to the training data.\n",
    "\n",
    "dtree = DecisionTreeClassifier(random_state = 22)  \n",
    "dtree.fit(X_train,y_train)  \n",
    "\n",
    "Result:\n",
    "\n",
    "DecisionTreeClassifier(random_state=22)\n",
    "\n",
    "We can now predict the class of wine the unseen test set and evaluate the model performance.\n",
    "\n",
    "y_pred = dtree.predict(X_test)\n",
    "\n",
    "print(\"Train data accuracy:\",accuracy_score(y_true = y_train, y_pred = dtree.predict(X_train)))  \n",
    "print(\"Test data accuracy:\",accuracy_score(y_true = y_test, y_pred = y_pred))\n",
    "\n",
    "Result:\n",
    "\n",
    "Train data accuracy: 1.0  \n",
    "Test data accuracy: 0.8222222222222222\n",
    "\n",
    "**Example**  \n",
    "Import the necessary data and evaluate base classifier performance."
   ]
  },
  {
   "cell_type": "code",
   "execution_count": null,
   "id": "a8c05eb6-92c0-418c-a53e-6870cda16f0b",
   "metadata": {},
   "outputs": [],
   "source": [
    "from sklearn import datasets\n",
    "from sklearn.model_selection import train_test_split\n",
    "from sklearn.metrics import accuracy_score\n",
    "from sklearn.tree import DecisionTreeClassifier\n",
    "\n",
    "data = datasets.load_wine(as_frame = True)\n",
    "\n",
    "X = data.data\n",
    "y = data.target\n",
    "\n",
    "X_train, X_test, y_train, y_test = train_test_split(X, y, test_size = 0.25, random_state = 22)\n",
    "\n",
    "dtree = DecisionTreeClassifier(random_state = 22)\n",
    "dtree.fit(X_train,y_train)\n",
    "\n",
    "y_pred = dtree.predict(X_test)\n",
    "\n",
    "print(\"Train data accuracy:\",accuracy_score(y_true = y_train, y_pred = dtree.predict(X_train)))\n",
    "print(\"Test data accuracy:\",accuracy_score(y_true = y_test, y_pred = y_pred))"
   ]
  },
  {
   "cell_type": "markdown",
   "id": "2372aaee-208c-461a-b5ea-75ed80b2b054",
   "metadata": {},
   "source": [
    "The base classifier performs reasonably well on the dataset achieving 82% accuracy on the test dataset with the current parameters (Different results may occur if you do not have the random_state parameter set).\n",
    "\n",
    "Now that we have a baseline accuracy for the test dataset, we can see how the Bagging Classifier out performs a single Decision Tree Classifier.\n",
    "\n",
    "models = []  \n",
    "scores = []\n",
    "\n",
    "for n_estimators in estimator_range:\n",
    "\n",
    "&nbsp;    # Create bagging classifier  \n",
    "&nbsp;    clf = BaggingClassifier(n_estimators = n_estimators, random_state = 22)  \n",
    "\n",
    "&nbsp;    # Fit the model  \n",
    "&nbsp;    clf.fit(X_train, y_train)\n",
    "\n",
    "&nbsp;    # Append the model and score to their respective list  \n",
    "&nbsp;    models.append(clf)  \n",
    "&nbsp;    scores.append(accuracy_score(y_true = y_test, y_pred = clf.predict(X_test)))\n",
    "\n",
    "With the models and scores stored, we can now visualize the improvement in model performance.\n",
    "\n",
    "import matplotlib.pyplot as plt\n",
    "\n",
    "**Generate the plot of scores against number of estimators**  \n",
    "plt.figure(figsize=(9,6))  \n",
    "plt.plot(estimator_range, scores)  \n",
    "\n",
    "**Adjust labels and font (to make visable)**    \n",
    "plt.xlabel(\"n_estimators\", fontsize = 18)  \n",
    "plt.ylabel(\"score\", fontsize = 18)  \n",
    "plt.tick_params(labelsize = 16)  \n",
    "\n",
    "**Visualize plot**  \n",
    "plt.show()\n",
    "\n",
    "**Example**  \n",
    "Import the necessary data and evaluate the BaggingClassifier performance."
   ]
  },
  {
   "cell_type": "code",
   "execution_count": null,
   "id": "b389b5ef-07f4-44dc-b6bc-533251b04369",
   "metadata": {},
   "outputs": [],
   "source": [
    "import matplotlib.pyplot as plt\n",
    "from sklearn import datasets\n",
    "from sklearn.model_selection import train_test_split\n",
    "from sklearn.metrics import accuracy_score\n",
    "from sklearn.ensemble import BaggingClassifier\n",
    "\n",
    "data = datasets.load_wine(as_frame = True)\n",
    "\n",
    "X = data.data\n",
    "y = data.target\n",
    "\n",
    "X_train, X_test, y_train, y_test = train_test_split(X, y, test_size = 0.25, random_state = 22)\n",
    "\n",
    "estimator_range = [2,4,6,8,10,12,14,16]\n",
    "\n",
    "models = []\n",
    "scores = []\n",
    "\n",
    "for n_estimators in estimator_range:\n",
    "\n",
    "    # Create bagging classifier\n",
    "    clf = BaggingClassifier(n_estimators = n_estimators, random_state = 22)\n",
    "\n",
    "    # Fit the model\n",
    "    clf.fit(X_train, y_train)\n",
    "\n",
    "    # Append the model and score to their respective list\n",
    "    models.append(clf)\n",
    "    scores.append(accuracy_score(y_true = y_test, y_pred = clf.predict(X_test)))\n",
    "\n",
    "# Generate the plot of scores against number of estimators\n",
    "plt.figure(figsize=(9,6))\n",
    "plt.plot(estimator_range, scores)\n",
    "\n",
    "# Adjust labels and font (to make visable)\n",
    "plt.xlabel(\"n_estimators\", fontsize = 18)\n",
    "plt.ylabel(\"score\", fontsize = 18)\n",
    "plt.tick_params(labelsize = 16)\n",
    "\n",
    "# Visualize plot\n",
    "plt.show()\n"
   ]
  },
  {
   "cell_type": "markdown",
   "id": "f32a2f82-7fee-4ba1-9297-cc2c7d5af337",
   "metadata": {},
   "source": [
    "**Results Explained**  \n",
    "By iterating through different values for the number of estimators we can see an increase in model performance from 82.2% to 95.5%. After 14 estimators the accuracy begins to drop, again if you set a different random_state the values you see will vary. That is why it is best practice to use cross validation to ensure stable results.\n",
    "\n",
    "In this case, we see a 13.3% increase in accuracy when it comes to identifying the type of the wine.\n",
    "\n",
    "**Another Form of Evaluation**  \n",
    "As bootstrapping chooses random subsets of observations to create classifiers, there are observations that are left out in the selection process. These \"out-of-bag\" observations can then be used to evaluate the model, similarly to that of a test set. Keep in mind, that out-of-bag estimation can overestimate error in binary classification problems and should only be used as a compliment to other metrics.\n",
    "\n",
    "We saw in the last exercise that 12 estimators yielded the highest accuracy, so we will use that to create our model. This time setting the parameter oob_score to true to evaluate the model with out-of-bag score.\n",
    "\n",
    "**Example**  \n",
    "Create a model with out-of-bag metric."
   ]
  },
  {
   "cell_type": "code",
   "execution_count": null,
   "id": "1ecc27f2-0b13-4920-8f51-4a9f22df6233",
   "metadata": {},
   "outputs": [],
   "source": [
    "from sklearn import datasets\n",
    "from sklearn.model_selection import train_test_split\n",
    "from sklearn.ensemble import BaggingClassifier\n",
    "\n",
    "data = datasets.load_wine(as_frame = True)\n",
    "\n",
    "X = data.data\n",
    "y = data.target\n",
    "\n",
    "X_train, X_test, y_train, y_test = train_test_split(X, y, test_size = 0.25, random_state = 22)\n",
    "\n",
    "oob_model = BaggingClassifier(n_estimators = 12, oob_score = True,random_state = 22)\n",
    "\n",
    "oob_model.fit(X_train, y_train)\n",
    "\n",
    "print(oob_model.oob_score_)"
   ]
  },
  {
   "cell_type": "markdown",
   "id": "d1ef545e-5ee0-45d8-8734-6816ef1fc311",
   "metadata": {},
   "source": [
    "Since the samples used in OOB and the test set are different, and the dataset is relatively small, there is a difference in the accuracy. It is rare that they would be exactly the same, again OOB should be used quick means for estimating error, but is not the only evaluation metric.\n",
    "\n",
    "**Generating Decision Trees from Bagging Classifier**  \n",
    "As was seen in the Decision Tree lesson, it is possible to graph the decision tree the model created. It is also possible to see the individual decision trees that went into the aggregated classifier. This helps us to gain a more intuitive understanding on how the bagging model arrives at its predictions.\n",
    "\n",
    "Note: This is only functional with smaller datasets, where the trees are relatively shallow and narrow making them easy to visualize.\n",
    "\n",
    "We will need to import plot_tree function from sklearn.tree. The different trees can be graphed by changing the estimator you wish to visualize.\n",
    "\n",
    "**Example**  \n",
    "Generate Decision Trees from Bagging Classifier"
   ]
  },
  {
   "cell_type": "code",
   "execution_count": null,
   "id": "9f1da27a-eb99-420d-a166-3f69827f8f57",
   "metadata": {},
   "outputs": [],
   "source": [
    "from sklearn import datasets\n",
    "from sklearn.model_selection import train_test_split\n",
    "from sklearn.ensemble import BaggingClassifier\n",
    "from sklearn.tree import plot_tree\n",
    "\n",
    "X = data.data\n",
    "y = data.target\n",
    "\n",
    "X_train, X_test, y_train, y_test = train_test_split(X, y, test_size = 0.25, random_state = 22)\n",
    "\n",
    "clf = BaggingClassifier(n_estimators = 12, oob_score = True,random_state = 22)\n",
    "\n",
    "clf.fit(X_train, y_train)\n",
    "\n",
    "plt.figure(figsize=(30, 20))\n",
    "\n",
    "plot_tree(clf.estimators_[0], feature_names = X.columns)"
   ]
  },
  {
   "cell_type": "markdown",
   "id": "09af528a-a1e2-4f47-bcf6-cf7b32cf6906",
   "metadata": {},
   "source": [
    "Here we can see just the first decision tree that was used to vote on the final prediction. Again, by changing the index of the classifier you can see each of the trees that have been aggregated."
   ]
  },
  {
   "cell_type": "markdown",
   "id": "51e4a010-a9ed-4a61-b955-ab4209555284",
   "metadata": {
    "jp-MarkdownHeadingCollapsed": true
   },
   "source": [
    "# Cross Validation"
   ]
  },
  {
   "cell_type": "markdown",
   "id": "d4337837-a00e-4348-829a-354a737a5b74",
   "metadata": {},
   "source": [
    "**Cross Validation**  \n",
    "When adjusting models we are aiming to increase overall model performance on unseen data. Hyperparameter tuning can lead to much better performance on test sets. However, optimizing parameters to the test set can lead information leakage causing the model to preform worse on unseen data. To correct for this we can perform cross validation.\n",
    "\n",
    "To better understand CV, we will be performing different methods on the iris dataset. Let us first load in and separate the data.\n",
    "\n",
    "from sklearn import datasets\n",
    "\n",
    "X, y = datasets.load_iris(return_X_y=True)\n",
    "\n",
    "There are many methods to cross validation, we will start by looking at k-fold cross validation.\n",
    "\n",
    "**K-Fold**  \n",
    "The training data used in the model is split, into k number of smaller sets, to be used to validate the model. The model is then trained on k-1 folds of training set. The remaining fold is then used as a validation set to evaluate the model.\n",
    "\n",
    "As we will be trying to classify different species of iris flowers we will need to import a classifier model, for this exercise we will be using a DecisionTreeClassifier. We will also need to import CV modules from sklearn.\n",
    "\n",
    "from sklearn.tree import DecisionTreeClassifier  \n",
    "from sklearn.model_selection import KFold, cross_val_score\n",
    "\n",
    "With the data loaded we can now create and fit a model for evaluation.\n",
    "\n",
    "clf = DecisionTreeClassifier(random_state=42)\n",
    "\n",
    "Now let's evaluate our model and see how it performs on each k-fold.\n",
    "\n",
    "k_folds = KFold(n_splits = 5)\n",
    "\n",
    "scores = cross_val_score(clf, X, y, cv = k_folds)\n",
    "\n",
    "It is also good pratice to see how CV performed overall by averaging the scores for all folds.\n",
    "\n",
    "**Example**  \n",
    "Run k-fold CV:"
   ]
  },
  {
   "cell_type": "code",
   "execution_count": null,
   "id": "da8b6211-420f-4e67-a830-a7d361bf580e",
   "metadata": {},
   "outputs": [],
   "source": [
    "from sklearn import datasets\n",
    "from sklearn.tree import DecisionTreeClassifier\n",
    "from sklearn.model_selection import KFold, cross_val_score\n",
    "\n",
    "X, y = datasets.load_iris(return_X_y=True)\n",
    "\n",
    "clf = DecisionTreeClassifier(random_state=42)\n",
    "\n",
    "k_folds = KFold(n_splits = 5)\n",
    "\n",
    "scores = cross_val_score(clf, X, y, cv = k_folds)\n",
    "\n",
    "print(\"Cross Validation Scores: \", scores)\n",
    "print(\"Average CV Score: \", scores.mean())\n",
    "print(\"Number of CV Scores used in Average: \", len(scores))"
   ]
  },
  {
   "cell_type": "markdown",
   "id": "edbc60b0-5acb-4a34-b95d-c57d0a4895ab",
   "metadata": {},
   "source": [
    "**Stratified K-Fold**  \n",
    "In cases where classes are imbalanced we need a way to account for the imbalance in both the train and validation sets. To do so we can stratify the target classes, meaning that both sets will have an equal proportion of all classes.\n",
    "\n",
    "**Example**  "
   ]
  },
  {
   "cell_type": "code",
   "execution_count": null,
   "id": "46605bfb-1e4b-4b9f-9826-b6bb14bfaa02",
   "metadata": {},
   "outputs": [],
   "source": [
    "from sklearn import datasets\n",
    "from sklearn.tree import DecisionTreeClassifier\n",
    "from sklearn.model_selection import StratifiedKFold, cross_val_score\n",
    "\n",
    "X, y = datasets.load_iris(return_X_y=True)\n",
    "\n",
    "clf = DecisionTreeClassifier(random_state=42)\n",
    "\n",
    "sk_folds = StratifiedKFold(n_splits = 5)\n",
    "\n",
    "scores = cross_val_score(clf, X, y, cv = sk_folds)\n",
    "\n",
    "print(\"Cross Validation Scores: \", scores)\n",
    "print(\"Average CV Score: \", scores.mean())\n",
    "print(\"Number of CV Scores used in Average: \", len(scores))"
   ]
  },
  {
   "cell_type": "markdown",
   "id": "a363639b-0f0d-4de7-a7fa-03f5802da0ec",
   "metadata": {},
   "source": [
    "While the number of folds is the same, the average CV increases from the basic k-fold when making sure there is stratified classes.\n",
    "\n",
    "**Leave-One-Out (LOO)**  \n",
    "Instead of selecting the number of splits in the training data set like k-fold LeaveOneOut, utilize 1 observation to validate and n-1 observations to train. This method is an exaustive technique.\n",
    "\n",
    "**Example**  \n",
    "Run LOO CV:"
   ]
  },
  {
   "cell_type": "code",
   "execution_count": null,
   "id": "f4648889-79da-4073-984d-affdf120667b",
   "metadata": {},
   "outputs": [],
   "source": [
    "from sklearn import datasets\n",
    "from sklearn.tree import DecisionTreeClassifier\n",
    "from sklearn.model_selection import LeaveOneOut, cross_val_score\n",
    "\n",
    "X, y = datasets.load_iris(return_X_y=True)\n",
    "\n",
    "clf = DecisionTreeClassifier(random_state=42)\n",
    "\n",
    "loo = LeaveOneOut()\n",
    "\n",
    "scores = cross_val_score(clf, X, y, cv = loo)\n",
    "\n",
    "print(\"Cross Validation Scores: \", scores)\n",
    "print(\"Average CV Score: \", scores.mean())\n",
    "print(\"Number of CV Scores used in Average: \", len(scores))"
   ]
  },
  {
   "cell_type": "markdown",
   "id": "d262edc3-1a35-4d5b-9f50-c408f3404020",
   "metadata": {},
   "source": [
    "We can observe that the number of cross validation scores performed is equal to the number of observations in the dataset. In this case there are 150 observations in the iris dataset.\n",
    "\n",
    "The average CV score is 94%.\n",
    "\n",
    "**Leave-P-Out (LPO)**  \n",
    "Leave-P-Out is simply a nuanced diffence to the Leave-One-Out idea, in that we can select the number of p to use in our validation set.\n",
    "\n",
    "**Example**  \n",
    "Run LPO CV:"
   ]
  },
  {
   "cell_type": "code",
   "execution_count": null,
   "id": "17696233-bca1-43da-b62e-ee6d09a72583",
   "metadata": {},
   "outputs": [],
   "source": [
    "from sklearn import datasets\n",
    "from sklearn.tree import DecisionTreeClassifier\n",
    "from sklearn.model_selection import LeavePOut, cross_val_score\n",
    "\n",
    "X, y = datasets.load_iris(return_X_y=True)\n",
    "\n",
    "clf = DecisionTreeClassifier(random_state=42)\n",
    "\n",
    "lpo = LeavePOut(p=2)\n",
    "\n",
    "scores = cross_val_score(clf, X, y, cv = lpo)\n",
    "\n",
    "print(\"Cross Validation Scores: \", scores)\n",
    "print(\"Average CV Score: \", scores.mean())\n",
    "print(\"Number of CV Scores used in Average: \", len(scores))"
   ]
  },
  {
   "cell_type": "markdown",
   "id": "1954e1c5-4c1e-4ce5-953e-432db4076948",
   "metadata": {},
   "source": [
    "As we can see this is an exhaustive method we many more scores being calculated than Leave-One-Out, even with a p = 2, yet it achieves roughly the same average CV score.\n",
    "\n",
    "**Shuffle Split**  \n",
    "Unlike KFold, ShuffleSplit leaves out a percentage of the data, not to be used in the train or validation sets. To do so we must decide what the train and test sizes are, as well as the number of splits.\n",
    "\n",
    "**Example**  \n",
    "Run Shuffle Split CV:"
   ]
  },
  {
   "cell_type": "code",
   "execution_count": null,
   "id": "a63c65c3-bede-496d-a5a2-723a548aaed1",
   "metadata": {},
   "outputs": [],
   "source": [
    "from sklearn import datasets\n",
    "from sklearn.tree import DecisionTreeClassifier\n",
    "from sklearn.model_selection import ShuffleSplit, cross_val_score\n",
    "\n",
    "X, y = datasets.load_iris(return_X_y=True)\n",
    "\n",
    "clf = DecisionTreeClassifier(random_state=42)\n",
    "\n",
    "ss = ShuffleSplit(train_size=0.6, test_size=0.3, n_splits = 5)\n",
    "\n",
    "scores = cross_val_score(clf, X, y, cv = ss)\n",
    "\n",
    "print(\"Cross Validation Scores: \", scores)\n",
    "print(\"Average CV Score: \", scores.mean())\n",
    "print(\"Number of CV Scores used in Average: \", len(scores))"
   ]
  },
  {
   "cell_type": "markdown",
   "id": "8480af44-6202-4f2b-9e4d-d9eb10af832f",
   "metadata": {
    "jp-MarkdownHeadingCollapsed": true
   },
   "source": [
    "# AUC - ROC Curve"
   ]
  },
  {
   "cell_type": "markdown",
   "id": "7b2aaaf1-719e-4f78-98b9-dafd23b44c20",
   "metadata": {},
   "source": [
    "In classification, there are many different evaluation metrics. The most popular is accuracy, which measures how often the model is correct. This is a great metric because it is easy to understand and getting the most correct guesses is often desired. There are some cases where you might consider using another evaluation metric.\n",
    "\n",
    "Another common metric is AUC, area under the receiver operating characteristic (ROC) curve. The Reciever operating characteristic curve plots the true positive (TP) rate versus the false positive (FP) rate at different classification thresholds. The thresholds are different probability cutoffs that separate the two classes in binary classification. It uses probability to tell us how well a model separates the classes.\n",
    "\n",
    "**Imbalanced Data**  \n",
    "Suppose we have an imbalanced data set where the majority of our data is of one value. We can obtain high accuracy for the model by predicting the majority class.\n",
    "\n",
    "**Example**  "
   ]
  },
  {
   "cell_type": "code",
   "execution_count": null,
   "id": "7a6c22fa-7c0b-427a-b46c-f2a7a391fcc6",
   "metadata": {},
   "outputs": [],
   "source": [
    "import numpy as np\n",
    "from sklearn.metrics import accuracy_score, confusion_matrix, roc_auc_score, roc_curve\n",
    "\n",
    "n = 10000\n",
    "ratio = .95\n",
    "n_0 = int((1-ratio) * n)\n",
    "n_1 = int(ratio * n)\n",
    "\n",
    "y = np.array([0] * n_0 + [1] * n_1)\n",
    "# below are the probabilities obtained from a hypothetical model that always predicts the majority class\n",
    "# probability of predicting class 1 is going to be 100%\n",
    "y_proba = np.array([1]*n)\n",
    "y_pred = y_proba > .5\n",
    "\n",
    "print(f'accuracy score: {accuracy_score(y, y_pred)}')\n",
    "cf_mat = confusion_matrix(y, y_pred)\n",
    "print('Confusion matrix')\n",
    "print(cf_mat)\n",
    "print(f'class 0 accuracy: {cf_mat[0][0]/n_0}')\n",
    "print(f'class 1 accuracy: {cf_mat[1][1]/n_1}')"
   ]
  },
  {
   "cell_type": "markdown",
   "id": "0e5b6032-bb4f-4605-8447-4b720855425c",
   "metadata": {},
   "source": [
    "Although we obtain a very high accuracy, the model provided no information about the data so it's not useful. We accurately predict class 1 100% of the time while inaccurately predict class 0 0% of the time. At the expense of accuracy, it might be better to have a model that can somewhat separate the two classes.\n",
    "\n",
    "**Example**  "
   ]
  },
  {
   "cell_type": "code",
   "execution_count": null,
   "id": "c2595c07-4e51-448f-8ea2-d48e9926ff19",
   "metadata": {},
   "outputs": [],
   "source": [
    "# below are the probabilities obtained from a hypothetical model that doesn't always predict the mode\n",
    "y_proba_2 = np.array(\n",
    "    np.random.uniform(0, .7, n_0).tolist() +\n",
    "    np.random.uniform(.3, 1, n_1).tolist()\n",
    ")\n",
    "y_pred_2 = y_proba_2 > .5\n",
    "\n",
    "print(f'accuracy score: {accuracy_score(y, y_pred_2)}')\n",
    "cf_mat = confusion_matrix(y, y_pred_2)\n",
    "print('Confusion matrix')\n",
    "print(cf_mat)\n",
    "print(f'class 0 accuracy: {cf_mat[0][0]/n_0}')\n",
    "print(f'class 1 accuracy: {cf_mat[1][1]/n_1}')"
   ]
  },
  {
   "cell_type": "markdown",
   "id": "6934cadc-a2ba-4c2d-ab1c-2266083317d3",
   "metadata": {},
   "source": [
    "For the second set of predictions, we do not have as high of an accuracy score as the first but the accuracy for each class is more balanced. Using accuracy as an evaluation metric we would rate the first model higher than the second even though it doesn't tell us anything about the data.\n",
    "\n",
    "In cases like this, using another evaluation metric like AUC would be preferred."
   ]
  },
  {
   "cell_type": "code",
   "execution_count": null,
   "id": "9fbceef6-9a55-4c91-a7d3-3e371cb8d103",
   "metadata": {},
   "outputs": [],
   "source": [
    "import matplotlib.pyplot as plt\n",
    "\n",
    "def plot_roc_curve(true_y, y_prob):\n",
    "    \"\"\"\n",
    "    plots the roc curve based of the probabilities\n",
    "    \"\"\"\n",
    "\n",
    "    fpr, tpr, thresholds = roc_curve(true_y, y_prob)\n",
    "    plt.plot(fpr, tpr)\n",
    "    plt.xlabel('False Positive Rate')\n",
    "    plt.ylabel('True Positive Rate')"
   ]
  },
  {
   "cell_type": "markdown",
   "id": "ea2ad3ce-4cfb-404d-b3a6-27b69fa93c35",
   "metadata": {},
   "source": [
    "**Example**  \n",
    "Model 1:  "
   ]
  },
  {
   "cell_type": "code",
   "execution_count": null,
   "id": "83525049-33a8-465a-9a21-142d51879482",
   "metadata": {},
   "outputs": [],
   "source": [
    "plot_roc_curve(y, y_proba)\n",
    "print(f'model 1 AUC score: {roc_auc_score(y, y_proba)}')"
   ]
  },
  {
   "cell_type": "markdown",
   "id": "02ec0c4c-8235-49be-857c-ad36bf484f9b",
   "metadata": {},
   "source": [
    "**Example**  \n",
    "Model 2:"
   ]
  },
  {
   "cell_type": "code",
   "execution_count": null,
   "id": "790466a7-d07f-4e11-a6ec-6eb71f62898d",
   "metadata": {},
   "outputs": [],
   "source": [
    "plot_roc_curve(y, y_proba_2)\n",
    "print(f'model 2 AUC score: {roc_auc_score(y, y_proba_2)}')"
   ]
  },
  {
   "cell_type": "markdown",
   "id": "6cdcdc7a-6d5a-4c10-baf9-0475d5c7a65d",
   "metadata": {},
   "source": [
    "An AUC score of around .5 would mean that the model is unable to make a distinction between the two classes and the curve would look like a line with a slope of 1. An AUC score closer to 1 means that the model has the ability to separate the two classes and the curve would come closer to the top left corner of the graph.\n",
    "\n",
    "**Probabilities**  \n",
    "Because AUC is a metric that utilizes probabilities of the class predictions, we can be more confident in a model that has a higher AUC score than one with a lower score even if they have similar accuracies.\n",
    "\n",
    "In the data below, we have two sets of probabilites from hypothetical models. The first has probabilities that are not as \"confident\" when predicting the two classes (the probabilities are close to .5). The second has probabilities that are more \"confident\" when predicting the two classes (the probabilities are close to the extremes of 0 or 1).\n",
    "\n",
    "**Example**  "
   ]
  },
  {
   "cell_type": "code",
   "execution_count": null,
   "id": "563cddbe-6ed4-4287-ad67-1d1abf9eb07a",
   "metadata": {},
   "outputs": [],
   "source": [
    "import numpy as np\n",
    "\n",
    "n = 10000\n",
    "y = np.array([0] * n + [1] * n)\n",
    "#\n",
    "y_prob_1 = np.array(\n",
    "    np.random.uniform(.25, .5, n//2).tolist() +\n",
    "    np.random.uniform(.3, .7, n).tolist() +\n",
    "    np.random.uniform(.5, .75, n//2).tolist()\n",
    ")\n",
    "y_prob_2 = np.array(\n",
    "    np.random.uniform(0, .4, n//2).tolist() +\n",
    "    np.random.uniform(.3, .7, n).tolist() +\n",
    "    np.random.uniform(.6, 1, n//2).tolist()\n",
    ")\n",
    "\n",
    "print(f'model 1 accuracy score: {accuracy_score(y, y_prob_1>.5)}')\n",
    "print(f'model 2 accuracy score: {accuracy_score(y, y_prob_2>.5)}')\n",
    "\n",
    "print(f'model 1 AUC score: {roc_auc_score(y, y_prob_1)}')\n",
    "print(f'model 2 AUC score: {roc_auc_score(y, y_prob_2)}')"
   ]
  },
  {
   "cell_type": "markdown",
   "id": "87116d7e-4e9b-415d-8809-6cecd63dc0a8",
   "metadata": {},
   "source": [
    "**Example**  \n",
    "Plot model 1:"
   ]
  },
  {
   "cell_type": "code",
   "execution_count": null,
   "id": "78df4b92-6c70-4b68-9215-5692a518a456",
   "metadata": {},
   "outputs": [],
   "source": [
    "plot_roc_curve(y, y_prob_1)"
   ]
  },
  {
   "cell_type": "markdown",
   "id": "e7c2b6c4-af05-45a0-9305-a20045098fac",
   "metadata": {},
   "source": [
    "**Example**  \n",
    "Plot model 2:"
   ]
  },
  {
   "cell_type": "code",
   "execution_count": null,
   "id": "8cb96da0-8dfa-4846-bb8f-46095e20ec01",
   "metadata": {},
   "outputs": [],
   "source": [
    "fpr, tpr, thresholds = roc_curve(y, y_prob_2)\n",
    "plt.plot(fpr, tpr)"
   ]
  },
  {
   "cell_type": "markdown",
   "id": "b6656f3a-b14a-4aff-8380-f00598193761",
   "metadata": {},
   "source": [
    "Even though the accuracies for the two models are similar, the model with the higher AUC score will be more reliable because it takes into account the predicted probability. It is more likely to give you higher accuracy when predicting future data."
   ]
  },
  {
   "cell_type": "markdown",
   "id": "c8da6838-64b8-4758-8369-4a0cee2eb627",
   "metadata": {
    "jp-MarkdownHeadingCollapsed": true
   },
   "source": [
    "# K-nearest neighbors (KNN)"
   ]
  },
  {
   "cell_type": "markdown",
   "id": "fe250031-a008-4e5e-b372-834b85a9fc0d",
   "metadata": {},
   "source": [
    "KNN is a simple, supervised machine learning (ML) algorithm that can be used for classification or regression tasks - and is also frequently used in missing value imputation. It is based on the idea that the observations closest to a given data point are the most \"similar\" observations in a data set, and we can therefore classify unforeseen points based on the values of the closest existing points. By choosing K, the user can select the number of nearby observations to use in the algorithm.\n",
    "\n",
    "Here, we will show you how to implement the KNN algorithm for classification, and show how different values of K affect the results.\n",
    "\n",
    "**How does it work?**  \n",
    "K is the number of nearest neighbors to use. For classification, a majority vote is used to determined which class a new observation should fall into. Larger values of K are often more robust to outliers and produce more stable decision boundaries than very small values (K=3 would be better than K=1, which might produce undesirable results.\n",
    "\n",
    "**Example**  \n",
    "Start by visualizing some data points:"
   ]
  },
  {
   "cell_type": "code",
   "execution_count": null,
   "id": "fbb09554-caee-4541-a45f-d215c9086475",
   "metadata": {},
   "outputs": [],
   "source": [
    "import matplotlib.pyplot as plt\n",
    "\n",
    "x = [4, 5, 10, 4, 3, 11, 14 , 8, 10, 12]\n",
    "y = [21, 19, 24, 17, 16, 25, 24, 22, 21, 21]\n",
    "classes = [0, 0, 1, 0, 0, 1, 1, 0, 1, 1]\n",
    "\n",
    "plt.scatter(x, y, c=classes)\n",
    "plt.show()"
   ]
  },
  {
   "cell_type": "markdown",
   "id": "ffde6509-2cdf-4853-ba93-cd211e13c48d",
   "metadata": {},
   "source": [
    "Now we fit the KNN algorithm with K=1:\n",
    "\n",
    "And use it to classify a new data point:\n",
    "\n",
    "**Example**  "
   ]
  },
  {
   "cell_type": "code",
   "execution_count": null,
   "id": "6b77bd7c-13bc-45b2-b8c9-474dfdca4e12",
   "metadata": {},
   "outputs": [],
   "source": [
    "from sklearn.neighbors import KNeighborsClassifier\n",
    "\n",
    "data = list(zip(x, y))\n",
    "knn = KNeighborsClassifier(n_neighbors=1)\n",
    "\n",
    "knn.fit(data, classes)\n",
    "\n",
    "new_x = 8\n",
    "new_y = 21\n",
    "new_point = [(new_x, new_y)]\n",
    "\n",
    "prediction = knn.predict(new_point)\n",
    "\n",
    "plt.scatter(x + [new_x], y + [new_y], c=classes + [prediction[0]])\n",
    "plt.text(x=new_x-1.7, y=new_y-0.7, s=f\"new point, class: {prediction[0]}\")\n",
    "plt.show()"
   ]
  },
  {
   "cell_type": "markdown",
   "id": "b844b95b-d85b-4039-95af-8f2696ff2647",
   "metadata": {},
   "source": [
    "Now we do the same thing, but with a higher K value which changes the prediction:\n",
    "\n",
    "**Example**  "
   ]
  },
  {
   "cell_type": "code",
   "execution_count": null,
   "id": "6f7dcccc-1fbf-4a05-82ac-905f2f563cb1",
   "metadata": {},
   "outputs": [],
   "source": [
    "knn = KNeighborsClassifier(n_neighbors=5)\n",
    "\n",
    "knn.fit(data, classes)\n",
    "\n",
    "prediction = knn.predict(new_point)\n",
    "\n",
    "plt.scatter(x + [new_x], y + [new_y], c=classes + [prediction[0]])\n",
    "plt.text(x=new_x-1.7, y=new_y-0.7, s=f\"new point, class: {prediction[0]}\")\n",
    "plt.show()"
   ]
  },
  {
   "cell_type": "markdown",
   "id": "e155a99f-df71-4f96-afa3-3bc67b931cb6",
   "metadata": {},
   "source": [
    "**Example Explained**  \n",
    "Import the modules you need.\n",
    "\n",
    "scikit-learn is a popular library for machine learning in Python.\n",
    "\n",
    "import matplotlib.pyplot as plt  \n",
    "from sklearn.neighbors import KNeighborsClassifier\n",
    "\n",
    "Create arrays that resemble variables in a dataset. We have two input features (x and y) and then a target class (class). The input features that are pre-labeled with our target class will be used to predict the class of new data. Note that while we only use two input features here, this method will work with any number of variables:\n",
    "\n",
    "x = [4, 5, 10, 4, 3, 11, 14 , 8, 10, 12]  \n",
    "y = [21, 19, 24, 17, 16, 25, 24, 22, 21, 21]  \n",
    "classes = [0, 0, 1, 0, 0, 1, 1, 0, 1, 1]  \n",
    "\n",
    "Turn the input features into a set of points:\n",
    "\n",
    "data = list(zip(x, y))  \n",
    "print(data)\n",
    "\n",
    "[(4, 21), (5, 19), (10, 24), (4, 17), (3, 16), (11, 25), (14, 24), (8, 22), (10, 21), (12, 21)]\n",
    "\n",
    "Using the input features and target class, we fit a KNN model on the model using 1 nearest neighbor:\n",
    "\n",
    "knn = KNeighborsClassifier(n_neighbors=1)  \n",
    "knn.fit(data, classes)\n",
    "\n",
    "Then, we can use the same KNN object to predict the class of new, unforeseen data points. First we create new x and y features, and then call knn.predict() on the new data point to get a class of 0 or 1:\n",
    "\n",
    "new_x = 8  \n",
    "new_y = 21  \n",
    "new_point = [(new_x, new_y)]  \n",
    "prediction = knn.predict(new_point)  \n",
    "print(prediction)\n",
    "\n",
    "Result:  \n",
    "[0]\n",
    "\n",
    "When we plot all the data along with the new point and class, we can see it's been labeled blue with the 1 class. The text annotation is just to highlight the location of the new point:\n",
    "\n",
    "plt.scatter(x + [new_x], y + [new_y], c=classes + [prediction[0]])  \n",
    "plt.text(x=new_x-1.7, y=new_y-0.7, s=f\"new point, class: {prediction[0]}\")  \n",
    "plt.show()\n",
    "\n",
    "\n",
    "However, when we changes the number of neighbors to 5, the number of points used to classify our new point changes. As a result, so does the classification of the new point:\n",
    "\n",
    "knn = KNeighborsClassifier(n_neighbors=5)  \n",
    "knn.fit(data, classes)  \n",
    "prediction = knn.predict(new_point)  \n",
    "print(prediction)  \n",
    "\n",
    "Result:  \n",
    "[1]\n",
    "\n",
    "When we plot the class of the new point along with the older points, we note that the color has changed based on the associated class label:\n",
    "\n",
    "plt.scatter(x + [new_x], y + [new_y], c=classes + [prediction[0]])  \n",
    "plt.text(x=new_x-1.7, y=new_y-0.7, s=f\"new point, class: {prediction[0]}\")  \n",
    "plt.show()"
   ]
  },
  {
   "cell_type": "code",
   "execution_count": null,
   "id": "fad71252-00f4-445f-979c-e69a1993ae46",
   "metadata": {},
   "outputs": [],
   "source": []
  },
  {
   "cell_type": "code",
   "execution_count": null,
   "id": "ad087cec-8135-4d4d-a08f-584c1a6d28ac",
   "metadata": {},
   "outputs": [],
   "source": []
  },
  {
   "cell_type": "code",
   "execution_count": null,
   "id": "535ba160-3dbd-48f6-9cbc-7a9a56f15907",
   "metadata": {},
   "outputs": [],
   "source": []
  },
  {
   "cell_type": "code",
   "execution_count": null,
   "id": "3fbba7f8-6a60-4f17-ac9f-3f601c6fae41",
   "metadata": {},
   "outputs": [],
   "source": []
  },
  {
   "cell_type": "code",
   "execution_count": null,
   "id": "3fc2b724-0fdd-4cb1-b4b0-a0d7019eb829",
   "metadata": {},
   "outputs": [],
   "source": []
  },
  {
   "cell_type": "code",
   "execution_count": null,
   "id": "513c3e81-2e4e-4afc-a062-77990189663c",
   "metadata": {},
   "outputs": [],
   "source": []
  },
  {
   "cell_type": "code",
   "execution_count": null,
   "id": "c7ff3557-6b27-448b-a1c7-f6a950ea368f",
   "metadata": {},
   "outputs": [],
   "source": []
  },
  {
   "cell_type": "code",
   "execution_count": null,
   "id": "4de3a510-cfb8-47aa-9a27-acfa5416f2ae",
   "metadata": {},
   "outputs": [],
   "source": []
  },
  {
   "cell_type": "code",
   "execution_count": null,
   "id": "023487fb-d4d2-4880-a771-315f1c6a030c",
   "metadata": {},
   "outputs": [],
   "source": []
  },
  {
   "cell_type": "code",
   "execution_count": null,
   "id": "51f46e5c-b5d4-4be3-ad77-cacb9fd4a5d6",
   "metadata": {},
   "outputs": [],
   "source": []
  },
  {
   "cell_type": "code",
   "execution_count": null,
   "id": "16ee6cb8-9a93-4d81-ac47-2661aefb826a",
   "metadata": {},
   "outputs": [],
   "source": []
  },
  {
   "cell_type": "code",
   "execution_count": null,
   "id": "cd073aeb-914f-40c5-9e1c-f4defe56c668",
   "metadata": {},
   "outputs": [],
   "source": []
  },
  {
   "cell_type": "code",
   "execution_count": null,
   "id": "0984b336-f430-4ce6-853a-899d72b07381",
   "metadata": {},
   "outputs": [],
   "source": []
  }
 ],
 "metadata": {
  "kernelspec": {
   "display_name": "Python 3 (ipykernel)",
   "language": "python",
   "name": "python3"
  },
  "language_info": {
   "codemirror_mode": {
    "name": "ipython",
    "version": 3
   },
   "file_extension": ".py",
   "mimetype": "text/x-python",
   "name": "python",
   "nbconvert_exporter": "python",
   "pygments_lexer": "ipython3",
   "version": "3.12.4"
  }
 },
 "nbformat": 4,
 "nbformat_minor": 5
}
