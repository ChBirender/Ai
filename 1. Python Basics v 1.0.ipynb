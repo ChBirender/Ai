{
 "cells": [
  {
   "cell_type": "markdown",
   "id": "88b89717-0d50-4be7-bd47-e727edabcb66",
   "metadata": {
    "jp-MarkdownHeadingCollapsed": true
   },
   "source": [
    "# Python Introduction  "
   ]
  },
  {
   "cell_type": "markdown",
   "id": "fbd674e4-2286-4d9a-803e-6b1374502cd9",
   "metadata": {},
   "source": [
    "Python is a popular programming language. It was created by Guido van Rossum, and released in 1991.  \n",
    "**It is used for:**  \n",
    ">•\tweb development (server-side),  \n",
    "•\tsoftware development,  \n",
    "•\tmathematics,  \n",
    "•\tSystem scripting.  \n",
    "  \n",
    "***What can Python do?***  \n",
    ">•\tPython can be used on a server to create web applications.  \n",
    "•\tPython can be used alongside software to create workflows.  \n",
    "•\tPython can connect to database systems. It can also read and modify files.  \n",
    "•\tPython can be used to handle big data and perform complex mathematics.  \n",
    "•\tPython can be used for rapid prototyping, or for production-ready software development.  \n",
    "  \n",
    "***Why Python?***  \n",
    ">•\tPython works on different platforms (Windows, Mac, Linux, Raspberry Pi, etc).  \n",
    "•\tPython has a simple syntax similar to the English language.  \n",
    "•\tPython has syntax that allows developers to write programs with fewer lines than some other programming languages.  \n",
    "•\tPython runs on an interpreter system, meaning that code can be executed as soon as it is written. This means that prototyping can be very quick.  \n",
    "•\tPython can be treated in a procedural way, an object-oriented way or a functional way.  \n",
    "  \n",
    "***Good to know***  \n",
    ">•\tThe most recent major version of Python is Python 3, which we shall be using in this tutorial. However, Python 2, although not being updated with anything other than security updates, is still quite popular.  \n",
    "•\tIn this tutorial Python will be written in a text editor. It is possible to write Python in an Integrated Development Environment, such as Thonny,   Pycharm, Netbeans or Eclipse which are particularly useful when managing larger collections of Python files.  \n",
    "  \n",
    "***Python Syntax compared to other programming languages***  \n",
    ">•\tPython was designed for readability, and has some similarities to the English language with influence from mathematics.  \n",
    "•\tPython uses new lines to complete a command, as opposed to other programming languages which often use semicolons or parentheses.  \n",
    "•\tPython relies on indentation, using whitespace, to define scope; such as the scope of loops, functions and classes. Other programming languages often use curly-brackets for this purpose.  \n",
    "\n",
    "**Example**"
   ]
  },
  {
   "cell_type": "code",
   "execution_count": 1,
   "id": "ab2e9214-83f4-4f63-b602-508f1fd65a1c",
   "metadata": {},
   "outputs": [
    {
     "name": "stdout",
     "output_type": "stream",
     "text": [
      "Hello, World!\n"
     ]
    }
   ],
   "source": [
    "print(\"Hello, World!\")"
   ]
  },
  {
   "cell_type": "markdown",
   "id": "2fac02bc-d179-40d7-af27-b926b963d866",
   "metadata": {
    "jp-MarkdownHeadingCollapsed": true
   },
   "source": [
    "## Python Version  \n",
    "To check the Python version of the editor, you can find it by importing the sys module:  \n",
    "\n",
    "**Example**  \n",
    "Check the Python version of the editor:  "
   ]
  },
  {
   "cell_type": "code",
   "execution_count": 2,
   "id": "28c0fadc-abcb-4984-a52b-2bb72aaf2d6c",
   "metadata": {},
   "outputs": [
    {
     "name": "stdout",
     "output_type": "stream",
     "text": [
      "3.12.4 | packaged by conda-forge | (main, Jun 17 2024, 10:04:44) [MSC v.1940 64 bit (AMD64)]\n"
     ]
    }
   ],
   "source": [
    "import sys\n",
    "print(sys.version)"
   ]
  },
  {
   "cell_type": "markdown",
   "id": "6267ede8-1a1a-4fd0-a824-5f792fb3f9ca",
   "metadata": {
    "jp-MarkdownHeadingCollapsed": true
   },
   "source": [
    "# Python Syntax  "
   ]
  },
  {
   "cell_type": "markdown",
   "id": "dfd07e8a-2948-4ad9-99ee-e336c69bff8b",
   "metadata": {},
   "source": [
    "## Python Indentation  \n",
    "Indentation refers to the spaces at the beginning of a code line.  \n",
    "\n",
    "Where in other programming languages the indentation in code is for readability only, the indentation in Python is very important.  \n",
    "\n",
    "Python uses indentation to indicate a block of code.  \n",
    "\n",
    "**Example**"
   ]
  },
  {
   "cell_type": "code",
   "execution_count": 3,
   "id": "a943adad-deac-4eb0-8df6-aa038d479350",
   "metadata": {},
   "outputs": [
    {
     "name": "stdout",
     "output_type": "stream",
     "text": [
      "Five is greater than two!\n"
     ]
    }
   ],
   "source": [
    "if 5 > 2:\n",
    "  print(\"Five is greater than two!\")"
   ]
  },
  {
   "cell_type": "markdown",
   "id": "aa21e644-4419-4d70-812d-af6588de2194",
   "metadata": {},
   "source": [
    "Python will give you an error if you skip the indentation:  \n",
    "\n",
    "**Example**"
   ]
  },
  {
   "cell_type": "code",
   "execution_count": 4,
   "id": "747fac32-51ff-4d86-9b98-32dc39745890",
   "metadata": {},
   "outputs": [
    {
     "ename": "IndentationError",
     "evalue": "expected an indented block after 'if' statement on line 1 (3793329317.py, line 2)",
     "output_type": "error",
     "traceback": [
      "\u001b[1;36m  Cell \u001b[1;32mIn[4], line 2\u001b[1;36m\u001b[0m\n\u001b[1;33m    print(\"Five is greater than two!\")\u001b[0m\n\u001b[1;37m    ^\u001b[0m\n\u001b[1;31mIndentationError\u001b[0m\u001b[1;31m:\u001b[0m expected an indented block after 'if' statement on line 1\n"
     ]
    }
   ],
   "source": [
    "if 5 > 2:\n",
    "print(\"Five is greater than two!\")"
   ]
  },
  {
   "cell_type": "markdown",
   "id": "e5411a4b-b924-4b45-8b01-5a4e6f9bf62b",
   "metadata": {},
   "source": [
    "The number of spaces is up to you as a programmer, the most common use is four, but it has to be at least one.\n",
    "\n",
    "**Example**"
   ]
  },
  {
   "cell_type": "code",
   "execution_count": 5,
   "id": "22709a37-99de-4478-9bd9-ebecbee40da0",
   "metadata": {},
   "outputs": [
    {
     "name": "stdout",
     "output_type": "stream",
     "text": [
      "Five is greater than two!\n",
      "Five is greater than two!\n"
     ]
    }
   ],
   "source": [
    "if 5 > 2:\n",
    " print(\"Five is greater than two!\") \n",
    "if 5 > 2:\n",
    "        print(\"Five is greater than two!\") "
   ]
  },
  {
   "cell_type": "markdown",
   "id": "fff4756f-ed92-4a68-b01f-135e18040ef8",
   "metadata": {},
   "source": [
    "You have to use the same number of spaces in the same block of code, otherwise Python will give you an error:\n",
    "\n",
    "**Example**"
   ]
  },
  {
   "cell_type": "code",
   "execution_count": 6,
   "id": "51525a88-d884-4c38-8bd8-feda7d06ece5",
   "metadata": {},
   "outputs": [
    {
     "ename": "IndentationError",
     "evalue": "unexpected indent (3430240237.py, line 3)",
     "output_type": "error",
     "traceback": [
      "\u001b[1;36m  Cell \u001b[1;32mIn[6], line 3\u001b[1;36m\u001b[0m\n\u001b[1;33m    print(\"Five is greater than two!\")\u001b[0m\n\u001b[1;37m    ^\u001b[0m\n\u001b[1;31mIndentationError\u001b[0m\u001b[1;31m:\u001b[0m unexpected indent\n"
     ]
    }
   ],
   "source": [
    "if 5 > 2:\n",
    " print(\"Five is greater than two!\")\n",
    "        print(\"Five is greater than two!\")"
   ]
  },
  {
   "cell_type": "markdown",
   "id": "ff01cd24-17d4-485a-90d1-99e0c070b035",
   "metadata": {},
   "source": [
    "## Python Variables  \n",
    "In Python, variables are created when you assign a value to it:  \n",
    "\n",
    "**Example**  \n",
    "Variables in Python:  "
   ]
  },
  {
   "cell_type": "code",
   "execution_count": 8,
   "id": "b4558a95-7783-4492-b48d-81ee7167055b",
   "metadata": {},
   "outputs": [],
   "source": [
    "x = 5\n",
    "y = \"Hello, World!\""
   ]
  },
  {
   "cell_type": "markdown",
   "id": "059b2ec9-63d6-4340-b0e1-70519a511ede",
   "metadata": {},
   "source": [
    "Python has no command for declaring a variable."
   ]
  },
  {
   "cell_type": "markdown",
   "id": "e0091a1e-d5cc-4036-8d5d-5e691afd098d",
   "metadata": {
    "jp-MarkdownHeadingCollapsed": true
   },
   "source": [
    "# Python Comments  "
   ]
  },
  {
   "cell_type": "markdown",
   "id": "b676f6eb-ad96-475d-aa21-d0f591bdac9f",
   "metadata": {},
   "source": [
    "## Single Line Comments"
   ]
  },
  {
   "cell_type": "code",
   "execution_count": null,
   "id": "3c451d6b-9033-4236-b13b-041e9cd6b679",
   "metadata": {},
   "outputs": [],
   "source": [
    "Comments can be used to explain Python code.  \n",
    "Comments can be used to make the code more readable.  \n",
    "Comments can be used to prevent execution when testing code.  \n",
    "\n",
    "## Creating a Comment  \n",
    "Comments starts with a  #, and Python will ignore them:\n",
    "\n",
    "**Example**"
   ]
  },
  {
   "cell_type": "code",
   "execution_count": 9,
   "id": "09cd916a-f229-4ece-8a62-4db74e16f553",
   "metadata": {},
   "outputs": [
    {
     "name": "stdout",
     "output_type": "stream",
     "text": [
      "Hello, World!\n"
     ]
    }
   ],
   "source": [
    "#This is a comment\n",
    "print(\"Hello, World!\")"
   ]
  },
  {
   "cell_type": "markdown",
   "id": "21bbbe04-533a-48de-afec-65ad82c8dd09",
   "metadata": {},
   "source": [
    "Comments can be placed at the end of a line, and Python will ignore the rest of the line:\n",
    "\n",
    "**Example**"
   ]
  },
  {
   "cell_type": "code",
   "execution_count": null,
   "id": "c11f9266-91d8-47e7-844b-01e160241ddb",
   "metadata": {},
   "outputs": [],
   "source": [
    "print(\"Hello, World!\") #This is a comment"
   ]
  },
  {
   "cell_type": "markdown",
   "id": "b526e0d4-bb1b-4af4-abe8-14576cd83e0f",
   "metadata": {},
   "source": [
    "A comment does not have to be text that explains the code, it can also be used to prevent Python from executing code:\n",
    "\n",
    "**Example**"
   ]
  },
  {
   "cell_type": "code",
   "execution_count": null,
   "id": "26943af2-5484-4f3c-b284-637021ab78d5",
   "metadata": {},
   "outputs": [],
   "source": [
    "#print(\"Hello, World!\")\n",
    "print(\"Cheers, Mate!\""
   ]
  },
  {
   "cell_type": "markdown",
   "id": "621c9c7f-f559-47bc-a128-4c24611861e9",
   "metadata": {},
   "source": [
    "## Multiline Comments\n",
    "Python does not really have a syntax for multiline comments.\n",
    "\n",
    "To add a multiline comment you could insert a # for each line:\n",
    "\n",
    "**Example**"
   ]
  },
  {
   "cell_type": "code",
   "execution_count": null,
   "id": "b296d8d4-10cc-4f8c-9618-8efc7dff3f1e",
   "metadata": {},
   "outputs": [],
   "source": [
    "#This is a comment\n",
    "#written in\n",
    "#more than just one line\n",
    "print(\"Hello, World!\")"
   ]
  },
  {
   "cell_type": "markdown",
   "id": "1fa85e17-f650-4445-8f88-97c378320fcc",
   "metadata": {},
   "source": [
    "Or, not quite as intended, you can use a multiline string.\n",
    "\n",
    "Since Python will ignore string literals that are not assigned to a variable, you can add a multiline string (triple quotes) in your code, and place your comment inside it:\n",
    "\n",
    "**Example**"
   ]
  },
  {
   "cell_type": "code",
   "execution_count": null,
   "id": "fd4b8376-e11f-447a-96f8-21e2cd60b1aa",
   "metadata": {},
   "outputs": [],
   "source": [
    "\"\"\"\n",
    "This is a comment\n",
    "written in\n",
    "more than just one line\n",
    "\"\"\"\n",
    "print(\"Hello, World!\")"
   ]
  },
  {
   "cell_type": "markdown",
   "id": "ee0d9350-6861-4fe3-94e8-f13ca21ce664",
   "metadata": {
    "jp-MarkdownHeadingCollapsed": true
   },
   "source": [
    "# Python Variables"
   ]
  },
  {
   "cell_type": "markdown",
   "id": "52d0df77-ebd3-42e3-a23c-5859c7017ba1",
   "metadata": {
    "jp-MarkdownHeadingCollapsed": true
   },
   "source": [
    "## Introduction  "
   ]
  },
  {
   "cell_type": "markdown",
   "id": "f45c4d4a-e757-4697-8731-02795044aa9b",
   "metadata": {},
   "source": [
    "Variables are containers for storing data values.\n",
    "\n",
    "### Creating Variables  \n",
    "Python has no command for declaring a variable.\n",
    "\n",
    "A variable is created the moment you first assign a value to it.\n",
    "\n",
    "**Example**"
   ]
  },
  {
   "cell_type": "code",
   "execution_count": null,
   "id": "e8ceacc2-aa36-498f-ac6e-9829eb79217f",
   "metadata": {},
   "outputs": [],
   "source": [
    "x = 5\n",
    "y = \"John\"\n",
    "print(x)\n",
    "print(y)"
   ]
  },
  {
   "cell_type": "markdown",
   "id": "14dcbe5d-e968-489f-9f59-e0cfe0800cc8",
   "metadata": {},
   "source": [
    "Variables do not need to be declared with any particular type, and can even change type after they have been set.\n",
    "\n",
    "**Example**"
   ]
  },
  {
   "cell_type": "code",
   "execution_count": null,
   "id": "7206d849-5487-4024-9bb3-c9e37c9a3dcf",
   "metadata": {},
   "outputs": [],
   "source": [
    "x = 4       # x is of type int\n",
    "x = \"Sally\" # x is now of type str\n",
    "print(x)"
   ]
  },
  {
   "cell_type": "markdown",
   "id": "9f209c69-876c-4e9e-bc66-127d93dfe0cc",
   "metadata": {},
   "source": [
    "### Casting  \n",
    "If you want to specify the data type of a variable, this can be done with casting.\n",
    "\n",
    "**Example**"
   ]
  },
  {
   "cell_type": "code",
   "execution_count": null,
   "id": "56d3d4db-beed-4179-bb29-aeb680107cb7",
   "metadata": {},
   "outputs": [],
   "source": [
    "x = str(3)    # x will be '3'\n",
    "y = int(3)    # y will be 3\n",
    "z = float(3)  # z will be 3.0"
   ]
  },
  {
   "cell_type": "markdown",
   "id": "00ac23c2-e194-4bd3-8647-c3f72d21f96c",
   "metadata": {},
   "source": [
    "### Get the Type  \n",
    "You can get the data type of a variable with the type() function.\n",
    "\n",
    "**Example**"
   ]
  },
  {
   "cell_type": "code",
   "execution_count": null,
   "id": "c6d04ef6-ddfc-4458-927a-e4082f86171f",
   "metadata": {},
   "outputs": [],
   "source": [
    "x = 5\n",
    "y = \"John\"\n",
    "print(type(x))\n",
    "print(type(y))"
   ]
  },
  {
   "cell_type": "markdown",
   "id": "78b8023e-5dd4-43fb-970c-c8032698d811",
   "metadata": {},
   "source": [
    "### Single or Double Quotes?  \n",
    "String variables can be declared either by using single or double quotes:\n",
    "\n",
    "**Example**"
   ]
  },
  {
   "cell_type": "code",
   "execution_count": null,
   "id": "5a6f0d9f-cd22-47ef-a8e1-0ac1f84922ba",
   "metadata": {},
   "outputs": [],
   "source": [
    "x = \"John\"\n",
    "# is the same as\n",
    "x = 'John'"
   ]
  },
  {
   "cell_type": "markdown",
   "id": "f665a92c-255c-4a24-a68f-f86a44eeae5c",
   "metadata": {},
   "source": [
    "### Case-Sensitive  \n",
    "Variable names are case-sensitive.\n",
    "\n",
    "**Example**\n",
    "This will create two variables:"
   ]
  },
  {
   "cell_type": "code",
   "execution_count": null,
   "id": "937c4ad0-bd04-4f18-8a3e-12963b3daa30",
   "metadata": {},
   "outputs": [],
   "source": [
    "a = 4\n",
    "A = \"Sally\"\n",
    "#A will not overwrite a"
   ]
  },
  {
   "cell_type": "markdown",
   "id": "cd8af448-c80c-4cfd-aae1-7de9ff809e51",
   "metadata": {},
   "source": [
    "## Variable Names"
   ]
  },
  {
   "cell_type": "markdown",
   "id": "4ca6d902-c4e1-451a-9eb0-6a921c3f90c8",
   "metadata": {},
   "source": [
    "A variable can have a short name (like x and y) or a more descriptive name (age, carname, total_volume). Rules for Python variables:  \n",
    ">•\tA variable name must start with a letter or the underscore character\n",
    "•\tA variable name cannot start with a number\n",
    "•\tA variable name can only contain alpha-numeric characters and underscores (A-z, 0-9, and _ )\n",
    "•\tVariable names are case-sensitive (age, Age and AGE are three different variables)\n",
    "•\tA variable name cannot be any of the Python keywords.  "
   ]
  },
  {
   "cell_type": "markdown",
   "id": "1c6b9e38-d8d5-40dc-9c29-b2ce036df518",
   "metadata": {},
   "source": [
    "**Example**  \n",
    "Legal variable names:"
   ]
  },
  {
   "cell_type": "code",
   "execution_count": null,
   "id": "7d071851-5ec8-41ae-8d04-5452a49fcf65",
   "metadata": {},
   "outputs": [],
   "source": [
    "myvar = \"John\"\n",
    "my_var = \"John\"\n",
    "_my_var = \"John\"\n",
    "myVar = \"John\"\n",
    "MYVAR = \"John\"\n",
    "myvar2 = \"John\""
   ]
  },
  {
   "cell_type": "markdown",
   "id": "b4414767-2394-43af-ad1a-dd05993e1fb7",
   "metadata": {},
   "source": [
    "**Example**  \n",
    "Illegal variable names:"
   ]
  },
  {
   "cell_type": "code",
   "execution_count": null,
   "id": "de623869-1aef-4221-b00b-d3cad62ec496",
   "metadata": {},
   "outputs": [],
   "source": [
    "2myvar = \"John\"\n",
    "my-var = \"John\"\n",
    "my var = \"John\""
   ]
  },
  {
   "cell_type": "markdown",
   "id": "4f5e9fe2-1d9b-4788-843e-a878c427523c",
   "metadata": {},
   "source": [
    ">Remember that variable names are case-sensitive"
   ]
  },
  {
   "cell_type": "markdown",
   "id": "c08623a4-ce85-45f3-9937-af38ecac1e8c",
   "metadata": {},
   "source": [
    "### Multi Words Variable Names  "
   ]
  },
  {
   "cell_type": "markdown",
   "id": "e2153da7-1600-4268-bc3a-f2efe052db32",
   "metadata": {},
   "source": [
    "Variable names with more than one word can be difficult to read.\n",
    "\n",
    "There are several techniques you can use to make them more readable:\n",
    "\n",
    "**Camel Case**  \n",
    "Each word, except the first, starts with a capital letter:  \n",
    "  myVariableName = \"John\"\n",
    "\n",
    "**Pascal Case**  \n",
    "Each word starts with a capital letter:  \n",
    "MyVariableName = \"John\"\n",
    "\n",
    "**Snake Case**  \n",
    "Each word is separated by an underscore character:  \n",
    "my_variable_name = \"John\""
   ]
  },
  {
   "cell_type": "markdown",
   "id": "d16cca67-40b6-4724-be58-7374bbb4a81d",
   "metadata": {},
   "source": [
    "## Assign Multiple Values"
   ]
  },
  {
   "cell_type": "markdown",
   "id": "4e3dbd18-6fb2-4312-852a-1e1aa860ade0",
   "metadata": {},
   "source": [
    "***Many Values to Multiple Variables***  \n",
    "Python allows you to assign values to multiple variables in one line:\n",
    "\n",
    "**Example**"
   ]
  },
  {
   "cell_type": "code",
   "execution_count": null,
   "id": "c9e9e1ae-a561-4fcf-aa76-aa443a874437",
   "metadata": {},
   "outputs": [],
   "source": [
    "x, y, z = \"Orange\", \"Banana\", \"Cherry\"\n",
    "print(x)\n",
    "print(y)\n",
    "print(z)"
   ]
  },
  {
   "cell_type": "markdown",
   "id": "64525e6a-0bd6-49fd-8ad4-3a188232463a",
   "metadata": {},
   "source": [
    "***One Value to Multiple Variables***  \n",
    "And you can assign the same value to multiple variables in one line:\n",
    "\n",
    "**Example**"
   ]
  },
  {
   "cell_type": "code",
   "execution_count": null,
   "id": "6e789991-6869-4b10-843a-32dd3ece1e28",
   "metadata": {},
   "outputs": [],
   "source": [
    "x = y = z = \"Orange\"\n",
    "print(x)\n",
    "print(y)\n",
    "print(z)"
   ]
  },
  {
   "cell_type": "markdown",
   "id": "0fa775c0-2ccd-4442-af2b-591bfa749731",
   "metadata": {},
   "source": [
    "***Unpack a Collection***  \n",
    "If you have a collection of values in a list, tuple etc. Python allows you to extract the values into variables. This is called unpacking.\n",
    "\n",
    "**Example**  \n",
    "Unpack a list:"
   ]
  },
  {
   "cell_type": "code",
   "execution_count": null,
   "id": "05aecf88-8de4-400e-84a0-f07b52cbe9cd",
   "metadata": {},
   "outputs": [],
   "source": [
    "fruits = [\"apple\", \"banana\", \"cherry\"]\n",
    "x, y, z = fruits\n",
    "print(x)\n",
    "print(y)\n",
    "print(z)"
   ]
  },
  {
   "cell_type": "markdown",
   "id": "129b0723-0bbd-47f7-a193-4d039846c474",
   "metadata": {},
   "source": [
    "## Output Variables"
   ]
  },
  {
   "cell_type": "markdown",
   "id": "cebcb68d-0674-4954-9c0e-b11bef72e620",
   "metadata": {},
   "source": [
    "The Python print() function is often used to output variables.\n",
    "\n",
    "**Example**"
   ]
  },
  {
   "cell_type": "code",
   "execution_count": null,
   "id": "87cd9417-2e68-46fc-806a-a12ed9b4c6ee",
   "metadata": {},
   "outputs": [],
   "source": [
    "x = \"Python is awesome\"\n",
    "print(x)"
   ]
  },
  {
   "cell_type": "markdown",
   "id": "9bcac823-4f13-4926-a3ea-85cbad74c5c7",
   "metadata": {},
   "source": [
    "In the print() function, you output multiple variables, separated by a comma:\n",
    "\n",
    "**Example**"
   ]
  },
  {
   "cell_type": "code",
   "execution_count": null,
   "id": "6c5eb0b4-070a-4e41-ac42-42debf78a88e",
   "metadata": {},
   "outputs": [],
   "source": [
    "x = \"Python\"\n",
    "y = \"is\"\n",
    "z = \"awesome\"\n",
    "print(x, y, z)"
   ]
  },
  {
   "cell_type": "markdown",
   "id": "a84e7482-0fef-4848-83c6-15b82f166a1a",
   "metadata": {},
   "source": [
    "You can also use the + operator to output multiple variables:\n",
    "\n",
    "**Example**"
   ]
  },
  {
   "cell_type": "code",
   "execution_count": null,
   "id": "d2069e9e-3949-41df-8789-71a90a40fb6c",
   "metadata": {},
   "outputs": [],
   "source": [
    "x = \"Python \"\n",
    "y = \"is \"\n",
    "z = \"awesome\"\n",
    "print(x + y + z)"
   ]
  },
  {
   "cell_type": "markdown",
   "id": "81560a56-fd85-4317-81ae-14008edeba8c",
   "metadata": {},
   "source": [
    ">Notice the space character after \"Python \" and \"is \", without them the result would be \"Pythonisawesome\"."
   ]
  },
  {
   "cell_type": "markdown",
   "id": "066d9408-0b1b-4fd2-94aa-c6ee6a462682",
   "metadata": {},
   "source": [
    "For numbers, the + character works as a mathematical operator:\n",
    "\n",
    "**Example**"
   ]
  },
  {
   "cell_type": "code",
   "execution_count": null,
   "id": "a04ccf16-e948-45b1-8152-3e55b4d84155",
   "metadata": {},
   "outputs": [],
   "source": [
    "x = 5\n",
    "y = 10\n",
    "print(x + y)"
   ]
  },
  {
   "cell_type": "markdown",
   "id": "b7a5cbcd-faab-4b9e-9270-0638f2e13cbc",
   "metadata": {},
   "source": [
    "In the print() function, when you try to combine a string and a number with the + operator, Python will give you an error:\n",
    "\n",
    "**Example**"
   ]
  },
  {
   "cell_type": "code",
   "execution_count": null,
   "id": "f9deda5a-fa44-4312-8da0-9b08b4d2d1db",
   "metadata": {},
   "outputs": [],
   "source": [
    "x = 5\n",
    "y = \"John\"\n",
    "print(x + y)"
   ]
  },
  {
   "cell_type": "markdown",
   "id": "1cec5e19-496e-4417-b0df-157ae65f8ed4",
   "metadata": {},
   "source": [
    "## Global Variables"
   ]
  },
  {
   "cell_type": "markdown",
   "id": "cac5adcb-e749-42d2-a422-a3fd7b82d191",
   "metadata": {},
   "source": [
    "Variables that are created outside of a function (as in all of the examples in the previous pages) are known as global variables.\n",
    "\n",
    "Global variables can be used by everyone, both inside of functions and outside.\n",
    "\n",
    "**Example**  \n",
    "Create a variable outside of a function, and use it inside the function"
   ]
  },
  {
   "cell_type": "code",
   "execution_count": null,
   "id": "b0c759d2-7148-4774-8e41-74abca11996b",
   "metadata": {},
   "outputs": [],
   "source": [
    "x = \"awesome\"\n",
    "\n",
    "def myfunc():\n",
    "  print(\"Python is \" + x)\n",
    "\n",
    "myfunc()"
   ]
  },
  {
   "cell_type": "markdown",
   "id": "2ce70a65-590d-488e-b179-c0ac79734bbe",
   "metadata": {},
   "source": [
    "If you create a variable with the same name inside a function, this variable will be local, and can only be used inside the function. The global variable with the same name will remain as it was, global and with the original value.\n",
    "\n",
    "**Example**  \n",
    "Create a variable inside a function, with the same name as the global variable"
   ]
  },
  {
   "cell_type": "code",
   "execution_count": null,
   "id": "042556ab-3130-4403-9764-10afc2b00cb5",
   "metadata": {},
   "outputs": [],
   "source": [
    "x = \"awesome\"\n",
    "\n",
    "def myfunc():\n",
    "  x = \"fantastic\"\n",
    "  print(\"Python is \" + x)\n",
    "\n",
    "myfunc()\n",
    "\n",
    "print(\"Python is \" + x)"
   ]
  },
  {
   "cell_type": "markdown",
   "id": "0781e799-62ea-4908-aeb9-0c9e25434272",
   "metadata": {},
   "source": [
    "***The global Keyword***  \n",
    "Normally, when you create a variable inside a function, that variable is local, and can only be used inside that function.\n",
    "\n",
    "To create a global variable inside a function, you can use the global keyword.\n",
    "\n",
    "**Example**  \n",
    "If you use the global keyword, the variable belongs to the global scope:"
   ]
  },
  {
   "cell_type": "code",
   "execution_count": null,
   "id": "1f96b2c5-6e12-4c16-94ed-49d8b13e0b1e",
   "metadata": {},
   "outputs": [],
   "source": [
    "def myfunc():\n",
    "  global x\n",
    "  x = \"fantastic\"\n",
    "\n",
    "myfunc()\n",
    "\n",
    "print(\"Python is \" + x)"
   ]
  },
  {
   "cell_type": "markdown",
   "id": "17893336-dcff-4847-af25-38cebef21805",
   "metadata": {},
   "source": [
    "Also, use the global keyword if you want to change a global variable inside a function.\n",
    "\n",
    "**Example**  \n",
    "To change the value of a global variable inside a function, refer to the variable by using the global keyword:"
   ]
  },
  {
   "cell_type": "code",
   "execution_count": null,
   "id": "2cf58e6a-d768-4d06-ba12-13ab935ab648",
   "metadata": {},
   "outputs": [],
   "source": [
    "x = \"awesome\"\n",
    "\n",
    "def myfunc():\n",
    "  global x\n",
    "  x = \"fantastic\"\n",
    "\n",
    "myfunc()\n",
    "\n",
    "print(\"Python is \" + x)"
   ]
  },
  {
   "cell_type": "markdown",
   "id": "cc437771-ea4c-4726-b401-b08f8ca41da6",
   "metadata": {
    "jp-MarkdownHeadingCollapsed": true
   },
   "source": [
    "# Python Data Types"
   ]
  },
  {
   "cell_type": "markdown",
   "id": "4fc0aa67-3c0c-44a8-a084-9f0ca1eb26dd",
   "metadata": {
    "jp-MarkdownHeadingCollapsed": true
   },
   "source": [
    "## Built-in Data Types"
   ]
  },
  {
   "cell_type": "markdown",
   "id": "33cf67ef-5ed2-4c79-8703-6df52b0b233f",
   "metadata": {},
   "source": [
    "In programming, data type is an important concept.\n",
    "\n",
    "Variables can store data of different types, and different types can do different things.\n",
    "\n",
    "Python has the following data types built-in by default, in these categories:\n",
    "\n",
    "  Text Type:\tstr\n",
    "  Numeric Types:\tint, float, complex\n",
    "  Sequence Types:\tlist, tuple, range\n",
    "  Mapping Type:\tdict\n",
    "  Set Types:\tset, frozenset\n",
    "  Boolean Type:\tbool\n",
    "  Binary Types:\tbytes, bytearray, memoryview\n",
    "  None Type:\tNoneType"
   ]
  },
  {
   "cell_type": "markdown",
   "id": "f0cc05c6-6812-457c-a8f3-65ee75f1c6e8",
   "metadata": {
    "jp-MarkdownHeadingCollapsed": true
   },
   "source": [
    "## Getting the Data Type"
   ]
  },
  {
   "cell_type": "markdown",
   "id": "fb795458-e8ba-4125-9ff7-9aa72ce42f4f",
   "metadata": {},
   "source": [
    "You can get the data type of any object by using the type() function:\n",
    "\n",
    "**Example**  \n",
    "Print the data type of the variable x:"
   ]
  },
  {
   "cell_type": "code",
   "execution_count": 10,
   "id": "dfbb1e8b-2a58-4537-afd3-960a7eeea44a",
   "metadata": {},
   "outputs": [
    {
     "name": "stdout",
     "output_type": "stream",
     "text": [
      "<class 'int'>\n"
     ]
    }
   ],
   "source": [
    "x = 5\n",
    "print(type(x))"
   ]
  },
  {
   "cell_type": "markdown",
   "id": "42ec0377-e5a3-4618-b67d-528eaf649592",
   "metadata": {
    "jp-MarkdownHeadingCollapsed": true
   },
   "source": [
    "## Setting the Data Type"
   ]
  },
  {
   "cell_type": "markdown",
   "id": "4948d63d-f247-4d9f-8e2b-5b6be67b47d1",
   "metadata": {},
   "source": [
    "In Python, the data type is set when you assign a value to a variable:"
   ]
  },
  {
   "cell_type": "code",
   "execution_count": 11,
   "id": "e012372e-83f9-4241-ab1c-e7a36dfa3e12",
   "metadata": {},
   "outputs": [
    {
     "name": "stdout",
     "output_type": "stream",
     "text": [
      "Hello World\n",
      "<class 'str'>\n"
     ]
    }
   ],
   "source": [
    "x = \"Hello World\"\n",
    "\n",
    "#display x:\n",
    "print(x)\n",
    "\n",
    "#display the data type of x:\n",
    "print(type(x)) "
   ]
  },
  {
   "cell_type": "code",
   "execution_count": 12,
   "id": "6b819b49-1695-4104-a4a7-765d5beaaa0b",
   "metadata": {},
   "outputs": [
    {
     "name": "stdout",
     "output_type": "stream",
     "text": [
      "20\n",
      "<class 'int'>\n"
     ]
    }
   ],
   "source": [
    "x = 20\n",
    "\n",
    "#display x:\n",
    "print(x)\n",
    "\n",
    "#display the data type of x:\n",
    "print(type(x)) "
   ]
  },
  {
   "cell_type": "code",
   "execution_count": 13,
   "id": "d9ce3d61-d7fc-4385-8f61-5ed444fa43eb",
   "metadata": {},
   "outputs": [
    {
     "name": "stdout",
     "output_type": "stream",
     "text": [
      "20.5\n",
      "<class 'float'>\n"
     ]
    }
   ],
   "source": [
    "x = 20.5\n",
    "\n",
    "#display x:\n",
    "print(x)\n",
    "\n",
    "#display the data type of x:\n",
    "print(type(x)) "
   ]
  },
  {
   "cell_type": "code",
   "execution_count": 14,
   "id": "8e0a703a-b1c9-47d2-b681-2c629a58149d",
   "metadata": {},
   "outputs": [
    {
     "name": "stdout",
     "output_type": "stream",
     "text": [
      "['apple', 'banana', 'cherry']\n",
      "<class 'list'>\n"
     ]
    }
   ],
   "source": [
    "x = [\"apple\", \"banana\", \"cherry\"]\n",
    "\n",
    "#display x:\n",
    "print(x)\n",
    "\n",
    "#display the data type of x:\n",
    "print(type(x)) "
   ]
  },
  {
   "cell_type": "code",
   "execution_count": 15,
   "id": "c7ffbaf0-9e2f-4102-a735-3dc46ce79056",
   "metadata": {},
   "outputs": [
    {
     "name": "stdout",
     "output_type": "stream",
     "text": [
      "1j\n",
      "<class 'complex'>\n"
     ]
    }
   ],
   "source": [
    "x = 1j\n",
    "\n",
    "#display x:\n",
    "print(x)\n",
    "\n",
    "#display the data type of x:\n",
    "print(type(x)) "
   ]
  },
  {
   "cell_type": "code",
   "execution_count": 16,
   "id": "fe179c27-67ae-4656-9ef8-6c451895d350",
   "metadata": {},
   "outputs": [
    {
     "name": "stdout",
     "output_type": "stream",
     "text": [
      "['apple', 'banana', 'cherry']\n",
      "<class 'list'>\n"
     ]
    }
   ],
   "source": [
    "x = [\"apple\", \"banana\", \"cherry\"]\n",
    "\n",
    "#display x:\n",
    "print(x)\n",
    "\n",
    "#display the data type of x:\n",
    "print(type(x)) "
   ]
  },
  {
   "cell_type": "code",
   "execution_count": 17,
   "id": "b0754c84-15e4-4032-9991-f1d0ce925e2a",
   "metadata": {},
   "outputs": [
    {
     "name": "stdout",
     "output_type": "stream",
     "text": [
      "('apple', 'banana', 'cherry')\n",
      "<class 'tuple'>\n"
     ]
    }
   ],
   "source": [
    "x = (\"apple\", \"banana\", \"cherry\")\n",
    "\n",
    "#display x:\n",
    "print(x)\n",
    "\n",
    "#display the data type of x:\n",
    "print(type(x)) "
   ]
  },
  {
   "cell_type": "code",
   "execution_count": 18,
   "id": "4d4fa7d2-3192-413e-b10d-6530c5a3e3c5",
   "metadata": {},
   "outputs": [
    {
     "name": "stdout",
     "output_type": "stream",
     "text": [
      "range(0, 6)\n",
      "<class 'range'>\n"
     ]
    }
   ],
   "source": [
    "x = range(6)\n",
    "\n",
    "#display x:\n",
    "print(x)\n",
    "\n",
    "#display the data type of x:\n",
    "print(type(x)) "
   ]
  },
  {
   "cell_type": "code",
   "execution_count": 19,
   "id": "1932bd2c-efee-4cce-88fd-20af045ef477",
   "metadata": {},
   "outputs": [
    {
     "name": "stdout",
     "output_type": "stream",
     "text": [
      "{'name': 'John', 'age': 36}\n",
      "<class 'dict'>\n"
     ]
    }
   ],
   "source": [
    "x = {\"name\" : \"John\", \"age\" : 36}\n",
    "\n",
    "#display x:\n",
    "print(x)\n",
    "\n",
    "#display the data type of x:\n",
    "print(type(x)) "
   ]
  },
  {
   "cell_type": "code",
   "execution_count": 20,
   "id": "d540b1a4-a323-40e8-88e7-bd81a2a86f3c",
   "metadata": {},
   "outputs": [
    {
     "name": "stdout",
     "output_type": "stream",
     "text": [
      "{'banana', 'cherry', 'apple'}\n",
      "<class 'set'>\n"
     ]
    }
   ],
   "source": [
    "x = {\"apple\", \"banana\", \"cherry\"}\n",
    "\n",
    "#display x:\n",
    "print(x)\n",
    "\n",
    "#display the data type of x:\n",
    "print(type(x)) "
   ]
  },
  {
   "cell_type": "code",
   "execution_count": 21,
   "id": "59de2c59-7f03-41e0-b6e4-444950fabd92",
   "metadata": {},
   "outputs": [
    {
     "name": "stdout",
     "output_type": "stream",
     "text": [
      "frozenset({'banana', 'cherry', 'apple'})\n",
      "<class 'frozenset'>\n"
     ]
    }
   ],
   "source": [
    "x = frozenset({\"apple\", \"banana\", \"cherry\"})\n",
    "\n",
    "#display x:\n",
    "print(x)\n",
    "\n",
    "#display the data type of x:\n",
    "print(type(x))"
   ]
  },
  {
   "cell_type": "code",
   "execution_count": 22,
   "id": "58cb578f-c221-4be5-bbdb-a53473c56acc",
   "metadata": {},
   "outputs": [
    {
     "name": "stdout",
     "output_type": "stream",
     "text": [
      "True\n",
      "<class 'bool'>\n"
     ]
    }
   ],
   "source": [
    "x = True\n",
    "\n",
    "#display x:\n",
    "print(x)\n",
    "\n",
    "#display the data type of x:\n",
    "print(type(x)) "
   ]
  },
  {
   "cell_type": "code",
   "execution_count": 23,
   "id": "beada679-8994-4c83-93ce-8617788981ab",
   "metadata": {},
   "outputs": [
    {
     "name": "stdout",
     "output_type": "stream",
     "text": [
      "b'Hello'\n",
      "<class 'bytes'>\n"
     ]
    }
   ],
   "source": [
    "x = b\"Hello\"\n",
    "\n",
    "#display x:\n",
    "print(x)\n",
    "\n",
    "#display the data type of x:\n",
    "print(type(x)) "
   ]
  },
  {
   "cell_type": "code",
   "execution_count": 24,
   "id": "7595a9d9-6734-4824-b54c-a902fa16de84",
   "metadata": {},
   "outputs": [
    {
     "name": "stdout",
     "output_type": "stream",
     "text": [
      "bytearray(b'\\x00\\x00\\x00\\x00\\x00')\n",
      "<class 'bytearray'>\n"
     ]
    }
   ],
   "source": [
    "x = bytearray(5)\n",
    "\n",
    "#display x:\n",
    "print(x)\n",
    "\n",
    "#display the data type of x:\n",
    "print(type(x)) "
   ]
  },
  {
   "cell_type": "code",
   "execution_count": 25,
   "id": "c9329bca-5594-4cd9-847e-bb996ee44ed4",
   "metadata": {},
   "outputs": [
    {
     "name": "stdout",
     "output_type": "stream",
     "text": [
      "<memory at 0x000001AA78628640>\n",
      "<class 'memoryview'>\n"
     ]
    }
   ],
   "source": [
    "x = memoryview(bytes(5))\n",
    "\n",
    "#display x:\n",
    "print(x)\n",
    "\n",
    "#display the data type of x:\n",
    "print(type(x)) "
   ]
  },
  {
   "cell_type": "code",
   "execution_count": 26,
   "id": "8318c23e-e0a7-4047-a0bb-55199f70d484",
   "metadata": {},
   "outputs": [
    {
     "name": "stdout",
     "output_type": "stream",
     "text": [
      "None\n",
      "<class 'NoneType'>\n"
     ]
    }
   ],
   "source": [
    "x = None\n",
    "\n",
    "#display x:\n",
    "print(x)\n",
    "\n",
    "#display the data type of x:\n",
    "print(type(x)) "
   ]
  },
  {
   "cell_type": "markdown",
   "id": "5cbc0286-d576-46a5-87e3-b1098666f515",
   "metadata": {
    "jp-MarkdownHeadingCollapsed": true
   },
   "source": [
    "## Setting the Specific Data Type"
   ]
  },
  {
   "cell_type": "markdown",
   "id": "3424def2-e049-4a44-bee4-166812073902",
   "metadata": {},
   "source": [
    "If you want to specify the data type, you can use the following constructor functions:"
   ]
  },
  {
   "cell_type": "code",
   "execution_count": 27,
   "id": "9a496cca-0068-4e32-995f-6bdcc615effe",
   "metadata": {},
   "outputs": [
    {
     "name": "stdout",
     "output_type": "stream",
     "text": [
      "Hello World\n",
      "<class 'str'>\n"
     ]
    }
   ],
   "source": [
    "x = str(\"Hello World\")\n",
    "\n",
    "#display x:\n",
    "print(x)\n",
    "\n",
    "#display the data type of x:\n",
    "print(type(x)) "
   ]
  },
  {
   "cell_type": "code",
   "execution_count": 28,
   "id": "ce481754-6b5c-4070-9d4a-2a1f12546e58",
   "metadata": {},
   "outputs": [
    {
     "name": "stdout",
     "output_type": "stream",
     "text": [
      "20\n",
      "<class 'int'>\n"
     ]
    }
   ],
   "source": [
    "x = int(20)\n",
    "\n",
    "#display x:\n",
    "print(x)\n",
    "\n",
    "#display the data type of x:\n",
    "print(type(x)) "
   ]
  },
  {
   "cell_type": "code",
   "execution_count": 29,
   "id": "57500c26-f9d4-494c-82a0-cd4c63572bca",
   "metadata": {},
   "outputs": [
    {
     "name": "stdout",
     "output_type": "stream",
     "text": [
      "20.5\n",
      "<class 'float'>\n"
     ]
    }
   ],
   "source": [
    "x = float(20.5)\n",
    "\n",
    "#display x:\n",
    "print(x)\n",
    "\n",
    "#display the data type of x:\n",
    "print(type(x)) "
   ]
  },
  {
   "cell_type": "code",
   "execution_count": 30,
   "id": "9c54c4a7-5770-4fbd-9d99-d985b80f458f",
   "metadata": {},
   "outputs": [
    {
     "name": "stdout",
     "output_type": "stream",
     "text": [
      "1j\n",
      "<class 'complex'>\n"
     ]
    }
   ],
   "source": [
    "x = complex(1j)\n",
    "\n",
    "#display x:\n",
    "print(x)\n",
    "\n",
    "#display the data type of x:\n",
    "print(type(x)) "
   ]
  },
  {
   "cell_type": "code",
   "execution_count": 31,
   "id": "c2d5407e-2f53-4ae2-a5e3-dd632d5b072b",
   "metadata": {},
   "outputs": [
    {
     "name": "stdout",
     "output_type": "stream",
     "text": [
      "['apple', 'banana', 'cherry']\n",
      "<class 'list'>\n"
     ]
    }
   ],
   "source": [
    "x = list((\"apple\", \"banana\", \"cherry\"))\n",
    "\n",
    "#display x:\n",
    "print(x)\n",
    "\n",
    "#display the data type of x:\n",
    "print(type(x)) "
   ]
  },
  {
   "cell_type": "code",
   "execution_count": 32,
   "id": "1544b7cc-9268-43e6-840d-96441c4748b9",
   "metadata": {},
   "outputs": [
    {
     "name": "stdout",
     "output_type": "stream",
     "text": [
      "('apple', 'banana', 'cherry')\n",
      "<class 'tuple'>\n"
     ]
    }
   ],
   "source": [
    "x = tuple((\"apple\", \"banana\", \"cherry\"))\n",
    "\n",
    "#display x:\n",
    "print(x)\n",
    "\n",
    "#display the data type of x:\n",
    "print(type(x)) "
   ]
  },
  {
   "cell_type": "code",
   "execution_count": 33,
   "id": "3af82062-b0a8-4bb5-95de-eb8d13ed30ea",
   "metadata": {},
   "outputs": [
    {
     "name": "stdout",
     "output_type": "stream",
     "text": [
      "range(0, 6)\n",
      "<class 'range'>\n"
     ]
    }
   ],
   "source": [
    "x = range(6)\n",
    "\n",
    "#display x:\n",
    "print(x)\n",
    "\n",
    "#display the data type of x:\n",
    "print(type(x)) "
   ]
  },
  {
   "cell_type": "code",
   "execution_count": 34,
   "id": "5d091ace-d982-4342-b8c8-7dfd7b08ff30",
   "metadata": {},
   "outputs": [
    {
     "name": "stdout",
     "output_type": "stream",
     "text": [
      "{'name': 'John', 'age': 36}\n",
      "<class 'dict'>\n"
     ]
    }
   ],
   "source": [
    "x = dict(name=\"John\", age=36)\n",
    "\n",
    "#display x:\n",
    "print(x)\n",
    "\n",
    "#display the data type of x:\n",
    "print(type(x)) "
   ]
  },
  {
   "cell_type": "code",
   "execution_count": 35,
   "id": "01013c8b-f982-4430-ada0-297918440dc2",
   "metadata": {},
   "outputs": [
    {
     "name": "stdout",
     "output_type": "stream",
     "text": [
      "{'banana', 'cherry', 'apple'}\n",
      "<class 'set'>\n"
     ]
    }
   ],
   "source": [
    "x = set((\"apple\", \"banana\", \"cherry\"))\n",
    "\n",
    "#display x:\n",
    "print(x)\n",
    "\n",
    "#display the data type of x:\n",
    "print(type(x)) "
   ]
  },
  {
   "cell_type": "code",
   "execution_count": 36,
   "id": "d531a735-2338-4e9f-96df-478cb05fca7a",
   "metadata": {},
   "outputs": [
    {
     "name": "stdout",
     "output_type": "stream",
     "text": [
      "frozenset({'banana', 'cherry', 'apple'})\n",
      "<class 'frozenset'>\n"
     ]
    }
   ],
   "source": [
    "x = frozenset((\"apple\", \"banana\", \"cherry\"))\n",
    "\n",
    "#display x:\n",
    "print(x)\n",
    "\n",
    "#display the data type of x:\n",
    "print(type(x))"
   ]
  },
  {
   "cell_type": "code",
   "execution_count": 37,
   "id": "8c1813ff-31da-4b8a-8adf-abadcc53f532",
   "metadata": {},
   "outputs": [
    {
     "name": "stdout",
     "output_type": "stream",
     "text": [
      "True\n",
      "<class 'bool'>\n"
     ]
    }
   ],
   "source": [
    "x = bool(5)\n",
    "\n",
    "#display x:\n",
    "print(x)\n",
    "\n",
    "#display the data type of x:\n",
    "print(type(x)) "
   ]
  },
  {
   "cell_type": "code",
   "execution_count": 38,
   "id": "86961eae-43a3-4b8f-b7d4-747506f0d19a",
   "metadata": {},
   "outputs": [
    {
     "name": "stdout",
     "output_type": "stream",
     "text": [
      "b'\\x00\\x00\\x00\\x00\\x00'\n",
      "<class 'bytes'>\n"
     ]
    }
   ],
   "source": [
    "x = bytes(5)\n",
    "\n",
    "#display x:\n",
    "print(x)\n",
    "\n",
    "#display the data type of x:\n",
    "print(type(x)) "
   ]
  },
  {
   "cell_type": "code",
   "execution_count": 39,
   "id": "db12c287-9c81-4c0c-8f11-639a985b2820",
   "metadata": {},
   "outputs": [
    {
     "name": "stdout",
     "output_type": "stream",
     "text": [
      "bytearray(b'\\x00\\x00\\x00\\x00\\x00')\n",
      "<class 'bytearray'>\n"
     ]
    }
   ],
   "source": [
    "x = bytearray(5)\n",
    "\n",
    "#display x:\n",
    "print(x)\n",
    "\n",
    "#display the data type of x:\n",
    "print(type(x)) "
   ]
  },
  {
   "cell_type": "code",
   "execution_count": 40,
   "id": "a9a892c8-78db-4af6-9aed-b36f2f3c3785",
   "metadata": {},
   "outputs": [
    {
     "name": "stdout",
     "output_type": "stream",
     "text": [
      "<memory at 0x000001AA78628640>\n",
      "<class 'memoryview'>\n"
     ]
    }
   ],
   "source": [
    "x = memoryview(bytes(5))\n",
    "\n",
    "#display x:\n",
    "print(x)\n",
    "\n",
    "#display the data type of x:\n",
    "print(type(x)) "
   ]
  },
  {
   "cell_type": "markdown",
   "id": "149bf52f-b440-4a64-8bc2-76f0dd73f954",
   "metadata": {
    "jp-MarkdownHeadingCollapsed": true
   },
   "source": [
    "# Python Numbers"
   ]
  },
  {
   "cell_type": "markdown",
   "id": "5cdd867f-95db-410d-b39f-3574d49dbf94",
   "metadata": {},
   "source": [
    "There are three numeric types in Python:\n",
    ">•\tint  \n",
    "•\tfloat  \n",
    "•\tcomplex  \n",
    "\n",
    "Variables of numeric types are created when you assign a value to them:\n",
    "\n",
    "\n",
    "**Example**"
   ]
  },
  {
   "cell_type": "code",
   "execution_count": 41,
   "id": "42d8b4ed-719e-4714-9db3-0fb08ad42451",
   "metadata": {},
   "outputs": [],
   "source": [
    "x = 1    # int\n",
    "y = 2.8  # float\n",
    "z = 1j   # complex"
   ]
  },
  {
   "cell_type": "markdown",
   "id": "896d07a0-0595-43b8-b6d9-2297638e86f7",
   "metadata": {},
   "source": [
    "To verify the type of any object in Python, use the type() function:\n",
    "\n",
    "**Example**"
   ]
  },
  {
   "cell_type": "code",
   "execution_count": 42,
   "id": "eda17976-888e-4c65-a7f8-cec6bfc60119",
   "metadata": {},
   "outputs": [
    {
     "name": "stdout",
     "output_type": "stream",
     "text": [
      "<class 'int'>\n",
      "<class 'float'>\n",
      "<class 'complex'>\n"
     ]
    }
   ],
   "source": [
    "print(type(x))\n",
    "print(type(y))\n",
    "print(type(z))"
   ]
  },
  {
   "cell_type": "markdown",
   "id": "63cf8f05-9107-4e62-a08f-baec243d0764",
   "metadata": {},
   "source": [
    "## Int\n",
    "Int, or integer, is a whole number, positive or negative, without decimals, of unlimited length.\n",
    "\n",
    "**Example**  \n",
    "Integers:"
   ]
  },
  {
   "cell_type": "code",
   "execution_count": 43,
   "id": "d311f31c-5728-4943-a1fc-33c9738bae81",
   "metadata": {},
   "outputs": [
    {
     "name": "stdout",
     "output_type": "stream",
     "text": [
      "<class 'int'>\n",
      "<class 'int'>\n",
      "<class 'int'>\n"
     ]
    }
   ],
   "source": [
    "x = 1\n",
    "y = 35656222554887711\n",
    "z = -3255522\n",
    "\n",
    "print(type(x))\n",
    "print(type(y))\n",
    "print(type(z))"
   ]
  },
  {
   "cell_type": "markdown",
   "id": "d88bb0b7-9fd2-4e0a-a923-eeaf385adbac",
   "metadata": {},
   "source": [
    "## Float\n",
    "Float, or \"floating point number\" is a number, positive or negative, containing one or more decimals.\n",
    "\n",
    "**Example**  \n",
    "Floats:"
   ]
  },
  {
   "cell_type": "code",
   "execution_count": 44,
   "id": "7857f0bb-b7cc-4cf0-b826-fd80da3e316f",
   "metadata": {},
   "outputs": [
    {
     "name": "stdout",
     "output_type": "stream",
     "text": [
      "<class 'float'>\n",
      "<class 'float'>\n",
      "<class 'float'>\n"
     ]
    }
   ],
   "source": [
    "x = 1.10\n",
    "y = 1.0\n",
    "z = -35.59\n",
    "\n",
    "print(type(x))\n",
    "print(type(y))\n",
    "print(type(z))"
   ]
  },
  {
   "cell_type": "markdown",
   "id": "bdb32a2f-b6d6-4edb-823d-76fef7aa4c35",
   "metadata": {},
   "source": [
    "Float can also be scientific numbers with an \"e\" to indicate the power of 10.\n",
    "\n",
    "**Example**  \n",
    "Floats:"
   ]
  },
  {
   "cell_type": "code",
   "execution_count": 45,
   "id": "abbfbbd5-1f31-44ec-af08-b939f701db8c",
   "metadata": {},
   "outputs": [
    {
     "name": "stdout",
     "output_type": "stream",
     "text": [
      "<class 'float'>\n",
      "<class 'float'>\n",
      "<class 'float'>\n"
     ]
    }
   ],
   "source": [
    "x = 35e3\n",
    "y = 12E4\n",
    "z = -87.7e100\n",
    "\n",
    "print(type(x))\n",
    "print(type(y))\n",
    "print(type(z))"
   ]
  },
  {
   "cell_type": "markdown",
   "id": "0e68a251-a3c7-42f3-8433-c8a13afa0d5e",
   "metadata": {},
   "source": [
    "## Complex\n",
    "Complex numbers are written with a \"j\" as the imaginary part:\n",
    "\n",
    "**Example**  \n",
    "Complex:  "
   ]
  },
  {
   "cell_type": "code",
   "execution_count": 49,
   "id": "59365c9b-08bd-4376-9341-2127f1967f17",
   "metadata": {},
   "outputs": [
    {
     "name": "stdout",
     "output_type": "stream",
     "text": [
      "<class 'complex'>\n",
      "<class 'complex'>\n",
      "<class 'complex'>\n"
     ]
    }
   ],
   "source": [
    "x = 3+5j\n",
    "y = 5j\n",
    "z = -5j\n",
    "\n",
    "print(type(x))\n",
    "print(type(y))\n",
    "print(type(z))"
   ]
  },
  {
   "cell_type": "markdown",
   "id": "6d7b7649-dea2-4775-ba3c-110c51c2e0e4",
   "metadata": {},
   "source": [
    "## Type Conversion  \n",
    "You can convert from one type to another with the int(), float(), and complex() methods:\n",
    "\n",
    "**Example**  \n",
    "Convert from one type to another:"
   ]
  },
  {
   "cell_type": "code",
   "execution_count": 48,
   "id": "326d51a6-dbc4-4e64-80d2-2863db014556",
   "metadata": {},
   "outputs": [
    {
     "name": "stdout",
     "output_type": "stream",
     "text": [
      "1.0\n",
      "2\n",
      "(1+0j)\n",
      "<class 'float'>\n",
      "<class 'int'>\n",
      "<class 'complex'>\n"
     ]
    }
   ],
   "source": [
    "x = 1    # int\n",
    "y = 2.8  # float\n",
    "z = 1j   # complex\n",
    "\n",
    "#convert from int to float:\n",
    "a = float(x)\n",
    "\n",
    "#convert from float to int:\n",
    "b = int(y)\n",
    "\n",
    "#convert from int to complex:\n",
    "c = complex(x)\n",
    "\n",
    "print(a)\n",
    "print(b)\n",
    "print(c)\n",
    "\n",
    "print(type(a))\n",
    "print(type(b))\n",
    "print(type(c))"
   ]
  },
  {
   "cell_type": "markdown",
   "id": "259a137b-2a5a-47ac-bb43-606e5be6ddc8",
   "metadata": {},
   "source": [
    "> Note: You cannot convert complex numbers into another number type."
   ]
  },
  {
   "cell_type": "markdown",
   "id": "0b6d028d-f9eb-4a1f-a4d3-0b59d715f918",
   "metadata": {},
   "source": [
    "## Random Number\n",
    "Python does not have a random() function to make a random number, but Python has a built-in module called random that can be used to make random numbers:\n",
    "\n",
    "**Example**  \n",
    "Import the random module, and display a random number between 1 and 9:"
   ]
  },
  {
   "cell_type": "markdown",
   "id": "58d2a658-4094-429b-8fa4-680f704ab86c",
   "metadata": {
    "jp-MarkdownHeadingCollapsed": true
   },
   "source": [
    "# Python Casting"
   ]
  },
  {
   "cell_type": "markdown",
   "id": "d94971da-b213-442f-909a-e71550304b17",
   "metadata": {},
   "source": [
    "***Specify a Variable Type***  \n",
    "There may be times when you want to specify a type on to a variable. This can be done with casting. Python is an object-orientated language, and as such it uses classes to define data types, including its primitive types.\n",
    "\n",
    "Casting in python is therefore done using constructor functions:\n",
    "\n",
    "  int() - constructs an integer number from an integer literal, a float literal (by removing all decimals), or a string literal (providing the string represents a whole number)  \n",
    "  float() - constructs a float number from an integer literal, a float literal or a string literal (providing the string represents a float or an integer)  \n",
    "  str() - constructs a string from a wide variety of data types, including strings, integer literals and float literals  \n",
    "\n",
    "**Example**  \n",
    "Integers:"
   ]
  },
  {
   "cell_type": "code",
   "execution_count": 51,
   "id": "3897f171-4952-4c8b-9590-2b3366ec7f82",
   "metadata": {},
   "outputs": [],
   "source": [
    "x = int(1)   # x will be 1\n",
    "y = int(2.8) # y will be 2\n",
    "z = int(\"3\") # z will be 3"
   ]
  },
  {
   "cell_type": "markdown",
   "id": "3001a596-54eb-46a0-a28a-53e5cb992521",
   "metadata": {},
   "source": [
    "**Example**  \n",
    "Floats:"
   ]
  },
  {
   "cell_type": "code",
   "execution_count": 52,
   "id": "1911fe70-9604-4590-a68f-e3e55f8a713e",
   "metadata": {},
   "outputs": [],
   "source": [
    "x = float(1)     # x will be 1.0\n",
    "y = float(2.8)   # y will be 2.8\n",
    "z = float(\"3\")   # z will be 3.0\n",
    "w = float(\"4.2\") # w will be 4.2"
   ]
  },
  {
   "cell_type": "markdown",
   "id": "19be1ab8-3b26-45f9-b10e-5c6af3457bab",
   "metadata": {},
   "source": [
    "**Example**  \n",
    "Strings:"
   ]
  },
  {
   "cell_type": "code",
   "execution_count": 53,
   "id": "85328b61-c0cc-48ca-82ed-67aaf20eb52d",
   "metadata": {},
   "outputs": [],
   "source": [
    "x = str(\"s1\") # x will be 's1'\n",
    "y = str(2)    # y will be '2'\n",
    "z = str(3.0)  # z will be '3.0'"
   ]
  },
  {
   "cell_type": "markdown",
   "id": "bd3568d9-f5d5-4fb3-8961-b33c210fc50c",
   "metadata": {},
   "source": [
    "# Python Strings"
   ]
  },
  {
   "cell_type": "markdown",
   "id": "809438a9-4387-4349-90b8-652a92ed0477",
   "metadata": {
    "jp-MarkdownHeadingCollapsed": true
   },
   "source": [
    "## Strings"
   ]
  },
  {
   "cell_type": "markdown",
   "id": "82bf5b84-32e5-4719-9c7d-c971a194c6a9",
   "metadata": {},
   "source": [
    "Strings in python are surrounded by either single quotation marks, or double quotation marks.\n",
    "\n",
    "'hello' is the same as \"hello\".\n",
    "\n",
    "You can display a string literal with the print() function:\n",
    "\n",
    "Example"
   ]
  },
  {
   "cell_type": "code",
   "execution_count": 54,
   "id": "1068de2e-6917-4958-abc4-927bb22cbfd4",
   "metadata": {},
   "outputs": [
    {
     "name": "stdout",
     "output_type": "stream",
     "text": [
      "Hello\n",
      "Hello\n"
     ]
    }
   ],
   "source": [
    "print(\"Hello\")\n",
    "print('Hello')"
   ]
  },
  {
   "cell_type": "markdown",
   "id": "90ee9b08-9575-4a05-b34d-7ac5e9bd37b7",
   "metadata": {},
   "source": [
    "### Quotes Inside Quotes\n",
    "You can use quotes inside a string, as long as they don't match the quotes surrounding the string:\n",
    "\n",
    "**Example**"
   ]
  },
  {
   "cell_type": "code",
   "execution_count": 55,
   "id": "4d275c6e-ab9d-449f-baa3-e639dfe4d5a1",
   "metadata": {},
   "outputs": [
    {
     "name": "stdout",
     "output_type": "stream",
     "text": [
      "It's alright\n",
      "He is called 'Johnny'\n",
      "He is called \"Johnny\"\n"
     ]
    }
   ],
   "source": [
    "print(\"It's alright\")\n",
    "print(\"He is called 'Johnny'\")\n",
    "print('He is called \"Johnny\"')"
   ]
  },
  {
   "cell_type": "markdown",
   "id": "b2e01097-8e13-481a-9276-8a8226e0dff3",
   "metadata": {},
   "source": [
    "### Assign String to a Variable  \n",
    "Assigning a string to a variable is done with the variable name followed by an equal sign and the string:\n",
    "\n",
    "**Example**"
   ]
  },
  {
   "cell_type": "code",
   "execution_count": 56,
   "id": "611dcb2f-13d2-4f92-9711-43452230e8dd",
   "metadata": {},
   "outputs": [
    {
     "name": "stdout",
     "output_type": "stream",
     "text": [
      "Hello\n"
     ]
    }
   ],
   "source": [
    "a = \"Hello\"\n",
    "print(a)"
   ]
  },
  {
   "cell_type": "markdown",
   "id": "9a0d92da-893e-4618-bc27-046ab89981c4",
   "metadata": {},
   "source": [
    "### Multiline Strings\n",
    "You can assign a multiline string to a variable by using three quotes:\n",
    "\n",
    "**Example**  \n",
    "You can use three double quotes:"
   ]
  },
  {
   "cell_type": "code",
   "execution_count": 57,
   "id": "b3389514-7f3b-4786-8fed-9c79f0a93d5a",
   "metadata": {},
   "outputs": [
    {
     "name": "stdout",
     "output_type": "stream",
     "text": [
      "Lorem ipsum dolor sit amet,\n",
      "consectetur adipiscing elit,\n",
      "sed do eiusmod tempor incididunt\n",
      "ut labore et dolore magna aliqua.\n"
     ]
    }
   ],
   "source": [
    "a = \"\"\"Lorem ipsum dolor sit amet,\n",
    "consectetur adipiscing elit,\n",
    "sed do eiusmod tempor incididunt\n",
    "ut labore et dolore magna aliqua.\"\"\"\n",
    "print(a)"
   ]
  },
  {
   "cell_type": "markdown",
   "id": "71a45500-01ab-47f3-852b-83d0c87f942b",
   "metadata": {},
   "source": [
    "Or three single quotes:\n",
    "\n",
    "Example"
   ]
  },
  {
   "cell_type": "code",
   "execution_count": 58,
   "id": "ef0faedc-1b6d-4f82-a497-cc87af1c2c53",
   "metadata": {},
   "outputs": [
    {
     "name": "stdout",
     "output_type": "stream",
     "text": [
      "Lorem ipsum dolor sit amet,\n",
      "consectetur adipiscing elit,\n",
      "sed do eiusmod tempor incididunt\n",
      "ut labore et dolore magna aliqua.\n"
     ]
    }
   ],
   "source": [
    "a = '''Lorem ipsum dolor sit amet,\n",
    "consectetur adipiscing elit,\n",
    "sed do eiusmod tempor incididunt\n",
    "ut labore et dolore magna aliqua.'''\n",
    "print(a)"
   ]
  },
  {
   "cell_type": "markdown",
   "id": "4b44dba7-2f3d-4503-b12d-e86d9c787e6b",
   "metadata": {},
   "source": [
    ">Note: in the result, the line breaks are inserted at the same position as in the code."
   ]
  },
  {
   "cell_type": "markdown",
   "id": "90f57d2d-fe6a-4e89-baad-d33660e83353",
   "metadata": {},
   "source": [
    "### Strings are Arrays\n",
    "Like many other popular programming languages, strings in Python are arrays of bytes representing unicode characters.\n",
    "\n",
    "However, Python does not have a character data type, a single character is simply a string with a length of 1.\n",
    "\n",
    "Square brackets can be used to access elements of the string.\n",
    "\n",
    "**Example**  \n",
    "Get the character at position 1 (remember that the first character has the position 0):"
   ]
  },
  {
   "cell_type": "code",
   "execution_count": 59,
   "id": "db615c4f-05b3-42d4-954a-95ad28cd646c",
   "metadata": {},
   "outputs": [
    {
     "name": "stdout",
     "output_type": "stream",
     "text": [
      "e\n"
     ]
    }
   ],
   "source": [
    "a = \"Hello, World!\"\n",
    "print(a[1])"
   ]
  },
  {
   "cell_type": "markdown",
   "id": "022e522a-bf09-4e90-9606-d1bec71001c6",
   "metadata": {},
   "source": [
    "### Looping Through a String  \n",
    "Since strings are arrays, we can loop through the characters in a string, with a for loop.\n",
    "\n",
    "**Example**  \n",
    "Loop through the letters in the word \"banana\":"
   ]
  },
  {
   "cell_type": "code",
   "execution_count": 60,
   "id": "a5b92d06-27c6-493f-94f6-102aa57f123f",
   "metadata": {},
   "outputs": [
    {
     "name": "stdout",
     "output_type": "stream",
     "text": [
      "b\n",
      "a\n",
      "n\n",
      "a\n",
      "n\n",
      "a\n"
     ]
    }
   ],
   "source": [
    "for x in \"banana\":\n",
    "  print(x)"
   ]
  },
  {
   "cell_type": "markdown",
   "id": "3870e1a3-79cd-4478-8ac4-95e1c3a070cf",
   "metadata": {},
   "source": [
    "### String Length\n",
    "To get the length of a string, use the len() function.\n",
    "\n",
    "**Example**  \n",
    "The len() function returns the length of a string:"
   ]
  },
  {
   "cell_type": "code",
   "execution_count": 61,
   "id": "27ea8105-3c9c-4d8c-9cef-d28557fa898e",
   "metadata": {},
   "outputs": [
    {
     "name": "stdout",
     "output_type": "stream",
     "text": [
      "13\n"
     ]
    }
   ],
   "source": [
    "a = \"Hello, World!\"\n",
    "print(len(a))"
   ]
  },
  {
   "cell_type": "markdown",
   "id": "dc13e311-6720-49be-8567-c3acb844cdc9",
   "metadata": {},
   "source": [
    "### Check String\n",
    "To check if a certain phrase or character is present in a string, we can use the keyword in.\n",
    "\n",
    "**Example** \n",
    "Check if \"free\" is present in the following text:"
   ]
  },
  {
   "cell_type": "code",
   "execution_count": 62,
   "id": "c5b963c9-09e1-41c8-976e-ba489f725558",
   "metadata": {},
   "outputs": [
    {
     "name": "stdout",
     "output_type": "stream",
     "text": [
      "True\n"
     ]
    }
   ],
   "source": [
    "txt = \"The best things in life are free!\"\n",
    "print(\"free\" in txt)"
   ]
  },
  {
   "cell_type": "markdown",
   "id": "f7ea18da-5106-4f36-8cdc-f72e2120deeb",
   "metadata": {},
   "source": [
    "Use it in an if statement:\n",
    "\n",
    "**Example**  \n",
    "Print only if \"free\" is present:"
   ]
  },
  {
   "cell_type": "code",
   "execution_count": 63,
   "id": "4ed22383-e684-4894-ac79-3c0b1e906b13",
   "metadata": {},
   "outputs": [
    {
     "name": "stdout",
     "output_type": "stream",
     "text": [
      "Yes, 'free' is present.\n"
     ]
    }
   ],
   "source": [
    "txt = \"The best things in life are free!\"\n",
    "if \"free\" in txt:\n",
    "  print(\"Yes, 'free' is present.\")"
   ]
  },
  {
   "cell_type": "markdown",
   "id": "00bf52ae-90aa-4fd7-8c67-87460d17a0f8",
   "metadata": {},
   "source": [
    "Check if NOT\n",
    "To check if a certain phrase or character is NOT present in a string, we can use the keyword not in.\n",
    "\n",
    "**Example**  \n",
    "Check if \"expensive\" is NOT present in the following text:"
   ]
  },
  {
   "cell_type": "code",
   "execution_count": 65,
   "id": "db5b70df-4958-4073-ad50-7a6f282a3ed3",
   "metadata": {},
   "outputs": [
    {
     "name": "stdout",
     "output_type": "stream",
     "text": [
      "No, 'expensive' is NOT present.\n"
     ]
    }
   ],
   "source": [
    "txt = \"The best things in life are free!\"\n",
    "if \"expensive\" not in txt:\n",
    "  print(\"No, 'expensive' is NOT present.\")"
   ]
  },
  {
   "cell_type": "markdown",
   "id": "567d74ad-9e15-46ad-981c-543fea7917be",
   "metadata": {
    "jp-MarkdownHeadingCollapsed": true
   },
   "source": [
    "## Slicing Strings"
   ]
  },
  {
   "cell_type": "markdown",
   "id": "2cc8be4b-8893-42ef-9ebb-a6c819084072",
   "metadata": {},
   "source": [
    "You can return a range of characters by using the slice syntax.\n",
    "\n",
    "Specify the start index and the end index, separated by a colon, to return a part of the string.\n",
    "\n",
    "**Example**  \n",
    "Get the characters from position 2 to position 5 (not included):"
   ]
  },
  {
   "cell_type": "code",
   "execution_count": 66,
   "id": "967b343b-604f-479b-a3c1-3c84fb378d11",
   "metadata": {},
   "outputs": [
    {
     "name": "stdout",
     "output_type": "stream",
     "text": [
      "llo\n"
     ]
    }
   ],
   "source": [
    "b = \"Hello, World!\"\n",
    "print(b[2:5])"
   ]
  },
  {
   "cell_type": "markdown",
   "id": "99062b20-ee6c-4d6c-a98a-3c37032881a9",
   "metadata": {},
   "source": [
    ">Note: The first character has index 0."
   ]
  },
  {
   "cell_type": "markdown",
   "id": "81bde2f8-6913-42f1-b704-6cec22d29adb",
   "metadata": {},
   "source": [
    "### Slice From the Start\n",
    "By leaving out the start index, the range will start at the first character:\n",
    "\n",
    "**Example**  \n",
    "Get the characters from the start to position 5 (not included):"
   ]
  },
  {
   "cell_type": "code",
   "execution_count": 68,
   "id": "e200e3ed-5958-4323-bae0-95f70943bb41",
   "metadata": {},
   "outputs": [
    {
     "name": "stdout",
     "output_type": "stream",
     "text": [
      "Hello\n"
     ]
    }
   ],
   "source": [
    "b = \"Hello, World!\"\n",
    "print(b[:5])"
   ]
  },
  {
   "cell_type": "markdown",
   "id": "88bdeabd-0447-4011-b00b-11bf428333da",
   "metadata": {},
   "source": [
    "### Slice To the End\n",
    "By leaving out the end index, the range will go to the end:\n",
    "\n",
    "**Example**  \n",
    "Get the characters from position 2, and all the way to the end:"
   ]
  },
  {
   "cell_type": "code",
   "execution_count": 69,
   "id": "a802816e-79c4-4f43-98b8-d4ac74b94af3",
   "metadata": {},
   "outputs": [
    {
     "name": "stdout",
     "output_type": "stream",
     "text": [
      "llo, World!\n"
     ]
    }
   ],
   "source": [
    "b = \"Hello, World!\"\n",
    "print(b[2:])"
   ]
  },
  {
   "cell_type": "markdown",
   "id": "d32d5246-1b45-4fe9-af6a-c11f679c7915",
   "metadata": {},
   "source": [
    "### Negative Indexing\n",
    "Use negative indexes to start the slice from the end of the string:  \n",
    "**Example**  \n",
    "Get the characters:\n",
    "\n",
    "From: \"o\" in \"World!\" (position -5)\n",
    "\n",
    "To, but not included: \"d\" in \"World!\" (position -2):"
   ]
  },
  {
   "cell_type": "code",
   "execution_count": 70,
   "id": "46d2ee7a-bc01-46b0-989f-0a32bc9053f8",
   "metadata": {},
   "outputs": [
    {
     "name": "stdout",
     "output_type": "stream",
     "text": [
      "orl\n"
     ]
    }
   ],
   "source": [
    "b = \"Hello, World!\"\n",
    "print(b[-5:-2])"
   ]
  },
  {
   "cell_type": "markdown",
   "id": "d8859e0e-0128-4ae4-9626-46c8c9790cb4",
   "metadata": {
    "jp-MarkdownHeadingCollapsed": true
   },
   "source": [
    "## Modify Strings"
   ]
  },
  {
   "cell_type": "markdown",
   "id": "d7b3753f-98d3-49a5-8f3d-1c1c592c549b",
   "metadata": {},
   "source": [
    "Python has a set of built-in methods that you can use on strings.\n",
    "\n",
    "***Upper Case***  \n",
    "**Example**  \n",
    "The upper() method returns the string in upper case:"
   ]
  },
  {
   "cell_type": "code",
   "execution_count": 75,
   "id": "36746c42-ec6f-4dba-836a-a559749c223c",
   "metadata": {},
   "outputs": [
    {
     "name": "stdout",
     "output_type": "stream",
     "text": [
      "HELLO, WORLD!\n"
     ]
    }
   ],
   "source": [
    "a = \"Hello, World!\"\n",
    "print(a.upper())"
   ]
  },
  {
   "cell_type": "markdown",
   "id": "3d3bf887-6105-42b7-878e-f34163a0cc1e",
   "metadata": {},
   "source": [
    "***Lower Case***  \n",
    "**Example**  \n",
    "The lower() method returns the string in lower case:"
   ]
  },
  {
   "cell_type": "code",
   "execution_count": 76,
   "id": "95059b66-b33e-4c72-94e4-7439fc141762",
   "metadata": {},
   "outputs": [
    {
     "name": "stdout",
     "output_type": "stream",
     "text": [
      "hello, world!\n"
     ]
    }
   ],
   "source": [
    "a = \"Hello, World!\"\n",
    "print(a.lower())"
   ]
  },
  {
   "cell_type": "markdown",
   "id": "a8665bb5-d8ac-4bde-a106-75983983d6b5",
   "metadata": {},
   "source": [
    "***Remove Whitespace***  \n",
    "Whitespace is the space before and/or after the actual text, and very often you want to remove this space.\n",
    "\n",
    "**Example**  \n",
    "The strip() method removes any whitespace from the beginning or the end:"
   ]
  },
  {
   "cell_type": "code",
   "execution_count": 77,
   "id": "81df3738-d9d9-44c5-89b5-45d661066c8c",
   "metadata": {},
   "outputs": [
    {
     "name": "stdout",
     "output_type": "stream",
     "text": [
      "Hello, World!\n"
     ]
    }
   ],
   "source": [
    "a = \" Hello, World! \"\n",
    "print(a.strip()) # returns \"Hello, World!\""
   ]
  },
  {
   "cell_type": "markdown",
   "id": "7a83b5e9-7e6f-45b1-9e93-8f7eb344c8d2",
   "metadata": {},
   "source": [
    "***Replace String***  \n",
    "**Example**  \n",
    "The replace() method replaces a string with another string:"
   ]
  },
  {
   "cell_type": "code",
   "execution_count": 78,
   "id": "0314343e-f11b-4b8f-a0b0-b6c95fb7634b",
   "metadata": {},
   "outputs": [
    {
     "name": "stdout",
     "output_type": "stream",
     "text": [
      "Jello, World!\n"
     ]
    }
   ],
   "source": [
    "a = \"Hello, World!\"\n",
    "print(a.replace(\"H\", \"J\"))"
   ]
  },
  {
   "cell_type": "markdown",
   "id": "8ade8131-fa1d-443b-9427-0e6858a78cb9",
   "metadata": {},
   "source": [
    "***Split String***  \n",
    "The split() method returns a list where the text between the specified separator becomes the list items.\n",
    "\n",
    "**Example**  \n",
    "The split() method splits the string into substrings if it finds instances of the separator:"
   ]
  },
  {
   "cell_type": "code",
   "execution_count": 79,
   "id": "9797ccac-6270-4afd-b300-aaa9ff81d93f",
   "metadata": {},
   "outputs": [
    {
     "name": "stdout",
     "output_type": "stream",
     "text": [
      "['Hello', ' World!']\n"
     ]
    }
   ],
   "source": [
    "a = \"Hello, World!\"\n",
    "print(a.split(\",\")) # returns ['Hello', ' World!']"
   ]
  },
  {
   "cell_type": "markdown",
   "id": "bd15b1be-12ac-4e60-ae29-b67931dfe064",
   "metadata": {
    "jp-MarkdownHeadingCollapsed": true
   },
   "source": [
    "## String Concatenation"
   ]
  },
  {
   "cell_type": "markdown",
   "id": "8d2cbbce-5ecb-4a65-808b-348a9cffa1f3",
   "metadata": {},
   "source": [
    "To concatenate, or combine, two strings you can use the + operator.\n",
    "\n",
    "**Example**  \n",
    "Merge variable a with variable b into variable c:"
   ]
  },
  {
   "cell_type": "code",
   "execution_count": 80,
   "id": "eef0128f-e858-44d5-bbfa-5121f30d0916",
   "metadata": {},
   "outputs": [
    {
     "name": "stdout",
     "output_type": "stream",
     "text": [
      "HelloWorld\n"
     ]
    }
   ],
   "source": [
    "a = \"Hello\"\n",
    "b = \"World\"\n",
    "c = a + b\n",
    "print(c)"
   ]
  },
  {
   "cell_type": "markdown",
   "id": "615b530f-6978-4af6-b0d9-cf05ee398bf0",
   "metadata": {},
   "source": [
    "**Example**  \n",
    "To add a space between them, add a \" \":"
   ]
  },
  {
   "cell_type": "code",
   "execution_count": 81,
   "id": "e74a8f22-622d-4801-b57c-db65d3174f33",
   "metadata": {},
   "outputs": [
    {
     "name": "stdout",
     "output_type": "stream",
     "text": [
      "Hello World\n"
     ]
    }
   ],
   "source": [
    "a = \"Hello\"\n",
    "b = \"World\"\n",
    "c = a + \" \" + b\n",
    "print(c)"
   ]
  },
  {
   "cell_type": "markdown",
   "id": "acda77b8-4593-4fd0-9962-324175e560d7",
   "metadata": {
    "jp-MarkdownHeadingCollapsed": true
   },
   "source": [
    "## Format - Strings"
   ]
  },
  {
   "cell_type": "markdown",
   "id": "708c49db-bb1d-41ea-92b2-023cd476b0c7",
   "metadata": {},
   "source": [
    "As we learned in the Python Variables chapter, we cannot combine strings and numbers like this:\n",
    "\n",
    "**Example**"
   ]
  },
  {
   "cell_type": "code",
   "execution_count": 82,
   "id": "21e4bf8c-f344-4465-b6a7-13f15d5f9c6b",
   "metadata": {},
   "outputs": [
    {
     "ename": "TypeError",
     "evalue": "can only concatenate str (not \"int\") to str",
     "output_type": "error",
     "traceback": [
      "\u001b[1;31m---------------------------------------------------------------------------\u001b[0m",
      "\u001b[1;31mTypeError\u001b[0m                                 Traceback (most recent call last)",
      "Cell \u001b[1;32mIn[82], line 2\u001b[0m\n\u001b[0;32m      1\u001b[0m age \u001b[38;5;241m=\u001b[39m \u001b[38;5;241m36\u001b[39m\n\u001b[1;32m----> 2\u001b[0m txt \u001b[38;5;241m=\u001b[39m \u001b[38;5;124;43m\"\u001b[39;49m\u001b[38;5;124;43mMy name is John, I am \u001b[39;49m\u001b[38;5;124;43m\"\u001b[39;49m\u001b[43m \u001b[49m\u001b[38;5;241;43m+\u001b[39;49m\u001b[43m \u001b[49m\u001b[43mage\u001b[49m\n\u001b[0;32m      3\u001b[0m \u001b[38;5;28mprint\u001b[39m(txt)\n",
      "\u001b[1;31mTypeError\u001b[0m: can only concatenate str (not \"int\") to str"
     ]
    }
   ],
   "source": [
    "age = 36\n",
    "txt = \"My name is John, I am \" + age\n",
    "print(txt)"
   ]
  },
  {
   "cell_type": "markdown",
   "id": "d5104979-b696-4d39-9eeb-e33f276edef8",
   "metadata": {},
   "source": [
    "But we can combine strings and numbers by using f-strings or the format() method!\n",
    "\n",
    "***F-Strings***  \n",
    "F-String was introduced in Python 3.6, and is now the preferred way of formatting strings.\n",
    "\n",
    "To specify a string as an f-string, simply put an f in front of the string literal, and add curly brackets {} as placeholders for variables and other operations.\n",
    "\n",
    "**Example**  \n",
    "Create an f-string:"
   ]
  },
  {
   "cell_type": "code",
   "execution_count": 83,
   "id": "cdef0741-c919-41ee-8f88-3a4bf3c483c2",
   "metadata": {},
   "outputs": [
    {
     "name": "stdout",
     "output_type": "stream",
     "text": [
      "My name is John, I am 36\n"
     ]
    }
   ],
   "source": [
    "age = 36\n",
    "txt = f\"My name is John, I am {age}\"\n",
    "print(txt)"
   ]
  },
  {
   "cell_type": "markdown",
   "id": "a49df8fc-cbb1-4617-b3e2-6185da131ce5",
   "metadata": {},
   "source": [
    "***Placeholders and Modifiers***  \n",
    "A placeholder can contain variables, operations, functions, and modifiers to format the value.\n",
    "\n",
    "**Example**  \n",
    "Add a placeholder for the price variable:"
   ]
  },
  {
   "cell_type": "code",
   "execution_count": 84,
   "id": "822d87a1-2c15-4118-85bf-2a52a841b186",
   "metadata": {},
   "outputs": [
    {
     "name": "stdout",
     "output_type": "stream",
     "text": [
      "The price is 59 dollars\n"
     ]
    }
   ],
   "source": [
    "price = 59\n",
    "txt = f\"The price is {price} dollars\"\n",
    "print(txt)"
   ]
  },
  {
   "cell_type": "markdown",
   "id": "b148042f-64a4-42f8-b701-22d9d8dae38e",
   "metadata": {},
   "source": [
    "A placeholder can include a modifier to format the value.\n",
    "\n",
    "A modifier is included by adding a colon : followed by a legal formatting type, like .2f which means fixed point number with 2 decimals:\n",
    "\n",
    "**Example**  \n",
    "Display the price with 2 decimals:"
   ]
  },
  {
   "cell_type": "code",
   "execution_count": 85,
   "id": "2a4fa16a-c213-4fd7-b8e0-9a8748fcf2d8",
   "metadata": {},
   "outputs": [
    {
     "name": "stdout",
     "output_type": "stream",
     "text": [
      "The price is 59.00 dollars\n"
     ]
    }
   ],
   "source": [
    "price = 59\n",
    "txt = f\"The price is {price:.2f} dollars\"\n",
    "print(txt)"
   ]
  },
  {
   "cell_type": "markdown",
   "id": "983677f9-15ec-4c19-a11f-338e04db18f5",
   "metadata": {},
   "source": [
    "A placeholder can contain Python code, like math operations:\n",
    "\n",
    "**Example**  \n",
    "Perform a math operation in the placeholder, and return the result:"
   ]
  },
  {
   "cell_type": "code",
   "execution_count": 86,
   "id": "12d64176-bac3-4f10-8607-bd1cceec5871",
   "metadata": {},
   "outputs": [
    {
     "name": "stdout",
     "output_type": "stream",
     "text": [
      "The price is 1180 dollars\n"
     ]
    }
   ],
   "source": [
    "txt = f\"The price is {20 * 59} dollars\"\n",
    "print(txt)"
   ]
  },
  {
   "cell_type": "markdown",
   "id": "2ec1bf20-2b02-4f8b-9059-156f5ec42f10",
   "metadata": {
    "jp-MarkdownHeadingCollapsed": true
   },
   "source": [
    "## Escape Characters"
   ]
  },
  {
   "cell_type": "markdown",
   "id": "c184175a-eff7-492f-a364-14ac06ab229a",
   "metadata": {},
   "source": [
    "To insert characters that are illegal in a string, use an escape character.\n",
    "\n",
    "An escape character is a backslash \\ followed by the character you want to insert.\n",
    "\n",
    "An example of an illegal character is a double quote inside a string that is surrounded by double quotes:\n",
    "\n",
    "**Example**  \n",
    "You will get an error if you use double quotes inside a string that is surrounded by double quotes:"
   ]
  },
  {
   "cell_type": "code",
   "execution_count": 87,
   "id": "daa73b1d-4b1e-4eee-9d6b-f3f5c7334d10",
   "metadata": {},
   "outputs": [
    {
     "ename": "SyntaxError",
     "evalue": "invalid syntax (7934146.py, line 1)",
     "output_type": "error",
     "traceback": [
      "\u001b[1;36m  Cell \u001b[1;32mIn[87], line 1\u001b[1;36m\u001b[0m\n\u001b[1;33m    txt = \"We are the so-called \"Vikings\" from the north.\"\u001b[0m\n\u001b[1;37m                                 ^\u001b[0m\n\u001b[1;31mSyntaxError\u001b[0m\u001b[1;31m:\u001b[0m invalid syntax\n"
     ]
    }
   ],
   "source": [
    "txt = \"We are the so-called \"Vikings\" from the north.\""
   ]
  },
  {
   "cell_type": "markdown",
   "id": "a8b6aa4d-f553-4871-a333-ba45b21e5f3b",
   "metadata": {},
   "source": [
    "To fix this problem, use the escape character \\\":\n",
    "\n",
    "**Example**  \n",
    "The escape character allows you to use double quotes when you normally would not be allowed:"
   ]
  },
  {
   "cell_type": "code",
   "execution_count": 89,
   "id": "8bf0decd-2e9b-404d-ac08-d46b96193068",
   "metadata": {},
   "outputs": [],
   "source": [
    "txt = \"We are the so-called \\\"Vikings\\\" from the north.\""
   ]
  },
  {
   "attachments": {},
   "cell_type": "markdown",
   "id": "5e25dcae-e0c6-4fb6-b0fa-a3d3af6c8482",
   "metadata": {},
   "source": [
    "***Escape Characters***  \n",
    "Other escape characters used in Python:\n",
    " \n",
    "\\'  ---->\tSingle Quote  \n",
    "\\\\  ---->\tBackslash  \n",
    "\\n  ---->\tNew Line  \n",
    "\\r  ---->\tCarriage Return  \n",
    "\\t  ---->\tTab  \n",
    "\\b  ---->\tBackspace  \n",
    "\\f  ---->\tForm Feed  \n",
    "\\ooo ----> \tOctal value  \n",
    "\\xhh ----> \tHex value  "
   ]
  },
  {
   "cell_type": "code",
   "execution_count": 90,
   "id": "441697bd-599e-4c26-a60e-764c79032e6e",
   "metadata": {},
   "outputs": [
    {
     "name": "stdout",
     "output_type": "stream",
     "text": [
      "It's alright.\n"
     ]
    }
   ],
   "source": [
    "txt = 'It\\'s alright.'\n",
    "print(txt) "
   ]
  },
  {
   "cell_type": "code",
   "execution_count": 91,
   "id": "efdf0df2-14a6-40dd-b2a0-54266b6803cb",
   "metadata": {},
   "outputs": [
    {
     "name": "stdout",
     "output_type": "stream",
     "text": [
      "This will insert one \\ (backslash).\n"
     ]
    }
   ],
   "source": [
    "txt = \"This will insert one \\\\ (backslash).\"\n",
    "print(txt) "
   ]
  },
  {
   "cell_type": "code",
   "execution_count": 92,
   "id": "3dc25279-7d81-4bf9-92fc-015003ff7fbd",
   "metadata": {},
   "outputs": [
    {
     "name": "stdout",
     "output_type": "stream",
     "text": [
      "Hello\n",
      "World!\n"
     ]
    }
   ],
   "source": [
    "txt = \"Hello\\nWorld!\"\n",
    "print(txt) "
   ]
  },
  {
   "cell_type": "code",
   "execution_count": 93,
   "id": "0568a421-2939-4106-966d-35b5adeccae3",
   "metadata": {},
   "outputs": [
    {
     "name": "stdout",
     "output_type": "stream",
     "text": [
      "World!\n"
     ]
    }
   ],
   "source": [
    "txt = \"Hello\\rWorld!\"\n",
    "print(txt) "
   ]
  },
  {
   "cell_type": "code",
   "execution_count": 94,
   "id": "73d16629-8723-42bf-8ac6-d7a064e3d010",
   "metadata": {},
   "outputs": [
    {
     "name": "stdout",
     "output_type": "stream",
     "text": [
      "Hello\tWorld!\n"
     ]
    }
   ],
   "source": [
    "txt = \"Hello\\tWorld!\"\n",
    "print(txt) "
   ]
  },
  {
   "cell_type": "code",
   "execution_count": 95,
   "id": "daff7b37-5ef7-469e-aedc-1f5931d374f3",
   "metadata": {},
   "outputs": [
    {
     "name": "stdout",
     "output_type": "stream",
     "text": [
      "HelloWorld!\n"
     ]
    }
   ],
   "source": [
    "#This example erases one character (backspace):\n",
    "txt = \"Hello \\bWorld!\"\n",
    "print(txt) "
   ]
  },
  {
   "cell_type": "code",
   "execution_count": 96,
   "id": "03532fd6-baca-47d0-9b13-7d0dd8560d84",
   "metadata": {},
   "outputs": [
    {
     "name": "stdout",
     "output_type": "stream",
     "text": [
      "Hello\n"
     ]
    }
   ],
   "source": [
    "#A backslash followed by three integers will result in a octal value:\n",
    "txt = \"\\110\\145\\154\\154\\157\"\n",
    "print(txt) "
   ]
  },
  {
   "cell_type": "code",
   "execution_count": 97,
   "id": "ec777069-1708-4362-bddf-e1e473191ab5",
   "metadata": {},
   "outputs": [
    {
     "name": "stdout",
     "output_type": "stream",
     "text": [
      "Hello\n"
     ]
    }
   ],
   "source": [
    "#A backslash followed by an 'x' and a hex number represents a hex value:\n",
    "txt = \"\\x48\\x65\\x6c\\x6c\\x6f\"\n",
    "print(txt) "
   ]
  },
  {
   "cell_type": "markdown",
   "id": "d86d0c81-7705-4113-8654-a4f258e78a11",
   "metadata": {
    "jp-MarkdownHeadingCollapsed": true
   },
   "source": [
    "## String Methods"
   ]
  },
  {
   "cell_type": "markdown",
   "id": "fae37eab-4640-4a14-adb6-60243ec48eec",
   "metadata": {},
   "source": [
    "<span style='color:FireBrick'>**Note:** We can skip string methods as reference for later usage.</span>  \n",
    "\n",
    "Python has a set of built-in methods that you can use on strings.\n",
    "\n",
    ">Note: All string methods return new values. They do not change the original string.  \n",
    "\n",
    "| Method         | Description                                                                                   |\n",
    "| -------------- | --------------------------------------------------------------------------------------------- |\n",
    "| capitalize()   | Converts the first character to upper case                                                    |\n",
    "| casefold()     | Converts string into lower case                                                               |\n",
    "| center()       | Returns a centered string                                                                     |\n",
    "| count()        | Returns the number of times a specified value occurs in a string                              |\n",
    "| encode()       | Returns an encoded version of the string                                                      |\n",
    "| endswith()     | Returns true if the string ends with the specified value                                      |\n",
    "| expandtabs()   | Sets the tab size of the string                                                               |\n",
    "| find()         | Searches the string for a specified value and returns the position of where it was found      |\n",
    "| format()       | Formats specified values in a string                                                          |\n",
    "| format_map()   | Formats specified values in a string                                                          |\n",
    "| index()        | Searches the string for a specified value and returns the position of where it was found      |\n",
    "| isalnum()      | Returns True if all characters in the string are alphanumeric                                 |\n",
    "| isalpha()      | Returns True if all characters in the string are in the alphabet                              |\n",
    "| isascii()      | Returns True if all characters in the string are ascii characters                             |\n",
    "| isdecimal()    | Returns True if all characters in the string are decimals                                     |\n",
    "| isdigit()      | Returns True if all characters in the string are digits                                       |\n",
    "| isidentifier() | Returns True if the string is an identifier                                                   |\n",
    "| islower()      | Returns True if all characters in the string are lower case                                   |\n",
    "| isnumeric()    | Returns True if all characters in the string are numeric                                      |\n",
    "| isprintable()  | Returns True if all characters in the string are printable                                    |\n",
    "| isspace()      | Returns True if all characters in the string are whitespaces                                  |\n",
    "| istitle()      | Returns True if the string follows the rules of a title                                       |\n",
    "| isupper()      | Returns True if all characters in the string are upper case                                   |\n",
    "| join()         | Joins the elements of an iterable to the end of the string                                    |\n",
    "| ljust()        | Returns a left justified version of the string                                                |\n",
    "| lower()        | Converts a string into lower case                                                             |\n",
    "| lstrip()       | Returns a left trim version of the string                                                     |\n",
    "| maketrans()    | Returns a translation table to be used in translations                                        |\n",
    "| partition()    | Returns a tuple where the string is parted into three parts                                   |\n",
    "| replace()      | Returns a string where a specified value is replaced with a specified value                   |\n",
    "| rfind()        | Searches the string for a specified value and returns the last position of where it was found |\n",
    "| rindex()       | Searches the string for a specified value and returns the last position of where it was found |\n",
    "| rjust()        | Returns a right justified version of the string                                               |\n",
    "| rpartition()   | Returns a tuple where the string is parted into three parts                                   |\n",
    "| rsplit()       | Splits the string at the specified separator, and returns a list                              |\n",
    "| rstrip()       | Returns a right trim version of the string                                                    |\n",
    "| split()        | Splits the string at the specified separator, and returns a list                              |\n",
    "| splitlines()   | Splits the string at line breaks and returns a list                                           |\n",
    "| startswith()   | Returns true if the string starts with the specified value                                    |\n",
    "| strip()        | Returns a trimmed version of the string                                                       |\n",
    "| swapcase()     | Swaps cases, lower case becomes upper case and vice versa                                     |\n",
    "| title()        | Converts the first character of each word to upper case                                       |\n",
    "| translate()    | Returns a translated string                                                                   |\n",
    "| upper()        | Converts a string into upper case                                                             |\n",
    "| zfill()        | Fills the string with a specified number of 0 values at the beginning                         |"
   ]
  },
  {
   "cell_type": "markdown",
   "id": "1c881024-c406-4dea-bffb-bf12fbc2ff33",
   "metadata": {},
   "source": [
    "**string.capitalize()**  \n",
    "_Method returns a string where the first character is upper case, and the rest is lower case._"
   ]
  },
  {
   "cell_type": "code",
   "execution_count": 98,
   "id": "11e22a58-92c0-4a4b-864c-833acd6f08e6",
   "metadata": {},
   "outputs": [
    {
     "name": "stdout",
     "output_type": "stream",
     "text": [
      "Hello, and welcome to my world.\n"
     ]
    }
   ],
   "source": [
    "txt = \"hello, and welcome to my world.\"\n",
    "x = txt.capitalize()\n",
    "print (x)"
   ]
  },
  {
   "cell_type": "code",
   "execution_count": 99,
   "id": "345397ec-5204-4ffa-8e07-0db571f916e0",
   "metadata": {},
   "outputs": [
    {
     "name": "stdout",
     "output_type": "stream",
     "text": [
      "36 is my age.\n"
     ]
    }
   ],
   "source": [
    "txt = \"36 is my age.\"\n",
    "x = txt.capitalize()\n",
    "print (x)"
   ]
  },
  {
   "cell_type": "markdown",
   "id": "89114e3a-efee-41be-bf72-1e1f0494bbc9",
   "metadata": {},
   "source": [
    "**string.casefold()**  \n",
    "_Method is similar to the lower() method, but the casefold() method is stronger, more aggressive, meaning that it will convert more characters into lower case, and will find more matches when comparing two strings and both are converted using the casefold() method._"
   ]
  },
  {
   "cell_type": "code",
   "execution_count": 100,
   "id": "08316f11-8993-4db1-8c7c-065bb1f7a497",
   "metadata": {},
   "outputs": [
    {
     "name": "stdout",
     "output_type": "stream",
     "text": [
      "hello, and welcome to my world!\n"
     ]
    }
   ],
   "source": [
    "txt = \"Hello, And Welcome To My World!\"\n",
    "x = txt.casefold()\n",
    "print(x)"
   ]
  },
  {
   "cell_type": "markdown",
   "id": "84ef236c-1ece-4be0-9d69-88e05176c9a3",
   "metadata": {},
   "source": [
    "**string.center(length, character)**  \n",
    "_Method will center align the string, using a specified character (space is default) as the fill character._  \n",
    "length\t: Required. The length of the returned string  \n",
    "character\t: Optional. The character to fill the missing space on each side. Default is \" \" (space)"
   ]
  },
  {
   "cell_type": "code",
   "execution_count": 101,
   "id": "48d1ff8f-2c22-47b7-8521-eb4230376ad7",
   "metadata": {},
   "outputs": [
    {
     "name": "stdout",
     "output_type": "stream",
     "text": [
      "OOOOOOObananaOOOOOOO\n"
     ]
    }
   ],
   "source": [
    "txt = \"banana\"\n",
    "x = txt.center(20, \"O\")\n",
    "print(x)"
   ]
  },
  {
   "cell_type": "markdown",
   "id": "9fcc2965-3d1f-4627-80e6-a0f0f24de368",
   "metadata": {},
   "source": [
    "**string.count(value, start, end)**  \n",
    "_Method returns the number of times a specified value appears in the string._  \n",
    "value :\tRequired. A String. The string to value to search for  \n",
    "start :\tOptional. An Integer. The position to start the search. Default is 0  \n",
    "end :\tOptional. An Integer. The position to end the search. Default is the end of the string"
   ]
  },
  {
   "cell_type": "code",
   "execution_count": 102,
   "id": "cde08153-a84d-43ac-94ca-b254b10114d1",
   "metadata": {},
   "outputs": [
    {
     "name": "stdout",
     "output_type": "stream",
     "text": [
      "2\n"
     ]
    }
   ],
   "source": [
    "#Return the number of times the value \"apple\" appears in the string:\n",
    "txt = \"I love apples, apple are my favorite fruit\"\n",
    "x = txt.count(\"apple\")\n",
    "print(x)"
   ]
  },
  {
   "cell_type": "code",
   "execution_count": 103,
   "id": "269024b6-0c3d-42f2-827b-95b308701eb8",
   "metadata": {},
   "outputs": [
    {
     "name": "stdout",
     "output_type": "stream",
     "text": [
      "1\n"
     ]
    }
   ],
   "source": [
    "#Search from position 10 to 24:\n",
    "txt = \"I love apples, apple are my favorite fruit\"\n",
    "x = txt.count(\"apple\", 10, 24)\n",
    "print(x)"
   ]
  },
  {
   "cell_type": "markdown",
   "id": "69419c00-450f-4a2b-b473-e601d5e6e37a",
   "metadata": {},
   "source": [
    "**string.encode(encoding=encoding, errors=errors)**  \n",
    "_Method encodes the string, using the specified encoding. If no encoding is specified, UTF-8 will be used._  \n",
    "encoding :\tOptional. A String specifying the encoding to use. Default is UTF-8  \n",
    "errors :\tOptional. A String specifying the error method. Legal values are:  \n",
    "'backslashreplace'\t- uses a backslash instead of the character that could not be encoded  \n",
    "'ignore'\t- ignores the characters that cannot be encoded  \n",
    "'namereplace'\t- replaces the character with a text explaining the character  \n",
    "'strict'\t- Default, raises an error on failure  \n",
    "'replace'\t- replaces the character with a questionmark  \n",
    "'xmlcharrefreplace'\t- replaces the character with an xml character  "
   ]
  },
  {
   "cell_type": "code",
   "execution_count": 104,
   "id": "d6aae567-8811-4b0c-ac55-144d7b3d31ce",
   "metadata": {},
   "outputs": [
    {
     "name": "stdout",
     "output_type": "stream",
     "text": [
      "b'My name is St\\xc3\\xa5le'\n"
     ]
    }
   ],
   "source": [
    "#UTF-8 encode the string:\n",
    "txt = \"My name is Ståle\"\n",
    "x = txt.encode()\n",
    "print(x)"
   ]
  },
  {
   "cell_type": "code",
   "execution_count": 105,
   "id": "300f14a6-8d98-4dbc-b45b-63932cf1e813",
   "metadata": {},
   "outputs": [
    {
     "name": "stdout",
     "output_type": "stream",
     "text": [
      "b'My name is St\\\\xe5le'\n",
      "b'My name is Stle'\n",
      "b'My name is St\\\\N{LATIN SMALL LETTER A WITH RING ABOVE}le'\n",
      "b'My name is St?le'\n",
      "b'My name is St&#229;le'\n"
     ]
    }
   ],
   "source": [
    "#other encodings\n",
    "txt = \"My name is Ståle\"\n",
    "\n",
    "print(txt.encode(encoding=\"ascii\",errors=\"backslashreplace\"))\n",
    "print(txt.encode(encoding=\"ascii\",errors=\"ignore\"))\n",
    "print(txt.encode(encoding=\"ascii\",errors=\"namereplace\"))\n",
    "print(txt.encode(encoding=\"ascii\",errors=\"replace\"))\n",
    "print(txt.encode(encoding=\"ascii\",errors=\"xmlcharrefreplace\"))"
   ]
  },
  {
   "cell_type": "code",
   "execution_count": 106,
   "id": "1169bd04-1b52-40e1-9156-4fe75dcad6bd",
   "metadata": {},
   "outputs": [
    {
     "name": "stdout",
     "output_type": "stream",
     "text": [
      "b'My name is St\\xe5le'\n"
     ]
    }
   ],
   "source": [
    "#iso-8859-1 encode the string:\n",
    "txt = \"My name is Ståle\"\n",
    "x = txt.encode(\"iso-8859-1\")\n",
    "print(x)"
   ]
  },
  {
   "cell_type": "markdown",
   "id": "cf08875e-4986-442c-aa4f-d15f48f01ec9",
   "metadata": {},
   "source": [
    "**string.endswith(value, start, end)**  \n",
    "_Method returns True if the string ends with the specified value, otherwise False._  \n",
    "value :\tRequired. The value to check if the string ends with  \n",
    "start :\tOptional. An Integer specifying at which position to start the search  \n",
    "end :\tOptional. An Integer specifying at which position to end the search  "
   ]
  },
  {
   "cell_type": "code",
   "execution_count": 107,
   "id": "8d487700-840c-4e5f-b922-9967e69dd32f",
   "metadata": {},
   "outputs": [
    {
     "name": "stdout",
     "output_type": "stream",
     "text": [
      "True\n"
     ]
    }
   ],
   "source": [
    "# Check if the string ends with a punctuation sign (.):\n",
    "txt = \"Hello, welcome to my world.\"\n",
    "x = txt.endswith(\".\")\n",
    "print(x)"
   ]
  },
  {
   "cell_type": "code",
   "execution_count": 108,
   "id": "ede8c816-de64-4ca5-9191-e77031102d8a",
   "metadata": {},
   "outputs": [
    {
     "name": "stdout",
     "output_type": "stream",
     "text": [
      "True\n"
     ]
    }
   ],
   "source": [
    "#Check if the string ends with the phrase \"my world.\":\n",
    "txt = \"Hello, welcome to my world.\"\n",
    "x = txt.endswith(\"my world.\")\n",
    "print(x)"
   ]
  },
  {
   "cell_type": "code",
   "execution_count": 109,
   "id": "e95d821d-a5bc-4397-95a7-886f6de83f13",
   "metadata": {},
   "outputs": [
    {
     "name": "stdout",
     "output_type": "stream",
     "text": [
      "False\n"
     ]
    }
   ],
   "source": [
    "#Check if position 5 to 11 ends with the phrase \"my world.\":\n",
    "txt = \"Hello, welcome to my world.\"\n",
    "x = txt.endswith(\"my world.\", 5, 11)\n",
    "print(x)"
   ]
  },
  {
   "cell_type": "markdown",
   "id": "72f17fe4-9710-485c-a115-f146f2e7f24d",
   "metadata": {},
   "source": [
    "**string.expandtabs(tabsize)**  \n",
    "_Method sets the tab size to the specified number of whitespaces._  \n",
    "tabsize :\tOptional. A number specifying the tabsize. Default tabsize is 8"
   ]
  },
  {
   "cell_type": "code",
   "execution_count": 110,
   "id": "1b208f53-644c-4372-80f9-87ba8f5f4027",
   "metadata": {},
   "outputs": [
    {
     "name": "stdout",
     "output_type": "stream",
     "text": [
      "H e l l o\n"
     ]
    }
   ],
   "source": [
    "#Set the tab size to 2 whitespaces:\n",
    "txt = \"H\\te\\tl\\tl\\to\"\n",
    "x =  txt.expandtabs(2)\n",
    "print(x)"
   ]
  },
  {
   "cell_type": "code",
   "execution_count": 111,
   "id": "6e21918a-a054-4d03-9008-47e0539c3683",
   "metadata": {},
   "outputs": [
    {
     "name": "stdout",
     "output_type": "stream",
     "text": [
      "H\te\tl\tl\to\n",
      "H       e       l       l       o\n",
      "H e l l o\n",
      "H   e   l   l   o\n",
      "H         e         l         l         o\n"
     ]
    }
   ],
   "source": [
    "#See the result using different tab sizes:\n",
    "txt = \"H\\te\\tl\\tl\\to\"\n",
    "print(txt)\n",
    "print(txt.expandtabs())\n",
    "print(txt.expandtabs(2))\n",
    "print(txt.expandtabs(4))\n",
    "print(txt.expandtabs(10))"
   ]
  },
  {
   "cell_type": "markdown",
   "id": "349c7d3e-2fe1-4c2f-8288-54fbec7c883e",
   "metadata": {},
   "source": [
    "**string.find(value, start, end)**  \n",
    "_The find() method finds the first occurrence of the specified value.  \n",
    "The find() method returns -1 if the value is not found.  \n",
    "The find() method is almost the same as the index() method, the only difference is that the index() method raises an exception if the value is not found._  \n",
    "value :\tRequired. The value to search for  \n",
    "start :\tOptional. Where to start the search. Default is 0  \n",
    "end :\tOptional. Where to end the search. Default is to the end of the string  "
   ]
  },
  {
   "cell_type": "code",
   "execution_count": 113,
   "id": "88da8d0e-a183-47ef-9eca-0ee61e789c0d",
   "metadata": {},
   "outputs": [
    {
     "name": "stdout",
     "output_type": "stream",
     "text": [
      "7\n"
     ]
    }
   ],
   "source": [
    "#Where in the text is the word \"welcome\"?\n",
    "txt = \"Hello, welcome to my world.\"\n",
    "x = txt.find(\"welcome\")\n",
    "print(x)"
   ]
  },
  {
   "cell_type": "code",
   "execution_count": 114,
   "id": "f78298f7-db30-4fbb-ae83-1021f40d91a2",
   "metadata": {},
   "outputs": [
    {
     "name": "stdout",
     "output_type": "stream",
     "text": [
      "1\n"
     ]
    }
   ],
   "source": [
    "#Where in the text is the first occurrence of the letter \"e\"?:\n",
    "txt = \"Hello, welcome to my world.\"\n",
    "x = txt.find(\"e\")\n",
    "print(x)"
   ]
  },
  {
   "cell_type": "code",
   "execution_count": 115,
   "id": "4e36033b-634a-44b1-93d6-0e4aee9c9b7a",
   "metadata": {},
   "outputs": [
    {
     "name": "stdout",
     "output_type": "stream",
     "text": [
      "8\n"
     ]
    }
   ],
   "source": [
    "#Where in the text is the first occurrence of the letter \"e\" when you only search between position 5 and 10?:\n",
    "txt = \"Hello, welcome to my world.\"\n",
    "x = txt.find(\"e\", 5, 10)\n",
    "print(x)"
   ]
  },
  {
   "cell_type": "code",
   "execution_count": 117,
   "id": "357f8923-6882-474a-82e2-36d473a9b543",
   "metadata": {},
   "outputs": [
    {
     "name": "stdout",
     "output_type": "stream",
     "text": [
      "-1\n"
     ]
    }
   ],
   "source": [
    "#If the value is not found, the find() method returns -1, but the index() method will raise an exception:\n",
    "txt = \"Hello, welcome to my world.\"\n",
    "print(txt.find(\"q\"))"
   ]
  },
  {
   "cell_type": "code",
   "execution_count": 118,
   "id": "2159849c-0cd2-4e97-87ba-f4510062965d",
   "metadata": {},
   "outputs": [
    {
     "ename": "ValueError",
     "evalue": "substring not found",
     "output_type": "error",
     "traceback": [
      "\u001b[1;31m---------------------------------------------------------------------------\u001b[0m",
      "\u001b[1;31mValueError\u001b[0m                                Traceback (most recent call last)",
      "Cell \u001b[1;32mIn[118], line 1\u001b[0m\n\u001b[1;32m----> 1\u001b[0m \u001b[38;5;28mprint\u001b[39m(\u001b[43mtxt\u001b[49m\u001b[38;5;241;43m.\u001b[39;49m\u001b[43mindex\u001b[49m\u001b[43m(\u001b[49m\u001b[38;5;124;43m\"\u001b[39;49m\u001b[38;5;124;43mq\u001b[39;49m\u001b[38;5;124;43m\"\u001b[39;49m\u001b[43m)\u001b[49m)\n",
      "\u001b[1;31mValueError\u001b[0m: substring not found"
     ]
    }
   ],
   "source": [
    "print(txt.index(\"q\"))"
   ]
  },
  {
   "cell_type": "markdown",
   "id": "78565adf-7c0b-4fff-a53a-9248bf0bb60b",
   "metadata": {},
   "source": [
    "**string.format(value1, value2...)**  \n",
    "_The format() method formats the specified value(s) and insert them inside the string's placeholder.  \n",
    "The placeholder is defined using curly brackets: {}. Read more about the placeholders in the Placeholder section below.  \n",
    "The format() method returns the formatted string._  \n",
    "value1, value2... :\tRequired.\n",
    ">One or more values that should be formatted and inserted in the string.  \n",
    "The values are either a list of values separated by commas, a key=value list, or a combination of both.  \n",
    "The values can be of any data type."
   ]
  },
  {
   "cell_type": "code",
   "execution_count": 120,
   "id": "1dabd713-2121-411b-8521-08f10db909f9",
   "metadata": {},
   "outputs": [],
   "source": [
    "#Using different placeholder values:\n",
    "txt1 = \"My name is {fname}, I'm {age}\".format(fname = \"John\", age = 36)\n",
    "txt2 = \"My name is {0}, I'm {1}\".format(\"John\",36)\n",
    "txt3 = \"My name is {}, I'm {}\".format(\"John\",36)"
   ]
  },
  {
   "cell_type": "markdown",
   "id": "89b95baf-5a6f-47ac-8af7-e16dfce5d4a4",
   "metadata": {},
   "source": [
    "_Formatting Types:_  \n",
    "Inside the placeholders you can add a formatting type to format the result:  \n",
    ":<\t\t&emsp;Left aligns the result (within the available space)  \n",
    ":>\t\t&emsp;Right aligns the result (within the available space)  \n",
    ":^\t\t&emsp;Center aligns the result (within the available space)  \n",
    ":=\t\t&emsp;Places the sign to the left most position  \n",
    ":+\t\t&emsp;Use a plus sign to indicate if the result is positive or negative  \n",
    ":-\t\t&emsp;Use a minus sign for negative values only  \n",
    ": \t\t&emsp;Use a space to insert an extra space before positive numbers (and a minus sign before negative numbers)  \n",
    ":,\t\t&emsp;Use a comma as a thousand separator_  \n",
    ":_\t\t&emsp;Use a underscore as a thousand separator  \n",
    ":b\t\t&emsp;Binary format  \n",
    ":c\t\t&emsp;Converts the value into the corresponding unicode character  \n",
    ":d\t\t&emsp;Decimal format  \n",
    ":e\t\t&emsp;Scientific format, with a lower case e  \n",
    ":E\t\t&emsp;Scientific format, with an upper case E  \n",
    ":f\t\t&emsp;Fix point number format  \n",
    ":F\t\t&emsp;Fix point number format, in uppercase format (show inf and nan as INF and NAN)  \n",
    ":g\t\t&emsp;General format  \n",
    ":G\t\t&emsp;General format (using a upper case E for scientific notations)  \n",
    ":o\t\t&emsp;Octal format  \n",
    ":x\t\t&emsp;Hex format, lower case  \n",
    ":X\t\t&emsp;Hex format, upper case  \n",
    ":n\t\t&emsp;Number format  \n",
    ":%\t\t&emsp;Percentage format"
   ]
  },
  {
   "cell_type": "code",
   "execution_count": 121,
   "id": "15621c5f-f1bc-45f1-8666-52a952ecda77",
   "metadata": {},
   "outputs": [
    {
     "name": "stdout",
     "output_type": "stream",
     "text": [
      "We have 49       chickens.\n"
     ]
    }
   ],
   "source": [
    "#To demonstrate, we insert the number 8 to set the available space for the value to 8 characters.\n",
    "#Use \"<\" to left-align the value:\n",
    "txt = \"We have {:<8} chickens.\"\n",
    "print(txt.format(49))"
   ]
  },
  {
   "cell_type": "code",
   "execution_count": 122,
   "id": "b6fd1af5-ab19-446f-ac23-12d7fb0ee7b2",
   "metadata": {},
   "outputs": [
    {
     "name": "stdout",
     "output_type": "stream",
     "text": [
      "We have       49 chickens.\n"
     ]
    }
   ],
   "source": [
    "#To demonstrate, we insert the number 8 to set the available space for the value to 8 characters.\n",
    "#Use \">\" to right-align the value:\n",
    "txt = \"We have {:>8} chickens.\"\n",
    "print(txt.format(49))"
   ]
  },
  {
   "cell_type": "code",
   "execution_count": 123,
   "id": "4d88cf24-be80-476c-81ed-6f2641955d07",
   "metadata": {},
   "outputs": [
    {
     "name": "stdout",
     "output_type": "stream",
     "text": [
      "We have    49    chickens.\n"
     ]
    }
   ],
   "source": [
    "#To demonstrate, we insert the number 8 to set the available space for the value to 8 characters.\n",
    "#Use \"^\" to center-align the value:\n",
    "txt = \"We have {:^8} chickens.\"\n",
    "print(txt.format(49))"
   ]
  },
  {
   "cell_type": "code",
   "execution_count": 124,
   "id": "7f852020-d574-477e-8d05-34642e800330",
   "metadata": {},
   "outputs": [
    {
     "name": "stdout",
     "output_type": "stream",
     "text": [
      "The temperature is -      5 degrees celsius.\n"
     ]
    }
   ],
   "source": [
    "#To demonstrate, we insert the number 8 to specify the available space for the value.\n",
    "#Use \"=\" to place the plus/minus sign at the left most position:\n",
    "txt = \"The temperature is {:=8} degrees celsius.\"\n",
    "print(txt.format(-5))"
   ]
  },
  {
   "cell_type": "code",
   "execution_count": 125,
   "id": "ca66c369-790a-4f10-a396-4a6ba3191106",
   "metadata": {},
   "outputs": [
    {
     "name": "stdout",
     "output_type": "stream",
     "text": [
      "The temperature is between -3 and +7 degrees celsius.\n"
     ]
    }
   ],
   "source": [
    "#Use \"+\" to always indicate if the number is positive or negative:\n",
    "txt = \"The temperature is between {:+} and {:+} degrees celsius.\"\n",
    "print(txt.format(-3, 7))"
   ]
  },
  {
   "cell_type": "code",
   "execution_count": 126,
   "id": "778633e5-1805-43af-918a-346767222952",
   "metadata": {},
   "outputs": [
    {
     "name": "stdout",
     "output_type": "stream",
     "text": [
      "The temperature is between -3 and 7 degrees celsius.\n"
     ]
    }
   ],
   "source": [
    "#Use \"-\" to always indicate if the number is negative (positive numbers are displayed without any sign):\n",
    "txt = \"The temperature is between {:-} and {:-} degrees celsius.\"\n",
    "print(txt.format(-3, 7))"
   ]
  },
  {
   "cell_type": "code",
   "execution_count": 127,
   "id": "e455b245-8105-4859-a355-27872324977d",
   "metadata": {},
   "outputs": [
    {
     "name": "stdout",
     "output_type": "stream",
     "text": [
      "The temperature is between -3 and  7 degrees celsius.\n"
     ]
    }
   ],
   "source": [
    "#Use \" \" (a space) to insert a space before positive numbers and a minus sign before negative numbers:\n",
    "txt = \"The temperature is between {: } and {: } degrees celsius.\"\n",
    "print(txt.format(-3, 7))"
   ]
  },
  {
   "cell_type": "code",
   "execution_count": 128,
   "id": "cec2375c-ee21-4457-9b0d-9098bc0f0815",
   "metadata": {},
   "outputs": [
    {
     "name": "stdout",
     "output_type": "stream",
     "text": [
      "The universe is 13,800,000,000 years old.\n"
     ]
    }
   ],
   "source": [
    "#Use \",\" to add a comma as a thousand separator:\n",
    "txt = \"The universe is {:,} years old.\"\n",
    "print(txt.format(13800000000))"
   ]
  },
  {
   "cell_type": "code",
   "execution_count": 129,
   "id": "7bf30f6c-f401-4433-8007-aca99a5ae13a",
   "metadata": {},
   "outputs": [
    {
     "name": "stdout",
     "output_type": "stream",
     "text": [
      "The universe is 13_800_000_000 years old.\n"
     ]
    }
   ],
   "source": [
    "#Use \"_\" to add a underscore character as a thousand separator:\n",
    "txt = \"The universe is {:_} years old.\"\n",
    "print(txt.format(13800000000))"
   ]
  },
  {
   "cell_type": "code",
   "execution_count": 130,
   "id": "8d9f74f4-7222-451a-aaff-e1d999557868",
   "metadata": {},
   "outputs": [
    {
     "name": "stdout",
     "output_type": "stream",
     "text": [
      "The binary version of 5 is 101\n"
     ]
    }
   ],
   "source": [
    "#Use \"b\" to convert the number into binary format:\n",
    "txt = \"The binary version of {0} is {0:b}\"\n",
    "print(txt.format(5))"
   ]
  },
  {
   "cell_type": "code",
   "execution_count": 131,
   "id": "fa9bf3bc-3c06-4311-a215-47755e7325cb",
   "metadata": {},
   "outputs": [
    {
     "name": "stdout",
     "output_type": "stream",
     "text": [
      "We have 5 chickens.\n"
     ]
    }
   ],
   "source": [
    "#Use \"d\" to convert a number, in this case a binary number, into decimal number format:\n",
    "txt = \"We have {:d} chickens.\"\n",
    "print(txt.format(0b101))"
   ]
  },
  {
   "cell_type": "code",
   "execution_count": 132,
   "id": "3450cccc-2fd7-482e-8d7b-e8d0d72fc48b",
   "metadata": {},
   "outputs": [
    {
     "name": "stdout",
     "output_type": "stream",
     "text": [
      "We have 5.000000e+00 chickens.\n"
     ]
    }
   ],
   "source": [
    "#Use \"e\" to convert a number into scientific number format (with a lower-case e):\n",
    "txt = \"We have {:e} chickens.\"\n",
    "print(txt.format(5))"
   ]
  },
  {
   "cell_type": "code",
   "execution_count": 133,
   "id": "9455e1b5-3c0c-4149-a1a7-891f372176f5",
   "metadata": {},
   "outputs": [
    {
     "name": "stdout",
     "output_type": "stream",
     "text": [
      "We have 5.000000E+00 chickens.\n"
     ]
    }
   ],
   "source": [
    "#Use \"E\" to convert a number into scientific number format (with an upper-case E):\n",
    "txt = \"We have {:E} chickens.\"\n",
    "print(txt.format(5))"
   ]
  },
  {
   "cell_type": "code",
   "execution_count": 134,
   "id": "50b5de4a-a7bc-4a54-bd27-0f459cd070bb",
   "metadata": {},
   "outputs": [
    {
     "name": "stdout",
     "output_type": "stream",
     "text": [
      "The price is 45.00 dollars.\n",
      "The price is 45.000000 dollars.\n"
     ]
    }
   ],
   "source": [
    "#Use \"f\" to convert a number into a fixed point number, default with 6 decimals, but use a period followed by a number to specify the number of decimals:\n",
    "txt = \"The price is {:.2f} dollars.\"\n",
    "print(txt.format(45))\n",
    "#without the \".2\" inside the placeholder, this number will be displayed like this:\n",
    "txt = \"The price is {:f} dollars.\"\n",
    "print(txt.format(45))"
   ]
  },
  {
   "cell_type": "code",
   "execution_count": 135,
   "id": "b6e36b7b-7a43-4015-a4dc-29771ea4ba6d",
   "metadata": {},
   "outputs": [
    {
     "name": "stdout",
     "output_type": "stream",
     "text": [
      "The price is INF dollars.\n",
      "The price is inf dollars.\n"
     ]
    }
   ],
   "source": [
    "#Use \"F\" to convert a number into a fixed point number, but display inf and nan as INF and NAN:\n",
    "x = float('inf')\n",
    "txt = \"The price is {:F} dollars.\"\n",
    "print(txt.format(x))\n",
    "#same example, but with a lower case f:\n",
    "txt = \"The price is {:f} dollars.\"\n",
    "print(txt.format(x))"
   ]
  },
  {
   "cell_type": "code",
   "execution_count": 136,
   "id": "d6927a59-b9f9-49d2-ae68-af610f11952d",
   "metadata": {},
   "outputs": [
    {
     "name": "stdout",
     "output_type": "stream",
     "text": [
      "The octal version of 10 is 12\n"
     ]
    }
   ],
   "source": [
    "#Use \"o\" to convert the number into octal format:\n",
    "txt = \"The octal version of {0} is {0:o}\"\n",
    "print(txt.format(10))"
   ]
  },
  {
   "cell_type": "code",
   "execution_count": 137,
   "id": "e6697043-c2c4-4f5c-9b8c-5913f4f87a39",
   "metadata": {},
   "outputs": [
    {
     "name": "stdout",
     "output_type": "stream",
     "text": [
      "The Hexadecimal version of 255 is ff\n"
     ]
    }
   ],
   "source": [
    "#Use \"x\" to convert the number into Hex format:\n",
    "txt = \"The Hexadecimal version of {0} is {0:x}\"\n",
    "print(txt.format(255))"
   ]
  },
  {
   "cell_type": "code",
   "execution_count": 138,
   "id": "22e0f1b1-78ec-4933-95b2-e9672355f9f7",
   "metadata": {},
   "outputs": [
    {
     "name": "stdout",
     "output_type": "stream",
     "text": [
      "The Hexadecimal version of 255 is FF\n"
     ]
    }
   ],
   "source": [
    "#Use \"X\" to convert the number into upper-case Hex format:\n",
    "txt = \"The Hexadecimal version of {0} is {0:X}\"\n",
    "print(txt.format(255))"
   ]
  },
  {
   "cell_type": "code",
   "execution_count": 139,
   "id": "8381f58e-8658-4f30-ad9f-3f1a32e323fc",
   "metadata": {},
   "outputs": [
    {
     "name": "stdout",
     "output_type": "stream",
     "text": [
      "You scored 25.000000%\n",
      "You scored 25%\n"
     ]
    }
   ],
   "source": [
    "#Use \"%\" to convert the number into a percentage format:\n",
    "txt = \"You scored {:%}\"\n",
    "print(txt.format(0.25))\n",
    "#Or, without any decimals:\n",
    "txt = \"You scored {:.0%}\"\n",
    "print(txt.format(0.25))"
   ]
  },
  {
   "cell_type": "markdown",
   "id": "35a977c4-d6c1-4e62-825d-bf8bb9cde955",
   "metadata": {},
   "source": [
    "**string.index(value, start, end)**  \n",
    "_The index() method finds the first occurrence of the specified value.  \n",
    "The index() method raises an exception if the value is not found.  \n",
    "The index() method is almost the same as the find() method, the only difference is that the find() method returns -1 if the value is not found. (See example below)_  \n",
    "value :\tRequired. The value to search for  \n",
    "start :\tOptional. Where to start the search. Default is 0  \n",
    "end :\tOptional. Where to end the search. Default is to the end of the string  "
   ]
  },
  {
   "cell_type": "code",
   "execution_count": 140,
   "id": "f2db676c-abe4-439e-8f28-43a02be88ed0",
   "metadata": {},
   "outputs": [
    {
     "name": "stdout",
     "output_type": "stream",
     "text": [
      "1\n"
     ]
    }
   ],
   "source": [
    "#Where in the text is the first occurrence of the letter \"e\"?:\n",
    "txt = \"Hello, welcome to my world.\"\n",
    "x = txt.index(\"e\")\n",
    "print(x)"
   ]
  },
  {
   "cell_type": "code",
   "execution_count": 141,
   "id": "b498a8ac-f653-4c28-ab20-f9164d336981",
   "metadata": {},
   "outputs": [
    {
     "name": "stdout",
     "output_type": "stream",
     "text": [
      "8\n"
     ]
    }
   ],
   "source": [
    "#Where in the text is the first occurrence of the letter \"e\" when you only search between position 5 and 10?:\n",
    "txt = \"Hello, welcome to my world.\"\n",
    "x = txt.index(\"e\", 5, 10)\n",
    "print(x)"
   ]
  },
  {
   "cell_type": "code",
   "execution_count": 766,
   "id": "b4e154a0-68a1-4ac8-a2f9-9fe4f1cde31c",
   "metadata": {},
   "outputs": [
    {
     "name": "stdout",
     "output_type": "stream",
     "text": [
      "-1\n"
     ]
    }
   ],
   "source": [
    "#If the value is not found, the find() method returns -1, but the index() method will raise an exception:\n",
    "txt = \"Hello, welcome to my world.\"\n",
    "print(txt.find(\"q\"))"
   ]
  },
  {
   "cell_type": "code",
   "execution_count": 768,
   "id": "3866042c-ff5f-447e-84b6-9e3bd0d43197",
   "metadata": {},
   "outputs": [
    {
     "ename": "ValueError",
     "evalue": "substring not found",
     "output_type": "error",
     "traceback": [
      "\u001b[0;31m---------------------------------------------------------------------------\u001b[0m",
      "\u001b[0;31mValueError\u001b[0m                                Traceback (most recent call last)",
      "Cell \u001b[0;32mIn[768], line 1\u001b[0m\n\u001b[0;32m----> 1\u001b[0m \u001b[38;5;28mprint\u001b[39m(txt\u001b[38;5;241m.\u001b[39mindex(\u001b[38;5;124m\"\u001b[39m\u001b[38;5;124mq\u001b[39m\u001b[38;5;124m\"\u001b[39m))\n",
      "\u001b[0;31mValueError\u001b[0m: substring not found"
     ]
    }
   ],
   "source": [
    "print(txt.index(\"q\"))"
   ]
  },
  {
   "cell_type": "markdown",
   "id": "56608520-e0b3-4777-bb4b-2e365b842f2c",
   "metadata": {},
   "source": [
    "**string.isalnum()**  \n",
    "_Mthod returns True if all the characters are alphanumeric, meaning alphabet letter (a-z) and numbers (0-9).  \n",
    "Example of characters that are not alphanumeric: (space)!#%&? etc._"
   ]
  },
  {
   "cell_type": "code",
   "execution_count": null,
   "id": "47a7bc76-cd01-4f92-9377-3cb09c07786b",
   "metadata": {},
   "outputs": [],
   "source": [
    "#Check if all the characters in the text are alphanumeric:\n",
    "txt = \"Company12\"\n",
    "x = txt.isalnum()\n",
    "print(x)"
   ]
  },
  {
   "cell_type": "code",
   "execution_count": 759,
   "id": "9cc21f52-e685-44bd-bb39-ecaa37541d01",
   "metadata": {},
   "outputs": [
    {
     "name": "stdout",
     "output_type": "stream",
     "text": [
      "False\n"
     ]
    }
   ],
   "source": [
    "#Check if all the characters in the text is alphanumeric:\n",
    "txt = \"Company 12\"\n",
    "x = txt.isalnum()\n",
    "print(x)"
   ]
  },
  {
   "cell_type": "markdown",
   "id": "0b66961a-c472-411c-aa09-68ab0e83575e",
   "metadata": {},
   "source": [
    "**string.isalpha()**  \n",
    "_Method returns True if all the characters are alphabet letters (a-z).  \n",
    "Example of characters that are not alphabet letters: (space)!#%&? etc._"
   ]
  },
  {
   "cell_type": "code",
   "execution_count": 762,
   "id": "af565ce2-8121-41f0-8bb4-3c8af8e29dd6",
   "metadata": {},
   "outputs": [
    {
     "name": "stdout",
     "output_type": "stream",
     "text": [
      "True\n"
     ]
    }
   ],
   "source": [
    "#Check if all the characters in the text are letters:\n",
    "txt = \"CompanyX\"\n",
    "x = txt.isalpha()\n",
    "print(x)"
   ]
  },
  {
   "cell_type": "code",
   "execution_count": 764,
   "id": "62c1f5d8-3496-4368-87c2-fc4983001d19",
   "metadata": {},
   "outputs": [
    {
     "name": "stdout",
     "output_type": "stream",
     "text": [
      "False\n"
     ]
    }
   ],
   "source": [
    "#Check if all the characters in the text is alphabetic:\n",
    "txt = \"Company10\"\n",
    "x = txt.isalpha()\n",
    "print(x)"
   ]
  },
  {
   "cell_type": "markdown",
   "id": "ba4e776b-55d6-4d6d-8232-4747f6e73aed",
   "metadata": {},
   "source": [
    "**Continued......**  "
   ]
  },
  {
   "cell_type": "markdown",
   "id": "7f39eef3-26a3-4b3a-81ae-92e8e5adfab8",
   "metadata": {
    "jp-MarkdownHeadingCollapsed": true
   },
   "source": [
    "# Python Booleans"
   ]
  },
  {
   "cell_type": "markdown",
   "id": "303a43ee-f978-4bf3-a027-71946fb590fe",
   "metadata": {},
   "source": [
    "Booleans represent one of two values: True or False.\n",
    "\n",
    "**Boolean Values**  \n",
    "In programming you often need to know if an expression is True or False.  \n",
    "You can evaluate any expression in Python, and get one of two answers, True or False.  \n",
    "When you compare two values, the expression is evaluated and Python returns the Boolean answer:  \n",
    "\n",
    "**Example**"
   ]
  },
  {
   "cell_type": "code",
   "execution_count": 143,
   "id": "6939bd75-fef3-4388-9afb-fed7fa2e5256",
   "metadata": {},
   "outputs": [
    {
     "name": "stdout",
     "output_type": "stream",
     "text": [
      "True\n",
      "False\n",
      "False\n"
     ]
    }
   ],
   "source": [
    "print(10 > 9)\n",
    "print(10 == 9)\n",
    "print(10 < 9)"
   ]
  },
  {
   "cell_type": "markdown",
   "id": "1a6c3425-189f-4c68-98be-3256bfa15e76",
   "metadata": {},
   "source": [
    "When you run a condition in an if statement, Python returns True or False:\n",
    "\n",
    "**Example**  \n",
    "Print a message based on whether the condition is True or False:"
   ]
  },
  {
   "cell_type": "code",
   "execution_count": 144,
   "id": "5c968889-216e-4d4c-bd31-3fb713d1b725",
   "metadata": {},
   "outputs": [
    {
     "name": "stdout",
     "output_type": "stream",
     "text": [
      "b is not greater than a\n"
     ]
    }
   ],
   "source": [
    "a = 200\n",
    "b = 33\n",
    "\n",
    "if b > a:\n",
    "  print(\"b is greater than a\")\n",
    "else:\n",
    "  print(\"b is not greater than a\")"
   ]
  },
  {
   "cell_type": "markdown",
   "id": "a04f1c90-af91-48cc-ba5b-a734f02c257b",
   "metadata": {},
   "source": [
    "**Evaluate Values and Variables**  \n",
    "The bool() function allows you to evaluate any value, and give you True or False in return,\n",
    "\n",
    "**Example**  \n",
    "Evaluate a string and a number:"
   ]
  },
  {
   "cell_type": "code",
   "execution_count": 145,
   "id": "674d9a12-2967-4802-941e-0d396f6ef0b6",
   "metadata": {},
   "outputs": [
    {
     "name": "stdout",
     "output_type": "stream",
     "text": [
      "True\n",
      "True\n"
     ]
    }
   ],
   "source": [
    "print(bool(\"Hello\"))\n",
    "print(bool(15))"
   ]
  },
  {
   "cell_type": "markdown",
   "id": "b8d54e4f-1e3c-422c-a861-47e7cd1a4250",
   "metadata": {},
   "source": [
    "**Example**  \n",
    "Evaluate two variables:"
   ]
  },
  {
   "cell_type": "code",
   "execution_count": 146,
   "id": "445f326a-673e-46cc-b780-5388977d026a",
   "metadata": {},
   "outputs": [
    {
     "name": "stdout",
     "output_type": "stream",
     "text": [
      "True\n",
      "True\n"
     ]
    }
   ],
   "source": [
    "x = \"Hello\"\n",
    "y = 15\n",
    "\n",
    "print(bool(x))\n",
    "print(bool(y))"
   ]
  },
  {
   "cell_type": "markdown",
   "id": "2e7756c7-db97-4625-9fb9-efb2853ae011",
   "metadata": {},
   "source": [
    "**Most Values are True**  \n",
    "Almost any value is evaluated to True if it has some sort of content.  \n",
    "Any string is True, except empty strings.  \n",
    "Any number is True, except 0.  \n",
    "Any list, tuple, set, and dictionary are True, except empty ones.\n",
    "\n",
    "**Example** \n",
    "The following will return True:"
   ]
  },
  {
   "cell_type": "code",
   "execution_count": 147,
   "id": "e8729612-0364-456e-8a85-0fd1d971b9a7",
   "metadata": {},
   "outputs": [
    {
     "data": {
      "text/plain": [
       "True"
      ]
     },
     "execution_count": 147,
     "metadata": {},
     "output_type": "execute_result"
    }
   ],
   "source": [
    "bool(\"abc\")\n",
    "bool(123)\n",
    "bool([\"apple\", \"cherry\", \"banana\"])"
   ]
  },
  {
   "cell_type": "markdown",
   "id": "e7b51f11-fd9c-4cb0-9b16-fe858578a2c5",
   "metadata": {},
   "source": [
    "**Some Values are False**  \n",
    "In fact, there are not many values that evaluate to False, except empty values, such as (), [], {}, \"\", the number 0, and the value None. And of course the value False evaluates to False.\n",
    "\n",
    "**Example**  \n",
    "The following will return False:"
   ]
  },
  {
   "cell_type": "code",
   "execution_count": 148,
   "id": "e3c2e0b7-ef96-4903-a90f-65c1d997dcc3",
   "metadata": {},
   "outputs": [
    {
     "data": {
      "text/plain": [
       "False"
      ]
     },
     "execution_count": 148,
     "metadata": {},
     "output_type": "execute_result"
    }
   ],
   "source": [
    "bool(False)\n",
    "bool(None)\n",
    "bool(0)\n",
    "bool(\"\")\n",
    "bool(())\n",
    "bool([])\n",
    "bool({})"
   ]
  },
  {
   "cell_type": "markdown",
   "id": "3557324e-75d8-491c-a6f5-3dad1e9b1022",
   "metadata": {},
   "source": [
    "One more value, or object in this case, evaluates to False, and that is if you have an object that is made from a class with a __len__ function that returns 0 or False:  \n",
    "**Example**"
   ]
  },
  {
   "cell_type": "code",
   "execution_count": 149,
   "id": "6aac5937-e7eb-452c-ada2-9d5ff5dc757e",
   "metadata": {},
   "outputs": [
    {
     "name": "stdout",
     "output_type": "stream",
     "text": [
      "False\n"
     ]
    }
   ],
   "source": [
    "class myclass():\n",
    "  def __len__(self):\n",
    "    return 0\n",
    "\n",
    "myobj = myclass()\n",
    "print(bool(myobj))"
   ]
  },
  {
   "cell_type": "markdown",
   "id": "ea57b6d0-1d63-4c7e-9e97-056b217094ad",
   "metadata": {},
   "source": [
    "**Functions can Return a Boolean**  \n",
    "You can create functions that returns a Boolean Value:\n",
    "\n",
    "**Example**  \n",
    "Print the answer of a function:"
   ]
  },
  {
   "cell_type": "code",
   "execution_count": 151,
   "id": "57d33c6f-487c-42a9-8760-05553c5123d9",
   "metadata": {},
   "outputs": [
    {
     "name": "stdout",
     "output_type": "stream",
     "text": [
      "True\n"
     ]
    }
   ],
   "source": [
    "def myFunction() :\n",
    "  return True\n",
    "\n",
    "print(myFunction())"
   ]
  },
  {
   "cell_type": "markdown",
   "id": "2136e575-73c9-4539-aa7a-358006138d65",
   "metadata": {},
   "source": [
    "You can execute code based on the Boolean answer of a function:  \n",
    "**Example**  \n",
    "Print \"YES!\" if the function returns True, otherwise print \"NO!\":"
   ]
  },
  {
   "cell_type": "code",
   "execution_count": 152,
   "id": "83fd17eb-e812-42ea-84bc-d3f92c736f01",
   "metadata": {},
   "outputs": [
    {
     "name": "stdout",
     "output_type": "stream",
     "text": [
      "YES!\n"
     ]
    }
   ],
   "source": [
    "def myFunction() :\n",
    "  return True\n",
    "\n",
    "if myFunction():\n",
    "  print(\"YES!\")\n",
    "else:\n",
    "  print(\"NO!\")"
   ]
  },
  {
   "cell_type": "markdown",
   "id": "c1223c85-78ea-4715-88ac-60d6a7c441cd",
   "metadata": {},
   "source": [
    "Python also has many built-in functions that return a boolean value, like the isinstance() function, which can be used to determine if an object is of a certain data type:  \n",
    "**Example**  \n",
    "Check if an object is an integer or not:"
   ]
  },
  {
   "cell_type": "code",
   "execution_count": 153,
   "id": "e54cc294-abe9-43f0-9ddb-ac91fb3f6bbe",
   "metadata": {},
   "outputs": [
    {
     "name": "stdout",
     "output_type": "stream",
     "text": [
      "True\n"
     ]
    }
   ],
   "source": [
    "x = 200\n",
    "print(isinstance(x, int))"
   ]
  },
  {
   "cell_type": "markdown",
   "id": "de231c89-071d-4d55-8775-14936e59c43e",
   "metadata": {
    "jp-MarkdownHeadingCollapsed": true
   },
   "source": [
    "# Python Operators"
   ]
  },
  {
   "cell_type": "markdown",
   "id": "e2172d79-ba38-4f80-86cf-1a8294626fb8",
   "metadata": {},
   "source": [
    "Operators are used to perform operations on variables and values.\n",
    "\n",
    "In the example below, we use the + operator to add together two values:  \n",
    "**Example**  "
   ]
  },
  {
   "cell_type": "code",
   "execution_count": 155,
   "id": "febfb634-e76c-42bb-9159-d23597423486",
   "metadata": {},
   "outputs": [
    {
     "name": "stdout",
     "output_type": "stream",
     "text": [
      "15\n"
     ]
    }
   ],
   "source": [
    "print(10 + 5)"
   ]
  },
  {
   "cell_type": "markdown",
   "id": "2c230acc-8efd-4829-8ae0-b26ad413df87",
   "metadata": {},
   "source": [
    "Python divides the operators in the following groups:\n",
    ">•\tArithmetic operators  \n",
    "•\tAssignment operators  \n",
    "•\tComparison operators  \n",
    "•\tLogical operators  \n",
    "•\tIdentity operators  \n",
    "•\tMembership operators  \n",
    "•\tBitwise operators  "
   ]
  },
  {
   "cell_type": "markdown",
   "id": "0b63439d-cec1-4954-9f91-3d2a75eca080",
   "metadata": {},
   "source": [
    "## Arithmetic Operators"
   ]
  },
  {
   "cell_type": "markdown",
   "id": "d51e2847-1d0f-4237-b74d-d8259a31e219",
   "metadata": {},
   "source": [
    "Arithmetic operators are used with numeric values to perform common mathematical operations:  "
   ]
  },
  {
   "cell_type": "markdown",
   "id": "3900fe65-4621-4d2d-abfd-4e77744d2259",
   "metadata": {},
   "source": [
    "| Operator | Name           | Example  |\n",
    "| -------- | -------------- | -------- |\n",
    "| +        | Addition       | x + y    |\n",
    "| \\-       | Subtraction    | x - y    |\n",
    "| \\*       | Multiplication | x \\* y   |\n",
    "| /        | Division       | x / y    |\n",
    "| %        | Modulus        | x % y    |\n",
    "| \\*\\*     | Exponentiation | x \\*\\* y |\n",
    "| //       | Floor division | x // y   |"
   ]
  },
  {
   "cell_type": "code",
   "execution_count": 161,
   "id": "af64ae8f-e749-408d-93f6-9322bb1f1f9e",
   "metadata": {},
   "outputs": [
    {
     "name": "stdout",
     "output_type": "stream",
     "text": [
      "32\n"
     ]
    }
   ],
   "source": [
    "x = 2\n",
    "y = 5\n",
    "print(x ** y) #same as 2*2*2*2*2"
   ]
  },
  {
   "cell_type": "code",
   "execution_count": 162,
   "id": "cd489245-5a15-4d39-a73a-33f67b01c63c",
   "metadata": {},
   "outputs": [
    {
     "name": "stdout",
     "output_type": "stream",
     "text": [
      "7\n"
     ]
    }
   ],
   "source": [
    "x = 15\n",
    "y = 2\n",
    "print(x // y)\n",
    "#the floor division // rounds the result down to the nearest whole number"
   ]
  },
  {
   "cell_type": "markdown",
   "id": "7f9f4c98-22f5-4f82-9d55-40b5cd0f812f",
   "metadata": {},
   "source": [
    "## Comparison Operators"
   ]
  },
  {
   "cell_type": "markdown",
   "id": "7bb6fff4-5161-4236-acbe-87082075ac34",
   "metadata": {},
   "source": [
    "Comparison operators are used to compare two values:  \n",
    "| Operator | Name                     | Example |\n",
    "| -------- | ------------------------ | ------- |\n",
    "| \\==      | Equal                    | x == y  |\n",
    "| !=       | Not equal                | x != y  |\n",
    "| \\>       | Greater than             | x > y   |\n",
    "| <        | Less than                | x < y   |\n",
    "| \\>=      | Greater than or equal to | x >= y  |\n",
    "| <=       | Less than or equal to    | x <= y  |"
   ]
  },
  {
   "cell_type": "code",
   "execution_count": 169,
   "id": "13b2c890-24ba-4a60-95db-9847382a21b9",
   "metadata": {},
   "outputs": [
    {
     "name": "stdout",
     "output_type": "stream",
     "text": [
      "False\n"
     ]
    }
   ],
   "source": [
    "x = 5\n",
    "y = 3\n",
    "print(x == y)\n",
    "# returns False because 5 is not equal to 3"
   ]
  },
  {
   "cell_type": "markdown",
   "id": "fe95065f-e0dc-4e63-8a23-5e56e5b1bfa9",
   "metadata": {},
   "source": [
    "## Logical Operators"
   ]
  },
  {
   "cell_type": "markdown",
   "id": "7bd90f3c-e429-419a-b00d-571095eb09f5",
   "metadata": {},
   "source": [
    "Logical operators are used to combine conditional statements:\n",
    "| Operator | Description                                             | Example               |\n",
    "| -------- | ------------------------------------------------------- | --------------------- |\n",
    "| and      | Returns True if both statements are true                | x < 5 and  x < 10     |\n",
    "| or       | Returns True if one of the statements is true           | x < 5 or x < 4        |\n",
    "| not      | Reverse the result, returns False if the result is true | not(x < 5 and x < 10) |"
   ]
  },
  {
   "cell_type": "code",
   "execution_count": 170,
   "id": "586775e3-507a-473b-a7f4-32046ffe682f",
   "metadata": {},
   "outputs": [
    {
     "name": "stdout",
     "output_type": "stream",
     "text": [
      "True\n"
     ]
    }
   ],
   "source": [
    "x = 5\n",
    "print(x > 3 and x < 10)\n",
    "# returns True because 5 is greater than 3 AND 5 is less than 10"
   ]
  },
  {
   "cell_type": "code",
   "execution_count": 171,
   "id": "236c4616-c847-4752-b5c1-70e19a5d8242",
   "metadata": {},
   "outputs": [
    {
     "name": "stdout",
     "output_type": "stream",
     "text": [
      "True\n"
     ]
    }
   ],
   "source": [
    "x = 5\n",
    "print(x > 3 or x < 4)\n",
    "# returns True because one of the conditions are true (5 is greater than 3, but 5 is not less than 4)"
   ]
  },
  {
   "cell_type": "code",
   "execution_count": 172,
   "id": "fc8cfb65-a987-4621-b164-0e5140597fe0",
   "metadata": {},
   "outputs": [
    {
     "name": "stdout",
     "output_type": "stream",
     "text": [
      "False\n"
     ]
    }
   ],
   "source": [
    "x = 5\n",
    "print(not(x > 3 and x < 10))\n",
    "# returns False because not is used to reverse the result"
   ]
  },
  {
   "cell_type": "markdown",
   "id": "aedf12ae-5913-43db-b3f2-844e1b49965e",
   "metadata": {},
   "source": [
    "## Identity Operators"
   ]
  },
  {
   "cell_type": "markdown",
   "id": "4b1e85c0-6472-4b30-a928-2133757136cd",
   "metadata": {},
   "source": [
    "Identity operators are used to compare the objects, not if they are equal, but if they are actually the same object, with the same memory location:  \n",
    "| Operator | Description                                            | Example    |\n",
    "| -------- | ------------------------------------------------------ | ---------- |\n",
    "| is       | Returns True if both variables are the same object     | x is y     |\n",
    "| is not   | Returns True if both variables are not the same object | x is not y |"
   ]
  },
  {
   "cell_type": "code",
   "execution_count": 174,
   "id": "bbb58d77-0f05-40b8-af61-1a86a48b9645",
   "metadata": {},
   "outputs": [
    {
     "name": "stdout",
     "output_type": "stream",
     "text": [
      "True\n",
      "False\n",
      "True\n",
      "False\n",
      "True\n",
      "False\n"
     ]
    }
   ],
   "source": [
    "x = [\"apple\", \"banana\"]\n",
    "y = [\"apple\", \"banana\"]\n",
    "z = x\n",
    "print(x is z)\n",
    "# returns True because z is the same object as x\n",
    "print(x is y)\n",
    "# returns False because x is not the same object as y, even if they have the same content\n",
    "print(x == y)\n",
    "# to demonstrate the difference betweeen \"is\" and \"==\": this comparison returns True because x is equal to y\n",
    "print(x is not z)\n",
    "# returns False because z is the same object as x\n",
    "print(x is not y)\n",
    "# returns True because x is not the same object as y, even if they have the same content\n",
    "print(x != y)\n",
    "# to demonstrate the difference betweeen \"is not\" and \"!=\": this comparison returns False because x is equal to y"
   ]
  },
  {
   "cell_type": "markdown",
   "id": "e697615a-8df6-4905-a2d7-0d036f1576b3",
   "metadata": {},
   "source": [
    "## Membership Operators"
   ]
  },
  {
   "cell_type": "markdown",
   "id": "14089f93-6141-44ff-9868-8ce8bb50bd4e",
   "metadata": {},
   "source": [
    "Membership operators are used to test if a sequence is presented in an object:  \n",
    "| Operator | Description                                                                      | Example    |\n",
    "| -------- | -------------------------------------------------------------------------------- | ---------- |\n",
    "| in       | Returns True if a sequence with the specified value is present in the object     | x in y     |\n",
    "| not in   | Returns True if a sequence with the specified value is not present in the object | x not in y |"
   ]
  },
  {
   "cell_type": "code",
   "execution_count": 175,
   "id": "21161a57-3c3e-420e-a0a0-b3fddc5e31fd",
   "metadata": {},
   "outputs": [
    {
     "name": "stdout",
     "output_type": "stream",
     "text": [
      "True\n",
      "True\n"
     ]
    }
   ],
   "source": [
    "x = [\"apple\", \"banana\"]\n",
    "print(\"banana\" in x)\n",
    "# returns True because a sequence with the value \"banana\" is in the list\n",
    "print(\"pineapple\" not in x)\n",
    "# returns True because a sequence with the value \"pineapple\" is not in the list"
   ]
  },
  {
   "cell_type": "markdown",
   "id": "a84601ed-60b8-49c5-9662-f71f97203301",
   "metadata": {},
   "source": [
    "## Bitwise Operators"
   ]
  },
  {
   "cell_type": "markdown",
   "id": "35423475-a060-4bc8-bc51-952268372603",
   "metadata": {},
   "source": [
    "Bitwise operators are used to compare (binary) numbers:  \n",
    "| Operator | Name                 | Description                                                                                             | Example |\n",
    "| -------- | -------------------- | ------------------------------------------------------------------------------------------------------- | ------- |\n",
    "| &        | AND                  | Sets each bit to 1 if both bits are 1                                                                   | x & y   |\n",
    "| \\|       | OR                   | Sets each bit to 1 if one of two bits is 1                                                              | x \\| y  |\n",
    "| ^        | XOR                  | Sets each bit to 1 if only one of two bits is 1                                                         | x ^ y   |\n",
    "| ~        | NOT                  | Inverts all the bits                                                                                    | ~x      |\n",
    "| <<       | Zero fill left shift | Shift left by pushing zeros in from the right and let the leftmost bits fall off                        | x << 2  |\n",
    "| \\>>      | Signed right shift   | Shift right by pushing copies of the leftmost bit in from the left, and let the rightmost bits fall off | x >> 2  |"
   ]
  },
  {
   "cell_type": "code",
   "execution_count": 186,
   "id": "c35437ba-b1ac-4be3-a31e-746bc3011002",
   "metadata": {},
   "outputs": [
    {
     "name": "stdout",
     "output_type": "stream",
     "text": [
      "2\n"
     ]
    }
   ],
   "source": [
    "\"\"\"\n",
    "The & operator compares each bit and set it to 1 if both are 1, otherwise it is set to 0:\n",
    "\n",
    "6 = 0000000000000110\n",
    "3 = 0000000000000011\n",
    "--------------------\n",
    "2 = 0000000000000010\n",
    "====================\n",
    "\n",
    "Decimal numbers and their binary values:\n",
    "0 = 0000000000000000\n",
    "1 = 0000000000000001\n",
    "2 = 0000000000000010\n",
    "3 = 0000000000000011\n",
    "4 = 0000000000000100\n",
    "5 = 0000000000000101\n",
    "6 = 0000000000000110\n",
    "7 = 0000000000000111\n",
    "\"\"\"\n",
    "\n",
    "print(6 & 3)"
   ]
  },
  {
   "cell_type": "code",
   "execution_count": 187,
   "id": "6b371284-6703-426a-ac01-613ce58c1b37",
   "metadata": {},
   "outputs": [
    {
     "name": "stdout",
     "output_type": "stream",
     "text": [
      "7\n"
     ]
    }
   ],
   "source": [
    "\"\"\"\n",
    "The | operator compares each bit and set it to 1 if one or both is 1, otherwise it is set to 0:\n",
    "\n",
    "6 = 0000000000000110\n",
    "3 = 0000000000000011\n",
    "--------------------\n",
    "7 = 0000000000000111\n",
    "====================\n",
    "\n",
    "Decimal numbers and their binary values:\n",
    "0 = 0000000000000000\n",
    "1 = 0000000000000001\n",
    "2 = 0000000000000010\n",
    "3 = 0000000000000011\n",
    "4 = 0000000000000100\n",
    "5 = 0000000000000101\n",
    "6 = 0000000000000110\n",
    "7 = 0000000000000111\n",
    "\"\"\"\n",
    "print(6 | 3)"
   ]
  },
  {
   "cell_type": "code",
   "execution_count": 188,
   "id": "a7412496-5628-4861-854d-293d08cc135f",
   "metadata": {},
   "outputs": [
    {
     "name": "stdout",
     "output_type": "stream",
     "text": [
      "5\n"
     ]
    }
   ],
   "source": [
    "\"\"\"\n",
    "The ^ operator compares each bit and set it to 1 if only one is 1, otherwise (if both are 1 or both are 0) it is set to 0:\n",
    "\n",
    "6 = 0000000000000110\n",
    "3 = 0000000000000011\n",
    "--------------------\n",
    "5 = 0000000000000101\n",
    "====================\n",
    "\n",
    "Decimal numbers and their binary values:\n",
    "0 = 0000000000000000\n",
    "1 = 0000000000000001\n",
    "2 = 0000000000000010\n",
    "3 = 0000000000000011\n",
    "4 = 0000000000000100\n",
    "5 = 0000000000000101\n",
    "6 = 0000000000000110\n",
    "7 = 0000000000000111\n",
    "\"\"\"\n",
    "\n",
    "print(6 ^ 3)"
   ]
  },
  {
   "cell_type": "code",
   "execution_count": 189,
   "id": "faa5c39e-14da-4554-9529-85b6166b92ab",
   "metadata": {},
   "outputs": [
    {
     "name": "stdout",
     "output_type": "stream",
     "text": [
      "-4\n"
     ]
    }
   ],
   "source": [
    "\"\"\"\n",
    "The ~ operator inverts each bit (0 becomes 1 and 1 becomes 0).\n",
    "\n",
    "Inverted 3 becomes -4:\n",
    " 3 = 0000000000000011\n",
    "-4 = 1111111111111100\n",
    "\n",
    "Decimal numbers and their binary values:\n",
    " 4 = 0000000000000100\n",
    " 3 = 0000000000000011\n",
    " 2 = 0000000000000010\n",
    " 1 = 0000000000000001\n",
    " 0 = 0000000000000000\n",
    "-1 = 1111111111111111\n",
    "-2 = 1111111111111110\n",
    "-3 = 1111111111111101\n",
    "-4 = 1111111111111100\n",
    "\"\"\"\n",
    "\n",
    "print(~3)"
   ]
  },
  {
   "cell_type": "code",
   "execution_count": 190,
   "id": "d979039f-474b-4e60-a525-685ba0360a32",
   "metadata": {},
   "outputs": [
    {
     "name": "stdout",
     "output_type": "stream",
     "text": [
      "12\n"
     ]
    }
   ],
   "source": [
    "\"\"\"\n",
    "The << operator inserts the specified number of 0's (in this case 2) from the right and let the same amount of leftmost bits fall off:\n",
    "\n",
    "If you push 00 in from the left:\n",
    " 3 = 0000000000000011\n",
    "becomes\n",
    "12 = 0000000000001100\n",
    "\n",
    "Decimal numbers and their binary values:\n",
    " 0 = 0000000000000000\n",
    " 1 = 0000000000000001\n",
    " 2 = 0000000000000010\n",
    " 3 = 0000000000000011\n",
    " 4 = 0000000000000100\n",
    " 5 = 0000000000000101\n",
    " 6 = 0000000000000110\n",
    " 7 = 0000000000000111\n",
    " 8 = 0000000000001000\n",
    " 9 = 0000000000001001\n",
    "10 = 0000000000001010\n",
    "11 = 0000000000001011\n",
    "12 = 0000000000001100\n",
    "\"\"\"\n",
    "\n",
    "print(3 << 2)"
   ]
  },
  {
   "cell_type": "code",
   "execution_count": 191,
   "id": "81d5d694-422d-4ea1-8ad2-4c35429803db",
   "metadata": {},
   "outputs": [
    {
     "name": "stdout",
     "output_type": "stream",
     "text": [
      "2\n"
     ]
    }
   ],
   "source": [
    "\"\"\"\n",
    "The >> operator moves each bit the specified number of times to the right. Empty holes at the left are filled with 0's.\n",
    "\n",
    "If you move each bit 2 times to the right, 8 becomes 2:\n",
    " 8 = 0000000000001000\n",
    "becomes\n",
    " 2 = 0000000000000010\n",
    "\n",
    "Decimal numbers and their binary values:\n",
    " 0 = 0000000000000000\n",
    " 1 = 0000000000000001\n",
    " 2 = 0000000000000010\n",
    " 3 = 0000000000000011\n",
    " 4 = 0000000000000100\n",
    " 5 = 0000000000000101\n",
    " 6 = 0000000000000110\n",
    " 7 = 0000000000000111\n",
    " 8 = 0000000000001000\n",
    " 9 = 0000000000001001\n",
    "10 = 0000000000001010\n",
    "11 = 0000000000001011\n",
    "12 = 0000000000001100\n",
    "\"\"\"\n",
    "\n",
    "print(8 >> 2)"
   ]
  },
  {
   "cell_type": "markdown",
   "id": "3e0e0142-276a-444e-9746-c963b78d39ea",
   "metadata": {},
   "source": [
    "## Assignment Operators"
   ]
  },
  {
   "cell_type": "markdown",
   "id": "59484f5e-ce5f-43c6-8ef3-5e5a39bc3cf5",
   "metadata": {},
   "source": [
    "Assignment operators are used to assign values to variables:  \n",
    "| Operator | Example       | Same As      |\n",
    "| -------- | ------------- | ------------ |\n",
    "| \\=       | x = 5         | x = 5        |\n",
    "| +=       | x += 3        | x = x + 3    |\n",
    "| \\-=      | x -= 3        | x = x - 3    |\n",
    "| \\*=      | x \\*= 3       | x = x \\* 3   |\n",
    "| /=       | x /= 3        | x = x / 3    |\n",
    "| %=       | x %= 3        | x = x % 3    |\n",
    "| //=      | x //= 3       | x = x // 3   |\n",
    "| \\*\\*=    | x \\*\\*= 3     | x = x \\*\\* 3 |\n",
    "| &=       | x &= 3        | x = x & 3    |\n",
    "| \\|=      | x \\|= 3       | x = x \\| 3   |\n",
    "| ^=       | x ^= 3        | x = x ^ 3    |\n",
    "| \\>>=     | x >>= 3       | x = x >> 3   |\n",
    "| <<=      | x <<= 3       | x = x << 3   |\n",
    "| :=       | print(x := 3) | x = 3        |\n",
    "|          |               | print(x)     |"
   ]
  },
  {
   "cell_type": "code",
   "execution_count": 163,
   "id": "845a73bd-1cf2-4995-8d9e-8eb0409ad025",
   "metadata": {},
   "outputs": [
    {
     "name": "stdout",
     "output_type": "stream",
     "text": [
      "1\n"
     ]
    }
   ],
   "source": [
    "x = 5\n",
    "x &= 3\n",
    "print(x)"
   ]
  },
  {
   "cell_type": "code",
   "execution_count": 164,
   "id": "ebaf98aa-6a3b-40e5-a023-3e9e9ed8dc35",
   "metadata": {},
   "outputs": [
    {
     "name": "stdout",
     "output_type": "stream",
     "text": [
      "7\n"
     ]
    }
   ],
   "source": [
    "x = 5\n",
    "x |= 3\n",
    "print(x)"
   ]
  },
  {
   "cell_type": "code",
   "execution_count": 165,
   "id": "afab7249-244c-4db8-a8d3-467ac674cc8b",
   "metadata": {},
   "outputs": [
    {
     "name": "stdout",
     "output_type": "stream",
     "text": [
      "6\n"
     ]
    }
   ],
   "source": [
    "x = 5\n",
    "x ^= 3\n",
    "print(x)"
   ]
  },
  {
   "cell_type": "code",
   "execution_count": 166,
   "id": "5ee64fca-0dbb-4a81-8422-06e1c28119f1",
   "metadata": {},
   "outputs": [
    {
     "name": "stdout",
     "output_type": "stream",
     "text": [
      "0\n"
     ]
    }
   ],
   "source": [
    "x = 5\n",
    "x >>= 3\n",
    "print(x)"
   ]
  },
  {
   "cell_type": "code",
   "execution_count": 167,
   "id": "50aa8943-f068-4d5a-a181-d7faf8850f58",
   "metadata": {},
   "outputs": [
    {
     "name": "stdout",
     "output_type": "stream",
     "text": [
      "40\n"
     ]
    }
   ],
   "source": [
    "x = 5\n",
    "x <<= 3\n",
    "print(x)"
   ]
  },
  {
   "cell_type": "code",
   "execution_count": 168,
   "id": "e63e2e04-3fb6-4b9b-b99f-5146f75e4b74",
   "metadata": {},
   "outputs": [
    {
     "name": "stdout",
     "output_type": "stream",
     "text": [
      "3\n"
     ]
    }
   ],
   "source": [
    "print(x := 3)"
   ]
  },
  {
   "cell_type": "markdown",
   "id": "9fbb13b4-2670-4665-9703-d43976b48f36",
   "metadata": {},
   "source": [
    "## Operator Precedence"
   ]
  },
  {
   "cell_type": "markdown",
   "id": "90a75810-3ea3-425c-88d8-90adb8ea66d6",
   "metadata": {},
   "source": [
    "Operator precedence describes the order in which operations are performed.\n",
    "\n",
    "**Example**  \n",
    "Parentheses has the highest precedence, meaning that expressions inside parentheses must be evaluated first:"
   ]
  },
  {
   "cell_type": "code",
   "execution_count": 157,
   "id": "3ac79fa2-8ab1-4439-b5e0-108a6c708fb9",
   "metadata": {},
   "outputs": [
    {
     "name": "stdout",
     "output_type": "stream",
     "text": [
      "0\n"
     ]
    }
   ],
   "source": [
    "print((6 + 3) - (6 + 3))"
   ]
  },
  {
   "cell_type": "markdown",
   "id": "f98f4430-1832-46c4-904d-9d130e90c4b3",
   "metadata": {},
   "source": [
    "Multiplication * has higher precedence than addition +, and therefor multiplications are evaluated before additions:"
   ]
  },
  {
   "cell_type": "code",
   "execution_count": 158,
   "id": "3e23e450-aa35-4bfd-8671-ce72821f4ac9",
   "metadata": {},
   "outputs": [
    {
     "name": "stdout",
     "output_type": "stream",
     "text": [
      "115\n"
     ]
    }
   ],
   "source": [
    "print(100 + 5 * 3)"
   ]
  },
  {
   "cell_type": "markdown",
   "id": "83c01a45-1ce5-476c-8371-88322093078d",
   "metadata": {},
   "source": [
    "The precedence order is described in the table below, starting with the highest precedence at the top:  \n",
    "| Operator                                      | Description                                           |\n",
    "| --------------------------------------------- | ----------------------------------------------------- |\n",
    "| ()                                            | Parentheses                                           |\n",
    "| \\*\\*                                          | Exponentiation                                        |\n",
    "| +x  -x  ~x                                    | Unary plus, unary minus, and bitwise NOT              |\n",
    "| \\*  /  //  %                                  | Multiplication, division, floor division, and modulus |\n",
    "| +  -                                          | Addition and subtraction                              |\n",
    "| <<  >>                                        | Bitwise left and right shifts                         |\n",
    "| &                                             | Bitwise AND                                           |\n",
    "| ^                                             | Bitwise XOR                                           |\n",
    "| \\|                                            | Bitwise OR                                            |\n",
    "| \\==  !=  >  >=  <  <=  is  is not  in  not in | Comparisons, identity, and membership operators       |\n",
    "| not                                           | Logical NOT                                           |\n",
    "| and                                           | AND                                                   |\n",
    "| or                                            | OR                                                    |"
   ]
  },
  {
   "cell_type": "code",
   "execution_count": 159,
   "id": "b33c3506-c8f2-4cc5-80f3-e3a9e8dc1acd",
   "metadata": {},
   "outputs": [
    {
     "name": "stdout",
     "output_type": "stream",
     "text": [
      "5\n"
     ]
    }
   ],
   "source": [
    "print(5 + 4 - 7 + 3)"
   ]
  },
  {
   "cell_type": "code",
   "execution_count": 193,
   "id": "ed63cf83-98ac-4de1-afe5-bdc28283ba73",
   "metadata": {},
   "outputs": [
    {
     "name": "stdout",
     "output_type": "stream",
     "text": [
      "115\n"
     ]
    }
   ],
   "source": [
    "\"\"\"\n",
    "Multiplication has higher precedence than addition, and needs to be evaluated first.\n",
    "The calculation above reads 100 + 15 = 115\n",
    "\"\"\"\n",
    "print(100 + 5 * 3)"
   ]
  },
  {
   "cell_type": "code",
   "execution_count": 194,
   "id": "30fb9842-f294-459c-8d8c-17c790db1926",
   "metadata": {},
   "outputs": [
    {
     "name": "stdout",
     "output_type": "stream",
     "text": [
      "96\n"
     ]
    }
   ],
   "source": [
    "\"\"\"\n",
    "Bitwise NOT has higher precedence than addition, and needs to be evaluated first.\n",
    "The calculation above reads 100 + -4 = 96\n",
    "\"\"\"\n",
    "print(100 + ~3)"
   ]
  },
  {
   "cell_type": "markdown",
   "id": "7554cf82-e925-4a88-a5af-dddc4bc693e9",
   "metadata": {
    "jp-MarkdownHeadingCollapsed": true
   },
   "source": [
    "# Python Lists"
   ]
  },
  {
   "cell_type": "markdown",
   "id": "c20868ef-7e2c-4c52-a9f0-81e777e730a1",
   "metadata": {},
   "source": [
    "## Lists:"
   ]
  },
  {
   "cell_type": "markdown",
   "id": "968b173d-795f-4845-882e-db7415a2902f",
   "metadata": {},
   "source": [
    "Lists are used to store multiple items in a single variable.  \n",
    "Lists are one of 4 built-in data types in Python used to store collections of data, the other 3 are Tuple, Set, and Dictionary, all with different qualities and usage.  \n",
    "Lists are created using square brackets:\n",
    "\n",
    "**Example**  \n",
    "Create a List:"
   ]
  },
  {
   "cell_type": "code",
   "execution_count": 1,
   "id": "125545f0-3197-4aa5-99a3-78703109c46d",
   "metadata": {},
   "outputs": [
    {
     "name": "stdout",
     "output_type": "stream",
     "text": [
      "['apple', 'banana', 'cherry']\n"
     ]
    }
   ],
   "source": [
    "thislist = [\"apple\", \"banana\", \"cherry\"]\n",
    "print(thislist)"
   ]
  },
  {
   "cell_type": "markdown",
   "id": "bc9d8c05-da3c-45b8-818e-22fe1c651cae",
   "metadata": {},
   "source": [
    "**List Items**  \n",
    "List items are ordered, changeable, and allow duplicate values.\n",
    "\n",
    "List items are indexed, the first item has index [0], the second item has index [1] etc.\n",
    "\n",
    "**Ordered**  \n",
    "When we say that lists are ordered, it means that the items have a defined order, and that order will not change.\n",
    "\n",
    "If you add new items to a list, the new items will be placed at the end of the list.\n",
    "\n",
    ">Note: There are some list methods that will change the order, but in general: the order of the items will not change.\n",
    "\n",
    "**Changeable**  \n",
    "The list is changeable, meaning that we can change, add, and remove items in a list after it has been created.\n",
    "\n",
    "**Allow Duplicates**  \n",
    "Since lists are indexed, lists can have items with the same value:\n",
    "\n",
    "Example\n",
    "Lists allow duplicate values:"
   ]
  },
  {
   "cell_type": "code",
   "execution_count": 3,
   "id": "89010210-8687-4406-b44f-730c90c748b1",
   "metadata": {},
   "outputs": [
    {
     "name": "stdout",
     "output_type": "stream",
     "text": [
      "['apple', 'banana', 'cherry', 'apple', 'cherry']\n"
     ]
    }
   ],
   "source": [
    "thislist = [\"apple\", \"banana\", \"cherry\", \"apple\", \"cherry\"]\n",
    "print(thislist)"
   ]
  },
  {
   "cell_type": "markdown",
   "id": "750a1bc2-b2a8-4417-a038-9a8ef92d96c6",
   "metadata": {},
   "source": [
    "**List Length**  \n",
    "To determine how many items a list has, use the len() function:\n",
    "\n",
    "**Example**  \n",
    "Print the number of items in the list:"
   ]
  },
  {
   "cell_type": "code",
   "execution_count": 5,
   "id": "a7875f51-3144-40a1-b540-a7f3d89071f3",
   "metadata": {},
   "outputs": [
    {
     "name": "stdout",
     "output_type": "stream",
     "text": [
      "3\n"
     ]
    }
   ],
   "source": [
    "thislist = [\"apple\", \"banana\", \"cherry\"]\n",
    "print(len(thislist))"
   ]
  },
  {
   "cell_type": "markdown",
   "id": "b047b6d0-1cfe-4a17-8e1e-2e08591a40e6",
   "metadata": {},
   "source": [
    "**List Items - Data Types**  \n",
    "List items can be of any data type:\n",
    "\n",
    "**Example**  \n",
    "String, int and boolean data types:"
   ]
  },
  {
   "cell_type": "code",
   "execution_count": 7,
   "id": "180d97da-a363-400b-b4ec-6cded57fb563",
   "metadata": {},
   "outputs": [],
   "source": [
    "list1 = [\"apple\", \"banana\", \"cherry\"]\n",
    "list2 = [1, 5, 7, 9, 3]\n",
    "list3 = [True, False, False]"
   ]
  },
  {
   "cell_type": "markdown",
   "id": "84b76a74-44a0-4795-9c7a-7ffc5cdf67fd",
   "metadata": {},
   "source": [
    "A list can contain different data types:\n",
    "\n",
    "**Example**  \n",
    "A list with strings, integers and boolean values:"
   ]
  },
  {
   "cell_type": "code",
   "execution_count": 8,
   "id": "90998277-57ad-4a8f-8443-e12d917717b3",
   "metadata": {},
   "outputs": [],
   "source": [
    "list1 = [\"abc\", 34, True, 40, \"male\"]"
   ]
  },
  {
   "cell_type": "markdown",
   "id": "4bf11596-b634-41b2-ba6f-54fc8b035483",
   "metadata": {},
   "source": [
    "**type()**  \n",
    "From Python's perspective, lists are defined as objects with the data type 'list':\n",
    "\n",
    "<class 'list'>\n",
    "**Example**  \n",
    "What is the data type of a list?"
   ]
  },
  {
   "cell_type": "code",
   "execution_count": 9,
   "id": "51abc085-f8db-4aa5-9ef5-cedb467ebdc4",
   "metadata": {},
   "outputs": [
    {
     "name": "stdout",
     "output_type": "stream",
     "text": [
      "<class 'list'>\n"
     ]
    }
   ],
   "source": [
    "mylist = [\"apple\", \"banana\", \"cherry\"]\n",
    "print(type(mylist))"
   ]
  },
  {
   "cell_type": "markdown",
   "id": "d23b2b8e-ab30-475a-ad58-e70e33429967",
   "metadata": {},
   "source": [
    "**The list() Constructor**  \n",
    "It is also possible to use the list() constructor when creating a new list.\n",
    "\n",
    "**Example**  \n",
    "Using the list() constructor to make a List:"
   ]
  },
  {
   "cell_type": "code",
   "execution_count": 11,
   "id": "57c43358-642f-4064-879c-658ebfa5710a",
   "metadata": {},
   "outputs": [
    {
     "name": "stdout",
     "output_type": "stream",
     "text": [
      "['apple', 'banana', 'cherry']\n"
     ]
    }
   ],
   "source": [
    "thislist = list((\"apple\", \"banana\", \"cherry\")) # note the double round-brackets\n",
    "print(thislist)"
   ]
  },
  {
   "cell_type": "markdown",
   "id": "5173c711-628b-4bb2-a715-2105445f8119",
   "metadata": {},
   "source": [
    "## Access List Items"
   ]
  },
  {
   "cell_type": "markdown",
   "id": "25b7b43b-53a8-4614-b9bf-9473d500bd7e",
   "metadata": {},
   "source": [
    "List items are indexed and you can access them by referring to the index number:\n",
    "\n",
    "**Example**  \n",
    "Print the second item of the list:"
   ]
  },
  {
   "cell_type": "code",
   "execution_count": 12,
   "id": "8515a368-8976-4d2a-8fc1-00343a1bbfeb",
   "metadata": {},
   "outputs": [
    {
     "name": "stdout",
     "output_type": "stream",
     "text": [
      "banana\n"
     ]
    }
   ],
   "source": [
    "thislist = [\"apple\", \"banana\", \"cherry\"]\n",
    "print(thislist[1])"
   ]
  },
  {
   "cell_type": "markdown",
   "id": "c3955546-789c-42c9-9e5b-ce0256fb16da",
   "metadata": {},
   "source": [
    ">Note: The first item has index 0.\n",
    "\n",
    "Negative Indexing\n",
    "Negative indexing means start from the end\n",
    "\n",
    "-1 refers to the last item, -2 refers to the second last item etc.\n",
    "\n",
    "**Example**  \n",
    "Print the last item of the list:"
   ]
  },
  {
   "cell_type": "code",
   "execution_count": 13,
   "id": "eb52899f-188a-4624-875a-987da1ee3e19",
   "metadata": {},
   "outputs": [
    {
     "name": "stdout",
     "output_type": "stream",
     "text": [
      "cherry\n"
     ]
    }
   ],
   "source": [
    "thislist = [\"apple\", \"banana\", \"cherry\"]\n",
    "print(thislist[-1])"
   ]
  },
  {
   "cell_type": "markdown",
   "id": "51e06773-ba18-4d76-9829-60bf57d4d4e4",
   "metadata": {},
   "source": [
    "**Range of Indexes**  \n",
    "You can specify a range of indexes by specifying where to start and where to end the range.\n",
    "\n",
    "When specifying a range, the return value will be a new list with the specified items.\n",
    "\n",
    "**Example**  \n",
    "Return the third, fourth, and fifth item:"
   ]
  },
  {
   "cell_type": "code",
   "execution_count": 14,
   "id": "27c8b5a6-f526-43ef-bc77-ec31d9923875",
   "metadata": {},
   "outputs": [
    {
     "name": "stdout",
     "output_type": "stream",
     "text": [
      "['cherry', 'orange', 'kiwi']\n"
     ]
    }
   ],
   "source": [
    "thislist = [\"apple\", \"banana\", \"cherry\", \"orange\", \"kiwi\", \"melon\", \"mango\"]\n",
    "print(thislist[2:5])"
   ]
  },
  {
   "cell_type": "markdown",
   "id": "6d83b2c8-b46c-414a-bfc0-a81d049b6aa8",
   "metadata": {},
   "source": [
    ">Note: The search will start at index 2 (included) and end at index 5 (not included).\n",
    "\n",
    ">Remember that the first item has index 0.\n",
    "\n",
    "By leaving out the start value, the range will start at the first item:\n",
    "\n",
    "**Example**  \n",
    "This example returns the items from the beginning to, but NOT including, \"kiwi\":"
   ]
  },
  {
   "cell_type": "code",
   "execution_count": 16,
   "id": "eab4987d-0351-45bd-b114-342e6c7e7c0a",
   "metadata": {},
   "outputs": [
    {
     "name": "stdout",
     "output_type": "stream",
     "text": [
      "['apple', 'banana', 'cherry', 'orange']\n"
     ]
    }
   ],
   "source": [
    "thislist = [\"apple\", \"banana\", \"cherry\", \"orange\", \"kiwi\", \"melon\", \"mango\"]\n",
    "print(thislist[:4])"
   ]
  },
  {
   "cell_type": "markdown",
   "id": "d3d9f681-6408-4d80-879b-e60e9aaccc61",
   "metadata": {},
   "source": [
    "By leaving out the end value, the range will go on to the end of the list:\n",
    "\n",
    "**Example**  \n",
    "This example returns the items from \"cherry\" to the end:"
   ]
  },
  {
   "cell_type": "code",
   "execution_count": null,
   "id": "e2a143b1-8a70-43c3-822d-90ffded016d5",
   "metadata": {},
   "outputs": [],
   "source": [
    "thislist = [\"apple\", \"banana\", \"cherry\", \"orange\", \"kiwi\", \"melon\", \"mango\"]\n",
    "print(thislist[2:])"
   ]
  },
  {
   "cell_type": "markdown",
   "id": "94bc2676-67ec-47e9-a30c-451e19d259a5",
   "metadata": {},
   "source": [
    "**Range of Negative Indexes**  \n",
    "Specify negative indexes if you want to start the search from the end of the list:\n",
    "\n",
    "**Example**  \n",
    "This example returns the items from \"orange\" (-4) to, but NOT including \"mango\" (-1):"
   ]
  },
  {
   "cell_type": "code",
   "execution_count": null,
   "id": "e4815575-6341-4056-9203-53f93e7c975b",
   "metadata": {},
   "outputs": [],
   "source": [
    "thislist = [\"apple\", \"banana\", \"cherry\", \"orange\", \"kiwi\", \"melon\", \"mango\"]\n",
    "print(thislist[-4:-1])"
   ]
  },
  {
   "cell_type": "markdown",
   "id": "dfdfdce1-16c3-4cf7-a439-f0fcc74b8d27",
   "metadata": {},
   "source": [
    "**Check if Item Exists**  \n",
    "To determine if a specified item is present in a list use the in keyword:\n",
    "\n",
    "**Example**  \n",
    "Check if \"apple\" is present in the list:"
   ]
  },
  {
   "cell_type": "code",
   "execution_count": 20,
   "id": "0f116c76-565c-407b-9376-472399728274",
   "metadata": {},
   "outputs": [
    {
     "name": "stdout",
     "output_type": "stream",
     "text": [
      "Yes, 'apple' is in the fruits list\n"
     ]
    }
   ],
   "source": [
    "thislist = [\"apple\", \"banana\", \"cherry\"]\n",
    "if \"apple\" in thislist:\n",
    "  print(\"Yes, 'apple' is in the fruits list\")"
   ]
  },
  {
   "cell_type": "markdown",
   "id": "0c261f18-b1f7-435c-a51d-9df8faa185f9",
   "metadata": {},
   "source": [
    "## Change List Items"
   ]
  },
  {
   "cell_type": "markdown",
   "id": "c6a0ed31-8c45-4d1c-8f41-d06c12c482f3",
   "metadata": {},
   "source": [
    "To change the value of a specific item, refer to the index number:\n",
    "\n",
    "**Example**  \n",
    "Change the second item:"
   ]
  },
  {
   "cell_type": "code",
   "execution_count": 21,
   "id": "b34c8605-09f8-4d7d-ae39-6d2eef51cf54",
   "metadata": {},
   "outputs": [
    {
     "name": "stdout",
     "output_type": "stream",
     "text": [
      "['apple', 'blackcurrant', 'cherry']\n"
     ]
    }
   ],
   "source": [
    "thislist = [\"apple\", \"banana\", \"cherry\"]\n",
    "thislist[1] = \"blackcurrant\"\n",
    "print(thislist)"
   ]
  },
  {
   "cell_type": "markdown",
   "id": "a891f696-4511-4e07-aefb-e8ad78cff96b",
   "metadata": {},
   "source": [
    "**Change a Range of Item Values**  \n",
    "To change the value of items within a specific range, define a list with the new values, and refer to the range of index numbers where you want to insert the new values:\n",
    "\n",
    "**Example**  \n",
    "Change the values \"banana\" and \"cherry\" with the values \"blackcurrant\" and \"watermelon\":"
   ]
  },
  {
   "cell_type": "code",
   "execution_count": 22,
   "id": "6d1d4b8c-a4c0-44eb-b059-5c48ed9e68d2",
   "metadata": {},
   "outputs": [
    {
     "name": "stdout",
     "output_type": "stream",
     "text": [
      "['apple', 'blackcurrant', 'watermelon', 'orange', 'kiwi', 'mango']\n"
     ]
    }
   ],
   "source": [
    "thislist = [\"apple\", \"banana\", \"cherry\", \"orange\", \"kiwi\", \"mango\"]\n",
    "thislist[1:3] = [\"blackcurrant\", \"watermelon\"]\n",
    "print(thislist)"
   ]
  },
  {
   "cell_type": "markdown",
   "id": "8ca44545-1ad9-41c4-a3d5-ea64043fd341",
   "metadata": {},
   "source": [
    "If you insert more items than you replace, the new items will be inserted where you specified, and the remaining items will move accordingly:\n",
    "\n",
    "**Example**  \n",
    "Change the second value by replacing it with two new values:"
   ]
  },
  {
   "cell_type": "code",
   "execution_count": 23,
   "id": "c4ca85ec-d7d4-4b07-8761-dae2f1bd5398",
   "metadata": {},
   "outputs": [
    {
     "name": "stdout",
     "output_type": "stream",
     "text": [
      "['apple', 'blackcurrant', 'watermelon', 'cherry']\n"
     ]
    }
   ],
   "source": [
    "thislist = [\"apple\", \"banana\", \"cherry\"]\n",
    "thislist[1:2] = [\"blackcurrant\", \"watermelon\"]\n",
    "print(thislist)"
   ]
  },
  {
   "cell_type": "markdown",
   "id": "f1ae4c11-5ed5-435e-b404-09d2d328a158",
   "metadata": {},
   "source": [
    ">Note: The length of the list will change when the number of items inserted does not match the number of items replaced.\n",
    "\n",
    "If you insert less items than you replace, the new items will be inserted where you specified, and the remaining items will move accordingly:\n",
    "\n",
    "**Example**  \n",
    "Change the second and third value by replacing it with one value:"
   ]
  },
  {
   "cell_type": "code",
   "execution_count": 24,
   "id": "0ee925c9-9b1c-4dc8-93bf-85b24dc8e686",
   "metadata": {},
   "outputs": [
    {
     "name": "stdout",
     "output_type": "stream",
     "text": [
      "['apple', 'watermelon']\n"
     ]
    }
   ],
   "source": [
    "thislist = [\"apple\", \"banana\", \"cherry\"]\n",
    "thislist[1:3] = [\"watermelon\"]\n",
    "print(thislist)"
   ]
  },
  {
   "cell_type": "markdown",
   "id": "91fea6c0-ec92-4c54-a79c-02846805fff2",
   "metadata": {},
   "source": [
    "**Insert Items**  \n",
    "To insert a new list item, without replacing any of the existing values, we can use the insert() method.\n",
    "\n",
    "The insert() method inserts an item at the specified index:\n",
    "\n",
    "**Example**  \n",
    "Insert \"watermelon\" as the third item:"
   ]
  },
  {
   "cell_type": "code",
   "execution_count": 25,
   "id": "44832947-da89-40a8-826f-32aaafb57d17",
   "metadata": {},
   "outputs": [
    {
     "name": "stdout",
     "output_type": "stream",
     "text": [
      "['apple', 'banana', 'watermelon', 'cherry']\n"
     ]
    }
   ],
   "source": [
    "thislist = [\"apple\", \"banana\", \"cherry\"]\n",
    "thislist.insert(2, \"watermelon\")\n",
    "print(thislist)"
   ]
  },
  {
   "cell_type": "markdown",
   "id": "87c1f5b5-0f1a-494a-8eb4-0bcde60beaf5",
   "metadata": {},
   "source": [
    ">Note: As a result of the example above, the list will now contain 4 items."
   ]
  },
  {
   "cell_type": "markdown",
   "id": "e45b22b4-ad43-4190-8ee3-2f7d44951fc5",
   "metadata": {},
   "source": [
    "## Add List Items"
   ]
  },
  {
   "cell_type": "markdown",
   "id": "78856758-1e66-48cc-a751-db314ab1166f",
   "metadata": {},
   "source": [
    "To add an item to the end of the list, use the append() method:\n",
    "\n",
    "**Example**  \n",
    "Using the append() method to append an item:"
   ]
  },
  {
   "cell_type": "code",
   "execution_count": 27,
   "id": "81c2824c-9574-4ff9-bc26-6d5fa4f3a4a7",
   "metadata": {},
   "outputs": [
    {
     "name": "stdout",
     "output_type": "stream",
     "text": [
      "['apple', 'banana', 'cherry', 'orange']\n"
     ]
    }
   ],
   "source": [
    "thislist = [\"apple\", \"banana\", \"cherry\"]\n",
    "thislist.append(\"orange\")\n",
    "print(thislist)"
   ]
  },
  {
   "cell_type": "markdown",
   "id": "4d723a11-ffd6-45fb-b699-c3bc47888754",
   "metadata": {},
   "source": [
    "**Insert Items**  \n",
    "To insert a list item at a specified index, use the insert() method.\n",
    "\n",
    "The insert() method inserts an item at the specified index:\n",
    "\n",
    "**Example**  \n",
    "Insert an item as the second position:"
   ]
  },
  {
   "cell_type": "code",
   "execution_count": null,
   "id": "4f93e972-e532-4a60-9cdb-163a247eb576",
   "metadata": {},
   "outputs": [],
   "source": [
    "thislist = [\"apple\", \"banana\", \"cherry\"]\n",
    "thislist.insert(1, \"orange\")\n",
    "print(thislist)"
   ]
  },
  {
   "cell_type": "markdown",
   "id": "735a1a87-c0af-4bca-a22c-238afd4fbf65",
   "metadata": {},
   "source": [
    ">Note: As a result of the examples above, the lists will now contain 4 items.\n",
    "\n",
    "**Extend List**  \n",
    "To append elements from another list to the current list, use the extend() method.\n",
    "\n",
    "**Example**  \n",
    "Add the elements of tropical to thislist:"
   ]
  },
  {
   "cell_type": "code",
   "execution_count": 28,
   "id": "3f33e9f0-3fe1-4fe7-b891-b14c89a4d12b",
   "metadata": {},
   "outputs": [
    {
     "name": "stdout",
     "output_type": "stream",
     "text": [
      "['apple', 'banana', 'cherry', 'mango', 'pineapple', 'papaya']\n"
     ]
    }
   ],
   "source": [
    "thislist = [\"apple\", \"banana\", \"cherry\"]\n",
    "tropical = [\"mango\", \"pineapple\", \"papaya\"]\n",
    "thislist.extend(tropical)\n",
    "print(thislist)"
   ]
  },
  {
   "cell_type": "markdown",
   "id": "0fc2896f-634b-4960-8f2f-40fb503745ca",
   "metadata": {},
   "source": [
    "The elements will be added to the end of the list.\n",
    "\n",
    "**Add Any Iterable**  \n",
    "The extend() method does not have to append lists, you can add any iterable object (tuples, sets, dictionaries etc.).\n",
    "\n",
    "**Example**\n",
    "Add elements of a tuple to a list:"
   ]
  },
  {
   "cell_type": "code",
   "execution_count": 29,
   "id": "6d24d3e2-82b6-4f8b-9b82-61ac70f8b161",
   "metadata": {},
   "outputs": [
    {
     "name": "stdout",
     "output_type": "stream",
     "text": [
      "['apple', 'banana', 'cherry', 'kiwi', 'orange']\n"
     ]
    }
   ],
   "source": [
    "thislist = [\"apple\", \"banana\", \"cherry\"]\n",
    "thistuple = (\"kiwi\", \"orange\")\n",
    "thislist.extend(thistuple)\n",
    "print(thislist)"
   ]
  },
  {
   "cell_type": "markdown",
   "id": "acd2c798-4e2b-425f-856c-120c3f0f58a7",
   "metadata": {},
   "source": [
    "## Remove List Items"
   ]
  },
  {
   "cell_type": "markdown",
   "id": "be2b3215-3061-4643-a46b-376c602a5348",
   "metadata": {},
   "source": [
    "The remove() method removes the specified item.\n",
    "\n",
    "**Example**  \n",
    "Remove \"banana\":"
   ]
  },
  {
   "cell_type": "code",
   "execution_count": 30,
   "id": "df16f4be-98b3-4a32-b2d0-75551a75b4f5",
   "metadata": {},
   "outputs": [
    {
     "name": "stdout",
     "output_type": "stream",
     "text": [
      "['apple', 'cherry']\n"
     ]
    }
   ],
   "source": [
    "thislist = [\"apple\", \"banana\", \"cherry\"]\n",
    "thislist.remove(\"banana\")\n",
    "print(thislist)"
   ]
  },
  {
   "cell_type": "markdown",
   "id": "c78ea82f-0548-4464-9cc5-873d53edc403",
   "metadata": {},
   "source": [
    "If there are more than one item with the specified value, the remove() method removes the first occurrence:\n",
    "\n",
    "**Example**  \n",
    "Remove the first occurrence of \"banana\":"
   ]
  },
  {
   "cell_type": "code",
   "execution_count": 31,
   "id": "30a84715-9577-451a-8f51-f6e3018fde46",
   "metadata": {},
   "outputs": [
    {
     "name": "stdout",
     "output_type": "stream",
     "text": [
      "['apple', 'cherry', 'banana', 'kiwi']\n"
     ]
    }
   ],
   "source": [
    "thislist = [\"apple\", \"banana\", \"cherry\", \"banana\", \"kiwi\"]\n",
    "thislist.remove(\"banana\")\n",
    "print(thislist)"
   ]
  },
  {
   "cell_type": "markdown",
   "id": "baeb3f41-2a01-46c2-82bc-3eb483de76ec",
   "metadata": {},
   "source": [
    "**Remove Specified Index**  \n",
    "The pop() method removes the specified index.\n",
    "\n",
    "**Example**  \n",
    "Remove the second item:"
   ]
  },
  {
   "cell_type": "code",
   "execution_count": 32,
   "id": "0037e52a-8f6b-49f7-9b8f-008f68edcf0a",
   "metadata": {},
   "outputs": [
    {
     "name": "stdout",
     "output_type": "stream",
     "text": [
      "['apple', 'cherry']\n"
     ]
    }
   ],
   "source": [
    "thislist = [\"apple\", \"banana\", \"cherry\"]\n",
    "thislist.pop(1)\n",
    "print(thislist)"
   ]
  },
  {
   "cell_type": "markdown",
   "id": "8d278f1c-4cf5-47e4-9e61-b25b7c46a900",
   "metadata": {},
   "source": [
    "If you do not specify the index, the pop() method removes the last item.\n",
    "\n",
    "**Example**  \n",
    "Remove the last item:"
   ]
  },
  {
   "cell_type": "code",
   "execution_count": 33,
   "id": "ebb2c3f8-3de0-4ab2-b48c-c6ba0af04542",
   "metadata": {},
   "outputs": [
    {
     "name": "stdout",
     "output_type": "stream",
     "text": [
      "['apple', 'banana']\n"
     ]
    }
   ],
   "source": [
    "thislist = [\"apple\", \"banana\", \"cherry\"]\n",
    "thislist.pop()\n",
    "print(thislist)"
   ]
  },
  {
   "cell_type": "markdown",
   "id": "87810766-370b-453d-82bd-a8e784e5af0d",
   "metadata": {},
   "source": [
    "The del keyword also removes the specified index:\n",
    "\n",
    "**Example**  \n",
    "Remove the first item:"
   ]
  },
  {
   "cell_type": "code",
   "execution_count": 34,
   "id": "3cd6df74-8fd2-42ae-af42-b95ac960c56a",
   "metadata": {},
   "outputs": [
    {
     "name": "stdout",
     "output_type": "stream",
     "text": [
      "['banana', 'cherry']\n"
     ]
    }
   ],
   "source": [
    "thislist = [\"apple\", \"banana\", \"cherry\"]\n",
    "del thislist[0]\n",
    "print(thislist)"
   ]
  },
  {
   "cell_type": "markdown",
   "id": "c6d10169-af7b-4b8d-97c5-e53cd059ac6f",
   "metadata": {},
   "source": [
    "The del keyword can also delete the list completely.\n",
    "\n",
    "**Example**  \n",
    "Delete the entire list:"
   ]
  },
  {
   "cell_type": "code",
   "execution_count": 35,
   "id": "a16d218a-292e-4bbc-b1c3-7b282bd14b19",
   "metadata": {},
   "outputs": [],
   "source": [
    "thislist = [\"apple\", \"banana\", \"cherry\"]\n",
    "del thislist"
   ]
  },
  {
   "cell_type": "markdown",
   "id": "6439ecb5-b93e-49c3-99db-c4f06e01252b",
   "metadata": {},
   "source": [
    "**Clear the List**  \n",
    "The clear() method empties the list.\n",
    "\n",
    "The list still remains, but it has no content.\n",
    "\n",
    "**Example**  \n",
    "Clear the list content:"
   ]
  },
  {
   "cell_type": "code",
   "execution_count": 36,
   "id": "a76fb9c7-d88b-4dac-8c1d-ae47ebc03dd1",
   "metadata": {},
   "outputs": [
    {
     "name": "stdout",
     "output_type": "stream",
     "text": [
      "[]\n"
     ]
    }
   ],
   "source": [
    "thislist = [\"apple\", \"banana\", \"cherry\"]\n",
    "thislist.clear()\n",
    "print(thislist)"
   ]
  },
  {
   "cell_type": "code",
   "execution_count": null,
   "id": "b39beaba-6fac-4263-9865-95df020d9bd7",
   "metadata": {},
   "outputs": [],
   "source": [
    "## Loop Lists"
   ]
  },
  {
   "cell_type": "code",
   "execution_count": null,
   "id": "18083944-05cd-4319-b3c8-25a4161151bf",
   "metadata": {},
   "outputs": [],
   "source": [
    "You can loop through the list items by using a for loop:\n",
    "\n",
    "Example\n",
    "Print all items in the list, one by one:"
   ]
  },
  {
   "cell_type": "code",
   "execution_count": null,
   "id": "bb9dde80-1186-449a-8050-d33587117026",
   "metadata": {},
   "outputs": [],
   "source": [
    "thislist = [\"apple\", \"banana\", \"cherry\"]\n",
    "for x in thislist:\n",
    "  print(x)"
   ]
  },
  {
   "cell_type": "code",
   "execution_count": null,
   "id": "7220e2d6-781c-48ee-a6cb-397ed3d87a7e",
   "metadata": {},
   "outputs": [],
   "source": [
    "Loop Through the Index Numbers\n",
    "You can also loop through the list items by referring to their index number.\n",
    "\n",
    "Use the range() and len() functions to create a suitable iterable.\n",
    "\n",
    "Example\n",
    "Print all items by referring to their index number:"
   ]
  },
  {
   "cell_type": "code",
   "execution_count": null,
   "id": "9b7a6cb7-3713-4a9c-aaa3-bc84ad0ea1ff",
   "metadata": {},
   "outputs": [],
   "source": [
    "thislist = [\"apple\", \"banana\", \"cherry\"]\n",
    "for i in range(len(thislist)):\n",
    "  print(thislist[i])"
   ]
  },
  {
   "cell_type": "code",
   "execution_count": null,
   "id": "6e9d2fad-4498-4a5f-918f-7b263bc193bf",
   "metadata": {},
   "outputs": [],
   "source": [
    "The iterable created in the example above is [0, 1, 2].\n",
    "\n",
    "Using a While Loop\n",
    "You can loop through the list items by using a while loop.\n",
    "\n",
    "Use the len() function to determine the length of the list, then start at 0 and loop your way through the list items by referring to their indexes.\n",
    "\n",
    "Remember to increase the index by 1 after each iteration.\n",
    "\n",
    "Example\n",
    "Print all items, using a while loop to go through all the index numbers"
   ]
  },
  {
   "cell_type": "code",
   "execution_count": null,
   "id": "acb06713-fc32-4963-b0e5-30f2a18769af",
   "metadata": {},
   "outputs": [],
   "source": [
    "thislist = [\"apple\", \"banana\", \"cherry\"]\n",
    "i = 0\n",
    "while i < len(thislist):\n",
    "  print(thislist[i])\n",
    "  i = i + 1"
   ]
  },
  {
   "cell_type": "code",
   "execution_count": null,
   "id": "a62d353c-beef-440e-ae99-90f567728aba",
   "metadata": {},
   "outputs": [],
   "source": [
    "Looping Using List Comprehension\n",
    "List Comprehension offers the shortest syntax for looping through lists:\n",
    "\n",
    "Example\n",
    "A short hand for loop that will print all items in a list:"
   ]
  },
  {
   "cell_type": "code",
   "execution_count": null,
   "id": "1d535a72-9136-4bc8-9f98-f86fe560772c",
   "metadata": {},
   "outputs": [],
   "source": [
    "thislist = [\"apple\", \"banana\", \"cherry\"]\n",
    "[print(x) for x in thislist]"
   ]
  },
  {
   "cell_type": "code",
   "execution_count": null,
   "id": "0a35e765-d354-46c9-9fb2-17eb7fb13128",
   "metadata": {},
   "outputs": [],
   "source": [
    "## List Comprehension"
   ]
  },
  {
   "cell_type": "code",
   "execution_count": null,
   "id": "24ab75fe-a8ee-4543-bafd-b51dea75c72c",
   "metadata": {},
   "outputs": [],
   "source": [
    "List comprehension offers a shorter syntax when you want to create a new list based on the values of an existing list.\n",
    "\n",
    "Example:\n",
    "\n",
    "Based on a list of fruits, you want a new list, containing only the fruits with the letter \"a\" in the name.\n",
    "\n",
    "Without list comprehension you will have to write a for statement with a conditional test inside:\n",
    "\n",
    "Example"
   ]
  },
  {
   "cell_type": "code",
   "execution_count": null,
   "id": "758b1d9c-dc6f-413b-80b9-70a6740ed4f5",
   "metadata": {},
   "outputs": [],
   "source": [
    "fruits = [\"apple\", \"banana\", \"cherry\", \"kiwi\", \"mango\"]\n",
    "newlist = []\n",
    "\n",
    "for x in fruits:\n",
    "  if \"a\" in x:\n",
    "    newlist.append(x)\n",
    "\n",
    "print(newlist)"
   ]
  },
  {
   "cell_type": "code",
   "execution_count": null,
   "id": "babb1705-0077-4baf-bdf7-01302832bde4",
   "metadata": {},
   "outputs": [],
   "source": [
    "With list comprehension you can do all that with only one line of code:\n",
    "\n",
    "Example"
   ]
  },
  {
   "cell_type": "code",
   "execution_count": null,
   "id": "957e55f4-d269-4ee3-83cb-cd35f649fbde",
   "metadata": {},
   "outputs": [],
   "source": [
    "fruits = [\"apple\", \"banana\", \"cherry\", \"kiwi\", \"mango\"]\n",
    "\n",
    "newlist = [x for x in fruits if \"a\" in x]\n",
    "\n",
    "print(newlist)"
   ]
  },
  {
   "cell_type": "code",
   "execution_count": null,
   "id": "5bc1f769-8c8c-4198-b03c-44c8297d9ccf",
   "metadata": {},
   "outputs": [],
   "source": [
    "The Syntax\n",
    "newlist = [expression for item in iterable if condition == True]\n",
    "The return value is a new list, leaving the old list unchanged.\n",
    "\n",
    "Condition\n",
    "The condition is like a filter that only accepts the items that valuate to True.\n",
    "\n",
    "Example\n",
    "Only accept items that are not \"apple\":"
   ]
  },
  {
   "cell_type": "code",
   "execution_count": null,
   "id": "392d9efb-5c23-4d69-8249-736a6d1e8255",
   "metadata": {},
   "outputs": [],
   "source": [
    "newlist = [x for x in fruits if x != \"apple\"]"
   ]
  },
  {
   "cell_type": "code",
   "execution_count": null,
   "id": "b7da8b03-3187-46e5-ab8f-f481acc6a656",
   "metadata": {},
   "outputs": [],
   "source": [
    "The condition if x != \"apple\"  will return True for all elements other than \"apple\", making the new list contain all fruits except \"apple\".\n",
    "\n",
    "The condition is optional and can be omitted:\n",
    "\n",
    "Example\n",
    "With no if statement:"
   ]
  },
  {
   "cell_type": "code",
   "execution_count": null,
   "id": "934dcefd-b76b-4d0e-a522-289134b273c7",
   "metadata": {},
   "outputs": [],
   "source": [
    "newlist = [x for x in fruits]"
   ]
  },
  {
   "cell_type": "code",
   "execution_count": null,
   "id": "d2e2f82d-6b4f-4b2a-b8fe-f2f19dd5c65a",
   "metadata": {},
   "outputs": [],
   "source": [
    "Iterable\n",
    "The iterable can be any iterable object, like a list, tuple, set etc.\n",
    "\n",
    "Example\n",
    "You can use the range() function to create an iterable:"
   ]
  },
  {
   "cell_type": "code",
   "execution_count": null,
   "id": "f69af870-4da9-4e83-a030-7672b0e5a983",
   "metadata": {},
   "outputs": [],
   "source": [
    "newlist = [x for x in range(10)]"
   ]
  },
  {
   "cell_type": "code",
   "execution_count": null,
   "id": "4178fe44-064c-4982-9c58-51e7205891c5",
   "metadata": {},
   "outputs": [],
   "source": [
    "Same example, but with a condition:\n",
    "\n",
    "Example\n",
    "Accept only numbers lower than 5:"
   ]
  },
  {
   "cell_type": "code",
   "execution_count": null,
   "id": "9a4d80d1-639a-4042-a000-bc6895c95ac6",
   "metadata": {},
   "outputs": [],
   "source": [
    "newlist = [x for x in range(10) if x < 5]"
   ]
  },
  {
   "cell_type": "code",
   "execution_count": null,
   "id": "2ef18159-9ca6-4bb0-b543-30e8b9f7f4e8",
   "metadata": {},
   "outputs": [],
   "source": [
    "Expression\n",
    "The expression is the current item in the iteration, but it is also the outcome, which you can manipulate before it ends up like a list item in the new list:\n",
    "\n",
    "Example\n",
    "Set the values in the new list to upper case:"
   ]
  },
  {
   "cell_type": "code",
   "execution_count": null,
   "id": "ad988140-0ce1-4313-a9c6-f73439de1112",
   "metadata": {},
   "outputs": [],
   "source": [
    "newlist = [x.upper() for x in fruits]"
   ]
  },
  {
   "cell_type": "code",
   "execution_count": null,
   "id": "dc8f7a1b-a6d2-427f-92ab-ee1a17d00724",
   "metadata": {},
   "outputs": [],
   "source": [
    "You can set the outcome to whatever you like:\n",
    "\n",
    "Example\n",
    "Set all values in the new list to 'hello':"
   ]
  },
  {
   "cell_type": "code",
   "execution_count": null,
   "id": "49343efc-a918-4129-bb27-42b352a1687a",
   "metadata": {},
   "outputs": [],
   "source": [
    "newlist = ['hello' for x in fruits]"
   ]
  },
  {
   "cell_type": "code",
   "execution_count": null,
   "id": "79fb985e-cb24-4e97-97f8-345f271d0e10",
   "metadata": {},
   "outputs": [],
   "source": [
    "The expression can also contain conditions, not like a filter, but as a way to manipulate the outcome:\n",
    "\n",
    "Example\n",
    "Return \"orange\" instead of \"banana\":"
   ]
  },
  {
   "cell_type": "code",
   "execution_count": null,
   "id": "ac5c5a58-e0fd-427c-b584-8fbe2ef18638",
   "metadata": {},
   "outputs": [],
   "source": [
    "newlist = [x if x != \"banana\" else \"orange\" for x in fruits]"
   ]
  },
  {
   "cell_type": "code",
   "execution_count": null,
   "id": "5e55e9ba-e0b9-4b3c-927c-b75ae018635e",
   "metadata": {},
   "outputs": [],
   "source": [
    "The expression in the example above says:\n",
    "\n",
    "\"Return the item if it is not banana, if it is banana return orange\"."
   ]
  },
  {
   "cell_type": "code",
   "execution_count": null,
   "id": "239e9a98-0143-4bbc-8d49-2044f5555e1d",
   "metadata": {},
   "outputs": [],
   "source": [
    "## Sort Lists"
   ]
  },
  {
   "cell_type": "code",
   "execution_count": null,
   "id": "e7f3892f-ea63-4d4c-a330-93bb2b86c515",
   "metadata": {},
   "outputs": [],
   "source": [
    "Sort List Alphanumerically\n",
    "List objects have a sort() method that will sort the list alphanumerically, ascending, by default:\n",
    "\n",
    "ExampleGet your own Python Server\n",
    "Sort the list alphabetically:"
   ]
  },
  {
   "cell_type": "code",
   "execution_count": null,
   "id": "6bea565c-e8a0-46dc-ab63-930ac0d6b006",
   "metadata": {},
   "outputs": [],
   "source": [
    "thislist = [\"orange\", \"mango\", \"kiwi\", \"pineapple\", \"banana\"]\n",
    "thislist.sort()\n",
    "print(thislist)"
   ]
  },
  {
   "cell_type": "code",
   "execution_count": null,
   "id": "69d36db9-a1db-4fde-b56a-6703bf321905",
   "metadata": {},
   "outputs": [],
   "source": [
    "Example\n",
    "Sort the list numerically:"
   ]
  },
  {
   "cell_type": "code",
   "execution_count": null,
   "id": "e12d8a48-186c-4cce-b8f4-d5b9aab76816",
   "metadata": {},
   "outputs": [],
   "source": [
    "thislist = [100, 50, 65, 82, 23]\n",
    "thislist.sort()\n",
    "print(thislist)"
   ]
  },
  {
   "cell_type": "code",
   "execution_count": null,
   "id": "c0d60ac9-013e-4e8d-b7bd-208e43a8a441",
   "metadata": {},
   "outputs": [],
   "source": [
    "Sort Descending"
   ]
  },
  {
   "cell_type": "code",
   "execution_count": null,
   "id": "91fb8871-12c0-4522-b47b-f9f6d8d6c5b8",
   "metadata": {},
   "outputs": [],
   "source": [
    "To sort descending, use the keyword argument reverse = True:\n",
    "\n",
    "Example\n",
    "Sort the list descending:"
   ]
  },
  {
   "cell_type": "code",
   "execution_count": null,
   "id": "fa3d7877-a65d-4d19-8554-e192e97dde7e",
   "metadata": {},
   "outputs": [],
   "source": [
    "thislist = [\"orange\", \"mango\", \"kiwi\", \"pineapple\", \"banana\"]\n",
    "thislist.sort(reverse = True)\n",
    "print(thislist)"
   ]
  },
  {
   "cell_type": "code",
   "execution_count": null,
   "id": "f81fe751-f42c-4cff-af02-0ae2c8390967",
   "metadata": {},
   "outputs": [],
   "source": [
    "Example\n",
    "Sort the list descending:"
   ]
  },
  {
   "cell_type": "code",
   "execution_count": null,
   "id": "bcf6d279-b14b-46c5-a77c-0ccca86ec64b",
   "metadata": {},
   "outputs": [],
   "source": [
    "thislist = [100, 50, 65, 82, 23]\n",
    "thislist.sort(reverse = True)\n",
    "print(thislist)"
   ]
  },
  {
   "cell_type": "code",
   "execution_count": null,
   "id": "7a7a798e-b353-450c-be37-6e201f78dfb5",
   "metadata": {},
   "outputs": [],
   "source": [
    "Customize Sort Function\n",
    "You can also customize your own function by using the keyword argument key = function.\n",
    "\n",
    "The function will return a number that will be used to sort the list (the lowest number first):\n",
    "\n",
    "Example\n",
    "Sort the list based on how close the number is to 50:"
   ]
  },
  {
   "cell_type": "code",
   "execution_count": null,
   "id": "9ba281f0-e907-4cc0-b019-85a5dc713984",
   "metadata": {},
   "outputs": [],
   "source": [
    "def myfunc(n):\n",
    "  return abs(n - 50)\n",
    "\n",
    "thislist = [100, 50, 65, 82, 23]\n",
    "thislist.sort(key = myfunc)\n",
    "print(thislist)"
   ]
  },
  {
   "cell_type": "code",
   "execution_count": null,
   "id": "39d7201c-5d01-46cf-8154-f6f73e20d789",
   "metadata": {},
   "outputs": [],
   "source": [
    "Case Insensitive Sort\n",
    "By default the sort() method is case sensitive, resulting in all capital letters being sorted before lower case letters:\n",
    "\n",
    "Example\n",
    "Case sensitive sorting can give an unexpected result:"
   ]
  },
  {
   "cell_type": "code",
   "execution_count": null,
   "id": "3c2b51bb-3f7f-42e8-abc7-8e67b23055d7",
   "metadata": {},
   "outputs": [],
   "source": [
    "thislist = [\"banana\", \"Orange\", \"Kiwi\", \"cherry\"]\n",
    "thislist.sort()\n",
    "print(thislist)"
   ]
  },
  {
   "cell_type": "code",
   "execution_count": null,
   "id": "55aa0e8f-3b1f-4225-99b5-8fc1954fc1b6",
   "metadata": {},
   "outputs": [],
   "source": [
    "Luckily we can use built-in functions as key functions when sorting a list.\n",
    "\n",
    "So if you want a case-insensitive sort function, use str.lower as a key function:\n",
    "\n",
    "Example\n",
    "Perform a case-insensitive sort of the list:"
   ]
  },
  {
   "cell_type": "code",
   "execution_count": null,
   "id": "850cc555-3fcd-468d-8ef0-284caf65f70d",
   "metadata": {},
   "outputs": [],
   "source": [
    "thislist = [\"banana\", \"Orange\", \"Kiwi\", \"cherry\"]\n",
    "thislist.sort(key = str.lower)\n",
    "print(thislist)"
   ]
  },
  {
   "cell_type": "code",
   "execution_count": null,
   "id": "18bd9e5a-b5ab-4ddc-a3b7-2db338827468",
   "metadata": {},
   "outputs": [],
   "source": [
    "Reverse Order\n",
    "What if you want to reverse the order of a list, regardless of the alphabet?\n",
    "\n",
    "The reverse() method reverses the current sorting order of the elements.\n",
    "\n",
    "Example\n",
    "Reverse the order of the list items:"
   ]
  },
  {
   "cell_type": "code",
   "execution_count": null,
   "id": "645e4d77-6a09-4dd4-a4a3-a617cb0b9498",
   "metadata": {},
   "outputs": [],
   "source": [
    "thislist = [\"banana\", \"Orange\", \"Kiwi\", \"cherry\"]\n",
    "thislist.reverse()\n",
    "print(thislist)"
   ]
  },
  {
   "cell_type": "code",
   "execution_count": null,
   "id": "9252cb33-c221-4767-b10d-d95d3c49b923",
   "metadata": {},
   "outputs": [],
   "source": [
    "## Copy Lists"
   ]
  },
  {
   "cell_type": "code",
   "execution_count": null,
   "id": "ab4b2a83-34fa-40e7-bb08-b6d1bef3de9c",
   "metadata": {},
   "outputs": [],
   "source": [
    "You cannot copy a list simply by typing list2 = list1, because: list2 will only be a reference to list1, and changes made in list1 will automatically also be made in list2.\n",
    "\n",
    "There are ways to make a copy, one way is to use the built-in List method copy().\n",
    "\n",
    "ExampleGet your own Python Server\n",
    "Make a copy of a list with the copy() method:"
   ]
  },
  {
   "cell_type": "code",
   "execution_count": null,
   "id": "d650090f-e9a2-437c-9a6f-7de29604731a",
   "metadata": {},
   "outputs": [],
   "source": [
    "thislist = [\"apple\", \"banana\", \"cherry\"]\n",
    "mylist = thislist.copy()\n",
    "print(mylist)"
   ]
  },
  {
   "cell_type": "code",
   "execution_count": null,
   "id": "1c26e02e-f42e-48e2-b2f8-fd79e4ac2613",
   "metadata": {},
   "outputs": [],
   "source": [
    "Another way to make a copy is to use the built-in method list().\n",
    "\n",
    "Example\n",
    "Make a copy of a list with the list() method:"
   ]
  },
  {
   "cell_type": "code",
   "execution_count": null,
   "id": "80476d90-d3ac-46b3-89b8-e563f36d245d",
   "metadata": {},
   "outputs": [],
   "source": [
    "thislist = [\"apple\", \"banana\", \"cherry\"]\n",
    "mylist = list(thislist)\n",
    "print(mylist)"
   ]
  },
  {
   "cell_type": "code",
   "execution_count": null,
   "id": "38a611d7-cd5f-4c70-8216-2b04c80cd208",
   "metadata": {},
   "outputs": [],
   "source": [
    "## Join Lists"
   ]
  },
  {
   "cell_type": "code",
   "execution_count": null,
   "id": "a2c0c32d-42aa-4384-bc9d-b6b5b319ca57",
   "metadata": {},
   "outputs": [],
   "source": [
    "Join Two Lists\n",
    "There are several ways to join, or concatenate, two or more lists in Python.\n",
    "\n",
    "One of the easiest ways are by using the + operator.\n",
    "\n",
    "Example\n",
    "Join two list:"
   ]
  },
  {
   "cell_type": "code",
   "execution_count": null,
   "id": "b0424176-73cf-4cf2-b205-aaf784f8cf9c",
   "metadata": {},
   "outputs": [],
   "source": [
    "list1 = [\"a\", \"b\", \"c\"]\n",
    "list2 = [1, 2, 3]\n",
    "\n",
    "list3 = list1 + list2\n",
    "print(list3)"
   ]
  },
  {
   "cell_type": "code",
   "execution_count": null,
   "id": "bc841fd6-32f7-4ee4-89f4-72d80f1bc000",
   "metadata": {},
   "outputs": [],
   "source": [
    "Another way to join two lists is by appending all the items from list2 into list1, one by one:\n",
    "\n",
    "Example\n",
    "Append list2 into list1:"
   ]
  },
  {
   "cell_type": "code",
   "execution_count": null,
   "id": "cac2005d-21d9-417a-a2ec-d067a19fa08f",
   "metadata": {},
   "outputs": [],
   "source": [
    "list1 = [\"a\", \"b\" , \"c\"]\n",
    "list2 = [1, 2, 3]\n",
    "\n",
    "for x in list2:\n",
    "  list1.append(x)\n",
    "\n",
    "print(list1)"
   ]
  },
  {
   "cell_type": "code",
   "execution_count": null,
   "id": "067aa9da-da75-4d75-a1ab-d3a3a99f43ac",
   "metadata": {},
   "outputs": [],
   "source": [
    "Or you can use the extend() method, where the purpose is to add elements from one list to another list:\n",
    "\n",
    "Example\n",
    "Use the extend() method to add list2 at the end of list1:"
   ]
  },
  {
   "cell_type": "code",
   "execution_count": null,
   "id": "3cfccacb-77cb-4e4a-954f-3edef99a45d5",
   "metadata": {},
   "outputs": [],
   "source": [
    "list1 = [\"a\", \"b\" , \"c\"]\n",
    "list2 = [1, 2, 3]\n",
    "\n",
    "list1.extend(list2)\n",
    "print(list1)"
   ]
  },
  {
   "cell_type": "markdown",
   "id": "0b544d50-9a57-40b7-b561-f5acbcea219e",
   "metadata": {},
   "source": [
    "## List Methods"
   ]
  },
  {
   "cell_type": "markdown",
   "id": "65faec70-53fc-44cb-ae90-346d31ed34a7",
   "metadata": {},
   "source": [
    "Python has a set of built-in methods that you can use on lists.\n",
    "| Method    | Description                                                                  |\n",
    "| --------- | ---------------------------------------------------------------------------- |\n",
    "| append()  | Adds an element at the end of the list                                       |\n",
    "| clear()   | Removes all the elements from the list                                       |\n",
    "| copy()    | Returns a copy of the list                                                   |\n",
    "| count()   | Returns the number of elements with the specified value                      |\n",
    "| extend()  | Add the elements of a list (or any iterable), to the end of the current list |\n",
    "| index()   | Returns the index of the first element with the specified value              |\n",
    "| insert()  | Adds an element at the specified position                                    |\n",
    "| pop()     | Removes the element at the specified position                                |\n",
    "| remove()  | Removes the item with the specified value                                    |\n",
    "| reverse() | Reverses the order of the list                                               |\n",
    "| sort()    | Sorts the list                                                               |"
   ]
  },
  {
   "cell_type": "markdown",
   "id": "86f9b586-076b-4e87-9ab5-5b374d60a9fa",
   "metadata": {},
   "source": [
    "**list.append(elmnt)**  \n",
    "_Method appends an element to the end of the list._  \n",
    "elmnt :\tRequired. An element of any type (string, number, object etc.)"
   ]
  },
  {
   "cell_type": "code",
   "execution_count": 39,
   "id": "2ccb425b-6e5d-4280-af80-9c9eb4d57e71",
   "metadata": {},
   "outputs": [],
   "source": [
    "#Add an element to the fruits list:\n",
    "fruits = ['apple', 'banana', 'cherry']\n",
    "fruits.append(\"orange\")"
   ]
  },
  {
   "cell_type": "code",
   "execution_count": 40,
   "id": "e671462a-82ee-4bf0-8779-700e20fe32fe",
   "metadata": {},
   "outputs": [],
   "source": [
    "# Add a list to a list:\n",
    "a = [\"apple\", \"banana\", \"cherry\"]\n",
    "b = [\"Ford\", \"BMW\", \"Volvo\"]\n",
    "a.append(b)"
   ]
  },
  {
   "cell_type": "markdown",
   "id": "f53b3c6f-1323-473d-8835-8f6da3b707ca",
   "metadata": {},
   "source": [
    "**Continued...**"
   ]
  },
  {
   "cell_type": "markdown",
   "id": "686415bb-e3ec-406e-82b0-965b3352f0fe",
   "metadata": {
    "jp-MarkdownHeadingCollapsed": true
   },
   "source": [
    "# Python Tuples"
   ]
  },
  {
   "cell_type": "markdown",
   "id": "73c3a8fc-aa90-46ea-83b3-c1e9fb2770d4",
   "metadata": {},
   "source": [
    "Tuples are used to store multiple items in a single variable.\n",
    "\n",
    "Tuple is one of 4 built-in data types in Python used to store collections of data, the other 3 are List, Set, and Dictionary, all with different qualities and usage.\n",
    "\n",
    "A tuple is a collection which is ordered and unchangeable.\n",
    "\n",
    "Tuples are written with round brackets.\n",
    "\n",
    "**Example**  \n",
    "Create a Tuple:"
   ]
  },
  {
   "cell_type": "code",
   "execution_count": 46,
   "id": "bf873f82-959c-4c1c-9ead-f13c50b89817",
   "metadata": {},
   "outputs": [
    {
     "name": "stdout",
     "output_type": "stream",
     "text": [
      "('apple', 'banana', 'cherry')\n"
     ]
    }
   ],
   "source": [
    "thistuple = (\"apple\", \"banana\", \"cherry\")\n",
    "print(thistuple)"
   ]
  },
  {
   "cell_type": "markdown",
   "id": "32f1f624-412d-4c8f-98c9-96bd18dfa1bd",
   "metadata": {},
   "source": [
    "**Tuple Items** \n",
    "Tuple items are ordered, unchangeable, and allow duplicate values.\n",
    "\n",
    "Tuple items are indexed, the first item has index [0], the second item has index [1] etc.\n",
    "\n",
    "**Ordered** \n",
    "When we say that tuples are ordered, it means that the items have a defined order, and that order will not change.\n",
    "\n",
    "**Unchangeable** \n",
    "Tuples are unchangeable, meaning that we cannot change, add or remove items after the tuple has been created.\n",
    "\n",
    "**Allow Duplicates**  \n",
    "Since tuples are indexed, they can have items with the same value:\n",
    "\n",
    "**Example**  \n",
    "Tuples allow duplicate values:"
   ]
  },
  {
   "cell_type": "code",
   "execution_count": 47,
   "id": "e1d788b7-770c-4543-a4cf-3d1bd4591821",
   "metadata": {},
   "outputs": [
    {
     "name": "stdout",
     "output_type": "stream",
     "text": [
      "('apple', 'banana', 'cherry', 'apple', 'cherry')\n"
     ]
    }
   ],
   "source": [
    "thistuple = (\"apple\", \"banana\", \"cherry\", \"apple\", \"cherry\")\n",
    "print(thistuple)"
   ]
  },
  {
   "cell_type": "markdown",
   "id": "1534ad20-570c-408f-99f2-ab0b240c7947",
   "metadata": {},
   "source": [
    "**Tuple Length**  \n",
    "To determine how many items a tuple has, use the len() function:\n",
    "\n",
    "**Example**  \n",
    "Print the number of items in the tuple:"
   ]
  },
  {
   "cell_type": "code",
   "execution_count": 48,
   "id": "5e0792ef-91e4-477b-b517-524f55ba297d",
   "metadata": {},
   "outputs": [
    {
     "name": "stdout",
     "output_type": "stream",
     "text": [
      "3\n"
     ]
    }
   ],
   "source": [
    "thistuple = (\"apple\", \"banana\", \"cherry\")\n",
    "print(len(thistuple))"
   ]
  },
  {
   "cell_type": "markdown",
   "id": "3bd08e4d-ea2c-4d30-af71-f7942fb00c0e",
   "metadata": {},
   "source": [
    "**Create Tuple With One Item**  \n",
    "To create a tuple with only one item, you have to add a comma after the item, otherwise Python will not recognize it as a tuple.\n",
    "\n",
    "**Example**  \n",
    "One item tuple, remember the comma:"
   ]
  },
  {
   "cell_type": "code",
   "execution_count": 49,
   "id": "8f97849a-b94f-4011-9d2c-b7026c04caee",
   "metadata": {},
   "outputs": [
    {
     "name": "stdout",
     "output_type": "stream",
     "text": [
      "<class 'tuple'>\n",
      "<class 'str'>\n"
     ]
    }
   ],
   "source": [
    "thistuple = (\"apple\",)\n",
    "print(type(thistuple))\n",
    "\n",
    "#NOT a tuple\n",
    "thistuple = (\"apple\")\n",
    "print(type(thistuple))"
   ]
  },
  {
   "cell_type": "markdown",
   "id": "8a6c4a4c-cd0d-478e-a0f4-cdda92f2613c",
   "metadata": {},
   "source": [
    "**Tuple Items - Data Types**  \n",
    "Tuple items can be of any data type:\n",
    "\n",
    "**Example**  \n",
    "String, int and boolean data types:"
   ]
  },
  {
   "cell_type": "code",
   "execution_count": 50,
   "id": "1c33584a-26b4-47e8-9cc8-01b831af1747",
   "metadata": {},
   "outputs": [],
   "source": [
    "tuple1 = (\"apple\", \"banana\", \"cherry\")\n",
    "tuple2 = (1, 5, 7, 9, 3)\n",
    "tuple3 = (True, False, False)"
   ]
  },
  {
   "cell_type": "markdown",
   "id": "337f1c59-f7dc-49c6-95d4-ff5463589911",
   "metadata": {},
   "source": [
    "A tuple can contain different data types:\n",
    "\n",
    "**Example**  \n",
    "A tuple with strings, integers and boolean values:"
   ]
  },
  {
   "cell_type": "code",
   "execution_count": 51,
   "id": "875661ee-c6ed-40a3-98b3-5d2493cf67e5",
   "metadata": {},
   "outputs": [],
   "source": [
    "tuple1 = (\"abc\", 34, True, 40, \"male\")"
   ]
  },
  {
   "cell_type": "markdown",
   "id": "11d00a27-96a0-4bcd-adbf-6884cc772404",
   "metadata": {},
   "source": [
    "**type()**  \n",
    "From Python's perspective, tuples are defined as objects with the data type 'tuple':\n",
    "\n",
    "<class 'tuple'>  \n",
    "**Example**  \n",
    "What is the data type of a tuple?"
   ]
  },
  {
   "cell_type": "code",
   "execution_count": 52,
   "id": "d916ee46-0773-442c-a423-fde0446820ee",
   "metadata": {},
   "outputs": [
    {
     "name": "stdout",
     "output_type": "stream",
     "text": [
      "<class 'tuple'>\n"
     ]
    }
   ],
   "source": [
    "mytuple = (\"apple\", \"banana\", \"cherry\")\n",
    "print(type(mytuple))"
   ]
  },
  {
   "cell_type": "markdown",
   "id": "610c7524-b36f-458d-ae79-0df15f2a783f",
   "metadata": {},
   "source": [
    "**The tuple() Constructor**  \n",
    "It is also possible to use the tuple() constructor to make a tuple.\n",
    "\n",
    "**Example**  \n",
    "Using the tuple() method to make a tuple:"
   ]
  },
  {
   "cell_type": "code",
   "execution_count": 53,
   "id": "6fcd38ff-2342-4014-8857-f0669b3c8797",
   "metadata": {},
   "outputs": [
    {
     "name": "stdout",
     "output_type": "stream",
     "text": [
      "('apple', 'banana', 'cherry')\n"
     ]
    }
   ],
   "source": [
    "thistuple = tuple((\"apple\", \"banana\", \"cherry\")) # note the double round-brackets\n",
    "print(thistuple)"
   ]
  },
  {
   "cell_type": "markdown",
   "id": "e1161b7a-8854-40bf-a91f-a1e5ba65ba1f",
   "metadata": {},
   "source": [
    "## Access Tuple Items"
   ]
  },
  {
   "cell_type": "markdown",
   "id": "7cec5c29-81b6-41e0-973e-048e68965ccb",
   "metadata": {},
   "source": [
    "You can access tuple items by referring to the index number, inside square brackets:\n",
    "\n",
    "**Example**  \n",
    "Print the second item in the tuple:"
   ]
  },
  {
   "cell_type": "code",
   "execution_count": 54,
   "id": "0749ad30-8b3a-4083-ae8c-8639ae7924ef",
   "metadata": {},
   "outputs": [
    {
     "name": "stdout",
     "output_type": "stream",
     "text": [
      "banana\n"
     ]
    }
   ],
   "source": [
    "thistuple = (\"apple\", \"banana\", \"cherry\")\n",
    "print(thistuple[1])"
   ]
  },
  {
   "cell_type": "markdown",
   "id": "e63fb53e-e2d6-4e70-a595-ce3235e4d9ed",
   "metadata": {},
   "source": [
    ">Note: The first item has index 0.\n",
    "\n",
    "Negative Indexing\n",
    "Negative indexing means start from the end.\n",
    "\n",
    "-1 refers to the last item, -2 refers to the second last item etc.\n",
    "\n",
    "**Example**  \n",
    "Print the last item of the tuple:"
   ]
  },
  {
   "cell_type": "code",
   "execution_count": 55,
   "id": "d4e8a8e3-5182-4258-ad41-13a694a5d288",
   "metadata": {},
   "outputs": [
    {
     "name": "stdout",
     "output_type": "stream",
     "text": [
      "cherry\n"
     ]
    }
   ],
   "source": [
    "thistuple = (\"apple\", \"banana\", \"cherry\")\n",
    "print(thistuple[-1])"
   ]
  },
  {
   "cell_type": "markdown",
   "id": "9c20cc13-b08f-41e6-86d2-d6ec7d7fe4a5",
   "metadata": {},
   "source": [
    "**Range of Indexes**  \n",
    "You can specify a range of indexes by specifying where to start and where to end the range.\n",
    "\n",
    "When specifying a range, the return value will be a new tuple with the specified items.\n",
    "\n",
    "**Example**  \n",
    "Return the third, fourth, and fifth item:"
   ]
  },
  {
   "cell_type": "code",
   "execution_count": 56,
   "id": "dd234a06-2faf-4aca-9b2d-1cefcb697384",
   "metadata": {},
   "outputs": [
    {
     "name": "stdout",
     "output_type": "stream",
     "text": [
      "('cherry', 'orange', 'kiwi')\n"
     ]
    }
   ],
   "source": [
    "thistuple = (\"apple\", \"banana\", \"cherry\", \"orange\", \"kiwi\", \"melon\", \"mango\")\n",
    "print(thistuple[2:5])"
   ]
  },
  {
   "cell_type": "markdown",
   "id": "136e6130-ddaa-4fcd-9bf0-3127dbc305b9",
   "metadata": {},
   "source": [
    ">Note: The search will start at index 2 (included) and end at index 5 (not included).\n",
    "\n",
    ">Remember that the first item has index 0.\n",
    "\n",
    "By leaving out the start value, the range will start at the first item:\n",
    "\n",
    "**Example**  \n",
    "This example returns the items from the beginning to, but NOT included, \"kiwi\":"
   ]
  },
  {
   "cell_type": "code",
   "execution_count": 57,
   "id": "be8a4383-f9bc-4208-9def-6e768f820f75",
   "metadata": {},
   "outputs": [
    {
     "name": "stdout",
     "output_type": "stream",
     "text": [
      "('apple', 'banana', 'cherry', 'orange')\n"
     ]
    }
   ],
   "source": [
    "thistuple = (\"apple\", \"banana\", \"cherry\", \"orange\", \"kiwi\", \"melon\", \"mango\")\n",
    "print(thistuple[:4])"
   ]
  },
  {
   "cell_type": "markdown",
   "id": "d1b84f7c-bbfd-4b9a-b9f7-4219a26a0ab0",
   "metadata": {},
   "source": [
    "By leaving out the end value, the range will go on to the end of the tuple:\n",
    "\n",
    "**Example**  \n",
    "This example returns the items from \"cherry\" and to the end:"
   ]
  },
  {
   "cell_type": "code",
   "execution_count": 58,
   "id": "4e476fd7-1dd5-4f78-9076-73b2e98e07e6",
   "metadata": {},
   "outputs": [
    {
     "name": "stdout",
     "output_type": "stream",
     "text": [
      "('cherry', 'orange', 'kiwi', 'melon', 'mango')\n"
     ]
    }
   ],
   "source": [
    "thistuple = (\"apple\", \"banana\", \"cherry\", \"orange\", \"kiwi\", \"melon\", \"mango\")\n",
    "print(thistuple[2:])"
   ]
  },
  {
   "cell_type": "markdown",
   "id": "2fd62c97-b910-4733-98b2-af4071118c13",
   "metadata": {},
   "source": [
    "**Range of Negative Indexes**  \n",
    "Specify negative indexes if you want to start the search from the end of the tuple:\n",
    "\n",
    "**Example**  \n",
    "This example returns the items from index -4 (included) to index -1 (excluded)"
   ]
  },
  {
   "cell_type": "code",
   "execution_count": 59,
   "id": "b14642bb-e53e-4ffe-849b-38888cca60b7",
   "metadata": {},
   "outputs": [
    {
     "name": "stdout",
     "output_type": "stream",
     "text": [
      "('orange', 'kiwi', 'melon')\n"
     ]
    }
   ],
   "source": [
    "thistuple = (\"apple\", \"banana\", \"cherry\", \"orange\", \"kiwi\", \"melon\", \"mango\")\n",
    "print(thistuple[-4:-1])"
   ]
  },
  {
   "cell_type": "markdown",
   "id": "7de4bc48-f15e-4c79-9aa7-490421dc651f",
   "metadata": {},
   "source": [
    "**Check if Item Exists**  \n",
    "To determine if a specified item is present in a tuple use the in keyword:\n",
    "\n",
    "**Example**  \n",
    "Check if \"apple\" is present in the tuple:"
   ]
  },
  {
   "cell_type": "code",
   "execution_count": 60,
   "id": "96b08589-29f0-4071-b2d6-ae49d95e614e",
   "metadata": {},
   "outputs": [
    {
     "name": "stdout",
     "output_type": "stream",
     "text": [
      "Yes, 'apple' is in the fruits tuple\n"
     ]
    }
   ],
   "source": [
    "thistuple = (\"apple\", \"banana\", \"cherry\")\n",
    "if \"apple\" in thistuple:\n",
    "  print(\"Yes, 'apple' is in the fruits tuple\")"
   ]
  },
  {
   "cell_type": "markdown",
   "id": "96e0aadc-4e69-49fc-8662-8226bb246615",
   "metadata": {},
   "source": [
    "## Update Tuples"
   ]
  },
  {
   "cell_type": "markdown",
   "id": "3d3a0007-0663-4ab2-a878-b15985ce0987",
   "metadata": {},
   "source": [
    "Tuples are unchangeable, meaning that you cannot change, add, or remove items once the tuple is created.\n",
    "\n",
    "But there are some workarounds.\n",
    "\n",
    "**Change Tuple Values**  \n",
    "Once a tuple is created, you cannot change its values. Tuples are unchangeable, or immutable as it also is called.  \n",
    "But there is a workaround. You can convert the tuple into a list, change the list, and convert the list back into a tuple.\n",
    "\n",
    "**Example**  \n",
    "Convert the tuple into a list to be able to change it:"
   ]
  },
  {
   "cell_type": "code",
   "execution_count": 61,
   "id": "fca9cad2-e95b-4f38-a7c4-d94a02ecc8bb",
   "metadata": {},
   "outputs": [
    {
     "name": "stdout",
     "output_type": "stream",
     "text": [
      "('apple', 'kiwi', 'cherry')\n"
     ]
    }
   ],
   "source": [
    "x = (\"apple\", \"banana\", \"cherry\")\n",
    "y = list(x)\n",
    "y[1] = \"kiwi\"\n",
    "x = tuple(y)\n",
    "\n",
    "print(x)"
   ]
  },
  {
   "cell_type": "markdown",
   "id": "34762c2a-58f8-4f35-bac7-ee8277d69476",
   "metadata": {},
   "source": [
    "**Add Items**  \n",
    "Since tuples are immutable, they do not have a built-in append() method, but there are other ways to add items to a tuple.\n",
    "\n",
    "**1.** Convert into a list: Just like the workaround for changing a tuple, you can convert it into a list, add your item(s), and convert it back into a tuple.\n",
    "\n",
    "**Example**  \n",
    "Convert the tuple into a list, add \"orange\", and convert it back into a tuple:"
   ]
  },
  {
   "cell_type": "code",
   "execution_count": 62,
   "id": "d7f5d395-ecd2-4dab-9ba8-9dc4cb962754",
   "metadata": {},
   "outputs": [],
   "source": [
    "thistuple = (\"apple\", \"banana\", \"cherry\")\n",
    "y = list(thistuple)\n",
    "y.append(\"orange\")\n",
    "thistuple = tuple(y)"
   ]
  },
  {
   "cell_type": "markdown",
   "id": "140c42f2-e2dd-4ae5-a9b8-0d87bcdfb984",
   "metadata": {},
   "source": [
    "**2.** Add tuple to a tuple. You are allowed to add tuples to tuples, so if you want to add one item, (or many), create a new tuple with the item(s), and add it to the existing tuple:\n",
    "\n",
    "**Example**  \n",
    "Create a new tuple with the value \"orange\", and add that tuple:"
   ]
  },
  {
   "cell_type": "code",
   "execution_count": 63,
   "id": "e1f1a369-a95b-450e-b065-c484c49fed16",
   "metadata": {},
   "outputs": [
    {
     "name": "stdout",
     "output_type": "stream",
     "text": [
      "('apple', 'banana', 'cherry', 'orange')\n"
     ]
    }
   ],
   "source": [
    "thistuple = (\"apple\", \"banana\", \"cherry\")\n",
    "y = (\"orange\",)\n",
    "thistuple += y\n",
    "\n",
    "print(thistuple)"
   ]
  },
  {
   "cell_type": "markdown",
   "id": "46d730b7-82c4-4a2e-97e8-bed2d6760698",
   "metadata": {},
   "source": [
    ">Note: When creating a tuple with only one item, remember to include a comma after the item, otherwise it will not be identified as a tuple.\n",
    "\n",
    "**Remove Items**  \n",
    ">Note: You cannot remove items in a tuple.\n",
    "\n",
    "Tuples are unchangeable, so you cannot remove items from it, but you can use the same workaround as we used for changing and adding tuple items:\n",
    "\n",
    "**Example**  \n",
    "Convert the tuple into a list, remove \"apple\", and convert it back into a tuple:"
   ]
  },
  {
   "cell_type": "code",
   "execution_count": 64,
   "id": "e6369f6a-9e68-4bb0-84ef-91109fca320c",
   "metadata": {},
   "outputs": [],
   "source": [
    "thistuple = (\"apple\", \"banana\", \"cherry\")\n",
    "y = list(thistuple)\n",
    "y.remove(\"apple\")\n",
    "thistuple = tuple(y)"
   ]
  },
  {
   "cell_type": "markdown",
   "id": "894b779f-d8e1-4c2b-9618-38e664a55b56",
   "metadata": {},
   "source": [
    "Or you can delete the tuple completely:\n",
    "\n",
    "**Example**  \n",
    "The del keyword can delete the tuple completely:"
   ]
  },
  {
   "cell_type": "code",
   "execution_count": 65,
   "id": "ccce2974-8146-4947-8c8b-cf355b5c0e04",
   "metadata": {},
   "outputs": [
    {
     "ename": "NameError",
     "evalue": "name 'thistuple' is not defined",
     "output_type": "error",
     "traceback": [
      "\u001b[1;31m---------------------------------------------------------------------------\u001b[0m",
      "\u001b[1;31mNameError\u001b[0m                                 Traceback (most recent call last)",
      "Cell \u001b[1;32mIn[65], line 3\u001b[0m\n\u001b[0;32m      1\u001b[0m thistuple \u001b[38;5;241m=\u001b[39m (\u001b[38;5;124m\"\u001b[39m\u001b[38;5;124mapple\u001b[39m\u001b[38;5;124m\"\u001b[39m, \u001b[38;5;124m\"\u001b[39m\u001b[38;5;124mbanana\u001b[39m\u001b[38;5;124m\"\u001b[39m, \u001b[38;5;124m\"\u001b[39m\u001b[38;5;124mcherry\u001b[39m\u001b[38;5;124m\"\u001b[39m)\n\u001b[0;32m      2\u001b[0m \u001b[38;5;28;01mdel\u001b[39;00m thistuple\n\u001b[1;32m----> 3\u001b[0m \u001b[38;5;28mprint\u001b[39m(\u001b[43mthistuple\u001b[49m) \u001b[38;5;66;03m#this will raise an error because the tuple no longer exists\u001b[39;00m\n",
      "\u001b[1;31mNameError\u001b[0m: name 'thistuple' is not defined"
     ]
    }
   ],
   "source": [
    "thistuple = (\"apple\", \"banana\", \"cherry\")\n",
    "del thistuple\n",
    "print(thistuple) #this will raise an error because the tuple no longer exists"
   ]
  },
  {
   "cell_type": "markdown",
   "id": "f8738378-821f-4dfe-a86d-941c0260fc5e",
   "metadata": {},
   "source": [
    "## Unpack Tuples"
   ]
  },
  {
   "cell_type": "markdown",
   "id": "08c362b8-2962-45e1-8b41-38edb2fc694c",
   "metadata": {},
   "source": [
    "When we create a tuple, we normally assign values to it. This is called \"packing\" a tuple:\n",
    "\n",
    "**Example**  \n",
    "Packing a tuple:"
   ]
  },
  {
   "cell_type": "code",
   "execution_count": 66,
   "id": "a4b0ccb3-ddf9-4b5a-8246-8f3ed262d5b2",
   "metadata": {},
   "outputs": [],
   "source": [
    "fruits = (\"apple\", \"banana\", \"cherry\")"
   ]
  },
  {
   "cell_type": "markdown",
   "id": "b40f89d9-0431-4683-a3d5-396bef1fd599",
   "metadata": {},
   "source": [
    "But, in Python, we are also allowed to extract the values back into variables. This is called \"unpacking\":\n",
    "\n",
    "**Example**  \n",
    "Unpacking a tuple:"
   ]
  },
  {
   "cell_type": "code",
   "execution_count": 67,
   "id": "db8df399-f6f5-47ff-8b36-01db270eee8d",
   "metadata": {},
   "outputs": [
    {
     "name": "stdout",
     "output_type": "stream",
     "text": [
      "apple\n",
      "banana\n",
      "cherry\n"
     ]
    }
   ],
   "source": [
    "fruits = (\"apple\", \"banana\", \"cherry\")\n",
    "\n",
    "(green, yellow, red) = fruits\n",
    "\n",
    "print(green)\n",
    "print(yellow)\n",
    "print(red)"
   ]
  },
  {
   "cell_type": "markdown",
   "id": "036065f0-7ed0-4008-9688-12730497437f",
   "metadata": {},
   "source": [
    "Note: The number of variables must match the number of values in the tuple, if not, you must use an asterisk to collect the remaining values as a list.\n",
    "\n",
    "**Using Asterisk***  \n",
    "If the number of variables is less than the number of values, you can add an * to the variable name and the values will be assigned to the variable as a list:\n",
    "\n",
    "**Example**  \n",
    "Assign the rest of the values as a list called \"red\":"
   ]
  },
  {
   "cell_type": "code",
   "execution_count": 68,
   "id": "c3db7f52-396b-4749-a442-e4f3fed59867",
   "metadata": {},
   "outputs": [
    {
     "name": "stdout",
     "output_type": "stream",
     "text": [
      "apple\n",
      "banana\n",
      "['cherry', 'strawberry', 'raspberry']\n"
     ]
    }
   ],
   "source": [
    "fruits = (\"apple\", \"banana\", \"cherry\", \"strawberry\", \"raspberry\")\n",
    "\n",
    "(green, yellow, *red) = fruits\n",
    "\n",
    "print(green)\n",
    "print(yellow)\n",
    "print(red)"
   ]
  },
  {
   "cell_type": "markdown",
   "id": "d2124707-88db-4bf4-ab92-dbce5af9adfa",
   "metadata": {},
   "source": [
    "If the asterisk is added to another variable name than the last, Python will assign values to the variable until the number of values left matches the number of variables left.\n",
    "\n",
    "**Example**  \n",
    "Add a list of values the \"tropic\" variable:"
   ]
  },
  {
   "cell_type": "code",
   "execution_count": 69,
   "id": "02746e9e-2260-483b-911d-8d75cb631ea4",
   "metadata": {},
   "outputs": [
    {
     "name": "stdout",
     "output_type": "stream",
     "text": [
      "apple\n",
      "['mango', 'papaya', 'pineapple']\n",
      "cherry\n"
     ]
    }
   ],
   "source": [
    "fruits = (\"apple\", \"mango\", \"papaya\", \"pineapple\", \"cherry\")\n",
    "\n",
    "(green, *tropic, red) = fruits\n",
    "\n",
    "print(green)\n",
    "print(tropic)\n",
    "print(red)"
   ]
  },
  {
   "cell_type": "markdown",
   "id": "e2317736-f776-4a3a-8afb-7009c839ef66",
   "metadata": {},
   "source": [
    "## Loop Tuples"
   ]
  },
  {
   "cell_type": "markdown",
   "id": "19d6cee8-f3ad-4978-9992-4a8144cc3f3d",
   "metadata": {},
   "source": [
    "Loop Through a Tuple\n",
    "You can loop through the tuple items by using a for loop.\n",
    "\n",
    "**Example**  \n",
    "Iterate through the items and print the values:"
   ]
  },
  {
   "cell_type": "code",
   "execution_count": 70,
   "id": "13dbf159-9a3a-403a-9089-e85bdeff5c78",
   "metadata": {},
   "outputs": [
    {
     "name": "stdout",
     "output_type": "stream",
     "text": [
      "apple\n",
      "banana\n",
      "cherry\n"
     ]
    }
   ],
   "source": [
    "thistuple = (\"apple\", \"banana\", \"cherry\")\n",
    "for x in thistuple:\n",
    "  print(x)"
   ]
  },
  {
   "cell_type": "markdown",
   "id": "d503767d-6b27-4f81-a746-076c2cf688b1",
   "metadata": {},
   "source": [
    "**Loop Through the Index Numbers**  \n",
    "You can also loop through the tuple items by referring to their index number.\n",
    "\n",
    "Use the range() and len() functions to create a suitable iterable.\n",
    "\n",
    "**Example**  \n",
    "Print all items by referring to their index number:"
   ]
  },
  {
   "cell_type": "code",
   "execution_count": 71,
   "id": "2f3b54f0-5fd8-45fa-987b-75b827310dd8",
   "metadata": {},
   "outputs": [
    {
     "name": "stdout",
     "output_type": "stream",
     "text": [
      "apple\n",
      "banana\n",
      "cherry\n"
     ]
    }
   ],
   "source": [
    "thistuple = (\"apple\", \"banana\", \"cherry\")\n",
    "for i in range(len(thistuple)):\n",
    "  print(thistuple[i])"
   ]
  },
  {
   "cell_type": "markdown",
   "id": "6e9fafa3-aad1-4213-999c-973316864284",
   "metadata": {},
   "source": [
    "**Using a While Loop**  \n",
    "You can loop through the tuple items by using a while loop.\n",
    "\n",
    "Use the len() function to determine the length of the tuple, then start at 0 and loop your way through the tuple items by referring to their indexes.\n",
    "\n",
    "Remember to increase the index by 1 after each iteration.\n",
    "\n",
    "**Example**  \n",
    "Print all items, using a while loop to go through all the index numbers:"
   ]
  },
  {
   "cell_type": "code",
   "execution_count": 72,
   "id": "ab25bce0-fea0-4e15-9ff2-e4fa77b4a979",
   "metadata": {},
   "outputs": [
    {
     "name": "stdout",
     "output_type": "stream",
     "text": [
      "apple\n",
      "banana\n",
      "cherry\n"
     ]
    }
   ],
   "source": [
    "thistuple = (\"apple\", \"banana\", \"cherry\")\n",
    "i = 0\n",
    "while i < len(thistuple):\n",
    "  print(thistuple[i])\n",
    "  i = i + 1"
   ]
  },
  {
   "cell_type": "markdown",
   "id": "9994c501-94fa-40b0-80b9-7563596d1fc3",
   "metadata": {},
   "source": [
    "## Join Tuples"
   ]
  },
  {
   "cell_type": "markdown",
   "id": "f2e2dae6-9ae7-49a0-9498-1b88f3dcc892",
   "metadata": {},
   "source": [
    "**Join Two Tuples**  \n",
    "To join two or more tuples you can use the + operator:\n",
    "\n",
    "**Example**  \n",
    "Join two tuples:"
   ]
  },
  {
   "cell_type": "code",
   "execution_count": 73,
   "id": "5ec9cd9b-b67c-4743-9985-2cc5b108c805",
   "metadata": {},
   "outputs": [
    {
     "name": "stdout",
     "output_type": "stream",
     "text": [
      "('a', 'b', 'c', 1, 2, 3)\n"
     ]
    }
   ],
   "source": [
    "tuple1 = (\"a\", \"b\" , \"c\")\n",
    "tuple2 = (1, 2, 3)\n",
    "\n",
    "tuple3 = tuple1 + tuple2\n",
    "print(tuple3)"
   ]
  },
  {
   "cell_type": "markdown",
   "id": "29d6d153-7d14-48c2-a109-f7bbd7d3ca42",
   "metadata": {},
   "source": [
    "**Multiply Tuples**  \n",
    "If you want to multiply the content of a tuple a given number of times, you can use the * operator:\n",
    "\n",
    "**Example**\n",
    "Multiply the fruits tuple by 2:"
   ]
  },
  {
   "cell_type": "code",
   "execution_count": 74,
   "id": "85635278-ff62-4274-9bf9-747e5b31909e",
   "metadata": {},
   "outputs": [
    {
     "name": "stdout",
     "output_type": "stream",
     "text": [
      "('apple', 'banana', 'cherry', 'apple', 'banana', 'cherry')\n"
     ]
    }
   ],
   "source": [
    "fruits = (\"apple\", \"banana\", \"cherry\")\n",
    "mytuple = fruits * 2\n",
    "\n",
    "print(mytuple)"
   ]
  },
  {
   "cell_type": "markdown",
   "id": "7167446c-1c02-4cd9-9e3e-e71035228ea4",
   "metadata": {},
   "source": [
    "## Tuple Methods"
   ]
  },
  {
   "cell_type": "markdown",
   "id": "e78e7266-da38-43db-979c-323126da8169",
   "metadata": {},
   "source": [
    "Python has two built-in methods that you can use on tuples  \n",
    "| Method  | Description                                                                             |\n",
    "| ------- | --------------------------------------------------------------------------------------- |\n",
    "| count() | Returns the number of times a specified value occurs in a tuple                         |\n",
    "| index() | Searches the tuple for a specified value and returns the position of where it was found |"
   ]
  },
  {
   "cell_type": "markdown",
   "id": "13ebe971-af91-47f8-baa2-ca40850181f1",
   "metadata": {},
   "source": [
    "**tuple.count(value)**  \n",
    "_Method returns the number of times a specified value appears in the tuple._  \n",
    "value :\tRequired. The item to search for"
   ]
  },
  {
   "cell_type": "code",
   "execution_count": 42,
   "id": "4bd78936-de40-454d-80ce-350ca23c8cd1",
   "metadata": {},
   "outputs": [
    {
     "name": "stdout",
     "output_type": "stream",
     "text": [
      "2\n"
     ]
    }
   ],
   "source": [
    "#Return the number of times the value 5 appears in the tuple:\n",
    "thistuple = (1, 3, 7, 8, 7, 5, 4, 6, 8, 5)\n",
    "x = thistuple.count(5)\n",
    "print(x)"
   ]
  },
  {
   "cell_type": "markdown",
   "id": "c6eb67d1-b87f-42f6-8a15-8f0ecc013f54",
   "metadata": {},
   "source": [
    "**tuple.index(value)**  \n",
    "_value\tRequired. The item to search for_  \n",
    "The index() : method finds the first occurrence of the specified value.\n",
    "The index() : method raises an exception if the value is not found."
   ]
  },
  {
   "cell_type": "code",
   "execution_count": 44,
   "id": "11286109-4eaa-42c5-ad7d-85137da51a63",
   "metadata": {},
   "outputs": [
    {
     "name": "stdout",
     "output_type": "stream",
     "text": [
      "3\n"
     ]
    }
   ],
   "source": [
    "#Search for the first occurrence of the value 8, and return its position:\n",
    "thistuple = (1, 3, 7, 8, 7, 5, 4, 6, 8, 5)\n",
    "x = thistuple.index(8)\n",
    "print(x)"
   ]
  },
  {
   "cell_type": "markdown",
   "id": "e1cf155f-b93f-4a6d-8aeb-833cf5bcb6c2",
   "metadata": {
    "jp-MarkdownHeadingCollapsed": true
   },
   "source": [
    "# Python Sets"
   ]
  },
  {
   "cell_type": "markdown",
   "id": "a015a534-7fbb-40b2-a7a6-b1769f6e4b69",
   "metadata": {},
   "source": [
    "Sets are used to store multiple items in a single variable.\n",
    "\n",
    "Set is one of 4 built-in data types in Python used to store collections of data, the other 3 are List, Tuple, and Dictionary, all with different qualities and usage.\n",
    "\n",
    "A set is a collection which is unordered, unchangeable*, and unindexed.\n",
    "\n",
    "> Note: Set items are unchangeable, but you can remove items and add new items.\n",
    "\n",
    "Sets are written with curly brackets.\n",
    "\n",
    "**Example**  \n",
    "Create a Set:"
   ]
  },
  {
   "cell_type": "code",
   "execution_count": 77,
   "id": "af57ece8-b74d-4ee3-ba31-ec4339ffc47d",
   "metadata": {},
   "outputs": [
    {
     "name": "stdout",
     "output_type": "stream",
     "text": [
      "{'banana', 'apple', 'cherry'}\n"
     ]
    }
   ],
   "source": [
    "thisset = {\"apple\", \"banana\", \"cherry\"}\n",
    "print(thisset)"
   ]
  },
  {
   "cell_type": "markdown",
   "id": "eefafd43-4e39-41be-ab4a-5bc368c66297",
   "metadata": {},
   "source": [
    ">Note: Sets are unordered, so you cannot be sure in which order the items will appear.\n",
    "\n",
    "**Set Items**  \n",
    "Set items are unordered, unchangeable, and do not allow duplicate values.\n",
    "\n",
    "**Unordered**  \n",
    "Unordered means that the items in a set do not have a defined order.\n",
    "\n",
    "Set items can appear in a different order every time you use them, and cannot be referred to by index or key.\n",
    "\n",
    "**Unchangeable**  \n",
    "Set items are unchangeable, meaning that we cannot change the items after the set has been created.\n",
    "\n",
    ">Once a set is created, you cannot change its items, but you can remove items and add new items.\n",
    "\n",
    "**Duplicates Not Allowed**  \n",
    "Sets cannot have two items with the same value.\n",
    "\n",
    "**Example**  \n",
    "Duplicate values will be ignored:"
   ]
  },
  {
   "cell_type": "code",
   "execution_count": 78,
   "id": "f8a1dad8-5279-476e-8773-88cc26fcbe57",
   "metadata": {},
   "outputs": [
    {
     "name": "stdout",
     "output_type": "stream",
     "text": [
      "{'banana', 'apple', 'cherry'}\n"
     ]
    }
   ],
   "source": [
    "thisset = {\"apple\", \"banana\", \"cherry\", \"apple\"}\n",
    "print(thisset)"
   ]
  },
  {
   "cell_type": "markdown",
   "id": "78941f15-38c1-43b0-88ec-b7227fea8c3c",
   "metadata": {},
   "source": [
    ">Note: The values True and 1 are considered the same value in sets, and are treated as duplicates:\n",
    "\n",
    "**Example**  \n",
    "True and 1 is considered the same value:"
   ]
  },
  {
   "cell_type": "code",
   "execution_count": 79,
   "id": "08486e39-a60e-42fb-97d0-a21f4f3b69f6",
   "metadata": {},
   "outputs": [
    {
     "name": "stdout",
     "output_type": "stream",
     "text": [
      "{'banana', True, 2, 'cherry', 'apple'}\n"
     ]
    }
   ],
   "source": [
    "thisset = {\"apple\", \"banana\", \"cherry\", True, 1, 2}\n",
    "print(thisset)"
   ]
  },
  {
   "cell_type": "markdown",
   "id": "effd7235-b160-40dc-b85d-64133153569f",
   "metadata": {},
   "source": [
    ">Note: The values False and 0 are considered the same value in sets, and are treated as duplicates:\n",
    "\n",
    "**Example**  \n",
    "False and 0 is considered the same value:"
   ]
  },
  {
   "cell_type": "code",
   "execution_count": 80,
   "id": "5d8ea869-30db-4918-bc3e-a94ca6effb58",
   "metadata": {},
   "outputs": [
    {
     "name": "stdout",
     "output_type": "stream",
     "text": [
      "{'banana', False, True, 'cherry', 'apple'}\n"
     ]
    }
   ],
   "source": [
    "thisset = {\"apple\", \"banana\", \"cherry\", False, True, 0}\n",
    "print(thisset)"
   ]
  },
  {
   "cell_type": "markdown",
   "id": "e6688e52-262f-4b31-a8c3-13c99f33a2f4",
   "metadata": {},
   "source": [
    "Get the Length of a Set\n",
    "To determine how many items a set has, use the len() function.\n",
    "\n",
    "**Example**  \n",
    "Get the number of items in a set:"
   ]
  },
  {
   "cell_type": "code",
   "execution_count": 81,
   "id": "74bd6169-0b66-42b6-b688-a54fb9f2700c",
   "metadata": {},
   "outputs": [
    {
     "name": "stdout",
     "output_type": "stream",
     "text": [
      "3\n"
     ]
    }
   ],
   "source": [
    "thisset = {\"apple\", \"banana\", \"cherry\"}\n",
    "\n",
    "print(len(thisset))"
   ]
  },
  {
   "cell_type": "markdown",
   "id": "2ddf979e-2410-4653-ab5e-14091a4d7c10",
   "metadata": {},
   "source": [
    "**Set Items - Data Types**  \n",
    "Set items can be of any data type:\n",
    "\n",
    "**Example**  \n",
    "String, int and boolean data types:"
   ]
  },
  {
   "cell_type": "code",
   "execution_count": 82,
   "id": "c37117ef-b11e-4412-b146-c0ff16a3e564",
   "metadata": {},
   "outputs": [],
   "source": [
    "set1 = {\"apple\", \"banana\", \"cherry\"}\n",
    "set2 = {1, 5, 7, 9, 3}\n",
    "set3 = {True, False, False}"
   ]
  },
  {
   "cell_type": "markdown",
   "id": "62ad5064-a072-4dad-b7b8-92717011ba54",
   "metadata": {},
   "source": [
    "A set can contain different data types:\n",
    "\n",
    "**Example**  \n",
    "A set with strings, integers and boolean values:"
   ]
  },
  {
   "cell_type": "code",
   "execution_count": 83,
   "id": "7759e28b-7a56-4b61-84d6-1109b7360402",
   "metadata": {},
   "outputs": [],
   "source": [
    "set1 = {\"abc\", 34, True, 40, \"male\"}"
   ]
  },
  {
   "cell_type": "markdown",
   "id": "f859d16c-1bc2-4cfd-b601-6c24ba784ae6",
   "metadata": {},
   "source": [
    "**type()**  \n",
    "From Python's perspective, sets are defined as objects with the data type 'set':\n",
    "\n",
    "<class 'set'>  \n",
    "**Example**  \n",
    "What is the data type of a set?"
   ]
  },
  {
   "cell_type": "code",
   "execution_count": 84,
   "id": "5892ec72-c9a1-4ec2-9f7a-6f6e62115e1d",
   "metadata": {},
   "outputs": [
    {
     "name": "stdout",
     "output_type": "stream",
     "text": [
      "<class 'set'>\n"
     ]
    }
   ],
   "source": [
    "myset = {\"apple\", \"banana\", \"cherry\"}\n",
    "print(type(myset))"
   ]
  },
  {
   "cell_type": "markdown",
   "id": "b45cb141-977a-48b7-ae6b-8c75a287aecd",
   "metadata": {},
   "source": [
    "**The set() Constructor**  \n",
    "It is also possible to use the set() constructor to make a set.\n",
    "\n",
    "**Example**  \n",
    "Using the set() constructor to make a set:"
   ]
  },
  {
   "cell_type": "code",
   "execution_count": 85,
   "id": "d31c5620-ab57-48ae-a934-4f16dca55872",
   "metadata": {},
   "outputs": [
    {
     "name": "stdout",
     "output_type": "stream",
     "text": [
      "{'banana', 'apple', 'cherry'}\n"
     ]
    }
   ],
   "source": [
    "thisset = set((\"apple\", \"banana\", \"cherry\")) # note the double round-brackets\n",
    "print(thisset)"
   ]
  },
  {
   "cell_type": "markdown",
   "id": "0ebe71df-9708-4e53-83c8-598bea125acb",
   "metadata": {},
   "source": [
    "## Access Set Items"
   ]
  },
  {
   "cell_type": "markdown",
   "id": "278b3259-c959-43d5-a3c1-5ec0d4d38716",
   "metadata": {},
   "source": [
    "You cannot access items in a set by referring to an index or a key.\n",
    "\n",
    "But you can loop through the set items using a for loop, or ask if a specified value is present in a set, by using the in keyword.\n",
    "\n",
    "**Example**  \n",
    "Loop through the set, and print the values:"
   ]
  },
  {
   "cell_type": "code",
   "execution_count": 86,
   "id": "cdbceb47-57c0-4a9b-b340-70537bc312ff",
   "metadata": {},
   "outputs": [
    {
     "name": "stdout",
     "output_type": "stream",
     "text": [
      "banana\n",
      "apple\n",
      "cherry\n"
     ]
    }
   ],
   "source": [
    "thisset = {\"apple\", \"banana\", \"cherry\"}\n",
    "\n",
    "for x in thisset:\n",
    "  print(x)"
   ]
  },
  {
   "cell_type": "markdown",
   "id": "e42695c2-4827-40f5-b112-03ea009d2f27",
   "metadata": {},
   "source": [
    "**Example**  \n",
    "Check if \"banana\" is present in the set:"
   ]
  },
  {
   "cell_type": "code",
   "execution_count": 87,
   "id": "ff0d689d-7521-447d-94bf-8754aec9e8f3",
   "metadata": {},
   "outputs": [
    {
     "name": "stdout",
     "output_type": "stream",
     "text": [
      "True\n"
     ]
    }
   ],
   "source": [
    "thisset = {\"apple\", \"banana\", \"cherry\"}\n",
    "print(\"banana\" in thisset)"
   ]
  },
  {
   "cell_type": "markdown",
   "id": "2b0079a0-a21d-4f88-bf1a-1b4997d351bf",
   "metadata": {},
   "source": [
    "**Example**  \n",
    "Check if \"banana\" is NOT present in the set:"
   ]
  },
  {
   "cell_type": "code",
   "execution_count": 88,
   "id": "60b20d95-0902-4b1c-b308-e34775a44bff",
   "metadata": {},
   "outputs": [
    {
     "name": "stdout",
     "output_type": "stream",
     "text": [
      "False\n"
     ]
    }
   ],
   "source": [
    "thisset = {\"apple\", \"banana\", \"cherry\"}\n",
    "print(\"banana\" not in thisset)"
   ]
  },
  {
   "cell_type": "markdown",
   "id": "972e0249-d68c-41f6-9569-4b09313af906",
   "metadata": {},
   "source": [
    "**Change Items**  \n",
    ">Once a set is created, you cannot change its items, but you can add new items."
   ]
  },
  {
   "cell_type": "markdown",
   "id": "3e3d573d-0c83-44ac-ba3a-a10cdc1aaaf3",
   "metadata": {},
   "source": [
    "## Add Set Items"
   ]
  },
  {
   "cell_type": "markdown",
   "id": "d4de0508-6d79-414d-8f6f-6dd8f2daf1b0",
   "metadata": {},
   "source": [
    "**Add Items**  \n",
    "Once a set is created, you cannot change its items, but you can add new items.\n",
    "\n",
    "To add one item to a set use the add() method.\n",
    "\n",
    "**Example**  \n",
    "Add an item to a set, using the add() method:"
   ]
  },
  {
   "cell_type": "code",
   "execution_count": 89,
   "id": "0f1e1fe1-59c0-49a3-9d41-dc1d29b3fb41",
   "metadata": {},
   "outputs": [
    {
     "name": "stdout",
     "output_type": "stream",
     "text": [
      "{'banana', 'orange', 'apple', 'cherry'}\n"
     ]
    }
   ],
   "source": [
    "thisset = {\"apple\", \"banana\", \"cherry\"}\n",
    "thisset.add(\"orange\")\n",
    "print(thisset)"
   ]
  },
  {
   "cell_type": "markdown",
   "id": "1af37c54-4f9c-4961-a208-475fefaa89bc",
   "metadata": {},
   "source": [
    "**Add Sets**  \n",
    "To add items from another set into the current set, use the update() method.\n",
    "\n",
    "**Example**  \n",
    "Add elements from tropical into thisset:"
   ]
  },
  {
   "cell_type": "code",
   "execution_count": 90,
   "id": "ca10050a-092d-4bdb-8269-0336648b3bbc",
   "metadata": {},
   "outputs": [
    {
     "name": "stdout",
     "output_type": "stream",
     "text": [
      "{'banana', 'mango', 'cherry', 'papaya', 'apple', 'pineapple'}\n"
     ]
    }
   ],
   "source": [
    "thisset = {\"apple\", \"banana\", \"cherry\"}\n",
    "tropical = {\"pineapple\", \"mango\", \"papaya\"}\n",
    "\n",
    "thisset.update(tropical)\n",
    "print(thisset)"
   ]
  },
  {
   "cell_type": "markdown",
   "id": "f5355edc-b56f-4c0b-bb9c-72c2dcf870f7",
   "metadata": {},
   "source": [
    "**Add Any Iterable**  \n",
    "The object in the update() method does not have to be a set, it can be any iterable object (tuples, lists, dictionaries etc.).\n",
    "\n",
    "**Example**  \n",
    "Add elements of a list to at set:"
   ]
  },
  {
   "cell_type": "code",
   "execution_count": 91,
   "id": "15f32741-75c4-4737-82ac-62c396f8fd3e",
   "metadata": {},
   "outputs": [
    {
     "name": "stdout",
     "output_type": "stream",
     "text": [
      "{'banana', 'orange', 'kiwi', 'cherry', 'apple'}\n"
     ]
    }
   ],
   "source": [
    "thisset = {\"apple\", \"banana\", \"cherry\"}\n",
    "mylist = [\"kiwi\", \"orange\"]\n",
    "\n",
    "thisset.update(mylist)\n",
    "\n",
    "print(thisset)"
   ]
  },
  {
   "cell_type": "markdown",
   "id": "0d299559-bd4c-4171-a47f-b4dda5939be8",
   "metadata": {},
   "source": [
    "## Remove Set Items"
   ]
  },
  {
   "cell_type": "markdown",
   "id": "9913e84b-cc06-456a-b743-83d51b2bc58f",
   "metadata": {},
   "source": [
    "**Remove Item**  \n",
    "To remove an item in a set, use the remove(), or the discard() method.\n",
    "\n",
    "**Example**    \n",
    "Remove \"banana\" by using the remove() method:"
   ]
  },
  {
   "cell_type": "code",
   "execution_count": 92,
   "id": "f31205e9-f5ed-49ec-b3ce-7c6788e167b1",
   "metadata": {},
   "outputs": [
    {
     "name": "stdout",
     "output_type": "stream",
     "text": [
      "{'apple', 'cherry'}\n"
     ]
    }
   ],
   "source": [
    "thisset = {\"apple\", \"banana\", \"cherry\"}\n",
    "thisset.remove(\"banana\")\n",
    "print(thisset)"
   ]
  },
  {
   "cell_type": "markdown",
   "id": "c9bbbf9f-c7f8-4c99-badf-f5f1a4537dc5",
   "metadata": {},
   "source": [
    ">Note: If the item to remove does not exist, remove() will raise an error.\n",
    "\n",
    "**Example**  \n",
    "Remove \"banana\" by using the discard() method:"
   ]
  },
  {
   "cell_type": "code",
   "execution_count": 93,
   "id": "4ffa7950-ece1-423d-92f4-91ea48b89512",
   "metadata": {},
   "outputs": [
    {
     "name": "stdout",
     "output_type": "stream",
     "text": [
      "{'apple', 'cherry'}\n"
     ]
    }
   ],
   "source": [
    "thisset = {\"apple\", \"banana\", \"cherry\"}\n",
    "thisset.discard(\"banana\")\n",
    "print(thisset)"
   ]
  },
  {
   "cell_type": "markdown",
   "id": "b45ad5f1-3cc8-422b-85d9-bf8091b3b003",
   "metadata": {},
   "source": [
    ">Note: If the item to remove does not exist, discard() will NOT raise an error.\n",
    "\n",
    "You can also use the pop() method to remove an item, but this method will remove a random item, so you cannot be sure what item that gets removed.\n",
    "\n",
    "The return value of the pop() method is the removed item.\n",
    "\n",
    "**Example**  \n",
    "Remove a random item by using the pop() method:"
   ]
  },
  {
   "cell_type": "code",
   "execution_count": 94,
   "id": "15a9929b-9f58-401d-a0c4-6c31406143aa",
   "metadata": {},
   "outputs": [
    {
     "name": "stdout",
     "output_type": "stream",
     "text": [
      "banana\n",
      "{'apple', 'cherry'}\n"
     ]
    }
   ],
   "source": [
    "thisset = {\"apple\", \"banana\", \"cherry\"}\n",
    "x = thisset.pop()\n",
    "print(x)\n",
    "print(thisset)"
   ]
  },
  {
   "cell_type": "markdown",
   "id": "92c61c69-b53f-40f9-90eb-9e61fea4cc2e",
   "metadata": {},
   "source": [
    ">Note: Sets are unordered, so when using the pop() method, you do not know which item that gets removed.\n",
    "\n",
    "**Example**  \n",
    "The clear() method empties the set:"
   ]
  },
  {
   "cell_type": "code",
   "execution_count": 95,
   "id": "dba93779-faa3-4543-a141-86c27efef6ee",
   "metadata": {},
   "outputs": [
    {
     "name": "stdout",
     "output_type": "stream",
     "text": [
      "set()\n"
     ]
    }
   ],
   "source": [
    "thisset = {\"apple\", \"banana\", \"cherry\"}\n",
    "thisset.clear()\n",
    "print(thisset)"
   ]
  },
  {
   "cell_type": "markdown",
   "id": "c66f04d7-e926-4bb2-85d4-6eea8c2d6d13",
   "metadata": {},
   "source": [
    "**Example**\n",
    "The del keyword will delete the set completely:"
   ]
  },
  {
   "cell_type": "code",
   "execution_count": 96,
   "id": "54e7cafa-0e90-47f8-ba87-da10012db214",
   "metadata": {},
   "outputs": [
    {
     "ename": "NameError",
     "evalue": "name 'thisset' is not defined",
     "output_type": "error",
     "traceback": [
      "\u001b[1;31m---------------------------------------------------------------------------\u001b[0m",
      "\u001b[1;31mNameError\u001b[0m                                 Traceback (most recent call last)",
      "Cell \u001b[1;32mIn[96], line 3\u001b[0m\n\u001b[0;32m      1\u001b[0m thisset \u001b[38;5;241m=\u001b[39m {\u001b[38;5;124m\"\u001b[39m\u001b[38;5;124mapple\u001b[39m\u001b[38;5;124m\"\u001b[39m, \u001b[38;5;124m\"\u001b[39m\u001b[38;5;124mbanana\u001b[39m\u001b[38;5;124m\"\u001b[39m, \u001b[38;5;124m\"\u001b[39m\u001b[38;5;124mcherry\u001b[39m\u001b[38;5;124m\"\u001b[39m}\n\u001b[0;32m      2\u001b[0m \u001b[38;5;28;01mdel\u001b[39;00m thisset\n\u001b[1;32m----> 3\u001b[0m \u001b[38;5;28mprint\u001b[39m(\u001b[43mthisset\u001b[49m)\n",
      "\u001b[1;31mNameError\u001b[0m: name 'thisset' is not defined"
     ]
    }
   ],
   "source": [
    "thisset = {\"apple\", \"banana\", \"cherry\"}\n",
    "del thisset\n",
    "print(thisset)"
   ]
  },
  {
   "cell_type": "markdown",
   "id": "728e5e97-83f1-4f7d-81e1-444e1070978d",
   "metadata": {},
   "source": [
    "## Loop Sets"
   ]
  },
  {
   "cell_type": "markdown",
   "id": "04b964db-9cd3-4209-af09-8c2e8100de68",
   "metadata": {},
   "source": [
    "**Loop Items**  \n",
    "You can loop through the set items by using a for loop:\n",
    "\n",
    "**Example**  \n",
    "Loop through the set, and print the values:"
   ]
  },
  {
   "cell_type": "code",
   "execution_count": 97,
   "id": "7bf8b1ca-7598-4608-9264-4a1a2366a7d2",
   "metadata": {},
   "outputs": [
    {
     "name": "stdout",
     "output_type": "stream",
     "text": [
      "banana\n",
      "apple\n",
      "cherry\n"
     ]
    }
   ],
   "source": [
    "thisset = {\"apple\", \"banana\", \"cherry\"}\n",
    "\n",
    "for x in thisset:\n",
    "  print(x)"
   ]
  },
  {
   "cell_type": "markdown",
   "id": "60af9f4f-4a4e-4449-9eaa-b21c4232b2b6",
   "metadata": {},
   "source": [
    "## Join Sets"
   ]
  },
  {
   "cell_type": "markdown",
   "id": "03c4b99e-b2a7-453f-9635-54f92e7a1053",
   "metadata": {},
   "source": [
    "There are several ways to join two or more sets in Python.\n",
    "\n",
    "The union() and update() methods joins all items from both sets.\n",
    "\n",
    "The intersection() method keeps ONLY the duplicates.\n",
    "\n",
    "The difference() method keeps the items from the first set that are not in the other set(s).\n",
    "\n",
    "The symmetric_difference() method keeps all items EXCEPT the duplicates.\n",
    "\n",
    "**Union**  \n",
    "The union() method returns a new set with all items from both sets.\n",
    "\n",
    "**Example**  \n",
    "Join set1 and set2 into a new set:"
   ]
  },
  {
   "cell_type": "code",
   "execution_count": 98,
   "id": "cb0edfff-a8e4-483b-8edc-b390be04fc6d",
   "metadata": {},
   "outputs": [
    {
     "name": "stdout",
     "output_type": "stream",
     "text": [
      "{1, 2, 3, 'c', 'a', 'b'}\n"
     ]
    }
   ],
   "source": [
    "set1 = {\"a\", \"b\", \"c\"}\n",
    "set2 = {1, 2, 3}\n",
    "\n",
    "set3 = set1.union(set2)\n",
    "print(set3)"
   ]
  },
  {
   "cell_type": "markdown",
   "id": "36a1960d-e6e5-4287-bfd7-47f6b6e37418",
   "metadata": {},
   "source": [
    "You can use the | operator instead of the union() method, and you will get the same result.\n",
    "\n",
    "**Example**  \n",
    "Use | to join two sets:"
   ]
  },
  {
   "cell_type": "code",
   "execution_count": 99,
   "id": "65c331b7-82b3-4307-9d98-4e5572051f4f",
   "metadata": {},
   "outputs": [
    {
     "name": "stdout",
     "output_type": "stream",
     "text": [
      "{1, 2, 3, 'c', 'a', 'b'}\n"
     ]
    }
   ],
   "source": [
    "set1 = {\"a\", \"b\", \"c\"}\n",
    "set2 = {1, 2, 3}\n",
    "\n",
    "set3 = set1 | set2\n",
    "print(set3)"
   ]
  },
  {
   "cell_type": "markdown",
   "id": "fb643576-ea0b-4fc8-9b77-f6efddc41acf",
   "metadata": {},
   "source": [
    "**Join Multiple Sets**  \n",
    "All the joining methods and operators can be used to join multiple sets.\n",
    "\n",
    "When using a method, just add more sets in the parentheses, separated by commas:\n",
    "\n",
    "**Example**  \n",
    "Join multiple sets with the union() method:"
   ]
  },
  {
   "cell_type": "code",
   "execution_count": 100,
   "id": "d65cc6d5-74b1-46b0-9685-885302a6267b",
   "metadata": {},
   "outputs": [
    {
     "name": "stdout",
     "output_type": "stream",
     "text": [
      "{1, 2, 3, 'Elena', 'cherry', 'b', 'bananas', 'c', 'John', 'a', 'apple'}\n"
     ]
    }
   ],
   "source": [
    "set1 = {\"a\", \"b\", \"c\"}\n",
    "set2 = {1, 2, 3}\n",
    "set3 = {\"John\", \"Elena\"}\n",
    "set4 = {\"apple\", \"bananas\", \"cherry\"}\n",
    "\n",
    "myset = set1.union(set2, set3, set4)\n",
    "print(myset)"
   ]
  },
  {
   "cell_type": "markdown",
   "id": "6cbba275-8e7e-4810-ac81-c87d33654e98",
   "metadata": {},
   "source": [
    "When using the | operator, separate the sets with more | operators:\n",
    "\n",
    "**Example**  \n",
    "Use | to join two sets:"
   ]
  },
  {
   "cell_type": "code",
   "execution_count": 101,
   "id": "a73c592e-489e-41b5-a31b-13c145507f59",
   "metadata": {},
   "outputs": [
    {
     "name": "stdout",
     "output_type": "stream",
     "text": [
      "{1, 2, 3, 'Elena', 'cherry', 'b', 'bananas', 'c', 'John', 'a', 'apple'}\n"
     ]
    }
   ],
   "source": [
    "set1 = {\"a\", \"b\", \"c\"}\n",
    "set2 = {1, 2, 3}\n",
    "set3 = {\"John\", \"Elena\"}\n",
    "set4 = {\"apple\", \"bananas\", \"cherry\"}\n",
    "\n",
    "myset = set1 | set2 | set3 |set4\n",
    "print(myset)"
   ]
  },
  {
   "cell_type": "markdown",
   "id": "fc8eda6b-3b04-4ec6-9784-a97b43a97e17",
   "metadata": {},
   "source": [
    "**Join a Set and a Tuple**  \n",
    "The union() method allows you to join a set with other data types, like lists or tuples.\n",
    "\n",
    "The result will be a set.\n",
    "\n",
    "**Example**  \n",
    "Join a set with a tuple:"
   ]
  },
  {
   "cell_type": "code",
   "execution_count": 102,
   "id": "5b1d2e94-41cc-4a7d-a8ef-617df70f89f9",
   "metadata": {},
   "outputs": [
    {
     "name": "stdout",
     "output_type": "stream",
     "text": [
      "{1, 2, 3, 'b', 'c', 'a'}\n"
     ]
    }
   ],
   "source": [
    "x = {\"a\", \"b\", \"c\"}\n",
    "y = (1, 2, 3)\n",
    "\n",
    "z = x.union(y)\n",
    "print(z)"
   ]
  },
  {
   "cell_type": "markdown",
   "id": "473a349d-e935-49ba-ad7a-01e8b1c9fe3b",
   "metadata": {},
   "source": [
    ">Note: The  | operator only allows you to join sets with sets, and not with other data types like you can with the  union() method.\n",
    "\n",
    "**Update**  \n",
    "The update() method inserts all items from one set into another.\n",
    "\n",
    "The update() changes the original set, and does not return a new set.\n",
    "\n",
    "**Example**  \n",
    "The update() method inserts the items in set2 into set1:"
   ]
  },
  {
   "cell_type": "code",
   "execution_count": 103,
   "id": "c5a87935-094e-4a63-80bd-07ec29c959c2",
   "metadata": {},
   "outputs": [
    {
     "name": "stdout",
     "output_type": "stream",
     "text": [
      "{1, 2, 3, 'c', 'a', 'b'}\n"
     ]
    }
   ],
   "source": [
    "set1 = {\"a\", \"b\" , \"c\"}\n",
    "set2 = {1, 2, 3}\n",
    "\n",
    "set1.update(set2)\n",
    "print(set1)"
   ]
  },
  {
   "cell_type": "markdown",
   "id": "27fb5831-72de-40da-a33c-9a1a9931b7cf",
   "metadata": {},
   "source": [
    ">Note: Both union() and update() will exclude any duplicate items.\n",
    "\n",
    "**Intersection**  \n",
    "Keep ONLY the duplicates\n",
    "\n",
    "The intersection() method will return a new set, that only contains the items that are present in both sets.\n",
    "\n",
    "**Example**  \n",
    "Join set1 and set2, but keep only the duplicates:"
   ]
  },
  {
   "cell_type": "code",
   "execution_count": 104,
   "id": "c9d8a1b1-63dc-4b6a-a578-c36dccb5388d",
   "metadata": {},
   "outputs": [
    {
     "name": "stdout",
     "output_type": "stream",
     "text": [
      "{'apple'}\n"
     ]
    }
   ],
   "source": [
    "set1 = {\"apple\", \"banana\", \"cherry\"}\n",
    "set2 = {\"google\", \"microsoft\", \"apple\"}\n",
    "\n",
    "set3 = set1.intersection(set2)\n",
    "print(set3)"
   ]
  },
  {
   "cell_type": "markdown",
   "id": "9d1e48ae-8cc1-4067-8577-dc67f566bf23",
   "metadata": {},
   "source": [
    "You can use the & operator instead of the intersection() method, and you will get the same result.\n",
    "\n",
    "**Example**  \n",
    "Use & to join two sets:"
   ]
  },
  {
   "cell_type": "code",
   "execution_count": 105,
   "id": "7aa4807f-7f91-4cf9-a29c-5205f8d7bf79",
   "metadata": {},
   "outputs": [
    {
     "name": "stdout",
     "output_type": "stream",
     "text": [
      "{'apple'}\n"
     ]
    }
   ],
   "source": [
    "set1 = {\"apple\", \"banana\", \"cherry\"}\n",
    "set2 = {\"google\", \"microsoft\", \"apple\"}\n",
    "\n",
    "set3 = set1 & set2\n",
    "print(set3)"
   ]
  },
  {
   "cell_type": "markdown",
   "id": "8d355046-3bd7-43f7-8d56-c4231e49fb3c",
   "metadata": {},
   "source": [
    ">Note: The & operator only allows you to join sets with sets, and not with other data types like you can with the intersection() method.\n",
    "\n",
    "The intersection_update() method will also keep ONLY the duplicates, but it will change the original set instead of returning a new set.\n",
    "\n",
    "**Example**  \n",
    "Keep the items that exist in both set1, and set2:"
   ]
  },
  {
   "cell_type": "code",
   "execution_count": 106,
   "id": "31962273-582e-4fe4-ad75-4c1b6047d69d",
   "metadata": {},
   "outputs": [
    {
     "name": "stdout",
     "output_type": "stream",
     "text": [
      "{'apple'}\n"
     ]
    }
   ],
   "source": [
    "set1 = {\"apple\", \"banana\", \"cherry\"}\n",
    "set2 = {\"google\", \"microsoft\", \"apple\"}\n",
    "\n",
    "set1.intersection_update(set2)\n",
    "\n",
    "print(set1)"
   ]
  },
  {
   "cell_type": "markdown",
   "id": "49e900b4-403e-4a14-83ab-ecc1b2786685",
   "metadata": {},
   "source": [
    "The values True and 1 are considered the same value. The same goes for False and 0.\n",
    "\n",
    "**Example**  \n",
    "Join sets that contains the values True, False, 1, and 0, and see what is considered as duplicates:"
   ]
  },
  {
   "cell_type": "code",
   "execution_count": 107,
   "id": "e7874b8a-5765-4648-aa4e-7f0dc8ea070a",
   "metadata": {},
   "outputs": [
    {
     "name": "stdout",
     "output_type": "stream",
     "text": [
      "{False, 1, 'apple'}\n"
     ]
    }
   ],
   "source": [
    "set1 = {\"apple\", 1,  \"banana\", 0, \"cherry\"}\n",
    "set2 = {False, \"google\", 1, \"apple\", 2, True}\n",
    "\n",
    "set3 = set1.intersection(set2)\n",
    "\n",
    "print(set3)"
   ]
  },
  {
   "cell_type": "markdown",
   "id": "c63c3806-eeef-40e4-b253-b5df6e320a6a",
   "metadata": {},
   "source": [
    "**Difference**  \n",
    "The difference() method will return a new set that will contain only the items from the first set that are not present in the other set.\n",
    "\n",
    "**Example**  \n",
    "Keep all items from set1 that are not in set2:"
   ]
  },
  {
   "cell_type": "code",
   "execution_count": 108,
   "id": "c61b078d-6638-432b-afa4-0d2e6eed611a",
   "metadata": {},
   "outputs": [
    {
     "name": "stdout",
     "output_type": "stream",
     "text": [
      "{'banana', 'cherry'}\n"
     ]
    }
   ],
   "source": [
    "set1 = {\"apple\", \"banana\", \"cherry\"}\n",
    "set2 = {\"google\", \"microsoft\", \"apple\"}\n",
    "\n",
    "set3 = set1.difference(set2)\n",
    "\n",
    "print(set3)"
   ]
  },
  {
   "cell_type": "markdown",
   "id": "fbf019dd-d402-4a00-ac2c-9a333ffa8e8d",
   "metadata": {},
   "source": [
    "You can use the - operator instead of the difference() method, and you will get the same result.\n",
    "\n",
    "**Example**  \n",
    "Use - to join two sets:"
   ]
  },
  {
   "cell_type": "code",
   "execution_count": 109,
   "id": "aa7b097c-8519-41a2-9a0f-2f268b2dea6b",
   "metadata": {},
   "outputs": [
    {
     "name": "stdout",
     "output_type": "stream",
     "text": [
      "{'banana', 'cherry'}\n"
     ]
    }
   ],
   "source": [
    "set1 = {\"apple\", \"banana\", \"cherry\"}\n",
    "set2 = {\"google\", \"microsoft\", \"apple\"}\n",
    "\n",
    "set3 = set1 - set2\n",
    "print(set3)"
   ]
  },
  {
   "cell_type": "markdown",
   "id": "13dfb603-5cdc-4181-85ab-de7f40da1f4e",
   "metadata": {},
   "source": [
    ">Note: The - operator only allows you to join sets with sets, and not with other data types like you can with the difference() method.\n",
    "\n",
    "The difference_update() method will also keep the items from the first set that are not in the other set, but it will change the original set instead of returning a new set.\n",
    "\n",
    "**Example**  \n",
    "Use the difference_update() method to keep the items that are not present in both sets:"
   ]
  },
  {
   "cell_type": "code",
   "execution_count": 110,
   "id": "a9223fc2-f106-42bf-b860-5802d2cee70f",
   "metadata": {},
   "outputs": [
    {
     "name": "stdout",
     "output_type": "stream",
     "text": [
      "{'banana', 'cherry'}\n"
     ]
    }
   ],
   "source": [
    "set1 = {\"apple\", \"banana\", \"cherry\"}\n",
    "set2 = {\"google\", \"microsoft\", \"apple\"}\n",
    "\n",
    "set1.difference_update(set2)\n",
    "\n",
    "print(set1)"
   ]
  },
  {
   "cell_type": "markdown",
   "id": "3215b81e-e09a-42a7-ab81-6d946ed3f8b4",
   "metadata": {},
   "source": [
    "**Symmetric Differences**  \n",
    "The symmetric_difference() method will keep only the elements that are NOT present in both sets.\n",
    "\n",
    "**Example**  \n",
    "Keep the items that are not present in both sets:"
   ]
  },
  {
   "cell_type": "code",
   "execution_count": 111,
   "id": "ae9e8556-4797-4f4d-9256-ea257bf0dae8",
   "metadata": {},
   "outputs": [
    {
     "name": "stdout",
     "output_type": "stream",
     "text": [
      "{'google', 'banana', 'microsoft', 'cherry'}\n"
     ]
    }
   ],
   "source": [
    "set1 = {\"apple\", \"banana\", \"cherry\"}\n",
    "set2 = {\"google\", \"microsoft\", \"apple\"}\n",
    "\n",
    "set3 = set1.symmetric_difference(set2)\n",
    "\n",
    "print(set3)"
   ]
  },
  {
   "cell_type": "markdown",
   "id": "a16da45f-97e8-4001-9b65-cc00a945e4ba",
   "metadata": {},
   "source": [
    "You can use the ^ operator instead of the symmetric_difference() method, and you will get the same result.\n",
    "\n",
    "**Example**  \n",
    "Use ^ to join two sets:"
   ]
  },
  {
   "cell_type": "code",
   "execution_count": 112,
   "id": "ea7bebb9-46ca-4c7c-9a13-85ac915add06",
   "metadata": {},
   "outputs": [
    {
     "name": "stdout",
     "output_type": "stream",
     "text": [
      "{'google', 'banana', 'microsoft', 'cherry'}\n"
     ]
    }
   ],
   "source": [
    "set1 = {\"apple\", \"banana\", \"cherry\"}\n",
    "set2 = {\"google\", \"microsoft\", \"apple\"}\n",
    "\n",
    "set3 = set1 ^ set2\n",
    "print(set3)"
   ]
  },
  {
   "cell_type": "markdown",
   "id": "421f42e3-15e5-41a0-87af-7bd4cc2c9057",
   "metadata": {},
   "source": [
    ">Note: The ^ operator only allows you to join sets with sets, and not with other data types like you can with the symmetric_difference() method.\n",
    "\n",
    "The symmetric_difference_update() method will also keep all but the duplicates, but it will change the original set instead of returning a new set.\n",
    "\n",
    "**Example**  \n",
    "Use the symmetric_difference_update() method to keep the items that are not present in both sets:"
   ]
  },
  {
   "cell_type": "code",
   "execution_count": 113,
   "id": "7ffbf73b-842e-4d42-8fc2-7f4b411bbaa5",
   "metadata": {},
   "outputs": [
    {
     "name": "stdout",
     "output_type": "stream",
     "text": [
      "{'banana', 'google', 'microsoft', 'cherry'}\n"
     ]
    }
   ],
   "source": [
    "set1 = {\"apple\", \"banana\", \"cherry\"}\n",
    "set2 = {\"google\", \"microsoft\", \"apple\"}\n",
    "\n",
    "set1.symmetric_difference_update(set2)\n",
    "\n",
    "print(set1)"
   ]
  },
  {
   "cell_type": "markdown",
   "id": "eb3672c8-f44b-45dc-97cf-91200ebdc311",
   "metadata": {},
   "source": [
    "## Set Methods"
   ]
  },
  {
   "cell_type": "markdown",
   "id": "a4a4b26d-4312-4a38-92f8-83bf15cb66d9",
   "metadata": {},
   "source": [
    "Python has a set of built-in methods that you can use on sets.  \n",
    "| Method                        | Shortcut | Description                                                                    |\n",
    "| ----------------------------- | -------- | ------------------------------------------------------------------------------ |\n",
    "| add()                         |          | Adds an element to the set                                                     |\n",
    "| clear()                       |          | Removes all the elements from the set                                          |\n",
    "| copy()                        |          | Returns a copy of the set                                                      |\n",
    "| difference()                  | \\-       | Returns a set containing the difference between two or more sets               |\n",
    "| difference_update()           | \\-=      | Removes the items in this set that are also included in another, specified set |\n",
    "| discard()                     |          | Remove the specified item                                                      |\n",
    "| intersection()                | &        | Returns a set, that is the intersection of two other sets                      |\n",
    "| intersection_update()         | &=       | Removes the items in this set that are not present in other, specified set(s)  |\n",
    "| isdisjoint()                  |          | Returns whether two sets have a intersection or not                            |\n",
    "| issubset()                    | <=       | Returns whether another set contains this set or not                           |\n",
    "|                               | <        | Returns whether all items in this set is present in other, specified set(s)    |\n",
    "| issuperset()                  | \\>=      | Returns whether this set contains another set or not                           |\n",
    "|                               | \\>       | Returns whether all items in other, specified set(s) is present in this set    |\n",
    "| pop()                         |          | Removes an element from the set                                                |\n",
    "| remove()                      |          | Removes the specified element                                                  |\n",
    "| symmetric_difference()        | ^        | Returns a set with the symmetric differences of two sets                       |\n",
    "| symmetric_difference_update() | ^=       | Inserts the symmetric differences from this set and another                    |\n",
    "| union()                       | \\|       | Return a set containing the union of sets                                      |\n",
    "| update()                      | \\|=      | Update the set with the union of this set and others                           |"
   ]
  },
  {
   "cell_type": "markdown",
   "id": "90c3d490-0c41-449d-9930-d19be34dfb90",
   "metadata": {},
   "source": [
    "**set.add(elmnt)** \n",
    "_The add() method adds an element to the set.  \n",
    "If the element already exists, the add() method does not add the element._  \n",
    "elmnt :\tRequired. The element to add to the set"
   ]
  },
  {
   "cell_type": "code",
   "execution_count": 114,
   "id": "b19b82bc-7d8a-45bd-bac8-a4d5fb1e39e7",
   "metadata": {},
   "outputs": [
    {
     "name": "stdout",
     "output_type": "stream",
     "text": [
      "{'banana', 'apple', 'cherry'}\n"
     ]
    }
   ],
   "source": [
    "#Try to add an element that already exists:\n",
    "fruits = {\"apple\", \"banana\", \"cherry\"}\n",
    "fruits.add(\"apple\")\n",
    "print(fruits)"
   ]
  },
  {
   "cell_type": "markdown",
   "id": "1062af8d-f46d-4aae-bb88-f2bfc49a353b",
   "metadata": {},
   "source": [
    "**Continued...**  "
   ]
  },
  {
   "cell_type": "markdown",
   "id": "9822fc1f-60ab-4c3a-a0a7-717d4a64dad1",
   "metadata": {
    "jp-MarkdownHeadingCollapsed": true
   },
   "source": [
    "# Python Dictionaries"
   ]
  },
  {
   "cell_type": "markdown",
   "id": "d50bae18-b308-44ac-8190-d6833f2af4e9",
   "metadata": {},
   "source": [
    "Dictionaries are used to store data values in key:value pairs.\n",
    "\n",
    "A dictionary is a collection which is ordered*, changeable and do not allow duplicates.\n",
    "\n",
    "As of Python version 3.7, dictionaries are ordered. In Python 3.6 and earlier, dictionaries are unordered.\n",
    "\n",
    "Dictionaries are written with curly brackets, and have keys and values:\n",
    "\n",
    "**Example**  \n",
    "Create and print a dictionary:"
   ]
  },
  {
   "cell_type": "code",
   "execution_count": 118,
   "id": "b27502fb-e16d-494f-8580-3b05be46872a",
   "metadata": {},
   "outputs": [
    {
     "name": "stdout",
     "output_type": "stream",
     "text": [
      "{'brand': 'Ford', 'model': 'Mustang', 'year': 1964}\n"
     ]
    }
   ],
   "source": [
    "thisdict = {\n",
    "  \"brand\": \"Ford\",\n",
    "  \"model\": \"Mustang\",\n",
    "  \"year\": 1964\n",
    "}\n",
    "print(thisdict)"
   ]
  },
  {
   "cell_type": "markdown",
   "id": "b14bbd49-d182-4292-b23a-1ad2e6d45326",
   "metadata": {},
   "source": [
    "**Dictionary Items**  \n",
    "Dictionary items are ordered, changeable, and do not allow duplicates.\n",
    "\n",
    "Dictionary items are presented in key:value pairs, and can be referred to by using the key name.\n",
    "\n",
    "**Example**  \n",
    "Print the \"brand\" value of the dictionary:"
   ]
  },
  {
   "cell_type": "code",
   "execution_count": 119,
   "id": "547bbbd6-6ea1-465d-b110-6ef712d56aac",
   "metadata": {},
   "outputs": [
    {
     "name": "stdout",
     "output_type": "stream",
     "text": [
      "Ford\n"
     ]
    }
   ],
   "source": [
    "thisdict = {\n",
    "  \"brand\": \"Ford\",\n",
    "  \"model\": \"Mustang\",\n",
    "  \"year\": 1964\n",
    "}\n",
    "print(thisdict[\"brand\"])"
   ]
  },
  {
   "cell_type": "markdown",
   "id": "00ea4e3e-87b0-4045-817a-204dcfbca8da",
   "metadata": {},
   "source": [
    "**Ordered or Unordered?**  \n",
    ">As of Python version 3.7, dictionaries are ordered. In Python 3.6 and earlier, dictionaries are unordered.\n",
    "\n",
    "When we say that dictionaries are ordered, it means that the items have a defined order, and that order will not change.\n",
    "\n",
    "Unordered means that the items do not have a defined order, you cannot refer to an item by using an index.\n",
    "\n",
    "**Changeable**  \n",
    "Dictionaries are changeable, meaning that we can change, add or remove items after the dictionary has been created.\n",
    "\n",
    "**Duplicates Not Allowed**  \n",
    "Dictionaries cannot have two items with the same key:\n",
    "\n",
    "**Example**  \n",
    "Duplicate values will overwrite existing values:"
   ]
  },
  {
   "cell_type": "code",
   "execution_count": 120,
   "id": "3e7c70ce-457a-4d24-83c0-9a4d0530f2e4",
   "metadata": {},
   "outputs": [
    {
     "name": "stdout",
     "output_type": "stream",
     "text": [
      "{'brand': 'Ford', 'model': 'Mustang', 'year': 2020}\n"
     ]
    }
   ],
   "source": [
    "thisdict = {\n",
    "  \"brand\": \"Ford\",\n",
    "  \"model\": \"Mustang\",\n",
    "  \"year\": 1964,\n",
    "  \"year\": 2020\n",
    "}\n",
    "print(thisdict)"
   ]
  },
  {
   "cell_type": "markdown",
   "id": "67ad6561-34ae-4f47-b618-c5127580a8d7",
   "metadata": {},
   "source": [
    "**Dictionary Length**  \n",
    "To determine how many items a dictionary has, use the len() function:\n",
    "\n",
    "**Example**  \n",
    "Print the number of items in the dictionary:"
   ]
  },
  {
   "cell_type": "code",
   "execution_count": 121,
   "id": "2e9f379b-a5f7-46fd-9529-e7dfcae29241",
   "metadata": {},
   "outputs": [
    {
     "name": "stdout",
     "output_type": "stream",
     "text": [
      "3\n"
     ]
    }
   ],
   "source": [
    "print(len(thisdict))"
   ]
  },
  {
   "cell_type": "markdown",
   "id": "7547d560-0cd2-49d3-9785-9666afac3d13",
   "metadata": {},
   "source": [
    "**Dictionary Items - Data Types**  \n",
    "The values in dictionary items can be of any data type:\n",
    "\n",
    "**Example**  \n",
    "String, int, boolean, and list data types:"
   ]
  },
  {
   "cell_type": "code",
   "execution_count": 122,
   "id": "ead13acf-d676-4f10-b532-779b9828a147",
   "metadata": {},
   "outputs": [],
   "source": [
    "thisdict = {\n",
    "  \"brand\": \"Ford\",\n",
    "  \"electric\": False,\n",
    "  \"year\": 1964,\n",
    "  \"colors\": [\"red\", \"white\", \"blue\"]\n",
    "}"
   ]
  },
  {
   "cell_type": "markdown",
   "id": "924d4adc-a422-4baf-b561-877678a28388",
   "metadata": {},
   "source": [
    "**type()**  \n",
    "From Python's perspective, dictionaries are defined as objects with the data type 'dict':\n",
    "\n",
    "<class 'dict'>  \n",
    "**Example**  \n",
    "Print the data type of a dictionary:"
   ]
  },
  {
   "cell_type": "code",
   "execution_count": 123,
   "id": "6fd6935b-ad30-43f8-b52e-a354b313c0e7",
   "metadata": {},
   "outputs": [
    {
     "name": "stdout",
     "output_type": "stream",
     "text": [
      "<class 'dict'>\n"
     ]
    }
   ],
   "source": [
    "thisdict = {\n",
    "  \"brand\": \"Ford\",\n",
    "  \"model\": \"Mustang\",\n",
    "  \"year\": 1964\n",
    "}\n",
    "print(type(thisdict))"
   ]
  },
  {
   "cell_type": "markdown",
   "id": "2b102413-2f08-4609-8a2c-782857b9d2fa",
   "metadata": {},
   "source": [
    "**The dict() Constructor**  \n",
    "It is also possible to use the dict() constructor to make a dictionary.\n",
    "\n",
    "**Example**  \n",
    "Using the dict() method to make a dictionary:"
   ]
  },
  {
   "cell_type": "code",
   "execution_count": 124,
   "id": "7cb89775-c906-4068-b71c-ab7ad5fae560",
   "metadata": {},
   "outputs": [
    {
     "name": "stdout",
     "output_type": "stream",
     "text": [
      "{'name': 'John', 'age': 36, 'country': 'Norway'}\n"
     ]
    }
   ],
   "source": [
    "thisdict = dict(name = \"John\", age = 36, country = \"Norway\")\n",
    "print(thisdict)"
   ]
  },
  {
   "cell_type": "markdown",
   "id": "7272c95b-3db2-4eab-adb5-a741e33158ea",
   "metadata": {},
   "source": [
    "## Access Dictionary Items"
   ]
  },
  {
   "cell_type": "markdown",
   "id": "5e684a57-8b8d-4862-bbbd-5f71bdff6b5d",
   "metadata": {},
   "source": [
    "ou can access the items of a dictionary by referring to its key name, inside square brackets:\n",
    "\n",
    "**Example**  \n",
    "Get the value of the \"model\" key:"
   ]
  },
  {
   "cell_type": "code",
   "execution_count": 125,
   "id": "669e7f40-54b6-4de2-a393-42c4000d6d19",
   "metadata": {},
   "outputs": [],
   "source": [
    "thisdict = {\n",
    "  \"brand\": \"Ford\",\n",
    "  \"model\": \"Mustang\",\n",
    "  \"year\": 1964\n",
    "}\n",
    "x = thisdict[\"model\"]"
   ]
  },
  {
   "cell_type": "markdown",
   "id": "856a6e9c-ab06-4eea-b8ce-8393b499618b",
   "metadata": {},
   "source": [
    "There is also a method called get() that will give you the same result:\n",
    "\n",
    "**Example**  \n",
    "Get the value of the \"model\" key:"
   ]
  },
  {
   "cell_type": "code",
   "execution_count": 126,
   "id": "a02ce793-d0da-4c0c-b1ef-6373cdf198b4",
   "metadata": {},
   "outputs": [],
   "source": [
    "x = thisdict.get(\"model\")"
   ]
  },
  {
   "cell_type": "markdown",
   "id": "51fa584b-a896-4d7f-8a08-cc3931ee2e59",
   "metadata": {},
   "source": [
    "**Get Keys**  \n",
    "The keys() method will return a list of all the keys in the dictionary.\n",
    "\n",
    "**Example**  \n",
    "Get a list of the keys:"
   ]
  },
  {
   "cell_type": "code",
   "execution_count": 127,
   "id": "60b3ff89-a0b9-46d5-90be-ef0165b997c5",
   "metadata": {},
   "outputs": [],
   "source": [
    "x = thisdict.keys()"
   ]
  },
  {
   "cell_type": "markdown",
   "id": "77e5cd89-9855-4221-ae74-c99358052cf1",
   "metadata": {},
   "source": [
    "The list of the keys is a view of the dictionary, meaning that any changes done to the dictionary will be reflected in the keys list.\n",
    "\n",
    "**Example**  \n",
    "Add a new item to the original dictionary, and see that the keys list gets updated as well:"
   ]
  },
  {
   "cell_type": "code",
   "execution_count": 128,
   "id": "28fe581c-4474-4a0a-b5a0-93c89ed47487",
   "metadata": {},
   "outputs": [
    {
     "name": "stdout",
     "output_type": "stream",
     "text": [
      "dict_keys(['brand', 'model', 'year'])\n",
      "dict_keys(['brand', 'model', 'year', 'color'])\n"
     ]
    }
   ],
   "source": [
    "car = {\n",
    "\"brand\": \"Ford\",\n",
    "\"model\": \"Mustang\",\n",
    "\"year\": 1964\n",
    "}\n",
    "\n",
    "x = car.keys()\n",
    "\n",
    "print(x) #before the change\n",
    "\n",
    "car[\"color\"] = \"white\"\n",
    "\n",
    "print(x) #after the change"
   ]
  },
  {
   "cell_type": "markdown",
   "id": "37c59a73-2967-4448-9fe1-7e6b77d18943",
   "metadata": {},
   "source": [
    "**Get Values**  \n",
    "The values() method will return a list of all the values in the dictionary.\n",
    "\n",
    "**Example**\n",
    "Get a list of the values:"
   ]
  },
  {
   "cell_type": "code",
   "execution_count": 129,
   "id": "aeaee18d-1302-4bd6-bd7c-5f23a5fafef5",
   "metadata": {},
   "outputs": [],
   "source": [
    "x = thisdict.values()"
   ]
  },
  {
   "cell_type": "markdown",
   "id": "22f25f60-cd9a-42a9-a41c-57d4959225da",
   "metadata": {},
   "source": [
    "The list of the values is a view of the dictionary, meaning that any changes done to the dictionary will be reflected in the values list.\n",
    "\n",
    "**Example**  \n",
    "Make a change in the original dictionary, and see that the values list gets updated as well:"
   ]
  },
  {
   "cell_type": "code",
   "execution_count": 130,
   "id": "076ef1ba-dbeb-40f1-8e4c-3f2b0b165147",
   "metadata": {},
   "outputs": [
    {
     "name": "stdout",
     "output_type": "stream",
     "text": [
      "dict_values(['Ford', 'Mustang', 1964])\n",
      "dict_values(['Ford', 'Mustang', 2020])\n"
     ]
    }
   ],
   "source": [
    "car = {\n",
    "\"brand\": \"Ford\",\n",
    "\"model\": \"Mustang\",\n",
    "\"year\": 1964\n",
    "}\n",
    "\n",
    "x = car.values()\n",
    "\n",
    "print(x) #before the change\n",
    "\n",
    "car[\"year\"] = 2020\n",
    "\n",
    "print(x) #after the change"
   ]
  },
  {
   "cell_type": "markdown",
   "id": "4579e106-75c8-442f-ac41-8dada4dc5e81",
   "metadata": {},
   "source": [
    "**Example**  \n",
    "Add a new item to the original dictionary, and see that the values list gets updated as well:"
   ]
  },
  {
   "cell_type": "code",
   "execution_count": 131,
   "id": "5738918a-5b7a-4ac2-b251-6ba6c8464384",
   "metadata": {},
   "outputs": [
    {
     "name": "stdout",
     "output_type": "stream",
     "text": [
      "dict_values(['Ford', 'Mustang', 1964])\n",
      "dict_values(['Ford', 'Mustang', 1964, 'red'])\n"
     ]
    }
   ],
   "source": [
    "car = {\n",
    "\"brand\": \"Ford\",\n",
    "\"model\": \"Mustang\",\n",
    "\"year\": 1964\n",
    "}\n",
    "\n",
    "x = car.values()\n",
    "\n",
    "print(x) #before the change\n",
    "\n",
    "car[\"color\"] = \"red\"\n",
    "\n",
    "print(x) #after the change"
   ]
  },
  {
   "cell_type": "markdown",
   "id": "9d732b9b-a15c-4d7e-ae37-d94ba8d391a2",
   "metadata": {},
   "source": [
    "**Get Items**  \n",
    "The items() method will return each item in a dictionary, as tuples in a list.\n",
    "\n",
    "**Example**  \n",
    "Get a list of the key:value pairs"
   ]
  },
  {
   "cell_type": "code",
   "execution_count": 132,
   "id": "8ff75e93-d9d7-4770-ba1e-2b75d86873f3",
   "metadata": {},
   "outputs": [],
   "source": [
    "x = thisdict.items()"
   ]
  },
  {
   "cell_type": "markdown",
   "id": "5161ff99-3873-4d29-9e01-0bfc5fcbac6f",
   "metadata": {},
   "source": [
    "The returned list is a view of the items of the dictionary, meaning that any changes done to the dictionary will be reflected in the items list.\n",
    "\n",
    "**Example**  \n",
    "Make a change in the original dictionary, and see that the items list gets updated as well:"
   ]
  },
  {
   "cell_type": "code",
   "execution_count": 133,
   "id": "641cd032-fcb4-443f-9e72-9f0659fb65e8",
   "metadata": {},
   "outputs": [
    {
     "name": "stdout",
     "output_type": "stream",
     "text": [
      "dict_items([('brand', 'Ford'), ('model', 'Mustang'), ('year', 1964)])\n",
      "dict_items([('brand', 'Ford'), ('model', 'Mustang'), ('year', 2020)])\n"
     ]
    }
   ],
   "source": [
    "car = {\n",
    "\"brand\": \"Ford\",\n",
    "\"model\": \"Mustang\",\n",
    "\"year\": 1964\n",
    "}\n",
    "\n",
    "x = car.items()\n",
    "\n",
    "print(x) #before the change\n",
    "\n",
    "car[\"year\"] = 2020\n",
    "\n",
    "print(x) #after the change"
   ]
  },
  {
   "cell_type": "markdown",
   "id": "22b68c72-8ff8-4184-a68a-02839b506a6a",
   "metadata": {},
   "source": [
    "**Example**  \n",
    "Add a new item to the original dictionary, and see that the items list gets updated as well:"
   ]
  },
  {
   "cell_type": "code",
   "execution_count": 134,
   "id": "a0715795-ae8e-4eba-8afd-856e7a7161e7",
   "metadata": {},
   "outputs": [
    {
     "name": "stdout",
     "output_type": "stream",
     "text": [
      "dict_items([('brand', 'Ford'), ('model', 'Mustang'), ('year', 1964)])\n",
      "dict_items([('brand', 'Ford'), ('model', 'Mustang'), ('year', 1964), ('color', 'red')])\n"
     ]
    }
   ],
   "source": [
    "car = {\n",
    "\"brand\": \"Ford\",\n",
    "\"model\": \"Mustang\",\n",
    "\"year\": 1964\n",
    "}\n",
    "\n",
    "x = car.items()\n",
    "\n",
    "print(x) #before the change\n",
    "\n",
    "car[\"color\"] = \"red\"\n",
    "\n",
    "print(x) #after the change"
   ]
  },
  {
   "cell_type": "markdown",
   "id": "65a0b24d-796f-422e-ba88-e75b291257f9",
   "metadata": {},
   "source": [
    "**Check if Key Exists**  \n",
    "To determine if a specified key is present in a dictionary use the in keyword:\n",
    "\n",
    "**Example**  \n",
    "Check if \"model\" is present in the dictionary:"
   ]
  },
  {
   "cell_type": "code",
   "execution_count": 135,
   "id": "edbf8920-c081-4357-a1fb-42e5741801b7",
   "metadata": {},
   "outputs": [
    {
     "name": "stdout",
     "output_type": "stream",
     "text": [
      "Yes, 'model' is one of the keys in the thisdict dictionary\n"
     ]
    }
   ],
   "source": [
    "thisdict = {\n",
    "  \"brand\": \"Ford\",\n",
    "  \"model\": \"Mustang\",\n",
    "  \"year\": 1964\n",
    "}\n",
    "if \"model\" in thisdict:\n",
    "  print(\"Yes, 'model' is one of the keys in the thisdict dictionary\")"
   ]
  },
  {
   "cell_type": "markdown",
   "id": "c82fb66d-76e5-4f08-a179-195bd786d60d",
   "metadata": {},
   "source": [
    "## Change Dictionary Items"
   ]
  },
  {
   "cell_type": "markdown",
   "id": "0d21dbcc-a11f-45ac-8b0c-0f834dae264d",
   "metadata": {},
   "source": [
    "You can change the value of a specific item by referring to its key name:\n",
    "\n",
    "**Example**  \n",
    "Change the \"year\" to 2018:"
   ]
  },
  {
   "cell_type": "code",
   "execution_count": 136,
   "id": "1c594388-9b8f-4af4-83d6-ef7a924fb0e5",
   "metadata": {},
   "outputs": [],
   "source": [
    "thisdict = {\n",
    "  \"brand\": \"Ford\",\n",
    "  \"model\": \"Mustang\",\n",
    "  \"year\": 1964\n",
    "}\n",
    "thisdict[\"year\"] = 2018"
   ]
  },
  {
   "cell_type": "markdown",
   "id": "8a4d81a7-08f1-423d-8c42-d9870cf6a94d",
   "metadata": {},
   "source": [
    "**Update Dictionary**  \n",
    "The update() method will update the dictionary with the items from the given argument.\n",
    "\n",
    "The argument must be a dictionary, or an iterable object with key:value pairs.\n",
    "\n",
    "**Example**  \n",
    "Update the \"year\" of the car by using the update() method:"
   ]
  },
  {
   "cell_type": "code",
   "execution_count": 137,
   "id": "b1bd74b8-3173-4799-8dfb-20448c21a4c1",
   "metadata": {},
   "outputs": [],
   "source": [
    "thisdict = {\n",
    "  \"brand\": \"Ford\",\n",
    "  \"model\": \"Mustang\",\n",
    "  \"year\": 1964\n",
    "}\n",
    "thisdict.update({\"year\": 2020})"
   ]
  },
  {
   "cell_type": "markdown",
   "id": "bff6b504-974f-4b57-9da0-dc822596addd",
   "metadata": {},
   "source": [
    "## Add Dictionary Items"
   ]
  },
  {
   "cell_type": "markdown",
   "id": "fca01e1e-7bac-4f9b-9365-c85d88823400",
   "metadata": {},
   "source": [
    "Adding an item to the dictionary is done by using a new index key and assigning a value to it:\n",
    "\n",
    "**Example**  "
   ]
  },
  {
   "cell_type": "code",
   "execution_count": 138,
   "id": "f1f52a24-576c-422d-a042-a1935d8b0287",
   "metadata": {},
   "outputs": [
    {
     "name": "stdout",
     "output_type": "stream",
     "text": [
      "{'brand': 'Ford', 'model': 'Mustang', 'year': 1964, 'color': 'red'}\n"
     ]
    }
   ],
   "source": [
    "thisdict = {\n",
    "  \"brand\": \"Ford\",\n",
    "  \"model\": \"Mustang\",\n",
    "  \"year\": 1964\n",
    "}\n",
    "thisdict[\"color\"] = \"red\"\n",
    "print(thisdict)"
   ]
  },
  {
   "cell_type": "markdown",
   "id": "72668d50-99e8-4c96-97b9-46ad75129d14",
   "metadata": {},
   "source": [
    "**Update Dictionary**  \n",
    "The update() method will update the dictionary with the items from a given argument. If the item does not exist, the item will be added.\n",
    "\n",
    "The argument must be a dictionary, or an iterable object with key:value pairs.\n",
    "\n",
    "**Example**  \n",
    "Add a color item to the dictionary by using the update() method:"
   ]
  },
  {
   "cell_type": "code",
   "execution_count": 139,
   "id": "dba82120-4da1-4949-8894-f9abca373218",
   "metadata": {},
   "outputs": [],
   "source": [
    "thisdict = {\n",
    "  \"brand\": \"Ford\",\n",
    "  \"model\": \"Mustang\",\n",
    "  \"year\": 1964\n",
    "}\n",
    "thisdict.update({\"color\": \"red\"})"
   ]
  },
  {
   "cell_type": "markdown",
   "id": "c07ea72f-5a2c-4bc0-8a2a-05b6e16f1025",
   "metadata": {},
   "source": [
    "## Remove Dictionary Items"
   ]
  },
  {
   "cell_type": "markdown",
   "id": "6c76d1c8-569f-4a90-b78b-fb871b9d3f8f",
   "metadata": {},
   "source": [
    "There are several methods to remove items from a dictionary:\n",
    "\n",
    "**Example**  \n",
    "The pop() method removes the item with the specified key name:"
   ]
  },
  {
   "cell_type": "code",
   "execution_count": 140,
   "id": "1278604b-45ba-46a3-b164-741a982d1bcd",
   "metadata": {},
   "outputs": [
    {
     "name": "stdout",
     "output_type": "stream",
     "text": [
      "{'brand': 'Ford', 'year': 1964}\n"
     ]
    }
   ],
   "source": [
    "thisdict = {\n",
    "  \"brand\": \"Ford\",\n",
    "  \"model\": \"Mustang\",\n",
    "  \"year\": 1964\n",
    "}\n",
    "thisdict.pop(\"model\")\n",
    "print(thisdict)"
   ]
  },
  {
   "cell_type": "markdown",
   "id": "4fe0523d-9407-4928-97c5-a17de36daa6f",
   "metadata": {},
   "source": [
    "**Example**  \n",
    "The popitem() method removes the last inserted item (in versions before 3.7, a random item is removed instead):"
   ]
  },
  {
   "cell_type": "code",
   "execution_count": 141,
   "id": "66e64417-3304-4728-a700-5f35425fb809",
   "metadata": {},
   "outputs": [
    {
     "name": "stdout",
     "output_type": "stream",
     "text": [
      "{'brand': 'Ford', 'model': 'Mustang'}\n"
     ]
    }
   ],
   "source": [
    "thisdict = {\n",
    "  \"brand\": \"Ford\",\n",
    "  \"model\": \"Mustang\",\n",
    "  \"year\": 1964\n",
    "}\n",
    "thisdict.popitem()\n",
    "print(thisdict)"
   ]
  },
  {
   "cell_type": "markdown",
   "id": "961c7af4-96a8-4e64-867b-45ab46cefcd8",
   "metadata": {},
   "source": [
    "**Example**  \n",
    "The del keyword removes the item with the specified key name:"
   ]
  },
  {
   "cell_type": "code",
   "execution_count": 142,
   "id": "241ce3cf-c12c-45f9-9a5c-2010e6a0875c",
   "metadata": {},
   "outputs": [
    {
     "name": "stdout",
     "output_type": "stream",
     "text": [
      "{'brand': 'Ford', 'year': 1964}\n"
     ]
    }
   ],
   "source": [
    "thisdict = {\n",
    "  \"brand\": \"Ford\",\n",
    "  \"model\": \"Mustang\",\n",
    "  \"year\": 1964\n",
    "}\n",
    "del thisdict[\"model\"]\n",
    "print(thisdict)"
   ]
  },
  {
   "cell_type": "markdown",
   "id": "711483d6-90fc-4a57-8904-9a8c58b24b01",
   "metadata": {},
   "source": [
    "**Example**  \n",
    "The del keyword can also delete the dictionary completely:"
   ]
  },
  {
   "cell_type": "code",
   "execution_count": 143,
   "id": "64bdab7c-04aa-4b26-948f-8b539a61c85f",
   "metadata": {},
   "outputs": [
    {
     "ename": "NameError",
     "evalue": "name 'thisdict' is not defined",
     "output_type": "error",
     "traceback": [
      "\u001b[1;31m---------------------------------------------------------------------------\u001b[0m",
      "\u001b[1;31mNameError\u001b[0m                                 Traceback (most recent call last)",
      "Cell \u001b[1;32mIn[143], line 7\u001b[0m\n\u001b[0;32m      1\u001b[0m thisdict \u001b[38;5;241m=\u001b[39m {\n\u001b[0;32m      2\u001b[0m   \u001b[38;5;124m\"\u001b[39m\u001b[38;5;124mbrand\u001b[39m\u001b[38;5;124m\"\u001b[39m: \u001b[38;5;124m\"\u001b[39m\u001b[38;5;124mFord\u001b[39m\u001b[38;5;124m\"\u001b[39m,\n\u001b[0;32m      3\u001b[0m   \u001b[38;5;124m\"\u001b[39m\u001b[38;5;124mmodel\u001b[39m\u001b[38;5;124m\"\u001b[39m: \u001b[38;5;124m\"\u001b[39m\u001b[38;5;124mMustang\u001b[39m\u001b[38;5;124m\"\u001b[39m,\n\u001b[0;32m      4\u001b[0m   \u001b[38;5;124m\"\u001b[39m\u001b[38;5;124myear\u001b[39m\u001b[38;5;124m\"\u001b[39m: \u001b[38;5;241m1964\u001b[39m\n\u001b[0;32m      5\u001b[0m }\n\u001b[0;32m      6\u001b[0m \u001b[38;5;28;01mdel\u001b[39;00m thisdict\n\u001b[1;32m----> 7\u001b[0m \u001b[38;5;28mprint\u001b[39m(\u001b[43mthisdict\u001b[49m) \u001b[38;5;66;03m#this will cause an error because \"thisdict\" no longer exists.\u001b[39;00m\n",
      "\u001b[1;31mNameError\u001b[0m: name 'thisdict' is not defined"
     ]
    }
   ],
   "source": [
    "thisdict = {\n",
    "  \"brand\": \"Ford\",\n",
    "  \"model\": \"Mustang\",\n",
    "  \"year\": 1964\n",
    "}\n",
    "del thisdict\n",
    "print(thisdict) #this will cause an error because \"thisdict\" no longer exists."
   ]
  },
  {
   "cell_type": "markdown",
   "id": "bd37e3a3-4ba1-45cc-bc35-5167444d06f9",
   "metadata": {},
   "source": [
    "**Example**  \n",
    "The clear() method empties the dictionary:"
   ]
  },
  {
   "cell_type": "code",
   "execution_count": 144,
   "id": "54c5292c-6eef-4a9b-a2d8-f1789a9b8b8b",
   "metadata": {},
   "outputs": [
    {
     "name": "stdout",
     "output_type": "stream",
     "text": [
      "{}\n"
     ]
    }
   ],
   "source": [
    "thisdict = {\n",
    "  \"brand\": \"Ford\",\n",
    "  \"model\": \"Mustang\",\n",
    "  \"year\": 1964\n",
    "}\n",
    "thisdict.clear()\n",
    "print(thisdict)"
   ]
  },
  {
   "cell_type": "markdown",
   "id": "2d8f0cee-72f9-4e26-82c3-6d8c4d133d60",
   "metadata": {},
   "source": [
    "## Loop Dictionaries"
   ]
  },
  {
   "cell_type": "markdown",
   "id": "b8829286-05cc-4209-9121-084a083575fa",
   "metadata": {},
   "source": [
    "You can loop through a dictionary by using a for loop.\n",
    "\n",
    "When looping through a dictionary, the return value are the keys of the dictionary, but there are methods to return the values as well.\n",
    "\n",
    "**Example**  \n",
    "Print all key names in the dictionary, one by one:"
   ]
  },
  {
   "cell_type": "code",
   "execution_count": 145,
   "id": "485c95e7-29f5-443e-aa94-74acd7ade9df",
   "metadata": {},
   "outputs": [],
   "source": [
    "for x in thisdict:\n",
    "  print(x)"
   ]
  },
  {
   "cell_type": "markdown",
   "id": "11024536-83db-4f96-a435-b58d538aa7f0",
   "metadata": {},
   "source": [
    "**Example**  \n",
    "Print all values in the dictionary, one by one:"
   ]
  },
  {
   "cell_type": "code",
   "execution_count": 146,
   "id": "a137ec28-25e0-4f32-9bfd-3099f1b88d92",
   "metadata": {},
   "outputs": [],
   "source": [
    "for x in thisdict:\n",
    "  print(thisdict[x])"
   ]
  },
  {
   "cell_type": "markdown",
   "id": "e14885f0-24dd-4f79-a5eb-95b76f6cc0d5",
   "metadata": {},
   "source": [
    "**Example**  \n",
    "You can also use the values() method to return values of a dictionary:"
   ]
  },
  {
   "cell_type": "code",
   "execution_count": 147,
   "id": "978488dc-4ce0-4657-9c50-08828c138cc8",
   "metadata": {},
   "outputs": [],
   "source": [
    "for x in thisdict.values():\n",
    "  print(x)"
   ]
  },
  {
   "cell_type": "markdown",
   "id": "3360d63e-2c6a-4d02-8aaf-2af06d5fd0a0",
   "metadata": {},
   "source": [
    "**Example**  \n",
    "You can use the keys() method to return the keys of a dictionary:"
   ]
  },
  {
   "cell_type": "code",
   "execution_count": 148,
   "id": "4047c983-2541-4733-9a9d-67c8d1d4690c",
   "metadata": {},
   "outputs": [],
   "source": [
    "for x in thisdict.keys():\n",
    "  print(x)"
   ]
  },
  {
   "cell_type": "markdown",
   "id": "8f27ffb6-788c-44f1-87aa-343d95ea4e59",
   "metadata": {},
   "source": [
    "**Example**  \n",
    "Loop through both keys and values, by using the items() method:"
   ]
  },
  {
   "cell_type": "code",
   "execution_count": 149,
   "id": "4f227213-fd6c-4f76-bb0c-d4455d3b721d",
   "metadata": {},
   "outputs": [],
   "source": [
    "for x, y in thisdict.items():\n",
    "  print(x, y)"
   ]
  },
  {
   "cell_type": "markdown",
   "id": "bc24e37d-77f6-416d-9310-97bd449eab1a",
   "metadata": {},
   "source": [
    "## Copy Dictionaries"
   ]
  },
  {
   "cell_type": "markdown",
   "id": "48581d92-f3f4-4c50-9eb0-0130d32cd007",
   "metadata": {},
   "source": [
    "You cannot copy a dictionary simply by typing dict2 = dict1, because: dict2 will only be a reference to dict1, and changes made in dict1 will automatically also be made in dict2.\n",
    "\n",
    "There are ways to make a copy, one way is to use the built-in Dictionary method copy().\n",
    "\n",
    "**Example**  \n",
    "Make a copy of a dictionary with the copy() method:"
   ]
  },
  {
   "cell_type": "code",
   "execution_count": 150,
   "id": "2ce978f2-c629-4106-9dea-7b799eb67c99",
   "metadata": {},
   "outputs": [
    {
     "name": "stdout",
     "output_type": "stream",
     "text": [
      "{'brand': 'Ford', 'model': 'Mustang', 'year': 1964}\n"
     ]
    }
   ],
   "source": [
    "thisdict = {\n",
    "  \"brand\": \"Ford\",\n",
    "  \"model\": \"Mustang\",\n",
    "  \"year\": 1964\n",
    "}\n",
    "mydict = thisdict.copy()\n",
    "print(mydict)"
   ]
  },
  {
   "cell_type": "markdown",
   "id": "acadee81-5e80-4984-8f01-ed0ad92edc5b",
   "metadata": {},
   "source": [
    "Another way to make a copy is to use the built-in function dict().\n",
    "\n",
    "**Example**  \n",
    "Make a copy of a dictionary with the dict() function:"
   ]
  },
  {
   "cell_type": "code",
   "execution_count": 151,
   "id": "9815b9d8-ee92-4bdc-9849-ef7bd65135dd",
   "metadata": {},
   "outputs": [
    {
     "name": "stdout",
     "output_type": "stream",
     "text": [
      "{'brand': 'Ford', 'model': 'Mustang', 'year': 1964}\n"
     ]
    }
   ],
   "source": [
    "thisdict = {\n",
    "  \"brand\": \"Ford\",\n",
    "  \"model\": \"Mustang\",\n",
    "  \"year\": 1964\n",
    "}\n",
    "mydict = dict(thisdict)\n",
    "print(mydict)"
   ]
  },
  {
   "cell_type": "markdown",
   "id": "560e807e-8f8f-42a0-8389-a2fafe084172",
   "metadata": {},
   "source": [
    "## Nested Dictionaries"
   ]
  },
  {
   "cell_type": "markdown",
   "id": "a988d5bc-f0aa-400c-8ba6-a9cd613cd47d",
   "metadata": {},
   "source": [
    "A dictionary can contain dictionaries, this is called nested dictionaries.\n",
    "\n",
    "**Example**  \n",
    "Create a dictionary that contain three dictionaries:"
   ]
  },
  {
   "cell_type": "code",
   "execution_count": 152,
   "id": "63ed70d4-28f7-44cb-949e-2adf3d92fba8",
   "metadata": {},
   "outputs": [],
   "source": [
    "myfamily = {\n",
    "  \"child1\" : {\n",
    "    \"name\" : \"Emil\",\n",
    "    \"year\" : 2004\n",
    "  },\n",
    "  \"child2\" : {\n",
    "    \"name\" : \"Tobias\",\n",
    "    \"year\" : 2007\n",
    "  },\n",
    "  \"child3\" : {\n",
    "    \"name\" : \"Linus\",\n",
    "    \"year\" : 2011\n",
    "  }\n",
    "}"
   ]
  },
  {
   "cell_type": "markdown",
   "id": "c580ca4b-c6e7-4f3b-a34b-cdd4f94d47b0",
   "metadata": {},
   "source": [
    "Or, if you want to add three dictionaries into a new dictionary:\n",
    "\n",
    "**Example**  \n",
    "Create three dictionaries, then create one dictionary that will contain the other three dictionaries:"
   ]
  },
  {
   "cell_type": "code",
   "execution_count": 153,
   "id": "a84a1a2c-35e5-4a5b-a62b-58e70ea9accc",
   "metadata": {},
   "outputs": [],
   "source": [
    "child1 = {\n",
    "  \"name\" : \"Emil\",\n",
    "  \"year\" : 2004\n",
    "}\n",
    "child2 = {\n",
    "  \"name\" : \"Tobias\",\n",
    "  \"year\" : 2007\n",
    "}\n",
    "child3 = {\n",
    "  \"name\" : \"Linus\",\n",
    "  \"year\" : 2011\n",
    "}\n",
    "\n",
    "myfamily = {\n",
    "  \"child1\" : child1,\n",
    "  \"child2\" : child2,\n",
    "  \"child3\" : child3\n",
    "}"
   ]
  },
  {
   "cell_type": "markdown",
   "id": "09c51edb-d0ac-4f5a-b39a-32fafc1e0299",
   "metadata": {},
   "source": [
    "Access Items in Nested Dictionaries\n",
    "To access items from a nested dictionary, you use the name of the dictionaries, starting with the outer dictionary:\n",
    "\n",
    "**Example**  \n",
    "Print the name of child 2:"
   ]
  },
  {
   "cell_type": "code",
   "execution_count": 154,
   "id": "0581357c-e7ba-499c-8668-e982e9ff1921",
   "metadata": {},
   "outputs": [
    {
     "name": "stdout",
     "output_type": "stream",
     "text": [
      "Tobias\n"
     ]
    }
   ],
   "source": [
    "print(myfamily[\"child2\"][\"name\"])"
   ]
  },
  {
   "cell_type": "markdown",
   "id": "f480fc3c-68af-46f0-9035-53c1d57a9cca",
   "metadata": {},
   "source": [
    "Loop Through Nested Dictionaries\n",
    "You can loop through a dictionary by using the items() method like this:\n",
    "\n",
    "**Example**  \n",
    "Loop through the keys and values of all nested dictionaries:"
   ]
  },
  {
   "cell_type": "code",
   "execution_count": 155,
   "id": "93982ff4-74d7-44dd-9f4e-94cc2fa0af86",
   "metadata": {},
   "outputs": [
    {
     "name": "stdout",
     "output_type": "stream",
     "text": [
      "child1\n",
      "name: Emil\n",
      "year: 2004\n",
      "child2\n",
      "name: Tobias\n",
      "year: 2007\n",
      "child3\n",
      "name: Linus\n",
      "year: 2011\n"
     ]
    }
   ],
   "source": [
    "for x, obj in myfamily.items():\n",
    "  print(x)\n",
    "\n",
    "  for y in obj:\n",
    "    print(y + ':', obj[y])"
   ]
  },
  {
   "cell_type": "markdown",
   "id": "7a5656bf-03f9-484c-ae0f-28cdc469dd65",
   "metadata": {},
   "source": [
    "## Dictionary Methods"
   ]
  },
  {
   "cell_type": "markdown",
   "id": "aad6dc65-0206-4595-ab7c-4cf41110f93c",
   "metadata": {},
   "source": [
    "Python has a set of built-in methods that you can use on dictionaries.  \n",
    "| Method       | Description                                                                                                 |\n",
    "| ------------ | ----------------------------------------------------------------------------------------------------------- |\n",
    "| clear()      | Removes all the elements from the dictionary                                                                |\n",
    "| copy()       | Returns a copy of the dictionary                                                                            |\n",
    "| fromkeys()   | Returns a dictionary with the specified keys and value                                                      |\n",
    "| get()        | Returns the value of the specified key                                                                      |\n",
    "| items()      | Returns a list containing a tuple for each key value pair                                                   |\n",
    "| keys()       | Returns a list containing the dictionary's keys                                                             |\n",
    "| pop()        | Removes the element with the specified key                                                                  |\n",
    "| popitem()    | Removes the last inserted key-value pair                                                                    |\n",
    "| setdefault() | Returns the value of the specified key. If the key does not exist: insert the key, with the specified value |\n",
    "| update()     | Updates the dictionary with the specified key-value pairs                                                   |\n",
    "| values()     | Returns a list of all the values in the dictionary                                                          |"
   ]
  },
  {
   "cell_type": "markdown",
   "id": "04fc5e79-5230-4c91-a59b-2041309430f9",
   "metadata": {},
   "source": [
    "**dictionary.clear()**  \n",
    "_Method removes all the elements from a dictionary._  "
   ]
  },
  {
   "cell_type": "code",
   "execution_count": 117,
   "id": "5d00134e-e705-4c2e-bb13-8d11b1fa8049",
   "metadata": {},
   "outputs": [
    {
     "name": "stdout",
     "output_type": "stream",
     "text": [
      "{}\n"
     ]
    }
   ],
   "source": [
    "#Remove all elements from the car list:\n",
    "\n",
    "car = {\n",
    "  \"brand\": \"Ford\",\n",
    "  \"model\": \"Mustang\",\n",
    "  \"year\": 1964\n",
    "}\n",
    "car.clear()\n",
    "print(car)"
   ]
  },
  {
   "cell_type": "markdown",
   "id": "6fbdbe6d-e0d2-4897-b7c3-4d798f8081f2",
   "metadata": {},
   "source": [
    "**Continued...**"
   ]
  },
  {
   "cell_type": "markdown",
   "id": "228ad43f-eba1-43d4-9b39-ad39922e3375",
   "metadata": {
    "jp-MarkdownHeadingCollapsed": true
   },
   "source": [
    "# Python If ... Else"
   ]
  },
  {
   "cell_type": "markdown",
   "id": "737169f1-7f3f-498b-a92d-9689f52c7d54",
   "metadata": {},
   "source": [
    "**Python Conditions and If statements**  \n",
    "Python supports the usual logical conditions from mathematics:\n",
    ">•\tEquals: a == b  \n",
    "•\tNot Equals: a != b  \n",
    "•\tLess than: a < b  \n",
    "•\tLess than or equal to: a <= b  \n",
    "•\tGreater than: a > b  \n",
    "•\tGreater than or equal to: a >= b  \n",
    "These conditions can be used in several ways, most commonly in \"if statements\" and loops.  \n",
    "An \"if statement\" is written by using the if keyword.  \n",
    "\n",
    "**Example**  \n",
    "If statement:"
   ]
  },
  {
   "cell_type": "code",
   "execution_count": 156,
   "id": "3cc899c0-8b26-4c29-b266-6ba3783dcc8c",
   "metadata": {},
   "outputs": [
    {
     "name": "stdout",
     "output_type": "stream",
     "text": [
      "b is greater than a\n"
     ]
    }
   ],
   "source": [
    "a = 33\n",
    "b = 200\n",
    "if b > a:\n",
    "  print(\"b is greater than a\")"
   ]
  },
  {
   "cell_type": "markdown",
   "id": "2382a0b2-2cd7-4898-9575-291ed8d436c1",
   "metadata": {},
   "source": [
    "In this example we use two variables, a and b, which are used as part of the if statement to test whether b is greater than a. As a is 33, and b is 200, we know that 200 is greater than 33, and so we print to screen that \"b is greater than a\".\n",
    "\n",
    "**Indentation**  \n",
    "Python relies on indentation (whitespace at the beginning of a line) to define scope in the code. Other programming languages often use curly-brackets for this purpose.\n",
    "\n",
    "**Example**  \n",
    "If statement, without indentation (will raise an error):"
   ]
  },
  {
   "cell_type": "code",
   "execution_count": 3,
   "id": "c1fee5a6-fe9a-4881-aabc-35b21b66587b",
   "metadata": {},
   "outputs": [
    {
     "ename": "IndentationError",
     "evalue": "expected an indented block after 'if' statement on line 3 (1443227691.py, line 4)",
     "output_type": "error",
     "traceback": [
      "\u001b[0;36m  Cell \u001b[0;32mIn[3], line 4\u001b[0;36m\u001b[0m\n\u001b[0;31m    print(\"b is greater than a\") # you will get an error\u001b[0m\n\u001b[0m    ^\u001b[0m\n\u001b[0;31mIndentationError\u001b[0m\u001b[0;31m:\u001b[0m expected an indented block after 'if' statement on line 3\n"
     ]
    }
   ],
   "source": [
    "a = 33\n",
    "b = 200\n",
    "if b > a:\n",
    "print(\"b is greater than a\") # you will get an error"
   ]
  },
  {
   "cell_type": "markdown",
   "id": "cdd068cd-c3f1-48ba-ad2f-e9fbc30d093c",
   "metadata": {},
   "source": [
    "**Elif**  \n",
    "The elif keyword is Python's way of saying \"if the previous conditions were not true, then try this condition\".\n",
    "\n",
    "**Example**  "
   ]
  },
  {
   "cell_type": "code",
   "execution_count": 8,
   "id": "47ba4a1d-b2a9-486a-b89c-72bf1a1fa77b",
   "metadata": {},
   "outputs": [
    {
     "name": "stdout",
     "output_type": "stream",
     "text": [
      "a and b are equal\n"
     ]
    }
   ],
   "source": [
    "a = 33\n",
    "b = 33\n",
    "if b > a:\n",
    "  print(\"b is greater than a\")\n",
    "elif a == b:\n",
    "  print(\"a and b are equal\")"
   ]
  },
  {
   "cell_type": "markdown",
   "id": "9d0e72d8-3753-46de-a938-0f1470a2b1a2",
   "metadata": {},
   "source": [
    "In this example a is equal to b, so the first condition is not true, but the elif condition is true, so we print to screen that \"a and b are equal\".\n",
    "\n",
    "**Else**  \n",
    "The else keyword catches anything which isn't caught by the preceding conditions.\n",
    "\n",
    "**Example**  "
   ]
  },
  {
   "cell_type": "code",
   "execution_count": 11,
   "id": "b2fc013c-ac47-4f2b-b25e-20a1fca369e3",
   "metadata": {},
   "outputs": [
    {
     "name": "stdout",
     "output_type": "stream",
     "text": [
      "a is greater than b\n"
     ]
    }
   ],
   "source": [
    "a = 200\n",
    "b = 33\n",
    "if b > a:\n",
    "  print(\"b is greater than a\")\n",
    "elif a == b:\n",
    "  print(\"a and b are equal\")\n",
    "else:\n",
    "  print(\"a is greater than b\")"
   ]
  },
  {
   "cell_type": "markdown",
   "id": "988fe608-7c94-4255-9b11-b51c9f77bbe6",
   "metadata": {},
   "source": [
    "In this example a is greater than b, so the first condition is not true, also the elif condition is not true, so we go to the else condition and print to screen that \"a is greater than b\".\n",
    "\n",
    "You can also have an else without the elif:\n",
    "\n",
    "**Example**"
   ]
  },
  {
   "cell_type": "code",
   "execution_count": 14,
   "id": "df350148-20f2-4e75-b408-8ac0117b4d26",
   "metadata": {},
   "outputs": [
    {
     "name": "stdout",
     "output_type": "stream",
     "text": [
      "b is not greater than a\n"
     ]
    }
   ],
   "source": [
    "a = 200\n",
    "b = 33\n",
    "if b > a:\n",
    "  print(\"b is greater than a\")\n",
    "else:\n",
    "  print(\"b is not greater than a\")"
   ]
  },
  {
   "cell_type": "markdown",
   "id": "1ecf3685-52cc-42d6-a236-0cffea565612",
   "metadata": {},
   "source": [
    "**Short Hand If**  \n",
    "If you have only one statement to execute, you can put it on the same line as the if statement.\n",
    "\n",
    "**Example**  \n",
    "One line if statement:"
   ]
  },
  {
   "cell_type": "code",
   "execution_count": 17,
   "id": "5757819d-bf08-46a1-8875-ae33fe48de8f",
   "metadata": {},
   "outputs": [
    {
     "name": "stdout",
     "output_type": "stream",
     "text": [
      "a is greater than b\n"
     ]
    }
   ],
   "source": [
    "if a > b: print(\"a is greater than b\")"
   ]
  },
  {
   "cell_type": "markdown",
   "id": "d9836d64-f4f0-4e99-baba-d4b4dc91bf77",
   "metadata": {},
   "source": [
    "**Short Hand If ... Else**  \n",
    "If you have only one statement to execute, one for if, and one for else, you can put it all on the same line:\n",
    "\n",
    "**Example**  \n",
    "One line if else statement:"
   ]
  },
  {
   "cell_type": "code",
   "execution_count": 20,
   "id": "f4ee1bc4-0cea-43dd-b8c4-cd92d404e14d",
   "metadata": {},
   "outputs": [
    {
     "name": "stdout",
     "output_type": "stream",
     "text": [
      "B\n"
     ]
    }
   ],
   "source": [
    "a = 2\n",
    "b = 330\n",
    "print(\"A\") if a > b else print(\"B\")"
   ]
  },
  {
   "cell_type": "markdown",
   "id": "c650618d-3deb-4774-944c-edbef44ef7b4",
   "metadata": {},
   "source": [
    ">This technique is known as Ternary Operators, or Conditional Expressions.\n",
    "\n",
    "You can also have multiple else statements on the same line:\n",
    "\n",
    "**Example**  \n",
    "One line if else statement, with 3 conditions:"
   ]
  },
  {
   "cell_type": "code",
   "execution_count": 23,
   "id": "29d5779c-bd9a-4b19-89dd-c3e74ce8bb4e",
   "metadata": {},
   "outputs": [
    {
     "name": "stdout",
     "output_type": "stream",
     "text": [
      "=\n"
     ]
    }
   ],
   "source": [
    "a = 330\n",
    "b = 330\n",
    "print(\"A\") if a > b else print(\"=\") if a == b else print(\"B\")"
   ]
  },
  {
   "cell_type": "markdown",
   "id": "e2ad27eb-a561-424b-95df-6c65db935df2",
   "metadata": {},
   "source": [
    "**And**  \n",
    "The and keyword is a logical operator, and is used to combine conditional statements:\n",
    "\n",
    "**Example**  \n",
    "Test if a is greater than b, AND if c is greater than a:"
   ]
  },
  {
   "cell_type": "code",
   "execution_count": 26,
   "id": "d51a300c-2061-4818-aac4-9b555f812411",
   "metadata": {},
   "outputs": [
    {
     "name": "stdout",
     "output_type": "stream",
     "text": [
      "Both conditions are True\n"
     ]
    }
   ],
   "source": [
    "a = 200\n",
    "b = 33\n",
    "c = 500\n",
    "if a > b and c > a:\n",
    "  print(\"Both conditions are True\")"
   ]
  },
  {
   "cell_type": "markdown",
   "id": "1605b333-e824-45c6-8ce7-ad5be90057f1",
   "metadata": {},
   "source": [
    "**Or**  \n",
    "The or keyword is a logical operator, and is used to combine conditional statements:\n",
    "\n",
    "**Example**  \n",
    "Test if a is greater than b, OR if a is greater than c:"
   ]
  },
  {
   "cell_type": "code",
   "execution_count": null,
   "id": "c4a003d8-5567-4cb2-a88d-2cdd6ada4ab1",
   "metadata": {},
   "outputs": [],
   "source": [
    "a = 200\n",
    "b = 33\n",
    "c = 500\n",
    "if a > b or a > c:\n",
    "  print(\"At least one of the conditions is True\")"
   ]
  },
  {
   "cell_type": "markdown",
   "id": "19ab1e35-4c31-4a43-a679-ddebc2a6674f",
   "metadata": {},
   "source": [
    "**Not**  \n",
    "The not keyword is a logical operator, and is used to reverse the result of the conditional statement:\n",
    "\n",
    "**Example**  \n",
    "Test if a is NOT greater than b:"
   ]
  },
  {
   "cell_type": "code",
   "execution_count": 30,
   "id": "4dc789ff-6221-442f-a696-9cd14edefa8a",
   "metadata": {},
   "outputs": [
    {
     "name": "stdout",
     "output_type": "stream",
     "text": [
      "a is NOT greater than b\n"
     ]
    }
   ],
   "source": [
    "a = 33\n",
    "b = 200\n",
    "if not a > b:\n",
    "  print(\"a is NOT greater than b\")"
   ]
  },
  {
   "cell_type": "markdown",
   "id": "68218313-c26f-4b94-b5d1-903426267750",
   "metadata": {},
   "source": [
    "**Nested If**  \n",
    "You can have if statements inside if statements, this is called nested if statements.\n",
    "\n",
    "**Example**  "
   ]
  },
  {
   "cell_type": "code",
   "execution_count": 33,
   "id": "0362337b-bde1-4bd3-b142-898d0b735a65",
   "metadata": {},
   "outputs": [
    {
     "name": "stdout",
     "output_type": "stream",
     "text": [
      "Above ten,\n",
      "and also above 20!\n"
     ]
    }
   ],
   "source": [
    "x = 41\n",
    "\n",
    "if x > 10:\n",
    "  print(\"Above ten,\")\n",
    "  if x > 20:\n",
    "    print(\"and also above 20!\")\n",
    "  else:\n",
    "    print(\"but not above 20.\")"
   ]
  },
  {
   "cell_type": "markdown",
   "id": "c548e7fb-3123-407e-9c88-16bfaf72038f",
   "metadata": {},
   "source": [
    "**The pass Statement**  \n",
    "if statements cannot be empty, but if you for some reason have an if statement with no content, put in the pass statement to avoid getting an error.\n",
    "\n",
    "**Example**  "
   ]
  },
  {
   "cell_type": "code",
   "execution_count": 36,
   "id": "7c8fcd37-20a5-45e0-90e5-f37d60465ff9",
   "metadata": {},
   "outputs": [],
   "source": [
    "a = 33\n",
    "b = 200\n",
    "\n",
    "if b > a:\n",
    "  pass"
   ]
  },
  {
   "cell_type": "markdown",
   "id": "410df024-f2e0-4d72-91eb-44efe1c7512b",
   "metadata": {
    "jp-MarkdownHeadingCollapsed": true
   },
   "source": [
    "# Python While Loops"
   ]
  },
  {
   "cell_type": "markdown",
   "id": "b4fdc7df-f312-4ef8-a880-966bcb703484",
   "metadata": {},
   "source": [
    "With the while loop we can execute a set of statements as long as a condition is true.\n",
    "\n",
    "**Example**  \n",
    "Print i as long as i is less than 6:"
   ]
  },
  {
   "cell_type": "code",
   "execution_count": 40,
   "id": "51320837-2699-4c80-b2b3-37b7072b88b6",
   "metadata": {},
   "outputs": [
    {
     "name": "stdout",
     "output_type": "stream",
     "text": [
      "1\n",
      "2\n",
      "3\n",
      "4\n",
      "5\n"
     ]
    }
   ],
   "source": [
    "i = 1\n",
    "while i < 6:\n",
    "  print(i)\n",
    "  i += 1"
   ]
  },
  {
   "cell_type": "markdown",
   "id": "2923cbf9-6abf-4ddc-b3e5-42e3feb140cd",
   "metadata": {},
   "source": [
    ">Note: remember to increment i, or else the loop will continue forever.\n",
    "\n",
    "The while loop requires relevant variables to be ready, in this example we need to define an indexing variable, i, which we set to 1.\n",
    "\n",
    "**The break Statement**  \n",
    "With the break statement we can stop the loop even if the while condition is true:\n",
    "\n",
    "**Example**  \n",
    "Exit the loop when i is 3:"
   ]
  },
  {
   "cell_type": "code",
   "execution_count": 43,
   "id": "b589d2ee-6021-415a-9215-0f4296fa4c82",
   "metadata": {},
   "outputs": [
    {
     "name": "stdout",
     "output_type": "stream",
     "text": [
      "1\n",
      "2\n",
      "3\n"
     ]
    }
   ],
   "source": [
    "i = 1\n",
    "while i < 6:\n",
    "  print(i)\n",
    "  if i == 3:\n",
    "    break\n",
    "  i += 1"
   ]
  },
  {
   "cell_type": "markdown",
   "id": "54975a16-30bd-495f-bd8e-e3d0e55a425e",
   "metadata": {},
   "source": [
    "**The continue Statement**  \n",
    "With the continue statement we can stop the current iteration, and continue with the next:\n",
    "\n",
    "**Example**  \n",
    "Continue to the next iteration if i is 3:"
   ]
  },
  {
   "cell_type": "code",
   "execution_count": 46,
   "id": "7a3cf811-0901-49c4-b3cc-236a000b01ac",
   "metadata": {},
   "outputs": [
    {
     "name": "stdout",
     "output_type": "stream",
     "text": [
      "1\n",
      "2\n",
      "4\n",
      "5\n",
      "6\n"
     ]
    }
   ],
   "source": [
    "i = 0\n",
    "while i < 6:\n",
    "  i += 1\n",
    "  if i == 3:\n",
    "    continue\n",
    "  print(i)"
   ]
  },
  {
   "cell_type": "markdown",
   "id": "18663fcb-52ee-4d43-8f92-60acdc2b3a0f",
   "metadata": {},
   "source": [
    "**The else Statement**  \n",
    "With the else statement we can run a block of code once when the condition no longer is true:\n",
    "\n",
    "**Example**  \n",
    "Print a message once the condition is false:"
   ]
  },
  {
   "cell_type": "code",
   "execution_count": 49,
   "id": "778e2343-1592-4544-b709-544fe9b7aad8",
   "metadata": {},
   "outputs": [
    {
     "name": "stdout",
     "output_type": "stream",
     "text": [
      "1\n",
      "2\n",
      "3\n",
      "4\n",
      "5\n",
      "i is no longer less than 6\n"
     ]
    }
   ],
   "source": [
    "i = 1\n",
    "while i < 6:\n",
    "  print(i)\n",
    "  i += 1\n",
    "else:\n",
    "  print(\"i is no longer less than 6\")"
   ]
  },
  {
   "cell_type": "markdown",
   "id": "05bf04da-a801-4c91-ab97-8cdb3d580394",
   "metadata": {
    "jp-MarkdownHeadingCollapsed": true
   },
   "source": [
    "# Python For Loops"
   ]
  },
  {
   "cell_type": "markdown",
   "id": "a0537aea-72d5-4d9a-84f2-4c2f3d1bb494",
   "metadata": {},
   "source": [
    "A for loop is used for iterating over a sequence (that is either a list, a tuple, a dictionary, a set, or a string).\n",
    "\n",
    "This is less like the for keyword in other programming languages, and works more like an iterator method as found in other object-orientated programming languages.\n",
    "\n",
    "With the for loop we can execute a set of statements, once for each item in a list, tuple, set etc.\n",
    "\n",
    "**Example**  \n",
    "Print each fruit in a fruit list:"
   ]
  },
  {
   "cell_type": "code",
   "execution_count": 53,
   "id": "ff880c6b-8663-4b2f-afda-d9e386e03eba",
   "metadata": {},
   "outputs": [
    {
     "name": "stdout",
     "output_type": "stream",
     "text": [
      "apple\n",
      "banana\n",
      "cherry\n"
     ]
    }
   ],
   "source": [
    "fruits = [\"apple\", \"banana\", \"cherry\"]\n",
    "for x in fruits:\n",
    "  print(x)"
   ]
  },
  {
   "cell_type": "markdown",
   "id": "a0a43934-cb0e-4a8a-a09b-4577895d1866",
   "metadata": {},
   "source": [
    "The for loop does not require an indexing variable to set beforehand.\n",
    "\n",
    "**Looping Through a String**  \n",
    "Even strings are iterable objects, they contain a sequence of characters:\n",
    "\n",
    "**Example**  \n",
    "Loop through the letters in the word \"banana\":"
   ]
  },
  {
   "cell_type": "code",
   "execution_count": 56,
   "id": "df08184c-9168-4109-9683-b880b8c63df5",
   "metadata": {},
   "outputs": [
    {
     "name": "stdout",
     "output_type": "stream",
     "text": [
      "b\n",
      "a\n",
      "n\n",
      "a\n",
      "n\n",
      "a\n"
     ]
    }
   ],
   "source": [
    "for x in \"banana\":\n",
    "  print(x)"
   ]
  },
  {
   "cell_type": "markdown",
   "id": "3ad463af-90d8-42fb-9a21-fd05139fd2ec",
   "metadata": {},
   "source": [
    "**The break Statement**  \n",
    "With the break statement we can stop the loop before it has looped through all the items:\n",
    "\n",
    "**Example**  \n",
    "Exit the loop when x is \"banana\":"
   ]
  },
  {
   "cell_type": "code",
   "execution_count": 59,
   "id": "1c399151-68a0-4654-968b-30fb48c618c3",
   "metadata": {},
   "outputs": [
    {
     "name": "stdout",
     "output_type": "stream",
     "text": [
      "apple\n",
      "banana\n"
     ]
    }
   ],
   "source": [
    "fruits = [\"apple\", \"banana\", \"cherry\"]\n",
    "for x in fruits:\n",
    "  print(x)\n",
    "  if x == \"banana\":\n",
    "    break"
   ]
  },
  {
   "cell_type": "markdown",
   "id": "26cce230-d5a4-4f8d-96cd-2953d6b1af13",
   "metadata": {},
   "source": [
    "**Example**  \n",
    "Exit the loop when x is \"banana\", but this time the break comes before the print:"
   ]
  },
  {
   "cell_type": "code",
   "execution_count": 62,
   "id": "a904428e-9021-4265-a4e3-7cfc05ec10f3",
   "metadata": {},
   "outputs": [
    {
     "name": "stdout",
     "output_type": "stream",
     "text": [
      "apple\n"
     ]
    }
   ],
   "source": [
    "fruits = [\"apple\", \"banana\", \"cherry\"]\n",
    "for x in fruits:\n",
    "  if x == \"banana\":\n",
    "    break\n",
    "  print(x)"
   ]
  },
  {
   "cell_type": "markdown",
   "id": "2d1c6971-6db3-41c5-b882-83a7dc2e090a",
   "metadata": {},
   "source": [
    "**The continue Statement**  \n",
    "With the continue statement we can stop the current iteration of the loop, and continue with the next:\n",
    "\n",
    "**Example**  \n",
    "Do not print banana:"
   ]
  },
  {
   "cell_type": "code",
   "execution_count": 65,
   "id": "b6d4b763-cae3-4f25-989d-203267eb7eb9",
   "metadata": {},
   "outputs": [
    {
     "name": "stdout",
     "output_type": "stream",
     "text": [
      "apple\n",
      "cherry\n"
     ]
    }
   ],
   "source": [
    "fruits = [\"apple\", \"banana\", \"cherry\"]\n",
    "for x in fruits:\n",
    "  if x == \"banana\":\n",
    "    continue\n",
    "  print(x)"
   ]
  },
  {
   "cell_type": "markdown",
   "id": "1391a8df-4d94-4f89-99ab-b28ed603b4e6",
   "metadata": {},
   "source": [
    "**The range() Function**  \n",
    "To loop through a set of code a specified number of times, we can use the range() function,\n",
    "The range() function returns a sequence of numbers, starting from 0 by default, and increments by 1 (by default), and ends at a specified number.\n",
    "\n",
    "**Example**  \n",
    "Using the range() function:"
   ]
  },
  {
   "cell_type": "code",
   "execution_count": 68,
   "id": "2b39773c-8eff-49be-bbec-dc51c6bb7737",
   "metadata": {},
   "outputs": [
    {
     "name": "stdout",
     "output_type": "stream",
     "text": [
      "0\n",
      "1\n",
      "2\n",
      "3\n",
      "4\n",
      "5\n"
     ]
    }
   ],
   "source": [
    "for x in range(6):\n",
    "  print(x)"
   ]
  },
  {
   "cell_type": "markdown",
   "id": "e12da2e9-54b6-4e61-91ff-8209650d1b12",
   "metadata": {},
   "source": [
    ">Note that range(6) is not the values of 0 to 6, but the values 0 to 5.\n",
    "\n",
    "The range() function defaults to 0 as a starting value, however it is possible to specify the starting value by adding a parameter: range(2, 6), which means values from 2 to 6 (but not including 6):\n",
    "\n",
    "**Example**  \n",
    "Using the start parameter:"
   ]
  },
  {
   "cell_type": "code",
   "execution_count": 71,
   "id": "a83de2a7-7d05-4393-aee1-eecf7373f35b",
   "metadata": {},
   "outputs": [
    {
     "name": "stdout",
     "output_type": "stream",
     "text": [
      "2\n",
      "3\n",
      "4\n",
      "5\n"
     ]
    }
   ],
   "source": [
    "for x in range(2, 6):\n",
    "  print(x)"
   ]
  },
  {
   "cell_type": "markdown",
   "id": "14841379-ad18-43ee-b4d9-9e5cae6d2752",
   "metadata": {},
   "source": [
    "The range() function defaults to increment the sequence by 1, however it is possible to specify the increment value by adding a third parameter: range(2, 30, 3):\n",
    "\n",
    "**Example**  \n",
    "Increment the sequence with 3 (default is 1):"
   ]
  },
  {
   "cell_type": "code",
   "execution_count": 74,
   "id": "f20fa532-b477-412a-bf56-5b5cb9aa46b5",
   "metadata": {},
   "outputs": [
    {
     "name": "stdout",
     "output_type": "stream",
     "text": [
      "2\n",
      "5\n",
      "8\n",
      "11\n",
      "14\n",
      "17\n",
      "20\n",
      "23\n",
      "26\n",
      "29\n"
     ]
    }
   ],
   "source": [
    "for x in range(2, 30, 3):\n",
    "  print(x)"
   ]
  },
  {
   "cell_type": "markdown",
   "id": "81613ebd-a65e-43b5-aa71-f67e59af19ea",
   "metadata": {},
   "source": [
    "**Else in For Loop**\n",
    "The else keyword in a for loop specifies a block of code to be executed when the loop is finished:\n",
    "\n",
    "**Example**  \n",
    "Print all numbers from 0 to 5, and print a message when the loop has ended:"
   ]
  },
  {
   "cell_type": "code",
   "execution_count": 77,
   "id": "acec3e4a-eab4-4cf1-94c7-d31d24d60dc6",
   "metadata": {},
   "outputs": [
    {
     "name": "stdout",
     "output_type": "stream",
     "text": [
      "0\n",
      "1\n",
      "2\n",
      "3\n",
      "4\n",
      "5\n",
      "Finally finished!\n"
     ]
    }
   ],
   "source": [
    "for x in range(6):\n",
    "  print(x)\n",
    "else:\n",
    "  print(\"Finally finished!\")"
   ]
  },
  {
   "cell_type": "markdown",
   "id": "9b9375e2-a5b0-4c6a-a32b-7b86581f77ce",
   "metadata": {},
   "source": [
    "> Note: The else block will NOT be executed if the loop is stopped by a break statement.\n",
    "\n",
    "**Example**  \n",
    "Break the loop when x is 3, and see what happens with the else block:"
   ]
  },
  {
   "cell_type": "code",
   "execution_count": 80,
   "id": "528aea03-2758-45f8-8a18-64044e96caf9",
   "metadata": {},
   "outputs": [
    {
     "name": "stdout",
     "output_type": "stream",
     "text": [
      "0\n",
      "1\n",
      "2\n"
     ]
    }
   ],
   "source": [
    "for x in range(6):\n",
    "  if x == 3: break\n",
    "  print(x)\n",
    "else:\n",
    "  print(\"Finally finished!\")"
   ]
  },
  {
   "cell_type": "markdown",
   "id": "035d61e9-dd39-4397-9944-85e8268f4cee",
   "metadata": {},
   "source": [
    "**Nested Loops**  \n",
    "A nested loop is a loop inside a loop.\n",
    "\n",
    "The \"inner loop\" will be executed one time for each iteration of the \"outer loop\":\n",
    "\n",
    "**Example**  \n",
    "Print each adjective for every fruit:"
   ]
  },
  {
   "cell_type": "code",
   "execution_count": 83,
   "id": "f38ae292-16ba-4abe-9025-c43af6338e15",
   "metadata": {},
   "outputs": [
    {
     "name": "stdout",
     "output_type": "stream",
     "text": [
      "red apple\n",
      "red banana\n",
      "red cherry\n",
      "big apple\n",
      "big banana\n",
      "big cherry\n",
      "tasty apple\n",
      "tasty banana\n",
      "tasty cherry\n"
     ]
    }
   ],
   "source": [
    "adj = [\"red\", \"big\", \"tasty\"]\n",
    "fruits = [\"apple\", \"banana\", \"cherry\"]\n",
    "\n",
    "for x in adj:\n",
    "  for y in fruits:\n",
    "    print(x, y)"
   ]
  },
  {
   "cell_type": "markdown",
   "id": "247743e4-e128-4998-9372-46903ab77611",
   "metadata": {},
   "source": [
    "**The pass Statement**  \n",
    "for loops cannot be empty, but if you for some reason have a for loop with no content, put in the pass statement to avoid getting an error."
   ]
  },
  {
   "cell_type": "code",
   "execution_count": 86,
   "id": "e0397124-81a5-4331-9e73-d5f9d67b60d4",
   "metadata": {},
   "outputs": [],
   "source": [
    "for x in [0, 1, 2]:\n",
    "  pass"
   ]
  },
  {
   "cell_type": "markdown",
   "id": "74db6852-8df5-4bf1-a53b-8184e2d6f7c3",
   "metadata": {
    "jp-MarkdownHeadingCollapsed": true
   },
   "source": [
    "# Python Functions"
   ]
  },
  {
   "cell_type": "markdown",
   "id": "5e1780a6-714a-4fd1-a980-0e2d22f607de",
   "metadata": {},
   "source": [
    "A function is a block of code which only runs when it is called.\n",
    "\n",
    "You can pass data, known as parameters, into a function.\n",
    "\n",
    "A function can return data as a result.\n",
    "\n",
    "**Creating a Function**  \n",
    "In Python a function is defined using the def keyword:\n",
    "\n",
    "**Example**  "
   ]
  },
  {
   "cell_type": "code",
   "execution_count": 90,
   "id": "73816622-4e81-48fa-bc6a-ae5c5fe3831b",
   "metadata": {},
   "outputs": [],
   "source": [
    "def my_function():\n",
    "  print(\"Hello from a function\")"
   ]
  },
  {
   "cell_type": "markdown",
   "id": "a292e29e-3874-44ea-8d16-8f97d60077dd",
   "metadata": {},
   "source": [
    "**Calling a Function**  \n",
    "To call a function, use the function name followed by parenthesis:\n",
    "\n",
    "**Example**  "
   ]
  },
  {
   "cell_type": "code",
   "execution_count": 93,
   "id": "32560d6b-2aea-4be5-8071-be1dad6b05c6",
   "metadata": {},
   "outputs": [
    {
     "name": "stdout",
     "output_type": "stream",
     "text": [
      "Hello from a function\n"
     ]
    }
   ],
   "source": [
    "def my_function():\n",
    "  print(\"Hello from a function\")\n",
    "\n",
    "my_function()"
   ]
  },
  {
   "cell_type": "markdown",
   "id": "c035f10b-8020-4d14-934a-8c728d1394c0",
   "metadata": {},
   "source": [
    "**Arguments**  \n",
    "Information can be passed into functions as arguments.\n",
    "\n",
    "Arguments are specified after the function name, inside the parentheses. You can add as many arguments as you want, just separate them with a comma.\n",
    "\n",
    "The following example has a function with one argument (fname). When the function is called, we pass along a first name, which is used inside the function to print the full name:\n",
    "\n",
    "**Example**  "
   ]
  },
  {
   "cell_type": "code",
   "execution_count": 96,
   "id": "4b4832fb-2b02-43c6-9a94-e4d42f5a6776",
   "metadata": {},
   "outputs": [
    {
     "name": "stdout",
     "output_type": "stream",
     "text": [
      "Emil Refsnes\n",
      "Tobias Refsnes\n",
      "Linus Refsnes\n"
     ]
    }
   ],
   "source": [
    "def my_function(fname):\n",
    "  print(fname + \" Refsnes\")\n",
    "\n",
    "my_function(\"Emil\")\n",
    "my_function(\"Tobias\")\n",
    "my_function(\"Linus\")"
   ]
  },
  {
   "cell_type": "markdown",
   "id": "b391dc27-ac7f-421c-9cb7-46b7a828fa1b",
   "metadata": {},
   "source": [
    ">Arguments are often shortened to args in Python documentations.\n",
    "\n",
    "**Parameters or Arguments?**  \n",
    "The terms parameter and argument can be used for the same thing: information that are passed into a function.\n",
    "\n",
    ">From a function's perspective:  \n",
    "A parameter is the variable listed inside the parentheses in the function definition.  \n",
    "An argument is the value that is sent to the function when it is called.\n",
    "\n",
    "**Number of Arguments**  \n",
    "By default, a function must be called with the correct number of arguments. Meaning that if your function expects 2 arguments, you have to call the function with 2 arguments, not more, and not less.\n",
    "\n",
    "**Example**  \n",
    "This function expects 2 arguments, and gets 2 arguments:"
   ]
  },
  {
   "cell_type": "code",
   "execution_count": null,
   "id": "b548f44d-6fc3-4882-a084-e15eba1034b1",
   "metadata": {},
   "outputs": [],
   "source": [
    "def my_function(fname, lname):\n",
    "  print(fname + \" \" + lname)\n",
    "\n",
    "my_function(\"Emil\", \"Refsnes\")"
   ]
  },
  {
   "cell_type": "markdown",
   "id": "bd2df10f-f285-4108-89ba-99c91066a161",
   "metadata": {},
   "source": [
    "If you try to call the function with 1 or 3 arguments, you will get an error:\n",
    "**Example**  \n",
    "This function expects 2 arguments, but gets only 1:"
   ]
  },
  {
   "cell_type": "code",
   "execution_count": 100,
   "id": "8404b57a-d1c7-4a00-a8ae-51735a890c2a",
   "metadata": {},
   "outputs": [
    {
     "ename": "TypeError",
     "evalue": "my_function() missing 1 required positional argument: 'lname'",
     "output_type": "error",
     "traceback": [
      "\u001b[0;31m---------------------------------------------------------------------------\u001b[0m",
      "\u001b[0;31mTypeError\u001b[0m                                 Traceback (most recent call last)",
      "Cell \u001b[0;32mIn[100], line 4\u001b[0m\n\u001b[1;32m      1\u001b[0m \u001b[38;5;28;01mdef\u001b[39;00m \u001b[38;5;21mmy_function\u001b[39m(fname, lname):\n\u001b[1;32m      2\u001b[0m   \u001b[38;5;28mprint\u001b[39m(fname \u001b[38;5;241m+\u001b[39m \u001b[38;5;124m\"\u001b[39m\u001b[38;5;124m \u001b[39m\u001b[38;5;124m\"\u001b[39m \u001b[38;5;241m+\u001b[39m lname)\n\u001b[0;32m----> 4\u001b[0m my_function(\u001b[38;5;124m\"\u001b[39m\u001b[38;5;124mEmil\u001b[39m\u001b[38;5;124m\"\u001b[39m)\n",
      "\u001b[0;31mTypeError\u001b[0m: my_function() missing 1 required positional argument: 'lname'"
     ]
    }
   ],
   "source": [
    "def my_function(fname, lname):\n",
    "  print(fname + \" \" + lname)\n",
    "\n",
    "my_function(\"Emil\")"
   ]
  },
  {
   "cell_type": "markdown",
   "id": "cc8f1be9-541e-4e70-8582-7a01c18b72ac",
   "metadata": {},
   "source": [
    "**Arbitrary Arguments, *args***  \n",
    "If you do not know how many arguments that will be passed into your function, add a * before the parameter name in the function definition.\n",
    "\n",
    "This way the function will receive a tuple of arguments, and can access the items accordingly:\n",
    "\n",
    "**Example**  \n",
    "If the number of arguments is unknown, add a * before the parameter name:"
   ]
  },
  {
   "cell_type": "code",
   "execution_count": 106,
   "id": "b0423fe9-fa1d-497b-9313-e9a7f1ace327",
   "metadata": {},
   "outputs": [
    {
     "name": "stdout",
     "output_type": "stream",
     "text": [
      "The youngest child is Linus\n"
     ]
    }
   ],
   "source": [
    "def my_function(*kids):\n",
    "  print(\"The youngest child is \" + kids[2])\n",
    "\n",
    "my_function(\"Emil\", \"Tobias\", \"Linus\")"
   ]
  },
  {
   "cell_type": "markdown",
   "id": "52c2fd45-79d5-4738-aa68-0aea58474f28",
   "metadata": {},
   "source": [
    ">Arbitrary Arguments are often shortened to *args in Python documentations.\n",
    "\n",
    "**Keyword Arguments**  \n",
    "You can also send arguments with the key = value syntax.\n",
    "\n",
    "This way the order of the arguments does not matter.\n",
    "\n",
    "**Example**  "
   ]
  },
  {
   "cell_type": "code",
   "execution_count": 109,
   "id": "1f48d023-e345-45c3-bcc2-5e1e34745c49",
   "metadata": {},
   "outputs": [
    {
     "name": "stdout",
     "output_type": "stream",
     "text": [
      "The youngest child is Linus\n"
     ]
    }
   ],
   "source": [
    "def my_function(child3, child2, child1):\n",
    "  print(\"The youngest child is \" + child3)\n",
    "\n",
    "my_function(child1 = \"Emil\", child2 = \"Tobias\", child3 = \"Linus\")"
   ]
  },
  {
   "cell_type": "markdown",
   "id": "2c200810-0028-49e6-9435-97e52fe898c2",
   "metadata": {},
   "source": [
    ">The phrase Keyword Arguments are often shortened to kwargs in Python documentations.\n",
    "\n",
    "Arbitrary Keyword Arguments, **kwargs\n",
    "If you do not know how many keyword arguments that will be passed into your function, add two asterisk: ** before the parameter name in the function definition.\n",
    "\n",
    "This way the function will receive a dictionary of arguments, and can access the items accordingly:\n",
    "\n",
    "**Example**  \n",
    "If the number of keyword arguments is unknown, add a double ** before the parameter name:"
   ]
  },
  {
   "cell_type": "code",
   "execution_count": 112,
   "id": "2b34bcc5-f867-459c-9c4f-550238cce33b",
   "metadata": {},
   "outputs": [
    {
     "name": "stdout",
     "output_type": "stream",
     "text": [
      "His last name is Refsnes\n"
     ]
    }
   ],
   "source": [
    "def my_function(**kid):\n",
    "  print(\"His last name is \" + kid[\"lname\"])\n",
    "\n",
    "my_function(fname = \"Tobias\", lname = \"Refsnes\")"
   ]
  },
  {
   "cell_type": "markdown",
   "id": "25a5b82f-6ca4-429c-872e-e50b1825d1dd",
   "metadata": {},
   "source": [
    ">Arbitrary Kword Arguments are often shortened to **kwargs in Python documentations.\n",
    "\n",
    "Default Parameter Value\n",
    "The following example shows how to use a default parameter value.\n",
    "\n",
    "If we call the function without argument, it uses the default value:\n",
    "\n",
    "**Example**  "
   ]
  },
  {
   "cell_type": "code",
   "execution_count": 115,
   "id": "5cf3686a-47fc-4387-a683-2f9483c3f4ce",
   "metadata": {},
   "outputs": [
    {
     "name": "stdout",
     "output_type": "stream",
     "text": [
      "I am from Sweden\n",
      "I am from India\n",
      "I am from Norway\n",
      "I am from Brazil\n"
     ]
    }
   ],
   "source": [
    "def my_function(country = \"Norway\"):\n",
    "  print(\"I am from \" + country)\n",
    "\n",
    "my_function(\"Sweden\")\n",
    "my_function(\"India\")\n",
    "my_function()\n",
    "my_function(\"Brazil\")"
   ]
  },
  {
   "cell_type": "markdown",
   "id": "471c5fa0-8aff-45d0-9d28-28f8f34105a5",
   "metadata": {},
   "source": [
    "Passing a List as an Argument\n",
    "You can send any data types of argument to a function (string, number, list, dictionary etc.), and it will be treated as the same data type inside the function.\n",
    "\n",
    "E.g. if you send a List as an argument, it will still be a List when it reaches the function:\n",
    "\n",
    "**Example**  "
   ]
  },
  {
   "cell_type": "code",
   "execution_count": 118,
   "id": "e01b3dd5-3ef5-4d0b-9be5-5265cda83285",
   "metadata": {},
   "outputs": [
    {
     "name": "stdout",
     "output_type": "stream",
     "text": [
      "apple\n",
      "banana\n",
      "cherry\n"
     ]
    }
   ],
   "source": [
    "def my_function(food):\n",
    "  for x in food:\n",
    "    print(x)\n",
    "\n",
    "fruits = [\"apple\", \"banana\", \"cherry\"]\n",
    "\n",
    "my_function(fruits)"
   ]
  },
  {
   "cell_type": "markdown",
   "id": "a68f431e-53c6-4e06-8e5b-fc8df8b63fb3",
   "metadata": {},
   "source": [
    "**Return Values**  \n",
    "To let a function return a value, use the return statement:\n",
    "\n",
    "**Example**  "
   ]
  },
  {
   "cell_type": "code",
   "execution_count": 121,
   "id": "217a077d-72c3-4a90-89df-4646ec38b864",
   "metadata": {},
   "outputs": [
    {
     "name": "stdout",
     "output_type": "stream",
     "text": [
      "15\n",
      "25\n",
      "45\n"
     ]
    }
   ],
   "source": [
    "def my_function(x):\n",
    "  return 5 * x\n",
    "\n",
    "print(my_function(3))\n",
    "print(my_function(5))\n",
    "print(my_function(9))"
   ]
  },
  {
   "cell_type": "markdown",
   "id": "e6eb5d49-7da9-446a-92a4-0ee50e97e7cb",
   "metadata": {},
   "source": [
    "**The pass Statement**  \n",
    "function definitions cannot be empty, but if you for some reason have a function definition with no content, put in the pass statement to avoid getting an error.\n",
    "\n",
    "**Example**  "
   ]
  },
  {
   "cell_type": "code",
   "execution_count": null,
   "id": "7434ed4f-8c64-4ee4-962a-a17e596ee2d4",
   "metadata": {},
   "outputs": [],
   "source": [
    "def myfunction():\n",
    "  pass"
   ]
  },
  {
   "cell_type": "markdown",
   "id": "c6c19db5-7034-4a7a-b39a-ce703bff55c5",
   "metadata": {},
   "source": [
    "**Positional-Only Arguments**  \n",
    "You can specify that a function can have ONLY positional arguments, or ONLY keyword arguments.\n",
    "\n",
    "To specify that a function can have only positional arguments, add , / after the arguments:\n",
    "\n",
    "**Example**  "
   ]
  },
  {
   "cell_type": "code",
   "execution_count": 126,
   "id": "c8e72102-9142-4b1e-be6f-898b399136e4",
   "metadata": {},
   "outputs": [
    {
     "name": "stdout",
     "output_type": "stream",
     "text": [
      "3\n"
     ]
    }
   ],
   "source": [
    "def my_function(x, /):\n",
    "  print(x)\n",
    "\n",
    "my_function(3)"
   ]
  },
  {
   "cell_type": "markdown",
   "id": "8ee24728-4262-4c91-bc6f-272647ebccf3",
   "metadata": {},
   "source": [
    "Without the , / you are actually allowed to use keyword arguments even if the function expects positional arguments:\n",
    "\n",
    "**Example**  "
   ]
  },
  {
   "cell_type": "code",
   "execution_count": 129,
   "id": "7651e7db-1b9d-4b44-b7ec-4af82e2cde45",
   "metadata": {},
   "outputs": [
    {
     "name": "stdout",
     "output_type": "stream",
     "text": [
      "3\n"
     ]
    }
   ],
   "source": [
    "def my_function(x):\n",
    "  print(x)\n",
    "\n",
    "my_function(x = 3)"
   ]
  },
  {
   "cell_type": "markdown",
   "id": "d1846227-28c4-4792-a85c-ba49387866f9",
   "metadata": {},
   "source": [
    "But when adding the , / you will get an error if you try to send a keyword argument:\n",
    "\n",
    "**Example**  "
   ]
  },
  {
   "cell_type": "code",
   "execution_count": null,
   "id": "45081c8b-2275-4d8c-a79c-1766ae48f799",
   "metadata": {},
   "outputs": [],
   "source": [
    "def my_function(x, /):\n",
    "  print(x)\n",
    "\n",
    "my_function(x = 3)"
   ]
  },
  {
   "cell_type": "markdown",
   "id": "0ded9089-4762-4bc3-ba51-2894932fd722",
   "metadata": {},
   "source": [
    "**Keyword-Only Arguments**\n",
    "To specify that a function can have only keyword arguments, add *, before the arguments:\n",
    "\n",
    "**Example**"
   ]
  },
  {
   "cell_type": "code",
   "execution_count": 133,
   "id": "243d5c58-0793-4bec-bd15-3fa939e718a0",
   "metadata": {},
   "outputs": [
    {
     "name": "stdout",
     "output_type": "stream",
     "text": [
      "3\n"
     ]
    }
   ],
   "source": [
    "def my_function(*, x):\n",
    "  print(x)\n",
    "\n",
    "my_function(x = 3)"
   ]
  },
  {
   "cell_type": "markdown",
   "id": "6b59f944-1ddd-4035-83ea-9f6306003ace",
   "metadata": {},
   "source": [
    "Without the *, you are allowed to use positionale arguments even if the function expects keyword arguments:\n",
    "\n",
    "**Example**"
   ]
  },
  {
   "cell_type": "code",
   "execution_count": null,
   "id": "b3c516be-afb1-4795-aec9-d326bfd746d6",
   "metadata": {},
   "outputs": [],
   "source": [
    "def my_function(x):\n",
    "  print(x)\n",
    "\n",
    "my_function(3)"
   ]
  },
  {
   "cell_type": "markdown",
   "id": "7c7de346-6a2c-487c-80f7-7efbfdb24495",
   "metadata": {},
   "source": [
    "But when adding the *, / you will get an error if you try to send a positional argument:\n",
    "\n",
    "**Example**"
   ]
  },
  {
   "cell_type": "code",
   "execution_count": 137,
   "id": "c18fdc71-7beb-43a9-8160-91ba657dc21e",
   "metadata": {},
   "outputs": [
    {
     "ename": "TypeError",
     "evalue": "my_function() takes 0 positional arguments but 1 was given",
     "output_type": "error",
     "traceback": [
      "\u001b[0;31m---------------------------------------------------------------------------\u001b[0m",
      "\u001b[0;31mTypeError\u001b[0m                                 Traceback (most recent call last)",
      "Cell \u001b[0;32mIn[137], line 4\u001b[0m\n\u001b[1;32m      1\u001b[0m \u001b[38;5;28;01mdef\u001b[39;00m \u001b[38;5;21mmy_function\u001b[39m(\u001b[38;5;241m*\u001b[39m, x):\n\u001b[1;32m      2\u001b[0m   \u001b[38;5;28mprint\u001b[39m(x)\n\u001b[0;32m----> 4\u001b[0m my_function(\u001b[38;5;241m3\u001b[39m)\n",
      "\u001b[0;31mTypeError\u001b[0m: my_function() takes 0 positional arguments but 1 was given"
     ]
    }
   ],
   "source": [
    "def my_function(*, x):\n",
    "  print(x)\n",
    "\n",
    "my_function(3)"
   ]
  },
  {
   "cell_type": "markdown",
   "id": "978fafa6-0501-4313-868f-bbb5aedf55bf",
   "metadata": {},
   "source": [
    "**Combine Positional-Only and Keyword-Only**  \n",
    "You can combine the two argument types in the same function.\n",
    "\n",
    "Any argument before the / , are positional-only, and any argument after the *, are keyword-only.\n",
    "\n",
    "**Example**  "
   ]
  },
  {
   "cell_type": "code",
   "execution_count": 140,
   "id": "dcc3ac20-ca9e-4042-90d7-d3d539a9470b",
   "metadata": {},
   "outputs": [
    {
     "name": "stdout",
     "output_type": "stream",
     "text": [
      "26\n"
     ]
    }
   ],
   "source": [
    "def my_function(a, b, /, *, c, d):\n",
    "  print(a + b + c + d)\n",
    "\n",
    "my_function(5, 6, c = 7, d = 8)"
   ]
  },
  {
   "cell_type": "markdown",
   "id": "47351049-4bfd-421f-bdd9-afbe6a7d7f4c",
   "metadata": {},
   "source": [
    "**Recursion**  \n",
    "Python also accepts function recursion, which means a defined function can call itself.\n",
    "\n",
    "Recursion is a common mathematical and programming concept. It means that a function calls itself. This has the benefit of meaning that you can loop through data to reach a result.\n",
    "\n",
    "The developer should be very careful with recursion as it can be quite easy to slip into writing a function which never terminates, or one that uses excess amounts of memory or processor power. However, when written correctly recursion can be a very efficient and mathematically-elegant approach to programming.\n",
    "\n",
    "In this example, tri_recursion() is a function that we have defined to call itself (\"recurse\"). We use the k variable as the data, which decrements (-1) every time we recurse. The recursion ends when the condition is not greater than 0 (i.e. when it is 0).\n",
    "\n",
    "To a new developer it can take some time to work out how exactly this works, best way to find out is by testing and modifying it.\n",
    "\n",
    "**Example**  \n",
    "Recursion Example"
   ]
  },
  {
   "cell_type": "code",
   "execution_count": 143,
   "id": "1c720b34-69b1-4969-b18a-e4612bf26bec",
   "metadata": {},
   "outputs": [
    {
     "name": "stdout",
     "output_type": "stream",
     "text": [
      "\n",
      "\n",
      "Recursion Example Results\n",
      "1\n",
      "3\n",
      "6\n",
      "10\n",
      "15\n",
      "21\n"
     ]
    },
    {
     "data": {
      "text/plain": [
       "21"
      ]
     },
     "execution_count": 143,
     "metadata": {},
     "output_type": "execute_result"
    }
   ],
   "source": [
    "def tri_recursion(k):\n",
    "  if(k > 0):\n",
    "    result = k + tri_recursion(k - 1)\n",
    "    print(result)\n",
    "  else:\n",
    "    result = 0\n",
    "  return result\n",
    "\n",
    "print(\"\\n\\nRecursion Example Results\")\n",
    "tri_recursion(6)"
   ]
  },
  {
   "cell_type": "markdown",
   "id": "04e4901c-0f04-46df-a04a-5add830299ec",
   "metadata": {
    "jp-MarkdownHeadingCollapsed": true
   },
   "source": [
    "# Python Lambda"
   ]
  },
  {
   "cell_type": "markdown",
   "id": "c806fccf-cf2b-4973-aca7-027967811b8f",
   "metadata": {},
   "source": [
    "A lambda function is a small anonymous function.\n",
    "\n",
    "A lambda function can take any number of arguments, but can only have one expression."
   ]
  },
  {
   "cell_type": "markdown",
   "id": "01bd52d1-9549-4c9e-b1ff-9daba535a8b7",
   "metadata": {},
   "source": [
    "**Syntax**  \n",
    "lambda arguments : expression\n",
    "The expression is executed and the result is returned:\n",
    "\n",
    "**Example**  \n",
    "Add 10 to argument a, and return the result:"
   ]
  },
  {
   "cell_type": "code",
   "execution_count": 148,
   "id": "9ebc9040-1de9-4b8f-83ed-6d3e506dad7e",
   "metadata": {},
   "outputs": [
    {
     "name": "stdout",
     "output_type": "stream",
     "text": [
      "15\n"
     ]
    }
   ],
   "source": [
    "x = lambda a : a + 10\n",
    "print(x(5))"
   ]
  },
  {
   "cell_type": "markdown",
   "id": "b7fe6d24-3ca9-4e05-a0f3-eea51f01af79",
   "metadata": {},
   "source": [
    "Lambda functions can take any number of arguments:\n",
    "\n",
    "**Example**  \n",
    "Multiply argument a with argument b and return the result:"
   ]
  },
  {
   "cell_type": "code",
   "execution_count": 151,
   "id": "37a96e4f-005f-472c-8f41-85b059b90d12",
   "metadata": {},
   "outputs": [
    {
     "name": "stdout",
     "output_type": "stream",
     "text": [
      "30\n"
     ]
    }
   ],
   "source": [
    "x = lambda a, b : a * b\n",
    "print(x(5, 6))"
   ]
  },
  {
   "cell_type": "markdown",
   "id": "fe2416d3-878c-4d4f-a0f3-fae51382ef6e",
   "metadata": {},
   "source": [
    "**Example**  \n",
    "Summarize argument a, b, and c and return the result:"
   ]
  },
  {
   "cell_type": "code",
   "execution_count": 154,
   "id": "11960d6d-a070-46cb-afc2-14af827d9431",
   "metadata": {},
   "outputs": [
    {
     "name": "stdout",
     "output_type": "stream",
     "text": [
      "13\n"
     ]
    }
   ],
   "source": [
    "x = lambda a, b, c : a + b + c\n",
    "print(x(5, 6, 2))"
   ]
  },
  {
   "cell_type": "markdown",
   "id": "b782a4fb-4cc2-4272-99b2-5e367189948b",
   "metadata": {},
   "source": [
    "**Why Use Lambda Functions?**  \n",
    "The power of lambda is better shown when you use them as an anonymous function inside another function.\n",
    "\n",
    "Say you have a function definition that takes one argument, and that argument will be multiplied with an unknown number:"
   ]
  },
  {
   "cell_type": "code",
   "execution_count": 159,
   "id": "c862549c-b38c-41b8-a344-edb6c2eb3092",
   "metadata": {},
   "outputs": [],
   "source": [
    "def myfunc(n):\n",
    "  return lambda a : a * n"
   ]
  },
  {
   "cell_type": "markdown",
   "id": "e6c74789-426a-4748-a624-39e8e31d2673",
   "metadata": {},
   "source": [
    "Use that function definition to make a function that always doubles the number you send in:\n",
    "\n",
    "**Example**  "
   ]
  },
  {
   "cell_type": "code",
   "execution_count": 162,
   "id": "30d134ed-e7a2-4547-acca-3c2e410d0d91",
   "metadata": {},
   "outputs": [
    {
     "name": "stdout",
     "output_type": "stream",
     "text": [
      "22\n"
     ]
    }
   ],
   "source": [
    "def myfunc(n):\n",
    "  return lambda a : a * n\n",
    "\n",
    "mydoubler = myfunc(2)\n",
    "\n",
    "print(mydoubler(11))"
   ]
  },
  {
   "cell_type": "markdown",
   "id": "b7fc4d02-2c81-4da3-9165-6baf6a39495c",
   "metadata": {},
   "source": [
    "Or, use the same function definition to make a function that always triples the number you send in:\n",
    "\n",
    "**Example**  "
   ]
  },
  {
   "cell_type": "code",
   "execution_count": 165,
   "id": "28bd2f3b-1819-4aa9-a87a-ab8e41e83cdb",
   "metadata": {},
   "outputs": [
    {
     "name": "stdout",
     "output_type": "stream",
     "text": [
      "33\n"
     ]
    }
   ],
   "source": [
    "def myfunc(n):\n",
    "  return lambda a : a * n\n",
    "\n",
    "mytripler = myfunc(3)\n",
    "\n",
    "print(mytripler(11))"
   ]
  },
  {
   "cell_type": "markdown",
   "id": "606ab67f-ceb6-4e20-8c6a-a9225c8c2f7b",
   "metadata": {},
   "source": [
    "Or, use the same function definition to make both functions, in the same program:\n",
    "\n",
    "**Example**"
   ]
  },
  {
   "cell_type": "code",
   "execution_count": 168,
   "id": "a75b212e-7200-434e-8166-c4fcf976ea79",
   "metadata": {},
   "outputs": [
    {
     "name": "stdout",
     "output_type": "stream",
     "text": [
      "22\n",
      "33\n"
     ]
    }
   ],
   "source": [
    "def myfunc(n):\n",
    "  return lambda a : a * n\n",
    "\n",
    "mydoubler = myfunc(2)\n",
    "mytripler = myfunc(3)\n",
    "\n",
    "print(mydoubler(11))\n",
    "print(mytripler(11))"
   ]
  },
  {
   "cell_type": "markdown",
   "id": "a642f8d8-e3a7-400c-968a-ea5bd8257e9e",
   "metadata": {},
   "source": [
    ">Use lambda functions when an anonymous function is required for a short period of time."
   ]
  },
  {
   "cell_type": "markdown",
   "id": "3cb97b03-74a4-4689-9659-6263be82b2d5",
   "metadata": {
    "jp-MarkdownHeadingCollapsed": true
   },
   "source": [
    "# Python Arrays"
   ]
  },
  {
   "cell_type": "markdown",
   "id": "b27a7891-8d7b-41f3-a655-7fcb8a6a3b0d",
   "metadata": {},
   "source": [
    ">Note: Python does not have built-in support for Arrays, but Python Lists can be used instead."
   ]
  },
  {
   "cell_type": "markdown",
   "id": "566380a5-3d58-4de2-8866-449f6f55326b",
   "metadata": {},
   "source": [
    "Note: This page shows you how to use LISTS as ARRAYS, however, to work with arrays in Python you will have to import a library, like the NumPy library.\n",
    "\n",
    "Arrays are used to store multiple values in one single variable:\n",
    "\n",
    "**Example**  \n",
    "Create an array containing car names:"
   ]
  },
  {
   "cell_type": "code",
   "execution_count": 174,
   "id": "882937cc-9db4-403c-bef2-21590037e742",
   "metadata": {},
   "outputs": [],
   "source": [
    "cars = [\"Ford\", \"Volvo\", \"BMW\"]"
   ]
  },
  {
   "cell_type": "markdown",
   "id": "9666e5bb-99cb-4a18-9d8b-fe3cbd62c2a5",
   "metadata": {},
   "source": [
    "**What is an Array?**  \n",
    "An array is a special variable, which can hold more than one value at a time.\n",
    "\n",
    "If you have a list of items (a list of car names, for example), storing the cars in single variables could look like this:\n",
    "\n",
    "car1 = \"Ford\"\n",
    "car2 = \"Volvo\"\n",
    "car3 = \"BMW\"\n",
    "However, what if you want to loop through the cars and find a specific one? And what if you had not 3 cars, but 300?\n",
    "\n",
    "The solution is an array!\n",
    "\n",
    "An array can hold many values under a single name, and you can access the values by referring to an index number.\n",
    "\n",
    "Access the Elements of an Array\n",
    "You refer to an array element by referring to the index number.\n",
    "\n",
    "**Example**  \n",
    "Get the value of the first array item:"
   ]
  },
  {
   "cell_type": "code",
   "execution_count": 177,
   "id": "3d602e6b-b1d9-4b97-8654-03215bf2a2c4",
   "metadata": {},
   "outputs": [],
   "source": [
    "x = cars[0]"
   ]
  },
  {
   "cell_type": "markdown",
   "id": "5f088f61-638d-4589-bdb2-67637efd3d96",
   "metadata": {},
   "source": [
    "**Example**  \n",
    "Modify the value of the first array item:"
   ]
  },
  {
   "cell_type": "code",
   "execution_count": 180,
   "id": "4635c460-9072-4dab-b7ea-b6c68bd812e9",
   "metadata": {},
   "outputs": [],
   "source": [
    "cars[0] = \"Toyota\""
   ]
  },
  {
   "cell_type": "markdown",
   "id": "33285373-eff4-4c4a-b40b-f95a53b86866",
   "metadata": {},
   "source": [
    "The Length of an Array\n",
    "Use the len() method to return the length of an array (the number of elements in an array).\n",
    "\n",
    "**Example**  \n",
    "Return the number of elements in the cars array:"
   ]
  },
  {
   "cell_type": "code",
   "execution_count": 183,
   "id": "a96274a2-b9e1-4126-8fe8-2eb9a4778d77",
   "metadata": {},
   "outputs": [],
   "source": [
    "x = len(cars)"
   ]
  },
  {
   "cell_type": "markdown",
   "id": "fc7e30b9-5cfd-4194-9a3d-c6820bc651c3",
   "metadata": {},
   "source": [
    "Note: The length of an array is always one more than the highest array index.\n",
    "\n",
    "**Looping Array Elements**  \n",
    "You can use the for in loop to loop through all the elements of an array.\n",
    "\n",
    "**Example**  \n",
    "Print each item in the cars array:"
   ]
  },
  {
   "cell_type": "code",
   "execution_count": 186,
   "id": "f03d73ba-925b-468c-a116-49a10eb2ce94",
   "metadata": {},
   "outputs": [
    {
     "name": "stdout",
     "output_type": "stream",
     "text": [
      "Toyota\n",
      "Volvo\n",
      "BMW\n"
     ]
    }
   ],
   "source": [
    "for x in cars:\n",
    "  print(x)"
   ]
  },
  {
   "cell_type": "markdown",
   "id": "88aad39f-51d7-41d7-920e-15cc96072aa6",
   "metadata": {},
   "source": [
    "**Adding Array Elements**  \n",
    "You can use the append() method to add an element to an array.\n",
    "\n",
    "**Example**  \n",
    "Add one more element to the cars array:"
   ]
  },
  {
   "cell_type": "code",
   "execution_count": 189,
   "id": "71a51d42-3dc6-4717-be23-59f75d2fa90f",
   "metadata": {},
   "outputs": [],
   "source": [
    "cars.append(\"Honda\")"
   ]
  },
  {
   "cell_type": "markdown",
   "id": "69fc1068-f7ff-4e18-9b1f-2cd6da12ffc7",
   "metadata": {},
   "source": [
    "**Removing Array Elements**  \n",
    "You can use the pop() method to remove an element from the array.\n",
    "\n",
    "**Example**  \n",
    "Delete the second element of the cars array:"
   ]
  },
  {
   "cell_type": "code",
   "execution_count": 192,
   "id": "72b5301b-0568-4b01-be98-8780940df2a9",
   "metadata": {},
   "outputs": [
    {
     "data": {
      "text/plain": [
       "'Volvo'"
      ]
     },
     "execution_count": 192,
     "metadata": {},
     "output_type": "execute_result"
    }
   ],
   "source": [
    "cars.pop(1)"
   ]
  },
  {
   "cell_type": "markdown",
   "id": "60aedd7f-768c-414d-a5ad-ac38e9c9684f",
   "metadata": {},
   "source": [
    "You can also use the remove() method to remove an element from the array.\n",
    "\n",
    "**Example**  \n",
    "Delete the element that has the value \"Volvo\":"
   ]
  },
  {
   "cell_type": "code",
   "execution_count": 195,
   "id": "a67697e0-c014-4ed3-af83-e41b850d7451",
   "metadata": {},
   "outputs": [
    {
     "ename": "ValueError",
     "evalue": "list.remove(x): x not in list",
     "output_type": "error",
     "traceback": [
      "\u001b[0;31m---------------------------------------------------------------------------\u001b[0m",
      "\u001b[0;31mValueError\u001b[0m                                Traceback (most recent call last)",
      "Cell \u001b[0;32mIn[195], line 1\u001b[0m\n\u001b[0;32m----> 1\u001b[0m cars\u001b[38;5;241m.\u001b[39mremove(\u001b[38;5;124m\"\u001b[39m\u001b[38;5;124mVolvo\u001b[39m\u001b[38;5;124m\"\u001b[39m)\n",
      "\u001b[0;31mValueError\u001b[0m: list.remove(x): x not in list"
     ]
    }
   ],
   "source": [
    "cars.remove(\"Volvo\")"
   ]
  },
  {
   "cell_type": "markdown",
   "id": "4f5fe1cd-3d6e-4baa-9517-996a014180af",
   "metadata": {},
   "source": [
    ">Note: The list's remove() method only removes the first occurrence of the specified value."
   ]
  },
  {
   "cell_type": "markdown",
   "id": "00184a64-366d-453a-9df1-19cc50d74142",
   "metadata": {},
   "source": [
    "## Array Methods"
   ]
  },
  {
   "cell_type": "markdown",
   "id": "67475354-8786-4519-8e0d-c6a85024cfec",
   "metadata": {},
   "source": [
    "Python has a set of built-in methods that you can use on lists/arrays."
   ]
  },
  {
   "cell_type": "markdown",
   "id": "bb672f68-48a8-4435-a983-252ca377aeea",
   "metadata": {},
   "source": [
    "->Note: Python does not have built-in support for Arrays, but Python Lists can be used instead."
   ]
  },
  {
   "cell_type": "markdown",
   "id": "97660cff-8be4-4e9b-860a-f322b1632a0b",
   "metadata": {
    "jp-MarkdownHeadingCollapsed": true
   },
   "source": [
    "# Python Classes and Objects"
   ]
  },
  {
   "cell_type": "markdown",
   "id": "221e857e-d7f7-4a37-9073-ec3e34f97415",
   "metadata": {},
   "source": [
    "Python is an object oriented programming language.\n",
    "\n",
    "Almost everything in Python is an object, with its properties and methods.\n",
    "\n",
    "A Class is like an object constructor, or a \"blueprint\" for creating objects.\n",
    "\n",
    "**Create a Class**  \n",
    "To create a class, use the keyword class:\n",
    "\n",
    "**Example**  \n",
    "Create a class named MyClass, with a property named x:"
   ]
  },
  {
   "cell_type": "code",
   "execution_count": 203,
   "id": "00fd25d1-3e66-4cdf-afa0-e96fa25f7a7c",
   "metadata": {},
   "outputs": [],
   "source": [
    "class MyClass:\n",
    "  x = 5"
   ]
  },
  {
   "cell_type": "markdown",
   "id": "ce78010a-a12d-4c7f-abb9-0b40c8439a40",
   "metadata": {},
   "source": [
    "**Create Object**  \n",
    "Now we can use the class named MyClass to create objects:\n",
    "\n",
    "**Example**  \n",
    "Create an object named p1, and print the value of x:"
   ]
  },
  {
   "cell_type": "code",
   "execution_count": 206,
   "id": "8a384d52-c008-49a6-8528-9e3c66d1e396",
   "metadata": {},
   "outputs": [
    {
     "name": "stdout",
     "output_type": "stream",
     "text": [
      "5\n"
     ]
    }
   ],
   "source": [
    "p1 = MyClass()\n",
    "print(p1.x)"
   ]
  },
  {
   "cell_type": "markdown",
   "id": "ff0f36b1-0949-4999-b325-db90e2ab643f",
   "metadata": {},
   "source": [
    "**The __init__() Function**  \n",
    "The examples above are classes and objects in their simplest form, and are not really useful in real life applications.\n",
    "\n",
    "To understand the meaning of classes we have to understand the built-in __init__() function.\n",
    "\n",
    "All classes have a function called __init__(), which is always executed when the class is being initiated.\n",
    "\n",
    "Use the __init__() function to assign values to object properties, or other operations that are necessary to do when the object is being created:\n",
    "\n",
    "**Example**  \n",
    "Create a class named Person, use the __init__() function to assign values for name and age:"
   ]
  },
  {
   "cell_type": "code",
   "execution_count": 209,
   "id": "5132871b-2992-4be6-a569-74268380605b",
   "metadata": {},
   "outputs": [
    {
     "name": "stdout",
     "output_type": "stream",
     "text": [
      "John\n",
      "36\n"
     ]
    }
   ],
   "source": [
    "class Person:\n",
    "  def __init__(self, name, age):\n",
    "    self.name = name\n",
    "    self.age = age\n",
    "\n",
    "p1 = Person(\"John\", 36)\n",
    "\n",
    "print(p1.name)\n",
    "print(p1.age)"
   ]
  },
  {
   "cell_type": "markdown",
   "id": "85b90fa9-a524-4f10-b3c6-7f94e35adb99",
   "metadata": {},
   "source": [
    ">Note: The __init__() function is called automatically every time the class is being used to create a new object.\n",
    "\n",
    "**The __str__() Function**  \n",
    "The __str__() function controls what should be returned when the class object is represented as a string.\n",
    "\n",
    "If the __str__() function is not set, the string representation of the object is returned:\n",
    "\n",
    "**Example**  \n",
    "The string representation of an object WITHOUT the __str__() function:"
   ]
  },
  {
   "cell_type": "code",
   "execution_count": 212,
   "id": "1cb5f9dd-a634-447b-9760-823a351168a9",
   "metadata": {},
   "outputs": [
    {
     "name": "stdout",
     "output_type": "stream",
     "text": [
      "<__main__.Person object at 0x78154a7b7620>\n"
     ]
    }
   ],
   "source": [
    "class Person:\n",
    "  def __init__(self, name, age):\n",
    "    self.name = name\n",
    "    self.age = age\n",
    "\n",
    "p1 = Person(\"John\", 36)\n",
    "\n",
    "print(p1)"
   ]
  },
  {
   "cell_type": "markdown",
   "id": "3374f7b2-55eb-4ae3-9e2f-8eb8994dd02b",
   "metadata": {},
   "source": [
    "**Example**  \n",
    "The string representation of an object WITH the __str__() function:"
   ]
  },
  {
   "cell_type": "code",
   "execution_count": 215,
   "id": "01f976e0-f048-4505-b0f3-6c9397f2d5b1",
   "metadata": {},
   "outputs": [
    {
     "name": "stdout",
     "output_type": "stream",
     "text": [
      "John(36)\n"
     ]
    }
   ],
   "source": [
    "class Person:\n",
    "  def __init__(self, name, age):\n",
    "    self.name = name\n",
    "    self.age = age\n",
    "\n",
    "  def __str__(self):\n",
    "    return f\"{self.name}({self.age})\"\n",
    "\n",
    "p1 = Person(\"John\", 36)\n",
    "\n",
    "print(p1)"
   ]
  },
  {
   "cell_type": "markdown",
   "id": "afc74476-bc85-442e-8d76-d0e384213cca",
   "metadata": {},
   "source": [
    "**Object Methods**  \n",
    "Objects can also contain methods. Methods in objects are functions that belong to the object.\n",
    "\n",
    "Let us create a method in the Person class:\n",
    "\n",
    "**Example**  \n",
    "Insert a function that prints a greeting, and execute it on the p1 object:"
   ]
  },
  {
   "cell_type": "code",
   "execution_count": 218,
   "id": "a57ef5a8-91e6-442d-9ff7-42354c1c1628",
   "metadata": {},
   "outputs": [
    {
     "name": "stdout",
     "output_type": "stream",
     "text": [
      "Hello my name is John\n"
     ]
    }
   ],
   "source": [
    "class Person:\n",
    "  def __init__(self, name, age):\n",
    "    self.name = name\n",
    "    self.age = age\n",
    "\n",
    "  def myfunc(self):\n",
    "    print(\"Hello my name is \" + self.name)\n",
    "\n",
    "p1 = Person(\"John\", 36)\n",
    "p1.myfunc()"
   ]
  },
  {
   "cell_type": "markdown",
   "id": "4da8059a-6e44-4986-9dfb-298e584d6955",
   "metadata": {},
   "source": [
    "Note: The self parameter is a reference to the current instance of the class, and is used to access variables that belong to the class."
   ]
  },
  {
   "cell_type": "markdown",
   "id": "48055b73-35c7-4f4a-9aff-3d31b8af1b0e",
   "metadata": {},
   "source": [
    "**The self Parameter**  \n",
    "The self parameter is a reference to the current instance of the class, and is used to access variables that belongs to the class.\n",
    "\n",
    "It does not have to be named self , you can call it whatever you like, but it has to be the first parameter of any function in the class:\n",
    "\n",
    "**Example**  \n",
    "Use the words mysillyobject and abc instead of self:"
   ]
  },
  {
   "cell_type": "code",
   "execution_count": 222,
   "id": "f09e8fe2-7da0-456b-adcc-860c121caed0",
   "metadata": {},
   "outputs": [
    {
     "name": "stdout",
     "output_type": "stream",
     "text": [
      "Hello my name is John\n"
     ]
    }
   ],
   "source": [
    "class Person:\n",
    "  def __init__(mysillyobject, name, age):\n",
    "    mysillyobject.name = name\n",
    "    mysillyobject.age = age\n",
    "\n",
    "  def myfunc(abc):\n",
    "    print(\"Hello my name is \" + abc.name)\n",
    "\n",
    "p1 = Person(\"John\", 36)\n",
    "p1.myfunc()"
   ]
  },
  {
   "cell_type": "markdown",
   "id": "b5919670-1342-422a-baa6-0a79230f407b",
   "metadata": {},
   "source": [
    "**Modify Object Properties**  \n",
    "You can modify properties on objects like this:\n",
    "\n",
    "**Example**  \n",
    "Set the age of p1 to 40:"
   ]
  },
  {
   "cell_type": "code",
   "execution_count": 225,
   "id": "3e37deb2-99f9-4919-adee-1d65170bae01",
   "metadata": {},
   "outputs": [],
   "source": [
    "p1.age = 40"
   ]
  },
  {
   "cell_type": "markdown",
   "id": "c35cf67f-8450-42e2-92a2-8cd6a7c1dfda",
   "metadata": {},
   "source": [
    "**Delete Object Properties**\n",
    "You can delete properties on objects by using the del keyword:\n",
    "\n",
    "**Example**  \n",
    "Delete the age property from the p1 object:"
   ]
  },
  {
   "cell_type": "code",
   "execution_count": 228,
   "id": "7b0a5f93-c34a-4030-971c-2c0b5e3cab29",
   "metadata": {},
   "outputs": [],
   "source": [
    "del p1.age"
   ]
  },
  {
   "cell_type": "markdown",
   "id": "683c2f6d-10cd-49b6-ae82-15b62a86943e",
   "metadata": {},
   "source": [
    "**Delete Objects**  \n",
    "You can delete objects by using the del keyword:\n",
    "\n",
    "**Example**  \n",
    "Delete the p1 object:"
   ]
  },
  {
   "cell_type": "code",
   "execution_count": 231,
   "id": "9bdcc0a0-63e4-4937-a624-a5c8a45c9481",
   "metadata": {},
   "outputs": [],
   "source": [
    "del p1"
   ]
  },
  {
   "cell_type": "markdown",
   "id": "f16e6326-cebd-45d6-85e9-0c38ee705a61",
   "metadata": {},
   "source": [
    "The pass Statement\n",
    "class definitions cannot be empty, but if you for some reason have a class definition with no content, put in the pass statement to avoid getting an error.\n",
    "\n",
    "**Example**"
   ]
  },
  {
   "cell_type": "code",
   "execution_count": 234,
   "id": "8bb08a76-a803-49c0-aaa4-b49f02fce910",
   "metadata": {},
   "outputs": [],
   "source": [
    "class Person:\n",
    "  pass"
   ]
  },
  {
   "cell_type": "markdown",
   "id": "2da1c2a5-1a7f-44e4-b770-9d6518b01e73",
   "metadata": {
    "jp-MarkdownHeadingCollapsed": true
   },
   "source": [
    "# Python Inheritance"
   ]
  },
  {
   "cell_type": "markdown",
   "id": "61ac5b6e-fe70-4fcb-bbac-5d24c602a816",
   "metadata": {},
   "source": [
    "Inheritance allows us to define a class that inherits all the methods and properties from another class.\n",
    "\n",
    "Parent class is the class being inherited from, also called base class.\n",
    "\n",
    "Child class is the class that inherits from another class, also called derived class.\n",
    "\n",
    "**Create a Parent Class**  \n",
    "Any class can be a parent class, so the syntax is the same as creating any other class:\n",
    "\n",
    "**Example**  \n",
    "Create a class named Person, with firstname and lastname properties, and a printname method:"
   ]
  },
  {
   "cell_type": "code",
   "execution_count": 238,
   "id": "7369bf34-c06b-4557-b872-842969b45757",
   "metadata": {},
   "outputs": [
    {
     "name": "stdout",
     "output_type": "stream",
     "text": [
      "John Doe\n"
     ]
    }
   ],
   "source": [
    "class Person:\n",
    "  def __init__(self, fname, lname):\n",
    "    self.firstname = fname\n",
    "    self.lastname = lname\n",
    "\n",
    "  def printname(self):\n",
    "    print(self.firstname, self.lastname)\n",
    "\n",
    "#Use the Person class to create an object, and then execute the printname method:\n",
    "\n",
    "x = Person(\"John\", \"Doe\")\n",
    "x.printname()"
   ]
  },
  {
   "cell_type": "markdown",
   "id": "58c83443-0c5f-4bf9-ad96-4e31409c06b5",
   "metadata": {},
   "source": [
    "**Create a Child Class**  \n",
    "To create a class that inherits the functionality from another class, send the parent class as a parameter when creating the child class:\n",
    "\n",
    "**Example**  \n",
    "Create a class named Student, which will inherit the properties and methods from the Person class:"
   ]
  },
  {
   "cell_type": "code",
   "execution_count": 241,
   "id": "962f07b4-0c91-4e53-8cb3-a1eabe88df49",
   "metadata": {},
   "outputs": [],
   "source": [
    "class Student(Person):\n",
    "  pass"
   ]
  },
  {
   "cell_type": "markdown",
   "id": "7ddda8ac-81ce-4822-b731-09c65698aff9",
   "metadata": {},
   "source": [
    ">Note: Use the pass keyword when you do not want to add any other properties or methods to the class.\n",
    "\n",
    "Now the Student class has the same properties and methods as the Person class.\n",
    "\n",
    "**Example**  \n",
    "Use the Student class to create an object, and then execute the printname method:"
   ]
  },
  {
   "cell_type": "code",
   "execution_count": 244,
   "id": "786fe945-29a6-49d6-b19e-b6fee7824def",
   "metadata": {},
   "outputs": [
    {
     "name": "stdout",
     "output_type": "stream",
     "text": [
      "Mike Olsen\n"
     ]
    }
   ],
   "source": [
    "x = Student(\"Mike\", \"Olsen\")\n",
    "x.printname()"
   ]
  },
  {
   "cell_type": "markdown",
   "id": "41d57f2a-59e7-486c-bedf-245b08969344",
   "metadata": {},
   "source": [
    "**Add the __init__() Function**  \n",
    "So far we have created a child class that inherits the properties and methods from its parent.\n",
    "\n",
    "We want to add the __init__() function to the child class (instead of the pass keyword).\n",
    "\n",
    ">Note: The __init__() function is called automatically every time the class is being used to create a new object.\n",
    "\n",
    "**Example**  \n",
    "Add the __init__() function to the Student class:"
   ]
  },
  {
   "cell_type": "code",
   "execution_count": 247,
   "id": "9138a1e9-eb23-40b4-ae35-4c3033acf770",
   "metadata": {},
   "outputs": [
    {
     "ename": "SyntaxError",
     "evalue": "incomplete input (322465492.py, line 3)",
     "output_type": "error",
     "traceback": [
      "\u001b[0;36m  Cell \u001b[0;32mIn[247], line 3\u001b[0;36m\u001b[0m\n\u001b[0;31m    #add properties etc.\u001b[0m\n\u001b[0m                        ^\u001b[0m\n\u001b[0;31mSyntaxError\u001b[0m\u001b[0;31m:\u001b[0m incomplete input\n"
     ]
    }
   ],
   "source": [
    "class Student(Person):\n",
    "  def __init__(self, fname, lname):\n",
    "    #add properties etc."
   ]
  },
  {
   "cell_type": "markdown",
   "id": "682d53ea-c38e-40b3-8689-6cabf02d883c",
   "metadata": {},
   "source": [
    "When you add the __init__() function, the child class will no longer inherit the parent's __init__() function.\n",
    "\n",
    "> Note: The child's __init__() function overrides the inheritance of the parent's __init__() function.\n",
    "\n",
    "To keep the inheritance of the parent's __init__() function, add a call to the parent's __init__() function:\n",
    "\n",
    "**Example**  "
   ]
  },
  {
   "cell_type": "code",
   "execution_count": 250,
   "id": "3731300b-8bc1-4e3e-9e87-4923d370c896",
   "metadata": {},
   "outputs": [],
   "source": [
    "class Student(Person):\n",
    "  def __init__(self, fname, lname):\n",
    "    Person.__init__(self, fname, lname)"
   ]
  },
  {
   "cell_type": "markdown",
   "id": "0ba6895f-c030-4939-a301-a199e0b7bc2f",
   "metadata": {},
   "source": [
    "Now we have successfully added the __init__() function, and kept the inheritance of the parent class, and we are ready to add functionality in the __init__() function.\n",
    "\n",
    "Use the super() Function\n",
    "Python also has a super() function that will make the child class inherit all the methods and properties from its parent:\n",
    "\n",
    "**Example**  "
   ]
  },
  {
   "cell_type": "code",
   "execution_count": 253,
   "id": "95c2161d-bb53-4643-91b5-c44aff07f6c3",
   "metadata": {},
   "outputs": [],
   "source": [
    "class Student(Person):\n",
    "  def __init__(self, fname, lname):\n",
    "    super().__init__(fname, lname)"
   ]
  },
  {
   "cell_type": "markdown",
   "id": "ed71fd90-e70f-4231-94c0-02dd9690d261",
   "metadata": {},
   "source": [
    "By using the super() function, you do not have to use the name of the parent element, it will automatically inherit the methods and properties from its parent.\n",
    "\n",
    "**Add Properties**  \n",
    "**Example**  \n",
    "Add a property called graduationyear to the Student class:"
   ]
  },
  {
   "cell_type": "code",
   "execution_count": 256,
   "id": "2ddd135b-e64e-46a6-821c-38a11c3da3bf",
   "metadata": {},
   "outputs": [],
   "source": [
    "class Student(Person):\n",
    "  def __init__(self, fname, lname):\n",
    "    super().__init__(fname, lname)\n",
    "    self.graduationyear = 2019"
   ]
  },
  {
   "cell_type": "markdown",
   "id": "c346353b-9e46-4a61-a05c-084b01e7b5a0",
   "metadata": {},
   "source": [
    "In the example below, the year 2019 should be a variable, and passed into the Student class when creating student objects. To do so, add another parameter in the __init__() function:\n",
    "\n",
    "**Example**  \n",
    "Add a year parameter, and pass the correct year when creating objects:"
   ]
  },
  {
   "cell_type": "code",
   "execution_count": 259,
   "id": "c95acd9f-8830-4df7-882d-d03166af07de",
   "metadata": {},
   "outputs": [],
   "source": [
    "class Student(Person):\n",
    "  def __init__(self, fname, lname, year):\n",
    "    super().__init__(fname, lname)\n",
    "    self.graduationyear = year\n",
    "\n",
    "x = Student(\"Mike\", \"Olsen\", 2019)"
   ]
  },
  {
   "cell_type": "markdown",
   "id": "01898e98-383e-4fce-a173-3ffbf4e9036b",
   "metadata": {},
   "source": [
    "**Add Methods**  \n",
    "**Example**  \n",
    "Add a method called welcome to the Student class:"
   ]
  },
  {
   "cell_type": "code",
   "execution_count": 262,
   "id": "9db4b62f-ce29-465e-94e4-8a6bec91c1f9",
   "metadata": {},
   "outputs": [],
   "source": [
    "class Student(Person):\n",
    "  def __init__(self, fname, lname, year):\n",
    "    super().__init__(fname, lname)\n",
    "    self.graduationyear = year\n",
    "\n",
    "  def welcome(self):\n",
    "    print(\"Welcome\", self.firstname, self.lastname, \"to the class of\", self.graduationyear)"
   ]
  },
  {
   "cell_type": "markdown",
   "id": "ca3c686f-82ff-42da-bd33-099653f69bd4",
   "metadata": {},
   "source": [
    "If you add a method in the child class with the same name as a function in the parent class, the inheritance of the parent method will be overridden."
   ]
  },
  {
   "cell_type": "markdown",
   "id": "549ad951-6193-438c-9413-648b881832b9",
   "metadata": {
    "jp-MarkdownHeadingCollapsed": true
   },
   "source": [
    "# Python Iterators"
   ]
  },
  {
   "cell_type": "markdown",
   "id": "24edb8c4-3c31-46f0-91e5-1ef96b14751e",
   "metadata": {},
   "source": [
    "An iterator is an object that contains a countable number of values.\n",
    "\n",
    "An iterator is an object that can be iterated upon, meaning that you can traverse through all the values.\n",
    "\n",
    "Technically, in Python, an iterator is an object which implements the iterator protocol, which consist of the methods __iter__() and __next__().\n",
    "\n",
    "**Iterator vs Iterable**  \n",
    "Lists, tuples, dictionaries, and sets are all iterable objects. They are iterable containers which you can get an iterator from.\n",
    "\n",
    "All these objects have a iter() method which is used to get an iterator:\n",
    "\n",
    "**Example**  \n",
    "Return an iterator from a tuple, and print each value:"
   ]
  },
  {
   "cell_type": "code",
   "execution_count": 267,
   "id": "b53d6c62-58d6-4d3d-a2a9-0f7e642c1976",
   "metadata": {},
   "outputs": [
    {
     "name": "stdout",
     "output_type": "stream",
     "text": [
      "apple\n",
      "banana\n",
      "cherry\n"
     ]
    }
   ],
   "source": [
    "mytuple = (\"apple\", \"banana\", \"cherry\")\n",
    "myit = iter(mytuple)\n",
    "\n",
    "print(next(myit))\n",
    "print(next(myit))\n",
    "print(next(myit))"
   ]
  },
  {
   "cell_type": "markdown",
   "id": "ea1109fa-6e44-413d-9033-a8a43f57a8b2",
   "metadata": {},
   "source": [
    "Even strings are iterable objects, and can return an iterator:\n",
    "\n",
    "**Example**  \n",
    "Strings are also iterable objects, containing a sequence of characters:"
   ]
  },
  {
   "cell_type": "code",
   "execution_count": 270,
   "id": "484ed48b-606e-4ea7-b194-ea9238a127fa",
   "metadata": {},
   "outputs": [
    {
     "name": "stdout",
     "output_type": "stream",
     "text": [
      "b\n",
      "a\n",
      "n\n",
      "a\n",
      "n\n",
      "a\n"
     ]
    }
   ],
   "source": [
    "mystr = \"banana\"\n",
    "myit = iter(mystr)\n",
    "\n",
    "print(next(myit))\n",
    "print(next(myit))\n",
    "print(next(myit))\n",
    "print(next(myit))\n",
    "print(next(myit))\n",
    "print(next(myit))"
   ]
  },
  {
   "cell_type": "markdown",
   "id": "24bbd96e-1a09-41cb-9b55-a0c34eeef981",
   "metadata": {},
   "source": [
    "**Looping Through an Iterator**  \n",
    "We can also use a for loop to iterate through an iterable object:\n",
    "\n",
    "**Example**  \n",
    "Iterate the values of a tuple:"
   ]
  },
  {
   "cell_type": "code",
   "execution_count": 273,
   "id": "13525f42-d60e-4232-aa2f-87b417690f5f",
   "metadata": {},
   "outputs": [
    {
     "name": "stdout",
     "output_type": "stream",
     "text": [
      "apple\n",
      "banana\n",
      "cherry\n"
     ]
    }
   ],
   "source": [
    "mytuple = (\"apple\", \"banana\", \"cherry\")\n",
    "\n",
    "for x in mytuple:\n",
    "  print(x)"
   ]
  },
  {
   "cell_type": "markdown",
   "id": "91680adf-60c7-456e-a667-1cf15c42c590",
   "metadata": {},
   "source": [
    "**Example**  \n",
    "Iterate the characters of a string:"
   ]
  },
  {
   "cell_type": "code",
   "execution_count": 276,
   "id": "13d673ad-d022-4a30-bbc1-23a6164cadc4",
   "metadata": {},
   "outputs": [
    {
     "name": "stdout",
     "output_type": "stream",
     "text": [
      "b\n",
      "a\n",
      "n\n",
      "a\n",
      "n\n",
      "a\n"
     ]
    }
   ],
   "source": [
    "mystr = \"banana\"\n",
    "\n",
    "for x in mystr:\n",
    "  print(x)"
   ]
  },
  {
   "cell_type": "markdown",
   "id": "5d012b24-6667-4d9a-be46-84aa6c8d533e",
   "metadata": {},
   "source": [
    "The for loop actually creates an iterator object and executes the next() method for each loop.\n",
    "\n",
    "**Create an Iterator**  \n",
    "To create an object/class as an iterator you have to implement the methods __iter__() and __next__() to your object.\n",
    "\n",
    "As you have learned in the Python Classes/Objects chapter, all classes have a function called __init__(), which allows you to do some initializing when the object is being created.\n",
    "\n",
    "The __iter__() method acts similar, you can do operations (initializing etc.), but must always return the iterator object itself.\n",
    "\n",
    "The __next__() method also allows you to do operations, and must return the next item in the sequence.\n",
    "\n",
    "**Example**  \n",
    "Create an iterator that returns numbers, starting with 1, and each sequence will increase by one (returning 1,2,3,4,5 etc.):"
   ]
  },
  {
   "cell_type": "code",
   "execution_count": 279,
   "id": "40551d8d-2088-4b58-9c43-8895485ec827",
   "metadata": {},
   "outputs": [
    {
     "name": "stdout",
     "output_type": "stream",
     "text": [
      "1\n",
      "2\n",
      "3\n",
      "4\n",
      "5\n"
     ]
    }
   ],
   "source": [
    "class MyNumbers:\n",
    "  def __iter__(self):\n",
    "    self.a = 1\n",
    "    return self\n",
    "\n",
    "  def __next__(self):\n",
    "    x = self.a\n",
    "    self.a += 1\n",
    "    return x\n",
    "\n",
    "myclass = MyNumbers()\n",
    "myiter = iter(myclass)\n",
    "\n",
    "print(next(myiter))\n",
    "print(next(myiter))\n",
    "print(next(myiter))\n",
    "print(next(myiter))\n",
    "print(next(myiter))"
   ]
  },
  {
   "cell_type": "markdown",
   "id": "268fb8e5-91ca-4ff8-b89a-e208a7f767fc",
   "metadata": {},
   "source": [
    "**StopIteration**  \n",
    "The example above would continue forever if you had enough next() statements, or if it was used in a for loop.\n",
    "\n",
    "To prevent the iteration from going on forever, we can use the StopIteration statement.\n",
    "\n",
    "In the __next__() method, we can add a terminating condition to raise an error if the iteration is done a specified number of times:\n",
    "\n",
    "**Example**  \n",
    "Stop after 20 iterations:"
   ]
  },
  {
   "cell_type": "code",
   "execution_count": 282,
   "id": "5e13e9e1-c869-4a4d-b8fa-bbfda850b0df",
   "metadata": {},
   "outputs": [
    {
     "name": "stdout",
     "output_type": "stream",
     "text": [
      "1\n",
      "2\n",
      "3\n",
      "4\n",
      "5\n",
      "6\n",
      "7\n",
      "8\n",
      "9\n",
      "10\n",
      "11\n",
      "12\n",
      "13\n",
      "14\n",
      "15\n",
      "16\n",
      "17\n",
      "18\n",
      "19\n",
      "20\n"
     ]
    }
   ],
   "source": [
    "class MyNumbers:\n",
    "  def __iter__(self):\n",
    "    self.a = 1\n",
    "    return self\n",
    "\n",
    "  def __next__(self):\n",
    "    if self.a <= 20:\n",
    "      x = self.a\n",
    "      self.a += 1\n",
    "      return x\n",
    "    else:\n",
    "      raise StopIteration\n",
    "\n",
    "myclass = MyNumbers()\n",
    "myiter = iter(myclass)\n",
    "\n",
    "for x in myiter:\n",
    "  print(x)"
   ]
  },
  {
   "cell_type": "markdown",
   "id": "1c6e0b8d-3110-48db-a85f-71d0794ba091",
   "metadata": {
    "jp-MarkdownHeadingCollapsed": true
   },
   "source": [
    "# Python Polymorphism"
   ]
  },
  {
   "cell_type": "markdown",
   "id": "5fa1a74f-0b3a-4a8e-9d61-a80491300ce3",
   "metadata": {},
   "source": [
    "The word \"polymorphism\" means \"many forms\", and in programming it refers to methods/functions/operators with the same name that can be executed on many objects or classes.\n",
    "\n",
    "**Function Polymorphism**  \n",
    "An example of a Python function that can be used on different objects is the len() function.\n",
    "\n",
    "**String**  \n",
    "For strings len() returns the number of characters:\n",
    "\n",
    "**Example**  "
   ]
  },
  {
   "cell_type": "code",
   "execution_count": 286,
   "id": "3b40bb6d-ae30-480d-9154-c6cf1d4702c8",
   "metadata": {},
   "outputs": [
    {
     "name": "stdout",
     "output_type": "stream",
     "text": [
      "12\n"
     ]
    }
   ],
   "source": [
    "x = \"Hello World!\"\n",
    "\n",
    "print(len(x))"
   ]
  },
  {
   "cell_type": "markdown",
   "id": "2475a518-df15-43cd-ade3-fdc754d73406",
   "metadata": {},
   "source": [
    "**Tuple**  \n",
    "For tuples len() returns the number of items in the tuple:\n",
    "\n",
    "**Example**  "
   ]
  },
  {
   "cell_type": "code",
   "execution_count": 289,
   "id": "b21196ba-24b7-4432-8cb3-fb0707bb578a",
   "metadata": {},
   "outputs": [
    {
     "name": "stdout",
     "output_type": "stream",
     "text": [
      "3\n"
     ]
    }
   ],
   "source": [
    "mytuple = (\"apple\", \"banana\", \"cherry\")\n",
    "\n",
    "print(len(mytuple))"
   ]
  },
  {
   "cell_type": "markdown",
   "id": "a20bcff9-e9f4-4436-9373-d584f890c9b8",
   "metadata": {},
   "source": [
    "**Dictionary**  \n",
    "For dictionaries len() returns the number of key/value pairs in the dictionary:\n",
    "\n",
    "**Example**  "
   ]
  },
  {
   "cell_type": "code",
   "execution_count": 292,
   "id": "4ad09e4d-c0f1-4330-ae34-bf42320bfb1c",
   "metadata": {},
   "outputs": [
    {
     "name": "stdout",
     "output_type": "stream",
     "text": [
      "3\n"
     ]
    }
   ],
   "source": [
    "thisdict = {\n",
    "  \"brand\": \"Ford\",\n",
    "  \"model\": \"Mustang\",\n",
    "  \"year\": 1964\n",
    "}\n",
    "\n",
    "print(len(thisdict))"
   ]
  },
  {
   "cell_type": "markdown",
   "id": "818f4fab-b7dc-4ac0-8b64-2850f375367a",
   "metadata": {},
   "source": [
    "**Class Polymorphism**  \n",
    "Polymorphism is often used in Class methods, where we can have multiple classes with the same method name.\n",
    "\n",
    "For example, say we have three classes: Car, Boat, and Plane, and they all have a method called move():\n",
    "\n",
    "**Example**  \n",
    "Different classes with the same method:"
   ]
  },
  {
   "cell_type": "code",
   "execution_count": 295,
   "id": "8bfa0d83-ff43-4117-b92e-909b7c787ccf",
   "metadata": {},
   "outputs": [
    {
     "name": "stdout",
     "output_type": "stream",
     "text": [
      "Drive!\n",
      "Sail!\n",
      "Fly!\n"
     ]
    }
   ],
   "source": [
    "class Car:\n",
    "  def __init__(self, brand, model):\n",
    "    self.brand = brand\n",
    "    self.model = model\n",
    "\n",
    "  def move(self):\n",
    "    print(\"Drive!\")\n",
    "\n",
    "class Boat:\n",
    "  def __init__(self, brand, model):\n",
    "    self.brand = brand\n",
    "    self.model = model\n",
    "\n",
    "  def move(self):\n",
    "    print(\"Sail!\")\n",
    "\n",
    "class Plane:\n",
    "  def __init__(self, brand, model):\n",
    "    self.brand = brand\n",
    "    self.model = model\n",
    "\n",
    "  def move(self):\n",
    "    print(\"Fly!\")\n",
    "\n",
    "car1 = Car(\"Ford\", \"Mustang\")       #Create a Car class\n",
    "boat1 = Boat(\"Ibiza\", \"Touring 20\") #Create a Boat class\n",
    "plane1 = Plane(\"Boeing\", \"747\")     #Create a Plane class\n",
    "\n",
    "for x in (car1, boat1, plane1):\n",
    "  x.move()"
   ]
  },
  {
   "cell_type": "markdown",
   "id": "713307f2-85fe-4687-bb5b-483b81799316",
   "metadata": {},
   "source": [
    "Look at the for loop at the end. Because of polymorphism we can execute the same method for all three classes.\n",
    "\n",
    "**Inheritance Class Polymorphism**  \n",
    "What about classes with child classes with the same name? Can we use polymorphism there?\n",
    "\n",
    "Yes. If we use the example above and make a parent class called Vehicle, and make Car, Boat, Plane child classes of Vehicle, the child classes inherits the Vehicle methods, but can override them:\n",
    "\n",
    "**Example**  \n",
    "Create a class called Vehicle and make Car, Boat, Plane child classes of Vehicle:"
   ]
  },
  {
   "cell_type": "code",
   "execution_count": 298,
   "id": "a02021cd-6632-4fb6-8e83-c5407bcd11c8",
   "metadata": {},
   "outputs": [
    {
     "name": "stdout",
     "output_type": "stream",
     "text": [
      "Ford\n",
      "Mustang\n",
      "Move!\n",
      "Ibiza\n",
      "Touring 20\n",
      "Sail!\n",
      "Boeing\n",
      "747\n",
      "Fly!\n"
     ]
    }
   ],
   "source": [
    "class Vehicle:\n",
    "  def __init__(self, brand, model):\n",
    "    self.brand = brand\n",
    "    self.model = model\n",
    "\n",
    "  def move(self):\n",
    "    print(\"Move!\")\n",
    "\n",
    "class Car(Vehicle):\n",
    "  pass\n",
    "\n",
    "class Boat(Vehicle):\n",
    "  def move(self):\n",
    "    print(\"Sail!\")\n",
    "\n",
    "class Plane(Vehicle):\n",
    "  def move(self):\n",
    "    print(\"Fly!\")\n",
    "\n",
    "car1 = Car(\"Ford\", \"Mustang\") #Create a Car object\n",
    "boat1 = Boat(\"Ibiza\", \"Touring 20\") #Create a Boat object\n",
    "plane1 = Plane(\"Boeing\", \"747\") #Create a Plane object\n",
    "\n",
    "for x in (car1, boat1, plane1):\n",
    "  print(x.brand)\n",
    "  print(x.model)\n",
    "  x.move()"
   ]
  },
  {
   "cell_type": "markdown",
   "id": "ca772c95-f1ec-477c-b7d2-7e57cd115373",
   "metadata": {},
   "source": [
    "Child classes inherits the properties and methods from the parent class.\n",
    "\n",
    "In the example above you can see that the Car class is empty, but it inherits brand, model, and move() from Vehicle.\n",
    "\n",
    "The Boat and Plane classes also inherit brand, model, and move() from Vehicle, but they both override the move() method.\n",
    "\n",
    "Because of polymorphism we can execute the same method for all classes."
   ]
  },
  {
   "cell_type": "markdown",
   "id": "1e7cdf0c-482b-4a0b-927d-59abab695f3e",
   "metadata": {
    "jp-MarkdownHeadingCollapsed": true
   },
   "source": [
    "# Python Scope"
   ]
  },
  {
   "cell_type": "markdown",
   "id": "1f05e482-0252-45bb-8581-4bd9e838e4c5",
   "metadata": {},
   "source": [
    "A variable is only available from inside the region it is created. This is called scope.\n",
    "\n",
    "**Local Scope**  \n",
    "A variable created inside a function belongs to the local scope of that function, and can only be used inside that function.\n",
    "\n",
    "**Example**  \n",
    "A variable created inside a function is available inside that function:"
   ]
  },
  {
   "cell_type": "code",
   "execution_count": 303,
   "id": "7c7c04f5-bbce-409e-8472-085e16ba050a",
   "metadata": {},
   "outputs": [
    {
     "name": "stdout",
     "output_type": "stream",
     "text": [
      "300\n"
     ]
    }
   ],
   "source": [
    "def myfunc():\n",
    "  x = 300\n",
    "  print(x)\n",
    "\n",
    "myfunc()"
   ]
  },
  {
   "cell_type": "markdown",
   "id": "c15569f3-5d59-4300-b889-e95ab2b5349c",
   "metadata": {},
   "source": [
    "**Function Inside Function**  \n",
    "As explained in the example above, the variable x is not available outside the function, but it is available for any function inside the function:\n",
    "\n",
    "**Example**  \n",
    "The local variable can be accessed from a function within the function:"
   ]
  },
  {
   "cell_type": "code",
   "execution_count": 306,
   "id": "2c716e01-4fdb-41ca-9e11-6d319f2cc68b",
   "metadata": {},
   "outputs": [
    {
     "name": "stdout",
     "output_type": "stream",
     "text": [
      "300\n"
     ]
    }
   ],
   "source": [
    "def myfunc():\n",
    "  x = 300\n",
    "  def myinnerfunc():\n",
    "    print(x)\n",
    "  myinnerfunc()\n",
    "\n",
    "myfunc()"
   ]
  },
  {
   "cell_type": "markdown",
   "id": "053cb154-6f4e-4ccb-9a4b-0a32eea3d59a",
   "metadata": {},
   "source": [
    "**Global Scope**  \n",
    "A variable created in the main body of the Python code is a global variable and belongs to the global scope.\n",
    "\n",
    "Global variables are available from within any scope, global and local.\n",
    "\n",
    "Example\n",
    "A variable created outside of a function is global and can be used by anyone:"
   ]
  },
  {
   "cell_type": "code",
   "execution_count": 309,
   "id": "fb6c9569-5d64-4b60-828f-3ebeaba12176",
   "metadata": {},
   "outputs": [
    {
     "name": "stdout",
     "output_type": "stream",
     "text": [
      "300\n",
      "300\n"
     ]
    }
   ],
   "source": [
    "x = 300\n",
    "\n",
    "def myfunc():\n",
    "  print(x)\n",
    "\n",
    "myfunc()\n",
    "\n",
    "print(x)"
   ]
  },
  {
   "cell_type": "markdown",
   "id": "95fbbb1f-45d1-4d01-8a10-c5a969d81d93",
   "metadata": {},
   "source": [
    "**Naming Variables**  \n",
    "If you operate with the same variable name inside and outside of a function, Python will treat them as two separate variables, one available in the global scope (outside the function) and one available in the local scope (inside the function):\n",
    "\n",
    "**Example**  \n",
    "The function will print the local x, and then the code will print the global x:"
   ]
  },
  {
   "cell_type": "code",
   "execution_count": 312,
   "id": "2885a5d9-19d2-4399-80c4-20627bf74c67",
   "metadata": {},
   "outputs": [
    {
     "name": "stdout",
     "output_type": "stream",
     "text": [
      "200\n",
      "300\n"
     ]
    }
   ],
   "source": [
    "x = 300\n",
    "\n",
    "def myfunc():\n",
    "  x = 200\n",
    "  print(x)\n",
    "\n",
    "myfunc()\n",
    "\n",
    "print(x)"
   ]
  },
  {
   "cell_type": "markdown",
   "id": "80e153a5-1cb6-4204-b876-6491d371d630",
   "metadata": {},
   "source": [
    "**Global Keyword**  \n",
    "If you need to create a global variable, but are stuck in the local scope, you can use the global keyword.\n",
    "\n",
    "The global keyword makes the variable global.\n",
    "\n",
    "**Example**  \n",
    "If you use the global keyword, the variable belongs to the global scope:"
   ]
  },
  {
   "cell_type": "code",
   "execution_count": 315,
   "id": "de60aec7-3ace-4fa6-99bc-597a9b48d354",
   "metadata": {},
   "outputs": [
    {
     "name": "stdout",
     "output_type": "stream",
     "text": [
      "300\n"
     ]
    }
   ],
   "source": [
    "def myfunc():\n",
    "  global x\n",
    "  x = 300\n",
    "\n",
    "myfunc()\n",
    "\n",
    "print(x)"
   ]
  },
  {
   "cell_type": "markdown",
   "id": "51e4ec56-5359-41a6-b2ec-47ea3eb60934",
   "metadata": {},
   "source": [
    "Also, use the global keyword if you want to make a change to a global variable inside a function.\n",
    "\n",
    "**Example**  \n",
    "To change the value of a global variable inside a function, refer to the variable by using the global keyword:"
   ]
  },
  {
   "cell_type": "code",
   "execution_count": 318,
   "id": "47ff0926-6baf-46e7-96ce-e2f739d67f3b",
   "metadata": {},
   "outputs": [
    {
     "name": "stdout",
     "output_type": "stream",
     "text": [
      "200\n"
     ]
    }
   ],
   "source": [
    "x = 300\n",
    "\n",
    "def myfunc():\n",
    "  global x\n",
    "  x = 200\n",
    "\n",
    "myfunc()\n",
    "\n",
    "print(x)"
   ]
  },
  {
   "cell_type": "markdown",
   "id": "3efbf62d-b1e5-4d55-a973-5b7d608c8620",
   "metadata": {},
   "source": [
    "**Nonlocal Keyword**  \n",
    "The nonlocal keyword is used to work with variables inside nested functions.\n",
    "\n",
    "The nonlocal keyword makes the variable belong to the outer function.\n",
    "\n",
    "**Example**  \n",
    "If you use the nonlocal keyword, the variable will belong to the outer function:"
   ]
  },
  {
   "cell_type": "code",
   "execution_count": 321,
   "id": "d1f209b2-9ba9-466c-8d6e-032d342bafaa",
   "metadata": {},
   "outputs": [
    {
     "name": "stdout",
     "output_type": "stream",
     "text": [
      "hello\n"
     ]
    }
   ],
   "source": [
    "def myfunc1():\n",
    "  x = \"Jane\"\n",
    "  def myfunc2():\n",
    "    nonlocal x\n",
    "    x = \"hello\"\n",
    "  myfunc2()\n",
    "  return x\n",
    "\n",
    "print(myfunc1())"
   ]
  },
  {
   "cell_type": "markdown",
   "id": "f7de10ef-1c9d-4b90-b701-786383a29f1e",
   "metadata": {
    "jp-MarkdownHeadingCollapsed": true
   },
   "source": [
    "# Python Modules"
   ]
  },
  {
   "cell_type": "markdown",
   "id": "b7e3e30d-2247-4354-a484-1d1860503569",
   "metadata": {},
   "source": [
    "**What is a Module?**  \n",
    "Consider a module to be the same as a code library.\n",
    "\n",
    "A file containing a set of functions you want to include in your application.\n",
    "\n",
    "**Create a Module**  \n",
    "To create a module just save the code you want in a file with the file extension .py:\n",
    "\n",
    "**Example**  \n",
    "Save this code in a file named mymodule.py"
   ]
  },
  {
   "cell_type": "code",
   "execution_count": 325,
   "id": "53c91800-402c-4bff-9c36-c1586420e369",
   "metadata": {},
   "outputs": [],
   "source": [
    "def greeting(name):\n",
    "  print(\"Hello, \" + name)"
   ]
  },
  {
   "cell_type": "markdown",
   "id": "6e661231-ea8f-4b2c-b028-f13e57fb95ec",
   "metadata": {},
   "source": [
    "**Use a Module**  \n",
    "Now we can use the module we just created, by using the import statement:\n",
    "\n",
    "**Example**  \n",
    "Import the module named mymodule, and call the greeting function:"
   ]
  },
  {
   "cell_type": "code",
   "execution_count": 328,
   "id": "cb8174fc-f76a-41f3-84c0-544473e9520e",
   "metadata": {},
   "outputs": [
    {
     "ename": "ModuleNotFoundError",
     "evalue": "No module named 'mymodule'",
     "output_type": "error",
     "traceback": [
      "\u001b[0;31m---------------------------------------------------------------------------\u001b[0m",
      "\u001b[0;31mModuleNotFoundError\u001b[0m                       Traceback (most recent call last)",
      "Cell \u001b[0;32mIn[328], line 1\u001b[0m\n\u001b[0;32m----> 1\u001b[0m \u001b[38;5;28;01mimport\u001b[39;00m \u001b[38;5;21;01mmymodule\u001b[39;00m\n\u001b[1;32m      3\u001b[0m mymodule\u001b[38;5;241m.\u001b[39mgreeting(\u001b[38;5;124m\"\u001b[39m\u001b[38;5;124mJonathan\u001b[39m\u001b[38;5;124m\"\u001b[39m)\n",
      "\u001b[0;31mModuleNotFoundError\u001b[0m: No module named 'mymodule'"
     ]
    }
   ],
   "source": [
    "import mymodule\n",
    "\n",
    "mymodule.greeting(\"Jonathan\")"
   ]
  },
  {
   "cell_type": "markdown",
   "id": "efc0b811-6bb6-4fe3-95a6-99a51ebcb22b",
   "metadata": {},
   "source": [
    ">Note: When using a function from a module, use the syntax: module_name.function_name.\n",
    "\n",
    "**Variables in Module**  \n",
    "The module can contain functions, as already described, but also variables of all types (arrays, dictionaries, objects etc):\n",
    "\n",
    "**Example**  \n",
    "Save this code in the file mymodule.py"
   ]
  },
  {
   "cell_type": "code",
   "execution_count": 331,
   "id": "44106a20-0b93-4dd5-8bca-232760c011f5",
   "metadata": {},
   "outputs": [],
   "source": [
    "person1 = {\n",
    "  \"name\": \"John\",\n",
    "  \"age\": 36,\n",
    "  \"country\": \"Norway\"\n",
    "}"
   ]
  },
  {
   "cell_type": "markdown",
   "id": "f9aba74d-1b83-4411-9de0-ad6a4a304eba",
   "metadata": {},
   "source": [
    "**Example**  \n",
    "Import the module named mymodule, and access the person1 dictionary:"
   ]
  },
  {
   "cell_type": "code",
   "execution_count": 334,
   "id": "ef50d473-d48b-4496-8dc6-37e95e0a986a",
   "metadata": {},
   "outputs": [
    {
     "ename": "ModuleNotFoundError",
     "evalue": "No module named 'mymodule'",
     "output_type": "error",
     "traceback": [
      "\u001b[0;31m---------------------------------------------------------------------------\u001b[0m",
      "\u001b[0;31mModuleNotFoundError\u001b[0m                       Traceback (most recent call last)",
      "Cell \u001b[0;32mIn[334], line 1\u001b[0m\n\u001b[0;32m----> 1\u001b[0m \u001b[38;5;28;01mimport\u001b[39;00m \u001b[38;5;21;01mmymodule\u001b[39;00m\n\u001b[1;32m      3\u001b[0m a \u001b[38;5;241m=\u001b[39m mymodule\u001b[38;5;241m.\u001b[39mperson1[\u001b[38;5;124m\"\u001b[39m\u001b[38;5;124mage\u001b[39m\u001b[38;5;124m\"\u001b[39m]\n\u001b[1;32m      4\u001b[0m \u001b[38;5;28mprint\u001b[39m(a)\n",
      "\u001b[0;31mModuleNotFoundError\u001b[0m: No module named 'mymodule'"
     ]
    }
   ],
   "source": [
    "import mymodule\n",
    "\n",
    "a = mymodule.person1[\"age\"]\n",
    "print(a)"
   ]
  },
  {
   "cell_type": "markdown",
   "id": "514db3b7-5fc8-4280-ad15-c76e8be71987",
   "metadata": {},
   "source": [
    "**Naming a Module**  \n",
    "You can name the module file whatever you like, but it must have the file extension .py\n",
    "\n",
    "**Re-naming a Module**  \n",
    "You can create an alias when you import a module, by using the as keyword:\n",
    "\n",
    "**Example**  \n",
    "Create an alias for mymodule called mx:"
   ]
  },
  {
   "cell_type": "code",
   "execution_count": 337,
   "id": "b795c8d0-ab08-449a-bc31-69c055366c4e",
   "metadata": {},
   "outputs": [
    {
     "ename": "ModuleNotFoundError",
     "evalue": "No module named 'mymodule'",
     "output_type": "error",
     "traceback": [
      "\u001b[0;31m---------------------------------------------------------------------------\u001b[0m",
      "\u001b[0;31mModuleNotFoundError\u001b[0m                       Traceback (most recent call last)",
      "Cell \u001b[0;32mIn[337], line 1\u001b[0m\n\u001b[0;32m----> 1\u001b[0m \u001b[38;5;28;01mimport\u001b[39;00m \u001b[38;5;21;01mmymodule\u001b[39;00m \u001b[38;5;28;01mas\u001b[39;00m \u001b[38;5;21;01mmx\u001b[39;00m\n\u001b[1;32m      3\u001b[0m a \u001b[38;5;241m=\u001b[39m mx\u001b[38;5;241m.\u001b[39mperson1[\u001b[38;5;124m\"\u001b[39m\u001b[38;5;124mage\u001b[39m\u001b[38;5;124m\"\u001b[39m]\n\u001b[1;32m      4\u001b[0m \u001b[38;5;28mprint\u001b[39m(a)\n",
      "\u001b[0;31mModuleNotFoundError\u001b[0m: No module named 'mymodule'"
     ]
    }
   ],
   "source": [
    "import mymodule as mx\n",
    "\n",
    "a = mx.person1[\"age\"]\n",
    "print(a)"
   ]
  },
  {
   "cell_type": "markdown",
   "id": "94e447e6-f076-4785-ae80-34376b952b84",
   "metadata": {},
   "source": [
    "**Built-in Modules**  \n",
    "There are several built-in modules in Python, which you can import whenever you like.\n",
    "\n",
    "**Example**  \n",
    "Import and use the platform module:"
   ]
  },
  {
   "cell_type": "code",
   "execution_count": 340,
   "id": "c3fde49b-243d-463f-a5fe-4bbab4ab1b52",
   "metadata": {},
   "outputs": [
    {
     "name": "stdout",
     "output_type": "stream",
     "text": [
      "Linux\n"
     ]
    }
   ],
   "source": [
    "import platform\n",
    "\n",
    "x = platform.system()\n",
    "print(x)"
   ]
  },
  {
   "cell_type": "markdown",
   "id": "472d8d9f-2179-4b0f-b668-19886551206e",
   "metadata": {},
   "source": [
    "**Using the dir() Function**  \n",
    "There is a built-in function to list all the function names (or variable names) in a module. The dir() function:\n",
    "\n",
    "**Example**  \n",
    "List all the defined names belonging to the platform module:"
   ]
  },
  {
   "cell_type": "code",
   "execution_count": 343,
   "id": "cbc6d693-c6e7-48d7-ac2f-e96340e13af2",
   "metadata": {},
   "outputs": [
    {
     "name": "stdout",
     "output_type": "stream",
     "text": [
      "['_Processor', '_WIN32_CLIENT_RELEASES', '_WIN32_SERVER_RELEASES', '__builtins__', '__cached__', '__copyright__', '__doc__', '__file__', '__loader__', '__name__', '__package__', '__spec__', '__version__', '_comparable_version', '_default_architecture', '_follow_symlinks', '_get_machine_win32', '_java_getprop', '_mac_ver_xml', '_node', '_norm_version', '_os_release_cache', '_os_release_candidates', '_parse_os_release', '_platform', '_platform_cache', '_sys_version', '_sys_version_cache', '_syscmd_file', '_syscmd_ver', '_uname_cache', '_unknown_as_blank', '_ver_stages', '_win32_ver', '_wmi_query', 'architecture', 'collections', 'freedesktop_os_release', 'functools', 'itertools', 'java_ver', 'libc_ver', 'mac_ver', 'machine', 'node', 'os', 'platform', 'processor', 'python_branch', 'python_build', 'python_compiler', 'python_implementation', 'python_revision', 'python_version', 'python_version_tuple', 're', 'release', 'sys', 'system', 'system_alias', 'uname', 'uname_result', 'version', 'win32_edition', 'win32_is_iot', 'win32_ver']\n"
     ]
    }
   ],
   "source": [
    "import platform\n",
    "\n",
    "x = dir(platform)\n",
    "print(x)"
   ]
  },
  {
   "cell_type": "markdown",
   "id": "9ce0f7c4-708b-4f7b-865a-5d5c0f150b23",
   "metadata": {},
   "source": [
    ">Note: The dir() function can be used on all modules, also the ones you create yourself.\n",
    "\n",
    "**Import From Module**  \n",
    "You can choose to import only parts from a module, by using the from keyword.\n",
    "\n",
    "**Example**  \n",
    "The module named mymodule has one function and one dictionary:"
   ]
  },
  {
   "cell_type": "code",
   "execution_count": 346,
   "id": "01588aa9-758b-4dec-b039-afdea6bb5677",
   "metadata": {},
   "outputs": [],
   "source": [
    "def greeting(name):\n",
    "  print(\"Hello, \" + name)\n",
    "\n",
    "person1 = {\n",
    "  \"name\": \"John\",\n",
    "  \"age\": 36,\n",
    "  \"country\": \"Norway\"\n",
    "}"
   ]
  },
  {
   "cell_type": "markdown",
   "id": "497da85f-496a-4daf-8960-c5faee55fb00",
   "metadata": {},
   "source": [
    "**Example**  \n",
    "Import only the person1 dictionary from the module:"
   ]
  },
  {
   "cell_type": "code",
   "execution_count": 349,
   "id": "1b7f909d-9c8b-4be3-a08d-5eff82822bd2",
   "metadata": {},
   "outputs": [
    {
     "ename": "ModuleNotFoundError",
     "evalue": "No module named 'mymodule'",
     "output_type": "error",
     "traceback": [
      "\u001b[0;31m---------------------------------------------------------------------------\u001b[0m",
      "\u001b[0;31mModuleNotFoundError\u001b[0m                       Traceback (most recent call last)",
      "Cell \u001b[0;32mIn[349], line 1\u001b[0m\n\u001b[0;32m----> 1\u001b[0m \u001b[38;5;28;01mfrom\u001b[39;00m \u001b[38;5;21;01mmymodule\u001b[39;00m \u001b[38;5;28;01mimport\u001b[39;00m person1\n\u001b[1;32m      3\u001b[0m \u001b[38;5;28mprint\u001b[39m (person1[\u001b[38;5;124m\"\u001b[39m\u001b[38;5;124mage\u001b[39m\u001b[38;5;124m\"\u001b[39m])\n",
      "\u001b[0;31mModuleNotFoundError\u001b[0m: No module named 'mymodule'"
     ]
    }
   ],
   "source": [
    "from mymodule import person1\n",
    "\n",
    "print (person1[\"age\"])"
   ]
  },
  {
   "cell_type": "markdown",
   "id": "e5f26816-3c67-4d98-adff-615c97c7cd6f",
   "metadata": {},
   "source": [
    ">Note: When importing using the from keyword, do not use the module name when referring to elements in the module. Example: person1[\"age\"], not mymodule.person1[\"age\"]"
   ]
  },
  {
   "cell_type": "markdown",
   "id": "8ff0c55b-3d16-41ea-81fa-3a33322b81ba",
   "metadata": {
    "jp-MarkdownHeadingCollapsed": true
   },
   "source": [
    "# Python Datetime"
   ]
  },
  {
   "cell_type": "markdown",
   "id": "143a79ee-d9fe-43fc-8042-877346083450",
   "metadata": {},
   "source": [
    "**Python Dates**  \n",
    "A date in Python is not a data type of its own, but we can import a module named datetime to work with dates as date objects.\n",
    "\n",
    "**Example**  \n",
    "Import the datetime module and display the current date:"
   ]
  },
  {
   "cell_type": "code",
   "execution_count": 354,
   "id": "9d43ecd5-b688-4b4f-9951-be6aa4ed8416",
   "metadata": {},
   "outputs": [
    {
     "name": "stdout",
     "output_type": "stream",
     "text": [
      "2024-07-05 20:10:49.260924\n"
     ]
    }
   ],
   "source": [
    "import datetime\n",
    "\n",
    "x = datetime.datetime.now()\n",
    "print(x)"
   ]
  },
  {
   "cell_type": "markdown",
   "id": "7eef55e2-4807-4d36-98d2-5c56e4069bb4",
   "metadata": {},
   "source": [
    "**Date Output**  \n",
    "When we execute the code from the example above the result will be:\n",
    "\n",
    "2024-07-05 16:41:38.085034\n",
    "The date contains year, month, day, hour, minute, second, and microsecond.\n",
    "\n",
    "The datetime module has many methods to return information about the date object.\n",
    "\n",
    "Here are a few examples, you will learn more about them later in this chapter:\n",
    "\n",
    "**Example**  \n",
    "Return the year and name of weekday:"
   ]
  },
  {
   "cell_type": "code",
   "execution_count": 357,
   "id": "d92096e8-73b1-4581-84b6-01a24a46feba",
   "metadata": {},
   "outputs": [
    {
     "name": "stdout",
     "output_type": "stream",
     "text": [
      "2024\n",
      "Friday\n"
     ]
    }
   ],
   "source": [
    "import datetime\n",
    "\n",
    "x = datetime.datetime.now()\n",
    "\n",
    "print(x.year)\n",
    "print(x.strftime(\"%A\"))"
   ]
  },
  {
   "cell_type": "markdown",
   "id": "8b7a6cb9-d975-46ab-bed8-ffb813d2d7f4",
   "metadata": {},
   "source": [
    "**Creating Date Objects**  \n",
    "To create a date, we can use the datetime() class (constructor) of the datetime module.\n",
    "\n",
    "The datetime() class requires three parameters to create a date: year, month, day.\n",
    "\n",
    "**Example**  \n",
    "Create a date object:"
   ]
  },
  {
   "cell_type": "code",
   "execution_count": 360,
   "id": "b2374570-c765-401f-b884-f5df63f5fa07",
   "metadata": {},
   "outputs": [
    {
     "name": "stdout",
     "output_type": "stream",
     "text": [
      "2020-05-17 00:00:00\n"
     ]
    }
   ],
   "source": [
    "import datetime\n",
    "\n",
    "x = datetime.datetime(2020, 5, 17)\n",
    "\n",
    "print(x)"
   ]
  },
  {
   "cell_type": "markdown",
   "id": "666cf3b6-8552-43ca-8f43-d6431b65319b",
   "metadata": {},
   "source": [
    "The datetime() class also takes parameters for time and timezone (hour, minute, second, microsecond, tzone), but they are optional, and has a default value of 0, (None for timezone).\n",
    "\n",
    "**The strftime() Method**  \n",
    "The datetime object has a method for formatting date objects into readable strings.\n",
    "\n",
    "The method is called strftime(), and takes one parameter, format, to specify the format of the returned string:\n",
    "\n",
    "**Example**  \n",
    "Display the name of the month:"
   ]
  },
  {
   "cell_type": "code",
   "execution_count": 363,
   "id": "49b70932-70b7-466d-bcb6-4b60d3f63651",
   "metadata": {},
   "outputs": [
    {
     "name": "stdout",
     "output_type": "stream",
     "text": [
      "June\n"
     ]
    }
   ],
   "source": [
    "import datetime\n",
    "\n",
    "x = datetime.datetime(2018, 6, 1)\n",
    "\n",
    "print(x.strftime(\"%B\"))"
   ]
  },
  {
   "cell_type": "markdown",
   "id": "b6e8ebd5-329b-4f8b-8ef3-c824708845aa",
   "metadata": {},
   "source": [
    "A reference of all the legal format codes:\n",
    "| Directive | Description                                                 | Example                  |\n",
    "| --------- | ----------------------------------------------------------- | ------------------------ |\n",
    "| %a        | Weekday, short version                                      | Wed                      |\n",
    "| %A        | Weekday, full version                                       | Wednesday                |\n",
    "| %w        | Weekday as a number 0-6, 0 is Sunday                        | 3                        |\n",
    "| %d        | Day of month 01-31                                          | 31                       |\n",
    "| %b        | Month name, short version                                   | Dec                      |\n",
    "| %B        | Month name, full version                                    | December                 |\n",
    "| %m        | Month as a number 01-12                                     | 12                       |\n",
    "| %y        | Year, short version, without century                        | 18                       |\n",
    "| %Y        | Year, full version                                          | 2018                     |\n",
    "| %H        | Hour 00-23                                                  | 17                       |\n",
    "| %I        | Hour 00-12                                                  | 5                        |\n",
    "| %p        | AM/PM                                                       | PM                       |\n",
    "| %M        | Minute 00-59                                                | 41                       |\n",
    "| %S        | Second 00-59                                                | 8                        |\n",
    "| %f        | Microsecond 000000-999999                                   | 548513                   |\n",
    "| %z        | UTC offset                                                  | 100                      |\n",
    "| %Z        | Timezone                                                    | CST                      |\n",
    "| %j        | Day number of year 001-366                                  | 365                      |\n",
    "| %U        | Week number of year, Sunday as the first day of week, 00-53 | 52                       |\n",
    "| %W        | Week number of year, Monday as the first day of week, 00-53 | 52                       |\n",
    "| %c        | Local version of date and time                              | Mon Dec 31 17:41:00 2018 |\n",
    "| %C        | Century                                                     | 20                       |\n",
    "| %x        | Local version of date                                       | 12/31/18                 |\n",
    "| %X        | Local version of time                                       | 17:41:00                 |\n",
    "| %%        | A % character                                               | %                        |\n",
    "| %G        | ISO 8601 year                                               | 2018                     |\n",
    "| %u        | ISO 8601 weekday (1-7)                                      | 1                        |\n",
    "| %V        | ISO 8601 weeknumber (01-53)                                 | 1                        |"
   ]
  },
  {
   "cell_type": "code",
   "execution_count": 366,
   "id": "f492c794-b62f-4c01-83d5-3ac77360b192",
   "metadata": {},
   "outputs": [
    {
     "name": "stdout",
     "output_type": "stream",
     "text": [
      "Fri\n"
     ]
    }
   ],
   "source": [
    "import datetime\n",
    "x = datetime.datetime.now()\n",
    "print(x.strftime(\"%a\"))"
   ]
  },
  {
   "cell_type": "markdown",
   "id": "a5abfe02-a939-4dc8-9c02-cad5784903b8",
   "metadata": {
    "jp-MarkdownHeadingCollapsed": true
   },
   "source": [
    "# Python Math"
   ]
  },
  {
   "cell_type": "markdown",
   "id": "88677137-89bf-47f6-a96c-d91d183deb7c",
   "metadata": {},
   "source": [
    "Python has a set of built-in math functions, including an extensive math module, that allows you to perform mathematical tasks on numbers.\n",
    "\n",
    "**Built-in Math Functions**  \n",
    "The min() and max() functions can be used to find the lowest or highest value in an iterable:\n",
    "\n",
    "**Example**  "
   ]
  },
  {
   "cell_type": "code",
   "execution_count": 370,
   "id": "b7a1b4e6-9a73-4f58-9ca3-03d0e3728538",
   "metadata": {},
   "outputs": [
    {
     "name": "stdout",
     "output_type": "stream",
     "text": [
      "5\n",
      "25\n"
     ]
    }
   ],
   "source": [
    "x = min(5, 10, 25)\n",
    "y = max(5, 10, 25)\n",
    "\n",
    "print(x)\n",
    "print(y)"
   ]
  },
  {
   "cell_type": "markdown",
   "id": "05f5b4a2-d296-46ef-8dec-17285d2016ac",
   "metadata": {},
   "source": [
    "The abs() function returns the absolute (positive) value of the specified number:\n",
    "\n",
    "**Example**  "
   ]
  },
  {
   "cell_type": "code",
   "execution_count": 373,
   "id": "a9d264fe-bb94-47e8-a93f-a52742962dd3",
   "metadata": {},
   "outputs": [
    {
     "name": "stdout",
     "output_type": "stream",
     "text": [
      "7.25\n"
     ]
    }
   ],
   "source": [
    "x = abs(-7.25)\n",
    "\n",
    "print(x)"
   ]
  },
  {
   "cell_type": "markdown",
   "id": "71830a0f-1964-4a5d-b479-cbb58f5c65c6",
   "metadata": {},
   "source": [
    "The pow(x, y) function returns the value of x to the power of y (xy).\n",
    "\n",
    "**Example**  \n",
    "Return the value of 4 to the power of 3 (same as 4 * 4 * 4):"
   ]
  },
  {
   "cell_type": "code",
   "execution_count": 376,
   "id": "57825116-3b3e-4377-be12-cf83b17fe816",
   "metadata": {},
   "outputs": [
    {
     "name": "stdout",
     "output_type": "stream",
     "text": [
      "64\n"
     ]
    }
   ],
   "source": [
    "x = pow(4, 3)\n",
    "\n",
    "print(x)"
   ]
  },
  {
   "cell_type": "markdown",
   "id": "b0389f8b-4fa4-476f-a5f0-8c33e6067af7",
   "metadata": {},
   "source": [
    "**The Math Module**  \n",
    "Python has also a built-in module called math, which extends the list of mathematical functions.\n",
    "\n",
    "To use it, you must import the math module:"
   ]
  },
  {
   "cell_type": "code",
   "execution_count": 379,
   "id": "6abf4eba-b6ae-4e61-84c2-f374d70d26ce",
   "metadata": {},
   "outputs": [],
   "source": [
    "import math"
   ]
  },
  {
   "cell_type": "markdown",
   "id": "2da6bfcf-1466-4f75-840e-0928a0e9b057",
   "metadata": {},
   "source": [
    "When you have imported the math module, you can start using methods and constants of the module.\n",
    "\n",
    "The math.sqrt() method for example, returns the square root of a number:\n",
    "\n",
    "**Example**  "
   ]
  },
  {
   "cell_type": "code",
   "execution_count": 382,
   "id": "5963c94a-794f-459a-8d5f-48cac45fa11f",
   "metadata": {},
   "outputs": [
    {
     "name": "stdout",
     "output_type": "stream",
     "text": [
      "8.0\n"
     ]
    }
   ],
   "source": [
    "import math\n",
    "\n",
    "x = math.sqrt(64)\n",
    "\n",
    "print(x)"
   ]
  },
  {
   "cell_type": "markdown",
   "id": "9ce13202-d5d4-4843-8686-aaf63234cb33",
   "metadata": {},
   "source": [
    "The math.ceil() method rounds a number upwards to its nearest integer, and the math.floor() method rounds a number downwards to its nearest integer, and returns the result:\n",
    "\n",
    "**Example**  "
   ]
  },
  {
   "cell_type": "code",
   "execution_count": 385,
   "id": "ed593123-473d-45df-9d32-df5fb9edf14d",
   "metadata": {},
   "outputs": [
    {
     "name": "stdout",
     "output_type": "stream",
     "text": [
      "2\n",
      "1\n"
     ]
    }
   ],
   "source": [
    "import math\n",
    "\n",
    "x = math.ceil(1.4)\n",
    "y = math.floor(1.4)\n",
    "\n",
    "print(x) # returns 2\n",
    "print(y) # returns 1"
   ]
  },
  {
   "cell_type": "markdown",
   "id": "d38717f6-03ec-4615-8ef6-fff85df6219d",
   "metadata": {},
   "source": [
    "The math.pi constant, returns the value of PI (3.14...):\n",
    "\n",
    "**Example**  "
   ]
  },
  {
   "cell_type": "code",
   "execution_count": 388,
   "id": "3cffa398-93e9-4102-9f0b-b8c3a864b457",
   "metadata": {},
   "outputs": [
    {
     "name": "stdout",
     "output_type": "stream",
     "text": [
      "3.141592653589793\n"
     ]
    }
   ],
   "source": [
    "import math\n",
    "x = math.pi\n",
    "print(x)"
   ]
  },
  {
   "cell_type": "markdown",
   "id": "2fd45cb8-33aa-411e-a7e3-0b8d9f5590ce",
   "metadata": {},
   "source": [
    "## Python math Module"
   ]
  },
  {
   "cell_type": "markdown",
   "id": "25297a77-9a04-443e-9987-ddee260f6b7f",
   "metadata": {},
   "source": [
    "Python has a built-in module that you can use for mathematical tasks.\n",
    "\n",
    "The math module has a set of methods and constants.  \n",
    "\n",
    "**Math Methods**\n",
    "\n",
    "| Method           | Description                                                                                                  |\n",
    "| ---------------- | ------------------------------------------------------------------------------------------------------------ |\n",
    "| math.acos()      | Returns the arc cosine of a number                                                                           |\n",
    "| math.acosh()     | Returns the inverse hyperbolic cosine of a number                                                            |\n",
    "| math.asin()      | Returns the arc sine of a number                                                                             |\n",
    "| math.asinh()     | Returns the inverse hyperbolic sine of a number                                                              |\n",
    "| math.atan()      | Returns the arc tangent of a number in radians                                                               |\n",
    "| math.atan2()     | Returns the arc tangent of y/x in radians                                                                    |\n",
    "| math.atanh()     | Returns the inverse hyperbolic tangent of a number                                                           |\n",
    "| math.ceil()      | Rounds a number up to the nearest integer                                                                    |\n",
    "| math.comb()      | Returns the number of ways to choose k items from n items without repetition and order                       |\n",
    "| math.copysign()  | Returns a float consisting of the value of the first parameter and the sign of the second parameter          |\n",
    "| math.cos()       | Returns the cosine of a number                                                                               |\n",
    "| math.cosh()      | Returns the hyperbolic cosine of a number                                                                    |\n",
    "| math.degrees()   | Converts an angle from radians to degrees                                                                    |\n",
    "| math.dist()      | Returns the Euclidean distance between two points (p and q), where p and q are the coordinates of that point |\n",
    "| math.erf()       | Returns the error function of a number                                                                       |\n",
    "| math.erfc()      | Returns the complementary error function of a number                                                         |\n",
    "| math.exp()       | Returns E raised to the power of x                                                                           |\n",
    "| math.expm1()     | Returns Ex - 1                                                                                               |\n",
    "| math.fabs()      | Returns the absolute value of a number                                                                       |\n",
    "| math.factorial() | Returns the factorial of a number                                                                            |\n",
    "| math.floor()     | Rounds a number down to the nearest integer                                                                  |\n",
    "| math.fmod()      | Returns the remainder of x/y                                                                                 |\n",
    "| math.frexp()     | Returns the mantissa and the exponent, of a specified number                                                 |\n",
    "| math.fsum()      | Returns the sum of all items in any iterable (tuples, arrays, lists, etc.)                                   |\n",
    "| math.gamma()     | Returns the gamma function at x                                                                              |\n",
    "| math.gcd()       | Returns the greatest common divisor of two integers                                                          |\n",
    "| math.hypot()     | Returns the Euclidean norm                                                                                   |\n",
    "| math.isclose()   | Checks whether two values are close to each other, or not                                                    |\n",
    "| math.isfinite()  | Checks whether a number is finite or not                                                                     |\n",
    "| math.isinf()     | Checks whether a number is infinite or not                                                                   |\n",
    "| math.isnan()     | Checks whether a value is NaN (not a number) or not                                                          |\n",
    "| math.isqrt()     | Rounds a square root number downwards to the nearest integer                                                 |\n",
    "| math.ldexp()     | Returns the inverse of math.frexp() which is x \\* (2\\*\\*i) of the given numbers x and i                      |\n",
    "| math.lgamma()    | Returns the log gamma value of x                                                                             |\n",
    "| math.log()       | Returns the natural logarithm of a number, or the logarithm of number to base                                |\n",
    "| math.log10()     | Returns the base-10 logarithm of x                                                                           |\n",
    "| math.log1p()     | Returns the natural logarithm of 1+x                                                                         |\n",
    "| math.log2()      | Returns the base-2 logarithm of x                                                                            |\n",
    "| math.perm()      | Returns the number of ways to choose k items from n items with order and without repetition                  |\n",
    "| math.pow()       | Returns the value of x to the power of y                                                                     |\n",
    "| math.prod()      | Returns the product of all the elements in an iterable                                                       |\n",
    "| math.radians()   | Converts a degree value into radians                                                                         |\n",
    "| math.remainder() | Returns the closest value that can make numerator completely divisible by the denominator                    |\n",
    "| math.sin()       | Returns the sine of a number                                                                                 |\n",
    "| math.sinh()      | Returns the hyperbolic sine of a number                                                                      |\n",
    "| math.sqrt()      | Returns the square root of a number                                                                          |\n",
    "| math.tan()       | Returns the tangent of a number                                                                              |\n",
    "| math.tanh()      | Returns the hyperbolic tangent of a number                                                                   |\n",
    "| math.trunc()     | Returns the truncated integer parts of a number                                                              |"
   ]
  },
  {
   "cell_type": "markdown",
   "id": "a58de292-91dc-48cf-804d-570b75a4a7b8",
   "metadata": {},
   "source": [
    "**Math Constants**  \n",
    "\n",
    "| Constant | Description                                       |\n",
    "| -------- | ------------------------------------------------- |\n",
    "| math.e   | Returns Euler's number (2.7182...)                |\n",
    "| math.inf | Returns a floating-point positive infinity        |\n",
    "| math.nan | Returns a floating-point NaN (Not a Number) value |\n",
    "| math.pi  | Returns PI (3.1415...)                            |\n",
    "| math.tau | Returns tau (6.2831...)                           |"
   ]
  },
  {
   "cell_type": "markdown",
   "id": "63722188-6482-4571-8fcb-d4625a7b0e53",
   "metadata": {
    "jp-MarkdownHeadingCollapsed": true
   },
   "source": [
    "# Python JSON"
   ]
  },
  {
   "cell_type": "markdown",
   "id": "f09e40ea-391b-489a-b5d0-15392da4e883",
   "metadata": {},
   "source": [
    "JSON is a syntax for storing and exchanging data.\n",
    "\n",
    "JSON is text, written with JavaScript object notation.\n",
    "\n",
    "**JSON in Python**  \n",
    "Python has a built-in package called json, which can be used to work with JSON data.\n",
    "\n",
    "**Example**  \n",
    "Import the json module:"
   ]
  },
  {
   "cell_type": "code",
   "execution_count": 395,
   "id": "19f8b48a-e7c1-4bbb-a5d0-60b7a10a7578",
   "metadata": {},
   "outputs": [],
   "source": [
    "import json"
   ]
  },
  {
   "cell_type": "markdown",
   "id": "8df36199-8b73-4517-926e-7c88818ff5b8",
   "metadata": {},
   "source": [
    "**Parse JSON - Convert from JSON to Python**  \n",
    "If you have a JSON string, you can parse it by using the json.loads() method.\n",
    "\n",
    "The result will be a Python dictionary.\n",
    "\n",
    "**Example**  \n",
    "Convert from JSON to Python:"
   ]
  },
  {
   "cell_type": "code",
   "execution_count": 398,
   "id": "d0340189-f222-4ffc-a32d-388d278a7596",
   "metadata": {},
   "outputs": [
    {
     "name": "stdout",
     "output_type": "stream",
     "text": [
      "30\n"
     ]
    }
   ],
   "source": [
    "import json\n",
    "\n",
    "# some JSON:\n",
    "x =  '{ \"name\":\"John\", \"age\":30, \"city\":\"New York\"}'\n",
    "\n",
    "# parse x:\n",
    "y = json.loads(x)\n",
    "\n",
    "# the result is a Python dictionary:\n",
    "print(y[\"age\"])"
   ]
  },
  {
   "cell_type": "markdown",
   "id": "8f271bc1-d2b8-4eba-9707-c62670fec5da",
   "metadata": {},
   "source": [
    "**Convert from Python to JSON**  \n",
    "If you have a Python object, you can convert it into a JSON string by using the json.dumps() method.\n",
    "\n",
    "**Example**  \n",
    "Convert from Python to JSON:"
   ]
  },
  {
   "cell_type": "code",
   "execution_count": 401,
   "id": "1dabf142-a31a-4694-926e-368f1724ee77",
   "metadata": {},
   "outputs": [
    {
     "name": "stdout",
     "output_type": "stream",
     "text": [
      "{\"name\": \"John\", \"age\": 30, \"city\": \"New York\"}\n"
     ]
    }
   ],
   "source": [
    "import json\n",
    "\n",
    "# a Python object (dict):\n",
    "x = {\n",
    "  \"name\": \"John\",\n",
    "  \"age\": 30,\n",
    "  \"city\": \"New York\"\n",
    "}\n",
    "\n",
    "# convert into JSON:\n",
    "y = json.dumps(x)\n",
    "\n",
    "# the result is a JSON string:\n",
    "print(y)"
   ]
  },
  {
   "cell_type": "markdown",
   "id": "fb967819-2fd1-4c42-8e05-d8b2e437657e",
   "metadata": {},
   "source": [
    "You can convert Python objects of the following types, into JSON strings:\n",
    ">•\tdict  \n",
    "•\tlist  \n",
    "•\ttuple  \n",
    "•\tstring  \n",
    "•\tint  \n",
    "•\tfloat  \n",
    "•\tTrue  \n",
    "•\tFalse  \n",
    "•\tNone  \n",
    "\n",
    "Example\n",
    "Convert Python objects into JSON strings, and print the values:"
   ]
  },
  {
   "cell_type": "code",
   "execution_count": 404,
   "id": "aaabd99d-6745-4f69-8aea-8e261e4ced97",
   "metadata": {},
   "outputs": [
    {
     "name": "stdout",
     "output_type": "stream",
     "text": [
      "{\"name\": \"John\", \"age\": 30}\n",
      "[\"apple\", \"bananas\"]\n",
      "[\"apple\", \"bananas\"]\n",
      "\"hello\"\n",
      "42\n",
      "31.76\n",
      "true\n",
      "false\n",
      "null\n"
     ]
    }
   ],
   "source": [
    "import json\n",
    "\n",
    "print(json.dumps({\"name\": \"John\", \"age\": 30}))\n",
    "print(json.dumps([\"apple\", \"bananas\"]))\n",
    "print(json.dumps((\"apple\", \"bananas\")))\n",
    "print(json.dumps(\"hello\"))\n",
    "print(json.dumps(42))\n",
    "print(json.dumps(31.76))\n",
    "print(json.dumps(True))\n",
    "print(json.dumps(False))\n",
    "print(json.dumps(None))"
   ]
  },
  {
   "cell_type": "markdown",
   "id": "32656c2f-a05c-41d5-9b71-bde29ae9de9b",
   "metadata": {},
   "source": [
    "When you convert from Python to JSON, Python objects are converted into the JSON (JavaScript) equivalent:  \n",
    "| Python | JSON   |\n",
    "| ------ | ------ |\n",
    "| dict   | Object |\n",
    "| list   | Array  |\n",
    "| tuple  | Array  |\n",
    "| str    | String |\n",
    "| int    | Number |\n",
    "| float  | Number |\n",
    "| TRUE   | TRUE   |\n",
    "| FALSE  | FALSE  |\n",
    "| None   | null   |"
   ]
  },
  {
   "cell_type": "markdown",
   "id": "0f04d1ce-55f4-4b70-b949-21166140acc1",
   "metadata": {},
   "source": [
    "**Example**  \n",
    "Convert a Python object containing all the legal data types:"
   ]
  },
  {
   "cell_type": "code",
   "execution_count": 408,
   "id": "2c0adc06-4f81-469f-9ecb-8edf92a7ec11",
   "metadata": {},
   "outputs": [
    {
     "name": "stdout",
     "output_type": "stream",
     "text": [
      "{\"name\": \"John\", \"age\": 30, \"married\": true, \"divorced\": false, \"children\": [\"Ann\", \"Billy\"], \"pets\": null, \"cars\": [{\"model\": \"BMW 230\", \"mpg\": 27.5}, {\"model\": \"Ford Edge\", \"mpg\": 24.1}]}\n"
     ]
    }
   ],
   "source": [
    "import json\n",
    "\n",
    "x = {\n",
    "  \"name\": \"John\",\n",
    "  \"age\": 30,\n",
    "  \"married\": True,\n",
    "  \"divorced\": False,\n",
    "  \"children\": (\"Ann\",\"Billy\"),\n",
    "  \"pets\": None,\n",
    "  \"cars\": [\n",
    "    {\"model\": \"BMW 230\", \"mpg\": 27.5},\n",
    "    {\"model\": \"Ford Edge\", \"mpg\": 24.1}\n",
    "  ]\n",
    "}\n",
    "\n",
    "print(json.dumps(x))"
   ]
  },
  {
   "cell_type": "markdown",
   "id": "aaa70540-bc1e-4418-9a16-9afb575b5f40",
   "metadata": {},
   "source": [
    "**Format the Result**  \n",
    "The example above prints a JSON string, but it is not very easy to read, with no indentations and line breaks.\n",
    "\n",
    "The json.dumps() method has parameters to make it easier to read the result:\n",
    "\n",
    "**Example**  \n",
    "Use the indent parameter to define the numbers of indents:"
   ]
  },
  {
   "cell_type": "code",
   "execution_count": 411,
   "id": "542f97af-5e6c-49f6-8c81-30bf215b2c61",
   "metadata": {},
   "outputs": [
    {
     "data": {
      "text/plain": [
       "'{\\n    \"name\": \"John\",\\n    \"age\": 30,\\n    \"married\": true,\\n    \"divorced\": false,\\n    \"children\": [\\n        \"Ann\",\\n        \"Billy\"\\n    ],\\n    \"pets\": null,\\n    \"cars\": [\\n        {\\n            \"model\": \"BMW 230\",\\n            \"mpg\": 27.5\\n        },\\n        {\\n            \"model\": \"Ford Edge\",\\n            \"mpg\": 24.1\\n        }\\n    ]\\n}'"
      ]
     },
     "execution_count": 411,
     "metadata": {},
     "output_type": "execute_result"
    }
   ],
   "source": [
    "json.dumps(x, indent=4)"
   ]
  },
  {
   "cell_type": "markdown",
   "id": "cf71e6dd-5fe7-434c-9a8f-8bacabe50b3e",
   "metadata": {},
   "source": [
    "You can also define the separators, default value is (\", \", \": \"), which means using a comma and a space to separate each object, and a colon and a space to separate keys from values:\n",
    "\n",
    "**Example**  \n",
    "Use the separators parameter to change the default separator:"
   ]
  },
  {
   "cell_type": "code",
   "execution_count": 414,
   "id": "b18928f0-98c3-4a89-8f70-8ad6b4af4115",
   "metadata": {},
   "outputs": [
    {
     "data": {
      "text/plain": [
       "'{\\n    \"name\" = \"John\". \\n    \"age\" = 30. \\n    \"married\" = true. \\n    \"divorced\" = false. \\n    \"children\" = [\\n        \"Ann\". \\n        \"Billy\"\\n    ]. \\n    \"pets\" = null. \\n    \"cars\" = [\\n        {\\n            \"model\" = \"BMW 230\". \\n            \"mpg\" = 27.5\\n        }. \\n        {\\n            \"model\" = \"Ford Edge\". \\n            \"mpg\" = 24.1\\n        }\\n    ]\\n}'"
      ]
     },
     "execution_count": 414,
     "metadata": {},
     "output_type": "execute_result"
    }
   ],
   "source": [
    "json.dumps(x, indent=4, separators=(\". \", \" = \"))"
   ]
  },
  {
   "cell_type": "markdown",
   "id": "a19fd566-3b2b-41d9-85fd-ce3f7d3c04b5",
   "metadata": {},
   "source": [
    "**Order the Result**  \n",
    "The json.dumps() method has parameters to order the keys in the result:\n",
    "\n",
    "**Example**  \n",
    "Use the sort_keys parameter to specify if the result should be sorted or not:"
   ]
  },
  {
   "cell_type": "code",
   "execution_count": 417,
   "id": "78f35b24-b875-4bf9-aa97-86a298b3121b",
   "metadata": {},
   "outputs": [
    {
     "data": {
      "text/plain": [
       "'{\\n    \"age\": 30,\\n    \"cars\": [\\n        {\\n            \"model\": \"BMW 230\",\\n            \"mpg\": 27.5\\n        },\\n        {\\n            \"model\": \"Ford Edge\",\\n            \"mpg\": 24.1\\n        }\\n    ],\\n    \"children\": [\\n        \"Ann\",\\n        \"Billy\"\\n    ],\\n    \"divorced\": false,\\n    \"married\": true,\\n    \"name\": \"John\",\\n    \"pets\": null\\n}'"
      ]
     },
     "execution_count": 417,
     "metadata": {},
     "output_type": "execute_result"
    }
   ],
   "source": [
    "json.dumps(x, indent=4, sort_keys=True)"
   ]
  },
  {
   "cell_type": "markdown",
   "id": "0e8a2adc-e99d-4719-990a-5406605adb09",
   "metadata": {
    "jp-MarkdownHeadingCollapsed": true
   },
   "source": [
    "# Python RegEx"
   ]
  },
  {
   "cell_type": "markdown",
   "id": "49ed2268-bb5f-4e31-b8ef-0e825ce8a27d",
   "metadata": {},
   "source": [
    "A RegEx, or Regular Expression, is a sequence of characters that forms a search pattern.\n",
    "\n",
    "RegEx can be used to check if a string contains the specified search pattern.\n",
    "\n",
    "**RegEx Module**  \n",
    "Python has a built-in package called re, which can be used to work with Regular Expressions.\n",
    "\n",
    "**Import the re module:**  "
   ]
  },
  {
   "cell_type": "code",
   "execution_count": 421,
   "id": "f6820a5e-f34f-4f0d-8f96-98c87ca0ba9d",
   "metadata": {},
   "outputs": [],
   "source": [
    "import re"
   ]
  },
  {
   "cell_type": "markdown",
   "id": "a07b630c-dcb9-4de3-9d71-a4973cc153ba",
   "metadata": {},
   "source": [
    "**RegEx in Python**  \n",
    "When you have imported the re module, you can start using regular expressions:\n",
    "\n",
    "**Example**  \n",
    "Search the string to see if it starts with \"The\" and ends with \"Spain\":"
   ]
  },
  {
   "cell_type": "code",
   "execution_count": 424,
   "id": "1c668d31-04b0-4096-a3fb-bd20a305eaf7",
   "metadata": {},
   "outputs": [],
   "source": [
    "import re\n",
    "\n",
    "txt = \"The rain in Spain\"\n",
    "x = re.search(\"^The.*Spain$\", txt)"
   ]
  },
  {
   "cell_type": "markdown",
   "id": "1e1716f6-c64f-4b90-b96f-4676e40136c2",
   "metadata": {},
   "source": [
    "**RegEx Functions**  \n",
    "The re module offers a set of functions that allows us to search a string for a match:  \n",
    "| Function | Description                                                       |\n",
    "| -------- | ----------------------------------------------------------------- |\n",
    "| findall  | Returns a list containing all matches                             |\n",
    "| search   | Returns a Match object if there is a match anywhere in the string |\n",
    "| split    | Returns a list where the string has been split at each match      |\n",
    "| sub      | Replaces one or many matches with a string                        |"
   ]
  },
  {
   "cell_type": "markdown",
   "id": "34d26301-4d78-4825-a0d2-f289de62a585",
   "metadata": {},
   "source": [
    "**Metacharacters**  \n",
    "Metacharacters are characters with a special meaning:  \n",
    "| Character | Description                                                                | Example      |\n",
    "| --------- | -------------------------------------------------------------------------- | ------------ |\n",
    "| []        | A set of characters                                                        | [a-m]        |\n",
    "| \\\\        | Signals a special sequence (can also be used to escape special characters) | \\\\d          |\n",
    "| .         | Any character (except newline character)                                   | he..o        |\n",
    "| ^         | Starts with                                                                | ^hello       |\n",
    "| $         | Ends with                                                                  | planet$      |\n",
    "| \\*        | Zero or more occurrences                                                   | he.\\*o       |\n",
    "| +         | One or more occurrences                                                    | he.+o        |\n",
    "| ?         | Zero or one occurrences                                                    | he.?o        |\n",
    "| {}        | Exactly the specified number of occurrences                                | he.{2}o      |\n",
    "| \\|        | Either or                                                                  | falls\\|stays |\n",
    "| ()        | Capture and group                                                          |              |"
   ]
  },
  {
   "cell_type": "markdown",
   "id": "3169eacf-80b0-490d-a345-35722c8a9c24",
   "metadata": {},
   "source": [
    "**Special Sequences**  \n",
    "A special sequence is a \\ followed by one of the characters in the list below, and has a special meaning:  \n",
    "| Character                                                                                    | Description                                                                                                                                | Example  |\n",
    "| -------------------------------------------------------------------------------------------- | ------------------------------------------------------------------------------------------------------------------------------------------ | -------- |\n",
    "| \\\\A                                                                                          | Returns a match if the specified characters are at the beginning of the string                                                             | \\\\AThe   |\n",
    "| \\\\b                                                                                          | Returns a match where the specified characters are at the beginning or at the end of a word                                                |          |\n",
    "| (the \"r\" in the beginning is making sure that the string is being treated as a \"raw string\") | r\"\\\\bain\"                                                                                                                                  |          |\n",
    "|                                                                                              |                                                                                                                                            |          |\n",
    "| r\"ain\\\\b\"                                                                                    |                                                                                                                                            |          |\n",
    "|                                                                                              |                                                                                                                                            |          |\n",
    "| \\\\B                                                                                          | Returns a match where the specified characters are present, but NOT at the beginning (or at the end) of a word                             |          |\n",
    "| (the \"r\" in the beginning is making sure that the string is being treated as a \"raw string\") | r\"\\\\Bain\"                                                                                                                                  |          |\n",
    "|                                                                                              |                                                                                                                                            |          |\n",
    "| r\"ain\\\\B\"                                                                                    |                                                                                                                                            |          |\n",
    "|                                                                                              |                                                                                                                                            |          |\n",
    "| \\\\d                                                                                          | Returns a match where the string contains digits (numbers from 0-9)                                                                        | \\\\d      |\n",
    "| \\\\D                                                                                          | Returns a match where the string DOES NOT contain digits                                                                                   | \\\\D      |\n",
    "| \\\\s                                                                                          | Returns a match where the string contains a white space character                                                                          | \\\\s      |\n",
    "| \\\\S                                                                                          | Returns a match where the string DOES NOT contain a white space character                                                                  | \\\\S      |\n",
    "| \\\\w                                                                                          | Returns a match where the string contains any word characters (characters from a to Z, digits from 0-9, and the underscore \\ \\_ character) | \\\\w      |\n",
    "| \\\\W                                                                                          | Returns a match where the string DOES NOT contain any word characters                                                                      | \\\\W      |\n",
    "| \\\\Z                                                                                          | Returns a match if the specified characters are at the end of the string                                                                   | Spain\\\\Z |"
   ]
  },
  {
   "cell_type": "markdown",
   "id": "32d6b68a-2de5-4d72-add7-73841c9b43fa",
   "metadata": {},
   "source": [
    "**Sets**  \n",
    "A set is a set of characters inside a pair of square brackets [] with a special meaning:  \n",
    "| Set        | Description                                                                                                            |\n",
    "| ---------- | ---------------------------------------------------------------------------------------------------------------------- |\n",
    "| [arn]      | Returns a match where one of the specified characters (a, r, or n) is present                                          |\n",
    "| [a-n]      | Returns a match for any lower case character, alphabetically between a and n                                           |\n",
    "| [^arn]     | Returns a match for any character EXCEPT a, r, and n                                                                   |\n",
    "| [0123]     | Returns a match where any of the specified digits (0, 1, 2, or 3) are present                                          |\n",
    "| [0-9]      | Returns a match for any digit between 0 and 9                                                                          |\n",
    "| [0-5][0-9] | Returns a match for any two-digit numbers from 00 and 59                                                               |\n",
    "| [a-zA-Z]   | Returns a match for any character alphabetically between a and z, lower case OR upper case                             |\n",
    "| [+]        | In sets, +, \\*, ., \\|, (), $,{} has no special meaning, so [+] means: return a match for any + character in the string |"
   ]
  },
  {
   "cell_type": "markdown",
   "id": "1fd359bc-b01d-43da-8316-9a2d5a816568",
   "metadata": {},
   "source": [
    "**The findall() Function**  \n",
    "The findall() function returns a list containing all matches.  \n",
    "**Example**  \n",
    "Print a list of all matches:  "
   ]
  },
  {
   "cell_type": "code",
   "execution_count": 447,
   "id": "b087ed27-b616-4e24-8784-b5b41e1a5fcb",
   "metadata": {},
   "outputs": [
    {
     "name": "stdout",
     "output_type": "stream",
     "text": [
      "['ai', 'ai']\n"
     ]
    }
   ],
   "source": [
    "import re\n",
    "\n",
    "txt = \"The rain in Spain\"\n",
    "x = re.findall(\"ai\", txt)\n",
    "print(x)"
   ]
  },
  {
   "cell_type": "markdown",
   "id": "02c2f0c7-fb76-46e6-9353-0ee0284be3a6",
   "metadata": {},
   "source": [
    "The list contains the matches in the order they are found.\n",
    "\n",
    "If no matches are found, an empty list is returned:\n",
    "**Example**  \n",
    "Return an empty list if no match was found:"
   ]
  },
  {
   "cell_type": "code",
   "execution_count": 452,
   "id": "1d1142dc-7672-4476-8934-adb2c5d7c663",
   "metadata": {},
   "outputs": [
    {
     "name": "stdout",
     "output_type": "stream",
     "text": [
      "[]\n"
     ]
    }
   ],
   "source": [
    "import re\n",
    "\n",
    "txt = \"The rain in Spain\"\n",
    "x = re.findall(\"Portugal\", txt)\n",
    "print(x)"
   ]
  },
  {
   "cell_type": "markdown",
   "id": "1fca8f25-4ba9-487f-bfea-71dc2f0de5c1",
   "metadata": {},
   "source": [
    "**The search() Function**  \n",
    "The search() function searches the string for a match, and returns a Match object if there is a match.\n",
    "\n",
    "If there is more than one match, only the first occurrence of the match will be returned:\n",
    "\n",
    "**Example**  \n",
    "Search for the first white-space character in the string:"
   ]
  },
  {
   "cell_type": "code",
   "execution_count": 457,
   "id": "b8a24f88-acf9-457e-8086-008f47aa44d9",
   "metadata": {},
   "outputs": [
    {
     "name": "stdout",
     "output_type": "stream",
     "text": [
      "The first white-space character is located in position: 3\n"
     ]
    },
    {
     "name": "stderr",
     "output_type": "stream",
     "text": [
      "<>:4: SyntaxWarning: invalid escape sequence '\\s'\n",
      "<>:4: SyntaxWarning: invalid escape sequence '\\s'\n",
      "/tmp/ipykernel_1412202/3440849899.py:4: SyntaxWarning: invalid escape sequence '\\s'\n",
      "  x = re.search(\"\\s\", txt)\n"
     ]
    }
   ],
   "source": [
    "import re\n",
    "\n",
    "txt = \"The rain in Spain\"\n",
    "x = re.search(\"\\s\", txt)\n",
    "\n",
    "print(\"The first white-space character is located in position:\", x.start())"
   ]
  },
  {
   "cell_type": "markdown",
   "id": "c85b7778-4246-4eb4-8c04-a55d6ac24917",
   "metadata": {},
   "source": [
    "If no matches are found, the value None is returned:\n",
    "\n",
    "**Example**  \n",
    "Make a search that returns no match:"
   ]
  },
  {
   "cell_type": "code",
   "execution_count": 460,
   "id": "e4828fa5-9204-4ff0-9358-4dd6e0723207",
   "metadata": {},
   "outputs": [
    {
     "name": "stdout",
     "output_type": "stream",
     "text": [
      "None\n"
     ]
    }
   ],
   "source": [
    "import re\n",
    "\n",
    "txt = \"The rain in Spain\"\n",
    "x = re.search(\"Portugal\", txt)\n",
    "print(x)"
   ]
  },
  {
   "cell_type": "markdown",
   "id": "e7b4a66b-5df1-47f4-9f1b-15a25db76ba6",
   "metadata": {},
   "source": [
    "The split() Function\n",
    "The split() function returns a list where the string has been split at each match:\n",
    "\n",
    "**Example**  \n",
    "Split at each white-space character:"
   ]
  },
  {
   "cell_type": "code",
   "execution_count": 463,
   "id": "d21a1c2d-c091-4064-84e5-8a5cf9cc8bfd",
   "metadata": {},
   "outputs": [
    {
     "name": "stdout",
     "output_type": "stream",
     "text": [
      "['The', 'rain', 'in', 'Spain']\n"
     ]
    },
    {
     "name": "stderr",
     "output_type": "stream",
     "text": [
      "<>:4: SyntaxWarning: invalid escape sequence '\\s'\n",
      "<>:4: SyntaxWarning: invalid escape sequence '\\s'\n",
      "/tmp/ipykernel_1412202/544782604.py:4: SyntaxWarning: invalid escape sequence '\\s'\n",
      "  x = re.split(\"\\s\", txt)\n"
     ]
    }
   ],
   "source": [
    "import re\n",
    "\n",
    "txt = \"The rain in Spain\"\n",
    "x = re.split(\"\\s\", txt)\n",
    "print(x)"
   ]
  },
  {
   "cell_type": "markdown",
   "id": "2ee39836-8a51-43c0-b0a2-9046957d8478",
   "metadata": {},
   "source": [
    "You can control the number of occurrences by specifying the maxsplit parameter:\n",
    "\n",
    "**Example**  \n",
    "Split the string only at the first occurrence:"
   ]
  },
  {
   "cell_type": "code",
   "execution_count": 466,
   "id": "45c53999-5257-4c7c-bb5a-ea7c420bfd57",
   "metadata": {},
   "outputs": [
    {
     "name": "stdout",
     "output_type": "stream",
     "text": [
      "['The', 'rain in Spain']\n"
     ]
    },
    {
     "name": "stderr",
     "output_type": "stream",
     "text": [
      "<>:4: SyntaxWarning: invalid escape sequence '\\s'\n",
      "<>:4: SyntaxWarning: invalid escape sequence '\\s'\n",
      "/tmp/ipykernel_1412202/2050144357.py:4: SyntaxWarning: invalid escape sequence '\\s'\n",
      "  x = re.split(\"\\s\", txt, 1)\n"
     ]
    }
   ],
   "source": [
    "import re\n",
    "\n",
    "txt = \"The rain in Spain\"\n",
    "x = re.split(\"\\s\", txt, 1)\n",
    "print(x)"
   ]
  },
  {
   "cell_type": "markdown",
   "id": "3e9659d0-d8cd-437a-8e6a-081730b59551",
   "metadata": {},
   "source": [
    "**The sub() Function**  \n",
    "The sub() function replaces the matches with the text of your choice:\n",
    "\n",
    "**Example**  \n",
    "Replace every white-space character with the number 9:"
   ]
  },
  {
   "cell_type": "code",
   "execution_count": 469,
   "id": "986b6066-7988-459f-8c58-ffb26ba23f40",
   "metadata": {},
   "outputs": [
    {
     "name": "stdout",
     "output_type": "stream",
     "text": [
      "The9rain9in9Spain\n"
     ]
    },
    {
     "name": "stderr",
     "output_type": "stream",
     "text": [
      "<>:4: SyntaxWarning: invalid escape sequence '\\s'\n",
      "<>:4: SyntaxWarning: invalid escape sequence '\\s'\n",
      "/tmp/ipykernel_1412202/1314579611.py:4: SyntaxWarning: invalid escape sequence '\\s'\n",
      "  x = re.sub(\"\\s\", \"9\", txt)\n"
     ]
    }
   ],
   "source": [
    "import re\n",
    "\n",
    "txt = \"The rain in Spain\"\n",
    "x = re.sub(\"\\s\", \"9\", txt)\n",
    "print(x)"
   ]
  },
  {
   "cell_type": "markdown",
   "id": "340daae9-bd8b-47d9-bc7a-9dabdb133ecc",
   "metadata": {},
   "source": [
    "You can control the number of replacements by specifying the count parameter:\n",
    "\n",
    "**Example**  \n",
    "Replace the first 2 occurrences:"
   ]
  },
  {
   "cell_type": "code",
   "execution_count": 472,
   "id": "08dbbee7-372e-4ae3-a31a-809ffd820725",
   "metadata": {},
   "outputs": [
    {
     "name": "stdout",
     "output_type": "stream",
     "text": [
      "The9rain9in Spain\n"
     ]
    },
    {
     "name": "stderr",
     "output_type": "stream",
     "text": [
      "<>:4: SyntaxWarning: invalid escape sequence '\\s'\n",
      "<>:4: SyntaxWarning: invalid escape sequence '\\s'\n",
      "/tmp/ipykernel_1412202/390712954.py:4: SyntaxWarning: invalid escape sequence '\\s'\n",
      "  x = re.sub(\"\\s\", \"9\", txt, 2)\n"
     ]
    }
   ],
   "source": [
    "import re\n",
    "\n",
    "txt = \"The rain in Spain\"\n",
    "x = re.sub(\"\\s\", \"9\", txt, 2)\n",
    "print(x)"
   ]
  },
  {
   "cell_type": "markdown",
   "id": "0c03da39-292d-4cd3-831d-7b107d0a2c58",
   "metadata": {},
   "source": [
    "**Match Object**  \n",
    "A Match Object is an object containing information about the search and the result.\n",
    "\n",
    ">Note: If there is no match, the value None will be returned, instead of the Match Object.\n",
    "\n",
    "**Example**  \n",
    "Do a search that will return a Match Object:"
   ]
  },
  {
   "cell_type": "code",
   "execution_count": 475,
   "id": "41def385-f3d3-4456-8db7-c8e94fe0762a",
   "metadata": {},
   "outputs": [
    {
     "name": "stdout",
     "output_type": "stream",
     "text": [
      "<re.Match object; span=(5, 7), match='ai'>\n"
     ]
    }
   ],
   "source": [
    "import re\n",
    "\n",
    "txt = \"The rain in Spain\"\n",
    "x = re.search(\"ai\", txt)\n",
    "print(x) #this will print an object"
   ]
  },
  {
   "cell_type": "markdown",
   "id": "8f55fb2e-ba9f-4f81-8b87-6648fcd7e26a",
   "metadata": {},
   "source": [
    "The Match object has properties and methods used to retrieve information about the search, and the result:\n",
    "\n",
    ">.span() returns a tuple containing the start-, and end positions of the match.  \n",
    ".string returns the string passed into the function  \n",
    ".group() returns the part of the string where there was a match  \n",
    "**Example**  \n",
    "Print the position (start- and end-position) of the first match occurrence.\n",
    "\n",
    "The regular expression looks for any words that starts with an upper case \"S\":"
   ]
  },
  {
   "cell_type": "code",
   "execution_count": 478,
   "id": "47e3bfec-582c-456c-bf9f-00b480273839",
   "metadata": {},
   "outputs": [
    {
     "name": "stdout",
     "output_type": "stream",
     "text": [
      "(12, 17)\n"
     ]
    }
   ],
   "source": [
    "import re\n",
    "\n",
    "txt = \"The rain in Spain\"\n",
    "x = re.search(r\"\\bS\\w+\", txt)\n",
    "print(x.span())"
   ]
  },
  {
   "cell_type": "markdown",
   "id": "dd66a855-4e82-4dbc-a82c-bb1785aa1d13",
   "metadata": {},
   "source": [
    "**Example**  \n",
    "Print the string passed into the function:"
   ]
  },
  {
   "cell_type": "code",
   "execution_count": 481,
   "id": "681046ff-298c-496c-94f9-67156c02610a",
   "metadata": {},
   "outputs": [
    {
     "name": "stdout",
     "output_type": "stream",
     "text": [
      "The rain in Spain\n"
     ]
    }
   ],
   "source": [
    "import re\n",
    "\n",
    "txt = \"The rain in Spain\"\n",
    "x = re.search(r\"\\bS\\w+\", txt)\n",
    "print(x.string)"
   ]
  },
  {
   "cell_type": "markdown",
   "id": "a179a415-7026-473a-a305-80528647a68d",
   "metadata": {},
   "source": [
    "**Example**  \n",
    "Print the part of the string where there was a match.\n",
    "\n",
    "The regular expression looks for any words that starts with an upper case \"S\":"
   ]
  },
  {
   "cell_type": "code",
   "execution_count": 484,
   "id": "da9d810a-2940-4cb7-a2f4-68c0536051d1",
   "metadata": {},
   "outputs": [
    {
     "name": "stdout",
     "output_type": "stream",
     "text": [
      "Spain\n"
     ]
    }
   ],
   "source": [
    "import re\n",
    "\n",
    "txt = \"The rain in Spain\"\n",
    "x = re.search(r\"\\bS\\w+\", txt)\n",
    "print(x.group())"
   ]
  },
  {
   "cell_type": "markdown",
   "id": "9c48ccca-4e8d-432c-9469-37b8ff2d254c",
   "metadata": {},
   "source": [
    ">Note: If there is no match, the value None will be returned, instead of the Match Object."
   ]
  },
  {
   "cell_type": "code",
   "execution_count": 506,
   "id": "4c98c6e7-ba81-4bf0-a6a3-fc1b4288542d",
   "metadata": {},
   "outputs": [],
   "source": [
    "del x"
   ]
  },
  {
   "cell_type": "markdown",
   "id": "05504c83-0e33-4887-8919-ce11572e7ae7",
   "metadata": {
    "jp-MarkdownHeadingCollapsed": true
   },
   "source": [
    "# Python Try Except"
   ]
  },
  {
   "cell_type": "markdown",
   "id": "f310a6a4-4af1-4879-bc6a-1c3e41d23206",
   "metadata": {},
   "source": [
    "The try block lets you test a block of code for errors.\n",
    "\n",
    "The except block lets you handle the error.\n",
    "\n",
    "The else block lets you execute code when there is no error.\n",
    "\n",
    "The finally block lets you execute code, regardless of the result of the try- and except blocks.\n",
    "\n",
    "**Exception Handling**  \n",
    "When an error occurs, or exception as we call it, Python will normally stop and generate an error message.\n",
    "\n",
    "These exceptions can be handled using the try statement:\n",
    "\n",
    "**Example**  \n",
    "The try block will generate an exception, because x is not defined:"
   ]
  },
  {
   "cell_type": "code",
   "execution_count": 510,
   "id": "36524477-5bd0-4664-9bd0-fc22d2a68568",
   "metadata": {},
   "outputs": [
    {
     "name": "stdout",
     "output_type": "stream",
     "text": [
      "An exception occurred\n"
     ]
    }
   ],
   "source": [
    "try:\n",
    "  print(x)\n",
    "except:\n",
    "  print(\"An exception occurred\")"
   ]
  },
  {
   "cell_type": "markdown",
   "id": "c90d80be-1e60-4688-830b-4433bf19b941",
   "metadata": {},
   "source": [
    "Since the try block raises an error, the except block will be executed.\n",
    "\n",
    "Without the try block, the program will crash and raise an error:\n",
    "\n",
    "**Example** \n",
    "This statement will raise an error, because x is not defined:"
   ]
  },
  {
   "cell_type": "code",
   "execution_count": 513,
   "id": "5190995e-dad6-4d10-a9ec-146f2a70d03d",
   "metadata": {},
   "outputs": [
    {
     "ename": "NameError",
     "evalue": "name 'x' is not defined",
     "output_type": "error",
     "traceback": [
      "\u001b[0;31m---------------------------------------------------------------------------\u001b[0m",
      "\u001b[0;31mNameError\u001b[0m                                 Traceback (most recent call last)",
      "Cell \u001b[0;32mIn[513], line 1\u001b[0m\n\u001b[0;32m----> 1\u001b[0m \u001b[38;5;28mprint\u001b[39m(x)\n",
      "\u001b[0;31mNameError\u001b[0m: name 'x' is not defined"
     ]
    }
   ],
   "source": [
    "print(x)"
   ]
  },
  {
   "cell_type": "markdown",
   "id": "d41760bf-3cd8-45fb-8f61-2539e486e994",
   "metadata": {},
   "source": [
    "**Many Exceptions**  \n",
    "You can define as many exception blocks as you want, e.g. if you want to execute a special block of code for a special kind of error:\n",
    "\n",
    "**Example**  \n",
    "Print one message if the try block raises a NameError and another for other errors:"
   ]
  },
  {
   "cell_type": "code",
   "execution_count": 516,
   "id": "933fadcb-cdf7-4db8-8368-358d225daf48",
   "metadata": {},
   "outputs": [
    {
     "name": "stdout",
     "output_type": "stream",
     "text": [
      "Variable x is not defined\n"
     ]
    }
   ],
   "source": [
    "try:\n",
    "  print(x)\n",
    "except NameError:\n",
    "  print(\"Variable x is not defined\")\n",
    "except:\n",
    "  print(\"Something else went wrong\")"
   ]
  },
  {
   "cell_type": "markdown",
   "id": "12446034-6ed8-43ff-9bcc-963d04230f9d",
   "metadata": {},
   "source": [
    "**Else**  \n",
    "You can use the else keyword to define a block of code to be executed if no errors were raised:\n",
    "\n",
    "**Example**  \n",
    "In this example, the try block does not generate any error:"
   ]
  },
  {
   "cell_type": "code",
   "execution_count": 519,
   "id": "52669ee4-f091-4942-ad5c-9c4ee6f5c11c",
   "metadata": {},
   "outputs": [
    {
     "name": "stdout",
     "output_type": "stream",
     "text": [
      "Hello\n",
      "Nothing went wrong\n"
     ]
    }
   ],
   "source": [
    "try:\n",
    "  print(\"Hello\")\n",
    "except:\n",
    "  print(\"Something went wrong\")\n",
    "else:\n",
    "  print(\"Nothing went wrong\")"
   ]
  },
  {
   "cell_type": "markdown",
   "id": "0d1d7fdd-7ecc-4553-90ad-0dd14713d18e",
   "metadata": {},
   "source": [
    "**Finally**  \n",
    "The finally block, if specified, will be executed regardless if the try block raises an error or not.\n",
    "\n",
    "**Example**"
   ]
  },
  {
   "cell_type": "code",
   "execution_count": 522,
   "id": "7ea975c2-ac94-4c97-b2a2-888421dd3033",
   "metadata": {},
   "outputs": [
    {
     "name": "stdout",
     "output_type": "stream",
     "text": [
      "Something went wrong\n",
      "The 'try except' is finished\n"
     ]
    }
   ],
   "source": [
    "try:\n",
    "  print(x)\n",
    "except:\n",
    "  print(\"Something went wrong\")\n",
    "finally:\n",
    "  print(\"The 'try except' is finished\")"
   ]
  },
  {
   "cell_type": "markdown",
   "id": "431b3790-5601-48f5-9116-477506bccf87",
   "metadata": {},
   "source": [
    "This can be useful to close objects and clean up resources:\n",
    "\n",
    "**Example**  \n",
    "Try to open and write to a file that is not writable:"
   ]
  },
  {
   "cell_type": "code",
   "execution_count": 526,
   "id": "3ca7ed51-9639-4295-94d0-68cc11c3f186",
   "metadata": {},
   "outputs": [
    {
     "name": "stdout",
     "output_type": "stream",
     "text": [
      "Something went wrong when opening the file\n"
     ]
    }
   ],
   "source": [
    "try:\n",
    "  f = open(\"demofile.txt\")\n",
    "  try:\n",
    "    f.write(\"Lorum Ipsum\")\n",
    "  except:\n",
    "    print(\"Something went wrong when writing to the file\")\n",
    "  finally:\n",
    "    f.close()\n",
    "except:\n",
    "  print(\"Something went wrong when opening the file\")"
   ]
  },
  {
   "cell_type": "markdown",
   "id": "6fbce554-7bf5-4f6e-be2c-bafd5b1e11e4",
   "metadata": {},
   "source": [
    "The program can continue, without leaving the file object open.\n",
    "\n",
    "**Raise an exception**  \n",
    "As a Python developer you can choose to throw an exception if a condition occurs.\n",
    "\n",
    "To throw (or raise) an exception, use the raise keyword.\n",
    "\n",
    "**Example**  \n",
    "Raise an error and stop the program if x is lower than 0:"
   ]
  },
  {
   "cell_type": "code",
   "execution_count": 531,
   "id": "8cb7ffda-5efb-4cbe-820e-bbfbd738b0bc",
   "metadata": {},
   "outputs": [
    {
     "ename": "Exception",
     "evalue": "Sorry, no numbers below zero",
     "output_type": "error",
     "traceback": [
      "\u001b[0;31m---------------------------------------------------------------------------\u001b[0m",
      "\u001b[0;31mException\u001b[0m                                 Traceback (most recent call last)",
      "Cell \u001b[0;32mIn[531], line 4\u001b[0m\n\u001b[1;32m      1\u001b[0m x \u001b[38;5;241m=\u001b[39m \u001b[38;5;241m-\u001b[39m\u001b[38;5;241m1\u001b[39m\n\u001b[1;32m      3\u001b[0m \u001b[38;5;28;01mif\u001b[39;00m x \u001b[38;5;241m<\u001b[39m \u001b[38;5;241m0\u001b[39m:\n\u001b[0;32m----> 4\u001b[0m   \u001b[38;5;28;01mraise\u001b[39;00m \u001b[38;5;167;01mException\u001b[39;00m(\u001b[38;5;124m\"\u001b[39m\u001b[38;5;124mSorry, no numbers below zero\u001b[39m\u001b[38;5;124m\"\u001b[39m)\n",
      "\u001b[0;31mException\u001b[0m: Sorry, no numbers below zero"
     ]
    }
   ],
   "source": [
    "x = -1\n",
    "\n",
    "if x < 0:\n",
    "  raise Exception(\"Sorry, no numbers below zero\")"
   ]
  },
  {
   "cell_type": "markdown",
   "id": "cf30cf8d-cdc3-4ada-978b-85c0c45f5460",
   "metadata": {},
   "source": [
    "The raise keyword is used to raise an exception.\n",
    "\n",
    "You can define what kind of error to raise, and the text to print to the user.\n",
    "\n",
    "**Example**  \n",
    "Raise a TypeError if x is not an integer:"
   ]
  },
  {
   "cell_type": "code",
   "execution_count": 534,
   "id": "c1001f2b-a4b9-4287-8d5e-d760284726dc",
   "metadata": {},
   "outputs": [
    {
     "ename": "TypeError",
     "evalue": "Only integers are allowed",
     "output_type": "error",
     "traceback": [
      "\u001b[0;31m---------------------------------------------------------------------------\u001b[0m",
      "\u001b[0;31mTypeError\u001b[0m                                 Traceback (most recent call last)",
      "Cell \u001b[0;32mIn[534], line 4\u001b[0m\n\u001b[1;32m      1\u001b[0m x \u001b[38;5;241m=\u001b[39m \u001b[38;5;124m\"\u001b[39m\u001b[38;5;124mhello\u001b[39m\u001b[38;5;124m\"\u001b[39m\n\u001b[1;32m      3\u001b[0m \u001b[38;5;28;01mif\u001b[39;00m \u001b[38;5;129;01mnot\u001b[39;00m \u001b[38;5;28mtype\u001b[39m(x) \u001b[38;5;129;01mis\u001b[39;00m \u001b[38;5;28mint\u001b[39m:\n\u001b[0;32m----> 4\u001b[0m   \u001b[38;5;28;01mraise\u001b[39;00m \u001b[38;5;167;01mTypeError\u001b[39;00m(\u001b[38;5;124m\"\u001b[39m\u001b[38;5;124mOnly integers are allowed\u001b[39m\u001b[38;5;124m\"\u001b[39m)\n",
      "\u001b[0;31mTypeError\u001b[0m: Only integers are allowed"
     ]
    }
   ],
   "source": [
    "x = \"hello\"\n",
    "\n",
    "if not type(x) is int:\n",
    "  raise TypeError(\"Only integers are allowed\")"
   ]
  },
  {
   "cell_type": "markdown",
   "id": "3db57330-2baf-470b-8dd7-0daf336bb1b3",
   "metadata": {},
   "source": [
    "## Built-in Exceptions"
   ]
  },
  {
   "cell_type": "markdown",
   "id": "ab8406c8-b65f-445f-842f-2aa12dcf6aa5",
   "metadata": {},
   "source": [
    "The table below shows built-in exceptions that are usually raised in Python:\n",
    "\n",
    "| Exception             | Description                                                                       |\n",
    "| --------------------- | --------------------------------------------------------------------------------- |\n",
    "| ArithmeticError       | Raised when an error occurs in numeric calculations                               |\n",
    "| AssertionError        | Raised when an assert statement fails                                             |\n",
    "| AttributeError        | Raised when attribute reference or assignment fails                               |\n",
    "| Exception             | Base class for all exceptions                                                     |\n",
    "| EOFError              | Raised when the input() method hits an \"end of file\" condition (EOF)              |\n",
    "| FloatingPointError    | Raised when a floating point calculation fails                                    |\n",
    "| GeneratorExit         | Raised when a generator is closed (with the close() method)                       |\n",
    "| ImportError           | Raised when an imported module does not exist                                     |\n",
    "| IndentationError      | Raised when indentation is not correct                                            |\n",
    "| IndexError            | Raised when an index of a sequence does not exist                                 |\n",
    "| KeyError              | Raised when a key does not exist in a dictionary                                  |\n",
    "| KeyboardInterrupt     | Raised when the user presses Ctrl+c, Ctrl+z or Delete                             |\n",
    "| LookupError           | Raised when errors raised cant be found                                           |\n",
    "| MemoryError           | Raised when a program runs out of memory                                          |\n",
    "| NameError             | Raised when a variable does not exist                                             |\n",
    "| NotImplementedError   | Raised when an abstract method requires an inherited class to override the method |\n",
    "| OSError               | Raised when a system related operation causes an error                            |\n",
    "| OverflowError         | Raised when the result of a numeric calculation is too large                      |\n",
    "| ReferenceError        | Raised when a weak reference object does not exist                                |\n",
    "| RuntimeError          | Raised when an error occurs that do not belong to any specific exceptions         |\n",
    "| StopIteration         | Raised when the next() method of an iterator has no further values                |\n",
    "| SyntaxError           | Raised when a syntax error occurs                                                 |\n",
    "| TabError              | Raised when indentation consists of tabs or spaces                                |\n",
    "| SystemError           | Raised when a system error occurs                                                 |\n",
    "| SystemExit            | Raised when the sys.exit() function is called                                     |\n",
    "| TypeError             | Raised when two different types are combined                                      |\n",
    "| UnboundLocalError     | Raised when a local variable is referenced before assignment                      |\n",
    "| UnicodeError          | Raised when a unicode problem occurs                                              |\n",
    "| UnicodeEncodeError    | Raised when a unicode encoding problem occurs                                     |\n",
    "| UnicodeDecodeError    | Raised when a unicode decoding problem occurs                                     |\n",
    "| UnicodeTranslateError | Raised when a unicode translation problem occurs                                  |\n",
    "| ValueError            | Raised when there is a wrong value in a specified data type                       |\n",
    "| ZeroDivisionError     | Raised when the second operator in a division is zero                             |"
   ]
  },
  {
   "cell_type": "markdown",
   "id": "35ed2edc-ccfe-47db-aee2-ec630bff4e60",
   "metadata": {
    "jp-MarkdownHeadingCollapsed": true
   },
   "source": [
    "# Python User Input"
   ]
  },
  {
   "cell_type": "markdown",
   "id": "9919312d-3276-4aa2-a766-5a1150145ba0",
   "metadata": {},
   "source": [
    "Python allows for user input.\n",
    "\n",
    "That means we are able to ask the user for input.\n",
    "\n",
    "The method is a bit different in Python 3.6 than Python 2.7.\n",
    "\n",
    "Python 3.6 uses the input() method.\n",
    "\n",
    "Python 2.7 uses the raw_input() method.\n",
    "\n",
    "The following example asks for the username, and when you entered the username, it gets printed on the screen:\n",
    "\n",
    "**Python 3.6**  "
   ]
  },
  {
   "cell_type": "code",
   "execution_count": 557,
   "id": "504e8ea0-ae33-4026-ad45-c3ab858ab5b4",
   "metadata": {},
   "outputs": [
    {
     "name": "stdin",
     "output_type": "stream",
     "text": [
      "Enter username: user2\n"
     ]
    },
    {
     "name": "stdout",
     "output_type": "stream",
     "text": [
      "Username is: user2\n"
     ]
    }
   ],
   "source": [
    "username = input(\"Enter username:\")\n",
    "print(\"Username is: \" + username)"
   ]
  },
  {
   "cell_type": "markdown",
   "id": "1db5e255-02bd-449a-bafb-0a72513fdbba",
   "metadata": {},
   "source": [
    "**Python 2.7**  "
   ]
  },
  {
   "cell_type": "code",
   "execution_count": 564,
   "id": "dd9f8776-be24-49c2-a1b6-925c8601d6e0",
   "metadata": {},
   "outputs": [
    {
     "ename": "NameError",
     "evalue": "name 'raw_input' is not defined",
     "output_type": "error",
     "traceback": [
      "\u001b[0;31m---------------------------------------------------------------------------\u001b[0m",
      "\u001b[0;31mNameError\u001b[0m                                 Traceback (most recent call last)",
      "Cell \u001b[0;32mIn[564], line 1\u001b[0m\n\u001b[0;32m----> 1\u001b[0m username \u001b[38;5;241m=\u001b[39m raw_input(\u001b[38;5;124m\"\u001b[39m\u001b[38;5;124mEnter username:\u001b[39m\u001b[38;5;124m\"\u001b[39m)\n\u001b[1;32m      2\u001b[0m \u001b[38;5;28mprint\u001b[39m(\u001b[38;5;124m\"\u001b[39m\u001b[38;5;124mUsername is: \u001b[39m\u001b[38;5;124m\"\u001b[39m \u001b[38;5;241m+\u001b[39m username)\n",
      "\u001b[0;31mNameError\u001b[0m: name 'raw_input' is not defined"
     ]
    }
   ],
   "source": [
    "username = raw_input(\"Enter username:\")\n",
    "print(\"Username is: \" + username)"
   ]
  },
  {
   "cell_type": "markdown",
   "id": "4e6fb78f-1e85-4dca-bff2-2eb63938c92d",
   "metadata": {},
   "source": [
    ">Python stops executing when it comes to the input() function, and continues when the user has given some input."
   ]
  },
  {
   "cell_type": "markdown",
   "id": "444487f9-0adf-4614-9689-1d272dd85917",
   "metadata": {
    "jp-MarkdownHeadingCollapsed": true
   },
   "source": [
    "# Python String Formatting"
   ]
  },
  {
   "cell_type": "markdown",
   "id": "624cc6f0-f164-482e-b899-85245679783f",
   "metadata": {},
   "source": [
    "F-String was introduced in Python 3.6, and is now the preferred way of formatting strings.\n",
    "\n",
    "Before Python 3.6 we had to use the format() method.\n",
    "\n",
    "**F-Strings**  \n",
    "F-string allows you to format selected parts of a string.\n",
    "\n",
    "To specify a string as an f-string, simply put an f in front of the string literal, like this:\n",
    "\n",
    "**Example**  \n",
    "Create an f-string:"
   ]
  },
  {
   "cell_type": "code",
   "execution_count": 574,
   "id": "0bc84b9a-0b22-462e-9977-f00026c723bd",
   "metadata": {},
   "outputs": [
    {
     "name": "stdout",
     "output_type": "stream",
     "text": [
      "The price is 49 dollars\n"
     ]
    }
   ],
   "source": [
    "txt = f\"The price is 49 dollars\"\n",
    "print(txt)"
   ]
  },
  {
   "cell_type": "markdown",
   "id": "58c29fff-8e36-4f2b-9d0a-1057d4fe5e94",
   "metadata": {},
   "source": [
    "**Placeholders and Modifiers**  \n",
    "To format values in an f-string, add placeholders {}, a placeholder can contain variables, operations, functions, and modifiers to format the value.\n",
    "\n",
    "**Example**  \n",
    "Add a placeholder for the price variable:"
   ]
  },
  {
   "cell_type": "code",
   "execution_count": 577,
   "id": "d4507240-886e-45ab-ac97-28f5f1b118c0",
   "metadata": {},
   "outputs": [
    {
     "name": "stdout",
     "output_type": "stream",
     "text": [
      "The price is 59 dollars\n"
     ]
    }
   ],
   "source": [
    "price = 59\n",
    "txt = f\"The price is {price} dollars\"\n",
    "print(txt)"
   ]
  },
  {
   "cell_type": "markdown",
   "id": "33e5de35-9e7d-4583-9549-7d7a619621e0",
   "metadata": {},
   "source": [
    "A placeholder can also include a modifier to format the value.\n",
    "\n",
    "A modifier is included by adding a colon : followed by a legal formatting type, like .2f which means fixed point number with 2 decimals:\n",
    "\n",
    "**Example**  \n",
    "Display the price with 2 decimals:"
   ]
  },
  {
   "cell_type": "code",
   "execution_count": 582,
   "id": "92684ce6-6ac4-49ec-8580-8596789856dc",
   "metadata": {},
   "outputs": [
    {
     "name": "stdout",
     "output_type": "stream",
     "text": [
      "The price is 59.00 dollars\n"
     ]
    }
   ],
   "source": [
    "price = 59\n",
    "txt = f\"The price is {price:.2f} dollars\"\n",
    "print(txt)"
   ]
  },
  {
   "cell_type": "markdown",
   "id": "6a5ad897-f9a2-44b3-8318-92c2a771ba6d",
   "metadata": {},
   "source": [
    "You can also format a value directly without keeping it in a variable:\n",
    "\n",
    "**Example**  \n",
    "Display the value 95 with 2 decimals:"
   ]
  },
  {
   "cell_type": "code",
   "execution_count": 587,
   "id": "4b14079a-f1a9-4f7d-ba0a-5394ff9b8426",
   "metadata": {},
   "outputs": [
    {
     "name": "stdout",
     "output_type": "stream",
     "text": [
      "The price is 95.00 dollars\n"
     ]
    }
   ],
   "source": [
    "txt = f\"The price is {95:.2f} dollars\"\n",
    "print(txt)"
   ]
  },
  {
   "cell_type": "markdown",
   "id": "88601fc9-656c-4c19-8af4-d2dfe86a4ccf",
   "metadata": {
    "jp-MarkdownHeadingCollapsed": true
   },
   "source": [
    "# Python File Handling"
   ]
  },
  {
   "cell_type": "markdown",
   "id": "7c4df71b-b8d5-418c-8b5b-d9d87ebe88a5",
   "metadata": {},
   "source": [
    "## File Open"
   ]
  },
  {
   "cell_type": "markdown",
   "id": "25a7f5e0-0802-4618-93dc-2cf5ac3bb711",
   "metadata": {},
   "source": [
    "The key function for working with files in Python is the open() function.\n",
    "\n",
    "The open() function takes two parameters; filename, and mode.\n",
    "\n",
    "There are four different methods (modes) for opening a file:\n",
    "\n",
    "\"r\" - Read - Default value. Opens a file for reading, error if the file does not exist\n",
    "\n",
    "\"a\" - Append - Opens a file for appending, creates the file if it does not exist\n",
    "\n",
    "\"w\" - Write - Opens a file for writing, creates the file if it does not exist\n",
    "\n",
    "\"x\" - Create - Creates the specified file, returns an error if the file exists\n",
    "\n",
    "In addition you can specify if the file should be handled as binary or text mode\n",
    "\n",
    "\"t\" - Text - Default value. Text mode\n",
    "\n",
    "\"b\" - Binary - Binary mode (e.g. images)\n",
    "\n",
    "**Syntax**  \n",
    "To open a file for reading it is enough to specify the name of the file:"
   ]
  },
  {
   "cell_type": "code",
   "execution_count": 618,
   "id": "aee51dc6-10f5-48cd-a553-29f5a5848623",
   "metadata": {},
   "outputs": [],
   "source": [
    "f = open(\"demofile.txt\")"
   ]
  },
  {
   "cell_type": "markdown",
   "id": "e8c511f9-2005-4696-8e9a-58abf0a4e432",
   "metadata": {},
   "source": [
    "The code above is the same as:"
   ]
  },
  {
   "cell_type": "code",
   "execution_count": 620,
   "id": "31266201-0976-4680-8f1e-16b11a4f81da",
   "metadata": {},
   "outputs": [],
   "source": [
    "f = open(\"demofile.txt\", \"rt\")"
   ]
  },
  {
   "cell_type": "markdown",
   "id": "f89e4b2c-2c48-41ad-be40-8cbee600c374",
   "metadata": {},
   "source": [
    "Because \"r\" for read, and \"t\" for text are the default values, you do not need to specify them."
   ]
  },
  {
   "cell_type": "markdown",
   "id": "d28b0dbe-ac86-4d27-9d2b-f7d9937107ca",
   "metadata": {},
   "source": [
    ">Note: Make sure the file exists, or else you will get an error."
   ]
  },
  {
   "cell_type": "markdown",
   "id": "71ee554e-df1b-4815-b5d3-0533c8f718ef",
   "metadata": {},
   "source": [
    "## Open a File on the Server"
   ]
  },
  {
   "cell_type": "markdown",
   "id": "2574c22d-aee1-4fff-b3f7-28a31d98bfae",
   "metadata": {},
   "source": [
    "Assume we have the following file, located in the same folder as Python:\n",
    "\n",
    "demofile.txt\n",
    "\n",
    ">Hello! Welcome to demofile.txt  \n",
    "This file is for testing purposes.  \n",
    "Good Luck!\n",
    "\n",
    "To open the file, use the built-in open() function.  \n",
    "\n",
    "The open() function returns a file object, which has a read() method for reading the content of the file:\n",
    "\n",
    "**Example**  "
   ]
  },
  {
   "cell_type": "code",
   "execution_count": 631,
   "id": "f0f1b0a9-ca8c-45dd-9597-61072ce15b3b",
   "metadata": {},
   "outputs": [
    {
     "name": "stdout",
     "output_type": "stream",
     "text": [
      "Hello! Welcome to demofile.txt\n",
      "This file is for testing purposes.\n",
      "Good Luck!\n"
     ]
    }
   ],
   "source": [
    "f = open(\"demofile.txt\", \"r\")\n",
    "print(f.read())"
   ]
  },
  {
   "cell_type": "markdown",
   "id": "f9180580-f693-41ea-a244-29358951a68a",
   "metadata": {},
   "source": [
    "If the file is located in a different location, you will have to specify the file path, like this:\n",
    "\n",
    "**Example**  \n",
    "Open a file on a different location:"
   ]
  },
  {
   "cell_type": "code",
   "execution_count": 640,
   "id": "fcd1875b-d934-4770-a311-01c7de108818",
   "metadata": {},
   "outputs": [
    {
     "name": "stdout",
     "output_type": "stream",
     "text": [
      "Welcome to this text file!\n",
      "This file is located in a folder named \"myfiles\", on the D drive.\n",
      "Good Luck!\n"
     ]
    }
   ],
   "source": [
    "f = open(\"D:\\\\AI\\welcome.txt\", \"r\")\n",
    "print(f.read())"
   ]
  },
  {
   "cell_type": "markdown",
   "id": "4975c0f4-1537-444c-b277-6a3a1a6de0ac",
   "metadata": {},
   "source": [
    "Read Only Parts of the File\n",
    "By default the read() method returns the whole text, but you can also specify how many characters you want to return:\n",
    "\n",
    "**Example**  \n",
    "Return the 5 first characters of the file:"
   ]
  },
  {
   "cell_type": "code",
   "execution_count": 645,
   "id": "f2c2f1e4-996a-42e2-8633-0b51e825f8ce",
   "metadata": {},
   "outputs": [
    {
     "name": "stdout",
     "output_type": "stream",
     "text": [
      "Hello\n"
     ]
    }
   ],
   "source": [
    "f = open(\"demofile.txt\", \"r\")\n",
    "print(f.read(5))"
   ]
  },
  {
   "cell_type": "markdown",
   "id": "b806b356-5dbd-41ea-8c3c-88912aba1bdb",
   "metadata": {},
   "source": [
    "**Read Lines**  \n",
    "You can return one line by using the readline() method:\n",
    "\n",
    "**Example**  \n",
    "Read one line of the file:"
   ]
  },
  {
   "cell_type": "code",
   "execution_count": 650,
   "id": "0d236730-d11d-476d-a6f8-e11a467b68d4",
   "metadata": {},
   "outputs": [
    {
     "name": "stdout",
     "output_type": "stream",
     "text": [
      "Hello! Welcome to demofile.txt\n",
      "\n"
     ]
    }
   ],
   "source": [
    "f = open(\"demofile.txt\", \"r\")\n",
    "print(f.readline())"
   ]
  },
  {
   "cell_type": "markdown",
   "id": "bfd6b9f7-abc0-4f7e-bfa2-4074d3d06258",
   "metadata": {},
   "source": [
    "By calling readline() two times, you can read the two first lines:\n",
    "\n",
    "**Example**  \n",
    "Read two lines of the file:"
   ]
  },
  {
   "cell_type": "code",
   "execution_count": 655,
   "id": "ab835fe1-4a4d-48f0-a443-a69f6323c604",
   "metadata": {},
   "outputs": [
    {
     "name": "stdout",
     "output_type": "stream",
     "text": [
      "Hello! Welcome to demofile.txt\n",
      "\n",
      "This file is for testing purposes.\n",
      "\n"
     ]
    }
   ],
   "source": [
    "f = open(\"demofile.txt\", \"r\")\n",
    "print(f.readline())\n",
    "print(f.readline())"
   ]
  },
  {
   "cell_type": "markdown",
   "id": "06963712-4a2d-4a34-a86c-19392a8840f8",
   "metadata": {},
   "source": [
    "By looping through the lines of the file, you can read the whole file, line by line:\n",
    "\n",
    "**Example**  \n",
    "Loop through the file line by line:"
   ]
  },
  {
   "cell_type": "code",
   "execution_count": 701,
   "id": "63b4ce2f-82e4-4429-beb0-4d9cd58595b6",
   "metadata": {},
   "outputs": [
    {
     "name": "stdout",
     "output_type": "stream",
     "text": [
      "Hello! Welcome to demofile.txt\n",
      "\n",
      "This file is for testing purposes.\n",
      "\n",
      "Good Luck!\n"
     ]
    }
   ],
   "source": [
    "f = open(\"demofile.txt\", \"r\")\n",
    "for x in f:\n",
    "  print(x)"
   ]
  },
  {
   "cell_type": "markdown",
   "id": "2e99cbeb-1280-44dc-91cb-7fd01783202a",
   "metadata": {},
   "source": [
    "**Close Files**  \n",
    "It is a good practice to always close the file when you are done with it.\n",
    "\n",
    "**Example**  \n",
    "Close the file when you are finish with it:"
   ]
  },
  {
   "cell_type": "code",
   "execution_count": 706,
   "id": "407a97c9-64a9-4b7f-a56c-eafe3b978326",
   "metadata": {},
   "outputs": [
    {
     "name": "stdout",
     "output_type": "stream",
     "text": [
      "Hello! Welcome to demofile.txt\n",
      "\n"
     ]
    }
   ],
   "source": [
    "f = open(\"demofile.txt\", \"r\")\n",
    "print(f.readline())\n",
    "f.close()"
   ]
  },
  {
   "cell_type": "markdown",
   "id": "d43c2f22-a855-4ec4-a1e5-4d83b0714847",
   "metadata": {},
   "source": [
    ">Note: You should always close your files, in some cases, due to buffering, changes made to a file may not show until you close the file."
   ]
  },
  {
   "cell_type": "markdown",
   "id": "1a160a72-6b87-4419-a554-223b1858c881",
   "metadata": {},
   "source": [
    "## File Write"
   ]
  },
  {
   "cell_type": "markdown",
   "id": "469d0d0a-5110-4a35-bf75-07a694057bb7",
   "metadata": {},
   "source": [
    "**Write to an Existing File**  \n",
    "To write to an existing file, you must add a parameter to the open() function:\n",
    "\n",
    "\"a\" - Append - will append to the end of the file\n",
    "\n",
    "\"w\" - Write - will overwrite any existing content\n",
    "\n",
    "**Example**  \n",
    "Open the file \"demofile2.txt\" and append content to the file:"
   ]
  },
  {
   "cell_type": "code",
   "execution_count": 715,
   "id": "4ecde4ee-59f7-42be-b122-0c8152064904",
   "metadata": {},
   "outputs": [
    {
     "name": "stdout",
     "output_type": "stream",
     "text": [
      "Now the file has more content!\n"
     ]
    }
   ],
   "source": [
    "f = open(\"demofile2.txt\", \"a\")\n",
    "f.write(\"Now the file has more content!\")\n",
    "f.close()\n",
    "\n",
    "#open and read the file after the appending:\n",
    "f = open(\"demofile2.txt\", \"r\")\n",
    "print(f.read())"
   ]
  },
  {
   "cell_type": "markdown",
   "id": "1210eae9-d448-4dc3-a146-2bacdbd0fe66",
   "metadata": {},
   "source": [
    "**Example**  \n",
    "Open the file \"demofile3.txt\" and overwrite the content:"
   ]
  },
  {
   "cell_type": "code",
   "execution_count": 720,
   "id": "3961c1bc-5d1d-4b14-be35-da5aee285bcf",
   "metadata": {},
   "outputs": [
    {
     "name": "stdout",
     "output_type": "stream",
     "text": [
      "Woops! I have deleted the content!\n"
     ]
    }
   ],
   "source": [
    "f = open(\"demofile3.txt\", \"w\")\n",
    "f.write(\"Woops! I have deleted the content!\")\n",
    "f.close()\n",
    "\n",
    "#open and read the file after the overwriting:\n",
    "f = open(\"demofile3.txt\", \"r\")\n",
    "print(f.read())"
   ]
  },
  {
   "cell_type": "markdown",
   "id": "3a29b4d8-40b1-425f-9eef-27f4e50c352e",
   "metadata": {},
   "source": [
    ">Note: the \"w\" method will overwrite the entire file.\n",
    "\n",
    "**Create a New File**  \n",
    "To create a new file in Python, use the open() method, with one of the following parameters:\n",
    "\n",
    "\"x\" - Create - will create a file, returns an error if the file exist\n",
    "\n",
    "\"a\" - Append - will create a file if the specified file does not exist\n",
    "\n",
    "\"w\" - Write - will create a file if the specified file does not exist\n",
    "\n",
    "**Example**  \n",
    "Create a file called \"myfile.txt\":"
   ]
  },
  {
   "cell_type": "code",
   "execution_count": 723,
   "id": "99b2fd73-bfb9-406a-b3a9-6d698c9410da",
   "metadata": {},
   "outputs": [],
   "source": [
    "f = open(\"myfile.txt\", \"x\")"
   ]
  },
  {
   "cell_type": "markdown",
   "id": "fd21cdf6-cc4e-46c3-bc59-c2befd58ff5c",
   "metadata": {},
   "source": [
    "Result: a new empty file is created!\n",
    "\n",
    "**Example**  \n",
    "Create a new file if it does not exist:"
   ]
  },
  {
   "cell_type": "code",
   "execution_count": 730,
   "id": "2acf4142-3dec-4668-9d7d-6ff3444a01ce",
   "metadata": {},
   "outputs": [],
   "source": [
    "f = open(\"myfile.txt\", \"w\")"
   ]
  },
  {
   "cell_type": "markdown",
   "id": "ecfa69f5-a888-44a2-8e8e-b56fd3957d2b",
   "metadata": {},
   "source": [
    "## Delete File"
   ]
  },
  {
   "cell_type": "markdown",
   "id": "a82e3e9b-60be-4a0c-9422-61769b0ffcb6",
   "metadata": {},
   "source": [
    "**Delete a File**  \n",
    "To delete a file, you must import the OS module, and run its os.remove() function:\n",
    "\n",
    "**Example**  \n",
    "Remove the file \"demofile.txt\":"
   ]
  },
  {
   "cell_type": "code",
   "execution_count": 736,
   "id": "130eec3c-fc5b-4426-ba58-7246d70eccf9",
   "metadata": {},
   "outputs": [],
   "source": [
    "import os\n",
    "os.remove(\"demofile.txt\")"
   ]
  },
  {
   "cell_type": "markdown",
   "id": "ab2b8c4c-4572-41aa-9cec-e2211864f4ee",
   "metadata": {},
   "source": [
    "**Check if File exist:**  \n",
    "To avoid getting an error, you might want to check if the file exists before you try to delete it:\n",
    "\n",
    "**Example**  \n",
    "Check if file exists, then delete it:"
   ]
  },
  {
   "cell_type": "code",
   "execution_count": 742,
   "id": "a62fecec-df29-4257-a4dd-4c2ce4ce0e3e",
   "metadata": {},
   "outputs": [
    {
     "name": "stdout",
     "output_type": "stream",
     "text": [
      "The file does not exist\n"
     ]
    }
   ],
   "source": [
    "import os\n",
    "if os.path.exists(\"demofile.txt\"):\n",
    "  os.remove(\"demofile.txt\")\n",
    "else:\n",
    "  print(\"The file does not exist\")"
   ]
  },
  {
   "cell_type": "markdown",
   "id": "0a3694af-1711-4007-a3c9-c3df3822dac7",
   "metadata": {},
   "source": [
    "**Delete Folder**  \n",
    "To delete an entire folder, use the os.rmdir() method:\n",
    "\n",
    "**Example**  \n",
    "Remove the folder \"myfolder\":"
   ]
  },
  {
   "cell_type": "code",
   "execution_count": 754,
   "id": "0df4e88e-d266-4057-a167-fc917969678b",
   "metadata": {},
   "outputs": [
    {
     "ename": "OSError",
     "evalue": "[Errno 39] Directory not empty: 'myfolder'",
     "output_type": "error",
     "traceback": [
      "\u001b[0;31m---------------------------------------------------------------------------\u001b[0m",
      "\u001b[0;31mOSError\u001b[0m                                   Traceback (most recent call last)",
      "Cell \u001b[0;32mIn[754], line 2\u001b[0m\n\u001b[1;32m      1\u001b[0m \u001b[38;5;28;01mimport\u001b[39;00m \u001b[38;5;21;01mos\u001b[39;00m\n\u001b[0;32m----> 2\u001b[0m os\u001b[38;5;241m.\u001b[39mrmdir(\u001b[38;5;124m\"\u001b[39m\u001b[38;5;124mmyfolder\u001b[39m\u001b[38;5;124m\"\u001b[39m)\n",
      "\u001b[0;31mOSError\u001b[0m: [Errno 39] Directory not empty: 'myfolder'"
     ]
    }
   ],
   "source": [
    "import os\n",
    "os.rmdir(\"myfolder\")"
   ]
  },
  {
   "cell_type": "markdown",
   "id": "6b5545b1-f90b-40de-be34-9f74b4c367e6",
   "metadata": {},
   "source": [
    ">Note: You can only remove empty folders."
   ]
  },
  {
   "cell_type": "markdown",
   "id": "676a1d4f-2bdc-46c1-a772-5b18dcec3c0d",
   "metadata": {},
   "source": [
    "## File Methods"
   ]
  },
  {
   "cell_type": "markdown",
   "id": "130c2bf1-65e6-46e0-a8ec-4eb7a738ab86",
   "metadata": {},
   "source": [
    "Python has a set of methods available for the file object.  \n",
    "| Method       | Description                                                                          |\n",
    "| ------------ | ------------------------------------------------------------------------------------ |\n",
    "| close()      | Closes the file                                                                      |\n",
    "| detach()     | Returns the separated raw stream from the buffer                                     |\n",
    "| fileno()     | Returns a number that represents the stream, from the operating system's perspective |\n",
    "| flush()      | Flushes the internal buffer                                                          |\n",
    "| isatty()     | Returns whether the file stream is interactive or not                                |\n",
    "| read()       | Returns the file content                                                             |\n",
    "| readable()   | Returns whether the file stream can be read or not                                   |\n",
    "| readline()   | Returns one line from the file                                                       |\n",
    "| readlines()  | Returns a list of lines from the file                                                |\n",
    "| seek()       | Change the file position                                                             |\n",
    "| seekable()   | Returns whether the file allows us to change the file position                       |\n",
    "| tell()       | Returns the current file position                                                    |\n",
    "| truncate()   | Resizes the file to a specified size                                                 |\n",
    "| writable()   | Returns whether the file can be written to or not                                    |\n",
    "| write()      | Writes the specified string to the file                                              |\n",
    "| writelines() | Writes a list of strings to the file                                                 |"
   ]
  },
  {
   "cell_type": "markdown",
   "id": "4f3747d7-0106-485a-9a93-0f9bb1959df0",
   "metadata": {},
   "source": [
    "**file.close()**  \n",
    "_Method closes an open file.  \n",
    "You should always close your files, in some cases, due to buffering, changes made to a file may not show until you close the file._"
   ]
  },
  {
   "cell_type": "code",
   "execution_count": 777,
   "id": "bae8877c-2d76-4565-bcdc-2695bf1ea9cb",
   "metadata": {},
   "outputs": [
    {
     "name": "stdout",
     "output_type": "stream",
     "text": [
      "Hello! Welcome to demofile.txt\n",
      "This file is for testing purposes.\n",
      "Good Luck!\n"
     ]
    }
   ],
   "source": [
    "#Close a file after it has been opened:\n",
    "f = open(\"demofile.txt\", \"r\")\n",
    "print(f.read())\n",
    "f.close()"
   ]
  },
  {
   "cell_type": "markdown",
   "id": "4a0dd7ab-5e51-43db-befa-f09122904aeb",
   "metadata": {},
   "source": [
    "**Continued...**"
   ]
  },
  {
   "cell_type": "markdown",
   "id": "b83970d3-087c-4642-b7cf-a66b1e060f20",
   "metadata": {
    "jp-MarkdownHeadingCollapsed": true
   },
   "source": [
    "# Python Keywords"
   ]
  },
  {
   "cell_type": "markdown",
   "id": "ba7899da-9664-4841-84b4-d3a5c01abf95",
   "metadata": {},
   "source": [
    "Python has a set of keywords that are reserved words that cannot be used as variable names, function names, or any other identifiers:  \n",
    "\n",
    "| Keyword  | Description                                                                                           |\n",
    "| -------- | ----------------------------------------------------------------------------------------------------- |\n",
    "| and      | A logical operator                                                                                    |\n",
    "| as       | To create an alias                                                                                    |\n",
    "| assert   | For debugging                                                                                         |\n",
    "| break    | To break out of a loop                                                                                |\n",
    "| class    | To define a class                                                                                     |\n",
    "| continue | To continue to the next iteration of a loop                                                           |\n",
    "| def      | To define a function                                                                                  |\n",
    "| del      | To delete an object                                                                                   |\n",
    "| elif     | Used in conditional statements, same as else if                                                       |\n",
    "| else     | Used in conditional statements                                                                        |\n",
    "| except   | Used with exceptions, what to do when an exception occurs                                             |\n",
    "| FALSE    | Boolean value, result of comparison operations                                                        |\n",
    "| finally  | Used with exceptions, a block of code that will be executed no matter if there is an exception or not |\n",
    "| for      | To create a for loop                                                                                  |\n",
    "| from     | To import specific parts of a module                                                                  |\n",
    "| global   | To declare a global variable                                                                          |\n",
    "| if       | To make a conditional statement                                                                       |\n",
    "| import   | To import a module                                                                                    |\n",
    "| in       | To check if a value is present in a list, tuple, etc.                                                 |\n",
    "| is       | To test if two variables are equal                                                                    |\n",
    "| lambda   | To create an anonymous function                                                                       |\n",
    "| None     | Represents a null value                                                                               |\n",
    "| nonlocal | To declare a non-local variable                                                                       |\n",
    "| not      | A logical operator                                                                                    |\n",
    "| or       | A logical operator                                                                                    |\n",
    "| pass     | A null statement, a statement that will do nothing                                                    |\n",
    "| raise    | To raise an exception                                                                                 |\n",
    "| return   | To exit a function and return a value                                                                 |\n",
    "| TRUE     | Boolean value, result of comparison operations                                                        |\n",
    "| try      | To make a try...except statement                                                                      |\n",
    "| while    | To create a while loop                                                                                |\n",
    "| with     | Used to simplify exception handling                                                                   |\n",
    "| yield    | To return a list of values from a generator                                                           |"
   ]
  },
  {
   "cell_type": "markdown",
   "id": "d220187e-d70d-45b0-80d5-0482506d60f6",
   "metadata": {
    "jp-MarkdownHeadingCollapsed": true
   },
   "source": [
    "# Python Built in Functions"
   ]
  },
  {
   "cell_type": "markdown",
   "id": "369c6b65-8450-4514-bc9a-c683531b111b",
   "metadata": {},
   "source": [
    "Python has a set of built-in functions.  \n",
    "| Function       | Description                                                                                   |\n",
    "| -------------- | --------------------------------------------------------------------------------------------- |\n",
    "| abs()          | Returns the absolute value of a number                                                        |\n",
    "| all()          | Returns True if all items in an iterable object are true                                      |\n",
    "| any()          | Returns True if any item in an iterable object is true                                        |\n",
    "| ascii()        | Returns a readable version of an object. Replaces none-ascii characters with escape character |\n",
    "| bin()          | Returns the binary version of a number                                                        |\n",
    "| bool()         | Returns the boolean value of the specified object                                             |\n",
    "| bytearray()    | Returns an array of bytes                                                                     |\n",
    "| bytes()        | Returns a bytes object                                                                        |\n",
    "| callable()     | Returns True if the specified object is callable, otherwise False                             |\n",
    "| chr()          | Returns a character from the specified Unicode code.                                          |\n",
    "| classmethod()  | Converts a method into a class method                                                         |\n",
    "| compile()      | Returns the specified source as an object, ready to be executed                               |\n",
    "| complex()      | Returns a complex number                                                                      |\n",
    "| delattr()      | Deletes the specified attribute (property or method) from the specified object                |\n",
    "| dict()         | Returns a dictionary (Array)                                                                  |\n",
    "| dir()          | Returns a list of the specified object's properties and methods                               |\n",
    "| divmod()       | Returns the quotient and the remainder when argument1 is divided by argument2                 |\n",
    "| enumerate()    | Takes a collection (e.g. a tuple) and returns it as an enumerate object                       |\n",
    "| eval()         | Evaluates and executes an expression                                                          |\n",
    "| exec()         | Executes the specified code (or object)                                                       |\n",
    "| filter()       | Use a filter function to exclude items in an iterable object                                  |\n",
    "| float()        | Returns a floating point number                                                               |\n",
    "| format()       | Formats a specified value                                                                     |\n",
    "| frozenset()    | Returns a frozenset object                                                                    |\n",
    "| getattr()      | Returns the value of the specified attribute (property or method)                             |\n",
    "| globals()      | Returns the current global symbol table as a dictionary                                       |\n",
    "| hasattr()      | Returns True if the specified object has the specified attribute (property/method)            |\n",
    "| hash()         | Returns the hash value of a specified object                                                  |\n",
    "| help()         | Executes the built-in help system                                                             |\n",
    "| hex()          | Converts a number into a hexadecimal value                                                    |\n",
    "| id()           | Returns the id of an object                                                                   |\n",
    "| input()        | Allowing user input                                                                           |\n",
    "| int()          | Returns an integer number                                                                     |\n",
    "| isinstance()   | Returns True if a specified object is an instance of a specified object                       |\n",
    "| issubclass()   | Returns True if a specified class is a subclass of a specified object                         |\n",
    "| iter()         | Returns an iterator object                                                                    |\n",
    "| len()          | Returns the length of an object                                                               |\n",
    "| list()         | Returns a list                                                                                |\n",
    "| locals()       | Returns an updated dictionary of the current local symbol table                               |\n",
    "| map()          | Returns the specified iterator with the specified function applied to each item               |\n",
    "| max()          | Returns the largest item in an iterable                                                       |\n",
    "| memoryview()   | Returns a memory view object                                                                  |\n",
    "| min()          | Returns the smallest item in an iterable                                                      |\n",
    "| next()         | Returns the next item in an iterable                                                          |\n",
    "| object()       | Returns a new object                                                                          |\n",
    "| oct()          | Converts a number into an octal                                                               |\n",
    "| open()         | Opens a file and returns a file object                                                        |\n",
    "| ord()          | Convert an integer representing the Unicode of the specified character                        |\n",
    "| pow()          | Returns the value of x to the power of y                                                      |\n",
    "| print()        | Prints to the standard output device                                                          |\n",
    "| property()     | Gets, sets, deletes a property                                                                |\n",
    "| range()        | Returns a sequence of numbers, starting from 0 and increments by 1 (by default)               |\n",
    "| repr()         | Returns a readable version of an object                                                       |\n",
    "| reversed()     | Returns a reversed iterator                                                                   |\n",
    "| round()        | Rounds a numbers                                                                              |\n",
    "| set()          | Returns a new set object                                                                      |\n",
    "| setattr()      | Sets an attribute (property/method) of an object                                              |\n",
    "| slice()        | Returns a slice object                                                                        |\n",
    "| sorted()       | Returns a sorted list                                                                         |\n",
    "| staticmethod() | Converts a method into a static method                                                        |\n",
    "| str()          | Returns a string object                                                                       |\n",
    "| sum()          | Sums the items of an iterator                                                                 |\n",
    "| super()        | Returns an object that represents the parent class                                            |\n",
    "| tuple()        | Returns a tuple                                                                               |\n",
    "| type()         | Returns the type of an object                                                                 |\n",
    "| vars()         | Returns the \\__dict_ \\_ property of an object                                                 |\n",
    "| zip()          | Returns an iterator, from two or more iterators                                               |"
   ]
  },
  {
   "cell_type": "markdown",
   "id": "e4104eca-3f01-4555-8103-5aea6bbda5c7",
   "metadata": {
    "jp-MarkdownHeadingCollapsed": true
   },
   "source": [
    "# Python Random Module"
   ]
  },
  {
   "cell_type": "markdown",
   "id": "1123f2dc-f02d-489a-b95d-ad01dde9ecf8",
   "metadata": {},
   "source": [
    "Python has a built-in module that you can use to make random numbers.\n",
    "\n",
    "The random module has a set of methods:"
   ]
  },
  {
   "cell_type": "markdown",
   "id": "e4b74921-cefd-4abc-b12c-ae6a41e6deea",
   "metadata": {},
   "source": [
    "| Method            | Description                                                                                                                                            |\n",
    "| ----------------- | ------------------------------------------------------------------------------------------------------------------------------------------------------ |\n",
    "| seed()            | Initialize the random number generator                                                                                                                 |\n",
    "| getstate()        | Returns the current internal state of the random number generator                                                                                      |\n",
    "| setstate()        | Restores the internal state of the random number generator                                                                                             |\n",
    "| getrandbits()     | Returns a number representing the random bits                                                                                                          |\n",
    "| randrange()       | Returns a random number between the given range                                                                                                        |\n",
    "| randint()         | Returns a random number between the given range                                                                                                        |\n",
    "| choice()          | Returns a random element from the given sequence                                                                                                       |\n",
    "| choices()         | Returns a list with a random selection from the given sequence                                                                                         |\n",
    "| shuffle()         | Takes a sequence and returns the sequence in a random order                                                                                            |\n",
    "| sample()          | Returns a given sample of a sequence                                                                                                                   |\n",
    "| random()          | Returns a random float number between 0 and 1                                                                                                          |\n",
    "| uniform()         | Returns a random float number between two given parameters                                                                                             |\n",
    "| triangular()      | Returns a random float number between two given parameters, you can also set a mode parameter to specify the midpoint between the two other parameters |\n",
    "| betavariate()     | Returns a random float number between 0 and 1 based on the Beta distribution (used in statistics)                                                      |\n",
    "| expovariate()     | Returns a random float number based on the Exponential distribution (used in statistics)                                                               |\n",
    "| gammavariate()    | Returns a random float number based on the Gamma distribution (used in statistics)                                                                     |\n",
    "| gauss()           | Returns a random float number based on the Gaussian distribution (used in probability theories)                                                        |\n",
    "| lognormvariate()  | Returns a random float number based on a log-normal distribution (used in probability theories)                                                        |\n",
    "| normalvariate()   | Returns a random float number based on the normal distribution (used in probability theories)                                                          |\n",
    "| vonmisesvariate() | Returns a random float number based on the von Mises distribution (used in directional statistics)                                                     |\n",
    "| paretovariate()   | Returns a random float number based on the Pareto distribution (used in probability theories)                                                          |\n",
    "| weibullvariate()  | Returns a random float number based on the Weibull distribution (used in statistics)                                                                   |"
   ]
  },
  {
   "cell_type": "markdown",
   "id": "fef867e8-dccf-400b-b404-fbbc25bdbc39",
   "metadata": {
    "jp-MarkdownHeadingCollapsed": true
   },
   "source": [
    "# Python Requests Module"
   ]
  },
  {
   "cell_type": "markdown",
   "id": "ef7948d3-4f0d-4775-b75f-665c6b045a0d",
   "metadata": {},
   "source": [
    "**Definition and Usage**  \n",
    "The requests module allows you to send HTTP requests using Python.\n",
    "\n",
    "The HTTP request returns a Response Object with all the response data (content, encoding, status, etc).\n",
    "\n",
    "**Download and Install the Requests Module**  \n",
    "Navigate your command line to the location of PIP, and type the following:\n",
    "\n",
    "pip install requests  \n",
    "**Syntax**  \n",
    "requests.methodname(params)  \n",
    "**Methods**  \n",
    "| Method                      | Description                                                  |\n",
    "| --------------------------- | ------------------------------------------------------------ |\n",
    "| delete(url, args)           | Sends a DELETE request to the specified url                  |\n",
    "| get(url, params, args)      | Sends a GET request to the specified url                     |\n",
    "| head(url, args)             | Sends a HEAD request to the specified url                    |\n",
    "| patch(url, data, args)      | Sends a PATCH request to the specified url                   |\n",
    "| post(url, data, json, args) | Sends a POST request to the specified url                    |\n",
    "| put(url, data, args)        | Sends a PUT request to the specified url                     |\n",
    "| request(method, url, args)  | Sends a request of the specified method to the specified url |"
   ]
  },
  {
   "cell_type": "code",
   "execution_count": 848,
   "id": "5e2196a4-d6ae-4f2b-aa6f-0310ebf0686e",
   "metadata": {},
   "outputs": [
    {
     "name": "stdout",
     "output_type": "stream",
     "text": [
      "<!DOCTYPE html>\n",
      "<html lang=\"en\">\n",
      "<head>\n",
      "  <title>world's smallest park</title>\n",
      "  <!-- <link rel=\"shortcut icon\" type=\"image/png\" href=\"\"/> -->\n",
      "\n",
      "  <meta charset=\"UTF-8\" />\n",
      "  <meta name=\"viewport\" content=\"width=device-width,initial-scale=1.0\">\n",
      "\n",
      "  <link rel=\"preload\" href=\"wikipg-dark-min.png\" as=\"image\">\n",
      "\n",
      "  <!-- load css stylesheets -->\n",
      "  <link rel=\"stylesheet\" href=\"millendsparkCSS/millendspark.css\">\n",
      "  <link rel=\"preconnect\" href=\"https://fonts.googleapis.com\">\n",
      "  <link rel=\"preconnect\" href=\"https://fonts.gstatic.com\" crossorigin>\n",
      "  <link href=\"https://fonts.googleapis.com/css2?family=VT323&display=swap\" rel=\"stylesheet\">\n",
      "  <script src=\"https://ajax.googleapis.com/ajax/libs/jquery/3.6.4/jquery.min.js\"></script>\n",
      "  <script src=\"millendsparkJS.js\"></script>\n",
      "</head>\n",
      "<!-- Google tag (gtag.js) -->\n",
      "<script async src=\"https://www.googletagmanager.com/gtag/js?id=G-FNJPR9M8Z3\"></script>\n",
      "<script>\n",
      "  window.dataLayer = window.dataLayer || [];\n",
      "  function gtag(){dataLayer.push(arguments);}\n",
      "  gtag('js', new Date());\n",
      "\n",
      "  gtag('config', 'G-FNJPR9M8Z3', {\n",
      "  'page_title': 'home'\n",
      "  });\n",
      "</script>\n",
      "<body>\n",
      "  <div class=\"description-container\">\n",
      "    <h1>the world's smallest website<br>for the world's smallest park</h1>\n",
      "  </div>\n",
      "  <div class=\"mini-site-container\">\n",
      "    <div class=\"mini-site\">\n",
      "      <div class=\"svg-container\">\n",
      "        <svg xmlns=\"http://www.w3.org/2000/svg\" viewBox=\"0 0 500 500\"><g id=\"landing\">\n",
      "          <g id=\"landingbg\"><rect y=\"435.4\" width=\"500\" height=\"64.6\" fill=\"#f2f2f2\"/><rect x=\"0.35\" width=\"500\" height=\"435.4\" fill=\"#b1d5e9\"/><path d=\"M168.37,122.12V113h-9.12v.47l-.18-.47h.18v-9.11h-9.12V94.77H131.9v.12a1.36,1.36,0,0,1-.12-.12h.12V85.65h-9l-.08-.06V76.53h-9.12v9.12h.19l-.19.12v-.12h-9.12v17.93l-.1.31H77.19V113H68.07v9.12H59v9.12H177.48v-9.12Z\" fill=\"#fff\" opacity=\"0.5\"/><text transform=\"translate(157.49 239.33)\" font-size=\"30.08\" fill=\"#fff\" font-family=\"VT323-Regular, VT323\">PORTLAND, OREGON</text><text transform=\"translate(80.96 206.97)\" font-size=\"61.45\" fill=\"#fff\" font-family=\"VT323-Regular, VT323\">MILL ENDS PARK</text><rect x=\"235.74\" y=\"430.92\" width=\"41.45\" height=\"4.49\" fill=\"#fff\"/><rect x=\"236.59\" y=\"368.49\" width=\"40.86\" height=\"40.86\" fill=\"#9c9\"/><rect x=\"254.21\" y=\"381.71\" width=\"2.66\" height=\"49.16\" fill=\"#a67c52\"/><rect x=\"256.87\" y=\"394.84\" width=\"2.38\" height=\"2.38\" fill=\"#a67c52\"/><rect x=\"259.25\" y=\"392.46\" width=\"2.38\" height=\"2.38\" fill=\"#a67c52\"/><rect x=\"261.63\" y=\"390.07\" width=\"2.38\" height=\"2.38\" fill=\"#a67c52\"/><rect x=\"264.02\" y=\"387.69\" width=\"2.38\" height=\"2.38\" fill=\"#a67c52\"/><path d=\"M193.74,140.36h-1.57V122.12h-9.12V113H164.81v.11l-.11-.11h.11v-9.11H137.46v17.92l-.11.31h-9v18.17l-.48.07H110.11v9.11h91.17v-9.11Z\" fill=\"#fff\" opacity=\"0.5\"/><rect x=\"387.25\" y=\"87.69\" width=\"52.93\" height=\"8.79\" fill=\"#fdcb67\"/><rect x=\"387.25\" y=\"78.9\" width=\"52.93\" height=\"8.79\" fill=\"#fdcb67\"/><rect x=\"404.82\" y=\"70.11\" width=\"8.79\" height=\"8.79\" fill=\"#fdcb67\"/><rect x=\"396.04\" y=\"70.11\" width=\"8.79\" height=\"8.79\" fill=\"#fdcb67\"/><rect x=\"387.25\" y=\"105.27\" width=\"52.93\" height=\"8.79\" fill=\"#fdcb67\"/><rect x=\"387.25\" y=\"96.48\" width=\"52.93\" height=\"8.79\" fill=\"#fdcb67\"/><rect x=\"422.4\" y=\"70.11\" width=\"8.79\" height=\"8.79\" fill=\"#fdcb67\"/><rect x=\"413.61\" y=\"70.11\" width=\"8.79\" height=\"8.79\" fill=\"#fdcb67\"/><rect x=\"431.19\" y=\"70.11\" width=\"8.79\" height=\"8.79\" fill=\"#fdcb67\"/><rect x=\"387.25\" y=\"114.06\" width=\"52.93\" height=\"8.79\" fill=\"#fdcb67\"/><rect x=\"405.02\" y=\"122.85\" width=\"8.79\" height=\"8.79\" fill=\"#fdcb67\"/><rect x=\"396.23\" y=\"122.85\" width=\"8.79\" height=\"8.79\" fill=\"#fdcb67\"/><rect x=\"422.6\" y=\"122.85\" width=\"8.79\" height=\"8.79\" fill=\"#fdcb67\"/><rect x=\"413.81\" y=\"122.85\" width=\"8.79\" height=\"8.79\" fill=\"#fdcb67\"/><rect x=\"431.39\" y=\"122.85\" width=\"8.79\" height=\"8.79\" fill=\"#fdcb67\"/><rect x=\"440.18\" y=\"87.69\" width=\"8.79\" height=\"8.79\" fill=\"#fdcb67\"/><rect x=\"440.18\" y=\"78.9\" width=\"8.79\" height=\"8.79\" fill=\"#fdcb67\"/><rect x=\"440.18\" y=\"105.27\" width=\"8.79\" height=\"8.79\" fill=\"#fdcb67\"/><rect x=\"440.18\" y=\"96.48\" width=\"8.79\" height=\"8.79\" fill=\"#fdcb67\"/><rect x=\"440.18\" y=\"114.06\" width=\"8.79\" height=\"8.79\" fill=\"#fdcb67\"/><path d=\"M364.13,132.13h1.42V113.89h8.24v-9.11h16.49v.1l.1-.1h-.1V95.66H415v17.92l.09.31h8.15v18.17l.43.07h16.06v9.12H357.3v-9.12Z\" fill=\"#fff\" opacity=\"0.5\"/></g>\n",
      "\n",
      "          <a href=\"bigger.html\"><g id=\"landingbutton\"><rect x=\"192.91\" y=\"271.06\" width=\"122.58\" height=\"54.55\" fill=\"#f2f2f2\"/><text transform=\"translate(214.57 305.91)\" font-size=\"27.53\" fill=\"#b3b3b3\" font-family=\"VT323-Regular, VT323\">EXPLORE</text></g></a></g></svg>\n",
      "      </div>\n",
      "      \n",
      "    </div>\n",
      "  </div>\n",
      "  <div class=\"credit-container\">\n",
      "    <h1>built by<br>@bonneyruan</h1>\n",
      "  </div>\n",
      "  <div class=\"zoom-button-container\">\n",
      "    <button id=\"zoom-button\">\n",
      "      <h2>zoom in</h2>\n",
      "    </button>\n",
      "  </div>\n",
      "</body>\n"
     ]
    }
   ],
   "source": [
    "#Make a request to a web page, and print the response text:\n",
    "\n",
    "import requests\n",
    "x = requests.get('https://millends.com/')\n",
    "print(x.text)"
   ]
  },
  {
   "cell_type": "markdown",
   "id": "b79e05e7-4973-4120-8d1d-6ed570074f44",
   "metadata": {
    "jp-MarkdownHeadingCollapsed": true
   },
   "source": [
    "# Python statistics Module"
   ]
  },
  {
   "attachments": {},
   "cell_type": "markdown",
   "id": "bb3504c4-91c0-4b47-b7f0-8c0d123ac57d",
   "metadata": {},
   "source": [
    "Python has a built-in module that you can use to calculate mathematical statistics of numeric data.\n",
    "\n",
    "The statistics module was new in Python 3.4.\n",
    "\n",
    "**Statistics Methods**  \n",
    "| Method                      | Description                                                                 |\n",
    "| --------------------------- | --------------------------------------------------------------------------- |\n",
    "| statistics.harmonic_mean()  | Calculates the harmonic mean (central location) of the given data           |\n",
    "| statistics.mean()           | Calculates the mean (average) of the given data                             |\n",
    "| statistics.median()         | Calculates the median (middle value) of the given data                      |\n",
    "| statistics.median_grouped() | Calculates the median of grouped continuous data                            |\n",
    "| statistics.median_high()    | Calculates the high median of the given data                                |\n",
    "| statistics.median_low()     | Calculates the low median of the given data                                 |\n",
    "| statistics.mode()           | Calculates the mode (central tendency) of the given numeric or nominal data |\n",
    "| statistics.pstdev()         | Calculates the standard deviation from an entire population                 |\n",
    "| statistics.stdev()          | Calculates the standard deviation from a sample of data                     |\n",
    "| statistics.pvariance()      | Calculates the variance of an entire population                             |\n",
    "| statistics.variance()       | Calculates the variance from a sample of data                               |"
   ]
  },
  {
   "cell_type": "markdown",
   "id": "406fee3d-e2f8-466e-9753-dded57ce3ecf",
   "metadata": {
    "jp-MarkdownHeadingCollapsed": true
   },
   "source": [
    "# Python math Module"
   ]
  },
  {
   "cell_type": "markdown",
   "id": "fb76d871-2aca-4cda-bad6-5780b095cca0",
   "metadata": {},
   "source": [
    "Python has a built-in module that you can use for mathematical tasks.\n",
    "\n",
    "The math module has a set of methods and constants.\n",
    "\n",
    "**Math Methods**  \n",
    "| Method           | Description                                                                                                  |\n",
    "| ---------------- | ------------------------------------------------------------------------------------------------------------ |\n",
    "| math.acos()      | Returns the arc cosine of a number                                                                           |\n",
    "| math.acosh()     | Returns the inverse hyperbolic cosine of a number                                                            |\n",
    "| math.asin()      | Returns the arc sine of a number                                                                             |\n",
    "| math.asinh()     | Returns the inverse hyperbolic sine of a number                                                              |\n",
    "| math.atan()      | Returns the arc tangent of a number in radians                                                               |\n",
    "| math.atan2()     | Returns the arc tangent of y/x in radians                                                                    |\n",
    "| math.atanh()     | Returns the inverse hyperbolic tangent of a number                                                           |\n",
    "| math.ceil()      | Rounds a number up to the nearest integer                                                                    |\n",
    "| math.comb()      | Returns the number of ways to choose k items from n items without repetition and order                       |\n",
    "| math.copysign()  | Returns a float consisting of the value of the first parameter and the sign of the second parameter          |\n",
    "| math.cos()       | Returns the cosine of a number                                                                               |\n",
    "| math.cosh()      | Returns the hyperbolic cosine of a number                                                                    |\n",
    "| math.degrees()   | Converts an angle from radians to degrees                                                                    |\n",
    "| math.dist()      | Returns the Euclidean distance between two points (p and q), where p and q are the coordinates of that point |\n",
    "| math.erf()       | Returns the error function of a number                                                                       |\n",
    "| math.erfc()      | Returns the complementary error function of a number                                                         |\n",
    "| math.exp()       | Returns E raised to the power of x                                                                           |\n",
    "| math.expm1()     | Returns Ex - 1                                                                                               |\n",
    "| math.fabs()      | Returns the absolute value of a number                                                                       |\n",
    "| math.factorial() | Returns the factorial of a number                                                                            |\n",
    "| math.floor()     | Rounds a number down to the nearest integer                                                                  |\n",
    "| math.fmod()      | Returns the remainder of x/y                                                                                 |\n",
    "| math.frexp()     | Returns the mantissa and the exponent, of a specified number                                                 |\n",
    "| math.fsum()      | Returns the sum of all items in any iterable (tuples, arrays, lists, etc.)                                   |\n",
    "| math.gamma()     | Returns the gamma function at x                                                                              |\n",
    "| math.gcd()       | Returns the greatest common divisor of two integers                                                          |\n",
    "| math.hypot()     | Returns the Euclidean norm                                                                                   |\n",
    "| math.isclose()   | Checks whether two values are close to each other, or not                                                    |\n",
    "| math.isfinite()  | Checks whether a number is finite or not                                                                     |\n",
    "| math.isinf()     | Checks whether a number is infinite or not                                                                   |\n",
    "| math.isnan()     | Checks whether a value is NaN (not a number) or not                                                          |\n",
    "| math.isqrt()     | Rounds a square root number downwards to the nearest integer                                                 |\n",
    "| math.ldexp()     | Returns the inverse of math.frexp() which is x \\* (2\\*\\*i) of the given numbers x and i                      |\n",
    "| math.lgamma()    | Returns the log gamma value of x                                                                             |\n",
    "| math.log()       | Returns the natural logarithm of a number, or the logarithm of number to base                                |\n",
    "| math.log10()     | Returns the base-10 logarithm of x                                                                           |\n",
    "| math.log1p()     | Returns the natural logarithm of 1+x                                                                         |\n",
    "| math.log2()      | Returns the base-2 logarithm of x                                                                            |\n",
    "| math.perm()      | Returns the number of ways to choose k items from n items with order and without repetition                  |\n",
    "| math.pow()       | Returns the value of x to the power of y                                                                     |\n",
    "| math.prod()      | Returns the product of all the elements in an iterable                                                       |\n",
    "| math.radians()   | Converts a degree value into radians                                                                         |\n",
    "| math.remainder() | Returns the closest value that can make numerator completely divisible by the denominator                    |\n",
    "| math.sin()       | Returns the sine of a number                                                                                 |\n",
    "| math.sinh()      | Returns the hyperbolic sine of a number                                                                      |\n",
    "| math.sqrt()      | Returns the square root of a number                                                                          |\n",
    "| math.tan()       | Returns the tangent of a number                                                                              |\n",
    "| math.tanh()      | Returns the hyperbolic tangent of a number                                                                   |\n",
    "| math.trunc()     | Returns the truncated integer parts of a number                                                              |"
   ]
  },
  {
   "cell_type": "markdown",
   "id": "13d240cd-5fd1-4197-8cb1-185752517323",
   "metadata": {},
   "source": [
    "**Math Constants**  \n",
    "| Constant | Description                                       |\n",
    "| -------- | ------------------------------------------------- |\n",
    "| math.e   | Returns Euler's number (2.7182...)                |\n",
    "| math.inf | Returns a floating-point positive infinity        |\n",
    "| math.nan | Returns a floating-point NaN (Not a Number) value |\n",
    "| math.pi  | Returns PI (3.1415...)                            |\n",
    "| math.tau | Returns tau (6.2831...)                           |"
   ]
  },
  {
   "cell_type": "markdown",
   "id": "e82e78e2-88ef-435f-b5bc-4bfd9da333b1",
   "metadata": {
    "jp-MarkdownHeadingCollapsed": true
   },
   "source": [
    "# Python cmath Module"
   ]
  },
  {
   "cell_type": "markdown",
   "id": "b47744d8-f837-434c-8fa3-776c2462b190",
   "metadata": {},
   "source": [
    "Python has a built-in module that you can use for mathematical tasks for complex numbers.\n",
    "\n",
    "The methods in this module accepts int, float, and complex numbers. It even accepts Python objects that has a __ complex __() or __ float __() method.\n",
    "\n",
    "The methods in this module almost always return a complex number. If the return value can be expressed as a real number, the return value has an imaginary part of 0.\n",
    "\n",
    "The cmath module has a set of methods and constants."
   ]
  },
  {
   "cell_type": "markdown",
   "id": "e62fec83-fa19-41f6-857f-59b4ecdf736a",
   "metadata": {},
   "source": [
    "**cMath Methods**  \n",
    "| Method               | Description                                                                                                      |\n",
    "| -------------------- | ---------------------------------------------------------------------------------------------------------------- |\n",
    "| cmath.acos(x)        | Returns the arc cosine value of x                                                                                |\n",
    "| cmath.acosh(x)       | Returns the hyperbolic arc cosine of x                                                                           |\n",
    "| cmath.asin(x)        | Returns the arc sine of x                                                                                        |\n",
    "| cmath.asinh(x)       | Returns the hyperbolic arc sine of x                                                                             |\n",
    "| cmath.atan(x)        | Returns the arc tangent value of x                                                                               |\n",
    "| cmath.atanh(x)       | Returns the hyperbolic arctangent value of x                                                                     |\n",
    "| cmath.cos(x)         | Returns the cosine of x                                                                                          |\n",
    "| cmath.cosh(x)        | Returns the hyperbolic cosine of x                                                                               |\n",
    "| cmath.exp(x)         | Returns the value of Ex, where E is Euler's number (approximately 2.718281...), and x is the number passed to it |\n",
    "| cmath.isclose()      | Checks whether two values are close, or not                                                                      |\n",
    "| cmath.isfinite(x)    | Checks whether x is a finite number                                                                              |\n",
    "| cmath.isinf(x)       | Check whether x is a positive or negative infinty                                                                |\n",
    "| cmath.isnan(x)       | Checks whether x is NaN (not a number)                                                                           |\n",
    "| cmath.log(x[, base]) | Returns the logarithm of x to the base                                                                           |\n",
    "| cmath.log10(x)       | Returns the base-10 logarithm of x                                                                               |\n",
    "| cmath.phase()        | Return the phase of a complex number                                                                             |\n",
    "| cmath.polar()        | Convert a complex number to polar coordinates                                                                    |\n",
    "| cmath.rect()         | Convert polar coordinates to rectangular form                                                                    |\n",
    "| cmath.sin(x)         | Returns the sine of x                                                                                            |\n",
    "| cmath.sinh(x)        | Returns the hyperbolic sine of x                                                                                 |\n",
    "| cmath.sqrt(x)        | Returns the square root of x                                                                                     |\n",
    "| cmath.tan(x)         | Returns the tangent of x                                                                                         |\n",
    "| cmath.tanh(x)        | Returns the hyperbolic tangent of x                                                                              |"
   ]
  },
  {
   "cell_type": "markdown",
   "id": "f10248da-15aa-4865-a785-037a6f066572",
   "metadata": {},
   "source": [
    "**cMath Constants**  \n",
    "| Constant   | Description                                      |\n",
    "| ---------- | ------------------------------------------------ |\n",
    "| cmath.e    | Returns Euler's number (2.7182...)               |\n",
    "| cmath.inf  | Returns a floating-point positive infinity value |\n",
    "| cmath.infj | Returns a complex infinity value                 |\n",
    "| cmath.nan  | Returns floating-point NaN (Not a Number) value  |\n",
    "| cmath.nanj | Returns coplext NaN (Not a Number) value         |\n",
    "| cmath.pi   | Returns PI (3.1415...)                           |\n",
    "| cmath.tau  | Returns tau (6.2831...)                          |"
   ]
  }
 ],
 "metadata": {
  "kernelspec": {
   "display_name": "Python 3 (ipykernel)",
   "language": "python",
   "name": "python3"
  },
  "language_info": {
   "codemirror_mode": {
    "name": "ipython",
    "version": 3
   },
   "file_extension": ".py",
   "mimetype": "text/x-python",
   "name": "python",
   "nbconvert_exporter": "python",
   "pygments_lexer": "ipython3",
   "version": "3.12.4"
  }
 },
 "nbformat": 4,
 "nbformat_minor": 5
}
